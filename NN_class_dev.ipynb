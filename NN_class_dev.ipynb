{
  "nbformat": 4,
  "nbformat_minor": 0,
  "metadata": {
    "colab": {
      "name": "NN_class_dev.ipynb",
      "provenance": [],
      "collapsed_sections": [],
      "include_colab_link": true
    },
    "kernelspec": {
      "name": "python3",
      "display_name": "Python 3"
    },
    "language_info": {
      "name": "python"
    }
  },
  "cells": [
    {
      "cell_type": "markdown",
      "metadata": {
        "id": "view-in-github",
        "colab_type": "text"
      },
      "source": [
        "<a href=\"https://colab.research.google.com/github/leonSadowski/sc_Hierarchical_Classifier/blob/main/NN_class_dev.ipynb\" target=\"_parent\"><img src=\"https://colab.research.google.com/assets/colab-badge.svg\" alt=\"Open In Colab\"/></a>"
      ]
    },
    {
      "cell_type": "code",
      "source": [
        "import numpy as np \n",
        "import tensorflow as tf \n",
        "import tensorflow.keras as keras \n",
        "from sklearn.preprocessing import LabelEncoder\n",
        "import pandas as pd\n",
        "import networkx as nx"
      ],
      "metadata": {
        "id": "XAInitxPwiAO"
      },
      "execution_count": null,
      "outputs": []
    },
    {
      "cell_type": "markdown",
      "source": [
        "**Create Class for local (NN) classifier**"
      ],
      "metadata": {
        "id": "FeZG7IAvwWzS"
      }
    },
    {
      "cell_type": "code",
      "execution_count": null,
      "metadata": {
        "id": "A0eeCUgYwORc"
      },
      "outputs": [],
      "source": [
        "class Neural_Network():\n",
        "\n",
        "  def __init__(self, \n",
        "               x_input_data,\n",
        "               y_input_data,\n",
        "               z_transform_input = True,\n",
        "               list_of_hidden_layer_nodes = [30],\n",
        "               activation_function = 'relu',\n",
        "               learning_rate = 0.001,\n",
        "               momentum = .9,\n",
        "               loss_function = 'categorical_crossentropy',\n",
        "               epochs = 50):\n",
        "    \n",
        "    self.x_input_data = x_input_data\n",
        "    self.y_input_data = y_input_data\n",
        "    self.list_of_layer_nodes = [len(self.x_input_data[0])] + [nodes for nodes in list_of_hidden_layer_nodes] + [len(self.y_input_data.cat.categories)] \n",
        "    self.activation_function = activation_function \n",
        "    self.learning_rate = learning_rate\n",
        "    self.momentum = momentum\n",
        "    self.loss_function = loss_function\n",
        "    self.epochs = epochs\n",
        "    self.z_transform_input = z_transform_input\n",
        "\n",
        "    #create model\n",
        "\n",
        "    self.model = keras.models.Sequential()\n",
        "\n",
        "    for nodes, layer_idx in zip(self.list_of_layer_nodes, range(0, len(self.list_of_layer_nodes)-1)):\n",
        "\n",
        "      self.model.add(keras.layers.Dense(\n",
        "          input_shape = (nodes,),\n",
        "          units = self.list_of_layer_nodes[layer_idx+1],                            #Ausgabeknotenanzahl == Anzahl Knoten der nächsten Schicht\n",
        "          kernel_initializer = 'glorot_uniform',                                    #default      \n",
        "          bias_initializer = 'zeros',                                               #werden die im fit berücksichtigt?\n",
        "          activation = self.activation_function if layer_idx == 0 else 'softmax'))  #actication als default 'relu', in letzter schicht 'softmax'\n",
        "        \n",
        "\n",
        "  def process_input_data(self):\n",
        "\n",
        "    #z transformation \n",
        "\n",
        "    def z_transform_properties(data_arr):\n",
        "      '''Calculates a z transformation to center properties across cells in data_arr around mean zero'''\n",
        "      \n",
        "      mean_vals = np.mean(data_arr, axis=0)\n",
        "      std_val = np.std(data_arr)\n",
        "\n",
        "      data_transformed = (data_arr - mean_vals) / std_val\n",
        "\n",
        "      return data_transformed\n",
        "\n",
        "\n",
        "    if self.z_transform_input:\n",
        "      \n",
        "      self.x_input_data = z_transform_properties(self.x_input_data)\n",
        "\n",
        "    #converting labels of y_input_data to integers (mapping 'label'->int)\n",
        "\n",
        "    if isinstance(self.y_input_data, pd.Series):\n",
        "      #encode categorical labels from pandas Series as integers\n",
        "      self.label_encoder = LabelEncoder()\n",
        "      self.y_input_data_int = self.label_encoder.fit_transform(self.y_input_data.values)\n",
        "\n",
        "    elif isinstance(self.y_input_data[0], np.array) and isinstance(self.y_input_data.dtype == int):\n",
        "      self.y_input_data_int = self.y_input_data\n",
        "\n",
        "    else:\n",
        "\n",
        "      print('Error: Invalid or unknown Data Type for Y Input data')\n",
        "\n",
        "  \n",
        "\n",
        "    #split data (TO DO: implement scikit.learn cross_val_score for k-fold cross validation)\n",
        "\n",
        "    split_data_index = int(2/3 * len(self.x_input_data))\n",
        "\n",
        "    self.x_training_input = self.x_input_data[ : split_data_index]\n",
        "    self.y_training_input_int = self.y_input_data_int[ : split_data_index]\n",
        "\n",
        "    self.x_test_input = self.x_input_data[split_data_index : ]\n",
        "    self.y_test_input_int = self.y_input_data_int[split_data_index : ]\n",
        "\n",
        "    #use integer y_input data for OneHot Encoding (int -> e_i element R^(int+1)) needed for model training\n",
        "\n",
        "    self.y_training_onehot = keras.utils.to_categorical(self.y_training_input_int)\n",
        "    self.y_test_onehot = keras.utils.to_categorical(self.y_test_input_int)\n",
        "\n",
        "\n",
        "  def train(self):\n",
        "    '''Train the NN using the x_training_data input and onehot encoded y_training_onehot'''\n",
        "\n",
        "    self.optimizer = keras.optimizers.SGD(learning_rate = self.learning_rate, momentum = self.momentum)\n",
        "    \n",
        "    self.model.compile(optimizer = self.optimizer, loss = self.loss_function)\n",
        "\n",
        "    history = self.model.fit(self.x_training_input, self.y_training_onehot,\n",
        "                        batch_size = 64, epochs = self.epochs, \n",
        "                        verbose = 1,\n",
        "                        validation_split = .1)\n",
        "    \n",
        "  def predict(self, input_vec):\n",
        "    '''Calculate and return label prediction of trained model for an input vector\n",
        "        input_vec (dtype=int)'''\n",
        "\n",
        "    pred_vec = np.argmax(self.model.predict(input_vec), axis = -1) #-1?\n",
        "\n",
        "    return pred_vec\n",
        "\n",
        "\n",
        "  def validate(self):\n",
        "\n",
        "    self.y_training_preds = self.predict(self.x_training_input)\n",
        "    self.y_test_preds = self.predict(self.x_test_input) \n",
        "\n",
        "    def calc_acc(pred_vec, known_vec):\n",
        "      \n",
        "      if type(pred_vec) == type(known_vec):\n",
        "        acc = np.sum(pred_vec == known_vec, axis = 0) / len(known_vec)\n",
        "      else:\n",
        "        print('self.validate: Error! Comparison of different label encoding!')\n",
        "      \n",
        "      return acc\n",
        "\n",
        "    self.train_acc = calc_acc(self.y_training_preds, self.y_training_input_int) \n",
        "    self.test_acc = calc_acc(self.y_test_preds, self.y_test_input_int)\n",
        "\n",
        "\n",
        "  def local_classifier_output(self):\n",
        "    '''Evaluate all relevant output of this local classifier\n",
        "    e.g.:\n",
        "    self.process_input_data()\n",
        "    self.train()\n",
        "    self.validate()'''\n",
        "\n",
        "    pass\n",
        "\n",
        "    #missing: potential decoding int->'label', dtype='category'\n",
        "\n"
      ]
    },
    {
      "cell_type": "code",
      "source": [
        "class Parent_Node():\n",
        "\n",
        "#    need attributes: \n",
        "#      - input data to local classifier\n",
        "#      -output vector (predicitions) of following(?) local classifer\n",
        "#      \n",
        "#      need methods:\n",
        "#      - run local calssifier model (best case: generate relevant information for initializing neural network\n",
        "#      from given list/dict, which defines the subsets, e.g {'TNK':[CD4T, CD8T], etc})\n",
        "\n",
        "  def __init__(self, x_input_data, y_input_data):\n",
        "    '''Params:\n",
        "      - input_data: pd.Series from AnnData Object or np.array,dtype=int -> local classifier will take care of that\n",
        "    '''\n",
        "\n",
        "    self.x_input_data = x_input_data\n",
        "    self.y_input_data = y_input_data\n",
        "\n",
        "    self.local_classifier = Neural_Network(self.x_input_data, self.y_input_data)\n",
        "\n",
        "    def run_local_classifier(self):\n",
        "\n",
        "      self.local_classifier.train()\n",
        "\n",
        "      #save prediction vector of this local classifier (notice: len(self.children_node_predictions) = #nodes in next level)\n",
        "      self.children_node_predictions = self.local_classifier.predict(self.local_classifier.x_test_input)\n",
        "\n",
        "     \n",
        "\n",
        "\n",
        "#use Parent_Node() objects in hierarchical classifier -> implement network of parent node objects"
      ],
      "metadata": {
        "id": "o_AXxnDv4rQW"
      },
      "execution_count": null,
      "outputs": []
    },
    {
      "cell_type": "code",
      "source": [
        "class Node_Memory():\n",
        "\n",
        "  def __init__(self, x_input_data = None, y_input_data = None, local_classifier = None, local_classifier_params = []):\n",
        "\n",
        "      #local_classifier argument is the Class of classifier (eg Neural_Network (classifier specific params, input and output needed for every possible classifier))\n",
        "      \n",
        "      self.x_input_data = x_input_data #processing wird von local classifier übernommen (CAVE bei Verwendung anderer LC (eg SVM), dass preprocessing einheitlich ist)\n",
        "      self.y_input_data = y_input_data \n",
        "\n",
        "      if local_classifier != None:\n",
        "        self.local_classifier = local_classifier(self.x_input_data, self.y_input_data, *local_classifier_params)\n",
        "      \n",
        "      self.noderelevant_input_data_indices = None #save indices of data in input vector, that will be used for prediction in order to compute accuracy\n",
        "      self.prediction_vec = None\n",
        "\n",
        "    \n",
        "  def run_local_classifier(self):\n",
        "\n",
        "    self.local_classifier.train()\n",
        "  \n",
        "  def local_classifier_prediction(self, input_vec): #hier muss noch was passieren, prediction von außen für bestimmte inputs aufrufen\n",
        "\n",
        "    self.local_classifier.predict(input_vec)\n",
        "\n",
        "  def subsetting_of_prediction_vector(self):\n",
        "    pass"
      ],
      "metadata": {
        "id": "sZJiCqeZ0gKw"
      },
      "execution_count": null,
      "outputs": []
    },
    {
      "cell_type": "code",
      "source": [
        "def make_graph_from_edges(d, g, parent_key=''):\n",
        "    for key in d.keys():\n",
        "        if parent_key != '':\n",
        "            g.add_edge(parent_key, key)\n",
        "        if len(d[key]) == 0:\n",
        "            pass\n",
        "        else:\n",
        "            make_graph_from_edges(d[key], g, parent_key=key)"
      ],
      "metadata": {
        "id": "sUU8Yb1TmIUK"
      },
      "execution_count": null,
      "outputs": []
    },
    {
      "cell_type": "code",
      "source": [
        "class Hierarchical_Classifier():\n",
        "  '''Class connects Nodes of Local Classifiers, passes results to children classifiers and forms the final hierarchical classifier''' \n",
        "\n",
        "  def __init__(self, dict_of_cell_relations):\n",
        "    '''Params\n",
        "        - dict_of_cell_relations: used for initializing network structure of hierarchical classifier'''\n",
        "    self.dict_of_cell_relations = dict_of_cell_relations\n",
        "\n",
        "\n",
        "  def make_classifier_graph(self):\n",
        "    '''Compute Graph from a given dictionary of cell relationships'''\n",
        "    self.graph = nx.DiGraph()\n",
        "    make_graph_from_edges(self.dict_of_cell_relations, self.graph)\n",
        "\n",
        "  def init_node_memory_object(self, node, memory_class_params=[]):\n",
        "    '''Add memory object to each node; memory object organizes all relevant local classifier params'''\n",
        "    self.graph.add_node(node, memory=Node_Memory(*memory_class_params))\n",
        "\n",
        "  def subset_pred_vec(self, node):\n",
        "    next_labels = [label for label in self.graph[node].keys()]\n",
        "    print(next_labels)\n",
        "    for next_label in next_labels:\n",
        "      print('bin in schleife')\n",
        "      temp_idx_vec = np.where(self.graph.nodes[node]['memory'].prediction_vec == next_label)\n",
        "\n",
        "      print(self.graph.nodes[node]['memory'].prediction_vec)\n",
        "\n",
        "      print(temp_idx_vec)\n",
        "      self.graph.nodes[next_label]['memory'].x_input_data = self.graph.nodes[node]['memory'].x_input_data[temp_idx_vec]\n",
        "\n"
      ],
      "metadata": {
        "id": "IQaUTDTS_X1J"
      },
      "execution_count": null,
      "outputs": []
    },
    {
      "cell_type": "code",
      "source": [
        "\n",
        "\n",
        "    # for next_label in next_labels:\n",
        "    #   print('bin in schleife')\n",
        "    #   temp_idx_vec = np.where(self.graph.nodes[node]['memory'].prediction_vec == next_label)\n",
        "    #   self.graph.nodes[next_label]['memory'].x_input_data = self.graph.nodes[node]['memory'].x_input_data[temp_idx_vec]"
      ],
      "metadata": {
        "id": "mW_PhU59OYUw"
      },
      "execution_count": null,
      "outputs": []
    },
    {
      "cell_type": "code",
      "source": [
        "    '''in methode subset_pred_vec:'''\n",
        "    # return next_labels\n",
        "\n",
        "    # damit for schleife für wirkliche pred_vec's funktioniert (insb der temp_idx_vec) muss die liste it ints mit dem decoder wieder in \n",
        "    # string labels umgeschrieben werden !"
      ],
      "metadata": {
        "colab": {
          "base_uri": "https://localhost:8080/",
          "height": 35
        },
        "id": "fzXlq28ZOQuI",
        "outputId": "e4a900b0-a269-4ded-914d-2d0a9f2b010e"
      },
      "execution_count": null,
      "outputs": [
        {
          "output_type": "execute_result",
          "data": {
            "text/plain": [
              "'in methode subset_pred_vec:'"
            ],
            "application/vnd.google.colaboratory.intrinsic+json": {
              "type": "string"
            }
          },
          "metadata": {},
          "execution_count": 175
        }
      ]
    },
    {
      "cell_type": "code",
      "source": [
        "\n",
        "\n",
        "  # def subset_pred_vec(self, node):\n",
        "  #   '''Method of HC in order to have access to labels of neighboring nodes of one node -> automatic subsetting\n",
        "  #      Requires already initialized memory attribute, which is given in case that the classifier has already been run'''\n",
        "\n",
        "  #   neighbor_labels = [key for key in self.graph[node].keys()] \n",
        "\n",
        "  #   return neighbor_labels\n",
        "\n",
        "\n",
        "  \n"
      ],
      "metadata": {
        "id": "NLqUdSycFnzS"
      },
      "execution_count": null,
      "outputs": []
    },
    {
      "cell_type": "markdown",
      "source": [
        "**#######################################################**\n",
        "**Messy Test bereich**"
      ],
      "metadata": {
        "id": "K-hKrllEGSri"
      }
    },
    {
      "cell_type": "code",
      "source": [
        "hc = Hierarchical_Classifier({'all': {'tnk':{'cd4t':{}, 'cd8t':{}}, 'm':{'cd17':{}, 'fc':{}}}})"
      ],
      "metadata": {
        "id": "AopRfZquzw_B"
      },
      "execution_count": null,
      "outputs": []
    },
    {
      "cell_type": "code",
      "source": [
        "hc.make_classifier_graph()"
      ],
      "metadata": {
        "id": "QfFjEg9JaXFl"
      },
      "execution_count": null,
      "outputs": []
    },
    {
      "cell_type": "code",
      "source": [
        "nx.draw(hc.graph, with_labels=True)"
      ],
      "metadata": {
        "colab": {
          "base_uri": "https://localhost:8080/",
          "height": 319
        },
        "id": "9MZEfZj29EKu",
        "outputId": "9fc639a9-4fdc-4860-bc4e-c034930f8312"
      },
      "execution_count": null,
      "outputs": [
        {
          "output_type": "display_data",
          "data": {
            "text/plain": [
              "<Figure size 432x288 with 1 Axes>"
            ],
            "image/png": "[encoded data removed]"
          },
          "metadata": {}
        }
      ]
    },
    {
      "cell_type": "code",
      "source": [
        "hc.init_node_memory_object('all')"
      ],
      "metadata": {
        "id": "SKkRYOES9J94"
      },
      "execution_count": null,
      "outputs": []
    },
    {
      "cell_type": "code",
      "source": [
        "for node in hc.graph.nodes:\n",
        "  hc.init_node_memory_object(node)"
      ],
      "metadata": {
        "id": "9R9sIU7P8ZRW"
      },
      "execution_count": null,
      "outputs": []
    },
    {
      "cell_type": "code",
      "source": [
        "hc.graph.nodes.data()"
      ],
      "metadata": {
        "colab": {
          "base_uri": "https://localhost:8080/"
        },
        "id": "inP3XhbR-vvk",
        "outputId": "28ac1ed6-cc08-4fef-ba66-81159f9fe80a"
      },
      "execution_count": null,
      "outputs": [
        {
          "output_type": "execute_result",
          "data": {
            "text/plain": [
              "NodeDataView({'all': {'memory': <__main__.Node_Memory object at 0x7f0f47fb76d0>}, 'tnk': {'memory': <__main__.Node_Memory object at 0x7f0f47e58e50>}, 'cd4t': {'memory': <__main__.Node_Memory object at 0x7f0f47e58990>}, 'cd8t': {'memory': <__main__.Node_Memory object at 0x7f0f47e58450>}, 'm': {'memory': <__main__.Node_Memory object at 0x7f0f47e58a90>}, 'cd17': {'memory': <__main__.Node_Memory object at 0x7f0f47e58410>}, 'fc': {'memory': <__main__.Node_Memory object at 0x7f0f47e58610>}})"
            ]
          },
          "metadata": {},
          "execution_count": 182
        }
      ]
    },
    {
      "cell_type": "code",
      "source": [
        "#Syntax erlaubt zugriff auf attribute des memory ojekts von node 'all'\n",
        "hc.graph.nodes['all']['memory'].prediction_vec"
      ],
      "metadata": {
        "id": "UB8sxowZJj50"
      },
      "execution_count": null,
      "outputs": []
    },
    {
      "cell_type": "code",
      "source": [
        "prediction_vec = ['tnk', 'm', 'm', 'm', 'tnk','tnk', 'm', 'tnk']"
      ],
      "metadata": {
        "id": "uFr5roSATlVM"
      },
      "execution_count": null,
      "outputs": []
    },
    {
      "cell_type": "code",
      "source": [
        "prediction_vec"
      ],
      "metadata": {
        "id": "9bCBbPuTTm75"
      },
      "execution_count": null,
      "outputs": []
    },
    {
      "cell_type": "code",
      "source": [
        "#Test der Hierarchical_Classifier.subset_pred_vec Methode \n",
        "\n",
        "\n",
        "#assign made up pred vec to node 'all'\n",
        "hc.graph.nodes['all']['memory'].prediction_vec = ['tnk', 'm', 'm', 'm', 'tnk','tnk', 'm', 'tnk']\n",
        "\n",
        "#assign made up input data to 'all' node, from which daughter nodes will be subsetting \n",
        "hc.graph.nodes['all']['memory'].x_input_data = [[0,0,0], [1,1,1], [2,2,2], [3,3,3], [4,4,4], [5,5,5], [6,6,6], [7,7,7]]\n"
      ],
      "metadata": {
        "colab": {
          "base_uri": "https://localhost:8080/"
        },
        "id": "-cYD1deKLky4",
        "outputId": "b3110c50-c4b3-4df5-fb20-c235bb91ee46"
      },
      "execution_count": null,
      "outputs": [
        {
          "output_type": "stream",
          "name": "stdout",
          "text": [
            "['tnk', 'm', 'm', 'm', 'tnk', 'tnk', 'm', 'tnk']\n"
          ]
        }
      ]
    },
    {
      "cell_type": "code",
      "source": [
        "print(np.array(hc.graph.nodes['all']['memory'].prediction_vec))\n",
        "\n",
        "next_labels = [label for label in hc.graph['all'].keys()]\n",
        "print(next_labels[0])\n",
        "idx_vec = np.where(np.array(hc.graph.nodes['all']['memory'].prediction_vec) == next_labels[0])\n",
        "print(idx_vec)"
      ],
      "metadata": {
        "colab": {
          "base_uri": "https://localhost:8080/"
        },
        "id": "SOat4ayRQ8lK",
        "outputId": "529a256c-c5ee-4589-fd05-542aff1cf6bf"
      },
      "execution_count": null,
      "outputs": [
        {
          "output_type": "stream",
          "name": "stdout",
          "text": [
            "['tnk' 'm' 'm' 'm' 'tnk' 'tnk' 'm' 'tnk']\n",
            "tnk\n",
            "(array([0, 4, 5, 7]),)\n"
          ]
        }
      ]
    },
    {
      "cell_type": "code",
      "source": [
        "\n",
        "hc.subset_pred_vec('all')"
      ],
      "metadata": {
        "id": "VwQuuPSVQ5vS"
      },
      "execution_count": null,
      "outputs": []
    },
    {
      "cell_type": "code",
      "source": [
        "#ausgabe der subsetted input vektoren der nachfolgenden knoten \n",
        "# print(f'generierte x_input_data für tnk node: {hc.graph.nodes['tnk']['memory'].x_input_data}')\n",
        "# print(f'generierte x_input_data für m node: {hc.graph.nodes['m']['memory'].x_input_data}')\n",
        "\n",
        "print(hc.graph.nodes['tnk']['memory'].x_input_data)\n",
        "print(hc.graph.nodes['m']['memory'].x_input_data)"
      ],
      "metadata": {
        "colab": {
          "base_uri": "https://localhost:8080/"
        },
        "id": "9ASRXtwoNFK-",
        "outputId": "40967062-4516-4c25-a3b7-b2ab418f7491"
      },
      "execution_count": null,
      "outputs": [
        {
          "output_type": "stream",
          "name": "stdout",
          "text": [
            "None\n",
            "None\n"
          ]
        }
      ]
    },
    {
      "cell_type": "code",
      "source": [
        "print(hc.subset_pred_vec('tnk'))"
      ],
      "metadata": {
        "colab": {
          "base_uri": "https://localhost:8080/"
        },
        "id": "mo32shJKFSSK",
        "outputId": "cd9457c7-9575-44b5-b362-d1527c24927f"
      },
      "execution_count": null,
      "outputs": [
        {
          "output_type": "stream",
          "name": "stdout",
          "text": [
            "['cd4t', 'cd8t']\n"
          ]
        }
      ]
    },
    {
      "cell_type": "code",
      "source": [
        "nx.draw(hc.graph, with_labels=True)"
      ],
      "metadata": {
        "colab": {
          "base_uri": "https://localhost:8080/",
          "height": 319
        },
        "id": "PSmNY8gdb2yd",
        "outputId": "91a3f11c-9cff-44d2-cf1f-0763fe2e2792"
      },
      "execution_count": null,
      "outputs": [
        {
          "output_type": "display_data",
          "data": {
            "text/plain": [
              "<Figure size 432x288 with 1 Axes>"
            ],
            "image/png": "[encoded data removed]"
          },
          "metadata": {}
        }
      ]
    },
    {
      "cell_type": "markdown",
      "source": [
        "**Test of Local classifier class**"
      ],
      "metadata": {
        "id": "F_RdxaiARRj3"
      }
    },
    {
      "cell_type": "code",
      "source": [
        "from google.colab import drive\n",
        "drive.mount('/content/drive/')"
      ],
      "metadata": {
        "colab": {
          "base_uri": "https://localhost:8080/"
        },
        "id": "yExXmrwfQuPx",
        "outputId": "48f93d4c-f23e-4f77-f0cb-239b00b722dc"
      },
      "execution_count": null,
      "outputs": [
        {
          "output_type": "stream",
          "name": "stdout",
          "text": [
            "Mounted at /content/drive/\n"
          ]
        }
      ]
    },
    {
      "cell_type": "code",
      "source": [
        "!pip install scanpy \n"
      ],
      "metadata": {
        "id": "ICWY1MyZRVbk",
        "colab": {
          "base_uri": "https://localhost:8080/"
        },
        "outputId": "24bda604-fb4b-4384-bcbd-74be97fd3e7b"
      },
      "execution_count": null,
      "outputs": [
        {
          "output_type": "stream",
          "name": "stdout",
          "text": [
            "Collecting scanpy\n",
            "  Downloading scanpy-1.8.2-py3-none-any.whl (2.0 MB)\n",
            "\u001b[K     |████████████████████████████████| 2.0 MB 7.4 MB/s \n",
            "\u001b[?25hRequirement already satisfied: seaborn in /usr/local/lib/python3.7/dist-packages (from scanpy) (0.11.2)\n",
            "Requirement already satisfied: scipy>=1.4 in /usr/local/lib/python3.7/dist-packages (from scanpy) (1.4.1)\n",
            "Requirement already satisfied: scikit-learn>=0.22 in /usr/local/lib/python3.7/dist-packages (from scanpy) (1.0.2)\n",
            "Requirement already satisfied: patsy in /usr/local/lib/python3.7/dist-packages (from scanpy) (0.5.2)\n",
            "Requirement already satisfied: tables in /usr/local/lib/python3.7/dist-packages (from scanpy) (3.7.0)\n",
            "Requirement already satisfied: importlib_metadata>=0.7 in /usr/local/lib/python3.7/dist-packages (from scanpy) (4.11.2)\n",
            "Requirement already satisfied: joblib in /usr/local/lib/python3.7/dist-packages (from scanpy) (1.1.0)\n",
            "Collecting sinfo\n",
            "  Downloading sinfo-0.3.4.tar.gz (24 kB)\n",
            "Requirement already satisfied: networkx>=2.3 in /usr/local/lib/python3.7/dist-packages (from scanpy) (2.6.3)\n",
            "Requirement already satisfied: natsort in /usr/local/lib/python3.7/dist-packages (from scanpy) (5.5.0)\n",
            "Collecting umap-learn>=0.3.10\n",
            "  Downloading umap-learn-0.5.2.tar.gz (86 kB)\n",
            "\u001b[K     |████████████████████████████████| 86 kB 5.4 MB/s \n",
            "\u001b[?25hRequirement already satisfied: packaging in /usr/local/lib/python3.7/dist-packages (from scanpy) (21.3)\n",
            "Collecting anndata>=0.7.4\n",
            "  Downloading anndata-0.8.0-py3-none-any.whl (96 kB)\n",
            "\u001b[K     |████████████████████████████████| 96 kB 5.3 MB/s \n",
            "\u001b[?25hRequirement already satisfied: statsmodels>=0.10.0rc2 in /usr/local/lib/python3.7/dist-packages (from scanpy) (0.10.2)\n",
            "Requirement already satisfied: h5py>=2.10.0 in /usr/local/lib/python3.7/dist-packages (from scanpy) (3.1.0)\n",
            "Requirement already satisfied: numba>=0.41.0 in /usr/local/lib/python3.7/dist-packages (from scanpy) (0.51.2)\n",
            "Requirement already satisfied: numpy>=1.17.0 in /usr/local/lib/python3.7/dist-packages (from scanpy) (1.21.5)\n",
            "Requirement already satisfied: tqdm in /usr/local/lib/python3.7/dist-packages (from scanpy) (4.63.0)\n",
            "Requirement already satisfied: matplotlib>=3.1.2 in /usr/local/lib/python3.7/dist-packages (from scanpy) (3.2.2)\n",
            "Requirement already satisfied: pandas>=0.21 in /usr/local/lib/python3.7/dist-packages (from scanpy) (1.3.5)\n",
            "Requirement already satisfied: typing_extensions in /usr/local/lib/python3.7/dist-packages (from anndata>=0.7.4->scanpy) (3.10.0.2)\n",
            "Requirement already satisfied: cached-property in /usr/local/lib/python3.7/dist-packages (from h5py>=2.10.0->scanpy) (1.5.2)\n",
            "Requirement already satisfied: zipp>=0.5 in /usr/local/lib/python3.7/dist-packages (from importlib_metadata>=0.7->scanpy) (3.7.0)\n",
            "Requirement already satisfied: kiwisolver>=1.0.1 in /usr/local/lib/python3.7/dist-packages (from matplotlib>=3.1.2->scanpy) (1.3.2)\n",
            "Requirement already satisfied: pyparsing!=2.0.4,!=2.1.2,!=2.1.6,>=2.0.1 in /usr/local/lib/python3.7/dist-packages (from matplotlib>=3.1.2->scanpy) (3.0.7)\n",
            "Requirement already satisfied: cycler>=0.10 in /usr/local/lib/python3.7/dist-packages (from matplotlib>=3.1.2->scanpy) (0.11.0)\n",
            "Requirement already satisfied: python-dateutil>=2.1 in /usr/local/lib/python3.7/dist-packages (from matplotlib>=3.1.2->scanpy) (2.8.2)\n",
            "Requirement already satisfied: setuptools in /usr/local/lib/python3.7/dist-packages (from numba>=0.41.0->scanpy) (57.4.0)\n",
            "Requirement already satisfied: llvmlite<0.35,>=0.34.0.dev0 in /usr/local/lib/python3.7/dist-packages (from numba>=0.41.0->scanpy) (0.34.0)\n",
            "Requirement already satisfied: pytz>=2017.3 in /usr/local/lib/python3.7/dist-packages (from pandas>=0.21->scanpy) (2018.9)\n",
            "Requirement already satisfied: six>=1.5 in /usr/local/lib/python3.7/dist-packages (from python-dateutil>=2.1->matplotlib>=3.1.2->scanpy) (1.15.0)\n",
            "Requirement already satisfied: threadpoolctl>=2.0.0 in /usr/local/lib/python3.7/dist-packages (from scikit-learn>=0.22->scanpy) (3.1.0)\n",
            "Collecting pynndescent>=0.5\n",
            "  Downloading pynndescent-0.5.6.tar.gz (1.1 MB)\n",
            "\u001b[K     |████████████████████████████████| 1.1 MB 47.1 MB/s \n",
            "\u001b[?25hCollecting stdlib_list\n",
            "  Downloading stdlib_list-0.8.0-py3-none-any.whl (63 kB)\n",
            "\u001b[K     |████████████████████████████████| 63 kB 2.2 MB/s \n",
            "\u001b[?25hRequirement already satisfied: numexpr>=2.6.2 in /usr/local/lib/python3.7/dist-packages (from tables->scanpy) (2.8.1)\n",
            "Building wheels for collected packages: umap-learn, pynndescent, sinfo\n",
            "  Building wheel for umap-learn (setup.py) ... \u001b[?25l\u001b[?25hdone\n",
            "  Created wheel for umap-learn: filename=umap_learn-0.5.2-py3-none-any.whl size=82708 sha256=47f201506fe5495f56bf8599397ee12873da85441f673c64ea6b2d9c7d8b5603\n",
            "  Stored in directory: /root/.cache/pip/wheels/84/1b/c6/aaf68a748122632967cef4dffef68224eb16798b6793257d82\n",
            "  Building wheel for pynndescent (setup.py) ... \u001b[?25l\u001b[?25hdone\n",
            "  Created wheel for pynndescent: filename=pynndescent-0.5.6-py3-none-any.whl size=53943 sha256=e25d3a2e521d7dfd912f9f1defff5964b21cc9490731b9ef07099522a04a42be\n",
            "  Stored in directory: /root/.cache/pip/wheels/03/f1/56/f80d72741e400345b5a5b50ec3d929aca581bf45e0225d5c50\n",
            "  Building wheel for sinfo (setup.py) ... \u001b[?25l\u001b[?25hdone\n",
            "  Created wheel for sinfo: filename=sinfo-0.3.4-py3-none-any.whl size=7899 sha256=c98ee6d9ed9dc6099aed94e28edda1598630af7b72626d88cbccd4fa5bc3e7e0\n",
            "  Stored in directory: /root/.cache/pip/wheels/68/ca/56/344d532fe53e855ccd6549795d370588ab8123907eecf4cf30\n",
            "Successfully built umap-learn pynndescent sinfo\n",
            "Installing collected packages: stdlib-list, pynndescent, umap-learn, sinfo, anndata, scanpy\n",
            "Successfully installed anndata-0.8.0 pynndescent-0.5.6 scanpy-1.8.2 sinfo-0.3.4 stdlib-list-0.8.0 umap-learn-0.5.2\n"
          ]
        }
      ]
    },
    {
      "cell_type": "code",
      "source": [
        "import scanpy as sc"
      ],
      "metadata": {
        "id": "qvbTHN7Tek7N"
      },
      "execution_count": null,
      "outputs": []
    },
    {
      "cell_type": "code",
      "source": [
        "adata = sc.read('drive/MyDrive/single_cell/processed/pbmc3k_level_1_scvi.h5ad')\n",
        "\n",
        "X_input, y_input = adata.obsm['X_scVI'], adata.obs['training_level_1']\n",
        "\n",
        "# print(f'y_input: {y_input}' )\n",
        "\n",
        "# print(f'\\n\\n*******************\\n {len(y_input.cat.categories)}')\n",
        "\n",
        "nn_tnk = Neural_Network(X_input, y_input, epochs = 200)\n",
        "\n",
        "nn_tnk.model.summary()\n",
        "\n",
        "# nn_tnk.local_classifier_output()\n",
        "nn_tnk.process_input_data()\n",
        "nn_tnk.train()\n",
        "\n",
        "# nn_tnk.predict(nn_tnk.x_training_input)\n",
        "\n",
        "nn_tnk.validate()\n",
        "\n",
        "print(f'training_acc: {nn_tnk.train_acc:42f}')\n",
        "\n",
        "print(f'test_acc: {nn_tnk.test_acc:.4f}')\n",
        "\n",
        "\n"
      ],
      "metadata": {
        "id": "MIoF8UQJRf9g",
        "colab": {
          "base_uri": "https://localhost:8080/"
        },
        "outputId": "bc80e36d-90af-4838-9b44-6b9fe183c6f2"
      },
      "execution_count": null,
      "outputs": [
        {
          "output_type": "stream",
          "name": "stdout",
          "text": [
            "Model: \"sequential\"\n",
            "_________________________________________________________________\n",
            " Layer (type)                Output Shape              Param #   \n",
            "=================================================================\n",
            " dense (Dense)               (None, 30)                330       \n",
            "                                                                 \n",
            " dense_1 (Dense)             (None, 4)                 124       \n",
            "                                                                 \n",
            "=================================================================\n",
            "Total params: 454\n",
            "Trainable params: 454\n",
            "Non-trainable params: 0\n",
            "_________________________________________________________________\n",
            "Epoch 1/200\n",
            "25/25 [==============================] - 1s 9ms/step - loss: 1.5349 - val_loss: 1.3964\n",
            "Epoch 2/200\n",
            "25/25 [==============================] - 0s 3ms/step - loss: 1.2436 - val_loss: 1.1240\n",
            "Epoch 3/200\n",
            "25/25 [==============================] - 0s 5ms/step - loss: 1.0263 - val_loss: 0.9539\n",
            "Epoch 4/200\n",
            "25/25 [==============================] - 0s 5ms/step - loss: 0.8885 - val_loss: 0.8460\n",
            "Epoch 5/200\n",
            "25/25 [==============================] - 0s 4ms/step - loss: 0.7951 - val_loss: 0.7711\n",
            "Epoch 6/200\n",
            "25/25 [==============================] - 0s 5ms/step - loss: 0.7255 - val_loss: 0.7138\n",
            "Epoch 7/200\n",
            "25/25 [==============================] - 0s 5ms/step - loss: 0.6701 - val_loss: 0.6655\n",
            "Epoch 8/200\n",
            "25/25 [==============================] - 0s 6ms/step - loss: 0.6228 - val_loss: 0.6246\n",
            "Epoch 9/200\n",
            "25/25 [==============================] - 0s 5ms/step - loss: 0.5819 - val_loss: 0.5892\n",
            "Epoch 10/200\n",
            "25/25 [==============================] - 0s 5ms/step - loss: 0.5458 - val_loss: 0.5581\n",
            "Epoch 11/200\n",
            "25/25 [==============================] - 0s 5ms/step - loss: 0.5141 - val_loss: 0.5299\n",
            "Epoch 12/200\n",
            "25/25 [==============================] - 0s 4ms/step - loss: 0.4856 - val_loss: 0.5053\n",
            "Epoch 13/200\n",
            "25/25 [==============================] - 0s 6ms/step - loss: 0.4604 - val_loss: 0.4832\n",
            "Epoch 14/200\n",
            "25/25 [==============================] - 0s 6ms/step - loss: 0.4377 - val_loss: 0.4634\n",
            "Epoch 15/200\n",
            "25/25 [==============================] - 0s 6ms/step - loss: 0.4175 - val_loss: 0.4455\n",
            "Epoch 16/200\n",
            "25/25 [==============================] - 0s 4ms/step - loss: 0.3993 - val_loss: 0.4301\n",
            "Epoch 17/200\n",
            "25/25 [==============================] - 0s 6ms/step - loss: 0.3827 - val_loss: 0.4161\n",
            "Epoch 18/200\n",
            "25/25 [==============================] - 0s 6ms/step - loss: 0.3680 - val_loss: 0.4031\n",
            "Epoch 19/200\n",
            "25/25 [==============================] - 0s 5ms/step - loss: 0.3548 - val_loss: 0.3915\n",
            "Epoch 20/200\n",
            "25/25 [==============================] - 0s 5ms/step - loss: 0.3425 - val_loss: 0.3811\n",
            "Epoch 21/200\n",
            "25/25 [==============================] - 0s 5ms/step - loss: 0.3316 - val_loss: 0.3716\n",
            "Epoch 22/200\n",
            "25/25 [==============================] - 0s 8ms/step - loss: 0.3216 - val_loss: 0.3629\n",
            "Epoch 23/200\n",
            "25/25 [==============================] - 0s 6ms/step - loss: 0.3125 - val_loss: 0.3550\n",
            "Epoch 24/200\n",
            "25/25 [==============================] - 0s 4ms/step - loss: 0.3042 - val_loss: 0.3476\n",
            "Epoch 25/200\n",
            "25/25 [==============================] - 0s 4ms/step - loss: 0.2966 - val_loss: 0.3414\n",
            "Epoch 26/200\n",
            "25/25 [==============================] - 0s 5ms/step - loss: 0.2895 - val_loss: 0.3351\n",
            "Epoch 27/200\n",
            "25/25 [==============================] - 0s 5ms/step - loss: 0.2829 - val_loss: 0.3294\n",
            "Epoch 28/200\n",
            "25/25 [==============================] - 0s 5ms/step - loss: 0.2769 - val_loss: 0.3241\n",
            "Epoch 29/200\n",
            "25/25 [==============================] - 0s 4ms/step - loss: 0.2713 - val_loss: 0.3194\n",
            "Epoch 30/200\n",
            "25/25 [==============================] - 0s 4ms/step - loss: 0.2659 - val_loss: 0.3146\n",
            "Epoch 31/200\n",
            "25/25 [==============================] - 0s 4ms/step - loss: 0.2610 - val_loss: 0.3102\n",
            "Epoch 32/200\n",
            "25/25 [==============================] - 0s 5ms/step - loss: 0.2563 - val_loss: 0.3061\n",
            "Epoch 33/200\n",
            "25/25 [==============================] - 0s 5ms/step - loss: 0.2520 - val_loss: 0.3019\n",
            "Epoch 34/200\n",
            "25/25 [==============================] - 0s 5ms/step - loss: 0.2479 - val_loss: 0.2988\n",
            "Epoch 35/200\n",
            "25/25 [==============================] - 0s 4ms/step - loss: 0.2439 - val_loss: 0.2955\n",
            "Epoch 36/200\n",
            "25/25 [==============================] - 0s 7ms/step - loss: 0.2402 - val_loss: 0.2918\n",
            "Epoch 37/200\n",
            "25/25 [==============================] - 0s 5ms/step - loss: 0.2367 - val_loss: 0.2888\n",
            "Epoch 38/200\n",
            "25/25 [==============================] - 0s 6ms/step - loss: 0.2334 - val_loss: 0.2861\n",
            "Epoch 39/200\n",
            "25/25 [==============================] - 0s 5ms/step - loss: 0.2301 - val_loss: 0.2830\n",
            "Epoch 40/200\n",
            "25/25 [==============================] - 0s 7ms/step - loss: 0.2271 - val_loss: 0.2801\n",
            "Epoch 41/200\n",
            "25/25 [==============================] - 0s 6ms/step - loss: 0.2242 - val_loss: 0.2773\n",
            "Epoch 42/200\n",
            "25/25 [==============================] - 0s 5ms/step - loss: 0.2214 - val_loss: 0.2750\n",
            "Epoch 43/200\n",
            "25/25 [==============================] - 0s 6ms/step - loss: 0.2189 - val_loss: 0.2721\n",
            "Epoch 44/200\n",
            "25/25 [==============================] - 0s 4ms/step - loss: 0.2162 - val_loss: 0.2702\n",
            "Epoch 45/200\n",
            "25/25 [==============================] - 0s 4ms/step - loss: 0.2138 - val_loss: 0.2682\n",
            "Epoch 46/200\n",
            "25/25 [==============================] - 0s 6ms/step - loss: 0.2114 - val_loss: 0.2660\n",
            "Epoch 47/200\n",
            "25/25 [==============================] - 0s 8ms/step - loss: 0.2092 - val_loss: 0.2636\n",
            "Epoch 48/200\n",
            "25/25 [==============================] - 0s 6ms/step - loss: 0.2070 - val_loss: 0.2615\n",
            "Epoch 49/200\n",
            "25/25 [==============================] - 0s 8ms/step - loss: 0.2049 - val_loss: 0.2594\n",
            "Epoch 50/200\n",
            "25/25 [==============================] - 0s 6ms/step - loss: 0.2029 - val_loss: 0.2577\n",
            "Epoch 51/200\n",
            "25/25 [==============================] - 0s 5ms/step - loss: 0.2009 - val_loss: 0.2555\n",
            "Epoch 52/200\n",
            "25/25 [==============================] - 0s 6ms/step - loss: 0.1990 - val_loss: 0.2536\n",
            "Epoch 53/200\n",
            "25/25 [==============================] - 0s 4ms/step - loss: 0.1971 - val_loss: 0.2518\n",
            "Epoch 54/200\n",
            "25/25 [==============================] - 0s 5ms/step - loss: 0.1953 - val_loss: 0.2504\n",
            "Epoch 55/200\n",
            "25/25 [==============================] - 0s 4ms/step - loss: 0.1937 - val_loss: 0.2489\n",
            "Epoch 56/200\n",
            "25/25 [==============================] - 0s 7ms/step - loss: 0.1918 - val_loss: 0.2469\n",
            "Epoch 57/200\n",
            "25/25 [==============================] - 0s 6ms/step - loss: 0.1902 - val_loss: 0.2454\n",
            "Epoch 58/200\n",
            "25/25 [==============================] - 0s 4ms/step - loss: 0.1886 - val_loss: 0.2436\n",
            "Epoch 59/200\n",
            "25/25 [==============================] - 0s 6ms/step - loss: 0.1871 - val_loss: 0.2420\n",
            "Epoch 60/200\n",
            "25/25 [==============================] - 0s 5ms/step - loss: 0.1855 - val_loss: 0.2405\n",
            "Epoch 61/200\n",
            "25/25 [==============================] - 0s 5ms/step - loss: 0.1841 - val_loss: 0.2390\n",
            "Epoch 62/200\n",
            "25/25 [==============================] - 0s 4ms/step - loss: 0.1827 - val_loss: 0.2375\n",
            "Epoch 63/200\n",
            "25/25 [==============================] - 0s 4ms/step - loss: 0.1812 - val_loss: 0.2361\n",
            "Epoch 64/200\n",
            "25/25 [==============================] - 0s 5ms/step - loss: 0.1799 - val_loss: 0.2347\n",
            "Epoch 65/200\n",
            "25/25 [==============================] - 0s 6ms/step - loss: 0.1785 - val_loss: 0.2332\n",
            "Epoch 66/200\n",
            "25/25 [==============================] - 0s 5ms/step - loss: 0.1772 - val_loss: 0.2321\n",
            "Epoch 67/200\n",
            "25/25 [==============================] - 0s 5ms/step - loss: 0.1759 - val_loss: 0.2307\n",
            "Epoch 68/200\n",
            "25/25 [==============================] - 0s 4ms/step - loss: 0.1747 - val_loss: 0.2291\n",
            "Epoch 69/200\n",
            "25/25 [==============================] - 0s 4ms/step - loss: 0.1734 - val_loss: 0.2280\n",
            "Epoch 70/200\n",
            "25/25 [==============================] - 0s 4ms/step - loss: 0.1722 - val_loss: 0.2270\n",
            "Epoch 71/200\n",
            "25/25 [==============================] - 0s 5ms/step - loss: 0.1710 - val_loss: 0.2254\n",
            "Epoch 72/200\n",
            "25/25 [==============================] - 0s 4ms/step - loss: 0.1698 - val_loss: 0.2243\n",
            "Epoch 73/200\n",
            "25/25 [==============================] - 0s 9ms/step - loss: 0.1686 - val_loss: 0.2228\n",
            "Epoch 74/200\n",
            "25/25 [==============================] - 0s 5ms/step - loss: 0.1675 - val_loss: 0.2214\n",
            "Epoch 75/200\n",
            "25/25 [==============================] - 0s 5ms/step - loss: 0.1664 - val_loss: 0.2202\n",
            "Epoch 76/200\n",
            "25/25 [==============================] - 0s 6ms/step - loss: 0.1654 - val_loss: 0.2188\n",
            "Epoch 77/200\n",
            "25/25 [==============================] - 0s 7ms/step - loss: 0.1643 - val_loss: 0.2179\n",
            "Epoch 78/200\n",
            "25/25 [==============================] - 0s 6ms/step - loss: 0.1632 - val_loss: 0.2168\n",
            "Epoch 79/200\n",
            "25/25 [==============================] - 0s 6ms/step - loss: 0.1622 - val_loss: 0.2154\n",
            "Epoch 80/200\n",
            "25/25 [==============================] - 0s 4ms/step - loss: 0.1612 - val_loss: 0.2144\n",
            "Epoch 81/200\n",
            "25/25 [==============================] - 0s 4ms/step - loss: 0.1603 - val_loss: 0.2134\n",
            "Epoch 82/200\n",
            "25/25 [==============================] - 0s 5ms/step - loss: 0.1592 - val_loss: 0.2121\n",
            "Epoch 83/200\n",
            "25/25 [==============================] - 0s 4ms/step - loss: 0.1583 - val_loss: 0.2110\n",
            "Epoch 84/200\n",
            "25/25 [==============================] - 0s 5ms/step - loss: 0.1574 - val_loss: 0.2098\n",
            "Epoch 85/200\n",
            "25/25 [==============================] - 0s 5ms/step - loss: 0.1565 - val_loss: 0.2086\n",
            "Epoch 86/200\n",
            "25/25 [==============================] - 0s 4ms/step - loss: 0.1556 - val_loss: 0.2077\n",
            "Epoch 87/200\n",
            "25/25 [==============================] - 0s 5ms/step - loss: 0.1547 - val_loss: 0.2068\n",
            "Epoch 88/200\n",
            "25/25 [==============================] - 0s 5ms/step - loss: 0.1538 - val_loss: 0.2055\n",
            "Epoch 89/200\n",
            "25/25 [==============================] - 0s 7ms/step - loss: 0.1529 - val_loss: 0.2045\n",
            "Epoch 90/200\n",
            "25/25 [==============================] - 0s 7ms/step - loss: 0.1521 - val_loss: 0.2036\n",
            "Epoch 91/200\n",
            "25/25 [==============================] - 0s 4ms/step - loss: 0.1512 - val_loss: 0.2026\n",
            "Epoch 92/200\n",
            "25/25 [==============================] - 0s 6ms/step - loss: 0.1504 - val_loss: 0.2017\n",
            "Epoch 93/200\n",
            "25/25 [==============================] - 0s 5ms/step - loss: 0.1496 - val_loss: 0.2008\n",
            "Epoch 94/200\n",
            "25/25 [==============================] - 0s 5ms/step - loss: 0.1488 - val_loss: 0.1998\n",
            "Epoch 95/200\n",
            "25/25 [==============================] - 0s 8ms/step - loss: 0.1480 - val_loss: 0.1990\n",
            "Epoch 96/200\n",
            "25/25 [==============================] - 0s 6ms/step - loss: 0.1472 - val_loss: 0.1980\n",
            "Epoch 97/200\n",
            "25/25 [==============================] - 0s 8ms/step - loss: 0.1464 - val_loss: 0.1968\n",
            "Epoch 98/200\n",
            "25/25 [==============================] - 0s 8ms/step - loss: 0.1457 - val_loss: 0.1960\n",
            "Epoch 99/200\n",
            "25/25 [==============================] - 0s 8ms/step - loss: 0.1449 - val_loss: 0.1951\n",
            "Epoch 100/200\n",
            "25/25 [==============================] - 0s 7ms/step - loss: 0.1443 - val_loss: 0.1942\n",
            "Epoch 101/200\n",
            "25/25 [==============================] - 0s 7ms/step - loss: 0.1435 - val_loss: 0.1933\n",
            "Epoch 102/200\n",
            "25/25 [==============================] - 0s 7ms/step - loss: 0.1428 - val_loss: 0.1923\n",
            "Epoch 103/200\n",
            "25/25 [==============================] - 0s 5ms/step - loss: 0.1420 - val_loss: 0.1915\n",
            "Epoch 104/200\n",
            "25/25 [==============================] - 0s 5ms/step - loss: 0.1413 - val_loss: 0.1907\n",
            "Epoch 105/200\n",
            "25/25 [==============================] - 0s 9ms/step - loss: 0.1407 - val_loss: 0.1899\n",
            "Epoch 106/200\n",
            "25/25 [==============================] - 0s 5ms/step - loss: 0.1401 - val_loss: 0.1888\n",
            "Epoch 107/200\n",
            "25/25 [==============================] - 0s 5ms/step - loss: 0.1393 - val_loss: 0.1881\n",
            "Epoch 108/200\n",
            "25/25 [==============================] - 0s 5ms/step - loss: 0.1387 - val_loss: 0.1873\n",
            "Epoch 109/200\n",
            "25/25 [==============================] - 0s 4ms/step - loss: 0.1381 - val_loss: 0.1866\n",
            "Epoch 110/200\n",
            "25/25 [==============================] - 0s 4ms/step - loss: 0.1374 - val_loss: 0.1856\n",
            "Epoch 111/200\n",
            "25/25 [==============================] - 0s 4ms/step - loss: 0.1368 - val_loss: 0.1851\n",
            "Epoch 112/200\n",
            "25/25 [==============================] - 0s 10ms/step - loss: 0.1362 - val_loss: 0.1843\n",
            "Epoch 113/200\n",
            "25/25 [==============================] - 0s 10ms/step - loss: 0.1356 - val_loss: 0.1834\n",
            "Epoch 114/200\n",
            "25/25 [==============================] - 0s 7ms/step - loss: 0.1349 - val_loss: 0.1825\n",
            "Epoch 115/200\n",
            "25/25 [==============================] - 0s 7ms/step - loss: 0.1343 - val_loss: 0.1818\n",
            "Epoch 116/200\n",
            "25/25 [==============================] - 0s 4ms/step - loss: 0.1337 - val_loss: 0.1810\n",
            "Epoch 117/200\n",
            "25/25 [==============================] - 0s 5ms/step - loss: 0.1332 - val_loss: 0.1805\n",
            "Epoch 118/200\n",
            "25/25 [==============================] - 0s 6ms/step - loss: 0.1326 - val_loss: 0.1796\n",
            "Epoch 119/200\n",
            "25/25 [==============================] - 0s 8ms/step - loss: 0.1319 - val_loss: 0.1787\n",
            "Epoch 120/200\n",
            "25/25 [==============================] - 0s 5ms/step - loss: 0.1314 - val_loss: 0.1782\n",
            "Epoch 121/200\n",
            "25/25 [==============================] - 0s 6ms/step - loss: 0.1308 - val_loss: 0.1773\n",
            "Epoch 122/200\n",
            "25/25 [==============================] - 0s 6ms/step - loss: 0.1303 - val_loss: 0.1766\n",
            "Epoch 123/200\n",
            "25/25 [==============================] - 0s 5ms/step - loss: 0.1297 - val_loss: 0.1761\n",
            "Epoch 124/200\n",
            "25/25 [==============================] - 0s 5ms/step - loss: 0.1291 - val_loss: 0.1753\n",
            "Epoch 125/200\n",
            "25/25 [==============================] - 0s 8ms/step - loss: 0.1286 - val_loss: 0.1745\n",
            "Epoch 126/200\n",
            "25/25 [==============================] - 0s 7ms/step - loss: 0.1280 - val_loss: 0.1739\n",
            "Epoch 127/200\n",
            "25/25 [==============================] - 0s 4ms/step - loss: 0.1275 - val_loss: 0.1732\n",
            "Epoch 128/200\n",
            "25/25 [==============================] - 0s 5ms/step - loss: 0.1270 - val_loss: 0.1726\n",
            "Epoch 129/200\n",
            "25/25 [==============================] - 0s 4ms/step - loss: 0.1264 - val_loss: 0.1719\n",
            "Epoch 130/200\n",
            "25/25 [==============================] - 0s 9ms/step - loss: 0.1259 - val_loss: 0.1713\n",
            "Epoch 131/200\n",
            "25/25 [==============================] - 0s 9ms/step - loss: 0.1254 - val_loss: 0.1705\n",
            "Epoch 132/200\n",
            "25/25 [==============================] - 0s 6ms/step - loss: 0.1249 - val_loss: 0.1699\n",
            "Epoch 133/200\n",
            "25/25 [==============================] - 0s 5ms/step - loss: 0.1244 - val_loss: 0.1691\n",
            "Epoch 134/200\n",
            "25/25 [==============================] - 0s 7ms/step - loss: 0.1239 - val_loss: 0.1685\n",
            "Epoch 135/200\n",
            "25/25 [==============================] - 0s 6ms/step - loss: 0.1234 - val_loss: 0.1677\n",
            "Epoch 136/200\n",
            "25/25 [==============================] - 0s 5ms/step - loss: 0.1229 - val_loss: 0.1671\n",
            "Epoch 137/200\n",
            "25/25 [==============================] - 0s 6ms/step - loss: 0.1224 - val_loss: 0.1664\n",
            "Epoch 138/200\n",
            "25/25 [==============================] - 0s 6ms/step - loss: 0.1220 - val_loss: 0.1659\n",
            "Epoch 139/200\n",
            "25/25 [==============================] - 0s 9ms/step - loss: 0.1215 - val_loss: 0.1653\n",
            "Epoch 140/200\n",
            "25/25 [==============================] - 0s 5ms/step - loss: 0.1210 - val_loss: 0.1647\n",
            "Epoch 141/200\n",
            "25/25 [==============================] - 0s 5ms/step - loss: 0.1205 - val_loss: 0.1641\n",
            "Epoch 142/200\n",
            "25/25 [==============================] - 0s 4ms/step - loss: 0.1201 - val_loss: 0.1635\n",
            "Epoch 143/200\n",
            "25/25 [==============================] - 0s 9ms/step - loss: 0.1197 - val_loss: 0.1629\n",
            "Epoch 144/200\n",
            "25/25 [==============================] - 0s 4ms/step - loss: 0.1193 - val_loss: 0.1622\n",
            "Epoch 145/200\n",
            "25/25 [==============================] - 0s 5ms/step - loss: 0.1188 - val_loss: 0.1617\n",
            "Epoch 146/200\n",
            "25/25 [==============================] - 0s 8ms/step - loss: 0.1183 - val_loss: 0.1612\n",
            "Epoch 147/200\n",
            "25/25 [==============================] - 0s 5ms/step - loss: 0.1179 - val_loss: 0.1606\n",
            "Epoch 148/200\n",
            "25/25 [==============================] - 0s 5ms/step - loss: 0.1175 - val_loss: 0.1601\n",
            "Epoch 149/200\n",
            "25/25 [==============================] - 0s 8ms/step - loss: 0.1172 - val_loss: 0.1594\n",
            "Epoch 150/200\n",
            "25/25 [==============================] - 0s 8ms/step - loss: 0.1166 - val_loss: 0.1590\n",
            "Epoch 151/200\n",
            "25/25 [==============================] - 0s 7ms/step - loss: 0.1162 - val_loss: 0.1585\n",
            "Epoch 152/200\n",
            "25/25 [==============================] - 0s 5ms/step - loss: 0.1158 - val_loss: 0.1579\n",
            "Epoch 153/200\n",
            "25/25 [==============================] - 0s 9ms/step - loss: 0.1154 - val_loss: 0.1573\n",
            "Epoch 154/200\n",
            "25/25 [==============================] - 0s 9ms/step - loss: 0.1150 - val_loss: 0.1568\n",
            "Epoch 155/200\n",
            "25/25 [==============================] - 0s 5ms/step - loss: 0.1146 - val_loss: 0.1563\n",
            "Epoch 156/200\n",
            "25/25 [==============================] - 0s 9ms/step - loss: 0.1142 - val_loss: 0.1558\n",
            "Epoch 157/200\n",
            "25/25 [==============================] - 0s 8ms/step - loss: 0.1138 - val_loss: 0.1553\n",
            "Epoch 158/200\n",
            "25/25 [==============================] - 0s 5ms/step - loss: 0.1134 - val_loss: 0.1550\n",
            "Epoch 159/200\n",
            "25/25 [==============================] - 0s 5ms/step - loss: 0.1130 - val_loss: 0.1544\n",
            "Epoch 160/200\n",
            "25/25 [==============================] - 0s 5ms/step - loss: 0.1126 - val_loss: 0.1538\n",
            "Epoch 161/200\n",
            "25/25 [==============================] - 0s 4ms/step - loss: 0.1122 - val_loss: 0.1533\n",
            "Epoch 162/200\n",
            "25/25 [==============================] - 0s 3ms/step - loss: 0.1119 - val_loss: 0.1528\n",
            "Epoch 163/200\n",
            "25/25 [==============================] - 0s 3ms/step - loss: 0.1115 - val_loss: 0.1523\n",
            "Epoch 164/200\n",
            "25/25 [==============================] - 0s 2ms/step - loss: 0.1111 - val_loss: 0.1517\n",
            "Epoch 165/200\n",
            "25/25 [==============================] - 0s 3ms/step - loss: 0.1107 - val_loss: 0.1513\n",
            "Epoch 166/200\n",
            "25/25 [==============================] - 0s 2ms/step - loss: 0.1104 - val_loss: 0.1509\n",
            "Epoch 167/200\n",
            "25/25 [==============================] - 0s 3ms/step - loss: 0.1100 - val_loss: 0.1504\n",
            "Epoch 168/200\n",
            "25/25 [==============================] - 0s 3ms/step - loss: 0.1097 - val_loss: 0.1500\n",
            "Epoch 169/200\n",
            "25/25 [==============================] - 0s 2ms/step - loss: 0.1093 - val_loss: 0.1494\n",
            "Epoch 170/200\n",
            "25/25 [==============================] - 0s 2ms/step - loss: 0.1089 - val_loss: 0.1491\n",
            "Epoch 171/200\n",
            "25/25 [==============================] - 0s 2ms/step - loss: 0.1086 - val_loss: 0.1487\n",
            "Epoch 172/200\n",
            "25/25 [==============================] - 0s 2ms/step - loss: 0.1082 - val_loss: 0.1482\n",
            "Epoch 173/200\n",
            "25/25 [==============================] - 0s 2ms/step - loss: 0.1080 - val_loss: 0.1478\n",
            "Epoch 174/200\n",
            "25/25 [==============================] - 0s 2ms/step - loss: 0.1076 - val_loss: 0.1472\n",
            "Epoch 175/200\n",
            "25/25 [==============================] - 0s 2ms/step - loss: 0.1072 - val_loss: 0.1468\n",
            "Epoch 176/200\n",
            "25/25 [==============================] - 0s 3ms/step - loss: 0.1069 - val_loss: 0.1464\n",
            "Epoch 177/200\n",
            "25/25 [==============================] - 0s 2ms/step - loss: 0.1066 - val_loss: 0.1461\n",
            "Epoch 178/200\n",
            "25/25 [==============================] - 0s 2ms/step - loss: 0.1062 - val_loss: 0.1456\n",
            "Epoch 179/200\n",
            "25/25 [==============================] - 0s 2ms/step - loss: 0.1059 - val_loss: 0.1452\n",
            "Epoch 180/200\n",
            "25/25 [==============================] - 0s 3ms/step - loss: 0.1056 - val_loss: 0.1450\n",
            "Epoch 181/200\n",
            "25/25 [==============================] - 0s 4ms/step - loss: 0.1052 - val_loss: 0.1444\n",
            "Epoch 182/200\n",
            "25/25 [==============================] - 0s 2ms/step - loss: 0.1049 - val_loss: 0.1441\n",
            "Epoch 183/200\n",
            "25/25 [==============================] - 0s 3ms/step - loss: 0.1047 - val_loss: 0.1437\n",
            "Epoch 184/200\n",
            "25/25 [==============================] - 0s 2ms/step - loss: 0.1043 - val_loss: 0.1433\n",
            "Epoch 185/200\n",
            "25/25 [==============================] - 0s 2ms/step - loss: 0.1040 - val_loss: 0.1429\n",
            "Epoch 186/200\n",
            "25/25 [==============================] - 0s 3ms/step - loss: 0.1037 - val_loss: 0.1427\n",
            "Epoch 187/200\n",
            "25/25 [==============================] - 0s 2ms/step - loss: 0.1034 - val_loss: 0.1422\n",
            "Epoch 188/200\n",
            "25/25 [==============================] - 0s 2ms/step - loss: 0.1031 - val_loss: 0.1418\n",
            "Epoch 189/200\n",
            "25/25 [==============================] - 0s 3ms/step - loss: 0.1029 - val_loss: 0.1415\n",
            "Epoch 190/200\n",
            "25/25 [==============================] - 0s 2ms/step - loss: 0.1025 - val_loss: 0.1412\n",
            "Epoch 191/200\n",
            "25/25 [==============================] - 0s 2ms/step - loss: 0.1023 - val_loss: 0.1407\n",
            "Epoch 192/200\n",
            "25/25 [==============================] - 0s 2ms/step - loss: 0.1020 - val_loss: 0.1404\n",
            "Epoch 193/200\n",
            "25/25 [==============================] - 0s 2ms/step - loss: 0.1017 - val_loss: 0.1402\n",
            "Epoch 194/200\n",
            "25/25 [==============================] - 0s 3ms/step - loss: 0.1014 - val_loss: 0.1398\n",
            "Epoch 195/200\n",
            "25/25 [==============================] - 0s 2ms/step - loss: 0.1011 - val_loss: 0.1395\n",
            "Epoch 196/200\n",
            "25/25 [==============================] - 0s 2ms/step - loss: 0.1009 - val_loss: 0.1391\n",
            "Epoch 197/200\n",
            "25/25 [==============================] - 0s 2ms/step - loss: 0.1006 - val_loss: 0.1389\n",
            "Epoch 198/200\n",
            "25/25 [==============================] - 0s 2ms/step - loss: 0.1003 - val_loss: 0.1385\n",
            "Epoch 199/200\n",
            "25/25 [==============================] - 0s 2ms/step - loss: 0.1000 - val_loss: 0.1383\n",
            "Epoch 200/200\n",
            "25/25 [==============================] - 0s 3ms/step - loss: 0.0998 - val_loss: 0.1379\n",
            "training_acc:                                   0.969852\n",
            "test_acc: 0.9455\n"
          ]
        }
      ]
    }
  ]
}