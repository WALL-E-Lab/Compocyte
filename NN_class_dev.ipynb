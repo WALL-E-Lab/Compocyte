{
  "nbformat": 4,
  "nbformat_minor": 0,
  "metadata": {
    "colab": {
      "name": "NN_class_dev.ipynb",
      "provenance": [],
      "collapsed_sections": [],
      "include_colab_link": true
    },
    "kernelspec": {
      "name": "python3",
      "display_name": "Python 3"
    },
    "language_info": {
      "name": "python"
    }
  },
  "cells": [
    {
      "cell_type": "markdown",
      "metadata": {
        "id": "view-in-github",
        "colab_type": "text"
      },
      "source": [
        "<a href=\"https://colab.research.google.com/github/leonSadowski/sc_Hierarchical_Classifier/blob/main/NN_class_dev.ipynb\" target=\"_parent\"><img src=\"https://colab.research.google.com/assets/colab-badge.svg\" alt=\"Open In Colab\"/></a>"
      ]
    },
    {
      "cell_type": "code",
      "source": [
        "import numpy as np \n",
        "import tensorflow as tf \n",
        "import tensorflow.keras as keras \n",
        "from sklearn.preprocessing import LabelEncoder\n",
        "import pandas as pd\n",
        "import networkx as nx"
      ],
      "metadata": {
        "id": "XAInitxPwiAO"
      },
      "execution_count": 406,
      "outputs": []
    },
    {
      "cell_type": "markdown",
      "source": [
        "**Create Class for local (NN) classifier**"
      ],
      "metadata": {
        "id": "FeZG7IAvwWzS"
      }
    },
    {
      "cell_type": "code",
      "execution_count": 407,
      "metadata": {
        "id": "A0eeCUgYwORc"
      },
      "outputs": [],
      "source": [
        "class Neural_Network():\n",
        "\n",
        "  def __init__(self, \n",
        "               x_input_data,\n",
        "               y_input_data,\n",
        "               len_of_output, #NEU!!!!! ÜBERGEBE LÄNGE DES OUTPUT VEKTORS WEIL Y_INPUT für feinere Knoten KEIN PANDAS DATAFRAME MEHR IST\n",
        "               z_transform_input = True,\n",
        "               list_of_hidden_layer_nodes = [30],\n",
        "               activation_function = 'relu',\n",
        "               learning_rate = 0.001,\n",
        "               momentum = .9,\n",
        "               loss_function = 'categorical_crossentropy',\n",
        "               epochs = 50):\n",
        "    \n",
        "    self.x_input_data = x_input_data\n",
        "    self.y_input_data = y_input_data\n",
        "    self.list_of_layer_nodes = [len(self.x_input_data[0])] + [nodes for nodes in list_of_hidden_layer_nodes] + [len_of_output] #[len(self.y_input_data.cat.categories)] \n",
        "    self.activation_function = activation_function \n",
        "    self.learning_rate = learning_rate\n",
        "    self.momentum = momentum\n",
        "    self.loss_function = loss_function\n",
        "    self.epochs = epochs\n",
        "    self.z_transform_input = z_transform_input\n",
        "\n",
        "    #create model\n",
        "\n",
        "    self.model = keras.models.Sequential()\n",
        "\n",
        "    for nodes, layer_idx in zip(self.list_of_layer_nodes, range(0, len(self.list_of_layer_nodes)-1)):\n",
        "\n",
        "      self.model.add(keras.layers.Dense(\n",
        "          input_shape = (nodes,),\n",
        "          units = self.list_of_layer_nodes[layer_idx+1],                            \n",
        "          kernel_initializer = 'glorot_uniform',                                          \n",
        "          bias_initializer = 'zeros',                                               \n",
        "          activation = self.activation_function if layer_idx == 0 else 'softmax'))  \n",
        "        \n",
        "\n",
        "  def process_input_data(self):\n",
        "\n",
        "    #z transformation \n",
        "\n",
        "    def z_transform_properties(data_arr):\n",
        "      '''Calculates a z transformation to center properties across cells in data_arr around mean zero'''\n",
        "      \n",
        "      mean_vals = np.mean(data_arr, axis=0)\n",
        "      std_val = np.std(data_arr)\n",
        "\n",
        "      data_transformed = (data_arr - mean_vals) / std_val\n",
        "\n",
        "      return data_transformed\n",
        "\n",
        "\n",
        "    if self.z_transform_input:\n",
        "      self.x_input_data = z_transform_properties(self.x_input_data)\n",
        "      \n",
        "    #converting labels of y_input_data to integers (mapping 'label'->int)\n",
        "\n",
        "    # ----> erstmal so vereinfacht, dass incoming y_data encoded wird -> ist wegen group_by_labels eh mit strings\n",
        "\n",
        "    print(f'network y_input before encoding: {self.y_input_data}')\n",
        "\n",
        "    self.label_encoder = LabelEncoder()\n",
        "    self.y_input_data_int = self.label_encoder.fit_transform(self.y_input_data)\n",
        "\n",
        "    # if isinstance(self.y_input_data, pd.Series):\n",
        "    #   #encode categorical labels from pandas Series as integers\n",
        "    #   self.label_encoder = LabelEncoder()\n",
        "    #   self.y_input_data_int = self.label_encoder.fit_transform(self.y_input_data.values)\n",
        "\n",
        "    # elif isinstance(self.y_input_data[0], np.ndarray) and self.y_input_data.dtype == int: #so vereinfachen, dass einfach immer encoded wird. mit neuer 'pipeline' wird eh nur y_input mit strings weitergegeben\n",
        "    #   self.y_input_data_int = self.y_input_data\n",
        "\n",
        "    # elif isinstance(self.y_input_data[0], np.ndarray) and self.y_input_data.dtype == str: #y_input kein dataframe mehr, sondern Liste wegen preprocessing!\n",
        "    #   self.y_input_data_int = self.label_encoder.fit_transform(self.y_input_data)\n",
        "\n",
        "    # else:\n",
        "\n",
        "    #   print('Error: Invalid or unknown Data Type for Y Input data')\n",
        "\n",
        "  \n",
        "\n",
        "    #split data (TO DO: implement scikit.learn cross_val_score for k-fold cross validation)\n",
        "\n",
        "    split_data_index = int(2/3 * len(self.x_input_data))\n",
        "\n",
        "    self.x_training_input = self.x_input_data[ : split_data_index]\n",
        "    self.y_training_input_int = self.y_input_data_int[ : split_data_index]\n",
        "\n",
        "    self.x_test_input = self.x_input_data[split_data_index : ]\n",
        "    self.y_test_input_int = self.y_input_data_int[split_data_index : ]\n",
        "\n",
        "    #use integer y_input data for OneHot Encoding (int -> e_i element R^(int+1)) needed for model training\n",
        "\n",
        "    self.y_training_onehot = keras.utils.to_categorical(self.y_training_input_int)\n",
        "    self.y_test_onehot = keras.utils.to_categorical(self.y_test_input_int)\n",
        "\n",
        "\n",
        "  def train(self):\n",
        "    '''Train the NN using the x_training_data input and onehot encoded y_training_onehot'''\n",
        "\n",
        "    self.optimizer = keras.optimizers.SGD(learning_rate = self.learning_rate, momentum = self.momentum)\n",
        "    \n",
        "    self.model.compile(optimizer = self.optimizer, loss = self.loss_function)\n",
        "\n",
        "    history = self.model.fit(self.x_training_input, self.y_training_onehot,\n",
        "                        batch_size = 64, epochs = self.epochs, \n",
        "                        verbose = 1,\n",
        "                        validation_split = .1)\n",
        "    \n",
        "  def predict(self, input_vec):\n",
        "    '''Calculate and return label prediction of trained model for an input vector\n",
        "        input_vec (dtype=int)'''\n",
        "\n",
        "    #returns only absolute decisions, nothing known about the difference in prediction confidence \n",
        "    pred_vec = np.argmax(self.model.predict(input_vec), axis = -1) #-1?\n",
        "\n",
        "    return pred_vec\n",
        "\n",
        "\n",
        "  def validate(self):\n",
        "\n",
        "    self.y_training_preds = self.predict(self.x_training_input)\n",
        "    self.y_test_preds = self.predict(self.x_test_input) \n",
        "\n",
        "    def calc_acc(pred_vec, known_vec):\n",
        "      \n",
        "      if type(pred_vec) == type(known_vec):\n",
        "        acc = np.sum(pred_vec == known_vec, axis = 0) / len(known_vec)\n",
        "      else:\n",
        "        print('self.validate: Error! Comparison of different label encoding!')\n",
        "      \n",
        "      return acc\n",
        "    \n",
        "    # ---> save in node memory, not in classifier model\n",
        "    # self.train_acc = calc_acc(self.y_training_preds, self.y_training_input_int) \n",
        "    # self.test_acc = calc_acc(self.y_test_preds, self.y_test_input_int)\n",
        "\n",
        "    train_acc = calc_acc(self.y_training_preds, self.y_training_input_int)\n",
        "    test_acc = calc_acc(self.y_test_preds, self.y_test_input_int)\n",
        "\n",
        "    return train_acc, test_acc\n",
        "\n",
        "\n",
        "  def master_method_NN(self, validate):\n",
        "    '''method to run all relevant neural network methods, to be called from hierarchical classifier!\n",
        "    not sure if needed'''\n",
        "    \n",
        "    # self.process_input_data()\n",
        "    # self.train()\n",
        "\n",
        "    #prediction vector soll in node_memory gespeichert werden!\n",
        "\n",
        "    pass\n",
        "\n",
        "\n",
        "\n",
        "    \n",
        "    \n",
        "  \n",
        "\n"
      ]
    },
    {
      "cell_type": "markdown",
      "source": [
        "**Class, which instances save relevant information for each node/local classifier**"
      ],
      "metadata": {
        "id": "Uhf6Mz1I_-xD"
      }
    },
    {
      "cell_type": "code",
      "source": [
        "class Node_Memory():\n",
        "\n",
        "  def __init__(self, x_input_data = None, y_input_data = None, local_classifier = None, local_classifier_params = []):\n",
        "\n",
        "      #local_classifier argument is the Class of classifier (eg Neural_Network (classifier specific params, input and output needed for every possible classifier))\n",
        "      #initialize all needed attributes, but assign via HC objects\n",
        "\n",
        "      self.x_input_data = x_input_data  #processing wird von local classifier übernommen (CAVE bei Verwendung anderer LC (eg SVM), dass preprocessing einheitlich ist)\n",
        "      self.y_input_data = y_input_data \n",
        "\n",
        "      print(f'x_input_data from Node_Memory: {x_input_data}')\n",
        "\n",
        "      self.y_input_grouped_labels = None  #is generated via Hierarchical classifier, maps all labels to labels of children of THIS node object\n",
        "\n",
        "      self.apriori_y_input_data_indices = None #save indices of data in y_input vector, that will be used for prediction in order to compute accuracy\n",
        "      \n",
        "      #still manual splitting -> adjust to k fold CV in future\n",
        "      self.training_prediction_vec = None\n",
        "      self.test_prediction_vec = None\n",
        "\n",
        "      self.training_acc = None\n",
        "      self.test_acc = None\n",
        "\n",
        "      #SEEEEEEEHR UNSCHÖÖÖÖÖÖN, PROBLEM MIT Y_INPUT_GROUPED_BY_LABELS_BEHEBEN!! DANN INITIALISIEREN WIEDER IN KONSTRUKTOR SCHREIBEN\n",
        "      self.classifier_class = local_classifier #zwischenspeichern der Klasse bis y_input_grouped labels durch HC ausgegeben wurde --> SEHR UNSCHÖN\n",
        "      self.local_classifier_params = local_classifier_params\n",
        "\n",
        "  def initialize_local_classifier(self, local_classifier_output_len):\n",
        "    print(f'zu übergebene y_input daten: {self.y_input_grouped_labels}')\n",
        "    if self.classifier_class != None:\n",
        "      self.local_classifier = self.classifier_class(self.x_input_data, self.y_input_grouped_labels, local_classifier_output_len, *self.local_classifier_params)  #use y_input with labels that refer to the child nodes\n",
        "    else:\n",
        "      #TO DO: bessere Lösung einfallen lassen\n",
        "      print('WARNING! No classifier initialized!')\n",
        "\n",
        "  #---> sollte eher auch von 'Oberklasse' ausgeführt werden\n",
        "  #Methoden zur Ausführung des local classifiers eines parent nodes\n",
        "    \n",
        "  # def run_local_classifier(self):               \n",
        "  #   self.local_classifier.train()\n",
        "  \n",
        "  #----> soll über hierarchical_classifier objekt aufgerufen werden\n",
        "  # def local_classifier_prediction(self, input_vec): #hier muss noch was passieren, prediction von außen für bestimmte inputs aufrufen\n",
        "  #   self.local_classifier.predict(input_vec)"
      ],
      "metadata": {
        "id": "sZJiCqeZ0gKw"
      },
      "execution_count": 408,
      "outputs": []
    },
    {
      "cell_type": "markdown",
      "source": [
        "**Class for hierarchical model with graph structure, local classifiers are attributes of graph nodes**"
      ],
      "metadata": {
        "id": "bBEkqCnDAGfC"
      }
    },
    {
      "cell_type": "code",
      "source": [
        "def make_graph_from_edges(d, g, parent_key=''):\n",
        "    for key in d.keys():\n",
        "        if parent_key != '':\n",
        "            g.add_edge(parent_key, key)\n",
        "        if len(d[key]) == 0:\n",
        "            pass\n",
        "        else:\n",
        "            make_graph_from_edges(d[key], g, parent_key=key)"
      ],
      "metadata": {
        "id": "sUU8Yb1TmIUK"
      },
      "execution_count": 409,
      "outputs": []
    },
    {
      "cell_type": "code",
      "source": [
        "def list_subgraph_nodes(g, parent_node):\n",
        "  list_of_nodes = []\n",
        "  for node in g.adj[parent_node].keys():\n",
        "    if len(g.adj[parent_node].keys()) != 0:\n",
        "      list_of_nodes.append(node)\n",
        "      list_of_nodes = list_of_nodes + list_subgraph_nodes(g, node)\n",
        "    else:\n",
        "      list_of_nodes.append(node)\n",
        "  return list_of_nodes"
      ],
      "metadata": {
        "id": "NkMWTEyXhnQa"
      },
      "execution_count": 410,
      "outputs": []
    },
    {
      "cell_type": "code",
      "source": [
        "class Hierarchical_Classifier():\n",
        "  '''Class connects Nodes of Local Classifiers, passes results to children classifiers and forms the final hierarchical classifier''' \n",
        "\n",
        "  def __init__(self, dict_of_cell_relations):\n",
        "    '''Params\n",
        "        - dict_of_cell_relations: used for initializing network structure of hierarchical classifier'''\n",
        "    self.dict_of_cell_relations = dict_of_cell_relations\n",
        "\n",
        "\n",
        "  def make_classifier_graph(self):\n",
        "    '''Compute Graph from a given dictionary of cell relationships'''\n",
        "    self.graph = nx.DiGraph()\n",
        "    make_graph_from_edges(self.dict_of_cell_relations, self.graph)\n",
        "\n",
        "  def init_node_memory_object(self, node, memory_class_params=[]):\n",
        "    '''Add memory object to each node; memory object organizes all relevant local classifier params'''\n",
        "    self.graph.add_node(node, memory=Node_Memory(*memory_class_params)) #lade die relevanten Daten\n",
        "    if len(memory_class_params) != 0: #auch sehr unschön ---> so ändern, dass konflit mit NN Initialisierung und berechnen von y_input_grouped_labels in node memory nicht auftritt\n",
        "      self.group_labels_of_subgraph_to_parent_label(node) #schreibe die relevanten (komprimierten) y_input daten durch aufrufen der methode\n",
        "      \n",
        "      print(f'Aus init_node_memory_object von Knoten {node}: output größe initialisiert als {len(self.graph.adj[node].keys())}')\n",
        "      \n",
        "      self.graph.nodes[node]['memory'].initialize_local_classifier(len(self.graph.adj[node].keys())) #initialisiere den local_classifier (jetzt ist y_input_grouped_labels in node memory gegeben)\n",
        "                                                                                                      #GEÄNDERT: ÜBERGEBE LÄNGE DES LETZTEN LAYERS DES NN, vorher aus cat.categories geschlossen\n",
        "                                                                                                      #aber y_input_grouped_labels ist eine Liste\n",
        "  def run_local_classifier(self, node):\n",
        "    '''DEV METHOD: use for calling single methods at once to begin with'''\n",
        "    \n",
        "    #wo werden dem ersten local classifier die daten übergeben? --> aktuell manuell (s.u. TESTEN)\n",
        "\n",
        "    #ONLY NEEDED FOR GLOBAL ACCURACY\n",
        "    #save indices of known labels of daughter nodes in these corresponding nodes (i.e. eg node 'TNK' knows indices of 'TNK' in y_input_data of node 'all' ) \n",
        "    next_labels = [label for label in self.graph[node].keys()]\n",
        "    for label in next_labels:\n",
        "      self.graph.nodes[label]['memory'].apriori_y_input_data_indices = np.where(np.array(self.graph.nodes[node]['memory'].y_input_data) == label)\n",
        "\n",
        "    #run needed local classifier methods to train model\n",
        "    self.graph.nodes[node]['memory'].local_classifier.process_input_data()\n",
        "    self.graph.nodes[node]['memory'].local_classifier.train()\n",
        "\n",
        "    #predict trainings and test data (still splitted manually -> k fold cross validation) and save in corresponding node memory\n",
        "    self.graph.nodes[node]['memory'].training_prediction_vec = self.graph.nodes[node]['memory'].local_classifier.predict(self.graph.nodes[node]['memory'].local_classifier.x_training_input)\n",
        "    self.graph.nodes[node]['memory'].test_prediction_vec = self.graph.nodes[node]['memory'].local_classifier.predict(self.graph.nodes[node]['memory'].local_classifier.x_test_input)\n",
        "\n",
        "    #validate model \n",
        "    self.graph.nodes[node]['memory'].training_acc, self.graph.nodes[node]['memory'].test_acc =  self.graph.nodes[node]['memory'].local_classifier.validate()\n",
        "\n",
        "\n",
        "  def run_local_classifier_master(self, node, validate = True):\n",
        "    '''run master method of local classifier'''\n",
        "    pass\n",
        "\n",
        "\n",
        "  #automatisches mapping der feineren labels zu den groberen durch iterieren über die Labels der subgraphen, ausführen über \n",
        "  #Hierarchical_Classifier in jedem Knoten --> als y_input_data in node_memory speichern\n",
        "  #Ziel: mapping aus textzelle automatisieren, dafür: nimm 'Nachbarn' als nächste parentlabel, deren kinder müssen \n",
        "  #dann zu Nachbarn gemapped werden\n",
        "\n",
        "  #benutze den graph, weil hier die ecken bereits klar sind, klarer als in gegebenem dictionary (dort müsste über keys von keys iteriert werden)\n",
        "\n",
        "  def group_labels_of_subgraph_to_parent_label(self, super_node):\n",
        "    '''Maps y_input_data labels to parent label (eg map (CD4 T, CD8 T, NK) -> (TNK) for all neighbors of given super_node (eg TNK, B, Others) of Graph g\n",
        "      Params:\n",
        "        - super_node: node at which local classifier has to be run\n",
        "        \n",
        "      Saves result in y_input_grouped_labels attribute of Node_memory of super_node''' \n",
        "\n",
        "    mapping_dict = {node : [child_node for child_node in list_subgraph_nodes(self.graph, node)] for node in self.graph.adj[super_node].keys() }\n",
        "\n",
        "    print(f'mapping_dict from group_labels_.. method of node {super_node}: {mapping_dict} before checking for annotation depth')\n",
        "\n",
        "    #check if some neighbor nodes have already achieved highest annotation depth (terminal nodes) and map those to itself\n",
        "    for key in mapping_dict.keys():\n",
        "      if mapping_dict[key] == []:\n",
        "        mapping_dict[key] = key\n",
        "\n",
        "    print(f'mapping_dict from group_labels_.. method of node {super_node}: {mapping_dict} after checking for annotation depth')\n",
        "\n",
        "\n",
        "\n",
        "    mapper = {k:v for v,k in pd.Series(mapping_dict).explode().iteritems()} #write dict such that key and value are interchanged, then map; von StackOverFlow: letze antwort https://stackoverflow.com/questions/32262982/pandas-combining-multiple-categories-into-one\n",
        "    print(f'mapper for node {super_node}: {mapper}')\n",
        "\n",
        "    #check if some cells were mislead and throw them out (otherwise they are labelled nan which gives more output units for neural network than needed + might be problematic for training of NN if \n",
        "    #cells are used asa data which were initially wrong, but are mapped to an output category)\n",
        "    #DOES NOT WORK FOR PREDICTION OF UNLABELED CELLS OF COURSE! OPTION TRAINING/PREDICTION MODE NEEDED!\n",
        "\n",
        "    temp_y_input = self.graph.nodes[super_node]['memory'].y_input_data\n",
        "\n",
        "    print(f'y_input of this node before checking for wrong labels: {temp_y_input[:200]} and its shape: {temp_y_input.shape}')\n",
        "\n",
        "    \n",
        "    idx_of_incorrectly_labelled_cells = []\n",
        "    for cell_label, cell_idx in zip(self.graph.nodes[super_node]['memory'].y_input_data, range(0, len(self.graph.nodes[super_node]['memory'].y_input_data))):\n",
        "      if cell_label not in mapper.keys():\n",
        "        idx_of_incorrectly_labelled_cells.append(cell_idx)\n",
        "    self.graph.nodes[super_node]['memory'].y_input_data = np.delete(self.graph.nodes[super_node]['memory'].y_input_data,idx_of_incorrectly_labelled_cells, axis = 0)\n",
        "    self.graph.nodes[super_node]['memory'].x_input_data = np.delete(self.graph.nodes[super_node]['memory'].x_input_data,idx_of_incorrectly_labelled_cells, axis = 0)\n",
        "    temp_y_input = self.graph.nodes[super_node]['memory'].y_input_data\n",
        "\n",
        "    print(f'y_input of this node after checking for wrong labels: {temp_y_input[:200]} and its shape: {temp_y_input.shape}')\n",
        "\n",
        "  \n",
        "\n",
        "    self.graph.nodes[super_node]['memory'].y_input_grouped_labels = [mapper.get(k) for k in self.graph.nodes[super_node]['memory'].y_input_data]\n",
        "    \n",
        "\n",
        "  def subset_pred_vec(self, node):\n",
        "    next_labels = [label for label in self.graph[node].keys()]\n",
        "    #fuse training and test data predictions to one prediction in order to have more data for next node (use local variable)\n",
        "    current_pred_vec = np.concatenate((self.graph.nodes[node]['memory'].training_prediction_vec, self.graph.nodes[node]['memory'].test_prediction_vec), axis = 0)\n",
        "    current_pred_vec = self.graph.nodes[node]['memory'].local_classifier.label_encoder.inverse_transform(current_pred_vec)\n",
        "\n",
        "    print(f'zusammengefügter pred_vec aus training und testdaten: {current_pred_vec[:500]}\\n')\n",
        "    temp_current_x_input = self.graph.nodes[node]['memory'].x_input_data\n",
        "    temp_current_y_input = self.graph.nodes[node]['memory'].y_input_data\n",
        "\n",
        "    print(f'shape der vektoren: current_pred_vec: {current_pred_vec.shape} \\n x_input der aktuellen node: {temp_current_x_input.shape}, y_input der aktuellen node: {temp_current_x_input.shape}')\n",
        "\n",
        "    for next_label in next_labels:\n",
        "\n",
        "      print(f'label in subset_pred_vec: {next_label}')\n",
        "\n",
        "      #following line decodes integer output of neural network to string labels (for test and training data -> prediction vecs now overwritten, might be appropriate to use local variable) in order to compare with names of following nodes (again encoded by following local classifier)\n",
        "      # self.graph.nodes[node]['memory'].training_prediction_vec = self.graph.nodes[node]['memory'].local_classifier.label_encoder.inverse_transform(self.graph.nodes[node]['memory'].training_prediction_vec)\n",
        "      # self.graph.nodes[node]['memory'].test_prediction_vec = self.graph.nodes[node]['memory'].local_classifier.label_encoder.inverse_transform(self.graph.nodes[node]['memory'].test_prediction_vec)\n",
        "      # temp_idx_vec = np.where(np.array(self.graph.nodes[node]['memory'].prediction_vec) == next_label)\n",
        "      \n",
        "      temp_idx_vec = np.where(current_pred_vec == next_label)\n",
        "      #problem: damit werden auch falsch gelabelte daten aus dem prediction vektor mitgenommen\n",
        "      #---> beim group labels die indizes rausschmeißen, die falsch gelabeled wurden (MÜSSTE FÜR OVERALL ACCURACY BERÜCKSICHTIGT WERDEN!! bzw wird es eigentlich schon?)\n",
        "      self.graph.nodes[next_label]['memory'].x_input_data = np.array(self.graph.nodes[node]['memory'].x_input_data)[temp_idx_vec]\n",
        "      self.graph.nodes[next_label]['memory'].y_input_data = np.array(self.graph.nodes[node]['memory'].y_input_data)[temp_idx_vec]\n",
        "\n",
        "\n",
        "  def master_method(self):\n",
        "    '''method to run all relevant methods -> \"one-click\" initializing of hierarchical classifier (?)'''\n",
        "    pass\n",
        "\n"
      ],
      "metadata": {
        "id": "IQaUTDTS_X1J"
      },
      "execution_count": 411,
      "outputs": []
    },
    {
      "cell_type": "markdown",
      "source": [
        "**#######################################################**\n",
        "**Messy Test bereich**"
      ],
      "metadata": {
        "id": "K-hKrllEGSri"
      }
    },
    {
      "cell_type": "code",
      "source": [
        "# hc.group_labels_of_subgraph_to_parent_label('all')"
      ],
      "metadata": {
        "id": "5-bVX9M4afKF"
      },
      "execution_count": 412,
      "outputs": []
    },
    {
      "cell_type": "markdown",
      "source": [
        "**Test of Local classifier class**"
      ],
      "metadata": {
        "id": "F_RdxaiARRj3"
      }
    },
    {
      "cell_type": "code",
      "source": [
        "!pip install scanpy \n"
      ],
      "metadata": {
        "id": "ICWY1MyZRVbk",
        "colab": {
          "base_uri": "https://localhost:8080/"
        },
        "outputId": "d5594404-5af7-4ac5-a1dc-89fd3a8230b2"
      },
      "execution_count": 413,
      "outputs": [
        {
          "output_type": "stream",
          "name": "stdout",
          "text": [
            "Requirement already satisfied: scanpy in /usr/local/lib/python3.7/dist-packages (1.8.2)\n",
            "Requirement already satisfied: scipy>=1.4 in /usr/local/lib/python3.7/dist-packages (from scanpy) (1.4.1)\n",
            "Requirement already satisfied: importlib_metadata>=0.7 in /usr/local/lib/python3.7/dist-packages (from scanpy) (4.11.2)\n",
            "Requirement already satisfied: tqdm in /usr/local/lib/python3.7/dist-packages (from scanpy) (4.63.0)\n",
            "Requirement already satisfied: sinfo in /usr/local/lib/python3.7/dist-packages (from scanpy) (0.3.4)\n",
            "Requirement already satisfied: umap-learn>=0.3.10 in /usr/local/lib/python3.7/dist-packages (from scanpy) (0.5.2)\n",
            "Requirement already satisfied: numpy>=1.17.0 in /usr/local/lib/python3.7/dist-packages (from scanpy) (1.21.5)\n",
            "Requirement already satisfied: pandas>=0.21 in /usr/local/lib/python3.7/dist-packages (from scanpy) (1.3.5)\n",
            "Requirement already satisfied: natsort in /usr/local/lib/python3.7/dist-packages (from scanpy) (5.5.0)\n",
            "Requirement already satisfied: matplotlib>=3.1.2 in /usr/local/lib/python3.7/dist-packages (from scanpy) (3.2.2)\n",
            "Requirement already satisfied: scikit-learn>=0.22 in /usr/local/lib/python3.7/dist-packages (from scanpy) (1.0.2)\n",
            "Requirement already satisfied: joblib in /usr/local/lib/python3.7/dist-packages (from scanpy) (1.1.0)\n",
            "Requirement already satisfied: seaborn in /usr/local/lib/python3.7/dist-packages (from scanpy) (0.11.2)\n",
            "Requirement already satisfied: tables in /usr/local/lib/python3.7/dist-packages (from scanpy) (3.7.0)\n",
            "Requirement already satisfied: h5py>=2.10.0 in /usr/local/lib/python3.7/dist-packages (from scanpy) (3.1.0)\n",
            "Requirement already satisfied: statsmodels>=0.10.0rc2 in /usr/local/lib/python3.7/dist-packages (from scanpy) (0.10.2)\n",
            "Requirement already satisfied: packaging in /usr/local/lib/python3.7/dist-packages (from scanpy) (21.3)\n",
            "Requirement already satisfied: networkx>=2.3 in /usr/local/lib/python3.7/dist-packages (from scanpy) (2.6.3)\n",
            "Requirement already satisfied: anndata>=0.7.4 in /usr/local/lib/python3.7/dist-packages (from scanpy) (0.8.0)\n",
            "Requirement already satisfied: numba>=0.41.0 in /usr/local/lib/python3.7/dist-packages (from scanpy) (0.51.2)\n",
            "Requirement already satisfied: patsy in /usr/local/lib/python3.7/dist-packages (from scanpy) (0.5.2)\n",
            "Requirement already satisfied: typing_extensions in /usr/local/lib/python3.7/dist-packages (from anndata>=0.7.4->scanpy) (3.10.0.2)\n",
            "Requirement already satisfied: cached-property in /usr/local/lib/python3.7/dist-packages (from h5py>=2.10.0->scanpy) (1.5.2)\n",
            "Requirement already satisfied: zipp>=0.5 in /usr/local/lib/python3.7/dist-packages (from importlib_metadata>=0.7->scanpy) (3.7.0)\n",
            "Requirement already satisfied: cycler>=0.10 in /usr/local/lib/python3.7/dist-packages (from matplotlib>=3.1.2->scanpy) (0.11.0)\n",
            "Requirement already satisfied: pyparsing!=2.0.4,!=2.1.2,!=2.1.6,>=2.0.1 in /usr/local/lib/python3.7/dist-packages (from matplotlib>=3.1.2->scanpy) (3.0.7)\n",
            "Requirement already satisfied: python-dateutil>=2.1 in /usr/local/lib/python3.7/dist-packages (from matplotlib>=3.1.2->scanpy) (2.8.2)\n",
            "Requirement already satisfied: kiwisolver>=1.0.1 in /usr/local/lib/python3.7/dist-packages (from matplotlib>=3.1.2->scanpy) (1.3.2)\n",
            "Requirement already satisfied: llvmlite<0.35,>=0.34.0.dev0 in /usr/local/lib/python3.7/dist-packages (from numba>=0.41.0->scanpy) (0.34.0)\n",
            "Requirement already satisfied: setuptools in /usr/local/lib/python3.7/dist-packages (from numba>=0.41.0->scanpy) (57.4.0)\n",
            "Requirement already satisfied: pytz>=2017.3 in /usr/local/lib/python3.7/dist-packages (from pandas>=0.21->scanpy) (2018.9)\n",
            "Requirement already satisfied: six>=1.5 in /usr/local/lib/python3.7/dist-packages (from python-dateutil>=2.1->matplotlib>=3.1.2->scanpy) (1.15.0)\n",
            "Requirement already satisfied: threadpoolctl>=2.0.0 in /usr/local/lib/python3.7/dist-packages (from scikit-learn>=0.22->scanpy) (3.1.0)\n",
            "Requirement already satisfied: pynndescent>=0.5 in /usr/local/lib/python3.7/dist-packages (from umap-learn>=0.3.10->scanpy) (0.5.6)\n",
            "Requirement already satisfied: stdlib-list in /usr/local/lib/python3.7/dist-packages (from sinfo->scanpy) (0.8.0)\n",
            "Requirement already satisfied: numexpr>=2.6.2 in /usr/local/lib/python3.7/dist-packages (from tables->scanpy) (2.8.1)\n"
          ]
        }
      ]
    },
    {
      "cell_type": "code",
      "source": [
        "import scanpy as sc"
      ],
      "metadata": {
        "id": "qvbTHN7Tek7N"
      },
      "execution_count": 414,
      "outputs": []
    },
    {
      "cell_type": "code",
      "source": [
        "from google.colab import drive\n",
        "drive.mount('/content/drive/')"
      ],
      "metadata": {
        "colab": {
          "base_uri": "https://localhost:8080/"
        },
        "id": "yExXmrwfQuPx",
        "outputId": "ef30b76b-1a51-4af4-b4e1-cbe53c506cd6"
      },
      "execution_count": 415,
      "outputs": [
        {
          "output_type": "stream",
          "name": "stdout",
          "text": [
            "Drive already mounted at /content/drive/; to attempt to forcibly remount, call drive.mount(\"/content/drive/\", force_remount=True).\n"
          ]
        }
      ]
    },
    {
      "cell_type": "code",
      "source": [
        "adata = sc.read('drive/MyDrive/single_cell/processed/pbmc3k_level_1_scvi.h5ad')"
      ],
      "metadata": {
        "id": "MIoF8UQJRf9g"
      },
      "execution_count": 416,
      "outputs": []
    },
    {
      "cell_type": "code",
      "source": [
        "adata.obs['leiden']"
      ],
      "metadata": {
        "colab": {
          "base_uri": "https://localhost:8080/"
        },
        "id": "rU0gryAt9Buo",
        "outputId": "db060e74-76bc-487c-ccc7-3927103298bc"
      },
      "execution_count": 417,
      "outputs": [
        {
          "output_type": "execute_result",
          "data": {
            "text/plain": [
              "AAACATACAACCAC-1               CD8 T\n",
              "AAACATTGAGCTAC-1                   B\n",
              "AAACATTGATCAGC-1               CD4 T\n",
              "AAACCGTGCTTCCG-1                  NK\n",
              "AAACCGTGTATGCG-1    FCGR3A Monocytes\n",
              "                          ...       \n",
              "TTTCGAACTCTCAT-1      CD14 Monocytes\n",
              "TTTCTACTGAGGCA-1                   B\n",
              "TTTCTACTTCCTCG-1                   B\n",
              "TTTGCATGAGAGGC-1                   B\n",
              "TTTGCATGCCTCAC-1               CD4 T\n",
              "Name: leiden, Length: 2638, dtype: category\n",
              "Categories (8, object): ['CD4 T', 'CD14 Monocytes', 'B', 'CD8 T', 'NK', 'FCGR3A Monocytes',\n",
              "                         'Dendritic', 'Megakaryocytes']"
            ]
          },
          "metadata": {},
          "execution_count": 417
        }
      ]
    },
    {
      "cell_type": "code",
      "source": [
        "adata.obs['training_level_1']"
      ],
      "metadata": {
        "colab": {
          "base_uri": "https://localhost:8080/"
        },
        "id": "EOteQm1jXdLL",
        "outputId": "eef32708-23cd-488c-9355-8515f07b7a95"
      },
      "execution_count": 418,
      "outputs": [
        {
          "output_type": "execute_result",
          "data": {
            "text/plain": [
              "AAACATACAACCAC-1          TNK\n",
              "AAACATTGAGCTAC-1            B\n",
              "AAACATTGATCAGC-1          TNK\n",
              "AAACCGTGCTTCCG-1          TNK\n",
              "AAACCGTGTATGCG-1    Myeloisch\n",
              "                      ...    \n",
              "TTTCGAACTCTCAT-1    Myeloisch\n",
              "TTTCTACTGAGGCA-1            B\n",
              "TTTCTACTTCCTCG-1            B\n",
              "TTTGCATGAGAGGC-1            B\n",
              "TTTGCATGCCTCAC-1          TNK\n",
              "Name: training_level_1, Length: 2638, dtype: category\n",
              "Categories (4, object): ['B', 'Myeloisch', 'Others', 'TNK']"
            ]
          },
          "metadata": {},
          "execution_count": 418
        }
      ]
    },
    {
      "cell_type": "code",
      "source": [
        "#neues erstellen des digraphs, for loop setzt alle node memories zurück\n",
        "hc = Hierarchical_Classifier({'all': {'TNK':{'CD4 T':{}, 'CD8 T':{}, 'NK':{}}, 'Myeloisch':{'FCGR3A Monocytes': {}, 'Dendritic':{}, 'CD14 Monocytes':{}}, 'B': {}, 'Others':{'Megakaryocytes':{}}}})\n",
        "hc.make_classifier_graph()\n",
        "for node in hc.graph.nodes:\n",
        "  hc.init_node_memory_object(node)\n",
        "nx.draw(hc.graph, with_labels=True)"
      ],
      "metadata": {
        "id": "AopRfZquzw_B",
        "colab": {
          "base_uri": "https://localhost:8080/",
          "height": 527
        },
        "outputId": "ae93e4f0-97a9-4706-e24c-31d772b0098c"
      },
      "execution_count": 419,
      "outputs": [
        {
          "output_type": "stream",
          "name": "stdout",
          "text": [
            "x_input_data from Node_Memory: None\n",
            "x_input_data from Node_Memory: None\n",
            "x_input_data from Node_Memory: None\n",
            "x_input_data from Node_Memory: None\n",
            "x_input_data from Node_Memory: None\n",
            "x_input_data from Node_Memory: None\n",
            "x_input_data from Node_Memory: None\n",
            "x_input_data from Node_Memory: None\n",
            "x_input_data from Node_Memory: None\n",
            "x_input_data from Node_Memory: None\n",
            "x_input_data from Node_Memory: None\n",
            "x_input_data from Node_Memory: None\n"
          ]
        },
        {
          "output_type": "display_data",
          "data": {
            "text/plain": [
              "<Figure size 432x288 with 1 Axes>"
            ],
            "image/png": "[encoded data removed]"
          },
          "metadata": {}
        }
      ]
    },
    {
      "cell_type": "code",
      "source": [
        "list_subgraph_nodes(hc.graph, 'Myeloisch')"
      ],
      "metadata": {
        "colab": {
          "base_uri": "https://localhost:8080/"
        },
        "id": "otQ0mLmh82GW",
        "outputId": "32073d05-e267-4364-ecc0-a53404b91bec"
      },
      "execution_count": 420,
      "outputs": [
        {
          "output_type": "execute_result",
          "data": {
            "text/plain": [
              "['FCGR3A Monocytes', 'Dendritic', 'CD14 Monocytes']"
            ]
          },
          "metadata": {},
          "execution_count": 420
        }
      ]
    },
    {
      "cell_type": "code",
      "source": [
        "#save input data and initialize first network in first node\n",
        "hc.init_node_memory_object('all', [adata.obsm['X_scVI'], adata.obs['leiden'], Neural_Network])"
      ],
      "metadata": {
        "id": "mP-BYisi-cda",
        "colab": {
          "base_uri": "https://localhost:8080/"
        },
        "outputId": "d85cd807-c70a-4525-a49f-2498a7c412ce"
      },
      "execution_count": 421,
      "outputs": [
        {
          "output_type": "stream",
          "name": "stdout",
          "text": [
            "x_input_data from Node_Memory: [[-8.2410008e-01 -4.4704255e-01 -4.0748629e-01 ...  1.5713328e+00\n",
            "  -1.5464950e+00 -1.4017861e+00]\n",
            " [ 1.6846647e+00  1.5554001e+00  1.4539602e+00 ...  8.6505902e-01\n",
            "   2.4610202e-01 -6.0205215e-01]\n",
            " [-1.9270294e+00 -8.9073777e-03  9.7932434e-01 ... -6.7529649e-01\n",
            "   2.8452635e-01 -3.1107724e-02]\n",
            " ...\n",
            " [ 1.7275798e+00  1.5300920e+00 -3.5907480e-01 ...  5.2253544e-01\n",
            "  -9.2591718e-04  5.8562118e-01]\n",
            " [ 2.0938647e-01 -1.8596342e-01 -6.2905848e-01 ... -8.6578712e-02\n",
            "  -2.9944363e-01  6.0269815e-01]\n",
            " [-7.3548514e-01 -2.7967069e-02 -2.4904236e-01 ...  5.8232641e-01\n",
            "  -2.8247118e-01 -2.6726872e-01]]\n",
            "mapping_dict from group_labels_.. method of node all: {'TNK': ['CD4 T', 'CD8 T', 'NK'], 'Myeloisch': ['FCGR3A Monocytes', 'Dendritic', 'CD14 Monocytes'], 'B': [], 'Others': ['Megakaryocytes']} before checking for annotation depth\n",
            "mapping_dict from group_labels_.. method of node all: {'TNK': ['CD4 T', 'CD8 T', 'NK'], 'Myeloisch': ['FCGR3A Monocytes', 'Dendritic', 'CD14 Monocytes'], 'B': 'B', 'Others': ['Megakaryocytes']} after checking for annotation depth\n",
            "mapper for node all: {'CD4 T': 'TNK', 'CD8 T': 'TNK', 'NK': 'TNK', 'FCGR3A Monocytes': 'Myeloisch', 'Dendritic': 'Myeloisch', 'CD14 Monocytes': 'Myeloisch', 'B': 'B', 'Megakaryocytes': 'Others'}\n",
            "y_input of this node before checking for wrong labels: AAACATACAACCAC-1               CD8 T\n",
            "AAACATTGAGCTAC-1                   B\n",
            "AAACATTGATCAGC-1               CD4 T\n",
            "AAACCGTGCTTCCG-1                  NK\n",
            "AAACCGTGTATGCG-1    FCGR3A Monocytes\n",
            "                          ...       \n",
            "ACACAGACCATACG-1               CD8 T\n",
            "ACACCAGAGGGCAA-1               CD8 T\n",
            "ACACCCTGGTGTTG-1    FCGR3A Monocytes\n",
            "ACACGAACAGTTCG-1               CD8 T\n",
            "ACACGATGACGCAT-1               CD8 T\n",
            "Name: leiden, Length: 200, dtype: category\n",
            "Categories (8, object): ['CD4 T', 'CD14 Monocytes', 'B', 'CD8 T', 'NK', 'FCGR3A Monocytes',\n",
            "                         'Dendritic', 'Megakaryocytes'] and its shape: (2638,)\n",
            "y_input of this node after checking for wrong labels: AAACATACAACCAC-1               CD8 T\n",
            "AAACATTGAGCTAC-1                   B\n",
            "AAACATTGATCAGC-1               CD4 T\n",
            "AAACCGTGCTTCCG-1                  NK\n",
            "AAACCGTGTATGCG-1    FCGR3A Monocytes\n",
            "                          ...       \n",
            "ACACAGACCATACG-1               CD8 T\n",
            "ACACCAGAGGGCAA-1               CD8 T\n",
            "ACACCCTGGTGTTG-1    FCGR3A Monocytes\n",
            "ACACGAACAGTTCG-1               CD8 T\n",
            "ACACGATGACGCAT-1               CD8 T\n",
            "Name: leiden, Length: 200, dtype: object and its shape: (2638,)\n",
            "Aus init_node_memory_object von Knoten all: output größe initialisiert als 4\n",
            "zu übergebene y_input daten: ['TNK', 'B', 'TNK', 'TNK', 'Myeloisch', 'TNK', 'TNK', 'TNK', 'TNK', 'TNK', 'B', 'TNK', 'TNK', 'Myeloisch', 'TNK', 'TNK', 'Myeloisch', 'TNK', 'B', 'B', 'B', 'TNK', 'Myeloisch', 'B', 'TNK', 'TNK', 'TNK', 'TNK', 'TNK', 'TNK', 'TNK', 'B', 'Myeloisch', 'TNK', 'Myeloisch', 'TNK', 'Myeloisch', 'TNK', 'TNK', 'Myeloisch', 'TNK', 'TNK', 'TNK', 'TNK', 'TNK', 'TNK', 'TNK', 'Myeloisch', 'TNK', 'TNK', 'TNK', 'TNK', 'TNK', 'TNK', 'TNK', 'B', 'Myeloisch', 'TNK', 'Myeloisch', 'TNK', 'TNK', 'TNK', 'Myeloisch', 'TNK', 'TNK', 'TNK', 'TNK', 'TNK', 'TNK', 'TNK', 'TNK', 'Myeloisch', 'TNK', 'Myeloisch', 'TNK', 'B', 'TNK', 'TNK', 'TNK', 'Myeloisch', 'Myeloisch', 'TNK', 'TNK', 'TNK', 'Myeloisch', 'B', 'TNK', 'TNK', 'B', 'B', 'TNK', 'Myeloisch', 'B', 'B', 'Myeloisch', 'Myeloisch', 'TNK', 'Myeloisch', 'Myeloisch', 'Myeloisch', 'Myeloisch', 'Myeloisch', 'TNK', 'TNK', 'Myeloisch', 'B', 'TNK', 'B', 'TNK', 'Myeloisch', 'Myeloisch', 'TNK', 'TNK', 'TNK', 'Myeloisch', 'TNK', 'TNK', 'B', 'TNK', 'TNK', 'TNK', 'Myeloisch', 'B', 'TNK', 'TNK', 'TNK', 'Myeloisch', 'B', 'Myeloisch', 'TNK', 'TNK', 'TNK', 'TNK', 'TNK', 'B', 'TNK', 'TNK', 'TNK', 'TNK', 'B', 'TNK', 'TNK', 'Myeloisch', 'B', 'TNK', 'TNK', 'B', 'TNK', 'Myeloisch', 'Myeloisch', 'TNK', 'TNK', 'TNK', 'TNK', 'Myeloisch', 'TNK', 'TNK', 'Myeloisch', 'TNK', 'Myeloisch', 'B', 'Myeloisch', 'B', 'Myeloisch', 'TNK', 'B', 'TNK', 'TNK', 'TNK', 'TNK', 'TNK', 'TNK', 'TNK', 'Myeloisch', 'TNK', 'Myeloisch', 'TNK', 'TNK', 'B', 'B', 'TNK', 'B', 'TNK', 'TNK', 'Myeloisch', 'Myeloisch', 'Myeloisch', 'TNK', 'Myeloisch', 'TNK', 'B', 'TNK', 'B', 'TNK', 'Myeloisch', 'TNK', 'TNK', 'Myeloisch', 'TNK', 'TNK', 'Myeloisch', 'TNK', 'TNK', 'TNK', 'TNK', 'TNK', 'TNK', 'TNK', 'TNK', 'Myeloisch', 'TNK', 'TNK', 'TNK', 'TNK', 'TNK', 'Myeloisch', 'Myeloisch', 'TNK', 'B', 'TNK', 'TNK', 'Myeloisch', 'TNK', 'TNK', 'TNK', 'TNK', 'TNK', 'TNK', 'TNK', 'TNK', 'TNK', 'B', 'TNK', 'TNK', 'Myeloisch', 'TNK', 'TNK', 'TNK', 'TNK', 'TNK', 'TNK', 'B', 'Myeloisch', 'TNK', 'Others', 'Myeloisch', 'TNK', 'Myeloisch', 'TNK', 'B', 'TNK', 'Myeloisch', 'TNK', 'B', 'Myeloisch', 'TNK', 'TNK', 'B', 'B', 'TNK', 'TNK', 'TNK', 'TNK', 'TNK', 'TNK', 'Myeloisch', 'Myeloisch', 'Myeloisch', 'TNK', 'Myeloisch', 'Others', 'TNK', 'B', 'TNK', 'TNK', 'B', 'TNK', 'Myeloisch', 'TNK', 'TNK', 'B', 'B', 'Myeloisch', 'Myeloisch', 'TNK', 'TNK', 'TNK', 'Myeloisch', 'B', 'TNK', 'Myeloisch', 'TNK', 'TNK', 'TNK', 'TNK', 'B', 'TNK', 'TNK', 'TNK', 'Myeloisch', 'Myeloisch', 'TNK', 'Myeloisch', 'B', 'TNK', 'TNK', 'TNK', 'TNK', 'TNK', 'TNK', 'TNK', 'Myeloisch', 'B', 'B', 'TNK', 'TNK', 'TNK', 'B', 'TNK', 'Myeloisch', 'TNK', 'Myeloisch', 'TNK', 'Myeloisch', 'Myeloisch', 'B', 'Myeloisch', 'TNK', 'TNK', 'Myeloisch', 'TNK', 'TNK', 'TNK', 'TNK', 'TNK', 'Myeloisch', 'Myeloisch', 'B', 'Myeloisch', 'TNK', 'TNK', 'Myeloisch', 'TNK', 'TNK', 'TNK', 'TNK', 'TNK', 'TNK', 'TNK', 'TNK', 'TNK', 'B', 'Myeloisch', 'TNK', 'Myeloisch', 'Myeloisch', 'TNK', 'TNK', 'TNK', 'TNK', 'TNK', 'B', 'TNK', 'Myeloisch', 'Myeloisch', 'TNK', 'B', 'Myeloisch', 'TNK', 'TNK', 'Myeloisch', 'TNK', 'TNK', 'TNK', 'Myeloisch', 'TNK', 'B', 'B', 'Myeloisch', 'TNK', 'TNK', 'Myeloisch', 'TNK', 'TNK', 'Myeloisch', 'B', 'TNK', 'Myeloisch', 'Myeloisch', 'B', 'TNK', 'TNK', 'TNK', 'TNK', 'TNK', 'TNK', 'TNK', 'Myeloisch', 'Myeloisch', 'TNK', 'TNK', 'TNK', 'B', 'Myeloisch', 'TNK', 'TNK', 'TNK', 'B', 'B', 'TNK', 'TNK', 'B', 'TNK', 'Myeloisch', 'TNK', 'TNK', 'TNK', 'TNK', 'TNK', 'B', 'Myeloisch', 'TNK', 'B', 'TNK', 'Myeloisch', 'Myeloisch', 'B', 'B', 'TNK', 'TNK', 'Myeloisch', 'Myeloisch', 'Myeloisch', 'TNK', 'TNK', 'TNK', 'TNK', 'Myeloisch', 'TNK', 'TNK', 'B', 'Myeloisch', 'TNK', 'Myeloisch', 'TNK', 'TNK', 'TNK', 'TNK', 'TNK', 'TNK', 'TNK', 'TNK', 'TNK', 'TNK', 'B', 'Myeloisch', 'TNK', 'TNK', 'TNK', 'Myeloisch', 'TNK', 'TNK', 'TNK', 'TNK', 'TNK', 'TNK', 'TNK', 'Myeloisch', 'TNK', 'TNK', 'TNK', 'TNK', 'TNK', 'TNK', 'TNK', 'TNK', 'TNK', 'TNK', 'B', 'TNK', 'TNK', 'TNK', 'TNK', 'TNK', 'TNK', 'TNK', 'TNK', 'Myeloisch', 'B', 'Myeloisch', 'TNK', 'TNK', 'TNK', 'TNK', 'TNK', 'TNK', 'Myeloisch', 'TNK', 'TNK', 'TNK', 'TNK', 'TNK', 'Myeloisch', 'TNK', 'B', 'Myeloisch', 'TNK', 'Myeloisch', 'B', 'TNK', 'TNK', 'TNK', 'TNK', 'B', 'Myeloisch', 'Myeloisch', 'TNK', 'TNK', 'TNK', 'Myeloisch', 'B', 'TNK', 'TNK', 'TNK', 'TNK', 'B', 'TNK', 'TNK', 'TNK', 'TNK', 'TNK', 'Myeloisch', 'TNK', 'TNK', 'TNK', 'TNK', 'TNK', 'TNK', 'TNK', 'TNK', 'Myeloisch', 'TNK', 'TNK', 'TNK', 'Others', 'TNK', 'TNK', 'TNK', 'Myeloisch', 'TNK', 'Myeloisch', 'TNK', 'TNK', 'Myeloisch', 'TNK', 'TNK', 'TNK', 'TNK', 'TNK', 'Myeloisch', 'TNK', 'B', 'TNK', 'Myeloisch', 'TNK', 'TNK', 'TNK', 'TNK', 'TNK', 'B', 'TNK', 'TNK', 'B', 'TNK', 'TNK', 'Myeloisch', 'TNK', 'Myeloisch', 'Myeloisch', 'Myeloisch', 'Myeloisch', 'Myeloisch', 'TNK', 'Myeloisch', 'TNK', 'TNK', 'TNK', 'Myeloisch', 'Myeloisch', 'B', 'B', 'Myeloisch', 'Myeloisch', 'TNK', 'Myeloisch', 'TNK', 'TNK', 'B', 'TNK', 'TNK', 'Myeloisch', 'Myeloisch', 'TNK', 'TNK', 'TNK', 'Myeloisch', 'TNK', 'Myeloisch', 'TNK', 'TNK', 'TNK', 'TNK', 'TNK', 'TNK', 'TNK', 'TNK', 'Myeloisch', 'Myeloisch', 'TNK', 'TNK', 'TNK', 'Myeloisch', 'TNK', 'TNK', 'TNK', 'TNK', 'TNK', 'TNK', 'B', 'Others', 'TNK', 'B', 'TNK', 'TNK', 'Myeloisch', 'TNK', 'Myeloisch', 'B', 'B', 'B', 'B', 'TNK', 'Myeloisch', 'TNK', 'TNK', 'TNK', 'B', 'TNK', 'TNK', 'B', 'Myeloisch', 'TNK', 'B', 'TNK', 'TNK', 'TNK', 'Myeloisch', 'Myeloisch', 'Myeloisch', 'Myeloisch', 'TNK', 'B', 'TNK', 'Myeloisch', 'Myeloisch', 'Myeloisch', 'TNK', 'TNK', 'TNK', 'TNK', 'TNK', 'TNK', 'TNK', 'TNK', 'TNK', 'Myeloisch', 'TNK', 'TNK', 'TNK', 'B', 'B', 'B', 'Myeloisch', 'B', 'TNK', 'TNK', 'TNK', 'B', 'TNK', 'TNK', 'Myeloisch', 'TNK', 'TNK', 'TNK', 'TNK', 'Myeloisch', 'Myeloisch', 'B', 'TNK', 'B', 'TNK', 'Myeloisch', 'B', 'TNK', 'TNK', 'Myeloisch', 'Myeloisch', 'Myeloisch', 'TNK', 'B', 'TNK', 'TNK', 'TNK', 'B', 'TNK', 'Myeloisch', 'B', 'Myeloisch', 'TNK', 'TNK', 'TNK', 'TNK', 'Myeloisch', 'TNK', 'Myeloisch', 'TNK', 'TNK', 'Myeloisch', 'TNK', 'Myeloisch', 'TNK', 'TNK', 'Myeloisch', 'TNK', 'TNK', 'Myeloisch', 'TNK', 'TNK', 'Myeloisch', 'TNK', 'TNK', 'TNK', 'TNK', 'TNK', 'Others', 'Myeloisch', 'Myeloisch', 'TNK', 'Myeloisch', 'TNK', 'Myeloisch', 'TNK', 'TNK', 'TNK', 'TNK', 'TNK', 'TNK', 'TNK', 'TNK', 'TNK', 'Myeloisch', 'TNK', 'TNK', 'B', 'B', 'B', 'Myeloisch', 'TNK', 'TNK', 'TNK', 'TNK', 'TNK', 'TNK', 'Myeloisch', 'TNK', 'TNK', 'TNK', 'TNK', 'Myeloisch', 'TNK', 'B', 'TNK', 'TNK', 'Myeloisch', 'TNK', 'TNK', 'Myeloisch', 'TNK', 'TNK', 'Myeloisch', 'Myeloisch', 'TNK', 'TNK', 'TNK', 'Myeloisch', 'TNK', 'Myeloisch', 'TNK', 'Myeloisch', 'TNK', 'B', 'B', 'TNK', 'TNK', 'TNK', 'TNK', 'TNK', 'B', 'Myeloisch', 'B', 'Myeloisch', 'Myeloisch', 'Myeloisch', 'TNK', 'Myeloisch', 'TNK', 'TNK', 'TNK', 'Myeloisch', 'TNK', 'TNK', 'TNK', 'Myeloisch', 'TNK', 'TNK', 'TNK', 'TNK', 'TNK', 'TNK', 'TNK', 'TNK', 'TNK', 'Myeloisch', 'TNK', 'TNK', 'TNK', 'Myeloisch', 'TNK', 'TNK', 'TNK', 'TNK', 'Myeloisch', 'TNK', 'TNK', 'TNK', 'TNK', 'TNK', 'TNK', 'TNK', 'B', 'TNK', 'TNK', 'TNK', 'TNK', 'B', 'TNK', 'B', 'B', 'TNK', 'B', 'TNK', 'TNK', 'TNK', 'TNK', 'TNK', 'TNK', 'B', 'TNK', 'B', 'B', 'TNK', 'Myeloisch', 'TNK', 'TNK', 'TNK', 'TNK', 'B', 'TNK', 'TNK', 'TNK', 'TNK', 'TNK', 'TNK', 'TNK', 'TNK', 'TNK', 'B', 'TNK', 'TNK', 'Myeloisch', 'TNK', 'Myeloisch', 'TNK', 'Myeloisch', 'TNK', 'Myeloisch', 'TNK', 'TNK', 'Myeloisch', 'Myeloisch', 'TNK', 'TNK', 'Myeloisch', 'TNK', 'TNK', 'Myeloisch', 'TNK', 'TNK', 'Myeloisch', 'TNK', 'TNK', 'Myeloisch', 'Myeloisch', 'TNK', 'Myeloisch', 'TNK', 'TNK', 'TNK', 'TNK', 'B', 'B', 'TNK', 'TNK', 'TNK', 'TNK', 'TNK', 'B', 'B', 'TNK', 'TNK', 'B', 'TNK', 'TNK', 'B', 'TNK', 'Myeloisch', 'TNK', 'Myeloisch', 'TNK', 'Myeloisch', 'TNK', 'TNK', 'TNK', 'TNK', 'TNK', 'TNK', 'TNK', 'TNK', 'Myeloisch', 'B', 'TNK', 'TNK', 'Myeloisch', 'Myeloisch', 'TNK', 'Myeloisch', 'Myeloisch', 'Myeloisch', 'B', 'TNK', 'TNK', 'B', 'TNK', 'TNK', 'B', 'TNK', 'B', 'Myeloisch', 'TNK', 'TNK', 'TNK', 'TNK', 'Myeloisch', 'TNK', 'Myeloisch', 'TNK', 'TNK', 'TNK', 'TNK', 'Myeloisch', 'B', 'Myeloisch', 'TNK', 'TNK', 'Myeloisch', 'Myeloisch', 'TNK', 'TNK', 'B', 'TNK', 'TNK', 'TNK', 'TNK', 'Myeloisch', 'TNK', 'TNK', 'B', 'TNK', 'TNK', 'B', 'Myeloisch', 'Myeloisch', 'TNK', 'Myeloisch', 'Myeloisch', 'TNK', 'TNK', 'TNK', 'TNK', 'B', 'TNK', 'TNK', 'TNK', 'TNK', 'Myeloisch', 'TNK', 'TNK', 'TNK', 'TNK', 'TNK', 'Myeloisch', 'Myeloisch', 'TNK', 'Myeloisch', 'B', 'TNK', 'TNK', 'Myeloisch', 'TNK', 'TNK', 'Myeloisch', 'Myeloisch', 'TNK', 'TNK', 'B', 'B', 'Myeloisch', 'TNK', 'Myeloisch', 'B', 'TNK', 'TNK', 'TNK', 'TNK', 'TNK', 'B', 'Myeloisch', 'TNK', 'TNK', 'B', 'TNK', 'Myeloisch', 'Myeloisch', 'Myeloisch', 'B', 'TNK', 'Myeloisch', 'TNK', 'B', 'TNK', 'Myeloisch', 'Myeloisch', 'TNK', 'B', 'TNK', 'TNK', 'B', 'TNK', 'B', 'Myeloisch', 'TNK', 'TNK', 'TNK', 'Myeloisch', 'TNK', 'TNK', 'TNK', 'TNK', 'Myeloisch', 'TNK', 'B', 'Myeloisch', 'Myeloisch', 'TNK', 'TNK', 'B', 'TNK', 'Myeloisch', 'TNK', 'TNK', 'TNK', 'Myeloisch', 'TNK', 'TNK', 'TNK', 'TNK', 'B', 'B', 'TNK', 'TNK', 'TNK', 'TNK', 'Myeloisch', 'TNK', 'TNK', 'TNK', 'Myeloisch', 'TNK', 'TNK', 'TNK', 'B', 'Myeloisch', 'TNK', 'B', 'TNK', 'TNK', 'B', 'Myeloisch', 'Myeloisch', 'TNK', 'TNK', 'TNK', 'TNK', 'TNK', 'B', 'B', 'Myeloisch', 'TNK', 'TNK', 'B', 'Myeloisch', 'Myeloisch', 'TNK', 'TNK', 'TNK', 'TNK', 'TNK', 'TNK', 'TNK', 'TNK', 'TNK', 'Myeloisch', 'TNK', 'TNK', 'Myeloisch', 'TNK', 'TNK', 'TNK', 'TNK', 'TNK', 'TNK', 'Myeloisch', 'B', 'TNK', 'TNK', 'Myeloisch', 'TNK', 'Myeloisch', 'Myeloisch', 'B', 'TNK', 'TNK', 'Myeloisch', 'TNK', 'B', 'TNK', 'TNK', 'Myeloisch', 'TNK', 'TNK', 'TNK', 'TNK', 'Myeloisch', 'TNK', 'B', 'TNK', 'TNK', 'TNK', 'B', 'TNK', 'TNK', 'TNK', 'TNK', 'B', 'TNK', 'Myeloisch', 'TNK', 'TNK', 'TNK', 'TNK', 'TNK', 'TNK', 'Myeloisch', 'TNK', 'TNK', 'TNK', 'TNK', 'B', 'B', 'Myeloisch', 'Myeloisch', 'TNK', 'TNK', 'B', 'TNK', 'Myeloisch', 'Myeloisch', 'B', 'TNK', 'TNK', 'TNK', 'TNK', 'Myeloisch', 'TNK', 'TNK', 'TNK', 'Myeloisch', 'TNK', 'TNK', 'TNK', 'TNK', 'B', 'TNK', 'Myeloisch', 'TNK', 'TNK', 'Myeloisch', 'TNK', 'Myeloisch', 'TNK', 'TNK', 'TNK', 'TNK', 'Myeloisch', 'TNK', 'TNK', 'TNK', 'Myeloisch', 'TNK', 'Myeloisch', 'TNK', 'TNK', 'TNK', 'Myeloisch', 'TNK', 'TNK', 'TNK', 'TNK', 'TNK', 'TNK', 'TNK', 'TNK', 'TNK', 'Myeloisch', 'Myeloisch', 'TNK', 'Myeloisch', 'Myeloisch', 'TNK', 'TNK', 'TNK', 'TNK', 'TNK', 'TNK', 'TNK', 'Myeloisch', 'TNK', 'Myeloisch', 'Myeloisch', 'Myeloisch', 'Myeloisch', 'TNK', 'Myeloisch', 'TNK', 'TNK', 'Myeloisch', 'B', 'TNK', 'TNK', 'Myeloisch', 'TNK', 'TNK', 'TNK', 'TNK', 'Myeloisch', 'B', 'TNK', 'TNK', 'TNK', 'Myeloisch', 'TNK', 'TNK', 'TNK', 'TNK', 'Myeloisch', 'Myeloisch', 'Myeloisch', 'Myeloisch', 'TNK', 'B', 'Myeloisch', 'Myeloisch', 'TNK', 'TNK', 'TNK', 'TNK', 'TNK', 'B', 'B', 'TNK', 'TNK', 'TNK', 'TNK', 'Myeloisch', 'B', 'Myeloisch', 'TNK', 'Myeloisch', 'Myeloisch', 'Myeloisch', 'TNK', 'TNK', 'Myeloisch', 'Myeloisch', 'TNK', 'TNK', 'TNK', 'Myeloisch', 'TNK', 'TNK', 'B', 'TNK', 'TNK', 'TNK', 'Myeloisch', 'TNK', 'TNK', 'TNK', 'TNK', 'Myeloisch', 'TNK', 'TNK', 'Myeloisch', 'TNK', 'Myeloisch', 'TNK', 'TNK', 'TNK', 'TNK', 'TNK', 'Myeloisch', 'TNK', 'TNK', 'TNK', 'Myeloisch', 'TNK', 'Myeloisch', 'TNK', 'TNK', 'Myeloisch', 'TNK', 'TNK', 'TNK', 'TNK', 'TNK', 'Myeloisch', 'TNK', 'TNK', 'TNK', 'B', 'TNK', 'B', 'TNK', 'TNK', 'TNK', 'TNK', 'TNK', 'TNK', 'TNK', 'TNK', 'Myeloisch', 'TNK', 'TNK', 'TNK', 'TNK', 'TNK', 'TNK', 'TNK', 'TNK', 'TNK', 'TNK', 'TNK', 'TNK', 'TNK', 'TNK', 'TNK', 'B', 'Myeloisch', 'TNK', 'TNK', 'TNK', 'Myeloisch', 'TNK', 'TNK', 'TNK', 'Myeloisch', 'Myeloisch', 'TNK', 'TNK', 'B', 'TNK', 'TNK', 'TNK', 'B', 'TNK', 'Myeloisch', 'TNK', 'TNK', 'TNK', 'TNK', 'TNK', 'TNK', 'B', 'TNK', 'TNK', 'TNK', 'TNK', 'TNK', 'TNK', 'TNK', 'B', 'B', 'TNK', 'TNK', 'TNK', 'TNK', 'TNK', 'TNK', 'Myeloisch', 'TNK', 'TNK', 'TNK', 'TNK', 'TNK', 'TNK', 'TNK', 'TNK', 'TNK', 'TNK', 'TNK', 'TNK', 'TNK', 'TNK', 'TNK', 'TNK', 'Myeloisch', 'TNK', 'B', 'Myeloisch', 'Myeloisch', 'TNK', 'Myeloisch', 'B', 'TNK', 'Myeloisch', 'TNK', 'TNK', 'TNK', 'TNK', 'Myeloisch', 'TNK', 'TNK', 'TNK', 'TNK', 'TNK', 'Myeloisch', 'TNK', 'Myeloisch', 'Myeloisch', 'TNK', 'TNK', 'Myeloisch', 'TNK', 'TNK', 'Myeloisch', 'TNK', 'TNK', 'Myeloisch', 'B', 'B', 'TNK', 'Myeloisch', 'Myeloisch', 'TNK', 'TNK', 'Myeloisch', 'TNK', 'TNK', 'TNK', 'Myeloisch', 'B', 'TNK', 'TNK', 'TNK', 'TNK', 'B', 'TNK', 'TNK', 'TNK', 'B', 'Myeloisch', 'Myeloisch', 'Myeloisch', 'B', 'TNK', 'TNK', 'TNK', 'Myeloisch', 'TNK', 'TNK', 'B', 'TNK', 'Others', 'Myeloisch', 'Myeloisch', 'TNK', 'TNK', 'TNK', 'TNK', 'TNK', 'TNK', 'Myeloisch', 'B', 'B', 'TNK', 'TNK', 'TNK', 'Myeloisch', 'Myeloisch', 'TNK', 'TNK', 'B', 'B', 'Myeloisch', 'TNK', 'TNK', 'TNK', 'TNK', 'TNK', 'Myeloisch', 'TNK', 'Myeloisch', 'Myeloisch', 'B', 'TNK', 'B', 'TNK', 'TNK', 'TNK', 'TNK', 'TNK', 'TNK', 'TNK', 'Myeloisch', 'Myeloisch', 'TNK', 'Myeloisch', 'TNK', 'Myeloisch', 'Myeloisch', 'Myeloisch', 'TNK', 'TNK', 'TNK', 'B', 'TNK', 'TNK', 'B', 'B', 'TNK', 'B', 'TNK', 'B', 'TNK', 'TNK', 'Myeloisch', 'TNK', 'Myeloisch', 'Others', 'TNK', 'Myeloisch', 'Myeloisch', 'TNK', 'TNK', 'Myeloisch', 'Myeloisch', 'TNK', 'Myeloisch', 'TNK', 'TNK', 'TNK', 'TNK', 'TNK', 'TNK', 'TNK', 'Myeloisch', 'TNK', 'Myeloisch', 'TNK', 'TNK', 'TNK', 'Myeloisch', 'TNK', 'Myeloisch', 'TNK', 'B', 'B', 'Myeloisch', 'TNK', 'TNK', 'TNK', 'B', 'TNK', 'TNK', 'Myeloisch', 'Myeloisch', 'TNK', 'TNK', 'TNK', 'Myeloisch', 'TNK', 'TNK', 'TNK', 'Myeloisch', 'TNK', 'Myeloisch', 'TNK', 'B', 'B', 'B', 'B', 'TNK', 'TNK', 'B', 'Myeloisch', 'TNK', 'Myeloisch', 'Myeloisch', 'TNK', 'TNK', 'TNK', 'TNK', 'TNK', 'TNK', 'Myeloisch', 'TNK', 'TNK', 'TNK', 'TNK', 'Myeloisch', 'Myeloisch', 'Myeloisch', 'Myeloisch', 'Myeloisch', 'Myeloisch', 'TNK', 'TNK', 'Myeloisch', 'TNK', 'TNK', 'Myeloisch', 'TNK', 'B', 'TNK', 'B', 'Myeloisch', 'TNK', 'TNK', 'TNK', 'TNK', 'TNK', 'TNK', 'TNK', 'TNK', 'TNK', 'TNK', 'TNK', 'Myeloisch', 'TNK', 'TNK', 'TNK', 'TNK', 'TNK', 'TNK', 'TNK', 'TNK', 'TNK', 'TNK', 'Myeloisch', 'TNK', 'TNK', 'TNK', 'TNK', 'TNK', 'Myeloisch', 'TNK', 'TNK', 'Myeloisch', 'TNK', 'TNK', 'TNK', 'Myeloisch', 'Myeloisch', 'TNK', 'TNK', 'B', 'TNK', 'TNK', 'TNK', 'TNK', 'TNK', 'TNK', 'Myeloisch', 'TNK', 'TNK', 'TNK', 'B', 'TNK', 'Myeloisch', 'TNK', 'TNK', 'TNK', 'Myeloisch', 'TNK', 'Others', 'TNK', 'Myeloisch', 'TNK', 'B', 'TNK', 'Myeloisch', 'TNK', 'TNK', 'B', 'Myeloisch', 'Myeloisch', 'TNK', 'TNK', 'Myeloisch', 'TNK', 'B', 'Myeloisch', 'TNK', 'TNK', 'TNK', 'TNK', 'B', 'TNK', 'TNK', 'Myeloisch', 'TNK', 'TNK', 'TNK', 'TNK', 'TNK', 'B', 'TNK', 'TNK', 'TNK', 'TNK', 'Myeloisch', 'Myeloisch', 'Myeloisch', 'TNK', 'TNK', 'Myeloisch', 'TNK', 'Myeloisch', 'Others', 'TNK', 'Myeloisch', 'TNK', 'Myeloisch', 'B', 'Myeloisch', 'TNK', 'TNK', 'TNK', 'Myeloisch', 'TNK', 'TNK', 'B', 'Myeloisch', 'TNK', 'TNK', 'TNK', 'B', 'TNK', 'Myeloisch', 'Myeloisch', 'Myeloisch', 'TNK', 'Myeloisch', 'TNK', 'Myeloisch', 'TNK', 'TNK', 'Myeloisch', 'B', 'B', 'B', 'Myeloisch', 'TNK', 'TNK', 'Myeloisch', 'Myeloisch', 'Myeloisch', 'TNK', 'TNK', 'TNK', 'TNK', 'TNK', 'TNK', 'TNK', 'B', 'TNK', 'Myeloisch', 'TNK', 'TNK', 'TNK', 'Myeloisch', 'TNK', 'Myeloisch', 'TNK', 'B', 'TNK', 'B', 'TNK', 'TNK', 'Myeloisch', 'Others', 'TNK', 'TNK', 'TNK', 'Myeloisch', 'TNK', 'TNK', 'TNK', 'Myeloisch', 'TNK', 'TNK', 'TNK', 'Myeloisch', 'TNK', 'TNK', 'TNK', 'TNK', 'TNK', 'TNK', 'TNK', 'TNK', 'TNK', 'TNK', 'Myeloisch', 'TNK', 'TNK', 'TNK', 'Myeloisch', 'TNK', 'B', 'Myeloisch', 'Myeloisch', 'TNK', 'TNK', 'TNK', 'TNK', 'TNK', 'TNK', 'TNK', 'Myeloisch', 'TNK', 'B', 'B', 'TNK', 'Myeloisch', 'TNK', 'Myeloisch', 'TNK', 'TNK', 'TNK', 'TNK', 'Myeloisch', 'B', 'Myeloisch', 'B', 'TNK', 'TNK', 'TNK', 'B', 'TNK', 'Myeloisch', 'Myeloisch', 'TNK', 'B', 'TNK', 'TNK', 'TNK', 'TNK', 'Myeloisch', 'TNK', 'Myeloisch', 'TNK', 'Myeloisch', 'TNK', 'Myeloisch', 'B', 'TNK', 'Myeloisch', 'Myeloisch', 'B', 'Myeloisch', 'TNK', 'Myeloisch', 'TNK', 'Myeloisch', 'TNK', 'Myeloisch', 'TNK', 'TNK', 'Myeloisch', 'B', 'B', 'B', 'TNK', 'B', 'Myeloisch', 'Myeloisch', 'TNK', 'TNK', 'TNK', 'Myeloisch', 'TNK', 'TNK', 'TNK', 'Myeloisch', 'TNK', 'Myeloisch', 'B', 'Myeloisch', 'B', 'Myeloisch', 'TNK', 'TNK', 'TNK', 'Myeloisch', 'TNK', 'Myeloisch', 'Myeloisch', 'TNK', 'Myeloisch', 'TNK', 'TNK', 'TNK', 'TNK', 'TNK', 'TNK', 'TNK', 'TNK', 'Myeloisch', 'TNK', 'TNK', 'TNK', 'TNK', 'TNK', 'B', 'TNK', 'Others', 'TNK', 'TNK', 'TNK', 'TNK', 'TNK', 'TNK', 'TNK', 'Myeloisch', 'Myeloisch', 'TNK', 'B', 'TNK', 'Myeloisch', 'TNK', 'TNK', 'TNK', 'TNK', 'B', 'TNK', 'TNK', 'Myeloisch', 'Myeloisch', 'TNK', 'B', 'TNK', 'TNK', 'TNK', 'TNK', 'TNK', 'TNK', 'B', 'Myeloisch', 'B', 'Myeloisch', 'Myeloisch', 'TNK', 'B', 'TNK', 'Myeloisch', 'TNK', 'Myeloisch', 'TNK', 'B', 'TNK', 'TNK', 'TNK', 'Myeloisch', 'TNK', 'Myeloisch', 'Myeloisch', 'Myeloisch', 'TNK', 'TNK', 'TNK', 'TNK', 'Myeloisch', 'TNK', 'Myeloisch', 'TNK', 'TNK', 'B', 'TNK', 'TNK', 'B', 'Myeloisch', 'Myeloisch', 'Others', 'B', 'TNK', 'Myeloisch', 'TNK', 'TNK', 'TNK', 'TNK', 'Myeloisch', 'B', 'Myeloisch', 'Myeloisch', 'Myeloisch', 'B', 'Myeloisch', 'Myeloisch', 'TNK', 'TNK', 'Myeloisch', 'Myeloisch', 'TNK', 'TNK', 'TNK', 'TNK', 'Myeloisch', 'TNK', 'TNK', 'B', 'B', 'TNK', 'TNK', 'TNK', 'TNK', 'Myeloisch', 'TNK', 'Myeloisch', 'TNK', 'TNK', 'Myeloisch', 'TNK', 'TNK', 'TNK', 'TNK', 'TNK', 'TNK', 'TNK', 'B', 'TNK', 'TNK', 'Myeloisch', 'Myeloisch', 'Myeloisch', 'TNK', 'TNK', 'TNK', 'TNK', 'TNK', 'TNK', 'TNK', 'TNK', 'Myeloisch', 'TNK', 'TNK', 'B', 'B', 'Myeloisch', 'TNK', 'TNK', 'B', 'TNK', 'Myeloisch', 'B', 'TNK', 'Myeloisch', 'TNK', 'TNK', 'TNK', 'Myeloisch', 'Myeloisch', 'TNK', 'TNK', 'Myeloisch', 'B', 'TNK', 'Myeloisch', 'TNK', 'B', 'TNK', 'TNK', 'Myeloisch', 'B', 'TNK', 'B', 'TNK', 'TNK', 'Myeloisch', 'TNK', 'TNK', 'TNK', 'TNK', 'TNK', 'B', 'B', 'TNK', 'Myeloisch', 'TNK', 'TNK', 'TNK', 'TNK', 'TNK', 'TNK', 'Myeloisch', 'TNK', 'TNK', 'TNK', 'TNK', 'Myeloisch', 'B', 'TNK', 'TNK', 'TNK', 'B', 'TNK', 'B', 'B', 'Myeloisch', 'TNK', 'Myeloisch', 'TNK', 'TNK', 'B', 'TNK', 'B', 'TNK', 'TNK', 'TNK', 'Myeloisch', 'TNK', 'TNK', 'TNK', 'Myeloisch', 'B', 'TNK', 'TNK', 'TNK', 'TNK', 'Myeloisch', 'Myeloisch', 'TNK', 'TNK', 'TNK', 'TNK', 'Myeloisch', 'TNK', 'TNK', 'TNK', 'TNK', 'B', 'TNK', 'TNK', 'TNK', 'Myeloisch', 'TNK', 'Myeloisch', 'TNK', 'TNK', 'Myeloisch', 'TNK', 'TNK', 'TNK', 'TNK', 'Myeloisch', 'TNK', 'TNK', 'Myeloisch', 'B', 'TNK', 'B', 'Myeloisch', 'B', 'Myeloisch', 'TNK', 'TNK', 'TNK', 'TNK', 'TNK', 'Myeloisch', 'Myeloisch', 'TNK', 'Myeloisch', 'TNK', 'TNK', 'Myeloisch', 'TNK', 'TNK', 'TNK', 'Myeloisch', 'TNK', 'TNK', 'Myeloisch', 'TNK', 'TNK', 'TNK', 'B', 'TNK', 'B', 'TNK', 'Myeloisch', 'TNK', 'TNK', 'TNK', 'B', 'TNK', 'TNK', 'TNK', 'TNK', 'Myeloisch', 'TNK', 'TNK', 'TNK', 'TNK', 'TNK', 'TNK', 'TNK', 'TNK', 'Myeloisch', 'B', 'TNK', 'B', 'TNK', 'TNK', 'TNK', 'TNK', 'Myeloisch', 'Myeloisch', 'TNK', 'TNK', 'Myeloisch', 'B', 'Myeloisch', 'TNK', 'TNK', 'TNK', 'TNK', 'TNK', 'Myeloisch', 'TNK', 'TNK', 'TNK', 'TNK', 'TNK', 'Myeloisch', 'TNK', 'TNK', 'TNK', 'B', 'TNK', 'TNK', 'TNK', 'TNK', 'Myeloisch', 'TNK', 'Myeloisch', 'Myeloisch', 'B', 'TNK', 'TNK', 'B', 'TNK', 'B', 'TNK', 'TNK', 'B', 'TNK', 'TNK', 'Myeloisch', 'Myeloisch', 'TNK', 'TNK', 'TNK', 'TNK', 'Myeloisch', 'B', 'Myeloisch', 'Myeloisch', 'TNK', 'TNK', 'TNK', 'B', 'TNK', 'TNK', 'TNK', 'Myeloisch', 'Myeloisch', 'TNK', 'Myeloisch', 'TNK', 'TNK', 'TNK', 'TNK', 'TNK', 'B', 'TNK', 'TNK', 'TNK', 'B', 'TNK', 'TNK', 'TNK', 'TNK', 'Myeloisch', 'TNK', 'TNK', 'Myeloisch', 'TNK', 'TNK', 'B', 'TNK', 'TNK', 'Myeloisch', 'TNK', 'TNK', 'TNK', 'TNK', 'TNK', 'Myeloisch', 'Myeloisch', 'Myeloisch', 'TNK', 'TNK', 'B', 'TNK', 'TNK', 'Myeloisch', 'TNK', 'Myeloisch', 'TNK', 'TNK', 'TNK', 'TNK', 'TNK', 'TNK', 'B', 'TNK', 'B', 'TNK', 'TNK', 'B', 'TNK', 'TNK', 'B', 'TNK', 'TNK', 'TNK', 'Myeloisch', 'Myeloisch', 'Myeloisch', 'TNK', 'TNK', 'TNK', 'Myeloisch', 'TNK', 'TNK', 'TNK', 'B', 'B', 'B', 'TNK', 'TNK', 'B', 'B', 'B', 'Myeloisch', 'Myeloisch', 'Myeloisch', 'B', 'TNK', 'TNK', 'TNK', 'Myeloisch', 'TNK', 'Myeloisch', 'TNK', 'B', 'TNK', 'TNK', 'TNK', 'Myeloisch', 'TNK', 'TNK', 'Myeloisch', 'TNK', 'TNK', 'TNK', 'Myeloisch', 'TNK', 'TNK', 'TNK', 'TNK', 'TNK', 'B', 'B', 'TNK', 'B', 'TNK', 'Myeloisch', 'TNK', 'TNK', 'B', 'TNK', 'TNK', 'Myeloisch', 'TNK', 'TNK', 'TNK', 'TNK', 'TNK', 'Myeloisch', 'TNK', 'TNK', 'Myeloisch', 'Myeloisch', 'Myeloisch', 'TNK', 'B', 'TNK', 'Myeloisch', 'TNK', 'TNK', 'TNK', 'TNK', 'B', 'TNK', 'TNK', 'TNK', 'TNK', 'TNK', 'TNK', 'TNK', 'TNK', 'TNK', 'TNK', 'TNK', 'B', 'TNK', 'B', 'Myeloisch', 'Myeloisch', 'TNK', 'TNK', 'TNK', 'TNK', 'TNK', 'TNK', 'TNK', 'TNK', 'TNK', 'Myeloisch', 'TNK', 'TNK', 'B', 'TNK', 'Myeloisch', 'Others', 'Myeloisch', 'Myeloisch', 'TNK', 'Myeloisch', 'TNK', 'TNK', 'TNK', 'Myeloisch', 'TNK', 'TNK', 'TNK', 'TNK', 'B', 'TNK', 'Myeloisch', 'TNK', 'B', 'Myeloisch', 'TNK', 'B', 'TNK', 'TNK', 'B', 'Myeloisch', 'Myeloisch', 'B', 'B', 'TNK', 'TNK', 'TNK', 'Myeloisch', 'Myeloisch', 'Myeloisch', 'TNK', 'TNK', 'TNK', 'TNK', 'Myeloisch', 'TNK', 'TNK', 'TNK', 'TNK', 'TNK', 'Myeloisch', 'TNK', 'Myeloisch', 'TNK', 'B', 'Myeloisch', 'TNK', 'Myeloisch', 'TNK', 'Myeloisch', 'B', 'Myeloisch', 'TNK', 'Myeloisch', 'TNK', 'Myeloisch', 'Myeloisch', 'TNK', 'TNK', 'TNK', 'TNK', 'TNK', 'TNK', 'Myeloisch', 'TNK', 'TNK', 'TNK', 'TNK', 'Myeloisch', 'TNK', 'TNK', 'TNK', 'Myeloisch', 'Myeloisch', 'TNK', 'TNK', 'B', 'TNK', 'Myeloisch', 'TNK', 'B', 'TNK', 'TNK', 'B', 'TNK', 'B', 'Myeloisch', 'Myeloisch', 'TNK', 'TNK', 'Myeloisch', 'TNK', 'TNK', 'TNK', 'TNK', 'Myeloisch', 'TNK', 'TNK', 'Myeloisch', 'B', 'TNK', 'TNK', 'TNK', 'B', 'B', 'B', 'B', 'TNK', 'B', 'Myeloisch', 'B', 'TNK', 'Myeloisch', 'Myeloisch', 'Myeloisch', 'TNK', 'TNK', 'TNK', 'B', 'Myeloisch', 'B', 'TNK', 'Myeloisch', 'Myeloisch', 'B', 'B', 'B', 'TNK']\n"
          ]
        }
      ]
    },
    {
      "cell_type": "code",
      "source": [
        "#all set up - run local classifier\n",
        "hc.run_local_classifier('all')"
      ],
      "metadata": {
        "colab": {
          "base_uri": "https://localhost:8080/"
        },
        "id": "WZlrPIwMDbeb",
        "outputId": "6092cb1b-e892-4470-bda3-748a53a780bf"
      },
      "execution_count": 422,
      "outputs": [
        {
          "output_type": "stream",
          "name": "stdout",
          "text": [
            "network y_input before encoding: ['TNK', 'B', 'TNK', 'TNK', 'Myeloisch', 'TNK', 'TNK', 'TNK', 'TNK', 'TNK', 'B', 'TNK', 'TNK', 'Myeloisch', 'TNK', 'TNK', 'Myeloisch', 'TNK', 'B', 'B', 'B', 'TNK', 'Myeloisch', 'B', 'TNK', 'TNK', 'TNK', 'TNK', 'TNK', 'TNK', 'TNK', 'B', 'Myeloisch', 'TNK', 'Myeloisch', 'TNK', 'Myeloisch', 'TNK', 'TNK', 'Myeloisch', 'TNK', 'TNK', 'TNK', 'TNK', 'TNK', 'TNK', 'TNK', 'Myeloisch', 'TNK', 'TNK', 'TNK', 'TNK', 'TNK', 'TNK', 'TNK', 'B', 'Myeloisch', 'TNK', 'Myeloisch', 'TNK', 'TNK', 'TNK', 'Myeloisch', 'TNK', 'TNK', 'TNK', 'TNK', 'TNK', 'TNK', 'TNK', 'TNK', 'Myeloisch', 'TNK', 'Myeloisch', 'TNK', 'B', 'TNK', 'TNK', 'TNK', 'Myeloisch', 'Myeloisch', 'TNK', 'TNK', 'TNK', 'Myeloisch', 'B', 'TNK', 'TNK', 'B', 'B', 'TNK', 'Myeloisch', 'B', 'B', 'Myeloisch', 'Myeloisch', 'TNK', 'Myeloisch', 'Myeloisch', 'Myeloisch', 'Myeloisch', 'Myeloisch', 'TNK', 'TNK', 'Myeloisch', 'B', 'TNK', 'B', 'TNK', 'Myeloisch', 'Myeloisch', 'TNK', 'TNK', 'TNK', 'Myeloisch', 'TNK', 'TNK', 'B', 'TNK', 'TNK', 'TNK', 'Myeloisch', 'B', 'TNK', 'TNK', 'TNK', 'Myeloisch', 'B', 'Myeloisch', 'TNK', 'TNK', 'TNK', 'TNK', 'TNK', 'B', 'TNK', 'TNK', 'TNK', 'TNK', 'B', 'TNK', 'TNK', 'Myeloisch', 'B', 'TNK', 'TNK', 'B', 'TNK', 'Myeloisch', 'Myeloisch', 'TNK', 'TNK', 'TNK', 'TNK', 'Myeloisch', 'TNK', 'TNK', 'Myeloisch', 'TNK', 'Myeloisch', 'B', 'Myeloisch', 'B', 'Myeloisch', 'TNK', 'B', 'TNK', 'TNK', 'TNK', 'TNK', 'TNK', 'TNK', 'TNK', 'Myeloisch', 'TNK', 'Myeloisch', 'TNK', 'TNK', 'B', 'B', 'TNK', 'B', 'TNK', 'TNK', 'Myeloisch', 'Myeloisch', 'Myeloisch', 'TNK', 'Myeloisch', 'TNK', 'B', 'TNK', 'B', 'TNK', 'Myeloisch', 'TNK', 'TNK', 'Myeloisch', 'TNK', 'TNK', 'Myeloisch', 'TNK', 'TNK', 'TNK', 'TNK', 'TNK', 'TNK', 'TNK', 'TNK', 'Myeloisch', 'TNK', 'TNK', 'TNK', 'TNK', 'TNK', 'Myeloisch', 'Myeloisch', 'TNK', 'B', 'TNK', 'TNK', 'Myeloisch', 'TNK', 'TNK', 'TNK', 'TNK', 'TNK', 'TNK', 'TNK', 'TNK', 'TNK', 'B', 'TNK', 'TNK', 'Myeloisch', 'TNK', 'TNK', 'TNK', 'TNK', 'TNK', 'TNK', 'B', 'Myeloisch', 'TNK', 'Others', 'Myeloisch', 'TNK', 'Myeloisch', 'TNK', 'B', 'TNK', 'Myeloisch', 'TNK', 'B', 'Myeloisch', 'TNK', 'TNK', 'B', 'B', 'TNK', 'TNK', 'TNK', 'TNK', 'TNK', 'TNK', 'Myeloisch', 'Myeloisch', 'Myeloisch', 'TNK', 'Myeloisch', 'Others', 'TNK', 'B', 'TNK', 'TNK', 'B', 'TNK', 'Myeloisch', 'TNK', 'TNK', 'B', 'B', 'Myeloisch', 'Myeloisch', 'TNK', 'TNK', 'TNK', 'Myeloisch', 'B', 'TNK', 'Myeloisch', 'TNK', 'TNK', 'TNK', 'TNK', 'B', 'TNK', 'TNK', 'TNK', 'Myeloisch', 'Myeloisch', 'TNK', 'Myeloisch', 'B', 'TNK', 'TNK', 'TNK', 'TNK', 'TNK', 'TNK', 'TNK', 'Myeloisch', 'B', 'B', 'TNK', 'TNK', 'TNK', 'B', 'TNK', 'Myeloisch', 'TNK', 'Myeloisch', 'TNK', 'Myeloisch', 'Myeloisch', 'B', 'Myeloisch', 'TNK', 'TNK', 'Myeloisch', 'TNK', 'TNK', 'TNK', 'TNK', 'TNK', 'Myeloisch', 'Myeloisch', 'B', 'Myeloisch', 'TNK', 'TNK', 'Myeloisch', 'TNK', 'TNK', 'TNK', 'TNK', 'TNK', 'TNK', 'TNK', 'TNK', 'TNK', 'B', 'Myeloisch', 'TNK', 'Myeloisch', 'Myeloisch', 'TNK', 'TNK', 'TNK', 'TNK', 'TNK', 'B', 'TNK', 'Myeloisch', 'Myeloisch', 'TNK', 'B', 'Myeloisch', 'TNK', 'TNK', 'Myeloisch', 'TNK', 'TNK', 'TNK', 'Myeloisch', 'TNK', 'B', 'B', 'Myeloisch', 'TNK', 'TNK', 'Myeloisch', 'TNK', 'TNK', 'Myeloisch', 'B', 'TNK', 'Myeloisch', 'Myeloisch', 'B', 'TNK', 'TNK', 'TNK', 'TNK', 'TNK', 'TNK', 'TNK', 'Myeloisch', 'Myeloisch', 'TNK', 'TNK', 'TNK', 'B', 'Myeloisch', 'TNK', 'TNK', 'TNK', 'B', 'B', 'TNK', 'TNK', 'B', 'TNK', 'Myeloisch', 'TNK', 'TNK', 'TNK', 'TNK', 'TNK', 'B', 'Myeloisch', 'TNK', 'B', 'TNK', 'Myeloisch', 'Myeloisch', 'B', 'B', 'TNK', 'TNK', 'Myeloisch', 'Myeloisch', 'Myeloisch', 'TNK', 'TNK', 'TNK', 'TNK', 'Myeloisch', 'TNK', 'TNK', 'B', 'Myeloisch', 'TNK', 'Myeloisch', 'TNK', 'TNK', 'TNK', 'TNK', 'TNK', 'TNK', 'TNK', 'TNK', 'TNK', 'TNK', 'B', 'Myeloisch', 'TNK', 'TNK', 'TNK', 'Myeloisch', 'TNK', 'TNK', 'TNK', 'TNK', 'TNK', 'TNK', 'TNK', 'Myeloisch', 'TNK', 'TNK', 'TNK', 'TNK', 'TNK', 'TNK', 'TNK', 'TNK', 'TNK', 'TNK', 'B', 'TNK', 'TNK', 'TNK', 'TNK', 'TNK', 'TNK', 'TNK', 'TNK', 'Myeloisch', 'B', 'Myeloisch', 'TNK', 'TNK', 'TNK', 'TNK', 'TNK', 'TNK', 'Myeloisch', 'TNK', 'TNK', 'TNK', 'TNK', 'TNK', 'Myeloisch', 'TNK', 'B', 'Myeloisch', 'TNK', 'Myeloisch', 'B', 'TNK', 'TNK', 'TNK', 'TNK', 'B', 'Myeloisch', 'Myeloisch', 'TNK', 'TNK', 'TNK', 'Myeloisch', 'B', 'TNK', 'TNK', 'TNK', 'TNK', 'B', 'TNK', 'TNK', 'TNK', 'TNK', 'TNK', 'Myeloisch', 'TNK', 'TNK', 'TNK', 'TNK', 'TNK', 'TNK', 'TNK', 'TNK', 'Myeloisch', 'TNK', 'TNK', 'TNK', 'Others', 'TNK', 'TNK', 'TNK', 'Myeloisch', 'TNK', 'Myeloisch', 'TNK', 'TNK', 'Myeloisch', 'TNK', 'TNK', 'TNK', 'TNK', 'TNK', 'Myeloisch', 'TNK', 'B', 'TNK', 'Myeloisch', 'TNK', 'TNK', 'TNK', 'TNK', 'TNK', 'B', 'TNK', 'TNK', 'B', 'TNK', 'TNK', 'Myeloisch', 'TNK', 'Myeloisch', 'Myeloisch', 'Myeloisch', 'Myeloisch', 'Myeloisch', 'TNK', 'Myeloisch', 'TNK', 'TNK', 'TNK', 'Myeloisch', 'Myeloisch', 'B', 'B', 'Myeloisch', 'Myeloisch', 'TNK', 'Myeloisch', 'TNK', 'TNK', 'B', 'TNK', 'TNK', 'Myeloisch', 'Myeloisch', 'TNK', 'TNK', 'TNK', 'Myeloisch', 'TNK', 'Myeloisch', 'TNK', 'TNK', 'TNK', 'TNK', 'TNK', 'TNK', 'TNK', 'TNK', 'Myeloisch', 'Myeloisch', 'TNK', 'TNK', 'TNK', 'Myeloisch', 'TNK', 'TNK', 'TNK', 'TNK', 'TNK', 'TNK', 'B', 'Others', 'TNK', 'B', 'TNK', 'TNK', 'Myeloisch', 'TNK', 'Myeloisch', 'B', 'B', 'B', 'B', 'TNK', 'Myeloisch', 'TNK', 'TNK', 'TNK', 'B', 'TNK', 'TNK', 'B', 'Myeloisch', 'TNK', 'B', 'TNK', 'TNK', 'TNK', 'Myeloisch', 'Myeloisch', 'Myeloisch', 'Myeloisch', 'TNK', 'B', 'TNK', 'Myeloisch', 'Myeloisch', 'Myeloisch', 'TNK', 'TNK', 'TNK', 'TNK', 'TNK', 'TNK', 'TNK', 'TNK', 'TNK', 'Myeloisch', 'TNK', 'TNK', 'TNK', 'B', 'B', 'B', 'Myeloisch', 'B', 'TNK', 'TNK', 'TNK', 'B', 'TNK', 'TNK', 'Myeloisch', 'TNK', 'TNK', 'TNK', 'TNK', 'Myeloisch', 'Myeloisch', 'B', 'TNK', 'B', 'TNK', 'Myeloisch', 'B', 'TNK', 'TNK', 'Myeloisch', 'Myeloisch', 'Myeloisch', 'TNK', 'B', 'TNK', 'TNK', 'TNK', 'B', 'TNK', 'Myeloisch', 'B', 'Myeloisch', 'TNK', 'TNK', 'TNK', 'TNK', 'Myeloisch', 'TNK', 'Myeloisch', 'TNK', 'TNK', 'Myeloisch', 'TNK', 'Myeloisch', 'TNK', 'TNK', 'Myeloisch', 'TNK', 'TNK', 'Myeloisch', 'TNK', 'TNK', 'Myeloisch', 'TNK', 'TNK', 'TNK', 'TNK', 'TNK', 'Others', 'Myeloisch', 'Myeloisch', 'TNK', 'Myeloisch', 'TNK', 'Myeloisch', 'TNK', 'TNK', 'TNK', 'TNK', 'TNK', 'TNK', 'TNK', 'TNK', 'TNK', 'Myeloisch', 'TNK', 'TNK', 'B', 'B', 'B', 'Myeloisch', 'TNK', 'TNK', 'TNK', 'TNK', 'TNK', 'TNK', 'Myeloisch', 'TNK', 'TNK', 'TNK', 'TNK', 'Myeloisch', 'TNK', 'B', 'TNK', 'TNK', 'Myeloisch', 'TNK', 'TNK', 'Myeloisch', 'TNK', 'TNK', 'Myeloisch', 'Myeloisch', 'TNK', 'TNK', 'TNK', 'Myeloisch', 'TNK', 'Myeloisch', 'TNK', 'Myeloisch', 'TNK', 'B', 'B', 'TNK', 'TNK', 'TNK', 'TNK', 'TNK', 'B', 'Myeloisch', 'B', 'Myeloisch', 'Myeloisch', 'Myeloisch', 'TNK', 'Myeloisch', 'TNK', 'TNK', 'TNK', 'Myeloisch', 'TNK', 'TNK', 'TNK', 'Myeloisch', 'TNK', 'TNK', 'TNK', 'TNK', 'TNK', 'TNK', 'TNK', 'TNK', 'TNK', 'Myeloisch', 'TNK', 'TNK', 'TNK', 'Myeloisch', 'TNK', 'TNK', 'TNK', 'TNK', 'Myeloisch', 'TNK', 'TNK', 'TNK', 'TNK', 'TNK', 'TNK', 'TNK', 'B', 'TNK', 'TNK', 'TNK', 'TNK', 'B', 'TNK', 'B', 'B', 'TNK', 'B', 'TNK', 'TNK', 'TNK', 'TNK', 'TNK', 'TNK', 'B', 'TNK', 'B', 'B', 'TNK', 'Myeloisch', 'TNK', 'TNK', 'TNK', 'TNK', 'B', 'TNK', 'TNK', 'TNK', 'TNK', 'TNK', 'TNK', 'TNK', 'TNK', 'TNK', 'B', 'TNK', 'TNK', 'Myeloisch', 'TNK', 'Myeloisch', 'TNK', 'Myeloisch', 'TNK', 'Myeloisch', 'TNK', 'TNK', 'Myeloisch', 'Myeloisch', 'TNK', 'TNK', 'Myeloisch', 'TNK', 'TNK', 'Myeloisch', 'TNK', 'TNK', 'Myeloisch', 'TNK', 'TNK', 'Myeloisch', 'Myeloisch', 'TNK', 'Myeloisch', 'TNK', 'TNK', 'TNK', 'TNK', 'B', 'B', 'TNK', 'TNK', 'TNK', 'TNK', 'TNK', 'B', 'B', 'TNK', 'TNK', 'B', 'TNK', 'TNK', 'B', 'TNK', 'Myeloisch', 'TNK', 'Myeloisch', 'TNK', 'Myeloisch', 'TNK', 'TNK', 'TNK', 'TNK', 'TNK', 'TNK', 'TNK', 'TNK', 'Myeloisch', 'B', 'TNK', 'TNK', 'Myeloisch', 'Myeloisch', 'TNK', 'Myeloisch', 'Myeloisch', 'Myeloisch', 'B', 'TNK', 'TNK', 'B', 'TNK', 'TNK', 'B', 'TNK', 'B', 'Myeloisch', 'TNK', 'TNK', 'TNK', 'TNK', 'Myeloisch', 'TNK', 'Myeloisch', 'TNK', 'TNK', 'TNK', 'TNK', 'Myeloisch', 'B', 'Myeloisch', 'TNK', 'TNK', 'Myeloisch', 'Myeloisch', 'TNK', 'TNK', 'B', 'TNK', 'TNK', 'TNK', 'TNK', 'Myeloisch', 'TNK', 'TNK', 'B', 'TNK', 'TNK', 'B', 'Myeloisch', 'Myeloisch', 'TNK', 'Myeloisch', 'Myeloisch', 'TNK', 'TNK', 'TNK', 'TNK', 'B', 'TNK', 'TNK', 'TNK', 'TNK', 'Myeloisch', 'TNK', 'TNK', 'TNK', 'TNK', 'TNK', 'Myeloisch', 'Myeloisch', 'TNK', 'Myeloisch', 'B', 'TNK', 'TNK', 'Myeloisch', 'TNK', 'TNK', 'Myeloisch', 'Myeloisch', 'TNK', 'TNK', 'B', 'B', 'Myeloisch', 'TNK', 'Myeloisch', 'B', 'TNK', 'TNK', 'TNK', 'TNK', 'TNK', 'B', 'Myeloisch', 'TNK', 'TNK', 'B', 'TNK', 'Myeloisch', 'Myeloisch', 'Myeloisch', 'B', 'TNK', 'Myeloisch', 'TNK', 'B', 'TNK', 'Myeloisch', 'Myeloisch', 'TNK', 'B', 'TNK', 'TNK', 'B', 'TNK', 'B', 'Myeloisch', 'TNK', 'TNK', 'TNK', 'Myeloisch', 'TNK', 'TNK', 'TNK', 'TNK', 'Myeloisch', 'TNK', 'B', 'Myeloisch', 'Myeloisch', 'TNK', 'TNK', 'B', 'TNK', 'Myeloisch', 'TNK', 'TNK', 'TNK', 'Myeloisch', 'TNK', 'TNK', 'TNK', 'TNK', 'B', 'B', 'TNK', 'TNK', 'TNK', 'TNK', 'Myeloisch', 'TNK', 'TNK', 'TNK', 'Myeloisch', 'TNK', 'TNK', 'TNK', 'B', 'Myeloisch', 'TNK', 'B', 'TNK', 'TNK', 'B', 'Myeloisch', 'Myeloisch', 'TNK', 'TNK', 'TNK', 'TNK', 'TNK', 'B', 'B', 'Myeloisch', 'TNK', 'TNK', 'B', 'Myeloisch', 'Myeloisch', 'TNK', 'TNK', 'TNK', 'TNK', 'TNK', 'TNK', 'TNK', 'TNK', 'TNK', 'Myeloisch', 'TNK', 'TNK', 'Myeloisch', 'TNK', 'TNK', 'TNK', 'TNK', 'TNK', 'TNK', 'Myeloisch', 'B', 'TNK', 'TNK', 'Myeloisch', 'TNK', 'Myeloisch', 'Myeloisch', 'B', 'TNK', 'TNK', 'Myeloisch', 'TNK', 'B', 'TNK', 'TNK', 'Myeloisch', 'TNK', 'TNK', 'TNK', 'TNK', 'Myeloisch', 'TNK', 'B', 'TNK', 'TNK', 'TNK', 'B', 'TNK', 'TNK', 'TNK', 'TNK', 'B', 'TNK', 'Myeloisch', 'TNK', 'TNK', 'TNK', 'TNK', 'TNK', 'TNK', 'Myeloisch', 'TNK', 'TNK', 'TNK', 'TNK', 'B', 'B', 'Myeloisch', 'Myeloisch', 'TNK', 'TNK', 'B', 'TNK', 'Myeloisch', 'Myeloisch', 'B', 'TNK', 'TNK', 'TNK', 'TNK', 'Myeloisch', 'TNK', 'TNK', 'TNK', 'Myeloisch', 'TNK', 'TNK', 'TNK', 'TNK', 'B', 'TNK', 'Myeloisch', 'TNK', 'TNK', 'Myeloisch', 'TNK', 'Myeloisch', 'TNK', 'TNK', 'TNK', 'TNK', 'Myeloisch', 'TNK', 'TNK', 'TNK', 'Myeloisch', 'TNK', 'Myeloisch', 'TNK', 'TNK', 'TNK', 'Myeloisch', 'TNK', 'TNK', 'TNK', 'TNK', 'TNK', 'TNK', 'TNK', 'TNK', 'TNK', 'Myeloisch', 'Myeloisch', 'TNK', 'Myeloisch', 'Myeloisch', 'TNK', 'TNK', 'TNK', 'TNK', 'TNK', 'TNK', 'TNK', 'Myeloisch', 'TNK', 'Myeloisch', 'Myeloisch', 'Myeloisch', 'Myeloisch', 'TNK', 'Myeloisch', 'TNK', 'TNK', 'Myeloisch', 'B', 'TNK', 'TNK', 'Myeloisch', 'TNK', 'TNK', 'TNK', 'TNK', 'Myeloisch', 'B', 'TNK', 'TNK', 'TNK', 'Myeloisch', 'TNK', 'TNK', 'TNK', 'TNK', 'Myeloisch', 'Myeloisch', 'Myeloisch', 'Myeloisch', 'TNK', 'B', 'Myeloisch', 'Myeloisch', 'TNK', 'TNK', 'TNK', 'TNK', 'TNK', 'B', 'B', 'TNK', 'TNK', 'TNK', 'TNK', 'Myeloisch', 'B', 'Myeloisch', 'TNK', 'Myeloisch', 'Myeloisch', 'Myeloisch', 'TNK', 'TNK', 'Myeloisch', 'Myeloisch', 'TNK', 'TNK', 'TNK', 'Myeloisch', 'TNK', 'TNK', 'B', 'TNK', 'TNK', 'TNK', 'Myeloisch', 'TNK', 'TNK', 'TNK', 'TNK', 'Myeloisch', 'TNK', 'TNK', 'Myeloisch', 'TNK', 'Myeloisch', 'TNK', 'TNK', 'TNK', 'TNK', 'TNK', 'Myeloisch', 'TNK', 'TNK', 'TNK', 'Myeloisch', 'TNK', 'Myeloisch', 'TNK', 'TNK', 'Myeloisch', 'TNK', 'TNK', 'TNK', 'TNK', 'TNK', 'Myeloisch', 'TNK', 'TNK', 'TNK', 'B', 'TNK', 'B', 'TNK', 'TNK', 'TNK', 'TNK', 'TNK', 'TNK', 'TNK', 'TNK', 'Myeloisch', 'TNK', 'TNK', 'TNK', 'TNK', 'TNK', 'TNK', 'TNK', 'TNK', 'TNK', 'TNK', 'TNK', 'TNK', 'TNK', 'TNK', 'TNK', 'B', 'Myeloisch', 'TNK', 'TNK', 'TNK', 'Myeloisch', 'TNK', 'TNK', 'TNK', 'Myeloisch', 'Myeloisch', 'TNK', 'TNK', 'B', 'TNK', 'TNK', 'TNK', 'B', 'TNK', 'Myeloisch', 'TNK', 'TNK', 'TNK', 'TNK', 'TNK', 'TNK', 'B', 'TNK', 'TNK', 'TNK', 'TNK', 'TNK', 'TNK', 'TNK', 'B', 'B', 'TNK', 'TNK', 'TNK', 'TNK', 'TNK', 'TNK', 'Myeloisch', 'TNK', 'TNK', 'TNK', 'TNK', 'TNK', 'TNK', 'TNK', 'TNK', 'TNK', 'TNK', 'TNK', 'TNK', 'TNK', 'TNK', 'TNK', 'TNK', 'Myeloisch', 'TNK', 'B', 'Myeloisch', 'Myeloisch', 'TNK', 'Myeloisch', 'B', 'TNK', 'Myeloisch', 'TNK', 'TNK', 'TNK', 'TNK', 'Myeloisch', 'TNK', 'TNK', 'TNK', 'TNK', 'TNK', 'Myeloisch', 'TNK', 'Myeloisch', 'Myeloisch', 'TNK', 'TNK', 'Myeloisch', 'TNK', 'TNK', 'Myeloisch', 'TNK', 'TNK', 'Myeloisch', 'B', 'B', 'TNK', 'Myeloisch', 'Myeloisch', 'TNK', 'TNK', 'Myeloisch', 'TNK', 'TNK', 'TNK', 'Myeloisch', 'B', 'TNK', 'TNK', 'TNK', 'TNK', 'B', 'TNK', 'TNK', 'TNK', 'B', 'Myeloisch', 'Myeloisch', 'Myeloisch', 'B', 'TNK', 'TNK', 'TNK', 'Myeloisch', 'TNK', 'TNK', 'B', 'TNK', 'Others', 'Myeloisch', 'Myeloisch', 'TNK', 'TNK', 'TNK', 'TNK', 'TNK', 'TNK', 'Myeloisch', 'B', 'B', 'TNK', 'TNK', 'TNK', 'Myeloisch', 'Myeloisch', 'TNK', 'TNK', 'B', 'B', 'Myeloisch', 'TNK', 'TNK', 'TNK', 'TNK', 'TNK', 'Myeloisch', 'TNK', 'Myeloisch', 'Myeloisch', 'B', 'TNK', 'B', 'TNK', 'TNK', 'TNK', 'TNK', 'TNK', 'TNK', 'TNK', 'Myeloisch', 'Myeloisch', 'TNK', 'Myeloisch', 'TNK', 'Myeloisch', 'Myeloisch', 'Myeloisch', 'TNK', 'TNK', 'TNK', 'B', 'TNK', 'TNK', 'B', 'B', 'TNK', 'B', 'TNK', 'B', 'TNK', 'TNK', 'Myeloisch', 'TNK', 'Myeloisch', 'Others', 'TNK', 'Myeloisch', 'Myeloisch', 'TNK', 'TNK', 'Myeloisch', 'Myeloisch', 'TNK', 'Myeloisch', 'TNK', 'TNK', 'TNK', 'TNK', 'TNK', 'TNK', 'TNK', 'Myeloisch', 'TNK', 'Myeloisch', 'TNK', 'TNK', 'TNK', 'Myeloisch', 'TNK', 'Myeloisch', 'TNK', 'B', 'B', 'Myeloisch', 'TNK', 'TNK', 'TNK', 'B', 'TNK', 'TNK', 'Myeloisch', 'Myeloisch', 'TNK', 'TNK', 'TNK', 'Myeloisch', 'TNK', 'TNK', 'TNK', 'Myeloisch', 'TNK', 'Myeloisch', 'TNK', 'B', 'B', 'B', 'B', 'TNK', 'TNK', 'B', 'Myeloisch', 'TNK', 'Myeloisch', 'Myeloisch', 'TNK', 'TNK', 'TNK', 'TNK', 'TNK', 'TNK', 'Myeloisch', 'TNK', 'TNK', 'TNK', 'TNK', 'Myeloisch', 'Myeloisch', 'Myeloisch', 'Myeloisch', 'Myeloisch', 'Myeloisch', 'TNK', 'TNK', 'Myeloisch', 'TNK', 'TNK', 'Myeloisch', 'TNK', 'B', 'TNK', 'B', 'Myeloisch', 'TNK', 'TNK', 'TNK', 'TNK', 'TNK', 'TNK', 'TNK', 'TNK', 'TNK', 'TNK', 'TNK', 'Myeloisch', 'TNK', 'TNK', 'TNK', 'TNK', 'TNK', 'TNK', 'TNK', 'TNK', 'TNK', 'TNK', 'Myeloisch', 'TNK', 'TNK', 'TNK', 'TNK', 'TNK', 'Myeloisch', 'TNK', 'TNK', 'Myeloisch', 'TNK', 'TNK', 'TNK', 'Myeloisch', 'Myeloisch', 'TNK', 'TNK', 'B', 'TNK', 'TNK', 'TNK', 'TNK', 'TNK', 'TNK', 'Myeloisch', 'TNK', 'TNK', 'TNK', 'B', 'TNK', 'Myeloisch', 'TNK', 'TNK', 'TNK', 'Myeloisch', 'TNK', 'Others', 'TNK', 'Myeloisch', 'TNK', 'B', 'TNK', 'Myeloisch', 'TNK', 'TNK', 'B', 'Myeloisch', 'Myeloisch', 'TNK', 'TNK', 'Myeloisch', 'TNK', 'B', 'Myeloisch', 'TNK', 'TNK', 'TNK', 'TNK', 'B', 'TNK', 'TNK', 'Myeloisch', 'TNK', 'TNK', 'TNK', 'TNK', 'TNK', 'B', 'TNK', 'TNK', 'TNK', 'TNK', 'Myeloisch', 'Myeloisch', 'Myeloisch', 'TNK', 'TNK', 'Myeloisch', 'TNK', 'Myeloisch', 'Others', 'TNK', 'Myeloisch', 'TNK', 'Myeloisch', 'B', 'Myeloisch', 'TNK', 'TNK', 'TNK', 'Myeloisch', 'TNK', 'TNK', 'B', 'Myeloisch', 'TNK', 'TNK', 'TNK', 'B', 'TNK', 'Myeloisch', 'Myeloisch', 'Myeloisch', 'TNK', 'Myeloisch', 'TNK', 'Myeloisch', 'TNK', 'TNK', 'Myeloisch', 'B', 'B', 'B', 'Myeloisch', 'TNK', 'TNK', 'Myeloisch', 'Myeloisch', 'Myeloisch', 'TNK', 'TNK', 'TNK', 'TNK', 'TNK', 'TNK', 'TNK', 'B', 'TNK', 'Myeloisch', 'TNK', 'TNK', 'TNK', 'Myeloisch', 'TNK', 'Myeloisch', 'TNK', 'B', 'TNK', 'B', 'TNK', 'TNK', 'Myeloisch', 'Others', 'TNK', 'TNK', 'TNK', 'Myeloisch', 'TNK', 'TNK', 'TNK', 'Myeloisch', 'TNK', 'TNK', 'TNK', 'Myeloisch', 'TNK', 'TNK', 'TNK', 'TNK', 'TNK', 'TNK', 'TNK', 'TNK', 'TNK', 'TNK', 'Myeloisch', 'TNK', 'TNK', 'TNK', 'Myeloisch', 'TNK', 'B', 'Myeloisch', 'Myeloisch', 'TNK', 'TNK', 'TNK', 'TNK', 'TNK', 'TNK', 'TNK', 'Myeloisch', 'TNK', 'B', 'B', 'TNK', 'Myeloisch', 'TNK', 'Myeloisch', 'TNK', 'TNK', 'TNK', 'TNK', 'Myeloisch', 'B', 'Myeloisch', 'B', 'TNK', 'TNK', 'TNK', 'B', 'TNK', 'Myeloisch', 'Myeloisch', 'TNK', 'B', 'TNK', 'TNK', 'TNK', 'TNK', 'Myeloisch', 'TNK', 'Myeloisch', 'TNK', 'Myeloisch', 'TNK', 'Myeloisch', 'B', 'TNK', 'Myeloisch', 'Myeloisch', 'B', 'Myeloisch', 'TNK', 'Myeloisch', 'TNK', 'Myeloisch', 'TNK', 'Myeloisch', 'TNK', 'TNK', 'Myeloisch', 'B', 'B', 'B', 'TNK', 'B', 'Myeloisch', 'Myeloisch', 'TNK', 'TNK', 'TNK', 'Myeloisch', 'TNK', 'TNK', 'TNK', 'Myeloisch', 'TNK', 'Myeloisch', 'B', 'Myeloisch', 'B', 'Myeloisch', 'TNK', 'TNK', 'TNK', 'Myeloisch', 'TNK', 'Myeloisch', 'Myeloisch', 'TNK', 'Myeloisch', 'TNK', 'TNK', 'TNK', 'TNK', 'TNK', 'TNK', 'TNK', 'TNK', 'Myeloisch', 'TNK', 'TNK', 'TNK', 'TNK', 'TNK', 'B', 'TNK', 'Others', 'TNK', 'TNK', 'TNK', 'TNK', 'TNK', 'TNK', 'TNK', 'Myeloisch', 'Myeloisch', 'TNK', 'B', 'TNK', 'Myeloisch', 'TNK', 'TNK', 'TNK', 'TNK', 'B', 'TNK', 'TNK', 'Myeloisch', 'Myeloisch', 'TNK', 'B', 'TNK', 'TNK', 'TNK', 'TNK', 'TNK', 'TNK', 'B', 'Myeloisch', 'B', 'Myeloisch', 'Myeloisch', 'TNK', 'B', 'TNK', 'Myeloisch', 'TNK', 'Myeloisch', 'TNK', 'B', 'TNK', 'TNK', 'TNK', 'Myeloisch', 'TNK', 'Myeloisch', 'Myeloisch', 'Myeloisch', 'TNK', 'TNK', 'TNK', 'TNK', 'Myeloisch', 'TNK', 'Myeloisch', 'TNK', 'TNK', 'B', 'TNK', 'TNK', 'B', 'Myeloisch', 'Myeloisch', 'Others', 'B', 'TNK', 'Myeloisch', 'TNK', 'TNK', 'TNK', 'TNK', 'Myeloisch', 'B', 'Myeloisch', 'Myeloisch', 'Myeloisch', 'B', 'Myeloisch', 'Myeloisch', 'TNK', 'TNK', 'Myeloisch', 'Myeloisch', 'TNK', 'TNK', 'TNK', 'TNK', 'Myeloisch', 'TNK', 'TNK', 'B', 'B', 'TNK', 'TNK', 'TNK', 'TNK', 'Myeloisch', 'TNK', 'Myeloisch', 'TNK', 'TNK', 'Myeloisch', 'TNK', 'TNK', 'TNK', 'TNK', 'TNK', 'TNK', 'TNK', 'B', 'TNK', 'TNK', 'Myeloisch', 'Myeloisch', 'Myeloisch', 'TNK', 'TNK', 'TNK', 'TNK', 'TNK', 'TNK', 'TNK', 'TNK', 'Myeloisch', 'TNK', 'TNK', 'B', 'B', 'Myeloisch', 'TNK', 'TNK', 'B', 'TNK', 'Myeloisch', 'B', 'TNK', 'Myeloisch', 'TNK', 'TNK', 'TNK', 'Myeloisch', 'Myeloisch', 'TNK', 'TNK', 'Myeloisch', 'B', 'TNK', 'Myeloisch', 'TNK', 'B', 'TNK', 'TNK', 'Myeloisch', 'B', 'TNK', 'B', 'TNK', 'TNK', 'Myeloisch', 'TNK', 'TNK', 'TNK', 'TNK', 'TNK', 'B', 'B', 'TNK', 'Myeloisch', 'TNK', 'TNK', 'TNK', 'TNK', 'TNK', 'TNK', 'Myeloisch', 'TNK', 'TNK', 'TNK', 'TNK', 'Myeloisch', 'B', 'TNK', 'TNK', 'TNK', 'B', 'TNK', 'B', 'B', 'Myeloisch', 'TNK', 'Myeloisch', 'TNK', 'TNK', 'B', 'TNK', 'B', 'TNK', 'TNK', 'TNK', 'Myeloisch', 'TNK', 'TNK', 'TNK', 'Myeloisch', 'B', 'TNK', 'TNK', 'TNK', 'TNK', 'Myeloisch', 'Myeloisch', 'TNK', 'TNK', 'TNK', 'TNK', 'Myeloisch', 'TNK', 'TNK', 'TNK', 'TNK', 'B', 'TNK', 'TNK', 'TNK', 'Myeloisch', 'TNK', 'Myeloisch', 'TNK', 'TNK', 'Myeloisch', 'TNK', 'TNK', 'TNK', 'TNK', 'Myeloisch', 'TNK', 'TNK', 'Myeloisch', 'B', 'TNK', 'B', 'Myeloisch', 'B', 'Myeloisch', 'TNK', 'TNK', 'TNK', 'TNK', 'TNK', 'Myeloisch', 'Myeloisch', 'TNK', 'Myeloisch', 'TNK', 'TNK', 'Myeloisch', 'TNK', 'TNK', 'TNK', 'Myeloisch', 'TNK', 'TNK', 'Myeloisch', 'TNK', 'TNK', 'TNK', 'B', 'TNK', 'B', 'TNK', 'Myeloisch', 'TNK', 'TNK', 'TNK', 'B', 'TNK', 'TNK', 'TNK', 'TNK', 'Myeloisch', 'TNK', 'TNK', 'TNK', 'TNK', 'TNK', 'TNK', 'TNK', 'TNK', 'Myeloisch', 'B', 'TNK', 'B', 'TNK', 'TNK', 'TNK', 'TNK', 'Myeloisch', 'Myeloisch', 'TNK', 'TNK', 'Myeloisch', 'B', 'Myeloisch', 'TNK', 'TNK', 'TNK', 'TNK', 'TNK', 'Myeloisch', 'TNK', 'TNK', 'TNK', 'TNK', 'TNK', 'Myeloisch', 'TNK', 'TNK', 'TNK', 'B', 'TNK', 'TNK', 'TNK', 'TNK', 'Myeloisch', 'TNK', 'Myeloisch', 'Myeloisch', 'B', 'TNK', 'TNK', 'B', 'TNK', 'B', 'TNK', 'TNK', 'B', 'TNK', 'TNK', 'Myeloisch', 'Myeloisch', 'TNK', 'TNK', 'TNK', 'TNK', 'Myeloisch', 'B', 'Myeloisch', 'Myeloisch', 'TNK', 'TNK', 'TNK', 'B', 'TNK', 'TNK', 'TNK', 'Myeloisch', 'Myeloisch', 'TNK', 'Myeloisch', 'TNK', 'TNK', 'TNK', 'TNK', 'TNK', 'B', 'TNK', 'TNK', 'TNK', 'B', 'TNK', 'TNK', 'TNK', 'TNK', 'Myeloisch', 'TNK', 'TNK', 'Myeloisch', 'TNK', 'TNK', 'B', 'TNK', 'TNK', 'Myeloisch', 'TNK', 'TNK', 'TNK', 'TNK', 'TNK', 'Myeloisch', 'Myeloisch', 'Myeloisch', 'TNK', 'TNK', 'B', 'TNK', 'TNK', 'Myeloisch', 'TNK', 'Myeloisch', 'TNK', 'TNK', 'TNK', 'TNK', 'TNK', 'TNK', 'B', 'TNK', 'B', 'TNK', 'TNK', 'B', 'TNK', 'TNK', 'B', 'TNK', 'TNK', 'TNK', 'Myeloisch', 'Myeloisch', 'Myeloisch', 'TNK', 'TNK', 'TNK', 'Myeloisch', 'TNK', 'TNK', 'TNK', 'B', 'B', 'B', 'TNK', 'TNK', 'B', 'B', 'B', 'Myeloisch', 'Myeloisch', 'Myeloisch', 'B', 'TNK', 'TNK', 'TNK', 'Myeloisch', 'TNK', 'Myeloisch', 'TNK', 'B', 'TNK', 'TNK', 'TNK', 'Myeloisch', 'TNK', 'TNK', 'Myeloisch', 'TNK', 'TNK', 'TNK', 'Myeloisch', 'TNK', 'TNK', 'TNK', 'TNK', 'TNK', 'B', 'B', 'TNK', 'B', 'TNK', 'Myeloisch', 'TNK', 'TNK', 'B', 'TNK', 'TNK', 'Myeloisch', 'TNK', 'TNK', 'TNK', 'TNK', 'TNK', 'Myeloisch', 'TNK', 'TNK', 'Myeloisch', 'Myeloisch', 'Myeloisch', 'TNK', 'B', 'TNK', 'Myeloisch', 'TNK', 'TNK', 'TNK', 'TNK', 'B', 'TNK', 'TNK', 'TNK', 'TNK', 'TNK', 'TNK', 'TNK', 'TNK', 'TNK', 'TNK', 'TNK', 'B', 'TNK', 'B', 'Myeloisch', 'Myeloisch', 'TNK', 'TNK', 'TNK', 'TNK', 'TNK', 'TNK', 'TNK', 'TNK', 'TNK', 'Myeloisch', 'TNK', 'TNK', 'B', 'TNK', 'Myeloisch', 'Others', 'Myeloisch', 'Myeloisch', 'TNK', 'Myeloisch', 'TNK', 'TNK', 'TNK', 'Myeloisch', 'TNK', 'TNK', 'TNK', 'TNK', 'B', 'TNK', 'Myeloisch', 'TNK', 'B', 'Myeloisch', 'TNK', 'B', 'TNK', 'TNK', 'B', 'Myeloisch', 'Myeloisch', 'B', 'B', 'TNK', 'TNK', 'TNK', 'Myeloisch', 'Myeloisch', 'Myeloisch', 'TNK', 'TNK', 'TNK', 'TNK', 'Myeloisch', 'TNK', 'TNK', 'TNK', 'TNK', 'TNK', 'Myeloisch', 'TNK', 'Myeloisch', 'TNK', 'B', 'Myeloisch', 'TNK', 'Myeloisch', 'TNK', 'Myeloisch', 'B', 'Myeloisch', 'TNK', 'Myeloisch', 'TNK', 'Myeloisch', 'Myeloisch', 'TNK', 'TNK', 'TNK', 'TNK', 'TNK', 'TNK', 'Myeloisch', 'TNK', 'TNK', 'TNK', 'TNK', 'Myeloisch', 'TNK', 'TNK', 'TNK', 'Myeloisch', 'Myeloisch', 'TNK', 'TNK', 'B', 'TNK', 'Myeloisch', 'TNK', 'B', 'TNK', 'TNK', 'B', 'TNK', 'B', 'Myeloisch', 'Myeloisch', 'TNK', 'TNK', 'Myeloisch', 'TNK', 'TNK', 'TNK', 'TNK', 'Myeloisch', 'TNK', 'TNK', 'Myeloisch', 'B', 'TNK', 'TNK', 'TNK', 'B', 'B', 'B', 'B', 'TNK', 'B', 'Myeloisch', 'B', 'TNK', 'Myeloisch', 'Myeloisch', 'Myeloisch', 'TNK', 'TNK', 'TNK', 'B', 'Myeloisch', 'B', 'TNK', 'Myeloisch', 'Myeloisch', 'B', 'B', 'B', 'TNK']\n",
            "Epoch 1/50\n",
            "25/25 [==============================] - 2s 24ms/step - loss: 1.3772 - val_loss: 1.2456\n",
            "Epoch 2/50\n",
            "25/25 [==============================] - 0s 8ms/step - loss: 1.1269 - val_loss: 1.0200\n",
            "Epoch 3/50\n",
            "25/25 [==============================] - 0s 8ms/step - loss: 0.9466 - val_loss: 0.8833\n",
            "Epoch 4/50\n",
            "25/25 [==============================] - 0s 7ms/step - loss: 0.8348 - val_loss: 0.7973\n",
            "Epoch 5/50\n",
            "25/25 [==============================] - 0s 9ms/step - loss: 0.7590 - val_loss: 0.7378\n",
            "Epoch 6/50\n",
            "25/25 [==============================] - 0s 10ms/step - loss: 0.7028 - val_loss: 0.6909\n",
            "Epoch 7/50\n",
            "25/25 [==============================] - 0s 6ms/step - loss: 0.6581 - val_loss: 0.6517\n",
            "Epoch 8/50\n",
            "25/25 [==============================] - 0s 8ms/step - loss: 0.6203 - val_loss: 0.6181\n",
            "Epoch 9/50\n",
            "25/25 [==============================] - 0s 9ms/step - loss: 0.5879 - val_loss: 0.5885\n",
            "Epoch 10/50\n",
            "25/25 [==============================] - 0s 6ms/step - loss: 0.5594 - val_loss: 0.5628\n",
            "Epoch 11/50\n",
            "25/25 [==============================] - 0s 6ms/step - loss: 0.5340 - val_loss: 0.5387\n",
            "Epoch 12/50\n",
            "25/25 [==============================] - 0s 8ms/step - loss: 0.5110 - val_loss: 0.5172\n",
            "Epoch 13/50\n",
            "25/25 [==============================] - 0s 6ms/step - loss: 0.4904 - val_loss: 0.4979\n",
            "Epoch 14/50\n",
            "25/25 [==============================] - 0s 5ms/step - loss: 0.4713 - val_loss: 0.4802\n",
            "Epoch 15/50\n",
            "25/25 [==============================] - 0s 4ms/step - loss: 0.4540 - val_loss: 0.4640\n",
            "Epoch 16/50\n",
            "25/25 [==============================] - 0s 5ms/step - loss: 0.4381 - val_loss: 0.4490\n",
            "Epoch 17/50\n",
            "25/25 [==============================] - 0s 6ms/step - loss: 0.4232 - val_loss: 0.4348\n",
            "Epoch 18/50\n",
            "25/25 [==============================] - 0s 7ms/step - loss: 0.4097 - val_loss: 0.4220\n",
            "Epoch 19/50\n",
            "25/25 [==============================] - 0s 8ms/step - loss: 0.3969 - val_loss: 0.4104\n",
            "Epoch 20/50\n",
            "25/25 [==============================] - 0s 9ms/step - loss: 0.3852 - val_loss: 0.3994\n",
            "Epoch 21/50\n",
            "25/25 [==============================] - 0s 7ms/step - loss: 0.3741 - val_loss: 0.3888\n",
            "Epoch 22/50\n",
            "25/25 [==============================] - 0s 5ms/step - loss: 0.3638 - val_loss: 0.3796\n",
            "Epoch 23/50\n",
            "25/25 [==============================] - 0s 6ms/step - loss: 0.3544 - val_loss: 0.3705\n",
            "Epoch 24/50\n",
            "25/25 [==============================] - 0s 5ms/step - loss: 0.3453 - val_loss: 0.3624\n",
            "Epoch 25/50\n",
            "25/25 [==============================] - 0s 5ms/step - loss: 0.3369 - val_loss: 0.3546\n",
            "Epoch 26/50\n",
            "25/25 [==============================] - 0s 4ms/step - loss: 0.3289 - val_loss: 0.3471\n",
            "Epoch 27/50\n",
            "25/25 [==============================] - 0s 4ms/step - loss: 0.3213 - val_loss: 0.3404\n",
            "Epoch 28/50\n",
            "25/25 [==============================] - 0s 7ms/step - loss: 0.3142 - val_loss: 0.3338\n",
            "Epoch 29/50\n",
            "25/25 [==============================] - 0s 4ms/step - loss: 0.3076 - val_loss: 0.3275\n",
            "Epoch 30/50\n",
            "25/25 [==============================] - 0s 5ms/step - loss: 0.3012 - val_loss: 0.3217\n",
            "Epoch 31/50\n",
            "25/25 [==============================] - 0s 6ms/step - loss: 0.2952 - val_loss: 0.3164\n",
            "Epoch 32/50\n",
            "25/25 [==============================] - 0s 5ms/step - loss: 0.2895 - val_loss: 0.3112\n",
            "Epoch 33/50\n",
            "25/25 [==============================] - 0s 8ms/step - loss: 0.2843 - val_loss: 0.3062\n",
            "Epoch 34/50\n",
            "25/25 [==============================] - 0s 10ms/step - loss: 0.2790 - val_loss: 0.3013\n",
            "Epoch 35/50\n",
            "25/25 [==============================] - 0s 7ms/step - loss: 0.2740 - val_loss: 0.2964\n",
            "Epoch 36/50\n",
            "25/25 [==============================] - 0s 7ms/step - loss: 0.2694 - val_loss: 0.2920\n",
            "Epoch 37/50\n",
            "25/25 [==============================] - 0s 8ms/step - loss: 0.2649 - val_loss: 0.2878\n",
            "Epoch 38/50\n",
            "25/25 [==============================] - 0s 6ms/step - loss: 0.2606 - val_loss: 0.2838\n",
            "Epoch 39/50\n",
            "25/25 [==============================] - 0s 8ms/step - loss: 0.2564 - val_loss: 0.2798\n",
            "Epoch 40/50\n",
            "25/25 [==============================] - 0s 3ms/step - loss: 0.2525 - val_loss: 0.2760\n",
            "Epoch 41/50\n",
            "25/25 [==============================] - 0s 5ms/step - loss: 0.2486 - val_loss: 0.2724\n",
            "Epoch 42/50\n",
            "25/25 [==============================] - 0s 5ms/step - loss: 0.2449 - val_loss: 0.2688\n",
            "Epoch 43/50\n",
            "25/25 [==============================] - 0s 5ms/step - loss: 0.2413 - val_loss: 0.2653\n",
            "Epoch 44/50\n",
            "25/25 [==============================] - 0s 3ms/step - loss: 0.2378 - val_loss: 0.2623\n",
            "Epoch 45/50\n",
            "25/25 [==============================] - 0s 2ms/step - loss: 0.2345 - val_loss: 0.2590\n",
            "Epoch 46/50\n",
            "25/25 [==============================] - 0s 3ms/step - loss: 0.2313 - val_loss: 0.2560\n",
            "Epoch 47/50\n",
            "25/25 [==============================] - 0s 3ms/step - loss: 0.2282 - val_loss: 0.2528\n",
            "Epoch 48/50\n",
            "25/25 [==============================] - 0s 2ms/step - loss: 0.2252 - val_loss: 0.2501\n",
            "Epoch 49/50\n",
            "25/25 [==============================] - 0s 3ms/step - loss: 0.2223 - val_loss: 0.2470\n",
            "Epoch 50/50\n",
            "25/25 [==============================] - 0s 2ms/step - loss: 0.2196 - val_loss: 0.2443\n"
          ]
        }
      ]
    },
    {
      "cell_type": "code",
      "source": [
        "#print first level classifier model accuracy\n",
        "print(hc.graph.nodes['all']['memory'].training_acc)\n",
        "\n",
        "print(hc.graph.nodes['all']['memory'].test_acc)"
      ],
      "metadata": {
        "colab": {
          "base_uri": "https://localhost:8080/"
        },
        "id": "6Q5Yy5KrNtTp",
        "outputId": "dcf0a721-3a37-49b6-a802-e51bc6df1a43"
      },
      "execution_count": 423,
      "outputs": [
        {
          "output_type": "stream",
          "name": "stdout",
          "text": [
            "0.9294653014789533\n",
            "0.9181818181818182\n"
          ]
        }
      ]
    },
    {
      "cell_type": "code",
      "source": [
        "hc.graph.nodes['all']['memory'].local_classifier.label_encoder.inverse_transform(hc.graph.nodes['all']['memory'].training_prediction_vec)"
      ],
      "metadata": {
        "colab": {
          "base_uri": "https://localhost:8080/"
        },
        "id": "zjVQ3DdXHD7q",
        "outputId": "04fdc9d5-b4ce-4a32-c40c-57c723e269c3"
      },
      "execution_count": 424,
      "outputs": [
        {
          "output_type": "execute_result",
          "data": {
            "text/plain": [
              "array(['TNK', 'B', 'TNK', ..., 'TNK', 'B', 'TNK'], dtype='<U9')"
            ]
          },
          "metadata": {},
          "execution_count": 424
        }
      ]
    },
    {
      "cell_type": "code",
      "source": [
        "hc.subset_pred_vec('all')"
      ],
      "metadata": {
        "colab": {
          "base_uri": "https://localhost:8080/"
        },
        "id": "jtDy-HIaCB-S",
        "outputId": "4f54507d-a874-49b5-d365-c7344df6d3aa"
      },
      "execution_count": 425,
      "outputs": [
        {
          "output_type": "stream",
          "name": "stdout",
          "text": [
            "zusammengefügter pred_vec aus training und testdaten: ['TNK' 'B' 'TNK' 'Myeloisch' 'Myeloisch' 'TNK' 'TNK' 'TNK' 'B' 'Myeloisch'\n",
            " 'B' 'TNK' 'TNK' 'Myeloisch' 'TNK' 'TNK' 'Myeloisch' 'TNK' 'B' 'B' 'B'\n",
            " 'TNK' 'Myeloisch' 'B' 'TNK' 'TNK' 'TNK' 'TNK' 'TNK' 'TNK' 'TNK' 'B'\n",
            " 'Myeloisch' 'TNK' 'Myeloisch' 'TNK' 'Myeloisch' 'TNK' 'TNK' 'TNK' 'TNK'\n",
            " 'TNK' 'TNK' 'TNK' 'TNK' 'TNK' 'TNK' 'Myeloisch' 'TNK' 'TNK' 'Myeloisch'\n",
            " 'TNK' 'TNK' 'TNK' 'TNK' 'B' 'Myeloisch' 'TNK' 'Myeloisch' 'Myeloisch'\n",
            " 'TNK' 'TNK' 'TNK' 'TNK' 'TNK' 'TNK' 'TNK' 'TNK' 'TNK' 'TNK' 'TNK'\n",
            " 'Myeloisch' 'TNK' 'Myeloisch' 'TNK' 'B' 'TNK' 'TNK' 'TNK' 'Myeloisch'\n",
            " 'Myeloisch' 'TNK' 'Myeloisch' 'TNK' 'Myeloisch' 'TNK' 'TNK' 'TNK' 'B' 'B'\n",
            " 'TNK' 'Myeloisch' 'B' 'B' 'Myeloisch' 'Myeloisch' 'TNK' 'Myeloisch'\n",
            " 'Myeloisch' 'Myeloisch' 'Myeloisch' 'Myeloisch' 'TNK' 'TNK' 'Myeloisch'\n",
            " 'B' 'TNK' 'B' 'TNK' 'Myeloisch' 'Myeloisch' 'TNK' 'Myeloisch' 'TNK' 'TNK'\n",
            " 'TNK' 'TNK' 'B' 'TNK' 'TNK' 'TNK' 'Myeloisch' 'B' 'TNK' 'TNK' 'TNK'\n",
            " 'Myeloisch' 'B' 'Myeloisch' 'TNK' 'TNK' 'TNK' 'TNK' 'TNK' 'B' 'Myeloisch'\n",
            " 'TNK' 'TNK' 'TNK' 'B' 'TNK' 'TNK' 'TNK' 'B' 'TNK' 'TNK' 'B' 'TNK'\n",
            " 'Myeloisch' 'Myeloisch' 'TNK' 'TNK' 'TNK' 'TNK' 'Myeloisch' 'TNK' 'TNK'\n",
            " 'Myeloisch' 'Myeloisch' 'Myeloisch' 'B' 'Myeloisch' 'B' 'Myeloisch' 'TNK'\n",
            " 'B' 'TNK' 'TNK' 'TNK' 'TNK' 'TNK' 'TNK' 'TNK' 'Myeloisch' 'TNK'\n",
            " 'Myeloisch' 'TNK' 'TNK' 'B' 'B' 'TNK' 'B' 'TNK' 'TNK' 'Myeloisch'\n",
            " 'Myeloisch' 'Myeloisch' 'TNK' 'Myeloisch' 'TNK' 'B' 'TNK' 'B' 'TNK'\n",
            " 'Myeloisch' 'TNK' 'TNK' 'Myeloisch' 'TNK' 'TNK' 'Myeloisch' 'TNK' 'TNK'\n",
            " 'TNK' 'TNK' 'Myeloisch' 'TNK' 'TNK' 'TNK' 'Myeloisch' 'TNK' 'TNK' 'TNK'\n",
            " 'TNK' 'TNK' 'Myeloisch' 'Myeloisch' 'TNK' 'B' 'TNK' 'TNK' 'TNK' 'TNK'\n",
            " 'TNK' 'TNK' 'TNK' 'TNK' 'TNK' 'TNK' 'TNK' 'TNK' 'B' 'TNK' 'TNK'\n",
            " 'Myeloisch' 'TNK' 'TNK' 'TNK' 'TNK' 'TNK' 'TNK' 'B' 'Myeloisch' 'TNK'\n",
            " 'Myeloisch' 'Myeloisch' 'TNK' 'Myeloisch' 'TNK' 'B' 'TNK' 'TNK' 'TNK' 'B'\n",
            " 'Myeloisch' 'TNK' 'TNK' 'B' 'B' 'TNK' 'TNK' 'TNK' 'TNK' 'TNK' 'Myeloisch'\n",
            " 'Myeloisch' 'Myeloisch' 'Myeloisch' 'Myeloisch' 'TNK' 'Myeloisch' 'TNK'\n",
            " 'B' 'TNK' 'TNK' 'B' 'TNK' 'Myeloisch' 'TNK' 'TNK' 'B' 'TNK' 'Myeloisch'\n",
            " 'Myeloisch' 'TNK' 'TNK' 'TNK' 'TNK' 'B' 'TNK' 'Myeloisch' 'TNK' 'TNK'\n",
            " 'TNK' 'TNK' 'B' 'TNK' 'TNK' 'TNK' 'Myeloisch' 'TNK' 'Myeloisch'\n",
            " 'Myeloisch' 'B' 'TNK' 'TNK' 'TNK' 'TNK' 'TNK' 'TNK' 'TNK' 'Myeloisch' 'B'\n",
            " 'B' 'TNK' 'TNK' 'TNK' 'B' 'TNK' 'Myeloisch' 'TNK' 'Myeloisch' 'Myeloisch'\n",
            " 'Myeloisch' 'Myeloisch' 'B' 'Myeloisch' 'TNK' 'TNK' 'TNK' 'TNK' 'TNK'\n",
            " 'TNK' 'TNK' 'TNK' 'Myeloisch' 'Myeloisch' 'B' 'Myeloisch' 'TNK' 'TNK'\n",
            " 'Myeloisch' 'TNK' 'TNK' 'TNK' 'TNK' 'TNK' 'TNK' 'TNK' 'TNK' 'TNK' 'B'\n",
            " 'Myeloisch' 'TNK' 'Myeloisch' 'Myeloisch' 'TNK' 'TNK' 'TNK' 'TNK' 'TNK'\n",
            " 'B' 'TNK' 'Myeloisch' 'Myeloisch' 'B' 'B' 'Myeloisch' 'TNK' 'TNK'\n",
            " 'Myeloisch' 'TNK' 'TNK' 'TNK' 'Myeloisch' 'TNK' 'B' 'B' 'Myeloisch' 'TNK'\n",
            " 'TNK' 'Myeloisch' 'TNK' 'TNK' 'Myeloisch' 'B' 'TNK' 'Myeloisch' 'B' 'B'\n",
            " 'TNK' 'TNK' 'TNK' 'TNK' 'TNK' 'TNK' 'TNK' 'Myeloisch' 'Myeloisch' 'TNK'\n",
            " 'TNK' 'TNK' 'B' 'Myeloisch' 'TNK' 'TNK' 'TNK' 'B' 'B' 'TNK' 'Myeloisch'\n",
            " 'B' 'TNK' 'Myeloisch' 'TNK' 'TNK' 'TNK' 'TNK' 'TNK' 'B' 'Myeloisch' 'TNK'\n",
            " 'B' 'TNK' 'Myeloisch' 'Myeloisch' 'B' 'B' 'TNK' 'TNK' 'Myeloisch'\n",
            " 'Myeloisch' 'Myeloisch' 'TNK' 'TNK' 'TNK' 'TNK' 'B' 'TNK' 'TNK' 'B'\n",
            " 'Myeloisch' 'TNK' 'Myeloisch' 'TNK' 'TNK' 'TNK' 'TNK' 'TNK' 'TNK' 'TNK'\n",
            " 'TNK' 'TNK' 'Myeloisch' 'B' 'Myeloisch' 'TNK' 'TNK' 'TNK' 'TNK' 'TNK'\n",
            " 'TNK' 'TNK' 'TNK' 'TNK' 'TNK' 'TNK' 'Myeloisch' 'TNK' 'TNK' 'TNK' 'TNK'\n",
            " 'Myeloisch' 'TNK' 'TNK' 'TNK' 'TNK' 'TNK' 'B' 'TNK' 'Myeloisch' 'B' 'TNK'\n",
            " 'TNK' 'TNK' 'TNK' 'TNK' 'TNK' 'B' 'Myeloisch' 'TNK' 'TNK' 'TNK' 'TNK'\n",
            " 'TNK' 'TNK' 'Myeloisch' 'TNK' 'TNK' 'TNK']\n",
            "\n",
            "shape der vektoren: current_pred_vec: (2638,) \n",
            " x_input der aktuellen node: (2638, 10), y_input der aktuellen node: (2638, 10)\n",
            "label in subset_pred_vec: TNK\n",
            "label in subset_pred_vec: Myeloisch\n",
            "label in subset_pred_vec: B\n",
            "label in subset_pred_vec: Others\n"
          ]
        }
      ]
    },
    {
      "cell_type": "code",
      "source": [
        "hc.graph.nodes['TNK']['memory'].__dict__"
      ],
      "metadata": {
        "colab": {
          "base_uri": "https://localhost:8080/"
        },
        "id": "XsMW-iVFBr5G",
        "outputId": "81769af4-f79b-42b0-a812-08d3765dd0e3"
      },
      "execution_count": 426,
      "outputs": [
        {
          "output_type": "execute_result",
          "data": {
            "text/plain": [
              "{'apriori_y_input_data_indices': (array([], dtype=int64),),\n",
              " 'classifier_class': None,\n",
              " 'local_classifier_params': [],\n",
              " 'test_acc': None,\n",
              " 'test_prediction_vec': None,\n",
              " 'training_acc': None,\n",
              " 'training_prediction_vec': None,\n",
              " 'x_input_data': array([[-0.8241001 , -0.44704255, -0.4074863 , ...,  1.5713328 ,\n",
              "         -1.546495  , -1.4017861 ],\n",
              "        [-1.9270294 , -0.00890738,  0.97932434, ..., -0.6752965 ,\n",
              "          0.28452635, -0.03110772],\n",
              "        [-0.67081773, -0.9181075 , -0.8583566 , ...,  2.500195  ,\n",
              "         -0.4206484 ,  1.1639605 ],\n",
              "        ...,\n",
              "        [-0.56132644, -1.4612188 ,  1.6581316 , ..., -0.7799555 ,\n",
              "         -0.3130556 , -1.748054  ],\n",
              "        [-1.5681272 ,  1.3090951 ,  0.6303377 , ..., -1.2559723 ,\n",
              "          0.4473528 ,  0.57438225],\n",
              "        [-0.73548514, -0.02796707, -0.24904236, ...,  0.5823264 ,\n",
              "         -0.28247118, -0.26726872]], dtype=float32),\n",
              " 'y_input_data': array(['CD8 T', 'CD4 T', 'CD4 T', ..., 'CD8 T', 'CD4 T', 'CD4 T'],\n",
              "       dtype=object),\n",
              " 'y_input_grouped_labels': None}"
            ]
          },
          "metadata": {},
          "execution_count": 426
        }
      ]
    },
    {
      "cell_type": "code",
      "source": [
        "#zeigt input vektor bevor falsche zellen herausgeworfen wurden\n",
        "hc.graph.nodes['TNK']['memory'].y_input_data[0:100]"
      ],
      "metadata": {
        "colab": {
          "base_uri": "https://localhost:8080/"
        },
        "id": "OSgxang3TOnx",
        "outputId": "b856ed5e-9d53-414b-a5e8-632870db5c00"
      },
      "execution_count": 427,
      "outputs": [
        {
          "output_type": "execute_result",
          "data": {
            "text/plain": [
              "array(['CD8 T', 'CD4 T', 'CD4 T', 'CD4 T', 'CD8 T', 'CD4 T', 'CD4 T',\n",
              "       'CD8 T', 'CD4 T', 'CD4 T', 'CD4 T', 'CD4 T', 'CD4 T', 'NK',\n",
              "       'CD4 T', 'CD4 T', 'NK', 'CD8 T', 'CD8 T', 'CD4 T', 'NK', 'CD4 T',\n",
              "       'FCGR3A Monocytes', 'CD8 T', 'CD8 T', 'CD4 T', 'CD4 T', 'CD4 T',\n",
              "       'CD4 T', 'CD4 T', 'CD4 T', 'NK', 'NK', 'NK', 'CD4 T', 'CD4 T',\n",
              "       'CD4 T', 'CD4 T', 'CD4 T', 'FCGR3A Monocytes', 'NK', 'CD4 T', 'NK',\n",
              "       'CD4 T', 'CD4 T', 'CD4 T', 'CD4 T', 'CD4 T', 'CD4 T', 'CD4 T',\n",
              "       'CD4 T', 'CD4 T', 'CD4 T', 'CD8 T', 'CD4 T', 'B', 'CD4 T', 'CD4 T',\n",
              "       'CD4 T', 'CD4 T', 'CD4 T', 'CD8 T', 'CD8 T', 'CD4 T', 'CD4 T',\n",
              "       'CD4 T', 'CD14 Monocytes', 'NK', 'CD4 T', 'NK', 'CD4 T', 'CD8 T',\n",
              "       'CD8 T', 'CD4 T', 'CD4 T', 'CD4 T', 'CD4 T', 'CD4 T', 'CD4 T',\n",
              "       'CD8 T', 'CD4 T', 'CD4 T', 'CD4 T', 'CD4 T', 'CD8 T',\n",
              "       'FCGR3A Monocytes', 'CD8 T', 'CD8 T', 'CD4 T', 'CD8 T', 'CD4 T',\n",
              "       'CD4 T', 'CD4 T', 'CD4 T', 'CD4 T', 'CD8 T', 'CD4 T', 'CD4 T',\n",
              "       'CD8 T', 'CD4 T'], dtype=object)"
            ]
          },
          "metadata": {},
          "execution_count": 427
        }
      ]
    },
    {
      "cell_type": "code",
      "source": [
        "#nun einmal alles für den tnk node \n",
        "#NN classifier initialisieren, hier noch unnötige Übergabe von input Daten, die er schon hat -> anders lösen, anderen Default, oder anderes initialisieren\n",
        "hc.init_node_memory_object('TNK', [hc.graph.nodes['TNK']['memory'].x_input_data, hc.graph.nodes['TNK']['memory'].y_input_data, Neural_Network])"
      ],
      "metadata": {
        "colab": {
          "base_uri": "https://localhost:8080/"
        },
        "id": "oopqt6s5PnBt",
        "outputId": "60f5f244-c19e-4b3e-d4a4-b79732f34349"
      },
      "execution_count": 428,
      "outputs": [
        {
          "output_type": "stream",
          "name": "stdout",
          "text": [
            "x_input_data from Node_Memory: [[-0.8241001  -0.44704255 -0.4074863  ...  1.5713328  -1.546495\n",
            "  -1.4017861 ]\n",
            " [-1.9270294  -0.00890738  0.97932434 ... -0.6752965   0.28452635\n",
            "  -0.03110772]\n",
            " [-0.67081773 -0.9181075  -0.8583566  ...  2.500195   -0.4206484\n",
            "   1.1639605 ]\n",
            " ...\n",
            " [-0.56132644 -1.4612188   1.6581316  ... -0.7799555  -0.3130556\n",
            "  -1.748054  ]\n",
            " [-1.5681272   1.3090951   0.6303377  ... -1.2559723   0.4473528\n",
            "   0.57438225]\n",
            " [-0.73548514 -0.02796707 -0.24904236 ...  0.5823264  -0.28247118\n",
            "  -0.26726872]]\n",
            "mapping_dict from group_labels_.. method of node TNK: {'CD4 T': [], 'CD8 T': [], 'NK': []} before checking for annotation depth\n",
            "mapping_dict from group_labels_.. method of node TNK: {'CD4 T': 'CD4 T', 'CD8 T': 'CD8 T', 'NK': 'NK'} after checking for annotation depth\n",
            "mapper for node TNK: {'CD4 T': 'CD4 T', 'CD8 T': 'CD8 T', 'NK': 'NK'}\n",
            "y_input of this node before checking for wrong labels: ['CD8 T' 'CD4 T' 'CD4 T' 'CD4 T' 'CD8 T' 'CD4 T' 'CD4 T' 'CD8 T' 'CD4 T'\n",
            " 'CD4 T' 'CD4 T' 'CD4 T' 'CD4 T' 'NK' 'CD4 T' 'CD4 T' 'NK' 'CD8 T' 'CD8 T'\n",
            " 'CD4 T' 'NK' 'CD4 T' 'FCGR3A Monocytes' 'CD8 T' 'CD8 T' 'CD4 T' 'CD4 T'\n",
            " 'CD4 T' 'CD4 T' 'CD4 T' 'CD4 T' 'NK' 'NK' 'NK' 'CD4 T' 'CD4 T' 'CD4 T'\n",
            " 'CD4 T' 'CD4 T' 'FCGR3A Monocytes' 'NK' 'CD4 T' 'NK' 'CD4 T' 'CD4 T'\n",
            " 'CD4 T' 'CD4 T' 'CD4 T' 'CD4 T' 'CD4 T' 'CD4 T' 'CD4 T' 'CD4 T' 'CD8 T'\n",
            " 'CD4 T' 'B' 'CD4 T' 'CD4 T' 'CD4 T' 'CD4 T' 'CD4 T' 'CD8 T' 'CD8 T'\n",
            " 'CD4 T' 'CD4 T' 'CD4 T' 'CD14 Monocytes' 'NK' 'CD4 T' 'NK' 'CD4 T'\n",
            " 'CD8 T' 'CD8 T' 'CD4 T' 'CD4 T' 'CD4 T' 'CD4 T' 'CD4 T' 'CD4 T' 'CD8 T'\n",
            " 'CD4 T' 'CD4 T' 'CD4 T' 'CD4 T' 'CD8 T' 'FCGR3A Monocytes' 'CD8 T'\n",
            " 'CD8 T' 'CD4 T' 'CD8 T' 'CD4 T' 'CD4 T' 'CD4 T' 'CD4 T' 'CD4 T' 'CD8 T'\n",
            " 'CD4 T' 'CD4 T' 'CD8 T' 'CD4 T' 'CD4 T' 'CD4 T' 'CD4 T' 'CD4 T' 'CD4 T'\n",
            " 'CD4 T' 'NK' 'CD4 T' 'NK' 'CD4 T' 'CD4 T' 'CD4 T' 'CD8 T' 'CD8 T' 'CD8 T'\n",
            " 'CD8 T' 'CD8 T' 'CD8 T' 'CD8 T' 'CD4 T' 'CD4 T' 'NK' 'CD4 T' 'CD8 T'\n",
            " 'CD4 T' 'CD8 T' 'CD8 T' 'CD8 T' 'CD4 T' 'CD4 T' 'CD4 T' 'CD4 T'\n",
            " 'CD14 Monocytes' 'CD4 T' 'CD4 T' 'CD4 T' 'CD4 T' 'CD4 T' 'CD8 T' 'CD4 T'\n",
            " 'CD4 T' 'CD4 T' 'NK' 'CD4 T' 'CD4 T' 'CD4 T' 'CD4 T' 'CD8 T' 'NK' 'CD4 T'\n",
            " 'CD4 T' 'CD4 T' 'CD4 T' 'CD4 T' 'Dendritic' 'CD4 T' 'NK' 'CD4 T' 'NK'\n",
            " 'CD4 T' 'CD4 T' 'CD4 T' 'CD8 T' 'FCGR3A Monocytes' 'CD4 T' 'NK' 'CD4 T'\n",
            " 'CD4 T' 'CD4 T' 'CD8 T' 'B' 'CD4 T' 'CD4 T' 'CD8 T' 'FCGR3A Monocytes'\n",
            " 'NK' 'CD4 T' 'CD4 T' 'NK' 'CD4 T' 'CD8 T' 'CD4 T' 'CD4 T'\n",
            " 'FCGR3A Monocytes' 'CD4 T' 'CD4 T' 'CD4 T' 'CD4 T' 'CD8 T' 'CD4 T'\n",
            " 'CD8 T' 'CD4 T' 'CD4 T' 'CD4 T' 'CD4 T' 'CD4 T' 'CD4 T' 'NK'\n",
            " 'FCGR3A Monocytes' 'CD4 T'] and its shape: (1628,)\n",
            "y_input of this node after checking for wrong labels: ['CD8 T' 'CD4 T' 'CD4 T' 'CD4 T' 'CD8 T' 'CD4 T' 'CD4 T' 'CD8 T' 'CD4 T'\n",
            " 'CD4 T' 'CD4 T' 'CD4 T' 'CD4 T' 'NK' 'CD4 T' 'CD4 T' 'NK' 'CD8 T' 'CD8 T'\n",
            " 'CD4 T' 'NK' 'CD4 T' 'CD8 T' 'CD8 T' 'CD4 T' 'CD4 T' 'CD4 T' 'CD4 T'\n",
            " 'CD4 T' 'CD4 T' 'NK' 'NK' 'NK' 'CD4 T' 'CD4 T' 'CD4 T' 'CD4 T' 'CD4 T'\n",
            " 'NK' 'CD4 T' 'NK' 'CD4 T' 'CD4 T' 'CD4 T' 'CD4 T' 'CD4 T' 'CD4 T' 'CD4 T'\n",
            " 'CD4 T' 'CD4 T' 'CD4 T' 'CD8 T' 'CD4 T' 'CD4 T' 'CD4 T' 'CD4 T' 'CD4 T'\n",
            " 'CD4 T' 'CD8 T' 'CD8 T' 'CD4 T' 'CD4 T' 'CD4 T' 'NK' 'CD4 T' 'NK' 'CD4 T'\n",
            " 'CD8 T' 'CD8 T' 'CD4 T' 'CD4 T' 'CD4 T' 'CD4 T' 'CD4 T' 'CD4 T' 'CD8 T'\n",
            " 'CD4 T' 'CD4 T' 'CD4 T' 'CD4 T' 'CD8 T' 'CD8 T' 'CD8 T' 'CD4 T' 'CD8 T'\n",
            " 'CD4 T' 'CD4 T' 'CD4 T' 'CD4 T' 'CD4 T' 'CD8 T' 'CD4 T' 'CD4 T' 'CD8 T'\n",
            " 'CD4 T' 'CD4 T' 'CD4 T' 'CD4 T' 'CD4 T' 'CD4 T' 'CD4 T' 'NK' 'CD4 T' 'NK'\n",
            " 'CD4 T' 'CD4 T' 'CD4 T' 'CD8 T' 'CD8 T' 'CD8 T' 'CD8 T' 'CD8 T' 'CD8 T'\n",
            " 'CD8 T' 'CD4 T' 'CD4 T' 'NK' 'CD4 T' 'CD8 T' 'CD4 T' 'CD8 T' 'CD8 T'\n",
            " 'CD8 T' 'CD4 T' 'CD4 T' 'CD4 T' 'CD4 T' 'CD4 T' 'CD4 T' 'CD4 T' 'CD4 T'\n",
            " 'CD4 T' 'CD8 T' 'CD4 T' 'CD4 T' 'CD4 T' 'NK' 'CD4 T' 'CD4 T' 'CD4 T'\n",
            " 'CD4 T' 'CD8 T' 'NK' 'CD4 T' 'CD4 T' 'CD4 T' 'CD4 T' 'CD4 T' 'CD4 T' 'NK'\n",
            " 'CD4 T' 'NK' 'CD4 T' 'CD4 T' 'CD4 T' 'CD8 T' 'CD4 T' 'NK' 'CD4 T' 'CD4 T'\n",
            " 'CD4 T' 'CD8 T' 'CD4 T' 'CD4 T' 'CD8 T' 'NK' 'CD4 T' 'CD4 T' 'NK' 'CD4 T'\n",
            " 'CD8 T' 'CD4 T' 'CD4 T' 'CD4 T' 'CD4 T' 'CD4 T' 'CD4 T' 'CD8 T' 'CD4 T'\n",
            " 'CD8 T' 'CD4 T' 'CD4 T' 'CD4 T' 'CD4 T' 'CD4 T' 'CD4 T' 'NK' 'CD4 T'\n",
            " 'CD8 T' 'CD4 T' 'CD4 T' 'CD8 T' 'CD4 T' 'CD8 T' 'CD4 T' 'CD4 T' 'CD4 T'\n",
            " 'CD4 T' 'CD8 T' 'CD4 T'] and its shape: (1549,)\n",
            "Aus init_node_memory_object von Knoten TNK: output größe initialisiert als 3\n",
            "zu übergebene y_input daten: ['CD8 T', 'CD4 T', 'CD4 T', 'CD4 T', 'CD8 T', 'CD4 T', 'CD4 T', 'CD8 T', 'CD4 T', 'CD4 T', 'CD4 T', 'CD4 T', 'CD4 T', 'NK', 'CD4 T', 'CD4 T', 'NK', 'CD8 T', 'CD8 T', 'CD4 T', 'NK', 'CD4 T', 'CD8 T', 'CD8 T', 'CD4 T', 'CD4 T', 'CD4 T', 'CD4 T', 'CD4 T', 'CD4 T', 'NK', 'NK', 'NK', 'CD4 T', 'CD4 T', 'CD4 T', 'CD4 T', 'CD4 T', 'NK', 'CD4 T', 'NK', 'CD4 T', 'CD4 T', 'CD4 T', 'CD4 T', 'CD4 T', 'CD4 T', 'CD4 T', 'CD4 T', 'CD4 T', 'CD4 T', 'CD8 T', 'CD4 T', 'CD4 T', 'CD4 T', 'CD4 T', 'CD4 T', 'CD4 T', 'CD8 T', 'CD8 T', 'CD4 T', 'CD4 T', 'CD4 T', 'NK', 'CD4 T', 'NK', 'CD4 T', 'CD8 T', 'CD8 T', 'CD4 T', 'CD4 T', 'CD4 T', 'CD4 T', 'CD4 T', 'CD4 T', 'CD8 T', 'CD4 T', 'CD4 T', 'CD4 T', 'CD4 T', 'CD8 T', 'CD8 T', 'CD8 T', 'CD4 T', 'CD8 T', 'CD4 T', 'CD4 T', 'CD4 T', 'CD4 T', 'CD4 T', 'CD8 T', 'CD4 T', 'CD4 T', 'CD8 T', 'CD4 T', 'CD4 T', 'CD4 T', 'CD4 T', 'CD4 T', 'CD4 T', 'CD4 T', 'NK', 'CD4 T', 'NK', 'CD4 T', 'CD4 T', 'CD4 T', 'CD8 T', 'CD8 T', 'CD8 T', 'CD8 T', 'CD8 T', 'CD8 T', 'CD8 T', 'CD4 T', 'CD4 T', 'NK', 'CD4 T', 'CD8 T', 'CD4 T', 'CD8 T', 'CD8 T', 'CD8 T', 'CD4 T', 'CD4 T', 'CD4 T', 'CD4 T', 'CD4 T', 'CD4 T', 'CD4 T', 'CD4 T', 'CD4 T', 'CD8 T', 'CD4 T', 'CD4 T', 'CD4 T', 'NK', 'CD4 T', 'CD4 T', 'CD4 T', 'CD4 T', 'CD8 T', 'NK', 'CD4 T', 'CD4 T', 'CD4 T', 'CD4 T', 'CD4 T', 'CD4 T', 'NK', 'CD4 T', 'NK', 'CD4 T', 'CD4 T', 'CD4 T', 'CD8 T', 'CD4 T', 'NK', 'CD4 T', 'CD4 T', 'CD4 T', 'CD8 T', 'CD4 T', 'CD4 T', 'CD8 T', 'NK', 'CD4 T', 'CD4 T', 'NK', 'CD4 T', 'CD8 T', 'CD4 T', 'CD4 T', 'CD4 T', 'CD4 T', 'CD4 T', 'CD4 T', 'CD8 T', 'CD4 T', 'CD8 T', 'CD4 T', 'CD4 T', 'CD4 T', 'CD4 T', 'CD4 T', 'CD4 T', 'NK', 'CD4 T', 'CD8 T', 'CD4 T', 'CD4 T', 'CD8 T', 'CD4 T', 'CD8 T', 'CD4 T', 'CD4 T', 'CD4 T', 'CD4 T', 'CD8 T', 'CD4 T', 'CD8 T', 'CD4 T', 'CD4 T', 'CD4 T', 'CD4 T', 'CD4 T', 'CD4 T', 'CD8 T', 'NK', 'CD8 T', 'CD4 T', 'CD4 T', 'NK', 'CD4 T', 'CD8 T', 'CD4 T', 'CD4 T', 'NK', 'CD4 T', 'CD4 T', 'CD4 T', 'CD4 T', 'CD4 T', 'CD8 T', 'CD8 T', 'CD4 T', 'CD4 T', 'CD4 T', 'CD4 T', 'CD8 T', 'CD4 T', 'NK', 'CD8 T', 'CD4 T', 'CD4 T', 'CD4 T', 'NK', 'CD4 T', 'CD4 T', 'CD4 T', 'CD8 T', 'CD4 T', 'CD8 T', 'NK', 'CD4 T', 'CD4 T', 'CD4 T', 'CD4 T', 'CD4 T', 'CD4 T', 'CD4 T', 'CD4 T', 'CD8 T', 'NK', 'CD4 T', 'CD8 T', 'CD4 T', 'CD4 T', 'CD4 T', 'CD4 T', 'CD4 T', 'CD4 T', 'CD4 T', 'CD4 T', 'CD4 T', 'CD4 T', 'CD4 T', 'CD4 T', 'CD4 T', 'CD8 T', 'CD4 T', 'CD4 T', 'CD4 T', 'NK', 'CD4 T', 'CD4 T', 'CD4 T', 'CD4 T', 'CD4 T', 'CD8 T', 'CD4 T', 'CD4 T', 'CD4 T', 'CD4 T', 'CD4 T', 'CD4 T', 'CD4 T', 'CD8 T', 'CD4 T', 'CD4 T', 'CD4 T', 'CD4 T', 'CD4 T', 'CD8 T', 'CD8 T', 'CD4 T', 'CD4 T', 'CD4 T', 'CD8 T', 'CD8 T', 'CD4 T', 'CD4 T', 'CD4 T', 'CD8 T', 'CD4 T', 'CD4 T', 'CD4 T', 'CD4 T', 'CD4 T', 'CD8 T', 'CD4 T', 'CD4 T', 'CD4 T', 'CD4 T', 'CD8 T', 'CD4 T', 'CD4 T', 'CD4 T', 'CD4 T', 'CD4 T', 'NK', 'CD4 T', 'CD8 T', 'NK', 'CD4 T', 'CD4 T', 'CD4 T', 'CD4 T', 'CD4 T', 'CD8 T', 'CD4 T', 'CD4 T', 'CD8 T', 'CD4 T', 'CD4 T', 'CD4 T', 'CD4 T', 'CD4 T', 'CD4 T', 'CD4 T', 'CD4 T', 'NK', 'CD4 T', 'CD4 T', 'CD4 T', 'CD4 T', 'CD4 T', 'CD4 T', 'CD4 T', 'CD4 T', 'CD8 T', 'CD4 T', 'CD4 T', 'CD4 T', 'CD4 T', 'CD4 T', 'CD4 T', 'CD4 T', 'CD8 T', 'CD4 T', 'CD4 T', 'CD4 T', 'CD4 T', 'CD4 T', 'CD4 T', 'CD4 T', 'CD4 T', 'CD4 T', 'NK', 'CD4 T', 'CD4 T', 'CD8 T', 'CD8 T', 'CD4 T', 'CD8 T', 'NK', 'CD4 T', 'NK', 'CD8 T', 'CD4 T', 'NK', 'CD8 T', 'CD4 T', 'CD4 T', 'CD4 T', 'CD4 T', 'CD4 T', 'CD4 T', 'CD4 T', 'CD8 T', 'CD4 T', 'CD4 T', 'CD4 T', 'CD4 T', 'CD4 T', 'CD8 T', 'CD8 T', 'CD4 T', 'CD8 T', 'CD4 T', 'CD4 T', 'CD4 T', 'CD4 T', 'CD4 T', 'CD4 T', 'CD4 T', 'CD4 T', 'CD4 T', 'CD4 T', 'CD4 T', 'CD4 T', 'CD4 T', 'CD4 T', 'CD4 T', 'CD8 T', 'CD4 T', 'CD4 T', 'CD4 T', 'CD4 T', 'CD4 T', 'CD8 T', 'CD4 T', 'CD4 T', 'CD8 T', 'CD4 T', 'CD4 T', 'CD4 T', 'CD8 T', 'CD8 T', 'CD4 T', 'NK', 'CD4 T', 'CD4 T', 'CD4 T', 'CD4 T', 'CD4 T', 'NK', 'CD4 T', 'CD8 T', 'CD4 T', 'CD4 T', 'CD4 T', 'CD4 T', 'CD4 T', 'CD4 T', 'CD4 T', 'NK', 'CD4 T', 'CD4 T', 'NK', 'CD4 T', 'CD4 T', 'CD4 T', 'CD4 T', 'CD4 T', 'CD4 T', 'CD8 T', 'CD8 T', 'CD4 T', 'CD4 T', 'CD4 T', 'CD4 T', 'CD4 T', 'CD4 T', 'CD8 T', 'CD8 T', 'CD4 T', 'NK', 'CD8 T', 'CD4 T', 'CD8 T', 'CD4 T', 'CD4 T', 'CD4 T', 'CD4 T', 'CD4 T', 'CD8 T', 'CD4 T', 'CD4 T', 'NK', 'CD4 T', 'CD4 T', 'CD4 T', 'CD4 T', 'CD4 T', 'CD4 T', 'CD4 T', 'CD4 T', 'CD8 T', 'NK', 'CD4 T', 'CD8 T', 'CD4 T', 'CD4 T', 'CD4 T', 'CD4 T', 'CD8 T', 'CD8 T', 'CD4 T', 'CD8 T', 'CD8 T', 'CD8 T', 'CD4 T', 'CD8 T', 'CD4 T', 'CD8 T', 'CD4 T', 'CD4 T', 'CD4 T', 'CD4 T', 'CD4 T', 'CD8 T', 'CD8 T', 'CD4 T', 'CD4 T', 'CD8 T', 'CD4 T', 'CD4 T', 'CD4 T', 'CD8 T', 'CD8 T', 'CD4 T', 'CD4 T', 'CD4 T', 'CD4 T', 'CD4 T', 'CD4 T', 'CD8 T', 'CD4 T', 'CD4 T', 'CD4 T', 'CD4 T', 'CD4 T', 'CD4 T', 'CD8 T', 'CD4 T', 'CD8 T', 'CD4 T', 'CD4 T', 'CD4 T', 'CD4 T', 'CD8 T', 'CD8 T', 'CD4 T', 'CD8 T', 'CD4 T', 'NK', 'CD4 T', 'CD4 T', 'CD4 T', 'CD4 T', 'CD8 T', 'CD4 T', 'CD4 T', 'CD4 T', 'CD4 T', 'CD4 T', 'CD4 T', 'CD4 T', 'CD4 T', 'CD4 T', 'CD4 T', 'NK', 'CD4 T', 'CD4 T', 'CD4 T', 'CD4 T', 'CD4 T', 'NK', 'CD4 T', 'CD4 T', 'CD4 T', 'CD4 T', 'NK', 'CD4 T', 'CD4 T', 'CD4 T', 'NK', 'NK', 'CD4 T', 'CD8 T', 'CD8 T', 'CD4 T', 'CD4 T', 'CD4 T', 'CD4 T', 'CD4 T', 'CD4 T', 'NK', 'CD4 T', 'CD8 T', 'CD8 T', 'CD8 T', 'CD4 T', 'CD4 T', 'CD8 T', 'CD4 T', 'CD4 T', 'CD4 T', 'CD8 T', 'CD4 T', 'CD4 T', 'CD4 T', 'CD4 T', 'CD4 T', 'CD4 T', 'CD4 T', 'CD8 T', 'CD4 T', 'CD4 T', 'CD4 T', 'CD8 T', 'NK', 'CD4 T', 'CD4 T', 'CD4 T', 'CD4 T', 'CD4 T', 'CD4 T', 'CD4 T', 'CD8 T', 'CD4 T', 'NK', 'CD4 T', 'CD4 T', 'CD4 T', 'CD4 T', 'CD4 T', 'CD4 T', 'CD4 T', 'CD8 T', 'NK', 'CD4 T', 'CD4 T', 'CD8 T', 'CD4 T', 'CD8 T', 'CD4 T', 'CD4 T', 'CD8 T', 'CD4 T', 'CD4 T', 'CD4 T', 'CD8 T', 'CD4 T', 'CD4 T', 'CD4 T', 'CD4 T', 'NK', 'CD4 T', 'NK', 'CD4 T', 'CD4 T', 'CD4 T', 'CD8 T', 'CD4 T', 'CD4 T', 'CD4 T', 'CD4 T', 'CD8 T', 'CD4 T', 'CD8 T', 'CD4 T', 'CD4 T', 'CD4 T', 'CD4 T', 'CD4 T', 'CD4 T', 'CD4 T', 'CD4 T', 'CD4 T', 'CD4 T', 'CD8 T', 'CD8 T', 'CD4 T', 'CD8 T', 'CD4 T', 'CD4 T', 'CD4 T', 'CD4 T', 'CD4 T', 'CD8 T', 'CD4 T', 'NK', 'CD8 T', 'CD4 T', 'CD4 T', 'CD8 T', 'CD4 T', 'CD4 T', 'CD8 T', 'CD4 T', 'CD4 T', 'CD4 T', 'CD4 T', 'CD4 T', 'CD4 T', 'CD4 T', 'CD4 T', 'CD8 T', 'CD4 T', 'NK', 'CD4 T', 'NK', 'CD4 T', 'CD4 T', 'CD4 T', 'CD4 T', 'CD4 T', 'CD4 T', 'CD4 T', 'CD4 T', 'CD4 T', 'CD4 T', 'CD4 T', 'CD4 T', 'CD4 T', 'CD4 T', 'CD8 T', 'CD4 T', 'CD8 T', 'CD4 T', 'CD4 T', 'CD4 T', 'CD4 T', 'CD8 T', 'CD8 T', 'CD4 T', 'NK', 'CD4 T', 'CD4 T', 'CD8 T', 'NK', 'CD4 T', 'CD4 T', 'CD8 T', 'CD4 T', 'CD8 T', 'CD4 T', 'CD4 T', 'CD4 T', 'CD4 T', 'CD4 T', 'CD4 T', 'CD4 T', 'CD4 T', 'CD4 T', 'CD4 T', 'CD8 T', 'CD4 T', 'CD8 T', 'CD4 T', 'CD4 T', 'CD4 T', 'CD4 T', 'CD8 T', 'CD4 T', 'CD4 T', 'CD4 T', 'CD8 T', 'CD4 T', 'CD4 T', 'CD4 T', 'CD4 T', 'CD4 T', 'CD8 T', 'CD4 T', 'CD4 T', 'CD4 T', 'CD4 T', 'CD4 T', 'CD4 T', 'NK', 'CD4 T', 'CD4 T', 'CD4 T', 'CD4 T', 'CD4 T', 'CD4 T', 'CD4 T', 'CD4 T', 'CD4 T', 'CD4 T', 'CD4 T', 'CD4 T', 'CD4 T', 'CD4 T', 'CD4 T', 'CD4 T', 'CD4 T', 'CD4 T', 'CD4 T', 'NK', 'CD4 T', 'CD4 T', 'CD4 T', 'CD4 T', 'NK', 'CD4 T', 'CD4 T', 'CD4 T', 'CD8 T', 'CD4 T', 'CD4 T', 'CD4 T', 'CD4 T', 'CD4 T', 'CD4 T', 'CD8 T', 'CD4 T', 'CD4 T', 'CD4 T', 'CD8 T', 'CD4 T', 'CD4 T', 'CD4 T', 'CD4 T', 'CD4 T', 'NK', 'CD8 T', 'CD4 T', 'CD4 T', 'CD8 T', 'CD4 T', 'CD8 T', 'CD8 T', 'CD8 T', 'CD4 T', 'CD8 T', 'CD4 T', 'CD4 T', 'CD4 T', 'CD4 T', 'CD4 T', 'NK', 'CD8 T', 'CD4 T', 'CD4 T', 'CD4 T', 'CD4 T', 'CD4 T', 'CD4 T', 'CD4 T', 'CD4 T', 'CD4 T', 'CD4 T', 'CD4 T', 'NK', 'CD4 T', 'CD8 T', 'CD4 T', 'CD8 T', 'CD4 T', 'CD4 T', 'CD4 T', 'CD4 T', 'CD4 T', 'CD4 T', 'CD4 T', 'CD8 T', 'CD4 T', 'CD4 T', 'CD4 T', 'CD8 T', 'CD4 T', 'CD4 T', 'CD4 T', 'CD4 T', 'CD4 T', 'CD4 T', 'CD4 T', 'CD4 T', 'NK', 'CD4 T', 'CD4 T', 'NK', 'CD4 T', 'CD4 T', 'CD4 T', 'CD4 T', 'NK', 'CD4 T', 'CD8 T', 'CD4 T', 'CD8 T', 'CD4 T', 'NK', 'CD4 T', 'CD4 T', 'CD4 T', 'CD4 T', 'CD4 T', 'CD8 T', 'NK', 'CD4 T', 'CD4 T', 'CD4 T', 'CD4 T', 'CD4 T', 'CD4 T', 'CD4 T', 'CD4 T', 'CD4 T', 'CD4 T', 'CD4 T', 'NK', 'CD4 T', 'CD4 T', 'CD4 T', 'CD4 T', 'CD4 T', 'CD4 T', 'CD4 T', 'CD4 T', 'CD4 T', 'CD4 T', 'CD4 T', 'CD4 T', 'CD4 T', 'CD4 T', 'CD8 T', 'CD4 T', 'CD4 T', 'CD8 T', 'CD4 T', 'CD8 T', 'CD4 T', 'CD8 T', 'CD8 T', 'CD8 T', 'CD8 T', 'CD4 T', 'CD4 T', 'CD4 T', 'CD4 T', 'CD4 T', 'CD4 T', 'CD4 T', 'CD4 T', 'CD4 T', 'CD4 T', 'CD4 T', 'CD8 T', 'CD4 T', 'CD4 T', 'CD8 T', 'CD4 T', 'CD8 T', 'NK', 'CD4 T', 'CD4 T', 'CD4 T', 'CD4 T', 'CD4 T', 'CD4 T', 'CD4 T', 'CD4 T', 'CD8 T', 'CD4 T', 'CD8 T', 'NK', 'CD4 T', 'CD8 T', 'CD8 T', 'CD4 T', 'CD4 T', 'CD4 T', 'NK', 'CD4 T', 'CD4 T', 'CD4 T', 'CD4 T', 'CD4 T', 'CD4 T', 'CD4 T', 'NK', 'CD4 T', 'CD4 T', 'NK', 'CD4 T', 'CD4 T', 'CD8 T', 'CD4 T', 'CD4 T', 'CD8 T', 'CD4 T', 'CD4 T', 'CD4 T', 'CD8 T', 'CD4 T', 'CD4 T', 'CD4 T', 'CD4 T', 'CD4 T', 'CD4 T', 'CD8 T', 'CD8 T', 'CD4 T', 'CD4 T', 'CD4 T', 'CD4 T', 'CD4 T', 'CD4 T', 'CD4 T', 'CD4 T', 'CD8 T', 'CD4 T', 'CD4 T', 'CD8 T', 'CD4 T', 'CD4 T', 'CD8 T', 'CD8 T', 'CD4 T', 'CD4 T', 'CD4 T', 'CD4 T', 'CD4 T', 'CD8 T', 'CD8 T', 'CD8 T', 'CD8 T', 'CD4 T', 'CD4 T', 'CD4 T', 'CD4 T', 'CD4 T', 'NK', 'CD4 T', 'CD8 T', 'CD8 T', 'CD4 T', 'CD4 T', 'CD4 T', 'CD4 T', 'CD4 T', 'CD4 T', 'CD4 T', 'CD4 T', 'CD4 T', 'CD4 T', 'CD4 T', 'CD4 T', 'CD4 T', 'CD4 T', 'CD4 T', 'CD4 T', 'CD4 T', 'CD4 T', 'CD4 T', 'CD4 T', 'CD4 T', 'CD8 T', 'CD4 T', 'CD8 T', 'CD4 T', 'CD4 T', 'CD4 T', 'CD8 T', 'CD4 T', 'CD8 T', 'CD4 T', 'CD4 T', 'CD4 T', 'CD4 T', 'CD8 T', 'CD4 T', 'CD8 T', 'CD4 T', 'CD4 T', 'CD4 T', 'CD4 T', 'CD8 T', 'CD4 T', 'CD4 T', 'CD8 T', 'CD8 T', 'CD4 T', 'CD4 T', 'CD4 T', 'CD4 T', 'CD4 T', 'CD4 T', 'CD4 T', 'CD4 T', 'CD4 T', 'CD8 T', 'CD4 T', 'CD8 T', 'CD4 T', 'CD4 T', 'CD4 T', 'NK', 'CD4 T', 'CD8 T', 'CD4 T', 'CD8 T', 'CD4 T', 'CD4 T', 'CD4 T', 'CD4 T', 'CD4 T', 'CD8 T', 'CD8 T', 'NK', 'CD4 T', 'CD4 T', 'CD4 T', 'CD8 T', 'CD4 T', 'CD8 T', 'CD4 T', 'CD4 T', 'CD4 T', 'CD8 T', 'CD4 T', 'NK', 'CD8 T', 'CD4 T', 'CD4 T', 'CD4 T', 'CD4 T', 'CD4 T', 'CD4 T', 'CD4 T', 'CD4 T', 'CD4 T', 'CD4 T', 'CD4 T', 'CD8 T', 'CD4 T', 'CD8 T', 'CD4 T', 'CD4 T', 'CD4 T', 'CD4 T', 'CD4 T', 'CD4 T', 'CD8 T', 'CD4 T', 'CD8 T', 'CD4 T', 'CD4 T', 'CD4 T', 'CD4 T', 'CD4 T', 'CD4 T', 'CD8 T', 'CD8 T', 'CD4 T', 'CD4 T', 'NK', 'CD4 T', 'CD4 T', 'CD8 T', 'CD8 T', 'CD4 T', 'NK', 'CD8 T', 'CD4 T', 'CD4 T', 'CD8 T', 'CD8 T', 'CD4 T', 'CD8 T', 'CD4 T', 'CD4 T', 'CD8 T', 'CD4 T', 'CD8 T', 'CD8 T', 'CD4 T', 'CD4 T', 'CD4 T', 'CD8 T', 'CD4 T', 'CD4 T', 'CD4 T', 'NK', 'CD4 T', 'CD4 T', 'CD4 T', 'CD4 T', 'CD8 T', 'CD4 T', 'CD8 T', 'CD4 T', 'CD4 T', 'CD4 T', 'NK', 'CD4 T', 'CD4 T', 'CD4 T', 'CD4 T', 'CD4 T', 'CD8 T', 'CD4 T', 'NK', 'CD8 T', 'CD4 T', 'CD4 T', 'CD4 T', 'CD8 T', 'CD4 T', 'CD8 T', 'NK', 'CD4 T', 'CD8 T', 'CD4 T', 'CD4 T', 'CD4 T', 'CD4 T', 'CD4 T', 'CD4 T', 'CD4 T', 'CD4 T', 'CD4 T', 'CD4 T', 'CD4 T', 'CD4 T', 'CD4 T', 'CD4 T', 'CD4 T', 'CD4 T', 'CD4 T', 'CD4 T', 'CD4 T', 'CD4 T', 'CD4 T', 'CD4 T', 'CD4 T', 'CD8 T', 'CD4 T', 'CD4 T', 'CD8 T', 'CD4 T', 'NK', 'NK', 'CD4 T', 'CD4 T', 'CD4 T', 'CD4 T', 'CD4 T', 'CD4 T', 'CD8 T', 'CD4 T', 'NK', 'CD8 T', 'CD4 T', 'CD4 T', 'CD4 T', 'CD4 T', 'CD4 T', 'CD4 T', 'CD4 T', 'CD4 T', 'CD4 T', 'CD4 T', 'CD4 T', 'CD4 T', 'CD8 T', 'CD8 T', 'CD8 T', 'CD4 T', 'CD4 T', 'CD4 T', 'CD4 T', 'CD8 T', 'CD4 T', 'NK', 'CD4 T', 'CD4 T', 'CD4 T', 'CD8 T', 'CD4 T', 'CD8 T', 'CD4 T', 'CD8 T', 'CD4 T', 'CD8 T', 'CD8 T', 'CD4 T', 'CD8 T', 'CD4 T', 'CD4 T', 'CD4 T', 'CD4 T', 'NK', 'CD4 T', 'CD4 T', 'CD4 T', 'CD4 T', 'CD4 T', 'CD4 T', 'CD8 T', 'CD4 T', 'CD8 T', 'NK', 'NK', 'NK', 'CD8 T', 'CD4 T', 'CD4 T', 'CD4 T', 'CD4 T', 'NK', 'CD8 T', 'NK', 'CD8 T', 'CD4 T', 'CD8 T', 'CD8 T', 'CD4 T', 'NK', 'CD4 T', 'CD4 T', 'CD4 T', 'CD4 T', 'CD8 T', 'CD4 T', 'CD4 T', 'CD8 T', 'CD8 T', 'CD4 T', 'CD4 T', 'CD4 T', 'NK', 'CD8 T', 'NK', 'CD8 T', 'CD4 T', 'CD4 T', 'CD4 T', 'CD8 T', 'CD8 T', 'CD4 T', 'NK', 'CD4 T', 'CD4 T', 'CD4 T', 'CD4 T', 'NK', 'CD4 T', 'CD8 T', 'CD4 T', 'CD4 T', 'CD4 T', 'CD8 T', 'CD4 T', 'NK', 'CD4 T', 'CD4 T', 'CD4 T', 'CD8 T', 'CD4 T', 'CD4 T', 'CD4 T', 'CD8 T', 'CD8 T', 'NK', 'CD4 T', 'CD4 T', 'CD4 T', 'CD8 T', 'CD4 T', 'CD4 T', 'CD4 T', 'CD4 T', 'CD8 T', 'CD4 T', 'CD4 T', 'CD4 T', 'CD4 T', 'CD4 T', 'CD4 T', 'CD8 T', 'CD4 T', 'CD8 T', 'NK', 'CD8 T', 'CD4 T', 'CD4 T', 'CD4 T', 'CD8 T', 'CD4 T', 'NK', 'CD8 T', 'CD4 T', 'CD4 T', 'CD4 T', 'CD8 T', 'CD4 T', 'CD4 T', 'CD8 T', 'CD4 T', 'CD4 T', 'CD4 T', 'CD4 T', 'CD4 T', 'CD4 T', 'CD4 T', 'CD4 T', 'CD4 T', 'CD8 T', 'CD8 T', 'NK', 'CD4 T', 'CD4 T', 'CD4 T', 'CD4 T', 'CD4 T', 'CD4 T', 'CD4 T', 'CD4 T', 'CD8 T', 'CD4 T', 'NK', 'NK', 'CD4 T', 'CD4 T', 'CD4 T', 'CD4 T', 'CD4 T', 'CD4 T', 'CD4 T', 'CD4 T', 'CD4 T', 'CD4 T', 'CD4 T', 'CD4 T', 'NK', 'CD8 T', 'CD4 T', 'CD8 T', 'CD4 T', 'CD4 T', 'NK', 'CD4 T', 'CD8 T', 'CD4 T', 'CD8 T', 'CD4 T', 'CD4 T', 'CD8 T', 'CD8 T', 'CD4 T', 'CD8 T', 'CD4 T', 'CD4 T', 'CD4 T', 'NK', 'CD4 T', 'CD4 T', 'CD4 T', 'CD4 T', 'CD4 T', 'CD4 T', 'CD4 T', 'NK', 'CD4 T', 'CD4 T', 'CD4 T', 'CD8 T', 'CD4 T', 'CD8 T', 'CD4 T', 'CD4 T', 'NK', 'CD4 T', 'CD8 T', 'CD4 T', 'CD4 T', 'NK', 'CD8 T', 'CD8 T', 'NK', 'NK', 'CD8 T', 'CD8 T', 'CD4 T', 'CD8 T', 'CD8 T', 'CD4 T', 'CD4 T', 'CD4 T', 'CD4 T', 'CD4 T', 'CD4 T', 'CD4 T', 'CD4 T', 'CD4 T', 'CD4 T', 'CD4 T', 'CD8 T', 'CD4 T', 'CD4 T', 'CD4 T', 'CD4 T', 'CD8 T', 'CD4 T', 'CD4 T', 'CD4 T', 'CD4 T', 'CD4 T', 'NK', 'CD4 T', 'CD4 T', 'CD4 T', 'CD4 T', 'CD4 T', 'CD4 T', 'CD4 T', 'CD4 T', 'CD4 T', 'CD4 T', 'NK', 'CD4 T', 'CD4 T', 'NK', 'CD4 T', 'CD4 T', 'CD8 T', 'CD8 T', 'CD4 T', 'CD4 T', 'CD4 T', 'CD4 T', 'CD4 T', 'CD4 T', 'NK', 'NK', 'CD4 T', 'CD4 T', 'CD4 T', 'CD4 T', 'CD8 T', 'NK', 'CD4 T', 'NK', 'CD8 T', 'CD4 T', 'NK', 'CD4 T', 'CD4 T', 'CD4 T', 'CD4 T', 'CD8 T', 'CD4 T', 'CD4 T']\n"
          ]
        }
      ]
    },
    {
      "cell_type": "code",
      "source": [
        "hc.run_local_classifier('TNK')"
      ],
      "metadata": {
        "colab": {
          "base_uri": "https://localhost:8080/"
        },
        "id": "Xm4AdFeBQTB2",
        "outputId": "795d7bab-e9e3-48f9-e544-1c44cad537de"
      },
      "execution_count": 429,
      "outputs": [
        {
          "output_type": "stream",
          "name": "stdout",
          "text": [
            "network y_input before encoding: ['CD8 T', 'CD4 T', 'CD4 T', 'CD4 T', 'CD8 T', 'CD4 T', 'CD4 T', 'CD8 T', 'CD4 T', 'CD4 T', 'CD4 T', 'CD4 T', 'CD4 T', 'NK', 'CD4 T', 'CD4 T', 'NK', 'CD8 T', 'CD8 T', 'CD4 T', 'NK', 'CD4 T', 'CD8 T', 'CD8 T', 'CD4 T', 'CD4 T', 'CD4 T', 'CD4 T', 'CD4 T', 'CD4 T', 'NK', 'NK', 'NK', 'CD4 T', 'CD4 T', 'CD4 T', 'CD4 T', 'CD4 T', 'NK', 'CD4 T', 'NK', 'CD4 T', 'CD4 T', 'CD4 T', 'CD4 T', 'CD4 T', 'CD4 T', 'CD4 T', 'CD4 T', 'CD4 T', 'CD4 T', 'CD8 T', 'CD4 T', 'CD4 T', 'CD4 T', 'CD4 T', 'CD4 T', 'CD4 T', 'CD8 T', 'CD8 T', 'CD4 T', 'CD4 T', 'CD4 T', 'NK', 'CD4 T', 'NK', 'CD4 T', 'CD8 T', 'CD8 T', 'CD4 T', 'CD4 T', 'CD4 T', 'CD4 T', 'CD4 T', 'CD4 T', 'CD8 T', 'CD4 T', 'CD4 T', 'CD4 T', 'CD4 T', 'CD8 T', 'CD8 T', 'CD8 T', 'CD4 T', 'CD8 T', 'CD4 T', 'CD4 T', 'CD4 T', 'CD4 T', 'CD4 T', 'CD8 T', 'CD4 T', 'CD4 T', 'CD8 T', 'CD4 T', 'CD4 T', 'CD4 T', 'CD4 T', 'CD4 T', 'CD4 T', 'CD4 T', 'NK', 'CD4 T', 'NK', 'CD4 T', 'CD4 T', 'CD4 T', 'CD8 T', 'CD8 T', 'CD8 T', 'CD8 T', 'CD8 T', 'CD8 T', 'CD8 T', 'CD4 T', 'CD4 T', 'NK', 'CD4 T', 'CD8 T', 'CD4 T', 'CD8 T', 'CD8 T', 'CD8 T', 'CD4 T', 'CD4 T', 'CD4 T', 'CD4 T', 'CD4 T', 'CD4 T', 'CD4 T', 'CD4 T', 'CD4 T', 'CD8 T', 'CD4 T', 'CD4 T', 'CD4 T', 'NK', 'CD4 T', 'CD4 T', 'CD4 T', 'CD4 T', 'CD8 T', 'NK', 'CD4 T', 'CD4 T', 'CD4 T', 'CD4 T', 'CD4 T', 'CD4 T', 'NK', 'CD4 T', 'NK', 'CD4 T', 'CD4 T', 'CD4 T', 'CD8 T', 'CD4 T', 'NK', 'CD4 T', 'CD4 T', 'CD4 T', 'CD8 T', 'CD4 T', 'CD4 T', 'CD8 T', 'NK', 'CD4 T', 'CD4 T', 'NK', 'CD4 T', 'CD8 T', 'CD4 T', 'CD4 T', 'CD4 T', 'CD4 T', 'CD4 T', 'CD4 T', 'CD8 T', 'CD4 T', 'CD8 T', 'CD4 T', 'CD4 T', 'CD4 T', 'CD4 T', 'CD4 T', 'CD4 T', 'NK', 'CD4 T', 'CD8 T', 'CD4 T', 'CD4 T', 'CD8 T', 'CD4 T', 'CD8 T', 'CD4 T', 'CD4 T', 'CD4 T', 'CD4 T', 'CD8 T', 'CD4 T', 'CD8 T', 'CD4 T', 'CD4 T', 'CD4 T', 'CD4 T', 'CD4 T', 'CD4 T', 'CD8 T', 'NK', 'CD8 T', 'CD4 T', 'CD4 T', 'NK', 'CD4 T', 'CD8 T', 'CD4 T', 'CD4 T', 'NK', 'CD4 T', 'CD4 T', 'CD4 T', 'CD4 T', 'CD4 T', 'CD8 T', 'CD8 T', 'CD4 T', 'CD4 T', 'CD4 T', 'CD4 T', 'CD8 T', 'CD4 T', 'NK', 'CD8 T', 'CD4 T', 'CD4 T', 'CD4 T', 'NK', 'CD4 T', 'CD4 T', 'CD4 T', 'CD8 T', 'CD4 T', 'CD8 T', 'NK', 'CD4 T', 'CD4 T', 'CD4 T', 'CD4 T', 'CD4 T', 'CD4 T', 'CD4 T', 'CD4 T', 'CD8 T', 'NK', 'CD4 T', 'CD8 T', 'CD4 T', 'CD4 T', 'CD4 T', 'CD4 T', 'CD4 T', 'CD4 T', 'CD4 T', 'CD4 T', 'CD4 T', 'CD4 T', 'CD4 T', 'CD4 T', 'CD4 T', 'CD8 T', 'CD4 T', 'CD4 T', 'CD4 T', 'NK', 'CD4 T', 'CD4 T', 'CD4 T', 'CD4 T', 'CD4 T', 'CD8 T', 'CD4 T', 'CD4 T', 'CD4 T', 'CD4 T', 'CD4 T', 'CD4 T', 'CD4 T', 'CD8 T', 'CD4 T', 'CD4 T', 'CD4 T', 'CD4 T', 'CD4 T', 'CD8 T', 'CD8 T', 'CD4 T', 'CD4 T', 'CD4 T', 'CD8 T', 'CD8 T', 'CD4 T', 'CD4 T', 'CD4 T', 'CD8 T', 'CD4 T', 'CD4 T', 'CD4 T', 'CD4 T', 'CD4 T', 'CD8 T', 'CD4 T', 'CD4 T', 'CD4 T', 'CD4 T', 'CD8 T', 'CD4 T', 'CD4 T', 'CD4 T', 'CD4 T', 'CD4 T', 'NK', 'CD4 T', 'CD8 T', 'NK', 'CD4 T', 'CD4 T', 'CD4 T', 'CD4 T', 'CD4 T', 'CD8 T', 'CD4 T', 'CD4 T', 'CD8 T', 'CD4 T', 'CD4 T', 'CD4 T', 'CD4 T', 'CD4 T', 'CD4 T', 'CD4 T', 'CD4 T', 'NK', 'CD4 T', 'CD4 T', 'CD4 T', 'CD4 T', 'CD4 T', 'CD4 T', 'CD4 T', 'CD4 T', 'CD8 T', 'CD4 T', 'CD4 T', 'CD4 T', 'CD4 T', 'CD4 T', 'CD4 T', 'CD4 T', 'CD8 T', 'CD4 T', 'CD4 T', 'CD4 T', 'CD4 T', 'CD4 T', 'CD4 T', 'CD4 T', 'CD4 T', 'CD4 T', 'NK', 'CD4 T', 'CD4 T', 'CD8 T', 'CD8 T', 'CD4 T', 'CD8 T', 'NK', 'CD4 T', 'NK', 'CD8 T', 'CD4 T', 'NK', 'CD8 T', 'CD4 T', 'CD4 T', 'CD4 T', 'CD4 T', 'CD4 T', 'CD4 T', 'CD4 T', 'CD8 T', 'CD4 T', 'CD4 T', 'CD4 T', 'CD4 T', 'CD4 T', 'CD8 T', 'CD8 T', 'CD4 T', 'CD8 T', 'CD4 T', 'CD4 T', 'CD4 T', 'CD4 T', 'CD4 T', 'CD4 T', 'CD4 T', 'CD4 T', 'CD4 T', 'CD4 T', 'CD4 T', 'CD4 T', 'CD4 T', 'CD4 T', 'CD4 T', 'CD8 T', 'CD4 T', 'CD4 T', 'CD4 T', 'CD4 T', 'CD4 T', 'CD8 T', 'CD4 T', 'CD4 T', 'CD8 T', 'CD4 T', 'CD4 T', 'CD4 T', 'CD8 T', 'CD8 T', 'CD4 T', 'NK', 'CD4 T', 'CD4 T', 'CD4 T', 'CD4 T', 'CD4 T', 'NK', 'CD4 T', 'CD8 T', 'CD4 T', 'CD4 T', 'CD4 T', 'CD4 T', 'CD4 T', 'CD4 T', 'CD4 T', 'NK', 'CD4 T', 'CD4 T', 'NK', 'CD4 T', 'CD4 T', 'CD4 T', 'CD4 T', 'CD4 T', 'CD4 T', 'CD8 T', 'CD8 T', 'CD4 T', 'CD4 T', 'CD4 T', 'CD4 T', 'CD4 T', 'CD4 T', 'CD8 T', 'CD8 T', 'CD4 T', 'NK', 'CD8 T', 'CD4 T', 'CD8 T', 'CD4 T', 'CD4 T', 'CD4 T', 'CD4 T', 'CD4 T', 'CD8 T', 'CD4 T', 'CD4 T', 'NK', 'CD4 T', 'CD4 T', 'CD4 T', 'CD4 T', 'CD4 T', 'CD4 T', 'CD4 T', 'CD4 T', 'CD8 T', 'NK', 'CD4 T', 'CD8 T', 'CD4 T', 'CD4 T', 'CD4 T', 'CD4 T', 'CD8 T', 'CD8 T', 'CD4 T', 'CD8 T', 'CD8 T', 'CD8 T', 'CD4 T', 'CD8 T', 'CD4 T', 'CD8 T', 'CD4 T', 'CD4 T', 'CD4 T', 'CD4 T', 'CD4 T', 'CD8 T', 'CD8 T', 'CD4 T', 'CD4 T', 'CD8 T', 'CD4 T', 'CD4 T', 'CD4 T', 'CD8 T', 'CD8 T', 'CD4 T', 'CD4 T', 'CD4 T', 'CD4 T', 'CD4 T', 'CD4 T', 'CD8 T', 'CD4 T', 'CD4 T', 'CD4 T', 'CD4 T', 'CD4 T', 'CD4 T', 'CD8 T', 'CD4 T', 'CD8 T', 'CD4 T', 'CD4 T', 'CD4 T', 'CD4 T', 'CD8 T', 'CD8 T', 'CD4 T', 'CD8 T', 'CD4 T', 'NK', 'CD4 T', 'CD4 T', 'CD4 T', 'CD4 T', 'CD8 T', 'CD4 T', 'CD4 T', 'CD4 T', 'CD4 T', 'CD4 T', 'CD4 T', 'CD4 T', 'CD4 T', 'CD4 T', 'CD4 T', 'NK', 'CD4 T', 'CD4 T', 'CD4 T', 'CD4 T', 'CD4 T', 'NK', 'CD4 T', 'CD4 T', 'CD4 T', 'CD4 T', 'NK', 'CD4 T', 'CD4 T', 'CD4 T', 'NK', 'NK', 'CD4 T', 'CD8 T', 'CD8 T', 'CD4 T', 'CD4 T', 'CD4 T', 'CD4 T', 'CD4 T', 'CD4 T', 'NK', 'CD4 T', 'CD8 T', 'CD8 T', 'CD8 T', 'CD4 T', 'CD4 T', 'CD8 T', 'CD4 T', 'CD4 T', 'CD4 T', 'CD8 T', 'CD4 T', 'CD4 T', 'CD4 T', 'CD4 T', 'CD4 T', 'CD4 T', 'CD4 T', 'CD8 T', 'CD4 T', 'CD4 T', 'CD4 T', 'CD8 T', 'NK', 'CD4 T', 'CD4 T', 'CD4 T', 'CD4 T', 'CD4 T', 'CD4 T', 'CD4 T', 'CD8 T', 'CD4 T', 'NK', 'CD4 T', 'CD4 T', 'CD4 T', 'CD4 T', 'CD4 T', 'CD4 T', 'CD4 T', 'CD8 T', 'NK', 'CD4 T', 'CD4 T', 'CD8 T', 'CD4 T', 'CD8 T', 'CD4 T', 'CD4 T', 'CD8 T', 'CD4 T', 'CD4 T', 'CD4 T', 'CD8 T', 'CD4 T', 'CD4 T', 'CD4 T', 'CD4 T', 'NK', 'CD4 T', 'NK', 'CD4 T', 'CD4 T', 'CD4 T', 'CD8 T', 'CD4 T', 'CD4 T', 'CD4 T', 'CD4 T', 'CD8 T', 'CD4 T', 'CD8 T', 'CD4 T', 'CD4 T', 'CD4 T', 'CD4 T', 'CD4 T', 'CD4 T', 'CD4 T', 'CD4 T', 'CD4 T', 'CD4 T', 'CD8 T', 'CD8 T', 'CD4 T', 'CD8 T', 'CD4 T', 'CD4 T', 'CD4 T', 'CD4 T', 'CD4 T', 'CD8 T', 'CD4 T', 'NK', 'CD8 T', 'CD4 T', 'CD4 T', 'CD8 T', 'CD4 T', 'CD4 T', 'CD8 T', 'CD4 T', 'CD4 T', 'CD4 T', 'CD4 T', 'CD4 T', 'CD4 T', 'CD4 T', 'CD4 T', 'CD8 T', 'CD4 T', 'NK', 'CD4 T', 'NK', 'CD4 T', 'CD4 T', 'CD4 T', 'CD4 T', 'CD4 T', 'CD4 T', 'CD4 T', 'CD4 T', 'CD4 T', 'CD4 T', 'CD4 T', 'CD4 T', 'CD4 T', 'CD4 T', 'CD8 T', 'CD4 T', 'CD8 T', 'CD4 T', 'CD4 T', 'CD4 T', 'CD4 T', 'CD8 T', 'CD8 T', 'CD4 T', 'NK', 'CD4 T', 'CD4 T', 'CD8 T', 'NK', 'CD4 T', 'CD4 T', 'CD8 T', 'CD4 T', 'CD8 T', 'CD4 T', 'CD4 T', 'CD4 T', 'CD4 T', 'CD4 T', 'CD4 T', 'CD4 T', 'CD4 T', 'CD4 T', 'CD4 T', 'CD8 T', 'CD4 T', 'CD8 T', 'CD4 T', 'CD4 T', 'CD4 T', 'CD4 T', 'CD8 T', 'CD4 T', 'CD4 T', 'CD4 T', 'CD8 T', 'CD4 T', 'CD4 T', 'CD4 T', 'CD4 T', 'CD4 T', 'CD8 T', 'CD4 T', 'CD4 T', 'CD4 T', 'CD4 T', 'CD4 T', 'CD4 T', 'NK', 'CD4 T', 'CD4 T', 'CD4 T', 'CD4 T', 'CD4 T', 'CD4 T', 'CD4 T', 'CD4 T', 'CD4 T', 'CD4 T', 'CD4 T', 'CD4 T', 'CD4 T', 'CD4 T', 'CD4 T', 'CD4 T', 'CD4 T', 'CD4 T', 'CD4 T', 'NK', 'CD4 T', 'CD4 T', 'CD4 T', 'CD4 T', 'NK', 'CD4 T', 'CD4 T', 'CD4 T', 'CD8 T', 'CD4 T', 'CD4 T', 'CD4 T', 'CD4 T', 'CD4 T', 'CD4 T', 'CD8 T', 'CD4 T', 'CD4 T', 'CD4 T', 'CD8 T', 'CD4 T', 'CD4 T', 'CD4 T', 'CD4 T', 'CD4 T', 'NK', 'CD8 T', 'CD4 T', 'CD4 T', 'CD8 T', 'CD4 T', 'CD8 T', 'CD8 T', 'CD8 T', 'CD4 T', 'CD8 T', 'CD4 T', 'CD4 T', 'CD4 T', 'CD4 T', 'CD4 T', 'NK', 'CD8 T', 'CD4 T', 'CD4 T', 'CD4 T', 'CD4 T', 'CD4 T', 'CD4 T', 'CD4 T', 'CD4 T', 'CD4 T', 'CD4 T', 'CD4 T', 'NK', 'CD4 T', 'CD8 T', 'CD4 T', 'CD8 T', 'CD4 T', 'CD4 T', 'CD4 T', 'CD4 T', 'CD4 T', 'CD4 T', 'CD4 T', 'CD8 T', 'CD4 T', 'CD4 T', 'CD4 T', 'CD8 T', 'CD4 T', 'CD4 T', 'CD4 T', 'CD4 T', 'CD4 T', 'CD4 T', 'CD4 T', 'CD4 T', 'NK', 'CD4 T', 'CD4 T', 'NK', 'CD4 T', 'CD4 T', 'CD4 T', 'CD4 T', 'NK', 'CD4 T', 'CD8 T', 'CD4 T', 'CD8 T', 'CD4 T', 'NK', 'CD4 T', 'CD4 T', 'CD4 T', 'CD4 T', 'CD4 T', 'CD8 T', 'NK', 'CD4 T', 'CD4 T', 'CD4 T', 'CD4 T', 'CD4 T', 'CD4 T', 'CD4 T', 'CD4 T', 'CD4 T', 'CD4 T', 'CD4 T', 'NK', 'CD4 T', 'CD4 T', 'CD4 T', 'CD4 T', 'CD4 T', 'CD4 T', 'CD4 T', 'CD4 T', 'CD4 T', 'CD4 T', 'CD4 T', 'CD4 T', 'CD4 T', 'CD4 T', 'CD8 T', 'CD4 T', 'CD4 T', 'CD8 T', 'CD4 T', 'CD8 T', 'CD4 T', 'CD8 T', 'CD8 T', 'CD8 T', 'CD8 T', 'CD4 T', 'CD4 T', 'CD4 T', 'CD4 T', 'CD4 T', 'CD4 T', 'CD4 T', 'CD4 T', 'CD4 T', 'CD4 T', 'CD4 T', 'CD8 T', 'CD4 T', 'CD4 T', 'CD8 T', 'CD4 T', 'CD8 T', 'NK', 'CD4 T', 'CD4 T', 'CD4 T', 'CD4 T', 'CD4 T', 'CD4 T', 'CD4 T', 'CD4 T', 'CD8 T', 'CD4 T', 'CD8 T', 'NK', 'CD4 T', 'CD8 T', 'CD8 T', 'CD4 T', 'CD4 T', 'CD4 T', 'NK', 'CD4 T', 'CD4 T', 'CD4 T', 'CD4 T', 'CD4 T', 'CD4 T', 'CD4 T', 'NK', 'CD4 T', 'CD4 T', 'NK', 'CD4 T', 'CD4 T', 'CD8 T', 'CD4 T', 'CD4 T', 'CD8 T', 'CD4 T', 'CD4 T', 'CD4 T', 'CD8 T', 'CD4 T', 'CD4 T', 'CD4 T', 'CD4 T', 'CD4 T', 'CD4 T', 'CD8 T', 'CD8 T', 'CD4 T', 'CD4 T', 'CD4 T', 'CD4 T', 'CD4 T', 'CD4 T', 'CD4 T', 'CD4 T', 'CD8 T', 'CD4 T', 'CD4 T', 'CD8 T', 'CD4 T', 'CD4 T', 'CD8 T', 'CD8 T', 'CD4 T', 'CD4 T', 'CD4 T', 'CD4 T', 'CD4 T', 'CD8 T', 'CD8 T', 'CD8 T', 'CD8 T', 'CD4 T', 'CD4 T', 'CD4 T', 'CD4 T', 'CD4 T', 'NK', 'CD4 T', 'CD8 T', 'CD8 T', 'CD4 T', 'CD4 T', 'CD4 T', 'CD4 T', 'CD4 T', 'CD4 T', 'CD4 T', 'CD4 T', 'CD4 T', 'CD4 T', 'CD4 T', 'CD4 T', 'CD4 T', 'CD4 T', 'CD4 T', 'CD4 T', 'CD4 T', 'CD4 T', 'CD4 T', 'CD4 T', 'CD4 T', 'CD8 T', 'CD4 T', 'CD8 T', 'CD4 T', 'CD4 T', 'CD4 T', 'CD8 T', 'CD4 T', 'CD8 T', 'CD4 T', 'CD4 T', 'CD4 T', 'CD4 T', 'CD8 T', 'CD4 T', 'CD8 T', 'CD4 T', 'CD4 T', 'CD4 T', 'CD4 T', 'CD8 T', 'CD4 T', 'CD4 T', 'CD8 T', 'CD8 T', 'CD4 T', 'CD4 T', 'CD4 T', 'CD4 T', 'CD4 T', 'CD4 T', 'CD4 T', 'CD4 T', 'CD4 T', 'CD8 T', 'CD4 T', 'CD8 T', 'CD4 T', 'CD4 T', 'CD4 T', 'NK', 'CD4 T', 'CD8 T', 'CD4 T', 'CD8 T', 'CD4 T', 'CD4 T', 'CD4 T', 'CD4 T', 'CD4 T', 'CD8 T', 'CD8 T', 'NK', 'CD4 T', 'CD4 T', 'CD4 T', 'CD8 T', 'CD4 T', 'CD8 T', 'CD4 T', 'CD4 T', 'CD4 T', 'CD8 T', 'CD4 T', 'NK', 'CD8 T', 'CD4 T', 'CD4 T', 'CD4 T', 'CD4 T', 'CD4 T', 'CD4 T', 'CD4 T', 'CD4 T', 'CD4 T', 'CD4 T', 'CD4 T', 'CD8 T', 'CD4 T', 'CD8 T', 'CD4 T', 'CD4 T', 'CD4 T', 'CD4 T', 'CD4 T', 'CD4 T', 'CD8 T', 'CD4 T', 'CD8 T', 'CD4 T', 'CD4 T', 'CD4 T', 'CD4 T', 'CD4 T', 'CD4 T', 'CD8 T', 'CD8 T', 'CD4 T', 'CD4 T', 'NK', 'CD4 T', 'CD4 T', 'CD8 T', 'CD8 T', 'CD4 T', 'NK', 'CD8 T', 'CD4 T', 'CD4 T', 'CD8 T', 'CD8 T', 'CD4 T', 'CD8 T', 'CD4 T', 'CD4 T', 'CD8 T', 'CD4 T', 'CD8 T', 'CD8 T', 'CD4 T', 'CD4 T', 'CD4 T', 'CD8 T', 'CD4 T', 'CD4 T', 'CD4 T', 'NK', 'CD4 T', 'CD4 T', 'CD4 T', 'CD4 T', 'CD8 T', 'CD4 T', 'CD8 T', 'CD4 T', 'CD4 T', 'CD4 T', 'NK', 'CD4 T', 'CD4 T', 'CD4 T', 'CD4 T', 'CD4 T', 'CD8 T', 'CD4 T', 'NK', 'CD8 T', 'CD4 T', 'CD4 T', 'CD4 T', 'CD8 T', 'CD4 T', 'CD8 T', 'NK', 'CD4 T', 'CD8 T', 'CD4 T', 'CD4 T', 'CD4 T', 'CD4 T', 'CD4 T', 'CD4 T', 'CD4 T', 'CD4 T', 'CD4 T', 'CD4 T', 'CD4 T', 'CD4 T', 'CD4 T', 'CD4 T', 'CD4 T', 'CD4 T', 'CD4 T', 'CD4 T', 'CD4 T', 'CD4 T', 'CD4 T', 'CD4 T', 'CD4 T', 'CD8 T', 'CD4 T', 'CD4 T', 'CD8 T', 'CD4 T', 'NK', 'NK', 'CD4 T', 'CD4 T', 'CD4 T', 'CD4 T', 'CD4 T', 'CD4 T', 'CD8 T', 'CD4 T', 'NK', 'CD8 T', 'CD4 T', 'CD4 T', 'CD4 T', 'CD4 T', 'CD4 T', 'CD4 T', 'CD4 T', 'CD4 T', 'CD4 T', 'CD4 T', 'CD4 T', 'CD4 T', 'CD8 T', 'CD8 T', 'CD8 T', 'CD4 T', 'CD4 T', 'CD4 T', 'CD4 T', 'CD8 T', 'CD4 T', 'NK', 'CD4 T', 'CD4 T', 'CD4 T', 'CD8 T', 'CD4 T', 'CD8 T', 'CD4 T', 'CD8 T', 'CD4 T', 'CD8 T', 'CD8 T', 'CD4 T', 'CD8 T', 'CD4 T', 'CD4 T', 'CD4 T', 'CD4 T', 'NK', 'CD4 T', 'CD4 T', 'CD4 T', 'CD4 T', 'CD4 T', 'CD4 T', 'CD8 T', 'CD4 T', 'CD8 T', 'NK', 'NK', 'NK', 'CD8 T', 'CD4 T', 'CD4 T', 'CD4 T', 'CD4 T', 'NK', 'CD8 T', 'NK', 'CD8 T', 'CD4 T', 'CD8 T', 'CD8 T', 'CD4 T', 'NK', 'CD4 T', 'CD4 T', 'CD4 T', 'CD4 T', 'CD8 T', 'CD4 T', 'CD4 T', 'CD8 T', 'CD8 T', 'CD4 T', 'CD4 T', 'CD4 T', 'NK', 'CD8 T', 'NK', 'CD8 T', 'CD4 T', 'CD4 T', 'CD4 T', 'CD8 T', 'CD8 T', 'CD4 T', 'NK', 'CD4 T', 'CD4 T', 'CD4 T', 'CD4 T', 'NK', 'CD4 T', 'CD8 T', 'CD4 T', 'CD4 T', 'CD4 T', 'CD8 T', 'CD4 T', 'NK', 'CD4 T', 'CD4 T', 'CD4 T', 'CD8 T', 'CD4 T', 'CD4 T', 'CD4 T', 'CD8 T', 'CD8 T', 'NK', 'CD4 T', 'CD4 T', 'CD4 T', 'CD8 T', 'CD4 T', 'CD4 T', 'CD4 T', 'CD4 T', 'CD8 T', 'CD4 T', 'CD4 T', 'CD4 T', 'CD4 T', 'CD4 T', 'CD4 T', 'CD8 T', 'CD4 T', 'CD8 T', 'NK', 'CD8 T', 'CD4 T', 'CD4 T', 'CD4 T', 'CD8 T', 'CD4 T', 'NK', 'CD8 T', 'CD4 T', 'CD4 T', 'CD4 T', 'CD8 T', 'CD4 T', 'CD4 T', 'CD8 T', 'CD4 T', 'CD4 T', 'CD4 T', 'CD4 T', 'CD4 T', 'CD4 T', 'CD4 T', 'CD4 T', 'CD4 T', 'CD8 T', 'CD8 T', 'NK', 'CD4 T', 'CD4 T', 'CD4 T', 'CD4 T', 'CD4 T', 'CD4 T', 'CD4 T', 'CD4 T', 'CD8 T', 'CD4 T', 'NK', 'NK', 'CD4 T', 'CD4 T', 'CD4 T', 'CD4 T', 'CD4 T', 'CD4 T', 'CD4 T', 'CD4 T', 'CD4 T', 'CD4 T', 'CD4 T', 'CD4 T', 'NK', 'CD8 T', 'CD4 T', 'CD8 T', 'CD4 T', 'CD4 T', 'NK', 'CD4 T', 'CD8 T', 'CD4 T', 'CD8 T', 'CD4 T', 'CD4 T', 'CD8 T', 'CD8 T', 'CD4 T', 'CD8 T', 'CD4 T', 'CD4 T', 'CD4 T', 'NK', 'CD4 T', 'CD4 T', 'CD4 T', 'CD4 T', 'CD4 T', 'CD4 T', 'CD4 T', 'NK', 'CD4 T', 'CD4 T', 'CD4 T', 'CD8 T', 'CD4 T', 'CD8 T', 'CD4 T', 'CD4 T', 'NK', 'CD4 T', 'CD8 T', 'CD4 T', 'CD4 T', 'NK', 'CD8 T', 'CD8 T', 'NK', 'NK', 'CD8 T', 'CD8 T', 'CD4 T', 'CD8 T', 'CD8 T', 'CD4 T', 'CD4 T', 'CD4 T', 'CD4 T', 'CD4 T', 'CD4 T', 'CD4 T', 'CD4 T', 'CD4 T', 'CD4 T', 'CD4 T', 'CD8 T', 'CD4 T', 'CD4 T', 'CD4 T', 'CD4 T', 'CD8 T', 'CD4 T', 'CD4 T', 'CD4 T', 'CD4 T', 'CD4 T', 'NK', 'CD4 T', 'CD4 T', 'CD4 T', 'CD4 T', 'CD4 T', 'CD4 T', 'CD4 T', 'CD4 T', 'CD4 T', 'CD4 T', 'NK', 'CD4 T', 'CD4 T', 'NK', 'CD4 T', 'CD4 T', 'CD8 T', 'CD8 T', 'CD4 T', 'CD4 T', 'CD4 T', 'CD4 T', 'CD4 T', 'CD4 T', 'NK', 'NK', 'CD4 T', 'CD4 T', 'CD4 T', 'CD4 T', 'CD8 T', 'NK', 'CD4 T', 'NK', 'CD8 T', 'CD4 T', 'NK', 'CD4 T', 'CD4 T', 'CD4 T', 'CD4 T', 'CD8 T', 'CD4 T', 'CD4 T']\n",
            "Epoch 1/50\n",
            "15/15 [==============================] - 0s 11ms/step - loss: 1.3194 - val_loss: 1.2106\n",
            "Epoch 2/50\n",
            "15/15 [==============================] - 0s 3ms/step - loss: 1.1350 - val_loss: 1.0297\n",
            "Epoch 3/50\n",
            "15/15 [==============================] - 0s 3ms/step - loss: 0.9535 - val_loss: 0.8901\n",
            "Epoch 4/50\n",
            "15/15 [==============================] - 0s 3ms/step - loss: 0.8203 - val_loss: 0.7947\n",
            "Epoch 5/50\n",
            "15/15 [==============================] - 0s 3ms/step - loss: 0.7284 - val_loss: 0.7300\n",
            "Epoch 6/50\n",
            "15/15 [==============================] - 0s 3ms/step - loss: 0.6638 - val_loss: 0.6847\n",
            "Epoch 7/50\n",
            "15/15 [==============================] - 0s 3ms/step - loss: 0.6173 - val_loss: 0.6499\n",
            "Epoch 8/50\n",
            "15/15 [==============================] - 0s 3ms/step - loss: 0.5808 - val_loss: 0.6222\n",
            "Epoch 9/50\n",
            "15/15 [==============================] - 0s 3ms/step - loss: 0.5512 - val_loss: 0.5993\n",
            "Epoch 10/50\n",
            "15/15 [==============================] - 0s 3ms/step - loss: 0.5263 - val_loss: 0.5798\n",
            "Epoch 11/50\n",
            "15/15 [==============================] - 0s 3ms/step - loss: 0.5045 - val_loss: 0.5623\n",
            "Epoch 12/50\n",
            "15/15 [==============================] - 0s 3ms/step - loss: 0.4850 - val_loss: 0.5463\n",
            "Epoch 13/50\n",
            "15/15 [==============================] - 0s 3ms/step - loss: 0.4671 - val_loss: 0.5318\n",
            "Epoch 14/50\n",
            "15/15 [==============================] - 0s 3ms/step - loss: 0.4509 - val_loss: 0.5178\n",
            "Epoch 15/50\n",
            "15/15 [==============================] - 0s 3ms/step - loss: 0.4358 - val_loss: 0.5051\n",
            "Epoch 16/50\n",
            "15/15 [==============================] - 0s 3ms/step - loss: 0.4219 - val_loss: 0.4931\n",
            "Epoch 17/50\n",
            "15/15 [==============================] - 0s 3ms/step - loss: 0.4083 - val_loss: 0.4821\n",
            "Epoch 18/50\n",
            "15/15 [==============================] - 0s 3ms/step - loss: 0.3958 - val_loss: 0.4720\n",
            "Epoch 19/50\n",
            "15/15 [==============================] - 0s 3ms/step - loss: 0.3840 - val_loss: 0.4624\n",
            "Epoch 20/50\n",
            "15/15 [==============================] - 0s 3ms/step - loss: 0.3730 - val_loss: 0.4527\n",
            "Epoch 21/50\n",
            "15/15 [==============================] - 0s 3ms/step - loss: 0.3623 - val_loss: 0.4437\n",
            "Epoch 22/50\n",
            "15/15 [==============================] - 0s 3ms/step - loss: 0.3523 - val_loss: 0.4351\n",
            "Epoch 23/50\n",
            "15/15 [==============================] - 0s 3ms/step - loss: 0.3429 - val_loss: 0.4271\n",
            "Epoch 24/50\n",
            "15/15 [==============================] - 0s 3ms/step - loss: 0.3339 - val_loss: 0.4200\n",
            "Epoch 25/50\n",
            "15/15 [==============================] - 0s 3ms/step - loss: 0.3255 - val_loss: 0.4134\n",
            "Epoch 26/50\n",
            "15/15 [==============================] - 0s 3ms/step - loss: 0.3175 - val_loss: 0.4068\n",
            "Epoch 27/50\n",
            "15/15 [==============================] - 0s 3ms/step - loss: 0.3101 - val_loss: 0.4005\n",
            "Epoch 28/50\n",
            "15/15 [==============================] - 0s 3ms/step - loss: 0.3029 - val_loss: 0.3950\n",
            "Epoch 29/50\n",
            "15/15 [==============================] - 0s 3ms/step - loss: 0.2963 - val_loss: 0.3899\n",
            "Epoch 30/50\n",
            "15/15 [==============================] - 0s 3ms/step - loss: 0.2900 - val_loss: 0.3846\n",
            "Epoch 31/50\n",
            "15/15 [==============================] - 0s 5ms/step - loss: 0.2841 - val_loss: 0.3799\n",
            "Epoch 32/50\n",
            "15/15 [==============================] - 0s 3ms/step - loss: 0.2784 - val_loss: 0.3755\n",
            "Epoch 33/50\n",
            "15/15 [==============================] - 0s 3ms/step - loss: 0.2731 - val_loss: 0.3716\n",
            "Epoch 34/50\n",
            "15/15 [==============================] - 0s 4ms/step - loss: 0.2682 - val_loss: 0.3676\n",
            "Epoch 35/50\n",
            "15/15 [==============================] - 0s 3ms/step - loss: 0.2634 - val_loss: 0.3643\n",
            "Epoch 36/50\n",
            "15/15 [==============================] - 0s 4ms/step - loss: 0.2589 - val_loss: 0.3608\n",
            "Epoch 37/50\n",
            "15/15 [==============================] - 0s 3ms/step - loss: 0.2546 - val_loss: 0.3577\n",
            "Epoch 38/50\n",
            "15/15 [==============================] - 0s 3ms/step - loss: 0.2505 - val_loss: 0.3550\n",
            "Epoch 39/50\n",
            "15/15 [==============================] - 0s 3ms/step - loss: 0.2466 - val_loss: 0.3526\n",
            "Epoch 40/50\n",
            "15/15 [==============================] - 0s 3ms/step - loss: 0.2429 - val_loss: 0.3499\n",
            "Epoch 41/50\n",
            "15/15 [==============================] - 0s 3ms/step - loss: 0.2395 - val_loss: 0.3475\n",
            "Epoch 42/50\n",
            "15/15 [==============================] - 0s 3ms/step - loss: 0.2362 - val_loss: 0.3453\n",
            "Epoch 43/50\n",
            "15/15 [==============================] - 0s 3ms/step - loss: 0.2330 - val_loss: 0.3433\n",
            "Epoch 44/50\n",
            "15/15 [==============================] - 0s 3ms/step - loss: 0.2300 - val_loss: 0.3412\n",
            "Epoch 45/50\n",
            "15/15 [==============================] - 0s 3ms/step - loss: 0.2272 - val_loss: 0.3392\n",
            "Epoch 46/50\n",
            "15/15 [==============================] - 0s 3ms/step - loss: 0.2244 - val_loss: 0.3378\n",
            "Epoch 47/50\n",
            "15/15 [==============================] - 0s 3ms/step - loss: 0.2218 - val_loss: 0.3356\n",
            "Epoch 48/50\n",
            "15/15 [==============================] - 0s 3ms/step - loss: 0.2192 - val_loss: 0.3338\n",
            "Epoch 49/50\n",
            "15/15 [==============================] - 0s 4ms/step - loss: 0.2168 - val_loss: 0.3327\n",
            "Epoch 50/50\n",
            "15/15 [==============================] - 0s 3ms/step - loss: 0.2146 - val_loss: 0.3311\n"
          ]
        }
      ]
    },
    {
      "cell_type": "code",
      "source": [
        "#accuracy of tnk classifier model \n",
        "print(hc.graph.nodes['TNK']['memory'].training_acc)\n",
        "\n",
        "print(hc.graph.nodes['TNK']['memory'].test_acc)"
      ],
      "metadata": {
        "colab": {
          "base_uri": "https://localhost:8080/"
        },
        "id": "kDK0Axx1iq_X",
        "outputId": "4df83792-ab0d-4fcd-86aa-278d2e74f89b"
      },
      "execution_count": 430,
      "outputs": [
        {
          "output_type": "stream",
          "name": "stdout",
          "text": [
            "0.936046511627907\n",
            "0.9284332688588007\n"
          ]
        }
      ]
    },
    {
      "cell_type": "code",
      "source": [
        "#show saved prediction results in next labels, <- hm ne das wird erst später aufgerufen\n",
        "hc.graph.nodes['CD4 T']['memory'].__dict__"
      ],
      "metadata": {
        "colab": {
          "base_uri": "https://localhost:8080/"
        },
        "id": "eqMhrlqMi45G",
        "outputId": "e284980d-50e5-4fac-b584-4400f5b01263"
      },
      "execution_count": 431,
      "outputs": [
        {
          "output_type": "execute_result",
          "data": {
            "text/plain": [
              "{'apriori_y_input_data_indices': (array([   1,    2,    3, ..., 1545, 1547, 1548]),),\n",
              " 'classifier_class': None,\n",
              " 'local_classifier_params': [],\n",
              " 'test_acc': None,\n",
              " 'test_prediction_vec': None,\n",
              " 'training_acc': None,\n",
              " 'training_prediction_vec': None,\n",
              " 'x_input_data': None,\n",
              " 'y_input_data': None,\n",
              " 'y_input_grouped_labels': None}"
            ]
          },
          "metadata": {},
          "execution_count": 431
        }
      ]
    },
    {
      "cell_type": "code",
      "source": [
        "#show status of node Myeloische Zellen\n",
        "hc.graph.nodes['Myeloisch']['memory'].__dict__"
      ],
      "metadata": {
        "colab": {
          "base_uri": "https://localhost:8080/"
        },
        "id": "GmjgeNI0wdfE",
        "outputId": "a54d4427-bd7b-4c5f-88e6-9f2c314972ed"
      },
      "execution_count": 432,
      "outputs": [
        {
          "output_type": "execute_result",
          "data": {
            "text/plain": [
              "{'apriori_y_input_data_indices': (array([], dtype=int64),),\n",
              " 'classifier_class': None,\n",
              " 'local_classifier_params': [],\n",
              " 'test_acc': None,\n",
              " 'test_prediction_vec': None,\n",
              " 'training_acc': None,\n",
              " 'training_prediction_vec': None,\n",
              " 'x_input_data': array([[-0.65018964,  0.5909275 ,  0.17820597, ...,  0.7609098 ,\n",
              "         -0.9427402 ,  1.1240003 ],\n",
              "        [ 1.3202016 ,  0.6382091 , -1.6076678 , ..., -1.3887111 ,\n",
              "         -0.43054047, -1.2502768 ],\n",
              "        [ 0.03016484, -0.13684195,  0.38049364, ..., -0.8243723 ,\n",
              "         -0.4725106 ,  0.7852393 ],\n",
              "        ...,\n",
              "        [ 0.00502422,  0.18570839,  0.38839135, ..., -0.05192301,\n",
              "         -1.1637948 ,  1.4046977 ],\n",
              "        [ 1.5008779 , -0.13873322, -0.09292659, ...,  0.1126502 ,\n",
              "         -1.7490447 ,  1.5059206 ],\n",
              "        [ 0.57691723, -0.09258436,  0.77182037, ..., -0.11639237,\n",
              "          0.35169557,  1.8422029 ]], dtype=float32),\n",
              " 'y_input_data': array(['NK', 'FCGR3A Monocytes', 'NK', 'CD14 Monocytes', 'CD14 Monocytes',\n",
              "        'CD14 Monocytes', 'CD14 Monocytes', 'CD14 Monocytes',\n",
              "        'CD14 Monocytes', 'CD14 Monocytes', 'NK', 'CD14 Monocytes',\n",
              "        'CD14 Monocytes', 'NK', 'FCGR3A Monocytes', 'FCGR3A Monocytes',\n",
              "        'CD14 Monocytes', 'CD14 Monocytes', 'NK', 'CD14 Monocytes',\n",
              "        'CD14 Monocytes', 'CD14 Monocytes', 'CD14 Monocytes',\n",
              "        'CD14 Monocytes', 'CD14 Monocytes', 'Dendritic',\n",
              "        'FCGR3A Monocytes', 'CD14 Monocytes', 'FCGR3A Monocytes',\n",
              "        'Dendritic', 'CD14 Monocytes', 'CD4 T', 'CD14 Monocytes',\n",
              "        'CD14 Monocytes', 'FCGR3A Monocytes', 'NK', 'CD14 Monocytes',\n",
              "        'FCGR3A Monocytes', 'CD14 Monocytes', 'FCGR3A Monocytes', 'CD8 T',\n",
              "        'CD14 Monocytes', 'Dendritic', 'CD14 Monocytes', 'CD14 Monocytes',\n",
              "        'Dendritic', 'CD14 Monocytes', 'FCGR3A Monocytes',\n",
              "        'FCGR3A Monocytes', 'CD14 Monocytes', 'FCGR3A Monocytes',\n",
              "        'FCGR3A Monocytes', 'CD14 Monocytes', 'NK', 'FCGR3A Monocytes',\n",
              "        'CD14 Monocytes', 'CD14 Monocytes', 'CD14 Monocytes',\n",
              "        'CD14 Monocytes', 'Megakaryocytes', 'CD14 Monocytes',\n",
              "        'CD14 Monocytes', 'CD14 Monocytes', 'NK', 'FCGR3A Monocytes',\n",
              "        'CD14 Monocytes', 'CD14 Monocytes', 'NK', 'Megakaryocytes',\n",
              "        'Dendritic', 'FCGR3A Monocytes', 'CD14 Monocytes',\n",
              "        'CD14 Monocytes', 'FCGR3A Monocytes', 'NK', 'CD14 Monocytes',\n",
              "        'CD14 Monocytes', 'CD14 Monocytes', 'CD14 Monocytes', 'NK',\n",
              "        'FCGR3A Monocytes', 'CD14 Monocytes', 'Dendritic',\n",
              "        'CD14 Monocytes', 'FCGR3A Monocytes', 'CD14 Monocytes',\n",
              "        'CD14 Monocytes', 'CD14 Monocytes', 'CD14 Monocytes',\n",
              "        'CD14 Monocytes', 'FCGR3A Monocytes', 'FCGR3A Monocytes',\n",
              "        'CD14 Monocytes', 'Dendritic', 'FCGR3A Monocytes',\n",
              "        'CD14 Monocytes', 'CD14 Monocytes', 'CD14 Monocytes',\n",
              "        'CD14 Monocytes', 'CD14 Monocytes', 'CD14 Monocytes',\n",
              "        'CD14 Monocytes', 'NK', 'CD14 Monocytes', 'FCGR3A Monocytes',\n",
              "        'CD14 Monocytes', 'CD14 Monocytes', 'CD14 Monocytes',\n",
              "        'CD14 Monocytes', 'FCGR3A Monocytes', 'CD14 Monocytes',\n",
              "        'CD14 Monocytes', 'NK', 'FCGR3A Monocytes', 'CD14 Monocytes', 'NK',\n",
              "        'NK', 'FCGR3A Monocytes', 'FCGR3A Monocytes', 'CD14 Monocytes',\n",
              "        'CD14 Monocytes', 'CD14 Monocytes', 'NK', 'CD14 Monocytes',\n",
              "        'CD14 Monocytes', 'FCGR3A Monocytes', 'NK', 'NK',\n",
              "        'FCGR3A Monocytes', 'CD14 Monocytes', 'CD14 Monocytes',\n",
              "        'CD14 Monocytes', 'CD14 Monocytes', 'FCGR3A Monocytes',\n",
              "        'CD14 Monocytes', 'CD14 Monocytes', 'CD14 Monocytes', 'Dendritic',\n",
              "        'CD14 Monocytes', 'CD14 Monocytes', 'CD14 Monocytes',\n",
              "        'CD14 Monocytes', 'CD14 Monocytes', 'CD14 Monocytes', 'NK',\n",
              "        'FCGR3A Monocytes', 'CD14 Monocytes', 'CD14 Monocytes',\n",
              "        'CD14 Monocytes', 'CD14 Monocytes', 'NK', 'CD14 Monocytes',\n",
              "        'CD14 Monocytes', 'CD14 Monocytes', 'CD14 Monocytes',\n",
              "        'FCGR3A Monocytes', 'CD14 Monocytes', 'CD8 T', 'CD14 Monocytes',\n",
              "        'CD14 Monocytes', 'CD14 Monocytes', 'CD14 Monocytes',\n",
              "        'CD14 Monocytes', 'CD14 Monocytes', 'CD14 Monocytes',\n",
              "        'CD14 Monocytes', 'NK', 'NK', 'FCGR3A Monocytes',\n",
              "        'FCGR3A Monocytes', 'NK', 'FCGR3A Monocytes', 'FCGR3A Monocytes',\n",
              "        'CD14 Monocytes', 'CD14 Monocytes', 'CD14 Monocytes',\n",
              "        'CD14 Monocytes', 'CD14 Monocytes', 'FCGR3A Monocytes',\n",
              "        'Dendritic', 'CD14 Monocytes', 'CD14 Monocytes', 'CD14 Monocytes',\n",
              "        'CD14 Monocytes', 'FCGR3A Monocytes', 'CD14 Monocytes',\n",
              "        'Megakaryocytes', 'CD14 Monocytes', 'FCGR3A Monocytes',\n",
              "        'CD14 Monocytes', 'CD14 Monocytes', 'NK', 'CD14 Monocytes',\n",
              "        'Dendritic', 'NK', 'NK', 'CD14 Monocytes', 'CD14 Monocytes',\n",
              "        'CD14 Monocytes', 'CD14 Monocytes', 'CD14 Monocytes', 'NK',\n",
              "        'CD14 Monocytes', 'CD14 Monocytes', 'CD14 Monocytes',\n",
              "        'FCGR3A Monocytes', 'CD14 Monocytes', 'CD14 Monocytes',\n",
              "        'CD14 Monocytes', 'CD14 Monocytes', 'CD14 Monocytes',\n",
              "        'CD14 Monocytes', 'CD14 Monocytes', 'NK', 'NK', 'FCGR3A Monocytes',\n",
              "        'FCGR3A Monocytes', 'CD14 Monocytes', 'CD14 Monocytes',\n",
              "        'CD14 Monocytes', 'CD14 Monocytes', 'CD14 Monocytes',\n",
              "        'FCGR3A Monocytes', 'CD14 Monocytes', 'CD14 Monocytes',\n",
              "        'CD14 Monocytes', 'NK', 'CD14 Monocytes', 'CD14 Monocytes',\n",
              "        'Dendritic', 'FCGR3A Monocytes', 'CD14 Monocytes',\n",
              "        'CD14 Monocytes', 'CD14 Monocytes', 'FCGR3A Monocytes',\n",
              "        'CD14 Monocytes', 'CD14 Monocytes', 'CD14 Monocytes',\n",
              "        'FCGR3A Monocytes', 'CD14 Monocytes', 'CD14 Monocytes',\n",
              "        'FCGR3A Monocytes', 'CD14 Monocytes', 'CD14 Monocytes',\n",
              "        'CD14 Monocytes', 'CD14 Monocytes', 'CD14 Monocytes', 'NK',\n",
              "        'CD14 Monocytes', 'CD14 Monocytes', 'CD14 Monocytes',\n",
              "        'CD14 Monocytes', 'CD14 Monocytes', 'CD14 Monocytes',\n",
              "        'CD14 Monocytes', 'CD14 Monocytes', 'CD14 Monocytes',\n",
              "        'CD14 Monocytes', 'CD14 Monocytes', 'CD14 Monocytes', 'NK',\n",
              "        'CD14 Monocytes', 'CD14 Monocytes', 'CD14 Monocytes',\n",
              "        'CD14 Monocytes', 'CD14 Monocytes', 'NK', 'CD14 Monocytes',\n",
              "        'CD14 Monocytes', 'CD14 Monocytes', 'CD14 Monocytes',\n",
              "        'CD14 Monocytes', 'FCGR3A Monocytes', 'NK', 'CD14 Monocytes',\n",
              "        'CD14 Monocytes', 'NK', 'CD14 Monocytes', 'CD14 Monocytes', 'NK',\n",
              "        'FCGR3A Monocytes', 'CD14 Monocytes', 'CD14 Monocytes', 'CD8 T',\n",
              "        'CD14 Monocytes', 'CD8 T', 'CD14 Monocytes', 'FCGR3A Monocytes',\n",
              "        'CD14 Monocytes', 'CD14 Monocytes', 'NK', 'CD14 Monocytes',\n",
              "        'CD14 Monocytes', 'CD14 Monocytes', 'Dendritic', 'CD14 Monocytes',\n",
              "        'CD14 Monocytes', 'CD14 Monocytes', 'CD4 T', 'CD14 Monocytes',\n",
              "        'CD14 Monocytes', 'CD14 Monocytes', 'FCGR3A Monocytes',\n",
              "        'FCGR3A Monocytes', 'NK', 'CD14 Monocytes', 'CD14 Monocytes',\n",
              "        'CD14 Monocytes', 'CD14 Monocytes', 'FCGR3A Monocytes',\n",
              "        'CD14 Monocytes', 'CD14 Monocytes', 'FCGR3A Monocytes', 'NK',\n",
              "        'FCGR3A Monocytes', 'CD14 Monocytes', 'NK', 'CD14 Monocytes',\n",
              "        'CD14 Monocytes', 'CD14 Monocytes', 'FCGR3A Monocytes',\n",
              "        'CD14 Monocytes', 'NK', 'FCGR3A Monocytes', 'CD14 Monocytes',\n",
              "        'CD14 Monocytes', 'FCGR3A Monocytes', 'FCGR3A Monocytes',\n",
              "        'CD14 Monocytes', 'CD14 Monocytes', 'CD14 Monocytes',\n",
              "        'CD14 Monocytes', 'NK', 'NK', 'CD14 Monocytes', 'CD14 Monocytes',\n",
              "        'CD14 Monocytes', 'NK', 'Dendritic', 'CD14 Monocytes',\n",
              "        'CD14 Monocytes', 'FCGR3A Monocytes', 'CD14 Monocytes', 'NK',\n",
              "        'CD8 T', 'CD14 Monocytes', 'NK', 'CD14 Monocytes',\n",
              "        'CD14 Monocytes', 'CD14 Monocytes', 'CD14 Monocytes',\n",
              "        'CD14 Monocytes', 'NK', 'FCGR3A Monocytes', 'Dendritic',\n",
              "        'CD14 Monocytes', 'CD14 Monocytes', 'NK', 'FCGR3A Monocytes',\n",
              "        'CD14 Monocytes', 'CD14 Monocytes', 'CD14 Monocytes',\n",
              "        'CD14 Monocytes', 'Dendritic', 'CD14 Monocytes',\n",
              "        'FCGR3A Monocytes', 'CD14 Monocytes', 'FCGR3A Monocytes',\n",
              "        'FCGR3A Monocytes', 'NK', 'Dendritic', 'CD14 Monocytes',\n",
              "        'CD14 Monocytes', 'Megakaryocytes', 'FCGR3A Monocytes',\n",
              "        'CD14 Monocytes', 'CD14 Monocytes', 'CD14 Monocytes',\n",
              "        'CD14 Monocytes', 'CD14 Monocytes', 'NK', 'CD14 Monocytes',\n",
              "        'FCGR3A Monocytes', 'CD14 Monocytes', 'CD14 Monocytes',\n",
              "        'CD14 Monocytes', 'FCGR3A Monocytes', 'CD14 Monocytes',\n",
              "        'CD14 Monocytes', 'CD14 Monocytes', 'CD14 Monocytes',\n",
              "        'CD14 Monocytes', 'CD14 Monocytes', 'CD14 Monocytes',\n",
              "        'FCGR3A Monocytes', 'Dendritic', 'NK', 'CD14 Monocytes',\n",
              "        'CD14 Monocytes', 'FCGR3A Monocytes', 'CD14 Monocytes',\n",
              "        'CD14 Monocytes', 'CD14 Monocytes', 'CD14 Monocytes',\n",
              "        'CD14 Monocytes', 'CD14 Monocytes', 'CD14 Monocytes',\n",
              "        'CD14 Monocytes', 'CD14 Monocytes', 'CD14 Monocytes', 'NK',\n",
              "        'CD14 Monocytes', 'Dendritic', 'FCGR3A Monocytes',\n",
              "        'FCGR3A Monocytes', 'CD14 Monocytes', 'CD14 Monocytes',\n",
              "        'CD14 Monocytes', 'NK', 'FCGR3A Monocytes', 'FCGR3A Monocytes',\n",
              "        'CD14 Monocytes', 'CD14 Monocytes', 'CD8 T', 'CD14 Monocytes',\n",
              "        'FCGR3A Monocytes', 'NK', 'CD14 Monocytes', 'CD14 Monocytes',\n",
              "        'CD14 Monocytes', 'FCGR3A Monocytes', 'CD14 Monocytes',\n",
              "        'Dendritic', 'NK', 'CD14 Monocytes', 'CD14 Monocytes',\n",
              "        'CD14 Monocytes', 'NK', 'CD14 Monocytes', 'CD14 Monocytes',\n",
              "        'CD14 Monocytes', 'CD14 Monocytes', 'CD14 Monocytes',\n",
              "        'CD14 Monocytes', 'CD14 Monocytes', 'FCGR3A Monocytes',\n",
              "        'CD14 Monocytes', 'CD14 Monocytes', 'CD14 Monocytes', 'Dendritic',\n",
              "        'CD14 Monocytes', 'CD14 Monocytes', 'FCGR3A Monocytes',\n",
              "        'CD14 Monocytes', 'CD14 Monocytes', 'CD14 Monocytes', 'NK',\n",
              "        'FCGR3A Monocytes', 'CD14 Monocytes', 'CD8 T', 'CD14 Monocytes',\n",
              "        'CD14 Monocytes', 'CD14 Monocytes', 'CD14 Monocytes',\n",
              "        'CD14 Monocytes', 'CD14 Monocytes', 'CD14 Monocytes',\n",
              "        'FCGR3A Monocytes', 'CD14 Monocytes', 'CD14 Monocytes',\n",
              "        'CD14 Monocytes', 'CD14 Monocytes', 'CD14 Monocytes',\n",
              "        'CD14 Monocytes', 'CD14 Monocytes', 'FCGR3A Monocytes',\n",
              "        'CD14 Monocytes', 'CD14 Monocytes', 'CD14 Monocytes',\n",
              "        'CD14 Monocytes', 'CD14 Monocytes', 'CD14 Monocytes',\n",
              "        'CD14 Monocytes', 'CD14 Monocytes', 'CD4 T', 'CD14 Monocytes',\n",
              "        'FCGR3A Monocytes', 'CD14 Monocytes', 'CD14 Monocytes',\n",
              "        'CD14 Monocytes', 'CD8 T', 'Megakaryocytes', 'NK',\n",
              "        'CD14 Monocytes', 'FCGR3A Monocytes', 'NK', 'CD14 Monocytes',\n",
              "        'CD14 Monocytes', 'FCGR3A Monocytes', 'Dendritic',\n",
              "        'CD14 Monocytes', 'FCGR3A Monocytes', 'FCGR3A Monocytes',\n",
              "        'CD14 Monocytes', 'CD14 Monocytes', 'CD14 Monocytes',\n",
              "        'CD14 Monocytes', 'CD14 Monocytes', 'Megakaryocytes',\n",
              "        'CD14 Monocytes', 'CD14 Monocytes', 'CD14 Monocytes',\n",
              "        'FCGR3A Monocytes', 'CD14 Monocytes', 'FCGR3A Monocytes',\n",
              "        'CD14 Monocytes', 'CD14 Monocytes', 'CD14 Monocytes', 'NK',\n",
              "        'CD14 Monocytes', 'FCGR3A Monocytes', 'CD14 Monocytes',\n",
              "        'CD14 Monocytes', 'CD14 Monocytes', 'CD14 Monocytes',\n",
              "        'CD14 Monocytes', 'NK', 'NK', 'FCGR3A Monocytes', 'CD14 Monocytes',\n",
              "        'CD14 Monocytes', 'CD14 Monocytes', 'FCGR3A Monocytes',\n",
              "        'CD14 Monocytes', 'FCGR3A Monocytes', 'FCGR3A Monocytes',\n",
              "        'CD14 Monocytes', 'FCGR3A Monocytes', 'FCGR3A Monocytes',\n",
              "        'CD14 Monocytes', 'Dendritic', 'CD14 Monocytes', 'CD8 T',\n",
              "        'CD14 Monocytes', 'CD14 Monocytes', 'FCGR3A Monocytes',\n",
              "        'FCGR3A Monocytes', 'CD14 Monocytes', 'CD14 Monocytes',\n",
              "        'CD14 Monocytes', 'FCGR3A Monocytes', 'CD14 Monocytes',\n",
              "        'CD14 Monocytes', 'NK', 'CD14 Monocytes', 'FCGR3A Monocytes',\n",
              "        'CD14 Monocytes', 'NK', 'CD14 Monocytes', 'CD14 Monocytes',\n",
              "        'FCGR3A Monocytes', 'CD8 T', 'CD14 Monocytes', 'NK',\n",
              "        'CD14 Monocytes', 'CD14 Monocytes', 'FCGR3A Monocytes',\n",
              "        'CD14 Monocytes', 'CD14 Monocytes', 'FCGR3A Monocytes', 'CD8 T',\n",
              "        'CD14 Monocytes', 'CD14 Monocytes', 'FCGR3A Monocytes',\n",
              "        'CD14 Monocytes', 'Dendritic', 'CD14 Monocytes', 'CD14 Monocytes',\n",
              "        'CD14 Monocytes', 'NK', 'NK', 'CD14 Monocytes', 'CD14 Monocytes',\n",
              "        'CD14 Monocytes', 'NK', 'CD14 Monocytes', 'CD14 Monocytes',\n",
              "        'CD14 Monocytes', 'CD14 Monocytes', 'CD14 Monocytes',\n",
              "        'CD14 Monocytes', 'NK', 'CD14 Monocytes', 'CD14 Monocytes',\n",
              "        'Dendritic', 'FCGR3A Monocytes', 'NK', 'NK', 'CD14 Monocytes',\n",
              "        'CD14 Monocytes', 'CD14 Monocytes', 'CD14 Monocytes',\n",
              "        'FCGR3A Monocytes', 'CD14 Monocytes', 'NK', 'CD14 Monocytes', 'NK',\n",
              "        'CD14 Monocytes', 'NK', 'CD14 Monocytes', 'CD14 Monocytes',\n",
              "        'FCGR3A Monocytes', 'FCGR3A Monocytes', 'Dendritic', 'NK',\n",
              "        'CD14 Monocytes', 'CD14 Monocytes', 'CD14 Monocytes',\n",
              "        'CD14 Monocytes', 'CD14 Monocytes', 'Dendritic',\n",
              "        'FCGR3A Monocytes', 'CD14 Monocytes', 'NK', 'NK', 'CD14 Monocytes',\n",
              "        'FCGR3A Monocytes', 'NK', 'Dendritic', 'CD14 Monocytes',\n",
              "        'CD14 Monocytes', 'CD14 Monocytes', 'CD14 Monocytes',\n",
              "        'CD14 Monocytes', 'Dendritic', 'CD14 Monocytes', 'CD14 Monocytes',\n",
              "        'CD14 Monocytes', 'FCGR3A Monocytes', 'CD8 T', 'CD14 Monocytes',\n",
              "        'FCGR3A Monocytes', 'CD14 Monocytes', 'CD14 Monocytes',\n",
              "        'CD14 Monocytes', 'CD14 Monocytes', 'NK', 'FCGR3A Monocytes',\n",
              "        'CD14 Monocytes', 'Dendritic', 'CD8 T', 'CD14 Monocytes',\n",
              "        'CD14 Monocytes', 'CD14 Monocytes', 'FCGR3A Monocytes',\n",
              "        'CD14 Monocytes', 'Dendritic', 'CD14 Monocytes', 'NK',\n",
              "        'CD14 Monocytes', 'CD14 Monocytes'], dtype=object),\n",
              " 'y_input_grouped_labels': None}"
            ]
          },
          "metadata": {},
          "execution_count": 432
        }
      ]
    },
    {
      "cell_type": "code",
      "source": [
        "#initialisieren des local classifiers für den Myeloisch node\n",
        "hc.init_node_memory_object('Myeloisch', memory_class_params=[hc.graph.nodes['Myeloisch']['memory'].x_input_data, hc.graph.nodes['Myeloisch']['memory'].y_input_data, Neural_Network])"
      ],
      "metadata": {
        "colab": {
          "base_uri": "https://localhost:8080/"
        },
        "id": "kMEh54iaww_F",
        "outputId": "e6a6ac11-e1a1-4dc9-f992-f42d75f36bd4"
      },
      "execution_count": 433,
      "outputs": [
        {
          "output_type": "stream",
          "name": "stdout",
          "text": [
            "x_input_data from Node_Memory: [[-0.65018964  0.5909275   0.17820597 ...  0.7609098  -0.9427402\n",
            "   1.1240003 ]\n",
            " [ 1.3202016   0.6382091  -1.6076678  ... -1.3887111  -0.43054047\n",
            "  -1.2502768 ]\n",
            " [ 0.03016484 -0.13684195  0.38049364 ... -0.8243723  -0.4725106\n",
            "   0.7852393 ]\n",
            " ...\n",
            " [ 0.00502422  0.18570839  0.38839135 ... -0.05192301 -1.1637948\n",
            "   1.4046977 ]\n",
            " [ 1.5008779  -0.13873322 -0.09292659 ...  0.1126502  -1.7490447\n",
            "   1.5059206 ]\n",
            " [ 0.57691723 -0.09258436  0.77182037 ... -0.11639237  0.35169557\n",
            "   1.8422029 ]]\n",
            "mapping_dict from group_labels_.. method of node Myeloisch: {'FCGR3A Monocytes': [], 'Dendritic': [], 'CD14 Monocytes': []} before checking for annotation depth\n",
            "mapping_dict from group_labels_.. method of node Myeloisch: {'FCGR3A Monocytes': 'FCGR3A Monocytes', 'Dendritic': 'Dendritic', 'CD14 Monocytes': 'CD14 Monocytes'} after checking for annotation depth\n",
            "mapper for node Myeloisch: {'FCGR3A Monocytes': 'FCGR3A Monocytes', 'Dendritic': 'Dendritic', 'CD14 Monocytes': 'CD14 Monocytes'}\n",
            "y_input of this node before checking for wrong labels: ['NK' 'FCGR3A Monocytes' 'NK' 'CD14 Monocytes' 'CD14 Monocytes'\n",
            " 'CD14 Monocytes' 'CD14 Monocytes' 'CD14 Monocytes' 'CD14 Monocytes'\n",
            " 'CD14 Monocytes' 'NK' 'CD14 Monocytes' 'CD14 Monocytes' 'NK'\n",
            " 'FCGR3A Monocytes' 'FCGR3A Monocytes' 'CD14 Monocytes' 'CD14 Monocytes'\n",
            " 'NK' 'CD14 Monocytes' 'CD14 Monocytes' 'CD14 Monocytes' 'CD14 Monocytes'\n",
            " 'CD14 Monocytes' 'CD14 Monocytes' 'Dendritic' 'FCGR3A Monocytes'\n",
            " 'CD14 Monocytes' 'FCGR3A Monocytes' 'Dendritic' 'CD14 Monocytes' 'CD4 T'\n",
            " 'CD14 Monocytes' 'CD14 Monocytes' 'FCGR3A Monocytes' 'NK'\n",
            " 'CD14 Monocytes' 'FCGR3A Monocytes' 'CD14 Monocytes' 'FCGR3A Monocytes'\n",
            " 'CD8 T' 'CD14 Monocytes' 'Dendritic' 'CD14 Monocytes' 'CD14 Monocytes'\n",
            " 'Dendritic' 'CD14 Monocytes' 'FCGR3A Monocytes' 'FCGR3A Monocytes'\n",
            " 'CD14 Monocytes' 'FCGR3A Monocytes' 'FCGR3A Monocytes' 'CD14 Monocytes'\n",
            " 'NK' 'FCGR3A Monocytes' 'CD14 Monocytes' 'CD14 Monocytes'\n",
            " 'CD14 Monocytes' 'CD14 Monocytes' 'Megakaryocytes' 'CD14 Monocytes'\n",
            " 'CD14 Monocytes' 'CD14 Monocytes' 'NK' 'FCGR3A Monocytes'\n",
            " 'CD14 Monocytes' 'CD14 Monocytes' 'NK' 'Megakaryocytes' 'Dendritic'\n",
            " 'FCGR3A Monocytes' 'CD14 Monocytes' 'CD14 Monocytes' 'FCGR3A Monocytes'\n",
            " 'NK' 'CD14 Monocytes' 'CD14 Monocytes' 'CD14 Monocytes' 'CD14 Monocytes'\n",
            " 'NK' 'FCGR3A Monocytes' 'CD14 Monocytes' 'Dendritic' 'CD14 Monocytes'\n",
            " 'FCGR3A Monocytes' 'CD14 Monocytes' 'CD14 Monocytes' 'CD14 Monocytes'\n",
            " 'CD14 Monocytes' 'CD14 Monocytes' 'FCGR3A Monocytes' 'FCGR3A Monocytes'\n",
            " 'CD14 Monocytes' 'Dendritic' 'FCGR3A Monocytes' 'CD14 Monocytes'\n",
            " 'CD14 Monocytes' 'CD14 Monocytes' 'CD14 Monocytes' 'CD14 Monocytes'\n",
            " 'CD14 Monocytes' 'CD14 Monocytes' 'NK' 'CD14 Monocytes'\n",
            " 'FCGR3A Monocytes' 'CD14 Monocytes' 'CD14 Monocytes' 'CD14 Monocytes'\n",
            " 'CD14 Monocytes' 'FCGR3A Monocytes' 'CD14 Monocytes' 'CD14 Monocytes'\n",
            " 'NK' 'FCGR3A Monocytes' 'CD14 Monocytes' 'NK' 'NK' 'FCGR3A Monocytes'\n",
            " 'FCGR3A Monocytes' 'CD14 Monocytes' 'CD14 Monocytes' 'CD14 Monocytes'\n",
            " 'NK' 'CD14 Monocytes' 'CD14 Monocytes' 'FCGR3A Monocytes' 'NK' 'NK'\n",
            " 'FCGR3A Monocytes' 'CD14 Monocytes' 'CD14 Monocytes' 'CD14 Monocytes'\n",
            " 'CD14 Monocytes' 'FCGR3A Monocytes' 'CD14 Monocytes' 'CD14 Monocytes'\n",
            " 'CD14 Monocytes' 'Dendritic' 'CD14 Monocytes' 'CD14 Monocytes'\n",
            " 'CD14 Monocytes' 'CD14 Monocytes' 'CD14 Monocytes' 'CD14 Monocytes' 'NK'\n",
            " 'FCGR3A Monocytes' 'CD14 Monocytes' 'CD14 Monocytes' 'CD14 Monocytes'\n",
            " 'CD14 Monocytes' 'NK' 'CD14 Monocytes' 'CD14 Monocytes' 'CD14 Monocytes'\n",
            " 'CD14 Monocytes' 'FCGR3A Monocytes' 'CD14 Monocytes' 'CD8 T'\n",
            " 'CD14 Monocytes' 'CD14 Monocytes' 'CD14 Monocytes' 'CD14 Monocytes'\n",
            " 'CD14 Monocytes' 'CD14 Monocytes' 'CD14 Monocytes' 'CD14 Monocytes' 'NK'\n",
            " 'NK' 'FCGR3A Monocytes' 'FCGR3A Monocytes' 'NK' 'FCGR3A Monocytes'\n",
            " 'FCGR3A Monocytes' 'CD14 Monocytes' 'CD14 Monocytes' 'CD14 Monocytes'\n",
            " 'CD14 Monocytes' 'CD14 Monocytes' 'FCGR3A Monocytes' 'Dendritic'\n",
            " 'CD14 Monocytes' 'CD14 Monocytes' 'CD14 Monocytes' 'CD14 Monocytes'\n",
            " 'FCGR3A Monocytes' 'CD14 Monocytes' 'Megakaryocytes' 'CD14 Monocytes'\n",
            " 'FCGR3A Monocytes' 'CD14 Monocytes' 'CD14 Monocytes' 'NK'\n",
            " 'CD14 Monocytes' 'Dendritic' 'NK' 'NK' 'CD14 Monocytes' 'CD14 Monocytes'\n",
            " 'CD14 Monocytes' 'CD14 Monocytes'] and its shape: (661,)\n",
            "y_input of this node after checking for wrong labels: ['FCGR3A Monocytes' 'CD14 Monocytes' 'CD14 Monocytes' 'CD14 Monocytes'\n",
            " 'CD14 Monocytes' 'CD14 Monocytes' 'CD14 Monocytes' 'CD14 Monocytes'\n",
            " 'CD14 Monocytes' 'CD14 Monocytes' 'FCGR3A Monocytes' 'FCGR3A Monocytes'\n",
            " 'CD14 Monocytes' 'CD14 Monocytes' 'CD14 Monocytes' 'CD14 Monocytes'\n",
            " 'CD14 Monocytes' 'CD14 Monocytes' 'CD14 Monocytes' 'CD14 Monocytes'\n",
            " 'Dendritic' 'FCGR3A Monocytes' 'CD14 Monocytes' 'FCGR3A Monocytes'\n",
            " 'Dendritic' 'CD14 Monocytes' 'CD14 Monocytes' 'CD14 Monocytes'\n",
            " 'FCGR3A Monocytes' 'CD14 Monocytes' 'FCGR3A Monocytes' 'CD14 Monocytes'\n",
            " 'FCGR3A Monocytes' 'CD14 Monocytes' 'Dendritic' 'CD14 Monocytes'\n",
            " 'CD14 Monocytes' 'Dendritic' 'CD14 Monocytes' 'FCGR3A Monocytes'\n",
            " 'FCGR3A Monocytes' 'CD14 Monocytes' 'FCGR3A Monocytes' 'FCGR3A Monocytes'\n",
            " 'CD14 Monocytes' 'FCGR3A Monocytes' 'CD14 Monocytes' 'CD14 Monocytes'\n",
            " 'CD14 Monocytes' 'CD14 Monocytes' 'CD14 Monocytes' 'CD14 Monocytes'\n",
            " 'CD14 Monocytes' 'FCGR3A Monocytes' 'CD14 Monocytes' 'CD14 Monocytes'\n",
            " 'Dendritic' 'FCGR3A Monocytes' 'CD14 Monocytes' 'CD14 Monocytes'\n",
            " 'FCGR3A Monocytes' 'CD14 Monocytes' 'CD14 Monocytes' 'CD14 Monocytes'\n",
            " 'CD14 Monocytes' 'FCGR3A Monocytes' 'CD14 Monocytes' 'Dendritic'\n",
            " 'CD14 Monocytes' 'FCGR3A Monocytes' 'CD14 Monocytes' 'CD14 Monocytes'\n",
            " 'CD14 Monocytes' 'CD14 Monocytes' 'CD14 Monocytes' 'FCGR3A Monocytes'\n",
            " 'FCGR3A Monocytes' 'CD14 Monocytes' 'Dendritic' 'FCGR3A Monocytes'\n",
            " 'CD14 Monocytes' 'CD14 Monocytes' 'CD14 Monocytes' 'CD14 Monocytes'\n",
            " 'CD14 Monocytes' 'CD14 Monocytes' 'CD14 Monocytes' 'CD14 Monocytes'\n",
            " 'FCGR3A Monocytes' 'CD14 Monocytes' 'CD14 Monocytes' 'CD14 Monocytes'\n",
            " 'CD14 Monocytes' 'FCGR3A Monocytes' 'CD14 Monocytes' 'CD14 Monocytes'\n",
            " 'FCGR3A Monocytes' 'CD14 Monocytes' 'FCGR3A Monocytes' 'FCGR3A Monocytes'\n",
            " 'CD14 Monocytes' 'CD14 Monocytes' 'CD14 Monocytes' 'CD14 Monocytes'\n",
            " 'CD14 Monocytes' 'FCGR3A Monocytes' 'FCGR3A Monocytes' 'CD14 Monocytes'\n",
            " 'CD14 Monocytes' 'CD14 Monocytes' 'CD14 Monocytes' 'FCGR3A Monocytes'\n",
            " 'CD14 Monocytes' 'CD14 Monocytes' 'CD14 Monocytes' 'Dendritic'\n",
            " 'CD14 Monocytes' 'CD14 Monocytes' 'CD14 Monocytes' 'CD14 Monocytes'\n",
            " 'CD14 Monocytes' 'CD14 Monocytes' 'FCGR3A Monocytes' 'CD14 Monocytes'\n",
            " 'CD14 Monocytes' 'CD14 Monocytes' 'CD14 Monocytes' 'CD14 Monocytes'\n",
            " 'CD14 Monocytes' 'CD14 Monocytes' 'CD14 Monocytes' 'FCGR3A Monocytes'\n",
            " 'CD14 Monocytes' 'CD14 Monocytes' 'CD14 Monocytes' 'CD14 Monocytes'\n",
            " 'CD14 Monocytes' 'CD14 Monocytes' 'CD14 Monocytes' 'CD14 Monocytes'\n",
            " 'CD14 Monocytes' 'FCGR3A Monocytes' 'FCGR3A Monocytes' 'FCGR3A Monocytes'\n",
            " 'FCGR3A Monocytes' 'CD14 Monocytes' 'CD14 Monocytes' 'CD14 Monocytes'\n",
            " 'CD14 Monocytes' 'CD14 Monocytes' 'FCGR3A Monocytes' 'Dendritic'\n",
            " 'CD14 Monocytes' 'CD14 Monocytes' 'CD14 Monocytes' 'CD14 Monocytes'\n",
            " 'FCGR3A Monocytes' 'CD14 Monocytes' 'CD14 Monocytes' 'FCGR3A Monocytes'\n",
            " 'CD14 Monocytes' 'CD14 Monocytes' 'CD14 Monocytes' 'Dendritic'\n",
            " 'CD14 Monocytes' 'CD14 Monocytes' 'CD14 Monocytes' 'CD14 Monocytes'\n",
            " 'CD14 Monocytes' 'CD14 Monocytes' 'CD14 Monocytes' 'CD14 Monocytes'\n",
            " 'FCGR3A Monocytes' 'CD14 Monocytes' 'CD14 Monocytes' 'CD14 Monocytes'\n",
            " 'CD14 Monocytes' 'CD14 Monocytes' 'CD14 Monocytes' 'CD14 Monocytes'\n",
            " 'FCGR3A Monocytes' 'FCGR3A Monocytes' 'CD14 Monocytes' 'CD14 Monocytes'\n",
            " 'CD14 Monocytes' 'CD14 Monocytes' 'CD14 Monocytes' 'FCGR3A Monocytes'\n",
            " 'CD14 Monocytes' 'CD14 Monocytes' 'CD14 Monocytes' 'CD14 Monocytes'\n",
            " 'CD14 Monocytes' 'Dendritic' 'FCGR3A Monocytes' 'CD14 Monocytes'\n",
            " 'CD14 Monocytes' 'CD14 Monocytes' 'FCGR3A Monocytes' 'CD14 Monocytes'] and its shape: (559,)\n",
            "Aus init_node_memory_object von Knoten Myeloisch: output größe initialisiert als 3\n",
            "zu übergebene y_input daten: ['FCGR3A Monocytes', 'CD14 Monocytes', 'CD14 Monocytes', 'CD14 Monocytes', 'CD14 Monocytes', 'CD14 Monocytes', 'CD14 Monocytes', 'CD14 Monocytes', 'CD14 Monocytes', 'CD14 Monocytes', 'FCGR3A Monocytes', 'FCGR3A Monocytes', 'CD14 Monocytes', 'CD14 Monocytes', 'CD14 Monocytes', 'CD14 Monocytes', 'CD14 Monocytes', 'CD14 Monocytes', 'CD14 Monocytes', 'CD14 Monocytes', 'Dendritic', 'FCGR3A Monocytes', 'CD14 Monocytes', 'FCGR3A Monocytes', 'Dendritic', 'CD14 Monocytes', 'CD14 Monocytes', 'CD14 Monocytes', 'FCGR3A Monocytes', 'CD14 Monocytes', 'FCGR3A Monocytes', 'CD14 Monocytes', 'FCGR3A Monocytes', 'CD14 Monocytes', 'Dendritic', 'CD14 Monocytes', 'CD14 Monocytes', 'Dendritic', 'CD14 Monocytes', 'FCGR3A Monocytes', 'FCGR3A Monocytes', 'CD14 Monocytes', 'FCGR3A Monocytes', 'FCGR3A Monocytes', 'CD14 Monocytes', 'FCGR3A Monocytes', 'CD14 Monocytes', 'CD14 Monocytes', 'CD14 Monocytes', 'CD14 Monocytes', 'CD14 Monocytes', 'CD14 Monocytes', 'CD14 Monocytes', 'FCGR3A Monocytes', 'CD14 Monocytes', 'CD14 Monocytes', 'Dendritic', 'FCGR3A Monocytes', 'CD14 Monocytes', 'CD14 Monocytes', 'FCGR3A Monocytes', 'CD14 Monocytes', 'CD14 Monocytes', 'CD14 Monocytes', 'CD14 Monocytes', 'FCGR3A Monocytes', 'CD14 Monocytes', 'Dendritic', 'CD14 Monocytes', 'FCGR3A Monocytes', 'CD14 Monocytes', 'CD14 Monocytes', 'CD14 Monocytes', 'CD14 Monocytes', 'CD14 Monocytes', 'FCGR3A Monocytes', 'FCGR3A Monocytes', 'CD14 Monocytes', 'Dendritic', 'FCGR3A Monocytes', 'CD14 Monocytes', 'CD14 Monocytes', 'CD14 Monocytes', 'CD14 Monocytes', 'CD14 Monocytes', 'CD14 Monocytes', 'CD14 Monocytes', 'CD14 Monocytes', 'FCGR3A Monocytes', 'CD14 Monocytes', 'CD14 Monocytes', 'CD14 Monocytes', 'CD14 Monocytes', 'FCGR3A Monocytes', 'CD14 Monocytes', 'CD14 Monocytes', 'FCGR3A Monocytes', 'CD14 Monocytes', 'FCGR3A Monocytes', 'FCGR3A Monocytes', 'CD14 Monocytes', 'CD14 Monocytes', 'CD14 Monocytes', 'CD14 Monocytes', 'CD14 Monocytes', 'FCGR3A Monocytes', 'FCGR3A Monocytes', 'CD14 Monocytes', 'CD14 Monocytes', 'CD14 Monocytes', 'CD14 Monocytes', 'FCGR3A Monocytes', 'CD14 Monocytes', 'CD14 Monocytes', 'CD14 Monocytes', 'Dendritic', 'CD14 Monocytes', 'CD14 Monocytes', 'CD14 Monocytes', 'CD14 Monocytes', 'CD14 Monocytes', 'CD14 Monocytes', 'FCGR3A Monocytes', 'CD14 Monocytes', 'CD14 Monocytes', 'CD14 Monocytes', 'CD14 Monocytes', 'CD14 Monocytes', 'CD14 Monocytes', 'CD14 Monocytes', 'CD14 Monocytes', 'FCGR3A Monocytes', 'CD14 Monocytes', 'CD14 Monocytes', 'CD14 Monocytes', 'CD14 Monocytes', 'CD14 Monocytes', 'CD14 Monocytes', 'CD14 Monocytes', 'CD14 Monocytes', 'CD14 Monocytes', 'FCGR3A Monocytes', 'FCGR3A Monocytes', 'FCGR3A Monocytes', 'FCGR3A Monocytes', 'CD14 Monocytes', 'CD14 Monocytes', 'CD14 Monocytes', 'CD14 Monocytes', 'CD14 Monocytes', 'FCGR3A Monocytes', 'Dendritic', 'CD14 Monocytes', 'CD14 Monocytes', 'CD14 Monocytes', 'CD14 Monocytes', 'FCGR3A Monocytes', 'CD14 Monocytes', 'CD14 Monocytes', 'FCGR3A Monocytes', 'CD14 Monocytes', 'CD14 Monocytes', 'CD14 Monocytes', 'Dendritic', 'CD14 Monocytes', 'CD14 Monocytes', 'CD14 Monocytes', 'CD14 Monocytes', 'CD14 Monocytes', 'CD14 Monocytes', 'CD14 Monocytes', 'CD14 Monocytes', 'FCGR3A Monocytes', 'CD14 Monocytes', 'CD14 Monocytes', 'CD14 Monocytes', 'CD14 Monocytes', 'CD14 Monocytes', 'CD14 Monocytes', 'CD14 Monocytes', 'FCGR3A Monocytes', 'FCGR3A Monocytes', 'CD14 Monocytes', 'CD14 Monocytes', 'CD14 Monocytes', 'CD14 Monocytes', 'CD14 Monocytes', 'FCGR3A Monocytes', 'CD14 Monocytes', 'CD14 Monocytes', 'CD14 Monocytes', 'CD14 Monocytes', 'CD14 Monocytes', 'Dendritic', 'FCGR3A Monocytes', 'CD14 Monocytes', 'CD14 Monocytes', 'CD14 Monocytes', 'FCGR3A Monocytes', 'CD14 Monocytes', 'CD14 Monocytes', 'CD14 Monocytes', 'FCGR3A Monocytes', 'CD14 Monocytes', 'CD14 Monocytes', 'FCGR3A Monocytes', 'CD14 Monocytes', 'CD14 Monocytes', 'CD14 Monocytes', 'CD14 Monocytes', 'CD14 Monocytes', 'CD14 Monocytes', 'CD14 Monocytes', 'CD14 Monocytes', 'CD14 Monocytes', 'CD14 Monocytes', 'CD14 Monocytes', 'CD14 Monocytes', 'CD14 Monocytes', 'CD14 Monocytes', 'CD14 Monocytes', 'CD14 Monocytes', 'CD14 Monocytes', 'CD14 Monocytes', 'CD14 Monocytes', 'CD14 Monocytes', 'CD14 Monocytes', 'CD14 Monocytes', 'CD14 Monocytes', 'CD14 Monocytes', 'CD14 Monocytes', 'CD14 Monocytes', 'CD14 Monocytes', 'FCGR3A Monocytes', 'CD14 Monocytes', 'CD14 Monocytes', 'CD14 Monocytes', 'CD14 Monocytes', 'FCGR3A Monocytes', 'CD14 Monocytes', 'CD14 Monocytes', 'CD14 Monocytes', 'CD14 Monocytes', 'FCGR3A Monocytes', 'CD14 Monocytes', 'CD14 Monocytes', 'CD14 Monocytes', 'CD14 Monocytes', 'CD14 Monocytes', 'Dendritic', 'CD14 Monocytes', 'CD14 Monocytes', 'CD14 Monocytes', 'CD14 Monocytes', 'CD14 Monocytes', 'CD14 Monocytes', 'FCGR3A Monocytes', 'FCGR3A Monocytes', 'CD14 Monocytes', 'CD14 Monocytes', 'CD14 Monocytes', 'CD14 Monocytes', 'FCGR3A Monocytes', 'CD14 Monocytes', 'CD14 Monocytes', 'FCGR3A Monocytes', 'FCGR3A Monocytes', 'CD14 Monocytes', 'CD14 Monocytes', 'CD14 Monocytes', 'CD14 Monocytes', 'FCGR3A Monocytes', 'CD14 Monocytes', 'FCGR3A Monocytes', 'CD14 Monocytes', 'CD14 Monocytes', 'FCGR3A Monocytes', 'FCGR3A Monocytes', 'CD14 Monocytes', 'CD14 Monocytes', 'CD14 Monocytes', 'CD14 Monocytes', 'CD14 Monocytes', 'CD14 Monocytes', 'CD14 Monocytes', 'Dendritic', 'CD14 Monocytes', 'CD14 Monocytes', 'FCGR3A Monocytes', 'CD14 Monocytes', 'CD14 Monocytes', 'CD14 Monocytes', 'CD14 Monocytes', 'CD14 Monocytes', 'CD14 Monocytes', 'CD14 Monocytes', 'FCGR3A Monocytes', 'Dendritic', 'CD14 Monocytes', 'CD14 Monocytes', 'FCGR3A Monocytes', 'CD14 Monocytes', 'CD14 Monocytes', 'CD14 Monocytes', 'CD14 Monocytes', 'Dendritic', 'CD14 Monocytes', 'FCGR3A Monocytes', 'CD14 Monocytes', 'FCGR3A Monocytes', 'FCGR3A Monocytes', 'Dendritic', 'CD14 Monocytes', 'CD14 Monocytes', 'FCGR3A Monocytes', 'CD14 Monocytes', 'CD14 Monocytes', 'CD14 Monocytes', 'CD14 Monocytes', 'CD14 Monocytes', 'CD14 Monocytes', 'FCGR3A Monocytes', 'CD14 Monocytes', 'CD14 Monocytes', 'CD14 Monocytes', 'FCGR3A Monocytes', 'CD14 Monocytes', 'CD14 Monocytes', 'CD14 Monocytes', 'CD14 Monocytes', 'CD14 Monocytes', 'CD14 Monocytes', 'CD14 Monocytes', 'FCGR3A Monocytes', 'Dendritic', 'CD14 Monocytes', 'CD14 Monocytes', 'FCGR3A Monocytes', 'CD14 Monocytes', 'CD14 Monocytes', 'CD14 Monocytes', 'CD14 Monocytes', 'CD14 Monocytes', 'CD14 Monocytes', 'CD14 Monocytes', 'CD14 Monocytes', 'CD14 Monocytes', 'CD14 Monocytes', 'CD14 Monocytes', 'Dendritic', 'FCGR3A Monocytes', 'FCGR3A Monocytes', 'CD14 Monocytes', 'CD14 Monocytes', 'CD14 Monocytes', 'FCGR3A Monocytes', 'FCGR3A Monocytes', 'CD14 Monocytes', 'CD14 Monocytes', 'CD14 Monocytes', 'FCGR3A Monocytes', 'CD14 Monocytes', 'CD14 Monocytes', 'CD14 Monocytes', 'FCGR3A Monocytes', 'CD14 Monocytes', 'Dendritic', 'CD14 Monocytes', 'CD14 Monocytes', 'CD14 Monocytes', 'CD14 Monocytes', 'CD14 Monocytes', 'CD14 Monocytes', 'CD14 Monocytes', 'CD14 Monocytes', 'CD14 Monocytes', 'CD14 Monocytes', 'FCGR3A Monocytes', 'CD14 Monocytes', 'CD14 Monocytes', 'CD14 Monocytes', 'Dendritic', 'CD14 Monocytes', 'CD14 Monocytes', 'FCGR3A Monocytes', 'CD14 Monocytes', 'CD14 Monocytes', 'CD14 Monocytes', 'FCGR3A Monocytes', 'CD14 Monocytes', 'CD14 Monocytes', 'CD14 Monocytes', 'CD14 Monocytes', 'CD14 Monocytes', 'CD14 Monocytes', 'CD14 Monocytes', 'CD14 Monocytes', 'FCGR3A Monocytes', 'CD14 Monocytes', 'CD14 Monocytes', 'CD14 Monocytes', 'CD14 Monocytes', 'CD14 Monocytes', 'CD14 Monocytes', 'CD14 Monocytes', 'FCGR3A Monocytes', 'CD14 Monocytes', 'CD14 Monocytes', 'CD14 Monocytes', 'CD14 Monocytes', 'CD14 Monocytes', 'CD14 Monocytes', 'CD14 Monocytes', 'CD14 Monocytes', 'CD14 Monocytes', 'FCGR3A Monocytes', 'CD14 Monocytes', 'CD14 Monocytes', 'CD14 Monocytes', 'CD14 Monocytes', 'FCGR3A Monocytes', 'CD14 Monocytes', 'CD14 Monocytes', 'FCGR3A Monocytes', 'Dendritic', 'CD14 Monocytes', 'FCGR3A Monocytes', 'FCGR3A Monocytes', 'CD14 Monocytes', 'CD14 Monocytes', 'CD14 Monocytes', 'CD14 Monocytes', 'CD14 Monocytes', 'CD14 Monocytes', 'CD14 Monocytes', 'CD14 Monocytes', 'FCGR3A Monocytes', 'CD14 Monocytes', 'FCGR3A Monocytes', 'CD14 Monocytes', 'CD14 Monocytes', 'CD14 Monocytes', 'CD14 Monocytes', 'FCGR3A Monocytes', 'CD14 Monocytes', 'CD14 Monocytes', 'CD14 Monocytes', 'CD14 Monocytes', 'CD14 Monocytes', 'FCGR3A Monocytes', 'CD14 Monocytes', 'CD14 Monocytes', 'CD14 Monocytes', 'FCGR3A Monocytes', 'CD14 Monocytes', 'FCGR3A Monocytes', 'FCGR3A Monocytes', 'CD14 Monocytes', 'FCGR3A Monocytes', 'FCGR3A Monocytes', 'CD14 Monocytes', 'Dendritic', 'CD14 Monocytes', 'CD14 Monocytes', 'CD14 Monocytes', 'FCGR3A Monocytes', 'FCGR3A Monocytes', 'CD14 Monocytes', 'CD14 Monocytes', 'CD14 Monocytes', 'FCGR3A Monocytes', 'CD14 Monocytes', 'CD14 Monocytes', 'CD14 Monocytes', 'FCGR3A Monocytes', 'CD14 Monocytes', 'CD14 Monocytes', 'CD14 Monocytes', 'FCGR3A Monocytes', 'CD14 Monocytes', 'CD14 Monocytes', 'CD14 Monocytes', 'FCGR3A Monocytes', 'CD14 Monocytes', 'CD14 Monocytes', 'FCGR3A Monocytes', 'CD14 Monocytes', 'CD14 Monocytes', 'FCGR3A Monocytes', 'CD14 Monocytes', 'Dendritic', 'CD14 Monocytes', 'CD14 Monocytes', 'CD14 Monocytes', 'CD14 Monocytes', 'CD14 Monocytes', 'CD14 Monocytes', 'CD14 Monocytes', 'CD14 Monocytes', 'CD14 Monocytes', 'CD14 Monocytes', 'CD14 Monocytes', 'CD14 Monocytes', 'CD14 Monocytes', 'CD14 Monocytes', 'Dendritic', 'FCGR3A Monocytes', 'CD14 Monocytes', 'CD14 Monocytes', 'CD14 Monocytes', 'CD14 Monocytes', 'FCGR3A Monocytes', 'CD14 Monocytes', 'CD14 Monocytes', 'CD14 Monocytes', 'CD14 Monocytes', 'CD14 Monocytes', 'FCGR3A Monocytes', 'FCGR3A Monocytes', 'Dendritic', 'CD14 Monocytes', 'CD14 Monocytes', 'CD14 Monocytes', 'CD14 Monocytes', 'CD14 Monocytes', 'Dendritic', 'FCGR3A Monocytes', 'CD14 Monocytes', 'CD14 Monocytes', 'FCGR3A Monocytes', 'Dendritic', 'CD14 Monocytes', 'CD14 Monocytes', 'CD14 Monocytes', 'CD14 Monocytes', 'CD14 Monocytes', 'Dendritic', 'CD14 Monocytes', 'CD14 Monocytes', 'CD14 Monocytes', 'FCGR3A Monocytes', 'CD14 Monocytes', 'FCGR3A Monocytes', 'CD14 Monocytes', 'CD14 Monocytes', 'CD14 Monocytes', 'CD14 Monocytes', 'FCGR3A Monocytes', 'CD14 Monocytes', 'Dendritic', 'CD14 Monocytes', 'CD14 Monocytes', 'CD14 Monocytes', 'FCGR3A Monocytes', 'CD14 Monocytes', 'Dendritic', 'CD14 Monocytes', 'CD14 Monocytes', 'CD14 Monocytes']\n"
          ]
        }
      ]
    },
    {
      "cell_type": "code",
      "source": [
        "hc.run_local_classifier('Myeloisch')"
      ],
      "metadata": {
        "colab": {
          "base_uri": "https://localhost:8080/"
        },
        "id": "SfjzJDFLwrZx",
        "outputId": "f100f982-dc85-4e38-ba0b-eb54d26ac99d"
      },
      "execution_count": 434,
      "outputs": [
        {
          "output_type": "stream",
          "name": "stdout",
          "text": [
            "network y_input before encoding: ['FCGR3A Monocytes', 'CD14 Monocytes', 'CD14 Monocytes', 'CD14 Monocytes', 'CD14 Monocytes', 'CD14 Monocytes', 'CD14 Monocytes', 'CD14 Monocytes', 'CD14 Monocytes', 'CD14 Monocytes', 'FCGR3A Monocytes', 'FCGR3A Monocytes', 'CD14 Monocytes', 'CD14 Monocytes', 'CD14 Monocytes', 'CD14 Monocytes', 'CD14 Monocytes', 'CD14 Monocytes', 'CD14 Monocytes', 'CD14 Monocytes', 'Dendritic', 'FCGR3A Monocytes', 'CD14 Monocytes', 'FCGR3A Monocytes', 'Dendritic', 'CD14 Monocytes', 'CD14 Monocytes', 'CD14 Monocytes', 'FCGR3A Monocytes', 'CD14 Monocytes', 'FCGR3A Monocytes', 'CD14 Monocytes', 'FCGR3A Monocytes', 'CD14 Monocytes', 'Dendritic', 'CD14 Monocytes', 'CD14 Monocytes', 'Dendritic', 'CD14 Monocytes', 'FCGR3A Monocytes', 'FCGR3A Monocytes', 'CD14 Monocytes', 'FCGR3A Monocytes', 'FCGR3A Monocytes', 'CD14 Monocytes', 'FCGR3A Monocytes', 'CD14 Monocytes', 'CD14 Monocytes', 'CD14 Monocytes', 'CD14 Monocytes', 'CD14 Monocytes', 'CD14 Monocytes', 'CD14 Monocytes', 'FCGR3A Monocytes', 'CD14 Monocytes', 'CD14 Monocytes', 'Dendritic', 'FCGR3A Monocytes', 'CD14 Monocytes', 'CD14 Monocytes', 'FCGR3A Monocytes', 'CD14 Monocytes', 'CD14 Monocytes', 'CD14 Monocytes', 'CD14 Monocytes', 'FCGR3A Monocytes', 'CD14 Monocytes', 'Dendritic', 'CD14 Monocytes', 'FCGR3A Monocytes', 'CD14 Monocytes', 'CD14 Monocytes', 'CD14 Monocytes', 'CD14 Monocytes', 'CD14 Monocytes', 'FCGR3A Monocytes', 'FCGR3A Monocytes', 'CD14 Monocytes', 'Dendritic', 'FCGR3A Monocytes', 'CD14 Monocytes', 'CD14 Monocytes', 'CD14 Monocytes', 'CD14 Monocytes', 'CD14 Monocytes', 'CD14 Monocytes', 'CD14 Monocytes', 'CD14 Monocytes', 'FCGR3A Monocytes', 'CD14 Monocytes', 'CD14 Monocytes', 'CD14 Monocytes', 'CD14 Monocytes', 'FCGR3A Monocytes', 'CD14 Monocytes', 'CD14 Monocytes', 'FCGR3A Monocytes', 'CD14 Monocytes', 'FCGR3A Monocytes', 'FCGR3A Monocytes', 'CD14 Monocytes', 'CD14 Monocytes', 'CD14 Monocytes', 'CD14 Monocytes', 'CD14 Monocytes', 'FCGR3A Monocytes', 'FCGR3A Monocytes', 'CD14 Monocytes', 'CD14 Monocytes', 'CD14 Monocytes', 'CD14 Monocytes', 'FCGR3A Monocytes', 'CD14 Monocytes', 'CD14 Monocytes', 'CD14 Monocytes', 'Dendritic', 'CD14 Monocytes', 'CD14 Monocytes', 'CD14 Monocytes', 'CD14 Monocytes', 'CD14 Monocytes', 'CD14 Monocytes', 'FCGR3A Monocytes', 'CD14 Monocytes', 'CD14 Monocytes', 'CD14 Monocytes', 'CD14 Monocytes', 'CD14 Monocytes', 'CD14 Monocytes', 'CD14 Monocytes', 'CD14 Monocytes', 'FCGR3A Monocytes', 'CD14 Monocytes', 'CD14 Monocytes', 'CD14 Monocytes', 'CD14 Monocytes', 'CD14 Monocytes', 'CD14 Monocytes', 'CD14 Monocytes', 'CD14 Monocytes', 'CD14 Monocytes', 'FCGR3A Monocytes', 'FCGR3A Monocytes', 'FCGR3A Monocytes', 'FCGR3A Monocytes', 'CD14 Monocytes', 'CD14 Monocytes', 'CD14 Monocytes', 'CD14 Monocytes', 'CD14 Monocytes', 'FCGR3A Monocytes', 'Dendritic', 'CD14 Monocytes', 'CD14 Monocytes', 'CD14 Monocytes', 'CD14 Monocytes', 'FCGR3A Monocytes', 'CD14 Monocytes', 'CD14 Monocytes', 'FCGR3A Monocytes', 'CD14 Monocytes', 'CD14 Monocytes', 'CD14 Monocytes', 'Dendritic', 'CD14 Monocytes', 'CD14 Monocytes', 'CD14 Monocytes', 'CD14 Monocytes', 'CD14 Monocytes', 'CD14 Monocytes', 'CD14 Monocytes', 'CD14 Monocytes', 'FCGR3A Monocytes', 'CD14 Monocytes', 'CD14 Monocytes', 'CD14 Monocytes', 'CD14 Monocytes', 'CD14 Monocytes', 'CD14 Monocytes', 'CD14 Monocytes', 'FCGR3A Monocytes', 'FCGR3A Monocytes', 'CD14 Monocytes', 'CD14 Monocytes', 'CD14 Monocytes', 'CD14 Monocytes', 'CD14 Monocytes', 'FCGR3A Monocytes', 'CD14 Monocytes', 'CD14 Monocytes', 'CD14 Monocytes', 'CD14 Monocytes', 'CD14 Monocytes', 'Dendritic', 'FCGR3A Monocytes', 'CD14 Monocytes', 'CD14 Monocytes', 'CD14 Monocytes', 'FCGR3A Monocytes', 'CD14 Monocytes', 'CD14 Monocytes', 'CD14 Monocytes', 'FCGR3A Monocytes', 'CD14 Monocytes', 'CD14 Monocytes', 'FCGR3A Monocytes', 'CD14 Monocytes', 'CD14 Monocytes', 'CD14 Monocytes', 'CD14 Monocytes', 'CD14 Monocytes', 'CD14 Monocytes', 'CD14 Monocytes', 'CD14 Monocytes', 'CD14 Monocytes', 'CD14 Monocytes', 'CD14 Monocytes', 'CD14 Monocytes', 'CD14 Monocytes', 'CD14 Monocytes', 'CD14 Monocytes', 'CD14 Monocytes', 'CD14 Monocytes', 'CD14 Monocytes', 'CD14 Monocytes', 'CD14 Monocytes', 'CD14 Monocytes', 'CD14 Monocytes', 'CD14 Monocytes', 'CD14 Monocytes', 'CD14 Monocytes', 'CD14 Monocytes', 'CD14 Monocytes', 'FCGR3A Monocytes', 'CD14 Monocytes', 'CD14 Monocytes', 'CD14 Monocytes', 'CD14 Monocytes', 'FCGR3A Monocytes', 'CD14 Monocytes', 'CD14 Monocytes', 'CD14 Monocytes', 'CD14 Monocytes', 'FCGR3A Monocytes', 'CD14 Monocytes', 'CD14 Monocytes', 'CD14 Monocytes', 'CD14 Monocytes', 'CD14 Monocytes', 'Dendritic', 'CD14 Monocytes', 'CD14 Monocytes', 'CD14 Monocytes', 'CD14 Monocytes', 'CD14 Monocytes', 'CD14 Monocytes', 'FCGR3A Monocytes', 'FCGR3A Monocytes', 'CD14 Monocytes', 'CD14 Monocytes', 'CD14 Monocytes', 'CD14 Monocytes', 'FCGR3A Monocytes', 'CD14 Monocytes', 'CD14 Monocytes', 'FCGR3A Monocytes', 'FCGR3A Monocytes', 'CD14 Monocytes', 'CD14 Monocytes', 'CD14 Monocytes', 'CD14 Monocytes', 'FCGR3A Monocytes', 'CD14 Monocytes', 'FCGR3A Monocytes', 'CD14 Monocytes', 'CD14 Monocytes', 'FCGR3A Monocytes', 'FCGR3A Monocytes', 'CD14 Monocytes', 'CD14 Monocytes', 'CD14 Monocytes', 'CD14 Monocytes', 'CD14 Monocytes', 'CD14 Monocytes', 'CD14 Monocytes', 'Dendritic', 'CD14 Monocytes', 'CD14 Monocytes', 'FCGR3A Monocytes', 'CD14 Monocytes', 'CD14 Monocytes', 'CD14 Monocytes', 'CD14 Monocytes', 'CD14 Monocytes', 'CD14 Monocytes', 'CD14 Monocytes', 'FCGR3A Monocytes', 'Dendritic', 'CD14 Monocytes', 'CD14 Monocytes', 'FCGR3A Monocytes', 'CD14 Monocytes', 'CD14 Monocytes', 'CD14 Monocytes', 'CD14 Monocytes', 'Dendritic', 'CD14 Monocytes', 'FCGR3A Monocytes', 'CD14 Monocytes', 'FCGR3A Monocytes', 'FCGR3A Monocytes', 'Dendritic', 'CD14 Monocytes', 'CD14 Monocytes', 'FCGR3A Monocytes', 'CD14 Monocytes', 'CD14 Monocytes', 'CD14 Monocytes', 'CD14 Monocytes', 'CD14 Monocytes', 'CD14 Monocytes', 'FCGR3A Monocytes', 'CD14 Monocytes', 'CD14 Monocytes', 'CD14 Monocytes', 'FCGR3A Monocytes', 'CD14 Monocytes', 'CD14 Monocytes', 'CD14 Monocytes', 'CD14 Monocytes', 'CD14 Monocytes', 'CD14 Monocytes', 'CD14 Monocytes', 'FCGR3A Monocytes', 'Dendritic', 'CD14 Monocytes', 'CD14 Monocytes', 'FCGR3A Monocytes', 'CD14 Monocytes', 'CD14 Monocytes', 'CD14 Monocytes', 'CD14 Monocytes', 'CD14 Monocytes', 'CD14 Monocytes', 'CD14 Monocytes', 'CD14 Monocytes', 'CD14 Monocytes', 'CD14 Monocytes', 'CD14 Monocytes', 'Dendritic', 'FCGR3A Monocytes', 'FCGR3A Monocytes', 'CD14 Monocytes', 'CD14 Monocytes', 'CD14 Monocytes', 'FCGR3A Monocytes', 'FCGR3A Monocytes', 'CD14 Monocytes', 'CD14 Monocytes', 'CD14 Monocytes', 'FCGR3A Monocytes', 'CD14 Monocytes', 'CD14 Monocytes', 'CD14 Monocytes', 'FCGR3A Monocytes', 'CD14 Monocytes', 'Dendritic', 'CD14 Monocytes', 'CD14 Monocytes', 'CD14 Monocytes', 'CD14 Monocytes', 'CD14 Monocytes', 'CD14 Monocytes', 'CD14 Monocytes', 'CD14 Monocytes', 'CD14 Monocytes', 'CD14 Monocytes', 'FCGR3A Monocytes', 'CD14 Monocytes', 'CD14 Monocytes', 'CD14 Monocytes', 'Dendritic', 'CD14 Monocytes', 'CD14 Monocytes', 'FCGR3A Monocytes', 'CD14 Monocytes', 'CD14 Monocytes', 'CD14 Monocytes', 'FCGR3A Monocytes', 'CD14 Monocytes', 'CD14 Monocytes', 'CD14 Monocytes', 'CD14 Monocytes', 'CD14 Monocytes', 'CD14 Monocytes', 'CD14 Monocytes', 'CD14 Monocytes', 'FCGR3A Monocytes', 'CD14 Monocytes', 'CD14 Monocytes', 'CD14 Monocytes', 'CD14 Monocytes', 'CD14 Monocytes', 'CD14 Monocytes', 'CD14 Monocytes', 'FCGR3A Monocytes', 'CD14 Monocytes', 'CD14 Monocytes', 'CD14 Monocytes', 'CD14 Monocytes', 'CD14 Monocytes', 'CD14 Monocytes', 'CD14 Monocytes', 'CD14 Monocytes', 'CD14 Monocytes', 'FCGR3A Monocytes', 'CD14 Monocytes', 'CD14 Monocytes', 'CD14 Monocytes', 'CD14 Monocytes', 'FCGR3A Monocytes', 'CD14 Monocytes', 'CD14 Monocytes', 'FCGR3A Monocytes', 'Dendritic', 'CD14 Monocytes', 'FCGR3A Monocytes', 'FCGR3A Monocytes', 'CD14 Monocytes', 'CD14 Monocytes', 'CD14 Monocytes', 'CD14 Monocytes', 'CD14 Monocytes', 'CD14 Monocytes', 'CD14 Monocytes', 'CD14 Monocytes', 'FCGR3A Monocytes', 'CD14 Monocytes', 'FCGR3A Monocytes', 'CD14 Monocytes', 'CD14 Monocytes', 'CD14 Monocytes', 'CD14 Monocytes', 'FCGR3A Monocytes', 'CD14 Monocytes', 'CD14 Monocytes', 'CD14 Monocytes', 'CD14 Monocytes', 'CD14 Monocytes', 'FCGR3A Monocytes', 'CD14 Monocytes', 'CD14 Monocytes', 'CD14 Monocytes', 'FCGR3A Monocytes', 'CD14 Monocytes', 'FCGR3A Monocytes', 'FCGR3A Monocytes', 'CD14 Monocytes', 'FCGR3A Monocytes', 'FCGR3A Monocytes', 'CD14 Monocytes', 'Dendritic', 'CD14 Monocytes', 'CD14 Monocytes', 'CD14 Monocytes', 'FCGR3A Monocytes', 'FCGR3A Monocytes', 'CD14 Monocytes', 'CD14 Monocytes', 'CD14 Monocytes', 'FCGR3A Monocytes', 'CD14 Monocytes', 'CD14 Monocytes', 'CD14 Monocytes', 'FCGR3A Monocytes', 'CD14 Monocytes', 'CD14 Monocytes', 'CD14 Monocytes', 'FCGR3A Monocytes', 'CD14 Monocytes', 'CD14 Monocytes', 'CD14 Monocytes', 'FCGR3A Monocytes', 'CD14 Monocytes', 'CD14 Monocytes', 'FCGR3A Monocytes', 'CD14 Monocytes', 'CD14 Monocytes', 'FCGR3A Monocytes', 'CD14 Monocytes', 'Dendritic', 'CD14 Monocytes', 'CD14 Monocytes', 'CD14 Monocytes', 'CD14 Monocytes', 'CD14 Monocytes', 'CD14 Monocytes', 'CD14 Monocytes', 'CD14 Monocytes', 'CD14 Monocytes', 'CD14 Monocytes', 'CD14 Monocytes', 'CD14 Monocytes', 'CD14 Monocytes', 'CD14 Monocytes', 'Dendritic', 'FCGR3A Monocytes', 'CD14 Monocytes', 'CD14 Monocytes', 'CD14 Monocytes', 'CD14 Monocytes', 'FCGR3A Monocytes', 'CD14 Monocytes', 'CD14 Monocytes', 'CD14 Monocytes', 'CD14 Monocytes', 'CD14 Monocytes', 'FCGR3A Monocytes', 'FCGR3A Monocytes', 'Dendritic', 'CD14 Monocytes', 'CD14 Monocytes', 'CD14 Monocytes', 'CD14 Monocytes', 'CD14 Monocytes', 'Dendritic', 'FCGR3A Monocytes', 'CD14 Monocytes', 'CD14 Monocytes', 'FCGR3A Monocytes', 'Dendritic', 'CD14 Monocytes', 'CD14 Monocytes', 'CD14 Monocytes', 'CD14 Monocytes', 'CD14 Monocytes', 'Dendritic', 'CD14 Monocytes', 'CD14 Monocytes', 'CD14 Monocytes', 'FCGR3A Monocytes', 'CD14 Monocytes', 'FCGR3A Monocytes', 'CD14 Monocytes', 'CD14 Monocytes', 'CD14 Monocytes', 'CD14 Monocytes', 'FCGR3A Monocytes', 'CD14 Monocytes', 'Dendritic', 'CD14 Monocytes', 'CD14 Monocytes', 'CD14 Monocytes', 'FCGR3A Monocytes', 'CD14 Monocytes', 'Dendritic', 'CD14 Monocytes', 'CD14 Monocytes', 'CD14 Monocytes']\n",
            "Epoch 1/50\n",
            "6/6 [==============================] - 0s 30ms/step - loss: 1.1846 - val_loss: 1.2299\n",
            "Epoch 2/50\n",
            "6/6 [==============================] - 0s 5ms/step - loss: 1.1573 - val_loss: 1.1902\n",
            "Epoch 3/50\n",
            "6/6 [==============================] - 0s 6ms/step - loss: 1.1157 - val_loss: 1.1415\n",
            "Epoch 4/50\n",
            "6/6 [==============================] - 0s 6ms/step - loss: 1.0676 - val_loss: 1.0901\n",
            "Epoch 5/50\n",
            "6/6 [==============================] - 0s 6ms/step - loss: 1.0181 - val_loss: 1.0400\n",
            "Epoch 6/50\n",
            "6/6 [==============================] - 0s 7ms/step - loss: 0.9709 - val_loss: 0.9925\n",
            "Epoch 7/50\n",
            "6/6 [==============================] - 0s 6ms/step - loss: 0.9264 - val_loss: 0.9489\n",
            "Epoch 8/50\n",
            "6/6 [==============================] - 0s 6ms/step - loss: 0.8847 - val_loss: 0.9094\n",
            "Epoch 9/50\n",
            "6/6 [==============================] - 0s 6ms/step - loss: 0.8467 - val_loss: 0.8735\n",
            "Epoch 10/50\n",
            "6/6 [==============================] - 0s 7ms/step - loss: 0.8115 - val_loss: 0.8404\n",
            "Epoch 11/50\n",
            "6/6 [==============================] - 0s 7ms/step - loss: 0.7791 - val_loss: 0.8099\n",
            "Epoch 12/50\n",
            "6/6 [==============================] - 0s 6ms/step - loss: 0.7483 - val_loss: 0.7818\n",
            "Epoch 13/50\n",
            "6/6 [==============================] - 0s 8ms/step - loss: 0.7203 - val_loss: 0.7552\n",
            "Epoch 14/50\n",
            "6/6 [==============================] - 0s 6ms/step - loss: 0.6942 - val_loss: 0.7308\n",
            "Epoch 15/50\n",
            "6/6 [==============================] - 0s 7ms/step - loss: 0.6693 - val_loss: 0.7083\n",
            "Epoch 16/50\n",
            "6/6 [==============================] - 0s 6ms/step - loss: 0.6467 - val_loss: 0.6872\n",
            "Epoch 17/50\n",
            "6/6 [==============================] - 0s 6ms/step - loss: 0.6251 - val_loss: 0.6677\n",
            "Epoch 18/50\n",
            "6/6 [==============================] - 0s 6ms/step - loss: 0.6044 - val_loss: 0.6490\n",
            "Epoch 19/50\n",
            "6/6 [==============================] - 0s 6ms/step - loss: 0.5854 - val_loss: 0.6314\n",
            "Epoch 20/50\n",
            "6/6 [==============================] - 0s 6ms/step - loss: 0.5668 - val_loss: 0.6148\n",
            "Epoch 21/50\n",
            "6/6 [==============================] - 0s 6ms/step - loss: 0.5497 - val_loss: 0.5995\n",
            "Epoch 22/50\n",
            "6/6 [==============================] - 0s 6ms/step - loss: 0.5337 - val_loss: 0.5850\n",
            "Epoch 23/50\n",
            "6/6 [==============================] - 0s 6ms/step - loss: 0.5183 - val_loss: 0.5712\n",
            "Epoch 24/50\n",
            "6/6 [==============================] - 0s 6ms/step - loss: 0.5039 - val_loss: 0.5581\n",
            "Epoch 25/50\n",
            "6/6 [==============================] - 0s 9ms/step - loss: 0.4899 - val_loss: 0.5459\n",
            "Epoch 26/50\n",
            "6/6 [==============================] - 0s 6ms/step - loss: 0.4766 - val_loss: 0.5339\n",
            "Epoch 27/50\n",
            "6/6 [==============================] - 0s 6ms/step - loss: 0.4643 - val_loss: 0.5226\n",
            "Epoch 28/50\n",
            "6/6 [==============================] - 0s 7ms/step - loss: 0.4525 - val_loss: 0.5119\n",
            "Epoch 29/50\n",
            "6/6 [==============================] - 0s 6ms/step - loss: 0.4411 - val_loss: 0.5015\n",
            "Epoch 30/50\n",
            "6/6 [==============================] - 0s 6ms/step - loss: 0.4303 - val_loss: 0.4914\n",
            "Epoch 31/50\n",
            "6/6 [==============================] - 0s 7ms/step - loss: 0.4198 - val_loss: 0.4819\n",
            "Epoch 32/50\n",
            "6/6 [==============================] - 0s 6ms/step - loss: 0.4101 - val_loss: 0.4729\n",
            "Epoch 33/50\n",
            "6/6 [==============================] - 0s 6ms/step - loss: 0.4008 - val_loss: 0.4644\n",
            "Epoch 34/50\n",
            "6/6 [==============================] - 0s 7ms/step - loss: 0.3918 - val_loss: 0.4562\n",
            "Epoch 35/50\n",
            "6/6 [==============================] - 0s 6ms/step - loss: 0.3832 - val_loss: 0.4482\n",
            "Epoch 36/50\n",
            "6/6 [==============================] - 0s 6ms/step - loss: 0.3749 - val_loss: 0.4403\n",
            "Epoch 37/50\n",
            "6/6 [==============================] - 0s 6ms/step - loss: 0.3668 - val_loss: 0.4329\n",
            "Epoch 38/50\n",
            "6/6 [==============================] - 0s 8ms/step - loss: 0.3594 - val_loss: 0.4261\n",
            "Epoch 39/50\n",
            "6/6 [==============================] - 0s 6ms/step - loss: 0.3523 - val_loss: 0.4195\n",
            "Epoch 40/50\n",
            "6/6 [==============================] - 0s 6ms/step - loss: 0.3454 - val_loss: 0.4131\n",
            "Epoch 41/50\n",
            "6/6 [==============================] - 0s 6ms/step - loss: 0.3390 - val_loss: 0.4070\n",
            "Epoch 42/50\n",
            "6/6 [==============================] - 0s 6ms/step - loss: 0.3327 - val_loss: 0.4009\n",
            "Epoch 43/50\n",
            "6/6 [==============================] - 0s 7ms/step - loss: 0.3267 - val_loss: 0.3948\n",
            "Epoch 44/50\n",
            "6/6 [==============================] - 0s 7ms/step - loss: 0.3209 - val_loss: 0.3890\n",
            "Epoch 45/50\n",
            "6/6 [==============================] - 0s 7ms/step - loss: 0.3153 - val_loss: 0.3837\n",
            "Epoch 46/50\n",
            "6/6 [==============================] - 0s 8ms/step - loss: 0.3098 - val_loss: 0.3783\n",
            "Epoch 47/50\n",
            "6/6 [==============================] - 0s 7ms/step - loss: 0.3046 - val_loss: 0.3734\n",
            "Epoch 48/50\n",
            "6/6 [==============================] - 0s 6ms/step - loss: 0.2996 - val_loss: 0.3688\n",
            "Epoch 49/50\n",
            "6/6 [==============================] - 0s 7ms/step - loss: 0.2947 - val_loss: 0.3639\n",
            "Epoch 50/50\n",
            "6/6 [==============================] - 0s 6ms/step - loss: 0.2900 - val_loss: 0.3589\n"
          ]
        }
      ]
    },
    {
      "cell_type": "code",
      "source": [
        "#accuracy of myeloic classifier model \n",
        "print(hc.graph.nodes['Myeloisch']['memory'].training_acc)\n",
        "\n",
        "print(hc.graph.nodes['Myeloisch']['memory'].test_acc)"
      ],
      "metadata": {
        "colab": {
          "base_uri": "https://localhost:8080/"
        },
        "id": "7_Mzndb1y2pt",
        "outputId": "939a5bec-2587-450f-c74b-743d2ed3cddf"
      },
      "execution_count": 435,
      "outputs": [
        {
          "output_type": "stream",
          "name": "stdout",
          "text": [
            "0.946236559139785\n",
            "0.93048128342246\n"
          ]
        }
      ]
    },
    {
      "cell_type": "markdown",
      "source": [
        "Aktuell implementierte Objektauswahl macht Durchführung der Klassifizierung für 'Others' Knoten mit nur einem Tochterknoten sinnlos -> bräuchte direkte Ausgabe der softmax Aktivierungsfunktion um Wahrscheinlichkeiten auszugeben und dann eine confidence based entscheidung anstelle von auswahl des höchsten wertes (wäre dann immer eben der eine zur Wahl stehende Tochterknoten)"
      ],
      "metadata": {
        "id": "krNvN2Hszjpy"
      }
    },
    {
      "cell_type": "code",
      "source": [
        ""
      ],
      "metadata": {
        "id": "bKWe_4mjzeUu"
      },
      "execution_count": null,
      "outputs": []
    },
    {
      "cell_type": "code",
      "source": [
        "# nn_tnk.model.summary()"
      ],
      "metadata": {
        "id": "qkFJXBlVXbSt"
      },
      "execution_count": 30,
      "outputs": []
    },
    {
      "cell_type": "markdown",
      "source": [
        ""
      ],
      "metadata": {
        "id": "6hQW1Xn-U9hn"
      }
    }
  ]
}