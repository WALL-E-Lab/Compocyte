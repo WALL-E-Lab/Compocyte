{
  "nbformat": 4,
  "nbformat_minor": 0,
  "metadata": {
    "colab": {
      "name": "NN_class_dev.ipynb",
      "provenance": [],
      "collapsed_sections": [],
      "include_colab_link": true
    },
    "kernelspec": {
      "name": "python3",
      "display_name": "Python 3"
    },
    "language_info": {
      "name": "python"
    }
  },
  "cells": [
    {
      "cell_type": "markdown",
      "metadata": {
        "id": "view-in-github",
        "colab_type": "text"
      },
      "source": [
        "<a href=\"https://colab.research.google.com/github/leonSadowski/sc_Hierarchical_Classifier/blob/main/NN_class_dev.ipynb\" target=\"_parent\"><img src=\"https://colab.research.google.com/assets/colab-badge.svg\" alt=\"Open In Colab\"/></a>"
      ]
    },
    {
      "cell_type": "code",
      "source": [
        "import numpy as np \n",
        "import tensorflow as tf \n",
        "import tensorflow.keras as keras \n",
        "from sklearn.preprocessing import LabelEncoder\n",
        "import pandas as pd\n",
        "import networkx as nx"
      ],
      "metadata": {
        "id": "XAInitxPwiAO"
      },
      "execution_count": 2,
      "outputs": []
    },
    {
      "cell_type": "markdown",
      "source": [
        "**Create Class for local (NN) classifier**"
      ],
      "metadata": {
        "id": "FeZG7IAvwWzS"
      }
    },
    {
      "cell_type": "code",
      "execution_count": 77,
      "metadata": {
        "id": "A0eeCUgYwORc"
      },
      "outputs": [],
      "source": [
        "class Neural_Network():\n",
        "\n",
        "  def __init__(self, \n",
        "               x_input_data,\n",
        "               y_input_data,\n",
        "               len_of_output, #NEU!!!!! ÜBERGEBE LÄNGE DES OUTPUT VEKTORS WEIL Y_INPUT KEIN PANDAS DATAFRAME MEHR IST\n",
        "               z_transform_input = True,\n",
        "               list_of_hidden_layer_nodes = [30],\n",
        "               activation_function = 'relu',\n",
        "               learning_rate = 0.001,\n",
        "               momentum = .9,\n",
        "               loss_function = 'categorical_crossentropy',\n",
        "               epochs = 50):\n",
        "    \n",
        "    self.x_input_data = x_input_data\n",
        "    self.y_input_data = y_input_data\n",
        "    self.list_of_layer_nodes = [len(self.x_input_data[0])] + [nodes for nodes in list_of_hidden_layer_nodes] + [len_of_output] #[len(self.y_input_data.cat.categories)] \n",
        "    self.activation_function = activation_function \n",
        "    self.learning_rate = learning_rate\n",
        "    self.momentum = momentum\n",
        "    self.loss_function = loss_function\n",
        "    self.epochs = epochs\n",
        "    self.z_transform_input = z_transform_input\n",
        "\n",
        "    #create model\n",
        "\n",
        "    self.model = keras.models.Sequential()\n",
        "\n",
        "    for nodes, layer_idx in zip(self.list_of_layer_nodes, range(0, len(self.list_of_layer_nodes)-1)):\n",
        "\n",
        "      self.model.add(keras.layers.Dense(\n",
        "          input_shape = (nodes,),\n",
        "          units = self.list_of_layer_nodes[layer_idx+1],                            \n",
        "          kernel_initializer = 'glorot_uniform',                                          \n",
        "          bias_initializer = 'zeros',                                               \n",
        "          activation = self.activation_function if layer_idx == 0 else 'softmax'))  \n",
        "        \n",
        "\n",
        "  def process_input_data(self):\n",
        "\n",
        "    #z transformation \n",
        "\n",
        "    def z_transform_properties(data_arr):\n",
        "      '''Calculates a z transformation to center properties across cells in data_arr around mean zero'''\n",
        "      \n",
        "      mean_vals = np.mean(data_arr, axis=0)\n",
        "      std_val = np.std(data_arr)\n",
        "\n",
        "      data_transformed = (data_arr - mean_vals) / std_val\n",
        "\n",
        "      return data_transformed\n",
        "\n",
        "\n",
        "    if self.z_transform_input:\n",
        "      self.x_input_data = z_transform_properties(self.x_input_data)\n",
        "      \n",
        "    #converting labels of y_input_data to integers (mapping 'label'->int)\n",
        "\n",
        "    # ----> erstmal so vereinfacht, dass incoming y_data encoded wird -> ist wegen group_by_labels eh mit strings\n",
        "\n",
        "    print(f'network y_input before encoding: {self.y_input_data}')\n",
        "\n",
        "    self.label_encoder = LabelEncoder()\n",
        "    self.y_input_data_int = self.label_encoder.fit_transform(self.y_input_data)\n",
        "\n",
        "    # if isinstance(self.y_input_data, pd.Series):\n",
        "    #   #encode categorical labels from pandas Series as integers\n",
        "    #   self.label_encoder = LabelEncoder()\n",
        "    #   self.y_input_data_int = self.label_encoder.fit_transform(self.y_input_data.values)\n",
        "\n",
        "    # elif isinstance(self.y_input_data[0], np.ndarray) and self.y_input_data.dtype == int: #so vereinfachen, dass einfach immer encoded wird. mit neuer 'pipeline' wird eh nur y_input mit strings weitergegeben\n",
        "    #   self.y_input_data_int = self.y_input_data\n",
        "\n",
        "    # elif isinstance(self.y_input_data[0], np.ndarray) and self.y_input_data.dtype == str: #y_input kein dataframe mehr, sondern Liste wegen preprocessing!\n",
        "    #   self.y_input_data_int = self.label_encoder.fit_transform(self.y_input_data)\n",
        "\n",
        "    # else:\n",
        "\n",
        "    #   print('Error: Invalid or unknown Data Type for Y Input data')\n",
        "\n",
        "  \n",
        "\n",
        "    #split data (TO DO: implement scikit.learn cross_val_score for k-fold cross validation)\n",
        "\n",
        "    split_data_index = int(2/3 * len(self.x_input_data))\n",
        "\n",
        "    self.x_training_input = self.x_input_data[ : split_data_index]\n",
        "    self.y_training_input_int = self.y_input_data_int[ : split_data_index]\n",
        "\n",
        "    self.x_test_input = self.x_input_data[split_data_index : ]\n",
        "    self.y_test_input_int = self.y_input_data_int[split_data_index : ]\n",
        "\n",
        "    #use integer y_input data for OneHot Encoding (int -> e_i element R^(int+1)) needed for model training\n",
        "\n",
        "    self.y_training_onehot = keras.utils.to_categorical(self.y_training_input_int)\n",
        "    self.y_test_onehot = keras.utils.to_categorical(self.y_test_input_int)\n",
        "\n",
        "\n",
        "  def train(self):\n",
        "    '''Train the NN using the x_training_data input and onehot encoded y_training_onehot'''\n",
        "\n",
        "    self.optimizer = keras.optimizers.SGD(learning_rate = self.learning_rate, momentum = self.momentum)\n",
        "    \n",
        "    self.model.compile(optimizer = self.optimizer, loss = self.loss_function)\n",
        "\n",
        "    history = self.model.fit(self.x_training_input, self.y_training_onehot,\n",
        "                        batch_size = 64, epochs = self.epochs, \n",
        "                        verbose = 1,\n",
        "                        validation_split = .1)\n",
        "    \n",
        "  def predict(self, input_vec):\n",
        "    '''Calculate and return label prediction of trained model for an input vector\n",
        "        input_vec (dtype=int)'''\n",
        "\n",
        "    #returns only absolute decisions, nothing known about the difference in prediction confidence \n",
        "    pred_vec = np.argmax(self.model.predict(input_vec), axis = -1) #-1?\n",
        "\n",
        "    return pred_vec\n",
        "\n",
        "\n",
        "  def validate(self):\n",
        "\n",
        "    self.y_training_preds = self.predict(self.x_training_input)\n",
        "    self.y_test_preds = self.predict(self.x_test_input) \n",
        "\n",
        "    def calc_acc(pred_vec, known_vec):\n",
        "      \n",
        "      if type(pred_vec) == type(known_vec):\n",
        "        acc = np.sum(pred_vec == known_vec, axis = 0) / len(known_vec)\n",
        "      else:\n",
        "        print('self.validate: Error! Comparison of different label encoding!')\n",
        "      \n",
        "      return acc\n",
        "    \n",
        "    # ---> save in node memory, not in classifier model\n",
        "    # self.train_acc = calc_acc(self.y_training_preds, self.y_training_input_int) \n",
        "    # self.test_acc = calc_acc(self.y_test_preds, self.y_test_input_int)\n",
        "\n",
        "    train_acc = calc_acc(self.y_training_preds, self.y_training_input_int)\n",
        "    test_acc = calc_acc(self.y_test_preds, self.y_test_input_int)\n",
        "\n",
        "    return train_acc, test_acc\n",
        "\n",
        "\n",
        "  def master_method_NN(self, validate):\n",
        "    '''method to run all relevant neural network methods, to be called from hierarchical classifier!\n",
        "    not sure if needed'''\n",
        "    \n",
        "    # self.process_input_data()\n",
        "    # self.train()\n",
        "\n",
        "    #prediction vector soll in node_memory gespeichert werden!\n",
        "\n",
        "    pass\n",
        "\n",
        "\n",
        "\n",
        "    \n",
        "    \n",
        "  \n",
        "\n"
      ]
    },
    {
      "cell_type": "markdown",
      "source": [
        "**Class, which instances save relevant information for each node/local classifier**"
      ],
      "metadata": {
        "id": "Uhf6Mz1I_-xD"
      }
    },
    {
      "cell_type": "code",
      "source": [
        "class Node_Memory():\n",
        "\n",
        "  def __init__(self, x_input_data = None, y_input_data = None, local_classifier = None, local_classifier_params = []):\n",
        "\n",
        "      #local_classifier argument is the Class of classifier (eg Neural_Network (classifier specific params, input and output needed for every possible classifier))\n",
        "      #initialize all needed attributes, but assign via HC objects\n",
        "\n",
        "      self.x_input_data = x_input_data  #processing wird von local classifier übernommen (CAVE bei Verwendung anderer LC (eg SVM), dass preprocessing einheitlich ist)\n",
        "      self.y_input_data = y_input_data \n",
        "\n",
        "      self.y_input_grouped_labels = None  #is generated via Hierarchical classifier, maps all labels to labels of children of THIS node object\n",
        "\n",
        "      self.apriori_y_input_data_indices = None #save indices of data in y_input vector, that will be used for prediction in order to compute accuracy\n",
        "      \n",
        "      #still manual splitting -> adjust to k fold CV in future\n",
        "      self.training_prediction_vec = None\n",
        "      self.test_prediction_vec = None\n",
        "\n",
        "      self.training_acc = None\n",
        "      self.test_acc = None\n",
        "\n",
        "      #SEEEEEEEHR UNSCHÖÖÖÖÖÖN, PROBLEM MIT Y_INPUT_GROUPED_BY_LABELS_BEHEBEN!! DANN INITIALISIEREN WIEDER IN KONSTRUKTOR SCHREIBEN\n",
        "      self.classifier_class = local_classifier #zwischenspeichern der Klasse bis y_input_grouped labels durch HC ausgegeben wurde --> SEHR UNSCHÖN\n",
        "      self.local_classifier_params = local_classifier_params\n",
        "\n",
        "  def initialize_local_classifier(self, local_classifier_output_len):\n",
        "    print(f'zu übergebene y_input daten: {self.y_input_grouped_labels}')\n",
        "    if self.classifier_class != None:\n",
        "      self.local_classifier = self.classifier_class(self.x_input_data, self.y_input_grouped_labels, local_classifier_output_len, *self.local_classifier_params)  #use y_input with labels that refer to the child nodes\n",
        "    else:\n",
        "      #TO DO: bessere Lösung einfallen lassen\n",
        "      print('WARNING! No classifier initialized!')\n",
        "\n",
        "  #---> sollte eher auch von 'Oberklasse' ausgeführt werden\n",
        "  #Methoden zur Ausführung des local classifiers eines parent nodes\n",
        "    \n",
        "  # def run_local_classifier(self):               \n",
        "  #   self.local_classifier.train()\n",
        "  \n",
        "  #----> soll über hierarchical_classifier objekt aufgerufen werden\n",
        "  # def local_classifier_prediction(self, input_vec): #hier muss noch was passieren, prediction von außen für bestimmte inputs aufrufen\n",
        "  #   self.local_classifier.predict(input_vec)"
      ],
      "metadata": {
        "id": "sZJiCqeZ0gKw"
      },
      "execution_count": 84,
      "outputs": []
    },
    {
      "cell_type": "markdown",
      "source": [
        "**Class for hierarchical model with graph structure, local classifiers are attributes of graph nodes**"
      ],
      "metadata": {
        "id": "bBEkqCnDAGfC"
      }
    },
    {
      "cell_type": "code",
      "source": [
        "def make_graph_from_edges(d, g, parent_key=''):\n",
        "    for key in d.keys():\n",
        "        if parent_key != '':\n",
        "            g.add_edge(parent_key, key)\n",
        "        if len(d[key]) == 0:\n",
        "            pass\n",
        "        else:\n",
        "            make_graph_from_edges(d[key], g, parent_key=key)"
      ],
      "metadata": {
        "id": "sUU8Yb1TmIUK"
      },
      "execution_count": 4,
      "outputs": []
    },
    {
      "cell_type": "code",
      "source": [
        "def list_subgraph_nodes(g, parent_node):\n",
        "  list_of_nodes = []\n",
        "  for node in g.adj[parent_node].keys():\n",
        "    if len(g.adj[parent_node].keys()) != 0:\n",
        "      list_of_nodes.append(node)\n",
        "      list_of_nodes = list_of_nodes + list_subgraph_nodes(g, node)\n",
        "    else:\n",
        "      list_of_nodes.append(node)\n",
        "  return list_of_nodes"
      ],
      "metadata": {
        "id": "NkMWTEyXhnQa"
      },
      "execution_count": 5,
      "outputs": []
    },
    {
      "cell_type": "code",
      "source": [
        "class Hierarchical_Classifier():\n",
        "  '''Class connects Nodes of Local Classifiers, passes results to children classifiers and forms the final hierarchical classifier''' \n",
        "\n",
        "  def __init__(self, dict_of_cell_relations):\n",
        "    '''Params\n",
        "        - dict_of_cell_relations: used for initializing network structure of hierarchical classifier'''\n",
        "    self.dict_of_cell_relations = dict_of_cell_relations\n",
        "\n",
        "\n",
        "  def make_classifier_graph(self):\n",
        "    '''Compute Graph from a given dictionary of cell relationships'''\n",
        "    self.graph = nx.DiGraph()\n",
        "    make_graph_from_edges(self.dict_of_cell_relations, self.graph)\n",
        "\n",
        "  def init_node_memory_object(self, node, memory_class_params=[]):\n",
        "    '''Add memory object to each node; memory object organizes all relevant local classifier params'''\n",
        "    self.graph.add_node(node, memory=Node_Memory(*memory_class_params)) #lade die relevanten Daten\n",
        "    if len(memory_class_params) != 0: #auch sehr unschön ---> so ändern, dass konflit mit NN Initialisierung und berechnen von y_input_grouped_labels in node memory nicht auftritt\n",
        "      self.group_labels_of_subgraph_to_parent_label(node) #schreibe die relevanten (komprimierten) y_input daten durch aufrufen der methode\n",
        "      \n",
        "      print(f'Aus init_node_memory_object von Knoten {node}: output größe initialisiert als {len(self.graph.adj[node].keys())}')\n",
        "      \n",
        "      self.graph.nodes[node]['memory'].initialize_local_classifier(len(self.graph.adj[node].keys())) #initialisiere den local_classifier (jetzt ist y_input_grouped_labels in node memory gegeben)\n",
        "                                                                                                      #GEÄNDERT: ÜBERGEBE LÄNGE DES LETZTEN LAYERS DES NN, vorher aus cat.categories geschlossen\n",
        "                                                                                                      #aber y_input_grouped_labels ist eine Liste\n",
        "  def run_local_classifier(self, node):\n",
        "    '''DEV METHOD: use for calling single methods at once to begin with'''\n",
        "    \n",
        "    #wo werden dem ersten local classifier die daten übergeben? --> aktuell manuell (s.u. TESTEN)\n",
        "\n",
        "    #ONLY NEEDED FOR GLOBAL ACCURACY\n",
        "    #save indices of known labels of daughter nodes in these corresponding nodes (i.e. eg node 'TNK' knows indices of 'TNK' in y_input_data of node 'all' ) \n",
        "    next_labels = [label for label in self.graph[node].keys()]\n",
        "    for label in next_labels:\n",
        "      self.graph.nodes[label]['memory'].apriori_y_input_data_indices = np.where(np.array(self.graph.nodes[node]['memory'].y_input_data) == label)\n",
        "\n",
        "    #run needed local classifier methods to train model\n",
        "    self.graph.nodes[node]['memory'].local_classifier.process_input_data()\n",
        "    self.graph.nodes[node]['memory'].local_classifier.train()\n",
        "\n",
        "    #predict trainings and test data (still splitted manually -> k fold cross validation) and save in corresponding node memory\n",
        "    self.graph.nodes[node]['memory'].training_prediction_vec = self.graph.nodes[node]['memory'].local_classifier.predict(self.graph.nodes[node]['memory'].local_classifier.x_training_input)\n",
        "    self.graph.nodes[node]['memory'].test_prediction_vec = self.graph.nodes[node]['memory'].local_classifier.predict(self.graph.nodes[node]['memory'].local_classifier.x_test_input)\n",
        "\n",
        "    #validate model \n",
        "    self.graph.nodes[node]['memory'].training_acc, self.graph.nodes[node]['memory'].test_acc =  self.graph.nodes[node]['memory'].local_classifier.validate()\n",
        "\n",
        "\n",
        "  def run_local_classifier_master(self, node, validate = True):\n",
        "    '''run master method of local classifier'''\n",
        "    pass\n",
        "\n",
        "\n",
        "  #automatisches mapping der feineren labels zu den groberen durch iterieren über die Labels der subgraphen, ausführen über \n",
        "  #Hierarchical_Classifier in jedem Knoten --> als y_input_data in node_memory speichern\n",
        "  #Ziel: mapping aus textzelle automatisieren, dafür: nimm 'Nachbarn' als nächste parentlabel, deren kinder müssen \n",
        "  #dann zu Nachbarn gemapped werden\n",
        "\n",
        "  #benutze den graph, weil hier die ecken bereits klar sind, klarer als in gegebenem dictionary (dort müsste über keys von keys iteriert werden)\n",
        "\n",
        "  def group_labels_of_subgraph_to_parent_label(self, super_node):\n",
        "    '''Maps y_input_data labels to parent label (eg map (CD4 T, CD8 T, NK) -> (TNK) for all neighbors of given super_node (eg TNK, B, Others) of Graph g\n",
        "      Params:\n",
        "        - super_node: node at which local classifier has to be run\n",
        "        \n",
        "      Saves result in y_input_grouped_labels attribute of Node_memory of super_node''' \n",
        "\n",
        "    mapping_dict = {node : [child_node for child_node in list_subgraph_nodes(self.graph, node)] for node in self.graph.adj[super_node].keys() }\n",
        "\n",
        "    print(f'mapping_dict from group_labels_.. method of node {super_node}: {mapping_dict} before checking for annotation depth')\n",
        "\n",
        "    #check if some neighbor nodes have already achieved highest annotation depth (terminal nodes) and map those to itself\n",
        "    for key in mapping_dict.keys():\n",
        "      if mapping_dict[key] == []:\n",
        "        mapping_dict[key] = key\n",
        "\n",
        "    print(f'mapping_dict from group_labels_.. method of node {super_node}: {mapping_dict} after checking for annotation depth')\n",
        "\n",
        "\n",
        "\n",
        "    mapper = {k:v for v,k in pd.Series(mapping_dict).explode().iteritems()} #write dict such that key and value are interchanged, then map; von StackOverFlow: letze antwort https://stackoverflow.com/questions/32262982/pandas-combining-multiple-categories-into-one\n",
        "    print(f'mapper for node {super_node}: {mapper}')\n",
        "\n",
        "    #check if some cells were mislead and throw them out (otherwise they are labelled nan which gives more output units for neural network than needed + might be problematic for training of NN if \n",
        "    #cells are used asa data which were initially wrong, but are mapped to an output category)\n",
        "    #DOES NOT WORK FOR PREDICTION OF UNLABELED CELLS OF COURSE! OPTION TRAINING/PREDICTION MODE NEEDED!\n",
        "\n",
        "    temp_y_input = self.graph.nodes[super_node]['memory'].y_input_data\n",
        "\n",
        "    print(f'y_input of this node before checking for wrong labels: {temp_y_input[:200]} and its shape: {temp_y_input.shape}')\n",
        "\n",
        "    \n",
        "    idx_of_incorrectly_labelled_cells = []\n",
        "    for cell_label, cell_idx in zip(self.graph.nodes[super_node]['memory'].y_input_data, range(0, len(self.graph.nodes[super_node]['memory'].y_input_data))):\n",
        "      if cell_label not in mapper.keys():\n",
        "        idx_of_incorrectly_labelled_cells.append(cell_idx)\n",
        "    self.graph.nodes[super_node]['memory'].y_input_data = np.delete(self.graph.nodes[super_node]['memory'].y_input_data,idx_of_incorrectly_labelled_cells, axis = 0)\n",
        "    self.graph.nodes[super_node]['memory'].x_input_data = np.delete(self.graph.nodes[super_node]['memory'].x_input_data,idx_of_incorrectly_labelled_cells, axis = 0)\n",
        "    temp_y_input = self.graph.nodes[super_node]['memory'].y_input_data\n",
        "\n",
        "    print(f'y_input of this node after checking for wrong labels: {temp_y_input[:200]} and its shape: {temp_y_input.shape}')\n",
        "\n",
        "  \n",
        "\n",
        "    self.graph.nodes[super_node]['memory'].y_input_grouped_labels = [mapper.get(k) for k in self.graph.nodes[super_node]['memory'].y_input_data]\n",
        "    \n",
        "\n",
        "  def subset_pred_vec(self, node):\n",
        "    next_labels = [label for label in self.graph[node].keys()]\n",
        "    #fuse training and test data predictions to one prediction in order to have more data for next node (use local variable)\n",
        "    current_pred_vec = np.concatenate((self.graph.nodes[node]['memory'].training_prediction_vec, self.graph.nodes[node]['memory'].test_prediction_vec), axis = 0)\n",
        "    current_pred_vec = self.graph.nodes[node]['memory'].local_classifier.label_encoder.inverse_transform(current_pred_vec)\n",
        "\n",
        "    print(f'zusammengefügter pred_vec aus training und testdaten: {current_pred_vec[:500]}\\n')\n",
        "    temp_current_x_input = self.graph.nodes[node]['memory'].x_input_data\n",
        "    temp_current_y_input = self.graph.nodes[node]['memory'].y_input_data\n",
        "\n",
        "    print(f'shape der vektoren: current_pred_vec: {current_pred_vec.shape} \\n x_input der aktuellen node: {temp_current_x_input.shape}, y_input der aktuellen node: {temp_current_x_input.shape}')\n",
        "\n",
        "    for next_label in next_labels:\n",
        "\n",
        "      print(f'label in subset_pred_vec: {next_label}')\n",
        "\n",
        "      #following line decodes integer output of neural network to string labels (for test and training data -> prediction vecs now overwritten, might be appropriate to use local variable) in order to compare with names of following nodes (again encoded by following local classifier)\n",
        "      # self.graph.nodes[node]['memory'].training_prediction_vec = self.graph.nodes[node]['memory'].local_classifier.label_encoder.inverse_transform(self.graph.nodes[node]['memory'].training_prediction_vec)\n",
        "      # self.graph.nodes[node]['memory'].test_prediction_vec = self.graph.nodes[node]['memory'].local_classifier.label_encoder.inverse_transform(self.graph.nodes[node]['memory'].test_prediction_vec)\n",
        "      # temp_idx_vec = np.where(np.array(self.graph.nodes[node]['memory'].prediction_vec) == next_label)\n",
        "      \n",
        "      temp_idx_vec = np.where(current_pred_vec == next_label)\n",
        "      #problem: damit werden auch falsch gelabelte daten aus dem prediction vektor mitgenommen\n",
        "      #---> beim group labels die indizes rausschmeißen, die falsch gelabeled wurden (MÜSSTE FÜR OVERALL ACCURACY BERÜCKSICHTIGT WERDEN!! bzw wird es eigentlich schon?)\n",
        "      self.graph.nodes[next_label]['memory'].x_input_data = np.array(self.graph.nodes[node]['memory'].x_input_data)[temp_idx_vec]\n",
        "      self.graph.nodes[next_label]['memory'].y_input_data = np.array(self.graph.nodes[node]['memory'].y_input_data)[temp_idx_vec]\n",
        "\n",
        "\n",
        "  def master_method(self):\n",
        "    '''method to run all relevant methods -> \"one-click\" initializing of hierarchical classifier (?)'''\n",
        "    pass\n",
        "\n"
      ],
      "metadata": {
        "id": "IQaUTDTS_X1J"
      },
      "execution_count": 297,
      "outputs": []
    },
    {
      "cell_type": "markdown",
      "source": [
        "**#######################################################**\n",
        "**Messy Test bereich**"
      ],
      "metadata": {
        "id": "K-hKrllEGSri"
      }
    },
    {
      "cell_type": "code",
      "source": [
        "# hc.group_labels_of_subgraph_to_parent_label('all')"
      ],
      "metadata": {
        "id": "5-bVX9M4afKF"
      },
      "execution_count": null,
      "outputs": []
    },
    {
      "cell_type": "markdown",
      "source": [
        "**Test of Local classifier class**"
      ],
      "metadata": {
        "id": "F_RdxaiARRj3"
      }
    },
    {
      "cell_type": "code",
      "source": [
        "!pip install scanpy \n"
      ],
      "metadata": {
        "id": "ICWY1MyZRVbk"
      },
      "execution_count": null,
      "outputs": []
    },
    {
      "cell_type": "code",
      "source": [
        "import scanpy as sc"
      ],
      "metadata": {
        "id": "qvbTHN7Tek7N"
      },
      "execution_count": 9,
      "outputs": []
    },
    {
      "cell_type": "code",
      "source": [
        "from google.colab import drive\n",
        "drive.mount('/content/drive/')"
      ],
      "metadata": {
        "colab": {
          "base_uri": "https://localhost:8080/"
        },
        "id": "yExXmrwfQuPx",
        "outputId": "81116e13-3738-46b4-db5a-8e5659e1a5a1"
      },
      "execution_count": 10,
      "outputs": [
        {
          "output_type": "stream",
          "name": "stdout",
          "text": [
            "Mounted at /content/drive/\n"
          ]
        }
      ]
    },
    {
      "cell_type": "code",
      "source": [
        "adata = sc.read('drive/MyDrive/single_cell/processed/pbmc3k_level_1_scvi.h5ad')"
      ],
      "metadata": {
        "id": "MIoF8UQJRf9g"
      },
      "execution_count": 11,
      "outputs": []
    },
    {
      "cell_type": "code",
      "source": [
        "adata.obs['leiden']"
      ],
      "metadata": {
        "colab": {
          "base_uri": "https://localhost:8080/"
        },
        "id": "rU0gryAt9Buo",
        "outputId": "bb43794b-2667-4050-d333-27c7ddd1f71d"
      },
      "execution_count": 12,
      "outputs": [
        {
          "output_type": "execute_result",
          "data": {
            "text/plain": [
              "AAACATACAACCAC-1               CD8 T\n",
              "AAACATTGAGCTAC-1                   B\n",
              "AAACATTGATCAGC-1               CD4 T\n",
              "AAACCGTGCTTCCG-1                  NK\n",
              "AAACCGTGTATGCG-1    FCGR3A Monocytes\n",
              "                          ...       \n",
              "TTTCGAACTCTCAT-1      CD14 Monocytes\n",
              "TTTCTACTGAGGCA-1                   B\n",
              "TTTCTACTTCCTCG-1                   B\n",
              "TTTGCATGAGAGGC-1                   B\n",
              "TTTGCATGCCTCAC-1               CD4 T\n",
              "Name: leiden, Length: 2638, dtype: category\n",
              "Categories (8, object): ['CD4 T', 'CD14 Monocytes', 'B', 'CD8 T', 'NK', 'FCGR3A Monocytes',\n",
              "                         'Dendritic', 'Megakaryocytes']"
            ]
          },
          "metadata": {},
          "execution_count": 12
        }
      ]
    },
    {
      "cell_type": "code",
      "source": [
        "adata.obs['training_level_1']"
      ],
      "metadata": {
        "colab": {
          "base_uri": "https://localhost:8080/"
        },
        "id": "EOteQm1jXdLL",
        "outputId": "a156ba2c-25bd-436d-bdba-d91970922837"
      },
      "execution_count": 13,
      "outputs": [
        {
          "output_type": "execute_result",
          "data": {
            "text/plain": [
              "AAACATACAACCAC-1          TNK\n",
              "AAACATTGAGCTAC-1            B\n",
              "AAACATTGATCAGC-1          TNK\n",
              "AAACCGTGCTTCCG-1          TNK\n",
              "AAACCGTGTATGCG-1    Myeloisch\n",
              "                      ...    \n",
              "TTTCGAACTCTCAT-1    Myeloisch\n",
              "TTTCTACTGAGGCA-1            B\n",
              "TTTCTACTTCCTCG-1            B\n",
              "TTTGCATGAGAGGC-1            B\n",
              "TTTGCATGCCTCAC-1          TNK\n",
              "Name: training_level_1, Length: 2638, dtype: category\n",
              "Categories (4, object): ['B', 'Myeloisch', 'Others', 'TNK']"
            ]
          },
          "metadata": {},
          "execution_count": 13
        }
      ]
    },
    {
      "cell_type": "code",
      "source": [
        "#neues erstellen des digraphs, for loop setzt alle node memories zurück\n",
        "hc = Hierarchical_Classifier({'all': {'TNK':{'CD4 T':{}, 'CD8 T':{}, 'NK':{}}, 'Myeloisch':{'FCGR3A Monocytes': {}, 'Dendritic':{}, 'CD14 Monocytes':{}}, 'B': {}, 'Others':{'Megakaryocytes':{}}}})\n",
        "hc.make_classifier_graph()\n",
        "for node in hc.graph.nodes:\n",
        "  hc.init_node_memory_object(node)\n",
        "nx.draw(hc.graph, with_labels=True)"
      ],
      "metadata": {
        "id": "AopRfZquzw_B",
        "colab": {
          "base_uri": "https://localhost:8080/",
          "height": 319
        },
        "outputId": "a7aec2c8-dadf-4d59-a70a-4401eed63d26"
      },
      "execution_count": 298,
      "outputs": [
        {
          "output_type": "display_data",
          "data": {
            "text/plain": [
              "<Figure size 432x288 with 1 Axes>"
            ],
            "image/png": "[encoded data removed]"
          },
          "metadata": {}
        }
      ]
    },
    {
      "cell_type": "code",
      "source": [
        "list_subgraph_nodes(hc.graph, 'all')"
      ],
      "metadata": {
        "colab": {
          "base_uri": "https://localhost:8080/"
        },
        "id": "otQ0mLmh82GW",
        "outputId": "f9dae12e-80ff-4f55-8fbd-9ff0bb7d7696"
      },
      "execution_count": 299,
      "outputs": [
        {
          "output_type": "execute_result",
          "data": {
            "text/plain": [
              "['TNK',\n",
              " 'CD4 T',\n",
              " 'CD8 T',\n",
              " 'NK',\n",
              " 'Myeloisch',\n",
              " 'FCGR3A Monocytes',\n",
              " 'Dendritic',\n",
              " 'CD14 Monocytes',\n",
              " 'B',\n",
              " 'Others',\n",
              " 'Megakaryocytes']"
            ]
          },
          "metadata": {},
          "execution_count": 299
        }
      ]
    },
    {
      "cell_type": "code",
      "source": [
        "#save input data for first node and thus first network\n",
        "# hc.graph.nodes['all']['memory'].x_input_data, hc.graph.nodes['all']['memory'].y_input_data = adata.obsm['X_scVI'], adata.obs['leiden']"
      ],
      "metadata": {
        "id": "JWHy4syO8ysc"
      },
      "execution_count": 300,
      "outputs": []
    },
    {
      "cell_type": "code",
      "source": [
        "#save input data and initialize first network in first node\n",
        "hc.init_node_memory_object('all', [adata.obsm['X_scVI'], adata.obs['leiden'], Neural_Network])"
      ],
      "metadata": {
        "id": "mP-BYisi-cda",
        "colab": {
          "base_uri": "https://localhost:8080/"
        },
        "outputId": "cfeabf46-7a88-408b-dde0-cca9a278baa9"
      },
      "execution_count": 301,
      "outputs": [
        {
          "output_type": "stream",
          "name": "stdout",
          "text": [
            "mapping_dict from group_labels_.. method of node all: {'TNK': ['CD4 T', 'CD8 T', 'NK'], 'Myeloisch': ['FCGR3A Monocytes', 'Dendritic', 'CD14 Monocytes'], 'B': [], 'Others': ['Megakaryocytes']} before checking for annotation depth\n",
            "mapping_dict from group_labels_.. method of node all: {'TNK': ['CD4 T', 'CD8 T', 'NK'], 'Myeloisch': ['FCGR3A Monocytes', 'Dendritic', 'CD14 Monocytes'], 'B': 'B', 'Others': ['Megakaryocytes']} after checking for annotation depth\n",
            "mapper for node all: {'CD4 T': 'TNK', 'CD8 T': 'TNK', 'NK': 'TNK', 'FCGR3A Monocytes': 'Myeloisch', 'Dendritic': 'Myeloisch', 'CD14 Monocytes': 'Myeloisch', 'B': 'B', 'Megakaryocytes': 'Others'}\n",
            "y_input of this node before checking for wrong labels: AAACATACAACCAC-1               CD8 T\n",
            "AAACATTGAGCTAC-1                   B\n",
            "AAACATTGATCAGC-1               CD4 T\n",
            "AAACCGTGCTTCCG-1                  NK\n",
            "AAACCGTGTATGCG-1    FCGR3A Monocytes\n",
            "                          ...       \n",
            "ACACAGACCATACG-1               CD8 T\n",
            "ACACCAGAGGGCAA-1               CD8 T\n",
            "ACACCCTGGTGTTG-1    FCGR3A Monocytes\n",
            "ACACGAACAGTTCG-1               CD8 T\n",
            "ACACGATGACGCAT-1               CD8 T\n",
            "Name: leiden, Length: 200, dtype: category\n",
            "Categories (8, object): ['CD4 T', 'CD14 Monocytes', 'B', 'CD8 T', 'NK', 'FCGR3A Monocytes',\n",
            "                         'Dendritic', 'Megakaryocytes'] and its shape: (2638,)\n",
            "y_input of this node after checking for wrong labels: AAACATACAACCAC-1               CD8 T\n",
            "AAACATTGAGCTAC-1                   B\n",
            "AAACATTGATCAGC-1               CD4 T\n",
            "AAACCGTGCTTCCG-1                  NK\n",
            "AAACCGTGTATGCG-1    FCGR3A Monocytes\n",
            "                          ...       \n",
            "ACACAGACCATACG-1               CD8 T\n",
            "ACACCAGAGGGCAA-1               CD8 T\n",
            "ACACCCTGGTGTTG-1    FCGR3A Monocytes\n",
            "ACACGAACAGTTCG-1               CD8 T\n",
            "ACACGATGACGCAT-1               CD8 T\n",
            "Name: leiden, Length: 200, dtype: object and its shape: (2638,)\n",
            "Aus init_node_memory_object von Knoten all: output größe initialisiert als 4\n",
            "zu übergebene y_input daten: ['TNK', 'B', 'TNK', 'TNK', 'Myeloisch', 'TNK', 'TNK', 'TNK', 'TNK', 'TNK', 'B', 'TNK', 'TNK', 'Myeloisch', 'TNK', 'TNK', 'Myeloisch', 'TNK', 'B', 'B', 'B', 'TNK', 'Myeloisch', 'B', 'TNK', 'TNK', 'TNK', 'TNK', 'TNK', 'TNK', 'TNK', 'B', 'Myeloisch', 'TNK', 'Myeloisch', 'TNK', 'Myeloisch', 'TNK', 'TNK', 'Myeloisch', 'TNK', 'TNK', 'TNK', 'TNK', 'TNK', 'TNK', 'TNK', 'Myeloisch', 'TNK', 'TNK', 'TNK', 'TNK', 'TNK', 'TNK', 'TNK', 'B', 'Myeloisch', 'TNK', 'Myeloisch', 'TNK', 'TNK', 'TNK', 'Myeloisch', 'TNK', 'TNK', 'TNK', 'TNK', 'TNK', 'TNK', 'TNK', 'TNK', 'Myeloisch', 'TNK', 'Myeloisch', 'TNK', 'B', 'TNK', 'TNK', 'TNK', 'Myeloisch', 'Myeloisch', 'TNK', 'TNK', 'TNK', 'Myeloisch', 'B', 'TNK', 'TNK', 'B', 'B', 'TNK', 'Myeloisch', 'B', 'B', 'Myeloisch', 'Myeloisch', 'TNK', 'Myeloisch', 'Myeloisch', 'Myeloisch', 'Myeloisch', 'Myeloisch', 'TNK', 'TNK', 'Myeloisch', 'B', 'TNK', 'B', 'TNK', 'Myeloisch', 'Myeloisch', 'TNK', 'TNK', 'TNK', 'Myeloisch', 'TNK', 'TNK', 'B', 'TNK', 'TNK', 'TNK', 'Myeloisch', 'B', 'TNK', 'TNK', 'TNK', 'Myeloisch', 'B', 'Myeloisch', 'TNK', 'TNK', 'TNK', 'TNK', 'TNK', 'B', 'TNK', 'TNK', 'TNK', 'TNK', 'B', 'TNK', 'TNK', 'Myeloisch', 'B', 'TNK', 'TNK', 'B', 'TNK', 'Myeloisch', 'Myeloisch', 'TNK', 'TNK', 'TNK', 'TNK', 'Myeloisch', 'TNK', 'TNK', 'Myeloisch', 'TNK', 'Myeloisch', 'B', 'Myeloisch', 'B', 'Myeloisch', 'TNK', 'B', 'TNK', 'TNK', 'TNK', 'TNK', 'TNK', 'TNK', 'TNK', 'Myeloisch', 'TNK', 'Myeloisch', 'TNK', 'TNK', 'B', 'B', 'TNK', 'B', 'TNK', 'TNK', 'Myeloisch', 'Myeloisch', 'Myeloisch', 'TNK', 'Myeloisch', 'TNK', 'B', 'TNK', 'B', 'TNK', 'Myeloisch', 'TNK', 'TNK', 'Myeloisch', 'TNK', 'TNK', 'Myeloisch', 'TNK', 'TNK', 'TNK', 'TNK', 'TNK', 'TNK', 'TNK', 'TNK', 'Myeloisch', 'TNK', 'TNK', 'TNK', 'TNK', 'TNK', 'Myeloisch', 'Myeloisch', 'TNK', 'B', 'TNK', 'TNK', 'Myeloisch', 'TNK', 'TNK', 'TNK', 'TNK', 'TNK', 'TNK', 'TNK', 'TNK', 'TNK', 'B', 'TNK', 'TNK', 'Myeloisch', 'TNK', 'TNK', 'TNK', 'TNK', 'TNK', 'TNK', 'B', 'Myeloisch', 'TNK', 'Others', 'Myeloisch', 'TNK', 'Myeloisch', 'TNK', 'B', 'TNK', 'Myeloisch', 'TNK', 'B', 'Myeloisch', 'TNK', 'TNK', 'B', 'B', 'TNK', 'TNK', 'TNK', 'TNK', 'TNK', 'TNK', 'Myeloisch', 'Myeloisch', 'Myeloisch', 'TNK', 'Myeloisch', 'Others', 'TNK', 'B', 'TNK', 'TNK', 'B', 'TNK', 'Myeloisch', 'TNK', 'TNK', 'B', 'B', 'Myeloisch', 'Myeloisch', 'TNK', 'TNK', 'TNK', 'Myeloisch', 'B', 'TNK', 'Myeloisch', 'TNK', 'TNK', 'TNK', 'TNK', 'B', 'TNK', 'TNK', 'TNK', 'Myeloisch', 'Myeloisch', 'TNK', 'Myeloisch', 'B', 'TNK', 'TNK', 'TNK', 'TNK', 'TNK', 'TNK', 'TNK', 'Myeloisch', 'B', 'B', 'TNK', 'TNK', 'TNK', 'B', 'TNK', 'Myeloisch', 'TNK', 'Myeloisch', 'TNK', 'Myeloisch', 'Myeloisch', 'B', 'Myeloisch', 'TNK', 'TNK', 'Myeloisch', 'TNK', 'TNK', 'TNK', 'TNK', 'TNK', 'Myeloisch', 'Myeloisch', 'B', 'Myeloisch', 'TNK', 'TNK', 'Myeloisch', 'TNK', 'TNK', 'TNK', 'TNK', 'TNK', 'TNK', 'TNK', 'TNK', 'TNK', 'B', 'Myeloisch', 'TNK', 'Myeloisch', 'Myeloisch', 'TNK', 'TNK', 'TNK', 'TNK', 'TNK', 'B', 'TNK', 'Myeloisch', 'Myeloisch', 'TNK', 'B', 'Myeloisch', 'TNK', 'TNK', 'Myeloisch', 'TNK', 'TNK', 'TNK', 'Myeloisch', 'TNK', 'B', 'B', 'Myeloisch', 'TNK', 'TNK', 'Myeloisch', 'TNK', 'TNK', 'Myeloisch', 'B', 'TNK', 'Myeloisch', 'Myeloisch', 'B', 'TNK', 'TNK', 'TNK', 'TNK', 'TNK', 'TNK', 'TNK', 'Myeloisch', 'Myeloisch', 'TNK', 'TNK', 'TNK', 'B', 'Myeloisch', 'TNK', 'TNK', 'TNK', 'B', 'B', 'TNK', 'TNK', 'B', 'TNK', 'Myeloisch', 'TNK', 'TNK', 'TNK', 'TNK', 'TNK', 'B', 'Myeloisch', 'TNK', 'B', 'TNK', 'Myeloisch', 'Myeloisch', 'B', 'B', 'TNK', 'TNK', 'Myeloisch', 'Myeloisch', 'Myeloisch', 'TNK', 'TNK', 'TNK', 'TNK', 'Myeloisch', 'TNK', 'TNK', 'B', 'Myeloisch', 'TNK', 'Myeloisch', 'TNK', 'TNK', 'TNK', 'TNK', 'TNK', 'TNK', 'TNK', 'TNK', 'TNK', 'TNK', 'B', 'Myeloisch', 'TNK', 'TNK', 'TNK', 'Myeloisch', 'TNK', 'TNK', 'TNK', 'TNK', 'TNK', 'TNK', 'TNK', 'Myeloisch', 'TNK', 'TNK', 'TNK', 'TNK', 'TNK', 'TNK', 'TNK', 'TNK', 'TNK', 'TNK', 'B', 'TNK', 'TNK', 'TNK', 'TNK', 'TNK', 'TNK', 'TNK', 'TNK', 'Myeloisch', 'B', 'Myeloisch', 'TNK', 'TNK', 'TNK', 'TNK', 'TNK', 'TNK', 'Myeloisch', 'TNK', 'TNK', 'TNK', 'TNK', 'TNK', 'Myeloisch', 'TNK', 'B', 'Myeloisch', 'TNK', 'Myeloisch', 'B', 'TNK', 'TNK', 'TNK', 'TNK', 'B', 'Myeloisch', 'Myeloisch', 'TNK', 'TNK', 'TNK', 'Myeloisch', 'B', 'TNK', 'TNK', 'TNK', 'TNK', 'B', 'TNK', 'TNK', 'TNK', 'TNK', 'TNK', 'Myeloisch', 'TNK', 'TNK', 'TNK', 'TNK', 'TNK', 'TNK', 'TNK', 'TNK', 'Myeloisch', 'TNK', 'TNK', 'TNK', 'Others', 'TNK', 'TNK', 'TNK', 'Myeloisch', 'TNK', 'Myeloisch', 'TNK', 'TNK', 'Myeloisch', 'TNK', 'TNK', 'TNK', 'TNK', 'TNK', 'Myeloisch', 'TNK', 'B', 'TNK', 'Myeloisch', 'TNK', 'TNK', 'TNK', 'TNK', 'TNK', 'B', 'TNK', 'TNK', 'B', 'TNK', 'TNK', 'Myeloisch', 'TNK', 'Myeloisch', 'Myeloisch', 'Myeloisch', 'Myeloisch', 'Myeloisch', 'TNK', 'Myeloisch', 'TNK', 'TNK', 'TNK', 'Myeloisch', 'Myeloisch', 'B', 'B', 'Myeloisch', 'Myeloisch', 'TNK', 'Myeloisch', 'TNK', 'TNK', 'B', 'TNK', 'TNK', 'Myeloisch', 'Myeloisch', 'TNK', 'TNK', 'TNK', 'Myeloisch', 'TNK', 'Myeloisch', 'TNK', 'TNK', 'TNK', 'TNK', 'TNK', 'TNK', 'TNK', 'TNK', 'Myeloisch', 'Myeloisch', 'TNK', 'TNK', 'TNK', 'Myeloisch', 'TNK', 'TNK', 'TNK', 'TNK', 'TNK', 'TNK', 'B', 'Others', 'TNK', 'B', 'TNK', 'TNK', 'Myeloisch', 'TNK', 'Myeloisch', 'B', 'B', 'B', 'B', 'TNK', 'Myeloisch', 'TNK', 'TNK', 'TNK', 'B', 'TNK', 'TNK', 'B', 'Myeloisch', 'TNK', 'B', 'TNK', 'TNK', 'TNK', 'Myeloisch', 'Myeloisch', 'Myeloisch', 'Myeloisch', 'TNK', 'B', 'TNK', 'Myeloisch', 'Myeloisch', 'Myeloisch', 'TNK', 'TNK', 'TNK', 'TNK', 'TNK', 'TNK', 'TNK', 'TNK', 'TNK', 'Myeloisch', 'TNK', 'TNK', 'TNK', 'B', 'B', 'B', 'Myeloisch', 'B', 'TNK', 'TNK', 'TNK', 'B', 'TNK', 'TNK', 'Myeloisch', 'TNK', 'TNK', 'TNK', 'TNK', 'Myeloisch', 'Myeloisch', 'B', 'TNK', 'B', 'TNK', 'Myeloisch', 'B', 'TNK', 'TNK', 'Myeloisch', 'Myeloisch', 'Myeloisch', 'TNK', 'B', 'TNK', 'TNK', 'TNK', 'B', 'TNK', 'Myeloisch', 'B', 'Myeloisch', 'TNK', 'TNK', 'TNK', 'TNK', 'Myeloisch', 'TNK', 'Myeloisch', 'TNK', 'TNK', 'Myeloisch', 'TNK', 'Myeloisch', 'TNK', 'TNK', 'Myeloisch', 'TNK', 'TNK', 'Myeloisch', 'TNK', 'TNK', 'Myeloisch', 'TNK', 'TNK', 'TNK', 'TNK', 'TNK', 'Others', 'Myeloisch', 'Myeloisch', 'TNK', 'Myeloisch', 'TNK', 'Myeloisch', 'TNK', 'TNK', 'TNK', 'TNK', 'TNK', 'TNK', 'TNK', 'TNK', 'TNK', 'Myeloisch', 'TNK', 'TNK', 'B', 'B', 'B', 'Myeloisch', 'TNK', 'TNK', 'TNK', 'TNK', 'TNK', 'TNK', 'Myeloisch', 'TNK', 'TNK', 'TNK', 'TNK', 'Myeloisch', 'TNK', 'B', 'TNK', 'TNK', 'Myeloisch', 'TNK', 'TNK', 'Myeloisch', 'TNK', 'TNK', 'Myeloisch', 'Myeloisch', 'TNK', 'TNK', 'TNK', 'Myeloisch', 'TNK', 'Myeloisch', 'TNK', 'Myeloisch', 'TNK', 'B', 'B', 'TNK', 'TNK', 'TNK', 'TNK', 'TNK', 'B', 'Myeloisch', 'B', 'Myeloisch', 'Myeloisch', 'Myeloisch', 'TNK', 'Myeloisch', 'TNK', 'TNK', 'TNK', 'Myeloisch', 'TNK', 'TNK', 'TNK', 'Myeloisch', 'TNK', 'TNK', 'TNK', 'TNK', 'TNK', 'TNK', 'TNK', 'TNK', 'TNK', 'Myeloisch', 'TNK', 'TNK', 'TNK', 'Myeloisch', 'TNK', 'TNK', 'TNK', 'TNK', 'Myeloisch', 'TNK', 'TNK', 'TNK', 'TNK', 'TNK', 'TNK', 'TNK', 'B', 'TNK', 'TNK', 'TNK', 'TNK', 'B', 'TNK', 'B', 'B', 'TNK', 'B', 'TNK', 'TNK', 'TNK', 'TNK', 'TNK', 'TNK', 'B', 'TNK', 'B', 'B', 'TNK', 'Myeloisch', 'TNK', 'TNK', 'TNK', 'TNK', 'B', 'TNK', 'TNK', 'TNK', 'TNK', 'TNK', 'TNK', 'TNK', 'TNK', 'TNK', 'B', 'TNK', 'TNK', 'Myeloisch', 'TNK', 'Myeloisch', 'TNK', 'Myeloisch', 'TNK', 'Myeloisch', 'TNK', 'TNK', 'Myeloisch', 'Myeloisch', 'TNK', 'TNK', 'Myeloisch', 'TNK', 'TNK', 'Myeloisch', 'TNK', 'TNK', 'Myeloisch', 'TNK', 'TNK', 'Myeloisch', 'Myeloisch', 'TNK', 'Myeloisch', 'TNK', 'TNK', 'TNK', 'TNK', 'B', 'B', 'TNK', 'TNK', 'TNK', 'TNK', 'TNK', 'B', 'B', 'TNK', 'TNK', 'B', 'TNK', 'TNK', 'B', 'TNK', 'Myeloisch', 'TNK', 'Myeloisch', 'TNK', 'Myeloisch', 'TNK', 'TNK', 'TNK', 'TNK', 'TNK', 'TNK', 'TNK', 'TNK', 'Myeloisch', 'B', 'TNK', 'TNK', 'Myeloisch', 'Myeloisch', 'TNK', 'Myeloisch', 'Myeloisch', 'Myeloisch', 'B', 'TNK', 'TNK', 'B', 'TNK', 'TNK', 'B', 'TNK', 'B', 'Myeloisch', 'TNK', 'TNK', 'TNK', 'TNK', 'Myeloisch', 'TNK', 'Myeloisch', 'TNK', 'TNK', 'TNK', 'TNK', 'Myeloisch', 'B', 'Myeloisch', 'TNK', 'TNK', 'Myeloisch', 'Myeloisch', 'TNK', 'TNK', 'B', 'TNK', 'TNK', 'TNK', 'TNK', 'Myeloisch', 'TNK', 'TNK', 'B', 'TNK', 'TNK', 'B', 'Myeloisch', 'Myeloisch', 'TNK', 'Myeloisch', 'Myeloisch', 'TNK', 'TNK', 'TNK', 'TNK', 'B', 'TNK', 'TNK', 'TNK', 'TNK', 'Myeloisch', 'TNK', 'TNK', 'TNK', 'TNK', 'TNK', 'Myeloisch', 'Myeloisch', 'TNK', 'Myeloisch', 'B', 'TNK', 'TNK', 'Myeloisch', 'TNK', 'TNK', 'Myeloisch', 'Myeloisch', 'TNK', 'TNK', 'B', 'B', 'Myeloisch', 'TNK', 'Myeloisch', 'B', 'TNK', 'TNK', 'TNK', 'TNK', 'TNK', 'B', 'Myeloisch', 'TNK', 'TNK', 'B', 'TNK', 'Myeloisch', 'Myeloisch', 'Myeloisch', 'B', 'TNK', 'Myeloisch', 'TNK', 'B', 'TNK', 'Myeloisch', 'Myeloisch', 'TNK', 'B', 'TNK', 'TNK', 'B', 'TNK', 'B', 'Myeloisch', 'TNK', 'TNK', 'TNK', 'Myeloisch', 'TNK', 'TNK', 'TNK', 'TNK', 'Myeloisch', 'TNK', 'B', 'Myeloisch', 'Myeloisch', 'TNK', 'TNK', 'B', 'TNK', 'Myeloisch', 'TNK', 'TNK', 'TNK', 'Myeloisch', 'TNK', 'TNK', 'TNK', 'TNK', 'B', 'B', 'TNK', 'TNK', 'TNK', 'TNK', 'Myeloisch', 'TNK', 'TNK', 'TNK', 'Myeloisch', 'TNK', 'TNK', 'TNK', 'B', 'Myeloisch', 'TNK', 'B', 'TNK', 'TNK', 'B', 'Myeloisch', 'Myeloisch', 'TNK', 'TNK', 'TNK', 'TNK', 'TNK', 'B', 'B', 'Myeloisch', 'TNK', 'TNK', 'B', 'Myeloisch', 'Myeloisch', 'TNK', 'TNK', 'TNK', 'TNK', 'TNK', 'TNK', 'TNK', 'TNK', 'TNK', 'Myeloisch', 'TNK', 'TNK', 'Myeloisch', 'TNK', 'TNK', 'TNK', 'TNK', 'TNK', 'TNK', 'Myeloisch', 'B', 'TNK', 'TNK', 'Myeloisch', 'TNK', 'Myeloisch', 'Myeloisch', 'B', 'TNK', 'TNK', 'Myeloisch', 'TNK', 'B', 'TNK', 'TNK', 'Myeloisch', 'TNK', 'TNK', 'TNK', 'TNK', 'Myeloisch', 'TNK', 'B', 'TNK', 'TNK', 'TNK', 'B', 'TNK', 'TNK', 'TNK', 'TNK', 'B', 'TNK', 'Myeloisch', 'TNK', 'TNK', 'TNK', 'TNK', 'TNK', 'TNK', 'Myeloisch', 'TNK', 'TNK', 'TNK', 'TNK', 'B', 'B', 'Myeloisch', 'Myeloisch', 'TNK', 'TNK', 'B', 'TNK', 'Myeloisch', 'Myeloisch', 'B', 'TNK', 'TNK', 'TNK', 'TNK', 'Myeloisch', 'TNK', 'TNK', 'TNK', 'Myeloisch', 'TNK', 'TNK', 'TNK', 'TNK', 'B', 'TNK', 'Myeloisch', 'TNK', 'TNK', 'Myeloisch', 'TNK', 'Myeloisch', 'TNK', 'TNK', 'TNK', 'TNK', 'Myeloisch', 'TNK', 'TNK', 'TNK', 'Myeloisch', 'TNK', 'Myeloisch', 'TNK', 'TNK', 'TNK', 'Myeloisch', 'TNK', 'TNK', 'TNK', 'TNK', 'TNK', 'TNK', 'TNK', 'TNK', 'TNK', 'Myeloisch', 'Myeloisch', 'TNK', 'Myeloisch', 'Myeloisch', 'TNK', 'TNK', 'TNK', 'TNK', 'TNK', 'TNK', 'TNK', 'Myeloisch', 'TNK', 'Myeloisch', 'Myeloisch', 'Myeloisch', 'Myeloisch', 'TNK', 'Myeloisch', 'TNK', 'TNK', 'Myeloisch', 'B', 'TNK', 'TNK', 'Myeloisch', 'TNK', 'TNK', 'TNK', 'TNK', 'Myeloisch', 'B', 'TNK', 'TNK', 'TNK', 'Myeloisch', 'TNK', 'TNK', 'TNK', 'TNK', 'Myeloisch', 'Myeloisch', 'Myeloisch', 'Myeloisch', 'TNK', 'B', 'Myeloisch', 'Myeloisch', 'TNK', 'TNK', 'TNK', 'TNK', 'TNK', 'B', 'B', 'TNK', 'TNK', 'TNK', 'TNK', 'Myeloisch', 'B', 'Myeloisch', 'TNK', 'Myeloisch', 'Myeloisch', 'Myeloisch', 'TNK', 'TNK', 'Myeloisch', 'Myeloisch', 'TNK', 'TNK', 'TNK', 'Myeloisch', 'TNK', 'TNK', 'B', 'TNK', 'TNK', 'TNK', 'Myeloisch', 'TNK', 'TNK', 'TNK', 'TNK', 'Myeloisch', 'TNK', 'TNK', 'Myeloisch', 'TNK', 'Myeloisch', 'TNK', 'TNK', 'TNK', 'TNK', 'TNK', 'Myeloisch', 'TNK', 'TNK', 'TNK', 'Myeloisch', 'TNK', 'Myeloisch', 'TNK', 'TNK', 'Myeloisch', 'TNK', 'TNK', 'TNK', 'TNK', 'TNK', 'Myeloisch', 'TNK', 'TNK', 'TNK', 'B', 'TNK', 'B', 'TNK', 'TNK', 'TNK', 'TNK', 'TNK', 'TNK', 'TNK', 'TNK', 'Myeloisch', 'TNK', 'TNK', 'TNK', 'TNK', 'TNK', 'TNK', 'TNK', 'TNK', 'TNK', 'TNK', 'TNK', 'TNK', 'TNK', 'TNK', 'TNK', 'B', 'Myeloisch', 'TNK', 'TNK', 'TNK', 'Myeloisch', 'TNK', 'TNK', 'TNK', 'Myeloisch', 'Myeloisch', 'TNK', 'TNK', 'B', 'TNK', 'TNK', 'TNK', 'B', 'TNK', 'Myeloisch', 'TNK', 'TNK', 'TNK', 'TNK', 'TNK', 'TNK', 'B', 'TNK', 'TNK', 'TNK', 'TNK', 'TNK', 'TNK', 'TNK', 'B', 'B', 'TNK', 'TNK', 'TNK', 'TNK', 'TNK', 'TNK', 'Myeloisch', 'TNK', 'TNK', 'TNK', 'TNK', 'TNK', 'TNK', 'TNK', 'TNK', 'TNK', 'TNK', 'TNK', 'TNK', 'TNK', 'TNK', 'TNK', 'TNK', 'Myeloisch', 'TNK', 'B', 'Myeloisch', 'Myeloisch', 'TNK', 'Myeloisch', 'B', 'TNK', 'Myeloisch', 'TNK', 'TNK', 'TNK', 'TNK', 'Myeloisch', 'TNK', 'TNK', 'TNK', 'TNK', 'TNK', 'Myeloisch', 'TNK', 'Myeloisch', 'Myeloisch', 'TNK', 'TNK', 'Myeloisch', 'TNK', 'TNK', 'Myeloisch', 'TNK', 'TNK', 'Myeloisch', 'B', 'B', 'TNK', 'Myeloisch', 'Myeloisch', 'TNK', 'TNK', 'Myeloisch', 'TNK', 'TNK', 'TNK', 'Myeloisch', 'B', 'TNK', 'TNK', 'TNK', 'TNK', 'B', 'TNK', 'TNK', 'TNK', 'B', 'Myeloisch', 'Myeloisch', 'Myeloisch', 'B', 'TNK', 'TNK', 'TNK', 'Myeloisch', 'TNK', 'TNK', 'B', 'TNK', 'Others', 'Myeloisch', 'Myeloisch', 'TNK', 'TNK', 'TNK', 'TNK', 'TNK', 'TNK', 'Myeloisch', 'B', 'B', 'TNK', 'TNK', 'TNK', 'Myeloisch', 'Myeloisch', 'TNK', 'TNK', 'B', 'B', 'Myeloisch', 'TNK', 'TNK', 'TNK', 'TNK', 'TNK', 'Myeloisch', 'TNK', 'Myeloisch', 'Myeloisch', 'B', 'TNK', 'B', 'TNK', 'TNK', 'TNK', 'TNK', 'TNK', 'TNK', 'TNK', 'Myeloisch', 'Myeloisch', 'TNK', 'Myeloisch', 'TNK', 'Myeloisch', 'Myeloisch', 'Myeloisch', 'TNK', 'TNK', 'TNK', 'B', 'TNK', 'TNK', 'B', 'B', 'TNK', 'B', 'TNK', 'B', 'TNK', 'TNK', 'Myeloisch', 'TNK', 'Myeloisch', 'Others', 'TNK', 'Myeloisch', 'Myeloisch', 'TNK', 'TNK', 'Myeloisch', 'Myeloisch', 'TNK', 'Myeloisch', 'TNK', 'TNK', 'TNK', 'TNK', 'TNK', 'TNK', 'TNK', 'Myeloisch', 'TNK', 'Myeloisch', 'TNK', 'TNK', 'TNK', 'Myeloisch', 'TNK', 'Myeloisch', 'TNK', 'B', 'B', 'Myeloisch', 'TNK', 'TNK', 'TNK', 'B', 'TNK', 'TNK', 'Myeloisch', 'Myeloisch', 'TNK', 'TNK', 'TNK', 'Myeloisch', 'TNK', 'TNK', 'TNK', 'Myeloisch', 'TNK', 'Myeloisch', 'TNK', 'B', 'B', 'B', 'B', 'TNK', 'TNK', 'B', 'Myeloisch', 'TNK', 'Myeloisch', 'Myeloisch', 'TNK', 'TNK', 'TNK', 'TNK', 'TNK', 'TNK', 'Myeloisch', 'TNK', 'TNK', 'TNK', 'TNK', 'Myeloisch', 'Myeloisch', 'Myeloisch', 'Myeloisch', 'Myeloisch', 'Myeloisch', 'TNK', 'TNK', 'Myeloisch', 'TNK', 'TNK', 'Myeloisch', 'TNK', 'B', 'TNK', 'B', 'Myeloisch', 'TNK', 'TNK', 'TNK', 'TNK', 'TNK', 'TNK', 'TNK', 'TNK', 'TNK', 'TNK', 'TNK', 'Myeloisch', 'TNK', 'TNK', 'TNK', 'TNK', 'TNK', 'TNK', 'TNK', 'TNK', 'TNK', 'TNK', 'Myeloisch', 'TNK', 'TNK', 'TNK', 'TNK', 'TNK', 'Myeloisch', 'TNK', 'TNK', 'Myeloisch', 'TNK', 'TNK', 'TNK', 'Myeloisch', 'Myeloisch', 'TNK', 'TNK', 'B', 'TNK', 'TNK', 'TNK', 'TNK', 'TNK', 'TNK', 'Myeloisch', 'TNK', 'TNK', 'TNK', 'B', 'TNK', 'Myeloisch', 'TNK', 'TNK', 'TNK', 'Myeloisch', 'TNK', 'Others', 'TNK', 'Myeloisch', 'TNK', 'B', 'TNK', 'Myeloisch', 'TNK', 'TNK', 'B', 'Myeloisch', 'Myeloisch', 'TNK', 'TNK', 'Myeloisch', 'TNK', 'B', 'Myeloisch', 'TNK', 'TNK', 'TNK', 'TNK', 'B', 'TNK', 'TNK', 'Myeloisch', 'TNK', 'TNK', 'TNK', 'TNK', 'TNK', 'B', 'TNK', 'TNK', 'TNK', 'TNK', 'Myeloisch', 'Myeloisch', 'Myeloisch', 'TNK', 'TNK', 'Myeloisch', 'TNK', 'Myeloisch', 'Others', 'TNK', 'Myeloisch', 'TNK', 'Myeloisch', 'B', 'Myeloisch', 'TNK', 'TNK', 'TNK', 'Myeloisch', 'TNK', 'TNK', 'B', 'Myeloisch', 'TNK', 'TNK', 'TNK', 'B', 'TNK', 'Myeloisch', 'Myeloisch', 'Myeloisch', 'TNK', 'Myeloisch', 'TNK', 'Myeloisch', 'TNK', 'TNK', 'Myeloisch', 'B', 'B', 'B', 'Myeloisch', 'TNK', 'TNK', 'Myeloisch', 'Myeloisch', 'Myeloisch', 'TNK', 'TNK', 'TNK', 'TNK', 'TNK', 'TNK', 'TNK', 'B', 'TNK', 'Myeloisch', 'TNK', 'TNK', 'TNK', 'Myeloisch', 'TNK', 'Myeloisch', 'TNK', 'B', 'TNK', 'B', 'TNK', 'TNK', 'Myeloisch', 'Others', 'TNK', 'TNK', 'TNK', 'Myeloisch', 'TNK', 'TNK', 'TNK', 'Myeloisch', 'TNK', 'TNK', 'TNK', 'Myeloisch', 'TNK', 'TNK', 'TNK', 'TNK', 'TNK', 'TNK', 'TNK', 'TNK', 'TNK', 'TNK', 'Myeloisch', 'TNK', 'TNK', 'TNK', 'Myeloisch', 'TNK', 'B', 'Myeloisch', 'Myeloisch', 'TNK', 'TNK', 'TNK', 'TNK', 'TNK', 'TNK', 'TNK', 'Myeloisch', 'TNK', 'B', 'B', 'TNK', 'Myeloisch', 'TNK', 'Myeloisch', 'TNK', 'TNK', 'TNK', 'TNK', 'Myeloisch', 'B', 'Myeloisch', 'B', 'TNK', 'TNK', 'TNK', 'B', 'TNK', 'Myeloisch', 'Myeloisch', 'TNK', 'B', 'TNK', 'TNK', 'TNK', 'TNK', 'Myeloisch', 'TNK', 'Myeloisch', 'TNK', 'Myeloisch', 'TNK', 'Myeloisch', 'B', 'TNK', 'Myeloisch', 'Myeloisch', 'B', 'Myeloisch', 'TNK', 'Myeloisch', 'TNK', 'Myeloisch', 'TNK', 'Myeloisch', 'TNK', 'TNK', 'Myeloisch', 'B', 'B', 'B', 'TNK', 'B', 'Myeloisch', 'Myeloisch', 'TNK', 'TNK', 'TNK', 'Myeloisch', 'TNK', 'TNK', 'TNK', 'Myeloisch', 'TNK', 'Myeloisch', 'B', 'Myeloisch', 'B', 'Myeloisch', 'TNK', 'TNK', 'TNK', 'Myeloisch', 'TNK', 'Myeloisch', 'Myeloisch', 'TNK', 'Myeloisch', 'TNK', 'TNK', 'TNK', 'TNK', 'TNK', 'TNK', 'TNK', 'TNK', 'Myeloisch', 'TNK', 'TNK', 'TNK', 'TNK', 'TNK', 'B', 'TNK', 'Others', 'TNK', 'TNK', 'TNK', 'TNK', 'TNK', 'TNK', 'TNK', 'Myeloisch', 'Myeloisch', 'TNK', 'B', 'TNK', 'Myeloisch', 'TNK', 'TNK', 'TNK', 'TNK', 'B', 'TNK', 'TNK', 'Myeloisch', 'Myeloisch', 'TNK', 'B', 'TNK', 'TNK', 'TNK', 'TNK', 'TNK', 'TNK', 'B', 'Myeloisch', 'B', 'Myeloisch', 'Myeloisch', 'TNK', 'B', 'TNK', 'Myeloisch', 'TNK', 'Myeloisch', 'TNK', 'B', 'TNK', 'TNK', 'TNK', 'Myeloisch', 'TNK', 'Myeloisch', 'Myeloisch', 'Myeloisch', 'TNK', 'TNK', 'TNK', 'TNK', 'Myeloisch', 'TNK', 'Myeloisch', 'TNK', 'TNK', 'B', 'TNK', 'TNK', 'B', 'Myeloisch', 'Myeloisch', 'Others', 'B', 'TNK', 'Myeloisch', 'TNK', 'TNK', 'TNK', 'TNK', 'Myeloisch', 'B', 'Myeloisch', 'Myeloisch', 'Myeloisch', 'B', 'Myeloisch', 'Myeloisch', 'TNK', 'TNK', 'Myeloisch', 'Myeloisch', 'TNK', 'TNK', 'TNK', 'TNK', 'Myeloisch', 'TNK', 'TNK', 'B', 'B', 'TNK', 'TNK', 'TNK', 'TNK', 'Myeloisch', 'TNK', 'Myeloisch', 'TNK', 'TNK', 'Myeloisch', 'TNK', 'TNK', 'TNK', 'TNK', 'TNK', 'TNK', 'TNK', 'B', 'TNK', 'TNK', 'Myeloisch', 'Myeloisch', 'Myeloisch', 'TNK', 'TNK', 'TNK', 'TNK', 'TNK', 'TNK', 'TNK', 'TNK', 'Myeloisch', 'TNK', 'TNK', 'B', 'B', 'Myeloisch', 'TNK', 'TNK', 'B', 'TNK', 'Myeloisch', 'B', 'TNK', 'Myeloisch', 'TNK', 'TNK', 'TNK', 'Myeloisch', 'Myeloisch', 'TNK', 'TNK', 'Myeloisch', 'B', 'TNK', 'Myeloisch', 'TNK', 'B', 'TNK', 'TNK', 'Myeloisch', 'B', 'TNK', 'B', 'TNK', 'TNK', 'Myeloisch', 'TNK', 'TNK', 'TNK', 'TNK', 'TNK', 'B', 'B', 'TNK', 'Myeloisch', 'TNK', 'TNK', 'TNK', 'TNK', 'TNK', 'TNK', 'Myeloisch', 'TNK', 'TNK', 'TNK', 'TNK', 'Myeloisch', 'B', 'TNK', 'TNK', 'TNK', 'B', 'TNK', 'B', 'B', 'Myeloisch', 'TNK', 'Myeloisch', 'TNK', 'TNK', 'B', 'TNK', 'B', 'TNK', 'TNK', 'TNK', 'Myeloisch', 'TNK', 'TNK', 'TNK', 'Myeloisch', 'B', 'TNK', 'TNK', 'TNK', 'TNK', 'Myeloisch', 'Myeloisch', 'TNK', 'TNK', 'TNK', 'TNK', 'Myeloisch', 'TNK', 'TNK', 'TNK', 'TNK', 'B', 'TNK', 'TNK', 'TNK', 'Myeloisch', 'TNK', 'Myeloisch', 'TNK', 'TNK', 'Myeloisch', 'TNK', 'TNK', 'TNK', 'TNK', 'Myeloisch', 'TNK', 'TNK', 'Myeloisch', 'B', 'TNK', 'B', 'Myeloisch', 'B', 'Myeloisch', 'TNK', 'TNK', 'TNK', 'TNK', 'TNK', 'Myeloisch', 'Myeloisch', 'TNK', 'Myeloisch', 'TNK', 'TNK', 'Myeloisch', 'TNK', 'TNK', 'TNK', 'Myeloisch', 'TNK', 'TNK', 'Myeloisch', 'TNK', 'TNK', 'TNK', 'B', 'TNK', 'B', 'TNK', 'Myeloisch', 'TNK', 'TNK', 'TNK', 'B', 'TNK', 'TNK', 'TNK', 'TNK', 'Myeloisch', 'TNK', 'TNK', 'TNK', 'TNK', 'TNK', 'TNK', 'TNK', 'TNK', 'Myeloisch', 'B', 'TNK', 'B', 'TNK', 'TNK', 'TNK', 'TNK', 'Myeloisch', 'Myeloisch', 'TNK', 'TNK', 'Myeloisch', 'B', 'Myeloisch', 'TNK', 'TNK', 'TNK', 'TNK', 'TNK', 'Myeloisch', 'TNK', 'TNK', 'TNK', 'TNK', 'TNK', 'Myeloisch', 'TNK', 'TNK', 'TNK', 'B', 'TNK', 'TNK', 'TNK', 'TNK', 'Myeloisch', 'TNK', 'Myeloisch', 'Myeloisch', 'B', 'TNK', 'TNK', 'B', 'TNK', 'B', 'TNK', 'TNK', 'B', 'TNK', 'TNK', 'Myeloisch', 'Myeloisch', 'TNK', 'TNK', 'TNK', 'TNK', 'Myeloisch', 'B', 'Myeloisch', 'Myeloisch', 'TNK', 'TNK', 'TNK', 'B', 'TNK', 'TNK', 'TNK', 'Myeloisch', 'Myeloisch', 'TNK', 'Myeloisch', 'TNK', 'TNK', 'TNK', 'TNK', 'TNK', 'B', 'TNK', 'TNK', 'TNK', 'B', 'TNK', 'TNK', 'TNK', 'TNK', 'Myeloisch', 'TNK', 'TNK', 'Myeloisch', 'TNK', 'TNK', 'B', 'TNK', 'TNK', 'Myeloisch', 'TNK', 'TNK', 'TNK', 'TNK', 'TNK', 'Myeloisch', 'Myeloisch', 'Myeloisch', 'TNK', 'TNK', 'B', 'TNK', 'TNK', 'Myeloisch', 'TNK', 'Myeloisch', 'TNK', 'TNK', 'TNK', 'TNK', 'TNK', 'TNK', 'B', 'TNK', 'B', 'TNK', 'TNK', 'B', 'TNK', 'TNK', 'B', 'TNK', 'TNK', 'TNK', 'Myeloisch', 'Myeloisch', 'Myeloisch', 'TNK', 'TNK', 'TNK', 'Myeloisch', 'TNK', 'TNK', 'TNK', 'B', 'B', 'B', 'TNK', 'TNK', 'B', 'B', 'B', 'Myeloisch', 'Myeloisch', 'Myeloisch', 'B', 'TNK', 'TNK', 'TNK', 'Myeloisch', 'TNK', 'Myeloisch', 'TNK', 'B', 'TNK', 'TNK', 'TNK', 'Myeloisch', 'TNK', 'TNK', 'Myeloisch', 'TNK', 'TNK', 'TNK', 'Myeloisch', 'TNK', 'TNK', 'TNK', 'TNK', 'TNK', 'B', 'B', 'TNK', 'B', 'TNK', 'Myeloisch', 'TNK', 'TNK', 'B', 'TNK', 'TNK', 'Myeloisch', 'TNK', 'TNK', 'TNK', 'TNK', 'TNK', 'Myeloisch', 'TNK', 'TNK', 'Myeloisch', 'Myeloisch', 'Myeloisch', 'TNK', 'B', 'TNK', 'Myeloisch', 'TNK', 'TNK', 'TNK', 'TNK', 'B', 'TNK', 'TNK', 'TNK', 'TNK', 'TNK', 'TNK', 'TNK', 'TNK', 'TNK', 'TNK', 'TNK', 'B', 'TNK', 'B', 'Myeloisch', 'Myeloisch', 'TNK', 'TNK', 'TNK', 'TNK', 'TNK', 'TNK', 'TNK', 'TNK', 'TNK', 'Myeloisch', 'TNK', 'TNK', 'B', 'TNK', 'Myeloisch', 'Others', 'Myeloisch', 'Myeloisch', 'TNK', 'Myeloisch', 'TNK', 'TNK', 'TNK', 'Myeloisch', 'TNK', 'TNK', 'TNK', 'TNK', 'B', 'TNK', 'Myeloisch', 'TNK', 'B', 'Myeloisch', 'TNK', 'B', 'TNK', 'TNK', 'B', 'Myeloisch', 'Myeloisch', 'B', 'B', 'TNK', 'TNK', 'TNK', 'Myeloisch', 'Myeloisch', 'Myeloisch', 'TNK', 'TNK', 'TNK', 'TNK', 'Myeloisch', 'TNK', 'TNK', 'TNK', 'TNK', 'TNK', 'Myeloisch', 'TNK', 'Myeloisch', 'TNK', 'B', 'Myeloisch', 'TNK', 'Myeloisch', 'TNK', 'Myeloisch', 'B', 'Myeloisch', 'TNK', 'Myeloisch', 'TNK', 'Myeloisch', 'Myeloisch', 'TNK', 'TNK', 'TNK', 'TNK', 'TNK', 'TNK', 'Myeloisch', 'TNK', 'TNK', 'TNK', 'TNK', 'Myeloisch', 'TNK', 'TNK', 'TNK', 'Myeloisch', 'Myeloisch', 'TNK', 'TNK', 'B', 'TNK', 'Myeloisch', 'TNK', 'B', 'TNK', 'TNK', 'B', 'TNK', 'B', 'Myeloisch', 'Myeloisch', 'TNK', 'TNK', 'Myeloisch', 'TNK', 'TNK', 'TNK', 'TNK', 'Myeloisch', 'TNK', 'TNK', 'Myeloisch', 'B', 'TNK', 'TNK', 'TNK', 'B', 'B', 'B', 'B', 'TNK', 'B', 'Myeloisch', 'B', 'TNK', 'Myeloisch', 'Myeloisch', 'Myeloisch', 'TNK', 'TNK', 'TNK', 'B', 'Myeloisch', 'B', 'TNK', 'Myeloisch', 'Myeloisch', 'B', 'B', 'B', 'TNK']\n"
          ]
        }
      ]
    },
    {
      "cell_type": "code",
      "source": [
        "#all set up - run local classifier\n",
        "hc.run_local_classifier('all')"
      ],
      "metadata": {
        "colab": {
          "base_uri": "https://localhost:8080/"
        },
        "id": "WZlrPIwMDbeb",
        "outputId": "adf1e9da-4e2e-4037-ede8-e2e55647bf2b"
      },
      "execution_count": 302,
      "outputs": [
        {
          "output_type": "stream",
          "name": "stdout",
          "text": [
            "network y_input before encoding: ['TNK', 'B', 'TNK', 'TNK', 'Myeloisch', 'TNK', 'TNK', 'TNK', 'TNK', 'TNK', 'B', 'TNK', 'TNK', 'Myeloisch', 'TNK', 'TNK', 'Myeloisch', 'TNK', 'B', 'B', 'B', 'TNK', 'Myeloisch', 'B', 'TNK', 'TNK', 'TNK', 'TNK', 'TNK', 'TNK', 'TNK', 'B', 'Myeloisch', 'TNK', 'Myeloisch', 'TNK', 'Myeloisch', 'TNK', 'TNK', 'Myeloisch', 'TNK', 'TNK', 'TNK', 'TNK', 'TNK', 'TNK', 'TNK', 'Myeloisch', 'TNK', 'TNK', 'TNK', 'TNK', 'TNK', 'TNK', 'TNK', 'B', 'Myeloisch', 'TNK', 'Myeloisch', 'TNK', 'TNK', 'TNK', 'Myeloisch', 'TNK', 'TNK', 'TNK', 'TNK', 'TNK', 'TNK', 'TNK', 'TNK', 'Myeloisch', 'TNK', 'Myeloisch', 'TNK', 'B', 'TNK', 'TNK', 'TNK', 'Myeloisch', 'Myeloisch', 'TNK', 'TNK', 'TNK', 'Myeloisch', 'B', 'TNK', 'TNK', 'B', 'B', 'TNK', 'Myeloisch', 'B', 'B', 'Myeloisch', 'Myeloisch', 'TNK', 'Myeloisch', 'Myeloisch', 'Myeloisch', 'Myeloisch', 'Myeloisch', 'TNK', 'TNK', 'Myeloisch', 'B', 'TNK', 'B', 'TNK', 'Myeloisch', 'Myeloisch', 'TNK', 'TNK', 'TNK', 'Myeloisch', 'TNK', 'TNK', 'B', 'TNK', 'TNK', 'TNK', 'Myeloisch', 'B', 'TNK', 'TNK', 'TNK', 'Myeloisch', 'B', 'Myeloisch', 'TNK', 'TNK', 'TNK', 'TNK', 'TNK', 'B', 'TNK', 'TNK', 'TNK', 'TNK', 'B', 'TNK', 'TNK', 'Myeloisch', 'B', 'TNK', 'TNK', 'B', 'TNK', 'Myeloisch', 'Myeloisch', 'TNK', 'TNK', 'TNK', 'TNK', 'Myeloisch', 'TNK', 'TNK', 'Myeloisch', 'TNK', 'Myeloisch', 'B', 'Myeloisch', 'B', 'Myeloisch', 'TNK', 'B', 'TNK', 'TNK', 'TNK', 'TNK', 'TNK', 'TNK', 'TNK', 'Myeloisch', 'TNK', 'Myeloisch', 'TNK', 'TNK', 'B', 'B', 'TNK', 'B', 'TNK', 'TNK', 'Myeloisch', 'Myeloisch', 'Myeloisch', 'TNK', 'Myeloisch', 'TNK', 'B', 'TNK', 'B', 'TNK', 'Myeloisch', 'TNK', 'TNK', 'Myeloisch', 'TNK', 'TNK', 'Myeloisch', 'TNK', 'TNK', 'TNK', 'TNK', 'TNK', 'TNK', 'TNK', 'TNK', 'Myeloisch', 'TNK', 'TNK', 'TNK', 'TNK', 'TNK', 'Myeloisch', 'Myeloisch', 'TNK', 'B', 'TNK', 'TNK', 'Myeloisch', 'TNK', 'TNK', 'TNK', 'TNK', 'TNK', 'TNK', 'TNK', 'TNK', 'TNK', 'B', 'TNK', 'TNK', 'Myeloisch', 'TNK', 'TNK', 'TNK', 'TNK', 'TNK', 'TNK', 'B', 'Myeloisch', 'TNK', 'Others', 'Myeloisch', 'TNK', 'Myeloisch', 'TNK', 'B', 'TNK', 'Myeloisch', 'TNK', 'B', 'Myeloisch', 'TNK', 'TNK', 'B', 'B', 'TNK', 'TNK', 'TNK', 'TNK', 'TNK', 'TNK', 'Myeloisch', 'Myeloisch', 'Myeloisch', 'TNK', 'Myeloisch', 'Others', 'TNK', 'B', 'TNK', 'TNK', 'B', 'TNK', 'Myeloisch', 'TNK', 'TNK', 'B', 'B', 'Myeloisch', 'Myeloisch', 'TNK', 'TNK', 'TNK', 'Myeloisch', 'B', 'TNK', 'Myeloisch', 'TNK', 'TNK', 'TNK', 'TNK', 'B', 'TNK', 'TNK', 'TNK', 'Myeloisch', 'Myeloisch', 'TNK', 'Myeloisch', 'B', 'TNK', 'TNK', 'TNK', 'TNK', 'TNK', 'TNK', 'TNK', 'Myeloisch', 'B', 'B', 'TNK', 'TNK', 'TNK', 'B', 'TNK', 'Myeloisch', 'TNK', 'Myeloisch', 'TNK', 'Myeloisch', 'Myeloisch', 'B', 'Myeloisch', 'TNK', 'TNK', 'Myeloisch', 'TNK', 'TNK', 'TNK', 'TNK', 'TNK', 'Myeloisch', 'Myeloisch', 'B', 'Myeloisch', 'TNK', 'TNK', 'Myeloisch', 'TNK', 'TNK', 'TNK', 'TNK', 'TNK', 'TNK', 'TNK', 'TNK', 'TNK', 'B', 'Myeloisch', 'TNK', 'Myeloisch', 'Myeloisch', 'TNK', 'TNK', 'TNK', 'TNK', 'TNK', 'B', 'TNK', 'Myeloisch', 'Myeloisch', 'TNK', 'B', 'Myeloisch', 'TNK', 'TNK', 'Myeloisch', 'TNK', 'TNK', 'TNK', 'Myeloisch', 'TNK', 'B', 'B', 'Myeloisch', 'TNK', 'TNK', 'Myeloisch', 'TNK', 'TNK', 'Myeloisch', 'B', 'TNK', 'Myeloisch', 'Myeloisch', 'B', 'TNK', 'TNK', 'TNK', 'TNK', 'TNK', 'TNK', 'TNK', 'Myeloisch', 'Myeloisch', 'TNK', 'TNK', 'TNK', 'B', 'Myeloisch', 'TNK', 'TNK', 'TNK', 'B', 'B', 'TNK', 'TNK', 'B', 'TNK', 'Myeloisch', 'TNK', 'TNK', 'TNK', 'TNK', 'TNK', 'B', 'Myeloisch', 'TNK', 'B', 'TNK', 'Myeloisch', 'Myeloisch', 'B', 'B', 'TNK', 'TNK', 'Myeloisch', 'Myeloisch', 'Myeloisch', 'TNK', 'TNK', 'TNK', 'TNK', 'Myeloisch', 'TNK', 'TNK', 'B', 'Myeloisch', 'TNK', 'Myeloisch', 'TNK', 'TNK', 'TNK', 'TNK', 'TNK', 'TNK', 'TNK', 'TNK', 'TNK', 'TNK', 'B', 'Myeloisch', 'TNK', 'TNK', 'TNK', 'Myeloisch', 'TNK', 'TNK', 'TNK', 'TNK', 'TNK', 'TNK', 'TNK', 'Myeloisch', 'TNK', 'TNK', 'TNK', 'TNK', 'TNK', 'TNK', 'TNK', 'TNK', 'TNK', 'TNK', 'B', 'TNK', 'TNK', 'TNK', 'TNK', 'TNK', 'TNK', 'TNK', 'TNK', 'Myeloisch', 'B', 'Myeloisch', 'TNK', 'TNK', 'TNK', 'TNK', 'TNK', 'TNK', 'Myeloisch', 'TNK', 'TNK', 'TNK', 'TNK', 'TNK', 'Myeloisch', 'TNK', 'B', 'Myeloisch', 'TNK', 'Myeloisch', 'B', 'TNK', 'TNK', 'TNK', 'TNK', 'B', 'Myeloisch', 'Myeloisch', 'TNK', 'TNK', 'TNK', 'Myeloisch', 'B', 'TNK', 'TNK', 'TNK', 'TNK', 'B', 'TNK', 'TNK', 'TNK', 'TNK', 'TNK', 'Myeloisch', 'TNK', 'TNK', 'TNK', 'TNK', 'TNK', 'TNK', 'TNK', 'TNK', 'Myeloisch', 'TNK', 'TNK', 'TNK', 'Others', 'TNK', 'TNK', 'TNK', 'Myeloisch', 'TNK', 'Myeloisch', 'TNK', 'TNK', 'Myeloisch', 'TNK', 'TNK', 'TNK', 'TNK', 'TNK', 'Myeloisch', 'TNK', 'B', 'TNK', 'Myeloisch', 'TNK', 'TNK', 'TNK', 'TNK', 'TNK', 'B', 'TNK', 'TNK', 'B', 'TNK', 'TNK', 'Myeloisch', 'TNK', 'Myeloisch', 'Myeloisch', 'Myeloisch', 'Myeloisch', 'Myeloisch', 'TNK', 'Myeloisch', 'TNK', 'TNK', 'TNK', 'Myeloisch', 'Myeloisch', 'B', 'B', 'Myeloisch', 'Myeloisch', 'TNK', 'Myeloisch', 'TNK', 'TNK', 'B', 'TNK', 'TNK', 'Myeloisch', 'Myeloisch', 'TNK', 'TNK', 'TNK', 'Myeloisch', 'TNK', 'Myeloisch', 'TNK', 'TNK', 'TNK', 'TNK', 'TNK', 'TNK', 'TNK', 'TNK', 'Myeloisch', 'Myeloisch', 'TNK', 'TNK', 'TNK', 'Myeloisch', 'TNK', 'TNK', 'TNK', 'TNK', 'TNK', 'TNK', 'B', 'Others', 'TNK', 'B', 'TNK', 'TNK', 'Myeloisch', 'TNK', 'Myeloisch', 'B', 'B', 'B', 'B', 'TNK', 'Myeloisch', 'TNK', 'TNK', 'TNK', 'B', 'TNK', 'TNK', 'B', 'Myeloisch', 'TNK', 'B', 'TNK', 'TNK', 'TNK', 'Myeloisch', 'Myeloisch', 'Myeloisch', 'Myeloisch', 'TNK', 'B', 'TNK', 'Myeloisch', 'Myeloisch', 'Myeloisch', 'TNK', 'TNK', 'TNK', 'TNK', 'TNK', 'TNK', 'TNK', 'TNK', 'TNK', 'Myeloisch', 'TNK', 'TNK', 'TNK', 'B', 'B', 'B', 'Myeloisch', 'B', 'TNK', 'TNK', 'TNK', 'B', 'TNK', 'TNK', 'Myeloisch', 'TNK', 'TNK', 'TNK', 'TNK', 'Myeloisch', 'Myeloisch', 'B', 'TNK', 'B', 'TNK', 'Myeloisch', 'B', 'TNK', 'TNK', 'Myeloisch', 'Myeloisch', 'Myeloisch', 'TNK', 'B', 'TNK', 'TNK', 'TNK', 'B', 'TNK', 'Myeloisch', 'B', 'Myeloisch', 'TNK', 'TNK', 'TNK', 'TNK', 'Myeloisch', 'TNK', 'Myeloisch', 'TNK', 'TNK', 'Myeloisch', 'TNK', 'Myeloisch', 'TNK', 'TNK', 'Myeloisch', 'TNK', 'TNK', 'Myeloisch', 'TNK', 'TNK', 'Myeloisch', 'TNK', 'TNK', 'TNK', 'TNK', 'TNK', 'Others', 'Myeloisch', 'Myeloisch', 'TNK', 'Myeloisch', 'TNK', 'Myeloisch', 'TNK', 'TNK', 'TNK', 'TNK', 'TNK', 'TNK', 'TNK', 'TNK', 'TNK', 'Myeloisch', 'TNK', 'TNK', 'B', 'B', 'B', 'Myeloisch', 'TNK', 'TNK', 'TNK', 'TNK', 'TNK', 'TNK', 'Myeloisch', 'TNK', 'TNK', 'TNK', 'TNK', 'Myeloisch', 'TNK', 'B', 'TNK', 'TNK', 'Myeloisch', 'TNK', 'TNK', 'Myeloisch', 'TNK', 'TNK', 'Myeloisch', 'Myeloisch', 'TNK', 'TNK', 'TNK', 'Myeloisch', 'TNK', 'Myeloisch', 'TNK', 'Myeloisch', 'TNK', 'B', 'B', 'TNK', 'TNK', 'TNK', 'TNK', 'TNK', 'B', 'Myeloisch', 'B', 'Myeloisch', 'Myeloisch', 'Myeloisch', 'TNK', 'Myeloisch', 'TNK', 'TNK', 'TNK', 'Myeloisch', 'TNK', 'TNK', 'TNK', 'Myeloisch', 'TNK', 'TNK', 'TNK', 'TNK', 'TNK', 'TNK', 'TNK', 'TNK', 'TNK', 'Myeloisch', 'TNK', 'TNK', 'TNK', 'Myeloisch', 'TNK', 'TNK', 'TNK', 'TNK', 'Myeloisch', 'TNK', 'TNK', 'TNK', 'TNK', 'TNK', 'TNK', 'TNK', 'B', 'TNK', 'TNK', 'TNK', 'TNK', 'B', 'TNK', 'B', 'B', 'TNK', 'B', 'TNK', 'TNK', 'TNK', 'TNK', 'TNK', 'TNK', 'B', 'TNK', 'B', 'B', 'TNK', 'Myeloisch', 'TNK', 'TNK', 'TNK', 'TNK', 'B', 'TNK', 'TNK', 'TNK', 'TNK', 'TNK', 'TNK', 'TNK', 'TNK', 'TNK', 'B', 'TNK', 'TNK', 'Myeloisch', 'TNK', 'Myeloisch', 'TNK', 'Myeloisch', 'TNK', 'Myeloisch', 'TNK', 'TNK', 'Myeloisch', 'Myeloisch', 'TNK', 'TNK', 'Myeloisch', 'TNK', 'TNK', 'Myeloisch', 'TNK', 'TNK', 'Myeloisch', 'TNK', 'TNK', 'Myeloisch', 'Myeloisch', 'TNK', 'Myeloisch', 'TNK', 'TNK', 'TNK', 'TNK', 'B', 'B', 'TNK', 'TNK', 'TNK', 'TNK', 'TNK', 'B', 'B', 'TNK', 'TNK', 'B', 'TNK', 'TNK', 'B', 'TNK', 'Myeloisch', 'TNK', 'Myeloisch', 'TNK', 'Myeloisch', 'TNK', 'TNK', 'TNK', 'TNK', 'TNK', 'TNK', 'TNK', 'TNK', 'Myeloisch', 'B', 'TNK', 'TNK', 'Myeloisch', 'Myeloisch', 'TNK', 'Myeloisch', 'Myeloisch', 'Myeloisch', 'B', 'TNK', 'TNK', 'B', 'TNK', 'TNK', 'B', 'TNK', 'B', 'Myeloisch', 'TNK', 'TNK', 'TNK', 'TNK', 'Myeloisch', 'TNK', 'Myeloisch', 'TNK', 'TNK', 'TNK', 'TNK', 'Myeloisch', 'B', 'Myeloisch', 'TNK', 'TNK', 'Myeloisch', 'Myeloisch', 'TNK', 'TNK', 'B', 'TNK', 'TNK', 'TNK', 'TNK', 'Myeloisch', 'TNK', 'TNK', 'B', 'TNK', 'TNK', 'B', 'Myeloisch', 'Myeloisch', 'TNK', 'Myeloisch', 'Myeloisch', 'TNK', 'TNK', 'TNK', 'TNK', 'B', 'TNK', 'TNK', 'TNK', 'TNK', 'Myeloisch', 'TNK', 'TNK', 'TNK', 'TNK', 'TNK', 'Myeloisch', 'Myeloisch', 'TNK', 'Myeloisch', 'B', 'TNK', 'TNK', 'Myeloisch', 'TNK', 'TNK', 'Myeloisch', 'Myeloisch', 'TNK', 'TNK', 'B', 'B', 'Myeloisch', 'TNK', 'Myeloisch', 'B', 'TNK', 'TNK', 'TNK', 'TNK', 'TNK', 'B', 'Myeloisch', 'TNK', 'TNK', 'B', 'TNK', 'Myeloisch', 'Myeloisch', 'Myeloisch', 'B', 'TNK', 'Myeloisch', 'TNK', 'B', 'TNK', 'Myeloisch', 'Myeloisch', 'TNK', 'B', 'TNK', 'TNK', 'B', 'TNK', 'B', 'Myeloisch', 'TNK', 'TNK', 'TNK', 'Myeloisch', 'TNK', 'TNK', 'TNK', 'TNK', 'Myeloisch', 'TNK', 'B', 'Myeloisch', 'Myeloisch', 'TNK', 'TNK', 'B', 'TNK', 'Myeloisch', 'TNK', 'TNK', 'TNK', 'Myeloisch', 'TNK', 'TNK', 'TNK', 'TNK', 'B', 'B', 'TNK', 'TNK', 'TNK', 'TNK', 'Myeloisch', 'TNK', 'TNK', 'TNK', 'Myeloisch', 'TNK', 'TNK', 'TNK', 'B', 'Myeloisch', 'TNK', 'B', 'TNK', 'TNK', 'B', 'Myeloisch', 'Myeloisch', 'TNK', 'TNK', 'TNK', 'TNK', 'TNK', 'B', 'B', 'Myeloisch', 'TNK', 'TNK', 'B', 'Myeloisch', 'Myeloisch', 'TNK', 'TNK', 'TNK', 'TNK', 'TNK', 'TNK', 'TNK', 'TNK', 'TNK', 'Myeloisch', 'TNK', 'TNK', 'Myeloisch', 'TNK', 'TNK', 'TNK', 'TNK', 'TNK', 'TNK', 'Myeloisch', 'B', 'TNK', 'TNK', 'Myeloisch', 'TNK', 'Myeloisch', 'Myeloisch', 'B', 'TNK', 'TNK', 'Myeloisch', 'TNK', 'B', 'TNK', 'TNK', 'Myeloisch', 'TNK', 'TNK', 'TNK', 'TNK', 'Myeloisch', 'TNK', 'B', 'TNK', 'TNK', 'TNK', 'B', 'TNK', 'TNK', 'TNK', 'TNK', 'B', 'TNK', 'Myeloisch', 'TNK', 'TNK', 'TNK', 'TNK', 'TNK', 'TNK', 'Myeloisch', 'TNK', 'TNK', 'TNK', 'TNK', 'B', 'B', 'Myeloisch', 'Myeloisch', 'TNK', 'TNK', 'B', 'TNK', 'Myeloisch', 'Myeloisch', 'B', 'TNK', 'TNK', 'TNK', 'TNK', 'Myeloisch', 'TNK', 'TNK', 'TNK', 'Myeloisch', 'TNK', 'TNK', 'TNK', 'TNK', 'B', 'TNK', 'Myeloisch', 'TNK', 'TNK', 'Myeloisch', 'TNK', 'Myeloisch', 'TNK', 'TNK', 'TNK', 'TNK', 'Myeloisch', 'TNK', 'TNK', 'TNK', 'Myeloisch', 'TNK', 'Myeloisch', 'TNK', 'TNK', 'TNK', 'Myeloisch', 'TNK', 'TNK', 'TNK', 'TNK', 'TNK', 'TNK', 'TNK', 'TNK', 'TNK', 'Myeloisch', 'Myeloisch', 'TNK', 'Myeloisch', 'Myeloisch', 'TNK', 'TNK', 'TNK', 'TNK', 'TNK', 'TNK', 'TNK', 'Myeloisch', 'TNK', 'Myeloisch', 'Myeloisch', 'Myeloisch', 'Myeloisch', 'TNK', 'Myeloisch', 'TNK', 'TNK', 'Myeloisch', 'B', 'TNK', 'TNK', 'Myeloisch', 'TNK', 'TNK', 'TNK', 'TNK', 'Myeloisch', 'B', 'TNK', 'TNK', 'TNK', 'Myeloisch', 'TNK', 'TNK', 'TNK', 'TNK', 'Myeloisch', 'Myeloisch', 'Myeloisch', 'Myeloisch', 'TNK', 'B', 'Myeloisch', 'Myeloisch', 'TNK', 'TNK', 'TNK', 'TNK', 'TNK', 'B', 'B', 'TNK', 'TNK', 'TNK', 'TNK', 'Myeloisch', 'B', 'Myeloisch', 'TNK', 'Myeloisch', 'Myeloisch', 'Myeloisch', 'TNK', 'TNK', 'Myeloisch', 'Myeloisch', 'TNK', 'TNK', 'TNK', 'Myeloisch', 'TNK', 'TNK', 'B', 'TNK', 'TNK', 'TNK', 'Myeloisch', 'TNK', 'TNK', 'TNK', 'TNK', 'Myeloisch', 'TNK', 'TNK', 'Myeloisch', 'TNK', 'Myeloisch', 'TNK', 'TNK', 'TNK', 'TNK', 'TNK', 'Myeloisch', 'TNK', 'TNK', 'TNK', 'Myeloisch', 'TNK', 'Myeloisch', 'TNK', 'TNK', 'Myeloisch', 'TNK', 'TNK', 'TNK', 'TNK', 'TNK', 'Myeloisch', 'TNK', 'TNK', 'TNK', 'B', 'TNK', 'B', 'TNK', 'TNK', 'TNK', 'TNK', 'TNK', 'TNK', 'TNK', 'TNK', 'Myeloisch', 'TNK', 'TNK', 'TNK', 'TNK', 'TNK', 'TNK', 'TNK', 'TNK', 'TNK', 'TNK', 'TNK', 'TNK', 'TNK', 'TNK', 'TNK', 'B', 'Myeloisch', 'TNK', 'TNK', 'TNK', 'Myeloisch', 'TNK', 'TNK', 'TNK', 'Myeloisch', 'Myeloisch', 'TNK', 'TNK', 'B', 'TNK', 'TNK', 'TNK', 'B', 'TNK', 'Myeloisch', 'TNK', 'TNK', 'TNK', 'TNK', 'TNK', 'TNK', 'B', 'TNK', 'TNK', 'TNK', 'TNK', 'TNK', 'TNK', 'TNK', 'B', 'B', 'TNK', 'TNK', 'TNK', 'TNK', 'TNK', 'TNK', 'Myeloisch', 'TNK', 'TNK', 'TNK', 'TNK', 'TNK', 'TNK', 'TNK', 'TNK', 'TNK', 'TNK', 'TNK', 'TNK', 'TNK', 'TNK', 'TNK', 'TNK', 'Myeloisch', 'TNK', 'B', 'Myeloisch', 'Myeloisch', 'TNK', 'Myeloisch', 'B', 'TNK', 'Myeloisch', 'TNK', 'TNK', 'TNK', 'TNK', 'Myeloisch', 'TNK', 'TNK', 'TNK', 'TNK', 'TNK', 'Myeloisch', 'TNK', 'Myeloisch', 'Myeloisch', 'TNK', 'TNK', 'Myeloisch', 'TNK', 'TNK', 'Myeloisch', 'TNK', 'TNK', 'Myeloisch', 'B', 'B', 'TNK', 'Myeloisch', 'Myeloisch', 'TNK', 'TNK', 'Myeloisch', 'TNK', 'TNK', 'TNK', 'Myeloisch', 'B', 'TNK', 'TNK', 'TNK', 'TNK', 'B', 'TNK', 'TNK', 'TNK', 'B', 'Myeloisch', 'Myeloisch', 'Myeloisch', 'B', 'TNK', 'TNK', 'TNK', 'Myeloisch', 'TNK', 'TNK', 'B', 'TNK', 'Others', 'Myeloisch', 'Myeloisch', 'TNK', 'TNK', 'TNK', 'TNK', 'TNK', 'TNK', 'Myeloisch', 'B', 'B', 'TNK', 'TNK', 'TNK', 'Myeloisch', 'Myeloisch', 'TNK', 'TNK', 'B', 'B', 'Myeloisch', 'TNK', 'TNK', 'TNK', 'TNK', 'TNK', 'Myeloisch', 'TNK', 'Myeloisch', 'Myeloisch', 'B', 'TNK', 'B', 'TNK', 'TNK', 'TNK', 'TNK', 'TNK', 'TNK', 'TNK', 'Myeloisch', 'Myeloisch', 'TNK', 'Myeloisch', 'TNK', 'Myeloisch', 'Myeloisch', 'Myeloisch', 'TNK', 'TNK', 'TNK', 'B', 'TNK', 'TNK', 'B', 'B', 'TNK', 'B', 'TNK', 'B', 'TNK', 'TNK', 'Myeloisch', 'TNK', 'Myeloisch', 'Others', 'TNK', 'Myeloisch', 'Myeloisch', 'TNK', 'TNK', 'Myeloisch', 'Myeloisch', 'TNK', 'Myeloisch', 'TNK', 'TNK', 'TNK', 'TNK', 'TNK', 'TNK', 'TNK', 'Myeloisch', 'TNK', 'Myeloisch', 'TNK', 'TNK', 'TNK', 'Myeloisch', 'TNK', 'Myeloisch', 'TNK', 'B', 'B', 'Myeloisch', 'TNK', 'TNK', 'TNK', 'B', 'TNK', 'TNK', 'Myeloisch', 'Myeloisch', 'TNK', 'TNK', 'TNK', 'Myeloisch', 'TNK', 'TNK', 'TNK', 'Myeloisch', 'TNK', 'Myeloisch', 'TNK', 'B', 'B', 'B', 'B', 'TNK', 'TNK', 'B', 'Myeloisch', 'TNK', 'Myeloisch', 'Myeloisch', 'TNK', 'TNK', 'TNK', 'TNK', 'TNK', 'TNK', 'Myeloisch', 'TNK', 'TNK', 'TNK', 'TNK', 'Myeloisch', 'Myeloisch', 'Myeloisch', 'Myeloisch', 'Myeloisch', 'Myeloisch', 'TNK', 'TNK', 'Myeloisch', 'TNK', 'TNK', 'Myeloisch', 'TNK', 'B', 'TNK', 'B', 'Myeloisch', 'TNK', 'TNK', 'TNK', 'TNK', 'TNK', 'TNK', 'TNK', 'TNK', 'TNK', 'TNK', 'TNK', 'Myeloisch', 'TNK', 'TNK', 'TNK', 'TNK', 'TNK', 'TNK', 'TNK', 'TNK', 'TNK', 'TNK', 'Myeloisch', 'TNK', 'TNK', 'TNK', 'TNK', 'TNK', 'Myeloisch', 'TNK', 'TNK', 'Myeloisch', 'TNK', 'TNK', 'TNK', 'Myeloisch', 'Myeloisch', 'TNK', 'TNK', 'B', 'TNK', 'TNK', 'TNK', 'TNK', 'TNK', 'TNK', 'Myeloisch', 'TNK', 'TNK', 'TNK', 'B', 'TNK', 'Myeloisch', 'TNK', 'TNK', 'TNK', 'Myeloisch', 'TNK', 'Others', 'TNK', 'Myeloisch', 'TNK', 'B', 'TNK', 'Myeloisch', 'TNK', 'TNK', 'B', 'Myeloisch', 'Myeloisch', 'TNK', 'TNK', 'Myeloisch', 'TNK', 'B', 'Myeloisch', 'TNK', 'TNK', 'TNK', 'TNK', 'B', 'TNK', 'TNK', 'Myeloisch', 'TNK', 'TNK', 'TNK', 'TNK', 'TNK', 'B', 'TNK', 'TNK', 'TNK', 'TNK', 'Myeloisch', 'Myeloisch', 'Myeloisch', 'TNK', 'TNK', 'Myeloisch', 'TNK', 'Myeloisch', 'Others', 'TNK', 'Myeloisch', 'TNK', 'Myeloisch', 'B', 'Myeloisch', 'TNK', 'TNK', 'TNK', 'Myeloisch', 'TNK', 'TNK', 'B', 'Myeloisch', 'TNK', 'TNK', 'TNK', 'B', 'TNK', 'Myeloisch', 'Myeloisch', 'Myeloisch', 'TNK', 'Myeloisch', 'TNK', 'Myeloisch', 'TNK', 'TNK', 'Myeloisch', 'B', 'B', 'B', 'Myeloisch', 'TNK', 'TNK', 'Myeloisch', 'Myeloisch', 'Myeloisch', 'TNK', 'TNK', 'TNK', 'TNK', 'TNK', 'TNK', 'TNK', 'B', 'TNK', 'Myeloisch', 'TNK', 'TNK', 'TNK', 'Myeloisch', 'TNK', 'Myeloisch', 'TNK', 'B', 'TNK', 'B', 'TNK', 'TNK', 'Myeloisch', 'Others', 'TNK', 'TNK', 'TNK', 'Myeloisch', 'TNK', 'TNK', 'TNK', 'Myeloisch', 'TNK', 'TNK', 'TNK', 'Myeloisch', 'TNK', 'TNK', 'TNK', 'TNK', 'TNK', 'TNK', 'TNK', 'TNK', 'TNK', 'TNK', 'Myeloisch', 'TNK', 'TNK', 'TNK', 'Myeloisch', 'TNK', 'B', 'Myeloisch', 'Myeloisch', 'TNK', 'TNK', 'TNK', 'TNK', 'TNK', 'TNK', 'TNK', 'Myeloisch', 'TNK', 'B', 'B', 'TNK', 'Myeloisch', 'TNK', 'Myeloisch', 'TNK', 'TNK', 'TNK', 'TNK', 'Myeloisch', 'B', 'Myeloisch', 'B', 'TNK', 'TNK', 'TNK', 'B', 'TNK', 'Myeloisch', 'Myeloisch', 'TNK', 'B', 'TNK', 'TNK', 'TNK', 'TNK', 'Myeloisch', 'TNK', 'Myeloisch', 'TNK', 'Myeloisch', 'TNK', 'Myeloisch', 'B', 'TNK', 'Myeloisch', 'Myeloisch', 'B', 'Myeloisch', 'TNK', 'Myeloisch', 'TNK', 'Myeloisch', 'TNK', 'Myeloisch', 'TNK', 'TNK', 'Myeloisch', 'B', 'B', 'B', 'TNK', 'B', 'Myeloisch', 'Myeloisch', 'TNK', 'TNK', 'TNK', 'Myeloisch', 'TNK', 'TNK', 'TNK', 'Myeloisch', 'TNK', 'Myeloisch', 'B', 'Myeloisch', 'B', 'Myeloisch', 'TNK', 'TNK', 'TNK', 'Myeloisch', 'TNK', 'Myeloisch', 'Myeloisch', 'TNK', 'Myeloisch', 'TNK', 'TNK', 'TNK', 'TNK', 'TNK', 'TNK', 'TNK', 'TNK', 'Myeloisch', 'TNK', 'TNK', 'TNK', 'TNK', 'TNK', 'B', 'TNK', 'Others', 'TNK', 'TNK', 'TNK', 'TNK', 'TNK', 'TNK', 'TNK', 'Myeloisch', 'Myeloisch', 'TNK', 'B', 'TNK', 'Myeloisch', 'TNK', 'TNK', 'TNK', 'TNK', 'B', 'TNK', 'TNK', 'Myeloisch', 'Myeloisch', 'TNK', 'B', 'TNK', 'TNK', 'TNK', 'TNK', 'TNK', 'TNK', 'B', 'Myeloisch', 'B', 'Myeloisch', 'Myeloisch', 'TNK', 'B', 'TNK', 'Myeloisch', 'TNK', 'Myeloisch', 'TNK', 'B', 'TNK', 'TNK', 'TNK', 'Myeloisch', 'TNK', 'Myeloisch', 'Myeloisch', 'Myeloisch', 'TNK', 'TNK', 'TNK', 'TNK', 'Myeloisch', 'TNK', 'Myeloisch', 'TNK', 'TNK', 'B', 'TNK', 'TNK', 'B', 'Myeloisch', 'Myeloisch', 'Others', 'B', 'TNK', 'Myeloisch', 'TNK', 'TNK', 'TNK', 'TNK', 'Myeloisch', 'B', 'Myeloisch', 'Myeloisch', 'Myeloisch', 'B', 'Myeloisch', 'Myeloisch', 'TNK', 'TNK', 'Myeloisch', 'Myeloisch', 'TNK', 'TNK', 'TNK', 'TNK', 'Myeloisch', 'TNK', 'TNK', 'B', 'B', 'TNK', 'TNK', 'TNK', 'TNK', 'Myeloisch', 'TNK', 'Myeloisch', 'TNK', 'TNK', 'Myeloisch', 'TNK', 'TNK', 'TNK', 'TNK', 'TNK', 'TNK', 'TNK', 'B', 'TNK', 'TNK', 'Myeloisch', 'Myeloisch', 'Myeloisch', 'TNK', 'TNK', 'TNK', 'TNK', 'TNK', 'TNK', 'TNK', 'TNK', 'Myeloisch', 'TNK', 'TNK', 'B', 'B', 'Myeloisch', 'TNK', 'TNK', 'B', 'TNK', 'Myeloisch', 'B', 'TNK', 'Myeloisch', 'TNK', 'TNK', 'TNK', 'Myeloisch', 'Myeloisch', 'TNK', 'TNK', 'Myeloisch', 'B', 'TNK', 'Myeloisch', 'TNK', 'B', 'TNK', 'TNK', 'Myeloisch', 'B', 'TNK', 'B', 'TNK', 'TNK', 'Myeloisch', 'TNK', 'TNK', 'TNK', 'TNK', 'TNK', 'B', 'B', 'TNK', 'Myeloisch', 'TNK', 'TNK', 'TNK', 'TNK', 'TNK', 'TNK', 'Myeloisch', 'TNK', 'TNK', 'TNK', 'TNK', 'Myeloisch', 'B', 'TNK', 'TNK', 'TNK', 'B', 'TNK', 'B', 'B', 'Myeloisch', 'TNK', 'Myeloisch', 'TNK', 'TNK', 'B', 'TNK', 'B', 'TNK', 'TNK', 'TNK', 'Myeloisch', 'TNK', 'TNK', 'TNK', 'Myeloisch', 'B', 'TNK', 'TNK', 'TNK', 'TNK', 'Myeloisch', 'Myeloisch', 'TNK', 'TNK', 'TNK', 'TNK', 'Myeloisch', 'TNK', 'TNK', 'TNK', 'TNK', 'B', 'TNK', 'TNK', 'TNK', 'Myeloisch', 'TNK', 'Myeloisch', 'TNK', 'TNK', 'Myeloisch', 'TNK', 'TNK', 'TNK', 'TNK', 'Myeloisch', 'TNK', 'TNK', 'Myeloisch', 'B', 'TNK', 'B', 'Myeloisch', 'B', 'Myeloisch', 'TNK', 'TNK', 'TNK', 'TNK', 'TNK', 'Myeloisch', 'Myeloisch', 'TNK', 'Myeloisch', 'TNK', 'TNK', 'Myeloisch', 'TNK', 'TNK', 'TNK', 'Myeloisch', 'TNK', 'TNK', 'Myeloisch', 'TNK', 'TNK', 'TNK', 'B', 'TNK', 'B', 'TNK', 'Myeloisch', 'TNK', 'TNK', 'TNK', 'B', 'TNK', 'TNK', 'TNK', 'TNK', 'Myeloisch', 'TNK', 'TNK', 'TNK', 'TNK', 'TNK', 'TNK', 'TNK', 'TNK', 'Myeloisch', 'B', 'TNK', 'B', 'TNK', 'TNK', 'TNK', 'TNK', 'Myeloisch', 'Myeloisch', 'TNK', 'TNK', 'Myeloisch', 'B', 'Myeloisch', 'TNK', 'TNK', 'TNK', 'TNK', 'TNK', 'Myeloisch', 'TNK', 'TNK', 'TNK', 'TNK', 'TNK', 'Myeloisch', 'TNK', 'TNK', 'TNK', 'B', 'TNK', 'TNK', 'TNK', 'TNK', 'Myeloisch', 'TNK', 'Myeloisch', 'Myeloisch', 'B', 'TNK', 'TNK', 'B', 'TNK', 'B', 'TNK', 'TNK', 'B', 'TNK', 'TNK', 'Myeloisch', 'Myeloisch', 'TNK', 'TNK', 'TNK', 'TNK', 'Myeloisch', 'B', 'Myeloisch', 'Myeloisch', 'TNK', 'TNK', 'TNK', 'B', 'TNK', 'TNK', 'TNK', 'Myeloisch', 'Myeloisch', 'TNK', 'Myeloisch', 'TNK', 'TNK', 'TNK', 'TNK', 'TNK', 'B', 'TNK', 'TNK', 'TNK', 'B', 'TNK', 'TNK', 'TNK', 'TNK', 'Myeloisch', 'TNK', 'TNK', 'Myeloisch', 'TNK', 'TNK', 'B', 'TNK', 'TNK', 'Myeloisch', 'TNK', 'TNK', 'TNK', 'TNK', 'TNK', 'Myeloisch', 'Myeloisch', 'Myeloisch', 'TNK', 'TNK', 'B', 'TNK', 'TNK', 'Myeloisch', 'TNK', 'Myeloisch', 'TNK', 'TNK', 'TNK', 'TNK', 'TNK', 'TNK', 'B', 'TNK', 'B', 'TNK', 'TNK', 'B', 'TNK', 'TNK', 'B', 'TNK', 'TNK', 'TNK', 'Myeloisch', 'Myeloisch', 'Myeloisch', 'TNK', 'TNK', 'TNK', 'Myeloisch', 'TNK', 'TNK', 'TNK', 'B', 'B', 'B', 'TNK', 'TNK', 'B', 'B', 'B', 'Myeloisch', 'Myeloisch', 'Myeloisch', 'B', 'TNK', 'TNK', 'TNK', 'Myeloisch', 'TNK', 'Myeloisch', 'TNK', 'B', 'TNK', 'TNK', 'TNK', 'Myeloisch', 'TNK', 'TNK', 'Myeloisch', 'TNK', 'TNK', 'TNK', 'Myeloisch', 'TNK', 'TNK', 'TNK', 'TNK', 'TNK', 'B', 'B', 'TNK', 'B', 'TNK', 'Myeloisch', 'TNK', 'TNK', 'B', 'TNK', 'TNK', 'Myeloisch', 'TNK', 'TNK', 'TNK', 'TNK', 'TNK', 'Myeloisch', 'TNK', 'TNK', 'Myeloisch', 'Myeloisch', 'Myeloisch', 'TNK', 'B', 'TNK', 'Myeloisch', 'TNK', 'TNK', 'TNK', 'TNK', 'B', 'TNK', 'TNK', 'TNK', 'TNK', 'TNK', 'TNK', 'TNK', 'TNK', 'TNK', 'TNK', 'TNK', 'B', 'TNK', 'B', 'Myeloisch', 'Myeloisch', 'TNK', 'TNK', 'TNK', 'TNK', 'TNK', 'TNK', 'TNK', 'TNK', 'TNK', 'Myeloisch', 'TNK', 'TNK', 'B', 'TNK', 'Myeloisch', 'Others', 'Myeloisch', 'Myeloisch', 'TNK', 'Myeloisch', 'TNK', 'TNK', 'TNK', 'Myeloisch', 'TNK', 'TNK', 'TNK', 'TNK', 'B', 'TNK', 'Myeloisch', 'TNK', 'B', 'Myeloisch', 'TNK', 'B', 'TNK', 'TNK', 'B', 'Myeloisch', 'Myeloisch', 'B', 'B', 'TNK', 'TNK', 'TNK', 'Myeloisch', 'Myeloisch', 'Myeloisch', 'TNK', 'TNK', 'TNK', 'TNK', 'Myeloisch', 'TNK', 'TNK', 'TNK', 'TNK', 'TNK', 'Myeloisch', 'TNK', 'Myeloisch', 'TNK', 'B', 'Myeloisch', 'TNK', 'Myeloisch', 'TNK', 'Myeloisch', 'B', 'Myeloisch', 'TNK', 'Myeloisch', 'TNK', 'Myeloisch', 'Myeloisch', 'TNK', 'TNK', 'TNK', 'TNK', 'TNK', 'TNK', 'Myeloisch', 'TNK', 'TNK', 'TNK', 'TNK', 'Myeloisch', 'TNK', 'TNK', 'TNK', 'Myeloisch', 'Myeloisch', 'TNK', 'TNK', 'B', 'TNK', 'Myeloisch', 'TNK', 'B', 'TNK', 'TNK', 'B', 'TNK', 'B', 'Myeloisch', 'Myeloisch', 'TNK', 'TNK', 'Myeloisch', 'TNK', 'TNK', 'TNK', 'TNK', 'Myeloisch', 'TNK', 'TNK', 'Myeloisch', 'B', 'TNK', 'TNK', 'TNK', 'B', 'B', 'B', 'B', 'TNK', 'B', 'Myeloisch', 'B', 'TNK', 'Myeloisch', 'Myeloisch', 'Myeloisch', 'TNK', 'TNK', 'TNK', 'B', 'Myeloisch', 'B', 'TNK', 'Myeloisch', 'Myeloisch', 'B', 'B', 'B', 'TNK']\n",
            "Epoch 1/50\n",
            "25/25 [==============================] - 0s 7ms/step - loss: 1.4727 - val_loss: 1.3650\n",
            "Epoch 2/50\n",
            "25/25 [==============================] - 0s 2ms/step - loss: 1.2284 - val_loss: 1.1308\n",
            "Epoch 3/50\n",
            "25/25 [==============================] - 0s 3ms/step - loss: 1.0308 - val_loss: 0.9675\n",
            "Epoch 4/50\n",
            "25/25 [==============================] - 0s 2ms/step - loss: 0.8890 - val_loss: 0.8480\n",
            "Epoch 5/50\n",
            "25/25 [==============================] - 0s 2ms/step - loss: 0.7826 - val_loss: 0.7573\n",
            "Epoch 6/50\n",
            "25/25 [==============================] - 0s 3ms/step - loss: 0.6997 - val_loss: 0.6843\n",
            "Epoch 7/50\n",
            "25/25 [==============================] - 0s 3ms/step - loss: 0.6328 - val_loss: 0.6257\n",
            "Epoch 8/50\n",
            "25/25 [==============================] - 0s 3ms/step - loss: 0.5779 - val_loss: 0.5784\n",
            "Epoch 9/50\n",
            "25/25 [==============================] - 0s 2ms/step - loss: 0.5326 - val_loss: 0.5389\n",
            "Epoch 10/50\n",
            "25/25 [==============================] - 0s 2ms/step - loss: 0.4943 - val_loss: 0.5058\n",
            "Epoch 11/50\n",
            "25/25 [==============================] - 0s 2ms/step - loss: 0.4621 - val_loss: 0.4776\n",
            "Epoch 12/50\n",
            "25/25 [==============================] - 0s 3ms/step - loss: 0.4346 - val_loss: 0.4537\n",
            "Epoch 13/50\n",
            "25/25 [==============================] - 0s 2ms/step - loss: 0.4109 - val_loss: 0.4333\n",
            "Epoch 14/50\n",
            "25/25 [==============================] - 0s 2ms/step - loss: 0.3907 - val_loss: 0.4162\n",
            "Epoch 15/50\n",
            "25/25 [==============================] - 0s 2ms/step - loss: 0.3730 - val_loss: 0.4010\n",
            "Epoch 16/50\n",
            "25/25 [==============================] - 0s 2ms/step - loss: 0.3576 - val_loss: 0.3880\n",
            "Epoch 17/50\n",
            "25/25 [==============================] - 0s 3ms/step - loss: 0.3440 - val_loss: 0.3764\n",
            "Epoch 18/50\n",
            "25/25 [==============================] - 0s 2ms/step - loss: 0.3319 - val_loss: 0.3664\n",
            "Epoch 19/50\n",
            "25/25 [==============================] - 0s 2ms/step - loss: 0.3213 - val_loss: 0.3572\n",
            "Epoch 20/50\n",
            "25/25 [==============================] - 0s 2ms/step - loss: 0.3119 - val_loss: 0.3492\n",
            "Epoch 21/50\n",
            "25/25 [==============================] - 0s 3ms/step - loss: 0.3032 - val_loss: 0.3415\n",
            "Epoch 22/50\n",
            "25/25 [==============================] - 0s 2ms/step - loss: 0.2954 - val_loss: 0.3350\n",
            "Epoch 23/50\n",
            "25/25 [==============================] - 0s 2ms/step - loss: 0.2884 - val_loss: 0.3292\n",
            "Epoch 24/50\n",
            "25/25 [==============================] - 0s 2ms/step - loss: 0.2820 - val_loss: 0.3243\n",
            "Epoch 25/50\n",
            "25/25 [==============================] - 0s 2ms/step - loss: 0.2761 - val_loss: 0.3189\n",
            "Epoch 26/50\n",
            "25/25 [==============================] - 0s 3ms/step - loss: 0.2707 - val_loss: 0.3146\n",
            "Epoch 27/50\n",
            "25/25 [==============================] - 0s 2ms/step - loss: 0.2655 - val_loss: 0.3105\n",
            "Epoch 28/50\n",
            "25/25 [==============================] - 0s 2ms/step - loss: 0.2609 - val_loss: 0.3065\n",
            "Epoch 29/50\n",
            "25/25 [==============================] - 0s 2ms/step - loss: 0.2564 - val_loss: 0.3027\n",
            "Epoch 30/50\n",
            "25/25 [==============================] - 0s 2ms/step - loss: 0.2523 - val_loss: 0.2994\n",
            "Epoch 31/50\n",
            "25/25 [==============================] - 0s 2ms/step - loss: 0.2485 - val_loss: 0.2963\n",
            "Epoch 32/50\n",
            "25/25 [==============================] - 0s 2ms/step - loss: 0.2449 - val_loss: 0.2932\n",
            "Epoch 33/50\n",
            "25/25 [==============================] - 0s 2ms/step - loss: 0.2414 - val_loss: 0.2903\n",
            "Epoch 34/50\n",
            "25/25 [==============================] - 0s 3ms/step - loss: 0.2382 - val_loss: 0.2875\n",
            "Epoch 35/50\n",
            "25/25 [==============================] - 0s 2ms/step - loss: 0.2351 - val_loss: 0.2848\n",
            "Epoch 36/50\n",
            "25/25 [==============================] - 0s 3ms/step - loss: 0.2322 - val_loss: 0.2823\n",
            "Epoch 37/50\n",
            "25/25 [==============================] - 0s 2ms/step - loss: 0.2295 - val_loss: 0.2800\n",
            "Epoch 38/50\n",
            "25/25 [==============================] - 0s 3ms/step - loss: 0.2267 - val_loss: 0.2777\n",
            "Epoch 39/50\n",
            "25/25 [==============================] - 0s 3ms/step - loss: 0.2242 - val_loss: 0.2755\n",
            "Epoch 40/50\n",
            "25/25 [==============================] - 0s 2ms/step - loss: 0.2218 - val_loss: 0.2735\n",
            "Epoch 41/50\n",
            "25/25 [==============================] - 0s 2ms/step - loss: 0.2195 - val_loss: 0.2713\n",
            "Epoch 42/50\n",
            "25/25 [==============================] - 0s 3ms/step - loss: 0.2172 - val_loss: 0.2693\n",
            "Epoch 43/50\n",
            "25/25 [==============================] - 0s 2ms/step - loss: 0.2151 - val_loss: 0.2673\n",
            "Epoch 44/50\n",
            "25/25 [==============================] - 0s 2ms/step - loss: 0.2130 - val_loss: 0.2654\n",
            "Epoch 45/50\n",
            "25/25 [==============================] - 0s 2ms/step - loss: 0.2110 - val_loss: 0.2635\n",
            "Epoch 46/50\n",
            "25/25 [==============================] - 0s 2ms/step - loss: 0.2090 - val_loss: 0.2616\n",
            "Epoch 47/50\n",
            "25/25 [==============================] - 0s 2ms/step - loss: 0.2072 - val_loss: 0.2597\n",
            "Epoch 48/50\n",
            "25/25 [==============================] - 0s 2ms/step - loss: 0.2053 - val_loss: 0.2579\n",
            "Epoch 49/50\n",
            "25/25 [==============================] - 0s 2ms/step - loss: 0.2036 - val_loss: 0.2561\n",
            "Epoch 50/50\n",
            "25/25 [==============================] - 0s 2ms/step - loss: 0.2018 - val_loss: 0.2543\n"
          ]
        }
      ]
    },
    {
      "cell_type": "code",
      "source": [
        "#print first level classifier model accuracy\n",
        "print(hc.graph.nodes['all']['memory'].training_acc)\n",
        "\n",
        "print(hc.graph.nodes['all']['memory'].test_acc)"
      ],
      "metadata": {
        "colab": {
          "base_uri": "https://localhost:8080/"
        },
        "id": "6Q5Yy5KrNtTp",
        "outputId": "67e54bde-961a-4a71-cbf1-03c98b07e88a"
      },
      "execution_count": 303,
      "outputs": [
        {
          "output_type": "stream",
          "name": "stdout",
          "text": [
            "0.9351535836177475\n",
            "0.9215909090909091\n"
          ]
        }
      ]
    },
    {
      "cell_type": "code",
      "source": [
        "hc.graph.nodes['all']['memory'].local_classifier.label_encoder.inverse_transform(hc.graph.nodes['all']['memory'].training_prediction_vec)"
      ],
      "metadata": {
        "colab": {
          "base_uri": "https://localhost:8080/"
        },
        "id": "zjVQ3DdXHD7q",
        "outputId": "58c68e79-7c59-4b06-a4dc-12d24002007e"
      },
      "execution_count": 304,
      "outputs": [
        {
          "output_type": "execute_result",
          "data": {
            "text/plain": [
              "array(['TNK', 'B', 'TNK', ..., 'TNK', 'B', 'TNK'], dtype='<U9')"
            ]
          },
          "metadata": {},
          "execution_count": 304
        }
      ]
    },
    {
      "cell_type": "code",
      "source": [
        "hc.subset_pred_vec('all')"
      ],
      "metadata": {
        "id": "jtDy-HIaCB-S"
      },
      "execution_count": null,
      "outputs": []
    },
    {
      "cell_type": "code",
      "source": [
        "hc.graph.nodes['TNK']['memory'].__dict__"
      ],
      "metadata": {
        "id": "XsMW-iVFBr5G"
      },
      "execution_count": null,
      "outputs": []
    },
    {
      "cell_type": "code",
      "source": [
        "hc.graph.nodes['TNK']['memory'].y_input_data[0:100]"
      ],
      "metadata": {
        "colab": {
          "base_uri": "https://localhost:8080/"
        },
        "id": "OSgxang3TOnx",
        "outputId": "9ea64903-c706-4d45-82ee-335d96eb0fc6"
      },
      "execution_count": 307,
      "outputs": [
        {
          "output_type": "execute_result",
          "data": {
            "text/plain": [
              "array(['CD8 T', 'CD4 T', 'CD4 T', 'CD4 T', 'CD8 T', 'CD8 T', 'CD4 T',\n",
              "       'CD4 T', 'CD8 T', 'CD4 T', 'CD4 T', 'CD4 T', 'CD4 T', 'CD4 T',\n",
              "       'NK', 'CD4 T', 'CD4 T', 'NK', 'CD8 T', 'CD8 T', 'CD4 T', 'NK',\n",
              "       'CD4 T', 'FCGR3A Monocytes', 'CD8 T', 'CD8 T', 'CD4 T', 'CD4 T',\n",
              "       'CD4 T', 'CD4 T', 'CD4 T', 'CD4 T', 'NK', 'NK', 'NK', 'NK',\n",
              "       'CD4 T', 'CD4 T', 'CD4 T', 'CD4 T', 'CD4 T', 'FCGR3A Monocytes',\n",
              "       'NK', 'CD4 T', 'NK', 'CD4 T', 'CD4 T', 'CD4 T', 'CD4 T', 'CD4 T',\n",
              "       'CD4 T', 'CD4 T', 'CD4 T', 'CD4 T', 'CD4 T', 'CD8 T', 'CD4 T',\n",
              "       'CD4 T', 'CD4 T', 'CD4 T', 'CD4 T', 'CD4 T', 'CD8 T', 'CD8 T',\n",
              "       'CD4 T', 'CD4 T', 'CD4 T', 'CD4 T', 'CD4 T', 'NK', 'CD4 T',\n",
              "       'CD8 T', 'CD8 T', 'CD4 T', 'CD4 T', 'CD4 T', 'CD4 T', 'CD4 T',\n",
              "       'CD4 T', 'CD8 T', 'CD4 T', 'CD4 T', 'CD4 T', 'CD4 T', 'CD8 T',\n",
              "       'FCGR3A Monocytes', 'CD8 T', 'CD4 T', 'CD8 T', 'CD4 T', 'CD4 T',\n",
              "       'CD4 T', 'CD4 T', 'CD4 T', 'CD8 T', 'CD4 T', 'CD4 T', 'CD8 T',\n",
              "       'CD4 T', 'CD4 T'], dtype=object)"
            ]
          },
          "metadata": {},
          "execution_count": 307
        }
      ]
    },
    {
      "cell_type": "code",
      "source": [
        ""
      ],
      "metadata": {
        "id": "q_tI7IkwTvje"
      },
      "execution_count": 307,
      "outputs": []
    },
    {
      "cell_type": "code",
      "source": [
        "#nun einmal alles für den tnk node \n",
        "#NN classifier initialisieren, hier noch unnötige Übergabe von input Daten, die er schon hat -> anders lösen, anderen Default, oder anderes initialisieren\n",
        "hc.init_node_memory_object('TNK', [hc.graph.nodes['TNK']['memory'].x_input_data, hc.graph.nodes['TNK']['memory'].y_input_data, Neural_Network])"
      ],
      "metadata": {
        "id": "oopqt6s5PnBt"
      },
      "execution_count": null,
      "outputs": []
    },
    {
      "cell_type": "code",
      "source": [
        "hc.run_local_classifier('TNK')"
      ],
      "metadata": {
        "id": "Xm4AdFeBQTB2"
      },
      "execution_count": null,
      "outputs": []
    },
    {
      "cell_type": "code",
      "source": [
        "#accuracy of tnk classifier model \n",
        "print(hc.graph.nodes['TNK']['memory'].training_acc)\n",
        "\n",
        "print(hc.graph.nodes['TNK']['memory'].test_acc)"
      ],
      "metadata": {
        "colab": {
          "base_uri": "https://localhost:8080/"
        },
        "id": "kDK0Axx1iq_X",
        "outputId": "2b6bebc4-0f91-4762-c8ee-7fd588d25d2d"
      },
      "execution_count": 310,
      "outputs": [
        {
          "output_type": "stream",
          "name": "stdout",
          "text": [
            "0.9258902791145333\n",
            "0.9153846153846154\n"
          ]
        }
      ]
    },
    {
      "cell_type": "code",
      "source": [
        "#show saved prediction results in next labels, <- hm ne das wird erst später aufgerufen\n",
        "hc.graph.nodes['CD4 T']['memory'].__dict__"
      ],
      "metadata": {
        "colab": {
          "base_uri": "https://localhost:8080/"
        },
        "id": "eqMhrlqMi45G",
        "outputId": "0fa5d731-d808-42cf-e10c-7725e679179a"
      },
      "execution_count": 312,
      "outputs": [
        {
          "output_type": "execute_result",
          "data": {
            "text/plain": [
              "{'apriori_y_input_data_indices': (array([   1,    2,    3, ..., 1555, 1557, 1558]),),\n",
              " 'classifier_class': None,\n",
              " 'local_classifier_params': [],\n",
              " 'test_acc': None,\n",
              " 'test_prediction_vec': None,\n",
              " 'training_acc': None,\n",
              " 'training_prediction_vec': None,\n",
              " 'x_input_data': None,\n",
              " 'y_input_data': None,\n",
              " 'y_input_grouped_labels': None}"
            ]
          },
          "metadata": {},
          "execution_count": 312
        }
      ]
    },
    {
      "cell_type": "code",
      "source": [
        "# nn_tnk.model.summary()"
      ],
      "metadata": {
        "id": "qkFJXBlVXbSt"
      },
      "execution_count": 30,
      "outputs": []
    },
    {
      "cell_type": "markdown",
      "source": [
        ""
      ],
      "metadata": {
        "id": "6hQW1Xn-U9hn"
      }
    }
  ]
}