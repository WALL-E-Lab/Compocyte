{
  "nbformat": 4,
  "nbformat_minor": 0,
  "metadata": {
    "colab": {
      "name": "NN_class_dev.ipynb",
      "provenance": [],
      "collapsed_sections": [],
      "include_colab_link": true
    },
    "kernelspec": {
      "name": "python3",
      "display_name": "Python 3"
    },
    "language_info": {
      "name": "python"
    }
  },
  "cells": [
    {
      "cell_type": "markdown",
      "metadata": {
        "id": "view-in-github",
        "colab_type": "text"
      },
      "source": [
        "<a href=\"https://colab.research.google.com/github/leonSadowski/sc_Hierarchical_Classifier/blob/grid_search/NN_class_dev.ipynb\" target=\"_parent\"><img src=\"https://colab.research.google.com/assets/colab-badge.svg\" alt=\"Open In Colab\"/></a>"
      ]
    },
    {
      "cell_type": "markdown",
      "source": [
        "#sc_Hierarchical_Classifier"
      ],
      "metadata": {
        "id": "HiJpLlOX_d91"
      }
    },
    {
      "cell_type": "markdown",
      "source": [
        "#Needed Imports"
      ],
      "metadata": {
        "id": "Cw5TOzOv_qKy"
      }
    },
    {
      "cell_type": "code",
      "source": [
        "import numpy as np \n",
        "import tensorflow as tf \n",
        "import tensorflow.keras as keras \n",
        "from sklearn.preprocessing import LabelEncoder\n",
        "import pandas as pd\n",
        "import networkx as nx"
      ],
      "metadata": {
        "id": "XAInitxPwiAO"
      },
      "execution_count": 1,
      "outputs": []
    },
    {
      "cell_type": "markdown",
      "source": [
        "#Class Neural_Network \n",
        "Used Model for Local Classifiers of Hierarchical Classifier"
      ],
      "metadata": {
        "id": "FeZG7IAvwWzS"
      }
    },
    {
      "cell_type": "code",
      "execution_count": 2,
      "metadata": {
        "id": "A0eeCUgYwORc"
      },
      "outputs": [],
      "source": [
        "class Neural_Network():\n",
        "\n",
        "  def __init__(self, \n",
        "               x_input_data,\n",
        "               y_input_data,\n",
        "               len_of_output, #NEU!!!!! ÜBERGEBE LÄNGE DES OUTPUT VEKTORS WEIL Y_INPUT für feinere Knoten KEIN PANDAS DATAFRAME MEHR IST\n",
        "               z_transform_input = True,\n",
        "               list_of_hidden_layer_nodes = [30],\n",
        "               activation_function = 'relu',\n",
        "               learning_rate = 0.001,\n",
        "               momentum = .9,\n",
        "               loss_function = 'categorical_crossentropy',\n",
        "               epochs = 50):\n",
        "    \n",
        "    self.x_input_data = x_input_data\n",
        "    self.y_input_data = y_input_data\n",
        "    self.list_of_layer_nodes = [len(self.x_input_data[0])] + [nodes for nodes in list_of_hidden_layer_nodes] + [len_of_output] #[len(self.y_input_data.cat.categories)] \n",
        "    self.activation_function = activation_function \n",
        "    self.learning_rate = learning_rate\n",
        "    self.momentum = momentum\n",
        "    self.loss_function = loss_function\n",
        "    self.epochs = epochs\n",
        "    self.z_transform_input = z_transform_input\n",
        "\n",
        "    #create model\n",
        "\n",
        "    self.model = keras.models.Sequential()\n",
        "\n",
        "    for nodes, layer_idx in zip(self.list_of_layer_nodes, range(0, len(self.list_of_layer_nodes)-1)):\n",
        "\n",
        "      self.model.add(keras.layers.Dense(\n",
        "          input_shape = (nodes,),\n",
        "          units = self.list_of_layer_nodes[layer_idx+1],                            \n",
        "          kernel_initializer = 'glorot_uniform',                                          \n",
        "          bias_initializer = 'zeros',                                               \n",
        "          activation = self.activation_function if layer_idx == 0 else 'softmax'))  \n",
        "        \n",
        "\n",
        "  def process_input_data(self):\n",
        "\n",
        "    #z transformation \n",
        "\n",
        "    def z_transform_properties(data_arr):\n",
        "      '''Calculates a z transformation to center properties across cells in data_arr around mean zero'''\n",
        "      \n",
        "      mean_vals = np.mean(data_arr, axis=0)\n",
        "      std_val = np.std(data_arr)\n",
        "\n",
        "      data_transformed = (data_arr - mean_vals) / std_val\n",
        "\n",
        "      return data_transformed\n",
        "\n",
        "\n",
        "    if self.z_transform_input:\n",
        "      self.x_input_data = z_transform_properties(self.x_input_data)\n",
        "      \n",
        "    #converting labels of y_input_data to integers (mapping 'label'->int)\n",
        "\n",
        "    # ----> erstmal so vereinfacht, dass incoming y_data encoded wird -> ist wegen group_by_labels eh mit strings\n",
        "\n",
        "    print(f'network y_input before encoding: {self.y_input_data}')\n",
        "\n",
        "    self.label_encoder = LabelEncoder()\n",
        "    self.y_input_data_int = self.label_encoder.fit_transform(self.y_input_data)\n",
        "\n",
        "    # if isinstance(self.y_input_data, pd.Series):\n",
        "    #   #encode categorical labels from pandas Series as integers\n",
        "    #   self.label_encoder = LabelEncoder()\n",
        "    #   self.y_input_data_int = self.label_encoder.fit_transform(self.y_input_data.values)\n",
        "\n",
        "    # elif isinstance(self.y_input_data[0], np.ndarray) and self.y_input_data.dtype == int: #so vereinfachen, dass einfach immer encoded wird. mit neuer 'pipeline' wird eh nur y_input mit strings weitergegeben\n",
        "    #   self.y_input_data_int = self.y_input_data\n",
        "\n",
        "    # elif isinstance(self.y_input_data[0], np.ndarray) and self.y_input_data.dtype == str: #y_input kein dataframe mehr, sondern Liste wegen preprocessing!\n",
        "    #   self.y_input_data_int = self.label_encoder.fit_transform(self.y_input_data)\n",
        "\n",
        "    # else:\n",
        "\n",
        "    #   print('Error: Invalid or unknown Data Type for Y Input data')\n",
        "\n",
        "  \n",
        "\n",
        "    #split data (TO DO: implement scikit.learn cross_val_score for k-fold cross validation)\n",
        "\n",
        "    split_data_index = int(2/3 * len(self.x_input_data))\n",
        "\n",
        "    self.x_training_input = self.x_input_data[ : split_data_index]\n",
        "    self.y_training_input_int = self.y_input_data_int[ : split_data_index]\n",
        "\n",
        "    self.x_test_input = self.x_input_data[split_data_index : ]\n",
        "    self.y_test_input_int = self.y_input_data_int[split_data_index : ]\n",
        "\n",
        "    #use integer y_input data for OneHot Encoding (int -> e_i element R^(int+1)) needed for model training\n",
        "\n",
        "    self.y_training_onehot = keras.utils.to_categorical(self.y_training_input_int)\n",
        "    self.y_test_onehot = keras.utils.to_categorical(self.y_test_input_int)\n",
        "\n",
        "\n",
        "  def train(self):\n",
        "    '''Train the NN using the x_training_data input and onehot encoded y_training_onehot'''\n",
        "\n",
        "    self.optimizer = keras.optimizers.SGD(learning_rate = self.learning_rate, momentum = self.momentum)\n",
        "    \n",
        "    self.model.compile(optimizer = self.optimizer, loss = self.loss_function)\n",
        "\n",
        "    history = self.model.fit(self.x_training_input, self.y_training_onehot,\n",
        "                        batch_size = 64, epochs = self.epochs, \n",
        "                        verbose = 1,\n",
        "                        validation_split = .1)\n",
        "    \n",
        "  def predict(self, input_vec):\n",
        "    '''Calculate and return label prediction of trained model for an input vector\n",
        "        input_vec (dtype=int)'''\n",
        "\n",
        "    #returns only absolute decisions, nothing known about the difference in prediction confidence \n",
        "    pred_vec = np.argmax(self.model.predict(input_vec), axis = -1) #-1?\n",
        "\n",
        "    return pred_vec\n",
        "\n",
        "\n",
        "  def validate(self):\n",
        "\n",
        "    self.y_training_preds = self.predict(self.x_training_input)\n",
        "    self.y_test_preds = self.predict(self.x_test_input) \n",
        "\n",
        "    def calc_acc(pred_vec, known_vec):\n",
        "      \n",
        "      if type(pred_vec) == type(known_vec):\n",
        "        acc = np.sum(pred_vec == known_vec, axis = 0) / len(known_vec)\n",
        "      else:\n",
        "        print('self.validate: Error! Comparison of different label encoding!')\n",
        "      \n",
        "      return acc\n",
        "    \n",
        "    # ---> save in node memory, not in classifier model\n",
        "    # self.train_acc = calc_acc(self.y_training_preds, self.y_training_input_int) \n",
        "    # self.test_acc = calc_acc(self.y_test_preds, self.y_test_input_int)\n",
        "\n",
        "    train_acc = calc_acc(self.y_training_preds, self.y_training_input_int)\n",
        "    test_acc = calc_acc(self.y_test_preds, self.y_test_input_int)\n",
        "\n",
        "    return train_acc, test_acc\n",
        "\n",
        "\n",
        "  def master_method_NN(self, validate):\n",
        "    '''method to run all relevant neural network methods, to be called from hierarchical classifier!\n",
        "    not sure if needed'''\n",
        "    \n",
        "    # self.process_input_data()\n",
        "    # self.train()\n",
        "\n",
        "    #prediction vector soll in node_memory gespeichert werden!\n",
        "\n",
        "    pass"
      ]
    },
    {
      "cell_type": "markdown",
      "source": [
        "#Class Node_Memory\n",
        "Save Data of local Classifier in Nodes of a directed Graph, initialized by Class Hierarchical_Classifier (see below)"
      ],
      "metadata": {
        "id": "Uhf6Mz1I_-xD"
      }
    },
    {
      "cell_type": "code",
      "source": [
        "class Node_Memory():\n",
        "\n",
        "  def __init__(self, x_input_data = None, y_input_data = None, local_classifier = None, local_classifier_params = []):\n",
        "\n",
        "      #local_classifier argument is the Class of classifier (eg Neural_Network (classifier specific params, input and output needed for every possible classifier))\n",
        "      #initialize all needed attributes, but assign via HC objects\n",
        "\n",
        "      self.x_input_data = x_input_data  #processing wird von local classifier übernommen (CAVE bei Verwendung anderer LC (eg SVM), dass preprocessing einheitlich ist)\n",
        "      self.y_input_data = y_input_data \n",
        "\n",
        "      self.y_input_grouped_labels = None  #is generated via Hierarchical classifier, maps all labels to labels of children of THIS node object\n",
        "\n",
        "      self.apriori_y_input_data_indices = None #save indices of data in y_input vector, that will be used for prediction in order to compute accuracy\n",
        "      \n",
        "      #still manual splitting -> adjust to k fold CV in future\n",
        "      self.training_prediction_vec = None\n",
        "      self.test_prediction_vec = None\n",
        "\n",
        "      self.training_acc = None\n",
        "      self.test_acc = None\n",
        "\n",
        "      #SEEEEEEEHR UNSCHÖÖÖÖÖÖN, PROBLEM MIT Y_INPUT_GROUPED_BY_LABELS_BEHEBEN!! DANN INITIALISIEREN WIEDER IN KONSTRUKTOR SCHREIBEN\n",
        "      self.classifier_class = local_classifier #zwischenspeichern der Klasse bis y_input_grouped labels durch HC ausgegeben wurde --> SEHR UNSCHÖN\n",
        "      self.local_classifier_params = local_classifier_params\n",
        "\n",
        "  def initialize_local_classifier(self, local_classifier_output_len):\n",
        "    print(f'zu übergebene y_input daten: {self.y_input_grouped_labels}')\n",
        "    if self.classifier_class != None:\n",
        "      self.local_classifier = self.classifier_class(self.x_input_data, self.y_input_grouped_labels, local_classifier_output_len, *self.local_classifier_params)  #use y_input with labels that refer to the child nodes\n",
        "    else:\n",
        "      #TO DO: bessere Lösung einfallen lassen\n",
        "      print('WARNING! No classifier initialized!')"
      ],
      "metadata": {
        "id": "sZJiCqeZ0gKw"
      },
      "execution_count": 3,
      "outputs": []
    },
    {
      "cell_type": "markdown",
      "source": [
        "#Class Hierarchical_Classifier \n",
        "Initialize Directed Graph with Local Classifiers in Nodes"
      ],
      "metadata": {
        "id": "bBEkqCnDAGfC"
      }
    },
    {
      "cell_type": "code",
      "source": [
        "def make_graph_from_edges(d, g, parent_key=''):\n",
        "    for key in d.keys():\n",
        "        if parent_key != '':\n",
        "            g.add_edge(parent_key, key)\n",
        "        if len(d[key]) == 0:\n",
        "            pass\n",
        "        else:\n",
        "            make_graph_from_edges(d[key], g, parent_key=key)"
      ],
      "metadata": {
        "id": "sUU8Yb1TmIUK"
      },
      "execution_count": 4,
      "outputs": []
    },
    {
      "cell_type": "code",
      "source": [
        "def list_subgraph_nodes(g, parent_node):\n",
        "  list_of_nodes = []\n",
        "  for node in g.adj[parent_node].keys():\n",
        "    if len(g.adj[parent_node].keys()) != 0:\n",
        "      list_of_nodes.append(node)\n",
        "      list_of_nodes = list_of_nodes + list_subgraph_nodes(g, node)\n",
        "    else:\n",
        "      list_of_nodes.append(node)\n",
        "  return list_of_nodes"
      ],
      "metadata": {
        "id": "NkMWTEyXhnQa"
      },
      "execution_count": 5,
      "outputs": []
    },
    {
      "cell_type": "code",
      "source": [
        "class Hierarchical_Classifier():\n",
        "  '''Class connects Nodes of Local Classifiers, passes results to children classifiers and forms the final hierarchical classifier''' \n",
        "\n",
        "  def __init__(self, dict_of_cell_relations):\n",
        "    '''Params\n",
        "        - dict_of_cell_relations: used for initializing network structure of hierarchical classifier'''\n",
        "    self.dict_of_cell_relations = dict_of_cell_relations\n",
        "\n",
        "\n",
        "  def make_classifier_graph(self):\n",
        "    '''Compute Graph from a given dictionary of cell relationships'''\n",
        "    self.graph = nx.DiGraph()\n",
        "    make_graph_from_edges(self.dict_of_cell_relations, self.graph)\n",
        "\n",
        "  def init_node_memory_object(self, node, memory_class_params=[]):\n",
        "    '''Add memory object to each node; memory object organizes all relevant local classifier params'''\n",
        "    self.graph.add_node(node, memory=Node_Memory(*memory_class_params)) #lade die relevanten Daten\n",
        "    if len(memory_class_params) != 0: #auch sehr unschön ---> so ändern, dass konflit mit NN Initialisierung und berechnen von y_input_grouped_labels in node memory nicht auftritt\n",
        "      self.group_labels_of_subgraph_to_parent_label(node) #schreibe die relevanten (komprimierten) y_input daten durch aufrufen der methode\n",
        "      \n",
        "      print(f'Aus init_node_memory_object von Knoten {node}: output größe initialisiert als {len(self.graph.adj[node].keys())}')\n",
        "      \n",
        "      self.graph.nodes[node]['memory'].initialize_local_classifier(len(self.graph.adj[node].keys())) #initialisiere den local_classifier (jetzt ist y_input_grouped_labels wegen vorherigerm Methodenaufruf in node memory gegeben)\n",
        "                                                                                                      #GEÄNDERT: ÜBERGEBE LÄNGE DES LETZTEN LAYERS DES NN, vorher aus cat.categories geschlossen\n",
        "                                                                                                      #aber y_input_grouped_labels ist eine Liste\n",
        "  def run_local_classifier(self, node):\n",
        "    '''DEV METHOD: use for calling single methods at once to begin with'''\n",
        "    \n",
        "    #wo werden dem ersten local classifier die daten übergeben? --> aktuell manuell (s.u. TESTEN)\n",
        "\n",
        "    #ONLY NEEDED FOR GLOBAL ACCURACY\n",
        "    #save indices of known labels of daughter nodes in these corresponding nodes (i.e. eg node 'TNK' knows indices of 'TNK' in y_input_data of node 'all' ) \n",
        "    next_labels = [label for label in self.graph[node].keys()]\n",
        "    for label in next_labels:\n",
        "      self.graph.nodes[label]['memory'].apriori_y_input_data_indices = np.where(np.array(self.graph.nodes[node]['memory'].y_input_data) == label)\n",
        "\n",
        "    #run needed local classifier methods to train model\n",
        "    self.graph.nodes[node]['memory'].local_classifier.process_input_data()\n",
        "    self.graph.nodes[node]['memory'].local_classifier.train()\n",
        "\n",
        "    #predict trainings and test data (still splitted manually -> k fold cross validation) and save in corresponding node memory\n",
        "    self.graph.nodes[node]['memory'].training_prediction_vec = self.graph.nodes[node]['memory'].local_classifier.predict(self.graph.nodes[node]['memory'].local_classifier.x_training_input)\n",
        "    self.graph.nodes[node]['memory'].test_prediction_vec = self.graph.nodes[node]['memory'].local_classifier.predict(self.graph.nodes[node]['memory'].local_classifier.x_test_input)\n",
        "\n",
        "    #validate model \n",
        "    self.graph.nodes[node]['memory'].training_acc, self.graph.nodes[node]['memory'].test_acc =  self.graph.nodes[node]['memory'].local_classifier.validate()\n",
        "\n",
        "\n",
        "  def run_local_classifier_master(self, node, validate = True):\n",
        "    '''run master method of local classifier'''\n",
        "    pass\n",
        "\n",
        "\n",
        "  #automatisches mapping der feineren labels zu den groberen durch iterieren über die Labels der subgraphen, ausführen über \n",
        "  #Hierarchical_Classifier in jedem Knoten --> als y_input_data in node_memory speichern\n",
        "  #Ziel: mapping automatisieren, dafür: nimm 'Nachbarn' als nächste parentlabel, deren kinder müssen \n",
        "  #dann zu Nachbarn gemapped werden\n",
        "\n",
        "  #benutze den graph, weil hier die ecken bereits klar sind, klarer als in gegebenem dictionary (dort müsste über keys von keys iteriert werden)\n",
        "\n",
        "  def group_labels_of_subgraph_to_parent_label(self, super_node):\n",
        "    '''Maps y_input_data labels to parent label (eg map (CD4 T, CD8 T, NK) -> (TNK) for all neighbors of given super_node (eg TNK, B, Others) of Graph g\n",
        "      Params:\n",
        "        - super_node: node at which local classifier has to be run\n",
        "        \n",
        "      Saves result in y_input_grouped_labels attribute of Node_memory of super_node''' \n",
        "\n",
        "    mapping_dict = {node : [child_node for child_node in list_subgraph_nodes(self.graph, node)] for node in self.graph.adj[super_node].keys() }\n",
        "\n",
        "    #check if some neighbor nodes have already achieved highest annotation depth (terminal nodes) and map those to itself\n",
        "    for key in mapping_dict.keys():\n",
        "      if mapping_dict[key] == []:\n",
        "        mapping_dict[key] = key\n",
        "\n",
        "    mapper = {k:v for v,k in pd.Series(mapping_dict).explode().iteritems()} #write dict such that key and value are interchanged, then map; von StackOverFlow: letze antwort https://stackoverflow.com/questions/32262982/pandas-combining-multiple-categories-into-one\n",
        "    \n",
        "\n",
        "    #check if some cells were mislead and throw them out (otherwise they are labelled nan which gives more output units for neural network than needed + might be problematic for training of NN if \n",
        "    #cells are used asa data which were initially wrong, but are mapped to an output category)\n",
        "    #DOES NOT WORK FOR PREDICTION OF UNLABELED CELLS OF COURSE! OPTION TRAINING/PREDICTION MODE NEEDED!\n",
        "\n",
        "    idx_of_incorrectly_labelled_cells = []\n",
        "    for cell_label, cell_idx in zip(self.graph.nodes[super_node]['memory'].y_input_data, range(0, len(self.graph.nodes[super_node]['memory'].y_input_data))):\n",
        "      if cell_label not in mapper.keys():\n",
        "        idx_of_incorrectly_labelled_cells.append(cell_idx)\n",
        "    self.graph.nodes[super_node]['memory'].y_input_data = np.delete(self.graph.nodes[super_node]['memory'].y_input_data,idx_of_incorrectly_labelled_cells, axis = 0)\n",
        "    self.graph.nodes[super_node]['memory'].x_input_data = np.delete(self.graph.nodes[super_node]['memory'].x_input_data,idx_of_incorrectly_labelled_cells, axis = 0)\n",
        "    \n",
        "    self.graph.nodes[super_node]['memory'].y_input_grouped_labels = [mapper.get(k) for k in self.graph.nodes[super_node]['memory'].y_input_data]\n",
        "    \n",
        "\n",
        "    \n",
        "\n",
        "  def subset_pred_vec(self, node):\n",
        "    next_labels = [label for label in self.graph[node].keys()]\n",
        "\n",
        "    #fuse training and test data predictions to one prediction in order to have more data for next node (use local variable)\n",
        "    current_pred_vec = np.concatenate((self.graph.nodes[node]['memory'].training_prediction_vec, self.graph.nodes[node]['memory'].test_prediction_vec), axis = 0)\n",
        "    current_pred_vec = self.graph.nodes[node]['memory'].local_classifier.label_encoder.inverse_transform(current_pred_vec)\n",
        "\n",
        "    for next_label in next_labels:\n",
        "\n",
        "      #following line decodes integer output of neural network to string labels (for test and training data -> prediction vecs now overwritten, might be appropriate to use local variable) in order to compare with names of following nodes (again encoded by following local classifier)\n",
        "      # self.graph.nodes[node]['memory'].training_prediction_vec = self.graph.nodes[node]['memory'].local_classifier.label_encoder.inverse_transform(self.graph.nodes[node]['memory'].training_prediction_vec)\n",
        "      # self.graph.nodes[node]['memory'].test_prediction_vec = self.graph.nodes[node]['memory'].local_classifier.label_encoder.inverse_transform(self.graph.nodes[node]['memory'].test_prediction_vec)\n",
        "      # temp_idx_vec = np.where(np.array(self.graph.nodes[node]['memory'].prediction_vec) == next_label)\n",
        "      \n",
        "      #hier nochmal über auswirkung auf 'global accuracy' nachdenken -> falsch gelabelte zellen werden in group_labels_of_subgraph_to_parent_label\n",
        "      #des entsprechenden classifiers/knoten herausgeworfen\n",
        "      temp_idx_vec = np.where(current_pred_vec == next_label) \n",
        "      \n",
        "      self.graph.nodes[next_label]['memory'].x_input_data = np.array(self.graph.nodes[node]['memory'].x_input_data)[temp_idx_vec]\n",
        "      self.graph.nodes[next_label]['memory'].y_input_data = np.array(self.graph.nodes[node]['memory'].y_input_data)[temp_idx_vec]\n",
        "\n",
        "\n",
        "  def master_method(self):\n",
        "    '''method to run all relevant methods -> \"one-click\" initializing of hierarchical classifier (?)'''\n",
        "    pass\n",
        "\n"
      ],
      "metadata": {
        "id": "IQaUTDTS_X1J"
      },
      "execution_count": 52,
      "outputs": []
    },
    {
      "cell_type": "markdown",
      "source": [
        "#Test of Hierarchical Classifier "
      ],
      "metadata": {
        "id": "F_RdxaiARRj3"
      }
    },
    {
      "cell_type": "code",
      "source": [
        "!pip install scikit-misc"
      ],
      "metadata": {
        "id": "NFbEfhcHaN9_",
        "outputId": "f7bf4787-73eb-47ab-e7d6-f9e1f2919ecf",
        "colab": {
          "base_uri": "https://localhost:8080/"
        }
      },
      "execution_count": 7,
      "outputs": [
        {
          "output_type": "stream",
          "name": "stdout",
          "text": [
            "Requirement already satisfied: scikit-misc in /usr/local/lib/python3.7/dist-packages (0.1.4)\n",
            "Requirement already satisfied: numpy in /usr/local/lib/python3.7/dist-packages (from scikit-misc) (1.21.5)\n"
          ]
        }
      ]
    },
    {
      "cell_type": "code",
      "source": [
        "!pip install scvi-tools"
      ],
      "metadata": {
        "id": "_uCEowkMaXGA",
        "outputId": "e646904e-692d-43a4-ebc8-e046f23c51e8",
        "colab": {
          "base_uri": "https://localhost:8080/"
        }
      },
      "execution_count": 8,
      "outputs": [
        {
          "output_type": "stream",
          "name": "stdout",
          "text": [
            "Requirement already satisfied: scvi-tools in /usr/local/lib/python3.7/dist-packages (0.15.2)\n",
            "Requirement already satisfied: rich>=9.1.0 in /usr/local/lib/python3.7/dist-packages (from scvi-tools) (12.0.0)\n",
            "Requirement already satisfied: jax>=0.3 in /usr/local/lib/python3.7/dist-packages (from scvi-tools) (0.3.1)\n",
            "Requirement already satisfied: numpy>=1.17.0 in /usr/local/lib/python3.7/dist-packages (from scvi-tools) (1.21.5)\n",
            "Requirement already satisfied: ipywidgets in /usr/local/lib/python3.7/dist-packages (from scvi-tools) (7.6.5)\n",
            "Requirement already satisfied: importlib-metadata<2.0,>=1.0 in /usr/local/lib/python3.7/dist-packages (from scvi-tools) (1.7.0)\n",
            "Requirement already satisfied: optax in /usr/local/lib/python3.7/dist-packages (from scvi-tools) (0.1.1)\n",
            "Requirement already satisfied: anndata>=0.7.5 in /usr/local/lib/python3.7/dist-packages (from scvi-tools) (0.8.0)\n",
            "Requirement already satisfied: h5py>=2.9.0 in /usr/local/lib/python3.7/dist-packages (from scvi-tools) (3.1.0)\n",
            "Requirement already satisfied: torchmetrics>=0.6.0 in /usr/local/lib/python3.7/dist-packages (from scvi-tools) (0.7.2)\n",
            "Requirement already satisfied: pyro-ppl>=1.6.0 in /usr/local/lib/python3.7/dist-packages (from scvi-tools) (1.8.0)\n",
            "Requirement already satisfied: tqdm>=4.56.0 in /usr/local/lib/python3.7/dist-packages (from scvi-tools) (4.63.0)\n",
            "Requirement already satisfied: pytorch-lightning<1.6,>=1.5 in /usr/local/lib/python3.7/dist-packages (from scvi-tools) (1.5.10)\n",
            "Requirement already satisfied: openpyxl>=3.0 in /usr/local/lib/python3.7/dist-packages (from scvi-tools) (3.0.9)\n",
            "Requirement already satisfied: scikit-learn>=0.21.2 in /usr/local/lib/python3.7/dist-packages (from scvi-tools) (1.0.2)\n",
            "Requirement already satisfied: docrep>=0.3.2 in /usr/local/lib/python3.7/dist-packages (from scvi-tools) (0.3.2)\n",
            "Requirement already satisfied: pandas>=1.0 in /usr/local/lib/python3.7/dist-packages (from scvi-tools) (1.3.5)\n",
            "Requirement already satisfied: torch>=1.8.0 in /usr/local/lib/python3.7/dist-packages (from scvi-tools) (1.10.0+cu111)\n",
            "Requirement already satisfied: numpyro in /usr/local/lib/python3.7/dist-packages (from scvi-tools) (0.9.1)\n",
            "Requirement already satisfied: flax in /usr/local/lib/python3.7/dist-packages (from scvi-tools) (0.4.0)\n",
            "Requirement already satisfied: typing_extensions in /usr/local/lib/python3.7/dist-packages (from anndata>=0.7.5->scvi-tools) (3.10.0.2)\n",
            "Requirement already satisfied: scipy>1.4 in /usr/local/lib/python3.7/dist-packages (from anndata>=0.7.5->scvi-tools) (1.4.1)\n",
            "Requirement already satisfied: natsort in /usr/local/lib/python3.7/dist-packages (from anndata>=0.7.5->scvi-tools) (5.5.0)\n",
            "Requirement already satisfied: packaging>=20 in /usr/local/lib/python3.7/dist-packages (from anndata>=0.7.5->scvi-tools) (21.3)\n",
            "Requirement already satisfied: six in /usr/local/lib/python3.7/dist-packages (from docrep>=0.3.2->scvi-tools) (1.15.0)\n",
            "Requirement already satisfied: cached-property in /usr/local/lib/python3.7/dist-packages (from h5py>=2.9.0->scvi-tools) (1.5.2)\n",
            "Requirement already satisfied: zipp>=0.5 in /usr/local/lib/python3.7/dist-packages (from importlib-metadata<2.0,>=1.0->scvi-tools) (3.7.0)\n",
            "Requirement already satisfied: absl-py in /usr/local/lib/python3.7/dist-packages (from jax>=0.3->scvi-tools) (1.0.0)\n",
            "Requirement already satisfied: opt-einsum in /usr/local/lib/python3.7/dist-packages (from jax>=0.3->scvi-tools) (3.3.0)\n",
            "Requirement already satisfied: et-xmlfile in /usr/local/lib/python3.7/dist-packages (from openpyxl>=3.0->scvi-tools) (1.1.0)\n",
            "Requirement already satisfied: pyparsing!=3.0.5,>=2.0.2 in /usr/local/lib/python3.7/dist-packages (from packaging>=20->anndata>=0.7.5->scvi-tools) (3.0.7)\n",
            "Requirement already satisfied: pytz>=2017.3 in /usr/local/lib/python3.7/dist-packages (from pandas>=1.0->scvi-tools) (2018.9)\n",
            "Requirement already satisfied: python-dateutil>=2.7.3 in /usr/local/lib/python3.7/dist-packages (from pandas>=1.0->scvi-tools) (2.8.2)\n",
            "Requirement already satisfied: pyro-api>=0.1.1 in /usr/local/lib/python3.7/dist-packages (from pyro-ppl>=1.6.0->scvi-tools) (0.1.2)\n",
            "Requirement already satisfied: pyDeprecate==0.3.1 in /usr/local/lib/python3.7/dist-packages (from pytorch-lightning<1.6,>=1.5->scvi-tools) (0.3.1)\n",
            "Requirement already satisfied: setuptools==59.5.0 in /usr/local/lib/python3.7/dist-packages (from pytorch-lightning<1.6,>=1.5->scvi-tools) (59.5.0)\n",
            "Requirement already satisfied: PyYAML>=5.1 in /usr/local/lib/python3.7/dist-packages (from pytorch-lightning<1.6,>=1.5->scvi-tools) (6.0)\n",
            "Requirement already satisfied: tensorboard>=2.2.0 in /usr/local/lib/python3.7/dist-packages (from pytorch-lightning<1.6,>=1.5->scvi-tools) (2.8.0)\n",
            "Requirement already satisfied: fsspec[http]!=2021.06.0,>=2021.05.0 in /usr/local/lib/python3.7/dist-packages (from pytorch-lightning<1.6,>=1.5->scvi-tools) (2022.2.0)\n",
            "Requirement already satisfied: future>=0.17.1 in /usr/local/lib/python3.7/dist-packages (from pytorch-lightning<1.6,>=1.5->scvi-tools) (0.18.2)\n",
            "Requirement already satisfied: aiohttp in /usr/local/lib/python3.7/dist-packages (from fsspec[http]!=2021.06.0,>=2021.05.0->pytorch-lightning<1.6,>=1.5->scvi-tools) (3.8.1)\n",
            "Requirement already satisfied: requests in /usr/local/lib/python3.7/dist-packages (from fsspec[http]!=2021.06.0,>=2021.05.0->pytorch-lightning<1.6,>=1.5->scvi-tools) (2.23.0)\n",
            "Requirement already satisfied: pygments<3.0.0,>=2.6.0 in /usr/local/lib/python3.7/dist-packages (from rich>=9.1.0->scvi-tools) (2.6.1)\n",
            "Requirement already satisfied: commonmark<0.10.0,>=0.9.0 in /usr/local/lib/python3.7/dist-packages (from rich>=9.1.0->scvi-tools) (0.9.1)\n",
            "Requirement already satisfied: threadpoolctl>=2.0.0 in /usr/local/lib/python3.7/dist-packages (from scikit-learn>=0.21.2->scvi-tools) (3.1.0)\n",
            "Requirement already satisfied: joblib>=0.11 in /usr/local/lib/python3.7/dist-packages (from scikit-learn>=0.21.2->scvi-tools) (1.1.0)\n",
            "Requirement already satisfied: protobuf>=3.6.0 in /usr/local/lib/python3.7/dist-packages (from tensorboard>=2.2.0->pytorch-lightning<1.6,>=1.5->scvi-tools) (3.17.3)\n",
            "Requirement already satisfied: tensorboard-data-server<0.7.0,>=0.6.0 in /usr/local/lib/python3.7/dist-packages (from tensorboard>=2.2.0->pytorch-lightning<1.6,>=1.5->scvi-tools) (0.6.1)\n",
            "Requirement already satisfied: tensorboard-plugin-wit>=1.6.0 in /usr/local/lib/python3.7/dist-packages (from tensorboard>=2.2.0->pytorch-lightning<1.6,>=1.5->scvi-tools) (1.8.1)\n",
            "Requirement already satisfied: google-auth<3,>=1.6.3 in /usr/local/lib/python3.7/dist-packages (from tensorboard>=2.2.0->pytorch-lightning<1.6,>=1.5->scvi-tools) (1.35.0)\n",
            "Requirement already satisfied: werkzeug>=0.11.15 in /usr/local/lib/python3.7/dist-packages (from tensorboard>=2.2.0->pytorch-lightning<1.6,>=1.5->scvi-tools) (1.0.1)\n",
            "Requirement already satisfied: google-auth-oauthlib<0.5,>=0.4.1 in /usr/local/lib/python3.7/dist-packages (from tensorboard>=2.2.0->pytorch-lightning<1.6,>=1.5->scvi-tools) (0.4.6)\n",
            "Requirement already satisfied: wheel>=0.26 in /usr/local/lib/python3.7/dist-packages (from tensorboard>=2.2.0->pytorch-lightning<1.6,>=1.5->scvi-tools) (0.37.1)\n",
            "Requirement already satisfied: markdown>=2.6.8 in /usr/local/lib/python3.7/dist-packages (from tensorboard>=2.2.0->pytorch-lightning<1.6,>=1.5->scvi-tools) (3.3.4)\n",
            "Requirement already satisfied: grpcio>=1.24.3 in /usr/local/lib/python3.7/dist-packages (from tensorboard>=2.2.0->pytorch-lightning<1.6,>=1.5->scvi-tools) (1.44.0)\n",
            "Requirement already satisfied: pyasn1-modules>=0.2.1 in /usr/local/lib/python3.7/dist-packages (from google-auth<3,>=1.6.3->tensorboard>=2.2.0->pytorch-lightning<1.6,>=1.5->scvi-tools) (0.2.8)\n",
            "Requirement already satisfied: rsa<5,>=3.1.4 in /usr/local/lib/python3.7/dist-packages (from google-auth<3,>=1.6.3->tensorboard>=2.2.0->pytorch-lightning<1.6,>=1.5->scvi-tools) (4.8)\n",
            "Requirement already satisfied: cachetools<5.0,>=2.0.0 in /usr/local/lib/python3.7/dist-packages (from google-auth<3,>=1.6.3->tensorboard>=2.2.0->pytorch-lightning<1.6,>=1.5->scvi-tools) (4.2.4)\n",
            "Requirement already satisfied: requests-oauthlib>=0.7.0 in /usr/local/lib/python3.7/dist-packages (from google-auth-oauthlib<0.5,>=0.4.1->tensorboard>=2.2.0->pytorch-lightning<1.6,>=1.5->scvi-tools) (1.3.1)\n",
            "Requirement already satisfied: pyasn1<0.5.0,>=0.4.6 in /usr/local/lib/python3.7/dist-packages (from pyasn1-modules>=0.2.1->google-auth<3,>=1.6.3->tensorboard>=2.2.0->pytorch-lightning<1.6,>=1.5->scvi-tools) (0.4.8)\n",
            "Requirement already satisfied: urllib3!=1.25.0,!=1.25.1,<1.26,>=1.21.1 in /usr/local/lib/python3.7/dist-packages (from requests->fsspec[http]!=2021.06.0,>=2021.05.0->pytorch-lightning<1.6,>=1.5->scvi-tools) (1.24.3)\n",
            "Requirement already satisfied: idna<3,>=2.5 in /usr/local/lib/python3.7/dist-packages (from requests->fsspec[http]!=2021.06.0,>=2021.05.0->pytorch-lightning<1.6,>=1.5->scvi-tools) (2.10)\n",
            "Requirement already satisfied: chardet<4,>=3.0.2 in /usr/local/lib/python3.7/dist-packages (from requests->fsspec[http]!=2021.06.0,>=2021.05.0->pytorch-lightning<1.6,>=1.5->scvi-tools) (3.0.4)\n",
            "Requirement already satisfied: certifi>=2017.4.17 in /usr/local/lib/python3.7/dist-packages (from requests->fsspec[http]!=2021.06.0,>=2021.05.0->pytorch-lightning<1.6,>=1.5->scvi-tools) (2021.10.8)\n",
            "Requirement already satisfied: oauthlib>=3.0.0 in /usr/local/lib/python3.7/dist-packages (from requests-oauthlib>=0.7.0->google-auth-oauthlib<0.5,>=0.4.1->tensorboard>=2.2.0->pytorch-lightning<1.6,>=1.5->scvi-tools) (3.2.0)\n",
            "Requirement already satisfied: yarl<2.0,>=1.0 in /usr/local/lib/python3.7/dist-packages (from aiohttp->fsspec[http]!=2021.06.0,>=2021.05.0->pytorch-lightning<1.6,>=1.5->scvi-tools) (1.7.2)\n",
            "Requirement already satisfied: asynctest==0.13.0 in /usr/local/lib/python3.7/dist-packages (from aiohttp->fsspec[http]!=2021.06.0,>=2021.05.0->pytorch-lightning<1.6,>=1.5->scvi-tools) (0.13.0)\n",
            "Requirement already satisfied: frozenlist>=1.1.1 in /usr/local/lib/python3.7/dist-packages (from aiohttp->fsspec[http]!=2021.06.0,>=2021.05.0->pytorch-lightning<1.6,>=1.5->scvi-tools) (1.3.0)\n",
            "Requirement already satisfied: async-timeout<5.0,>=4.0.0a3 in /usr/local/lib/python3.7/dist-packages (from aiohttp->fsspec[http]!=2021.06.0,>=2021.05.0->pytorch-lightning<1.6,>=1.5->scvi-tools) (4.0.2)\n",
            "Requirement already satisfied: multidict<7.0,>=4.5 in /usr/local/lib/python3.7/dist-packages (from aiohttp->fsspec[http]!=2021.06.0,>=2021.05.0->pytorch-lightning<1.6,>=1.5->scvi-tools) (6.0.2)\n",
            "Requirement already satisfied: attrs>=17.3.0 in /usr/local/lib/python3.7/dist-packages (from aiohttp->fsspec[http]!=2021.06.0,>=2021.05.0->pytorch-lightning<1.6,>=1.5->scvi-tools) (21.4.0)\n",
            "Requirement already satisfied: aiosignal>=1.1.2 in /usr/local/lib/python3.7/dist-packages (from aiohttp->fsspec[http]!=2021.06.0,>=2021.05.0->pytorch-lightning<1.6,>=1.5->scvi-tools) (1.2.0)\n",
            "Requirement already satisfied: charset-normalizer<3.0,>=2.0 in /usr/local/lib/python3.7/dist-packages (from aiohttp->fsspec[http]!=2021.06.0,>=2021.05.0->pytorch-lightning<1.6,>=1.5->scvi-tools) (2.0.12)\n",
            "Requirement already satisfied: msgpack in /usr/local/lib/python3.7/dist-packages (from flax->scvi-tools) (1.0.3)\n",
            "Requirement already satisfied: matplotlib in /usr/local/lib/python3.7/dist-packages (from flax->scvi-tools) (3.2.2)\n",
            "Requirement already satisfied: ipython-genutils~=0.2.0 in /usr/local/lib/python3.7/dist-packages (from ipywidgets->scvi-tools) (0.2.0)\n",
            "Requirement already satisfied: jupyterlab-widgets>=1.0.0 in /usr/local/lib/python3.7/dist-packages (from ipywidgets->scvi-tools) (1.0.2)\n",
            "Requirement already satisfied: nbformat>=4.2.0 in /usr/local/lib/python3.7/dist-packages (from ipywidgets->scvi-tools) (5.1.3)\n",
            "Requirement already satisfied: widgetsnbextension~=3.5.0 in /usr/local/lib/python3.7/dist-packages (from ipywidgets->scvi-tools) (3.5.2)\n",
            "Requirement already satisfied: traitlets>=4.3.1 in /usr/local/lib/python3.7/dist-packages (from ipywidgets->scvi-tools) (5.1.1)\n",
            "Requirement already satisfied: ipykernel>=4.5.1 in /usr/local/lib/python3.7/dist-packages (from ipywidgets->scvi-tools) (4.10.1)\n",
            "Requirement already satisfied: ipython>=4.0.0 in /usr/local/lib/python3.7/dist-packages (from ipywidgets->scvi-tools) (5.5.0)\n",
            "Requirement already satisfied: tornado>=4.0 in /usr/local/lib/python3.7/dist-packages (from ipykernel>=4.5.1->ipywidgets->scvi-tools) (5.1.1)\n",
            "Requirement already satisfied: jupyter-client in /usr/local/lib/python3.7/dist-packages (from ipykernel>=4.5.1->ipywidgets->scvi-tools) (5.3.5)\n",
            "Requirement already satisfied: pexpect in /usr/local/lib/python3.7/dist-packages (from ipython>=4.0.0->ipywidgets->scvi-tools) (4.8.0)\n",
            "Requirement already satisfied: decorator in /usr/local/lib/python3.7/dist-packages (from ipython>=4.0.0->ipywidgets->scvi-tools) (4.4.2)\n",
            "Requirement already satisfied: prompt-toolkit<2.0.0,>=1.0.4 in /usr/local/lib/python3.7/dist-packages (from ipython>=4.0.0->ipywidgets->scvi-tools) (1.0.18)\n",
            "Requirement already satisfied: pickleshare in /usr/local/lib/python3.7/dist-packages (from ipython>=4.0.0->ipywidgets->scvi-tools) (0.7.5)\n",
            "Requirement already satisfied: simplegeneric>0.8 in /usr/local/lib/python3.7/dist-packages (from ipython>=4.0.0->ipywidgets->scvi-tools) (0.8.1)\n",
            "Requirement already satisfied: jsonschema!=2.5.0,>=2.4 in /usr/local/lib/python3.7/dist-packages (from nbformat>=4.2.0->ipywidgets->scvi-tools) (4.3.3)\n",
            "Requirement already satisfied: jupyter-core in /usr/local/lib/python3.7/dist-packages (from nbformat>=4.2.0->ipywidgets->scvi-tools) (4.9.2)\n",
            "Requirement already satisfied: pyrsistent!=0.17.0,!=0.17.1,!=0.17.2,>=0.14.0 in /usr/local/lib/python3.7/dist-packages (from jsonschema!=2.5.0,>=2.4->nbformat>=4.2.0->ipywidgets->scvi-tools) (0.18.1)\n",
            "Requirement already satisfied: importlib-resources>=1.4.0 in /usr/local/lib/python3.7/dist-packages (from jsonschema!=2.5.0,>=2.4->nbformat>=4.2.0->ipywidgets->scvi-tools) (5.4.0)\n",
            "Requirement already satisfied: wcwidth in /usr/local/lib/python3.7/dist-packages (from prompt-toolkit<2.0.0,>=1.0.4->ipython>=4.0.0->ipywidgets->scvi-tools) (0.2.5)\n",
            "Requirement already satisfied: notebook>=4.4.1 in /usr/local/lib/python3.7/dist-packages (from widgetsnbextension~=3.5.0->ipywidgets->scvi-tools) (5.3.1)\n",
            "Requirement already satisfied: jinja2 in /usr/local/lib/python3.7/dist-packages (from notebook>=4.4.1->widgetsnbextension~=3.5.0->ipywidgets->scvi-tools) (2.11.3)\n",
            "Requirement already satisfied: nbconvert in /usr/local/lib/python3.7/dist-packages (from notebook>=4.4.1->widgetsnbextension~=3.5.0->ipywidgets->scvi-tools) (5.6.1)\n",
            "Requirement already satisfied: terminado>=0.8.1 in /usr/local/lib/python3.7/dist-packages (from notebook>=4.4.1->widgetsnbextension~=3.5.0->ipywidgets->scvi-tools) (0.13.3)\n",
            "Requirement already satisfied: Send2Trash in /usr/local/lib/python3.7/dist-packages (from notebook>=4.4.1->widgetsnbextension~=3.5.0->ipywidgets->scvi-tools) (1.8.0)\n",
            "Requirement already satisfied: pyzmq>=13 in /usr/local/lib/python3.7/dist-packages (from jupyter-client->ipykernel>=4.5.1->ipywidgets->scvi-tools) (22.3.0)\n",
            "Requirement already satisfied: ptyprocess in /usr/local/lib/python3.7/dist-packages (from terminado>=0.8.1->notebook>=4.4.1->widgetsnbextension~=3.5.0->ipywidgets->scvi-tools) (0.7.0)\n",
            "Requirement already satisfied: MarkupSafe>=0.23 in /usr/local/lib/python3.7/dist-packages (from jinja2->notebook>=4.4.1->widgetsnbextension~=3.5.0->ipywidgets->scvi-tools) (2.0.1)\n",
            "Requirement already satisfied: kiwisolver>=1.0.1 in /usr/local/lib/python3.7/dist-packages (from matplotlib->flax->scvi-tools) (1.3.2)\n",
            "Requirement already satisfied: cycler>=0.10 in /usr/local/lib/python3.7/dist-packages (from matplotlib->flax->scvi-tools) (0.11.0)\n",
            "Requirement already satisfied: testpath in /usr/local/lib/python3.7/dist-packages (from nbconvert->notebook>=4.4.1->widgetsnbextension~=3.5.0->ipywidgets->scvi-tools) (0.6.0)\n",
            "Requirement already satisfied: bleach in /usr/local/lib/python3.7/dist-packages (from nbconvert->notebook>=4.4.1->widgetsnbextension~=3.5.0->ipywidgets->scvi-tools) (4.1.0)\n",
            "Requirement already satisfied: mistune<2,>=0.8.1 in /usr/local/lib/python3.7/dist-packages (from nbconvert->notebook>=4.4.1->widgetsnbextension~=3.5.0->ipywidgets->scvi-tools) (0.8.4)\n",
            "Requirement already satisfied: defusedxml in /usr/local/lib/python3.7/dist-packages (from nbconvert->notebook>=4.4.1->widgetsnbextension~=3.5.0->ipywidgets->scvi-tools) (0.7.1)\n",
            "Requirement already satisfied: entrypoints>=0.2.2 in /usr/local/lib/python3.7/dist-packages (from nbconvert->notebook>=4.4.1->widgetsnbextension~=3.5.0->ipywidgets->scvi-tools) (0.4)\n",
            "Requirement already satisfied: pandocfilters>=1.4.1 in /usr/local/lib/python3.7/dist-packages (from nbconvert->notebook>=4.4.1->widgetsnbextension~=3.5.0->ipywidgets->scvi-tools) (1.5.0)\n",
            "Requirement already satisfied: webencodings in /usr/local/lib/python3.7/dist-packages (from bleach->nbconvert->notebook>=4.4.1->widgetsnbextension~=3.5.0->ipywidgets->scvi-tools) (0.5.1)\n",
            "Requirement already satisfied: multipledispatch in /usr/local/lib/python3.7/dist-packages (from numpyro->scvi-tools) (0.6.0)\n",
            "Requirement already satisfied: jaxlib>=0.1.65 in /usr/local/lib/python3.7/dist-packages (from numpyro->scvi-tools) (0.3.0+cuda11.cudnn805)\n",
            "Requirement already satisfied: flatbuffers<3.0,>=1.12 in /usr/local/lib/python3.7/dist-packages (from jaxlib>=0.1.65->numpyro->scvi-tools) (2.0)\n",
            "Requirement already satisfied: chex>=0.0.4 in /usr/local/lib/python3.7/dist-packages (from optax->scvi-tools) (0.1.1)\n",
            "Requirement already satisfied: toolz>=0.9.0 in /usr/local/lib/python3.7/dist-packages (from chex>=0.0.4->optax->scvi-tools) (0.11.2)\n",
            "Requirement already satisfied: dm-tree>=0.1.5 in /usr/local/lib/python3.7/dist-packages (from chex>=0.0.4->optax->scvi-tools) (0.1.6)\n"
          ]
        }
      ]
    },
    {
      "cell_type": "code",
      "source": [
        "!pip install scanpy \n"
      ],
      "metadata": {
        "id": "ICWY1MyZRVbk",
        "outputId": "bdc6a0c8-3654-46cb-d656-34f7c4e1ff4b",
        "colab": {
          "base_uri": "https://localhost:8080/"
        }
      },
      "execution_count": 9,
      "outputs": [
        {
          "output_type": "stream",
          "name": "stdout",
          "text": [
            "Requirement already satisfied: scanpy in /usr/local/lib/python3.7/dist-packages (1.8.2)\n",
            "Requirement already satisfied: tables in /usr/local/lib/python3.7/dist-packages (from scanpy) (3.7.0)\n",
            "Requirement already satisfied: joblib in /usr/local/lib/python3.7/dist-packages (from scanpy) (1.1.0)\n",
            "Requirement already satisfied: statsmodels>=0.10.0rc2 in /usr/local/lib/python3.7/dist-packages (from scanpy) (0.10.2)\n",
            "Requirement already satisfied: numba>=0.41.0 in /usr/local/lib/python3.7/dist-packages (from scanpy) (0.51.2)\n",
            "Requirement already satisfied: pandas>=0.21 in /usr/local/lib/python3.7/dist-packages (from scanpy) (1.3.5)\n",
            "Requirement already satisfied: importlib_metadata>=0.7 in /usr/local/lib/python3.7/dist-packages (from scanpy) (1.7.0)\n",
            "Requirement already satisfied: sinfo in /usr/local/lib/python3.7/dist-packages (from scanpy) (0.3.4)\n",
            "Requirement already satisfied: anndata>=0.7.4 in /usr/local/lib/python3.7/dist-packages (from scanpy) (0.8.0)\n",
            "Requirement already satisfied: h5py>=2.10.0 in /usr/local/lib/python3.7/dist-packages (from scanpy) (3.1.0)\n",
            "Requirement already satisfied: natsort in /usr/local/lib/python3.7/dist-packages (from scanpy) (5.5.0)\n",
            "Requirement already satisfied: scipy>=1.4 in /usr/local/lib/python3.7/dist-packages (from scanpy) (1.4.1)\n",
            "Requirement already satisfied: matplotlib>=3.1.2 in /usr/local/lib/python3.7/dist-packages (from scanpy) (3.2.2)\n",
            "Requirement already satisfied: packaging in /usr/local/lib/python3.7/dist-packages (from scanpy) (21.3)\n",
            "Requirement already satisfied: patsy in /usr/local/lib/python3.7/dist-packages (from scanpy) (0.5.2)\n",
            "Requirement already satisfied: scikit-learn>=0.22 in /usr/local/lib/python3.7/dist-packages (from scanpy) (1.0.2)\n",
            "Requirement already satisfied: numpy>=1.17.0 in /usr/local/lib/python3.7/dist-packages (from scanpy) (1.21.5)\n",
            "Requirement already satisfied: seaborn in /usr/local/lib/python3.7/dist-packages (from scanpy) (0.11.2)\n",
            "Requirement already satisfied: umap-learn>=0.3.10 in /usr/local/lib/python3.7/dist-packages (from scanpy) (0.5.2)\n",
            "Requirement already satisfied: networkx>=2.3 in /usr/local/lib/python3.7/dist-packages (from scanpy) (2.6.3)\n",
            "Requirement already satisfied: tqdm in /usr/local/lib/python3.7/dist-packages (from scanpy) (4.63.0)\n",
            "Requirement already satisfied: typing_extensions in /usr/local/lib/python3.7/dist-packages (from anndata>=0.7.4->scanpy) (3.10.0.2)\n",
            "Requirement already satisfied: cached-property in /usr/local/lib/python3.7/dist-packages (from h5py>=2.10.0->scanpy) (1.5.2)\n",
            "Requirement already satisfied: zipp>=0.5 in /usr/local/lib/python3.7/dist-packages (from importlib_metadata>=0.7->scanpy) (3.7.0)\n",
            "Requirement already satisfied: python-dateutil>=2.1 in /usr/local/lib/python3.7/dist-packages (from matplotlib>=3.1.2->scanpy) (2.8.2)\n",
            "Requirement already satisfied: pyparsing!=2.0.4,!=2.1.2,!=2.1.6,>=2.0.1 in /usr/local/lib/python3.7/dist-packages (from matplotlib>=3.1.2->scanpy) (3.0.7)\n",
            "Requirement already satisfied: kiwisolver>=1.0.1 in /usr/local/lib/python3.7/dist-packages (from matplotlib>=3.1.2->scanpy) (1.3.2)\n",
            "Requirement already satisfied: cycler>=0.10 in /usr/local/lib/python3.7/dist-packages (from matplotlib>=3.1.2->scanpy) (0.11.0)\n",
            "Requirement already satisfied: llvmlite<0.35,>=0.34.0.dev0 in /usr/local/lib/python3.7/dist-packages (from numba>=0.41.0->scanpy) (0.34.0)\n",
            "Requirement already satisfied: setuptools in /usr/local/lib/python3.7/dist-packages (from numba>=0.41.0->scanpy) (59.5.0)\n",
            "Requirement already satisfied: pytz>=2017.3 in /usr/local/lib/python3.7/dist-packages (from pandas>=0.21->scanpy) (2018.9)\n",
            "Requirement already satisfied: six>=1.5 in /usr/local/lib/python3.7/dist-packages (from python-dateutil>=2.1->matplotlib>=3.1.2->scanpy) (1.15.0)\n",
            "Requirement already satisfied: threadpoolctl>=2.0.0 in /usr/local/lib/python3.7/dist-packages (from scikit-learn>=0.22->scanpy) (3.1.0)\n",
            "Requirement already satisfied: pynndescent>=0.5 in /usr/local/lib/python3.7/dist-packages (from umap-learn>=0.3.10->scanpy) (0.5.6)\n",
            "Requirement already satisfied: stdlib-list in /usr/local/lib/python3.7/dist-packages (from sinfo->scanpy) (0.8.0)\n",
            "Requirement already satisfied: numexpr>=2.6.2 in /usr/local/lib/python3.7/dist-packages (from tables->scanpy) (2.8.1)\n"
          ]
        }
      ]
    },
    {
      "cell_type": "code",
      "source": [
        "import scanpy as sc"
      ],
      "metadata": {
        "id": "qvbTHN7Tek7N"
      },
      "execution_count": 10,
      "outputs": []
    },
    {
      "cell_type": "code",
      "source": [
        "from google.colab import drive\n",
        "drive.mount('/content/drive/')"
      ],
      "metadata": {
        "colab": {
          "base_uri": "https://localhost:8080/"
        },
        "id": "yExXmrwfQuPx",
        "outputId": "6211c17d-7a10-40f2-efc3-d164f02c252d"
      },
      "execution_count": 11,
      "outputs": [
        {
          "output_type": "stream",
          "name": "stdout",
          "text": [
            "Drive already mounted at /content/drive/; to attempt to forcibly remount, call drive.mount(\"/content/drive/\", force_remount=True).\n"
          ]
        }
      ]
    },
    {
      "cell_type": "code",
      "source": [
        "adata = sc.read('drive/MyDrive/TNK_Zhang_BRCA_labeled_Test.h5ad')\n",
        "adata = adata[adata.obs.sample(n=5000, replace=False, random_state=1, axis=0).index,:].copy()\n",
        "sc.pp.highly_variable_genes(adata, n_top_genes=3000, flavor='seurat_v3', subset=True)"
      ],
      "metadata": {
        "id": "G51DK4iQaeli"
      },
      "execution_count": 12,
      "outputs": []
    },
    {
      "cell_type": "code",
      "source": [
        "import scvi\n",
        "\n",
        "scvi.model.SCVI.setup_anndata(adata, batch_key=\"batch\")\n",
        "vae = scvi.model.SCVI(adata)\n",
        "vae.train(max_epochs=100)\n",
        "adata.obsm['X_scvi'] = vae.get_latent_representation()"
      ],
      "metadata": {
        "id": "bOP93pMra7YO",
        "outputId": "43b9d4c9-74f3-4c2e-c3ab-9fbe78c406cc",
        "colab": {
          "base_uri": "https://localhost:8080/"
        }
      },
      "execution_count": 13,
      "outputs": [
        {
          "output_type": "stream",
          "name": "stderr",
          "text": [
            "Global seed set to 0\n",
            "GPU available: False, used: False\n",
            "TPU available: False, using: 0 TPU cores\n",
            "IPU available: False, using: 0 IPUs\n"
          ]
        },
        {
          "output_type": "stream",
          "name": "stdout",
          "text": [
            "Epoch 100/100: 100%|██████████| 100/100 [08:59<00:00,  5.40s/it, loss=764, v_num=1]\n"
          ]
        }
      ]
    },
    {
      "cell_type": "code",
      "source": [
        "adata.obsm['X_scVI'] = vae.get_latent_representation()\n",
        "del adata.obsm['X_scvi']"
      ],
      "metadata": {
        "id": "yDJlgX4aegb-"
      },
      "execution_count": 15,
      "outputs": []
    },
    {
      "cell_type": "code",
      "source": [
        "adata.obs['Level_3'].replace('ILC', 'ILC_ALL')"
      ],
      "metadata": {
        "id": "c3PZXuvOe_hs",
        "outputId": "20d18181-9628-427b-9365-e559e5e4fb02",
        "colab": {
          "base_uri": "https://localhost:8080/"
        }
      },
      "execution_count": 19,
      "outputs": [
        {
          "output_type": "execute_result",
          "data": {
            "text/plain": [
              "CATTATCCACAGCGTC.Post_P013_b          T\n",
              "ATCATGGCAAGGTGTG.Post_P023_b          T\n",
              "CGTGTAAAGACAGACC.Pre_P013_b           T\n",
              "TTGGAACCATCGATTG.Pre_P014_b     ILC_ALL\n",
              "AGCTCTCTCTCACATT.Post_P018_b          T\n",
              "                                 ...   \n",
              "AGAGTGGGTACGACCC.Prog_P013_b    ILC_ALL\n",
              "CAAGATCTCAACGGCC.Pre_P008_b           T\n",
              "GAGGTGAAGGCCCTCA.Pre_P014_b           T\n",
              "CCATGTCCAGCCACCA.Post_P017_b          T\n",
              "ATCGAGTTCATACGGT.Post_P002_b          T\n",
              "Name: Level_3, Length: 5000, dtype: category\n",
              "Categories (2, object): ['ILC_ALL', 'T']"
            ]
          },
          "metadata": {},
          "execution_count": 19
        }
      ]
    },
    {
      "cell_type": "code",
      "source": [
        "adata.write('drive/MyDrive/TNK_Zhang_BRCA_labeled_Test.h5ad')"
      ],
      "metadata": {
        "id": "iRMA0AIbcrJ-"
      },
      "execution_count": 20,
      "outputs": []
    },
    {
      "cell_type": "code",
      "source": [
        "#adata = sc.read('drive/MyDrive/single_cell/processed/pbmc3k_level_1_scvi.h5ad')"
      ],
      "metadata": {
        "id": "MIoF8UQJRf9g"
      },
      "execution_count": null,
      "outputs": []
    },
    {
      "cell_type": "code",
      "source": [
        "# adata.obs['leiden']"
      ],
      "metadata": {
        "id": "rU0gryAt9Buo"
      },
      "execution_count": null,
      "outputs": []
    },
    {
      "cell_type": "code",
      "source": [
        "# adata.obs['training_level_1']"
      ],
      "metadata": {
        "id": "EOteQm1jXdLL"
      },
      "execution_count": null,
      "outputs": []
    },
    {
      "cell_type": "code",
      "source": [
        "#neues erstellen des digraphs, for loop setzt alle node memories zurück\n",
        "#hc = Hierarchical_Classifier({'all': {'TNK':{'CD4 T':{}, 'CD8 T':{}, 'NK':{}}, 'Myeloisch':{'FCGR3A Monocytes': {}, 'Dendritic':{}, 'CD14 Monocytes':{}}, 'B': {}, 'Others':{'Megakaryocytes':{}}}})\n",
        "hc = Hierarchical_Classifier(\n",
        "  {\n",
        "    'T_ILC': {\n",
        "      'T': {\n",
        "        'ab_T': {}, \n",
        "        'MAIT': {}, \n",
        "        'gd_T': {}\n",
        "      }, \n",
        "      'ILC_ALL': {\n",
        "        'NK': {},\n",
        "        'ILC': {}\n",
        "      } \n",
        "    }\n",
        "  }\n",
        ")\n",
        "hc.make_classifier_graph()\n",
        "for node in hc.graph.nodes:\n",
        "  hc.init_node_memory_object(node)\n",
        "nx.draw(hc.graph, with_labels=True)"
      ],
      "metadata": {
        "id": "AopRfZquzw_B",
        "colab": {
          "base_uri": "https://localhost:8080/",
          "height": 319
        },
        "outputId": "d4731c82-4f28-4e95-f75a-882c7b62b2ba"
      },
      "execution_count": 53,
      "outputs": [
        {
          "output_type": "display_data",
          "data": {
            "text/plain": [
              "<Figure size 432x288 with 1 Axes>"
            ],
            "image/png": "[encoded data removed]"
          },
          "metadata": {}
        }
      ]
    },
    {
      "cell_type": "code",
      "source": [
        "# list_subgraph_nodes(hc.graph, 'Myeloisch')"
      ],
      "metadata": {
        "id": "otQ0mLmh82GW"
      },
      "execution_count": 54,
      "outputs": []
    },
    {
      "cell_type": "code",
      "source": [
        "# hc.group_labels_of_subgraph_to_parent_label('all')"
      ],
      "metadata": {
        "id": "5-bVX9M4afKF"
      },
      "execution_count": 55,
      "outputs": []
    },
    {
      "cell_type": "code",
      "source": [
        "adata = adata[adata.obs['Level_4'] != '']"
      ],
      "metadata": {
        "id": "ov905XqLhNun"
      },
      "execution_count": 56,
      "outputs": []
    },
    {
      "cell_type": "code",
      "source": [
        "#save input data and initialize first network in first node\n",
        "hc.init_node_memory_object('T_ILC', [adata.obsm['X_scVI'], adata.obs['Level_4'], Neural_Network])"
      ],
      "metadata": {
        "id": "mP-BYisi-cda",
        "colab": {
          "base_uri": "https://localhost:8080/"
        },
        "outputId": "75ebc7fd-0d91-4cd9-f86d-148cba27a6a7"
      },
      "execution_count": 57,
      "outputs": [
        {
          "output_type": "stream",
          "name": "stdout",
          "text": [
            "Aus init_node_memory_object von Knoten T_ILC: output größe initialisiert als 2\n",
            "zu übergebene y_input daten: ['T', 'T', 'T', 'ILC_ALL', 'T', 'T', 'T', 'ILC_ALL', 'T', 'ILC_ALL', 'T', 'T', 'T', 'ILC_ALL', 'ILC_ALL', 'ILC_ALL', 'T', 'ILC_ALL', 'T', 'T', 'T', 'T', 'T', 'T', 'ILC_ALL', 'ILC_ALL', 'T', 'ILC_ALL', 'T', 'ILC_ALL', 'T', 'T', 'ILC_ALL', 'ILC_ALL', 'ILC_ALL', 'T', 'ILC_ALL', 'T', 'T', 'T', 'ILC_ALL', 'T', 'ILC_ALL', 'T', 'ILC_ALL', 'T', 'T', 'T', 'T', 'ILC_ALL', 'T', 'ILC_ALL', 'T', 'T', 'T', 'ILC_ALL', 'T', 'ILC_ALL', 'T', 'T', 'ILC_ALL', 'T', 'T', 'T', 'T', 'T', 'T', 'T', 'T', 'T', 'ILC_ALL', 'ILC_ALL', 'ILC_ALL', 'ILC_ALL', 'ILC_ALL', 'T', 'ILC_ALL', 'T', 'T', 'T', 'T', 'T', 'T', 'ILC_ALL', 'ILC_ALL', 'T', 'T', 'ILC_ALL', 'T', 'T', 'T', 'T', 'T', 'T', 'T', 'T', 'T', 'ILC_ALL', 'ILC_ALL', 'T', 'T', 'T', 'T', 'ILC_ALL', 'ILC_ALL', 'ILC_ALL', 'ILC_ALL', 'ILC_ALL', 'T', 'ILC_ALL', 'T', 'T', 'ILC_ALL', 'ILC_ALL', 'T', 'T', 'T', 'ILC_ALL', 'T', 'T', 'ILC_ALL', 'ILC_ALL', 'T', 'T', 'ILC_ALL', 'T', 'T', 'T', 'T', 'ILC_ALL', 'T', 'T', 'T', 'T', 'T', 'ILC_ALL', 'T', 'T', 'ILC_ALL', 'T', 'ILC_ALL', 'T', 'T', 'ILC_ALL', 'T', 'ILC_ALL', 'T', 'T', 'T', 'T', 'ILC_ALL', 'ILC_ALL', 'T', 'T', 'ILC_ALL', 'T', 'ILC_ALL', 'T', 'ILC_ALL', 'ILC_ALL', 'T', 'T', 'T', 'T', 'T', 'T', 'T', 'ILC_ALL', 'T', 'T', 'T', 'T', 'ILC_ALL', 'T', 'ILC_ALL', 'T', 'T', 'T', 'T', 'T', 'T', 'T', 'T', 'T', 'ILC_ALL', 'ILC_ALL', 'T', 'T', 'T', 'T', 'T', 'T', 'ILC_ALL', 'T', 'T', 'T', 'ILC_ALL', 'ILC_ALL', 'T', 'ILC_ALL', 'ILC_ALL', 'ILC_ALL', 'T', 'ILC_ALL', 'ILC_ALL', 'T', 'T', 'ILC_ALL', 'ILC_ALL', 'T', 'T', 'T', 'ILC_ALL', 'T', 'T', 'T', 'ILC_ALL', 'T', 'T', 'ILC_ALL', 'T', 'T', 'T', 'T', 'T', 'T', 'T', 'T', 'ILC_ALL', 'T', 'ILC_ALL', 'T', 'T', 'T', 'ILC_ALL', 'T', 'ILC_ALL', 'T', 'T', 'T', 'T', 'ILC_ALL', 'T', 'T', 'T', 'T', 'T', 'ILC_ALL', 'T', 'T', 'T', 'ILC_ALL', 'ILC_ALL', 'T', 'T', 'T', 'T', 'T', 'ILC_ALL', 'T', 'T', 'T', 'T', 'ILC_ALL', 'ILC_ALL', 'T', 'ILC_ALL', 'ILC_ALL', 'T', 'T', 'ILC_ALL', 'ILC_ALL', 'T', 'ILC_ALL', 'T', 'ILC_ALL', 'T', 'T', 'T', 'T', 'T', 'T', 'T', 'ILC_ALL', 'ILC_ALL', 'T', 'ILC_ALL', 'T', 'T', 'ILC_ALL', 'T', 'T', 'ILC_ALL', 'T', 'T', 'ILC_ALL', 'T', 'T', 'T', 'ILC_ALL', 'ILC_ALL', 'ILC_ALL', 'T', 'T', 'T', 'T', 'ILC_ALL', 'T', 'ILC_ALL', 'T', 'T', 'T', 'T', 'T', 'T', 'T', 'ILC_ALL', 'T', 'ILC_ALL', 'T', 'T', 'T', 'T', 'T', 'T', 'ILC_ALL', 'T', 'ILC_ALL', 'ILC_ALL', 'T', 'T', 'ILC_ALL', 'T', 'T', 'ILC_ALL', 'T', 'ILC_ALL', 'ILC_ALL', 'T', 'T', 'T', 'T', 'T', 'T', 'ILC_ALL', 'T', 'ILC_ALL', 'ILC_ALL', 'T', 'T', 'T', 'T', 'T', 'ILC_ALL', 'T', 'T', 'ILC_ALL', 'T', 'ILC_ALL', 'T', 'T', 'T', 'T', 'ILC_ALL', 'ILC_ALL', 'T', 'T', 'T', 'T', 'ILC_ALL', 'T', 'T', 'T', 'T', 'ILC_ALL', 'T', 'ILC_ALL', 'ILC_ALL', 'T', 'T', 'T', 'ILC_ALL', 'ILC_ALL', 'T', 'T', 'T', 'T', 'T', 'T', 'T', 'T', 'T', 'T', 'T', 'ILC_ALL', 'T', 'ILC_ALL', 'T', 'ILC_ALL', 'ILC_ALL', 'T', 'T', 'ILC_ALL', 'ILC_ALL', 'T', 'T', 'T', 'T', 'T', 'T', 'T', 'T', 'ILC_ALL', 'ILC_ALL', 'T', 'T', 'T', 'T', 'T', 'T', 'T', 'T', 'T', 'T', 'T', 'ILC_ALL', 'T', 'T', 'T', 'T', 'ILC_ALL', 'ILC_ALL', 'T', 'T', 'T', 'T', 'T', 'ILC_ALL', 'T', 'ILC_ALL', 'ILC_ALL', 'T', 'T', 'ILC_ALL', 'T', 'T', 'ILC_ALL', 'T', 'ILC_ALL', 'T', 'ILC_ALL', 'T', 'T', 'T', 'T', 'T', 'ILC_ALL', 'ILC_ALL', 'ILC_ALL', 'ILC_ALL', 'T', 'T', 'T', 'T', 'T', 'ILC_ALL', 'ILC_ALL', 'T', 'ILC_ALL', 'T', 'ILC_ALL', 'ILC_ALL', 'ILC_ALL', 'T', 'T', 'T', 'T', 'T', 'T', 'T', 'T', 'T', 'T', 'ILC_ALL', 'ILC_ALL', 'T', 'T', 'T', 'T', 'T', 'T', 'T', 'ILC_ALL', 'ILC_ALL', 'ILC_ALL', 'T', 'T', 'T', 'T', 'ILC_ALL', 'ILC_ALL', 'T', 'T', 'T', 'ILC_ALL', 'T', 'T', 'ILC_ALL', 'T', 'T', 'T', 'T', 'T', 'T', 'ILC_ALL', 'ILC_ALL', 'T', 'ILC_ALL', 'T', 'ILC_ALL', 'ILC_ALL', 'T', 'T', 'T', 'ILC_ALL', 'T', 'T', 'ILC_ALL', 'T', 'T', 'T', 'ILC_ALL', 'ILC_ALL', 'T', 'T', 'T', 'T', 'T', 'T', 'T', 'ILC_ALL', 'ILC_ALL', 'T', 'T', 'ILC_ALL', 'ILC_ALL', 'T', 'T', 'ILC_ALL', 'T', 'ILC_ALL', 'T', 'T', 'T', 'T', 'ILC_ALL', 'ILC_ALL', 'T', 'T', 'T', 'T', 'T', 'ILC_ALL', 'T', 'T', 'T', 'ILC_ALL', 'ILC_ALL', 'T', 'T', 'T', 'T', 'ILC_ALL', 'ILC_ALL', 'T', 'T', 'T', 'T', 'T', 'T', 'T', 'ILC_ALL', 'T', 'T', 'T', 'ILC_ALL', 'T', 'T', 'T', 'T', 'T', 'ILC_ALL', 'T', 'T', 'ILC_ALL', 'T', 'T', 'ILC_ALL', 'T', 'T', 'T', 'T', 'ILC_ALL', 'T', 'ILC_ALL', 'T', 'T', 'T', 'T', 'T', 'T', 'T', 'T', 'T', 'T', 'ILC_ALL', 'T', 'T', 'T', 'ILC_ALL', 'T', 'T', 'T', 'ILC_ALL', 'ILC_ALL', 'ILC_ALL', 'T', 'ILC_ALL', 'T', 'T', 'ILC_ALL', 'ILC_ALL', 'T', 'T', 'ILC_ALL', 'T', 'ILC_ALL', 'T', 'T', 'T', 'T', 'ILC_ALL', 'ILC_ALL', 'ILC_ALL', 'T', 'T', 'T', 'T', 'T', 'ILC_ALL', 'T', 'T', 'T', 'T', 'T', 'T', 'T', 'T', 'ILC_ALL', 'ILC_ALL', 'T', 'T', 'ILC_ALL', 'T', 'T', 'T', 'ILC_ALL', 'T', 'T', 'T', 'T', 'ILC_ALL', 'ILC_ALL', 'ILC_ALL', 'ILC_ALL', 'T', 'T', 'ILC_ALL', 'T', 'T', 'T', 'T', 'T', 'T', 'ILC_ALL', 'T', 'T', 'ILC_ALL', 'T', 'T', 'T', 'T', 'T', 'T', 'T', 'ILC_ALL', 'T', 'T', 'ILC_ALL', 'T', 'T', 'T', 'ILC_ALL', 'T', 'ILC_ALL', 'T', 'ILC_ALL', 'ILC_ALL', 'T', 'T', 'T', 'ILC_ALL', 'ILC_ALL', 'T', 'T', 'ILC_ALL', 'T', 'T', 'T', 'T', 'T', 'ILC_ALL', 'T', 'ILC_ALL', 'T', 'T', 'T', 'T', 'T', 'T', 'T', 'ILC_ALL', 'T', 'ILC_ALL', 'ILC_ALL', 'T', 'T', 'T', 'T', 'T', 'ILC_ALL', 'T', 'T', 'T', 'ILC_ALL', 'T', 'T', 'T', 'T', 'T', 'T', 'ILC_ALL', 'T', 'ILC_ALL', 'T', 'T', 'T', 'ILC_ALL', 'T', 'T', 'T', 'ILC_ALL', 'T', 'T', 'ILC_ALL', 'T', 'T', 'T', 'T', 'T', 'ILC_ALL', 'T', 'T', 'T', 'ILC_ALL', 'ILC_ALL', 'T', 'T', 'T', 'ILC_ALL', 'T', 'T', 'ILC_ALL', 'ILC_ALL', 'T', 'T', 'T', 'T', 'T', 'ILC_ALL', 'T', 'ILC_ALL', 'T', 'T', 'T', 'T', 'T', 'T', 'T', 'ILC_ALL', 'T', 'T', 'T', 'T', 'T', 'ILC_ALL', 'T', 'T', 'T', 'T', 'ILC_ALL', 'ILC_ALL', 'T', 'ILC_ALL', 'T', 'T', 'T', 'T', 'T', 'T', 'T', 'T', 'ILC_ALL', 'T', 'ILC_ALL', 'T', 'ILC_ALL', 'ILC_ALL', 'T', 'T', 'T', 'T', 'T', 'ILC_ALL', 'ILC_ALL', 'T', 'T', 'T', 'T', 'T', 'ILC_ALL', 'ILC_ALL', 'T', 'T', 'T', 'T', 'T', 'T', 'ILC_ALL', 'T', 'T', 'T', 'T', 'ILC_ALL', 'T', 'ILC_ALL', 'T', 'T', 'ILC_ALL', 'T', 'T', 'T', 'T', 'ILC_ALL', 'ILC_ALL', 'T', 'T', 'T', 'ILC_ALL', 'T', 'T', 'T', 'T', 'T', 'T', 'T', 'ILC_ALL', 'T', 'ILC_ALL', 'T', 'T', 'T', 'T', 'ILC_ALL', 'T', 'T', 'ILC_ALL', 'T', 'T', 'T', 'T', 'T', 'T', 'T', 'T', 'ILC_ALL', 'ILC_ALL', 'ILC_ALL', 'T', 'T', 'ILC_ALL', 'T', 'T', 'T', 'T', 'T', 'T', 'T', 'T', 'T', 'ILC_ALL', 'T', 'T', 'ILC_ALL', 'T', 'T', 'ILC_ALL', 'ILC_ALL', 'ILC_ALL', 'T', 'T', 'T', 'T', 'T', 'ILC_ALL', 'T', 'T', 'ILC_ALL', 'ILC_ALL', 'T', 'T', 'T', 'T', 'T', 'T', 'T', 'ILC_ALL', 'ILC_ALL', 'T', 'ILC_ALL', 'T', 'T', 'T', 'T', 'T', 'T', 'ILC_ALL', 'T', 'T', 'T', 'T', 'T', 'T', 'T', 'T', 'ILC_ALL', 'T', 'T', 'T', 'ILC_ALL', 'T', 'T', 'T', 'T', 'T', 'T', 'T', 'T', 'ILC_ALL', 'T', 'T', 'T', 'T', 'T', 'T', 'ILC_ALL', 'T', 'T', 'T', 'ILC_ALL', 'T', 'T', 'ILC_ALL', 'T', 'T', 'T', 'T', 'T', 'T', 'T', 'T', 'T', 'T', 'T', 'T', 'T', 'T', 'T', 'T', 'T', 'ILC_ALL', 'T', 'T', 'T', 'T', 'ILC_ALL', 'T', 'T', 'T', 'T', 'ILC_ALL', 'T', 'ILC_ALL', 'T', 'ILC_ALL', 'T', 'T', 'T', 'T', 'T', 'T', 'T', 'T', 'ILC_ALL', 'T', 'ILC_ALL', 'T', 'T', 'T', 'T', 'T', 'T', 'T', 'ILC_ALL', 'T', 'T', 'T', 'ILC_ALL', 'T', 'T', 'T', 'T', 'T', 'T', 'T', 'T', 'T', 'T', 'ILC_ALL', 'T', 'T', 'T', 'T', 'T', 'T', 'T', 'ILC_ALL', 'T', 'T', 'ILC_ALL', 'T', 'T', 'T', 'T', 'T', 'ILC_ALL', 'T', 'T', 'T', 'ILC_ALL', 'T', 'T', 'T', 'T', 'T', 'T', 'T', 'ILC_ALL', 'T', 'T', 'ILC_ALL', 'ILC_ALL', 'T', 'T', 'T', 'ILC_ALL', 'ILC_ALL', 'ILC_ALL', 'T', 'T', 'T', 'T', 'T', 'T', 'T', 'T', 'ILC_ALL', 'T', 'T', 'T', 'T', 'T', 'ILC_ALL', 'T', 'ILC_ALL', 'T', 'T', 'T', 'T', 'T', 'T', 'ILC_ALL', 'T', 'ILC_ALL', 'ILC_ALL', 'T', 'ILC_ALL', 'ILC_ALL', 'T', 'ILC_ALL', 'T', 'T', 'T', 'T', 'T', 'T', 'ILC_ALL', 'ILC_ALL', 'T', 'T', 'ILC_ALL', 'T', 'T', 'T', 'T', 'T', 'T', 'T', 'T', 'T', 'T', 'T', 'ILC_ALL', 'T', 'T', 'T', 'T', 'T', 'T', 'T', 'T', 'T', 'T', 'T', 'T', 'T', 'T', 'ILC_ALL', 'T', 'T', 'T', 'T', 'ILC_ALL', 'ILC_ALL', 'T', 'ILC_ALL', 'ILC_ALL', 'T', 'ILC_ALL', 'T', 'T', 'T', 'T', 'T', 'T', 'ILC_ALL', 'T', 'T', 'T', 'T', 'T', 'ILC_ALL', 'T', 'T', 'T', 'T', 'ILC_ALL', 'T', 'ILC_ALL', 'T', 'T', 'T', 'T', 'T', 'T', 'T', 'ILC_ALL', 'ILC_ALL', 'T', 'T', 'ILC_ALL', 'ILC_ALL', 'ILC_ALL', 'T', 'T', 'T', 'T', 'T', 'T', 'T', 'T', 'T', 'ILC_ALL', 'T', 'ILC_ALL', 'T', 'ILC_ALL', 'ILC_ALL', 'T', 'ILC_ALL', 'T', 'T', 'T', 'T', 'T', 'T', 'ILC_ALL', 'T', 'T', 'T', 'T', 'ILC_ALL', 'T', 'T', 'T', 'T', 'T', 'T', 'T', 'T', 'T', 'T', 'T', 'ILC_ALL', 'T', 'ILC_ALL', 'T', 'ILC_ALL', 'T', 'ILC_ALL', 'T', 'T', 'ILC_ALL', 'ILC_ALL', 'T', 'ILC_ALL', 'T', 'T', 'T', 'ILC_ALL', 'T', 'T', 'T', 'T', 'ILC_ALL', 'ILC_ALL', 'T', 'T', 'T', 'ILC_ALL', 'ILC_ALL', 'T', 'T', 'T', 'T', 'T', 'ILC_ALL', 'T', 'T', 'T', 'T', 'T', 'T', 'T', 'T', 'T', 'ILC_ALL', 'T', 'T', 'T', 'T', 'ILC_ALL', 'T', 'T', 'ILC_ALL', 'T', 'T', 'T', 'T', 'T', 'T', 'T', 'T', 'T', 'ILC_ALL', 'ILC_ALL', 'T', 'T', 'ILC_ALL', 'T', 'T', 'T', 'ILC_ALL', 'T', 'T', 'T', 'T', 'T', 'ILC_ALL', 'T', 'ILC_ALL', 'T', 'T', 'ILC_ALL', 'T', 'T', 'ILC_ALL', 'ILC_ALL', 'T', 'T', 'ILC_ALL', 'T', 'T', 'ILC_ALL', 'T', 'ILC_ALL', 'ILC_ALL', 'T', 'T', 'T', 'T', 'T', 'T', 'ILC_ALL', 'T', 'T', 'T', 'ILC_ALL', 'ILC_ALL', 'T', 'T', 'T', 'T', 'ILC_ALL', 'ILC_ALL', 'T', 'ILC_ALL', 'ILC_ALL', 'T', 'T', 'ILC_ALL', 'T', 'T', 'T', 'T', 'T', 'T', 'T', 'T', 'T', 'ILC_ALL', 'ILC_ALL', 'ILC_ALL', 'T', 'ILC_ALL', 'T', 'T', 'T', 'T', 'T', 'T', 'T', 'ILC_ALL', 'T', 'ILC_ALL', 'T', 'T', 'ILC_ALL', 'T', 'T', 'T', 'ILC_ALL', 'T', 'T', 'T', 'ILC_ALL', 'T', 'T', 'T', 'T', 'T', 'T', 'T', 'ILC_ALL', 'T', 'ILC_ALL', 'T', 'T', 'T', 'T', 'T', 'ILC_ALL', 'T', 'T', 'T', 'T', 'ILC_ALL', 'T', 'T', 'ILC_ALL', 'T', 'T', 'T', 'T', 'T', 'ILC_ALL', 'T', 'ILC_ALL', 'T', 'T', 'T', 'T', 'ILC_ALL', 'T', 'T', 'ILC_ALL', 'T', 'T', 'T', 'T', 'T', 'T', 'T', 'T', 'T', 'T', 'T', 'T', 'ILC_ALL', 'T', 'T', 'ILC_ALL', 'T', 'T', 'T', 'ILC_ALL', 'ILC_ALL', 'T', 'ILC_ALL', 'T', 'T', 'T', 'T', 'ILC_ALL', 'ILC_ALL', 'T', 'ILC_ALL', 'ILC_ALL', 'ILC_ALL', 'T', 'T', 'ILC_ALL', 'T', 'T', 'T', 'ILC_ALL', 'T', 'T', 'T', 'ILC_ALL', 'ILC_ALL', 'ILC_ALL', 'T', 'T', 'T', 'ILC_ALL', 'T', 'T', 'T', 'T', 'ILC_ALL', 'T', 'ILC_ALL', 'T', 'T', 'T', 'ILC_ALL', 'T', 'ILC_ALL', 'ILC_ALL', 'ILC_ALL', 'T', 'T', 'ILC_ALL', 'ILC_ALL', 'ILC_ALL', 'T', 'ILC_ALL', 'T', 'T', 'T', 'T', 'T', 'ILC_ALL', 'T', 'ILC_ALL', 'T', 'T', 'ILC_ALL', 'T', 'T', 'T', 'ILC_ALL', 'T', 'T', 'ILC_ALL', 'T', 'T', 'T', 'T', 'ILC_ALL', 'T', 'T', 'ILC_ALL', 'T', 'T', 'T', 'T', 'T', 'T', 'ILC_ALL', 'T', 'T', 'T', 'T', 'T', 'T', 'ILC_ALL', 'T', 'T', 'ILC_ALL', 'ILC_ALL', 'T', 'T', 'ILC_ALL', 'T', 'ILC_ALL', 'T', 'T', 'T', 'ILC_ALL', 'ILC_ALL', 'T', 'T', 'T', 'T', 'T', 'ILC_ALL', 'T', 'T', 'T', 'T', 'ILC_ALL', 'T', 'T', 'T', 'T', 'ILC_ALL', 'ILC_ALL', 'ILC_ALL', 'ILC_ALL', 'T', 'T', 'T', 'ILC_ALL', 'T', 'T', 'ILC_ALL', 'T', 'T', 'T', 'T', 'T', 'T', 'T', 'ILC_ALL', 'T', 'T', 'T', 'T', 'T', 'T', 'T', 'ILC_ALL', 'ILC_ALL', 'T', 'ILC_ALL', 'T', 'T', 'ILC_ALL', 'T', 'ILC_ALL', 'ILC_ALL', 'T', 'T', 'T', 'T', 'T', 'ILC_ALL', 'ILC_ALL', 'T', 'T', 'ILC_ALL', 'T', 'T', 'T', 'T', 'T', 'T', 'T', 'ILC_ALL', 'ILC_ALL', 'ILC_ALL', 'T', 'ILC_ALL', 'T', 'T', 'T', 'T', 'T', 'ILC_ALL', 'T', 'ILC_ALL', 'T', 'T', 'ILC_ALL', 'T', 'T', 'ILC_ALL', 'T', 'T', 'T', 'ILC_ALL', 'ILC_ALL', 'T', 'T', 'ILC_ALL', 'ILC_ALL', 'T', 'T', 'ILC_ALL', 'T', 'T', 'T', 'T', 'T', 'T', 'T', 'T', 'ILC_ALL', 'ILC_ALL', 'T', 'T', 'T', 'ILC_ALL', 'ILC_ALL', 'T', 'T', 'T', 'T', 'T', 'ILC_ALL', 'ILC_ALL', 'T', 'T', 'ILC_ALL', 'ILC_ALL', 'ILC_ALL', 'ILC_ALL', 'ILC_ALL', 'T', 'ILC_ALL', 'T', 'T', 'T', 'T', 'ILC_ALL', 'T', 'T', 'ILC_ALL', 'ILC_ALL', 'ILC_ALL', 'ILC_ALL', 'T', 'T', 'T', 'ILC_ALL', 'T', 'T', 'ILC_ALL', 'T', 'T', 'T', 'ILC_ALL', 'T', 'ILC_ALL', 'T', 'ILC_ALL', 'T', 'T', 'ILC_ALL', 'T', 'T', 'T', 'T', 'T', 'T', 'T', 'T', 'ILC_ALL', 'T', 'T', 'T', 'T', 'T', 'T', 'T', 'ILC_ALL', 'T', 'T', 'T', 'T', 'T', 'T', 'T', 'ILC_ALL', 'T', 'T', 'T', 'ILC_ALL', 'ILC_ALL', 'T', 'T', 'T', 'T', 'T', 'T', 'T', 'T', 'T', 'T', 'T', 'ILC_ALL', 'ILC_ALL', 'T', 'T', 'T', 'T', 'T', 'T', 'T', 'T', 'T', 'T', 'ILC_ALL', 'T', 'T', 'ILC_ALL', 'T', 'ILC_ALL', 'ILC_ALL', 'T', 'ILC_ALL', 'ILC_ALL', 'T', 'T', 'T', 'T', 'T', 'ILC_ALL', 'ILC_ALL', 'T', 'T', 'T', 'T', 'T', 'T', 'T', 'T', 'T', 'T', 'T', 'ILC_ALL', 'ILC_ALL', 'T', 'T', 'T', 'T', 'ILC_ALL', 'T', 'T', 'T', 'ILC_ALL', 'T', 'ILC_ALL', 'ILC_ALL', 'ILC_ALL', 'T', 'T', 'T', 'T', 'T', 'T', 'T', 'ILC_ALL', 'T', 'T', 'ILC_ALL', 'ILC_ALL', 'ILC_ALL', 'ILC_ALL', 'T', 'T', 'T', 'T', 'ILC_ALL', 'T', 'T', 'T', 'ILC_ALL', 'ILC_ALL', 'T', 'T', 'T', 'T', 'T', 'ILC_ALL', 'T', 'ILC_ALL', 'T', 'ILC_ALL', 'T', 'ILC_ALL', 'T', 'ILC_ALL', 'ILC_ALL', 'T', 'ILC_ALL', 'T', 'T', 'ILC_ALL', 'T', 'T', 'ILC_ALL', 'T', 'T', 'T', 'T', 'T', 'ILC_ALL', 'T', 'T', 'T', 'T', 'T', 'T', 'ILC_ALL', 'ILC_ALL', 'T', 'T', 'T', 'T', 'ILC_ALL', 'T', 'T', 'T', 'T', 'ILC_ALL', 'ILC_ALL', 'T', 'T', 'T', 'T', 'ILC_ALL', 'T', 'T', 'T', 'ILC_ALL', 'T', 'T', 'T', 'ILC_ALL', 'T', 'T', 'ILC_ALL', 'T', 'T', 'ILC_ALL', 'ILC_ALL', 'T', 'T', 'ILC_ALL', 'T', 'T', 'T', 'T', 'T', 'T', 'ILC_ALL', 'T', 'T', 'T', 'T', 'ILC_ALL', 'ILC_ALL', 'T', 'ILC_ALL', 'ILC_ALL', 'ILC_ALL', 'T', 'ILC_ALL', 'ILC_ALL', 'T', 'T', 'T', 'T', 'T', 'T', 'T', 'T', 'T', 'T', 'T', 'T', 'ILC_ALL', 'ILC_ALL', 'T', 'ILC_ALL', 'T', 'T', 'T', 'T', 'T', 'T', 'T', 'ILC_ALL', 'T', 'T', 'ILC_ALL', 'T', 'ILC_ALL', 'T', 'ILC_ALL', 'T', 'T', 'ILC_ALL', 'T', 'T', 'T', 'T', 'T', 'ILC_ALL', 'T', 'ILC_ALL', 'T', 'T', 'T', 'T', 'T', 'T', 'T', 'T', 'T', 'T', 'ILC_ALL', 'T', 'T', 'T', 'T', 'ILC_ALL', 'T', 'ILC_ALL', 'T', 'T', 'T', 'ILC_ALL', 'ILC_ALL', 'T', 'T', 'T', 'T', 'T', 'T', 'T', 'T', 'ILC_ALL', 'ILC_ALL', 'T', 'T', 'T', 'T', 'T', 'ILC_ALL', 'T', 'T', 'T', 'T', 'T', 'T', 'T', 'T', 'T', 'ILC_ALL', 'T', 'T', 'T', 'T', 'T', 'ILC_ALL', 'T', 'T', 'T', 'ILC_ALL', 'T', 'T', 'ILC_ALL', 'T', 'T', 'T', 'T', 'T', 'T', 'ILC_ALL', 'ILC_ALL', 'T', 'T', 'ILC_ALL', 'T', 'T', 'T', 'T', 'ILC_ALL', 'T', 'T', 'T', 'T', 'T', 'ILC_ALL', 'ILC_ALL', 'T', 'T', 'T', 'ILC_ALL', 'T', 'ILC_ALL', 'T', 'T', 'T', 'T', 'ILC_ALL', 'T', 'T', 'T', 'ILC_ALL', 'T', 'T', 'ILC_ALL', 'ILC_ALL', 'T', 'T', 'T', 'T', 'T', 'T', 'ILC_ALL', 'ILC_ALL', 'ILC_ALL', 'ILC_ALL', 'T', 'ILC_ALL', 'T', 'T', 'T', 'ILC_ALL', 'T', 'ILC_ALL', 'ILC_ALL', 'T', 'T', 'ILC_ALL', 'T', 'ILC_ALL', 'ILC_ALL', 'T', 'T', 'ILC_ALL', 'ILC_ALL', 'T', 'ILC_ALL', 'T', 'T', 'ILC_ALL', 'ILC_ALL', 'ILC_ALL', 'T', 'T', 'T', 'T', 'ILC_ALL', 'T', 'T', 'ILC_ALL', 'ILC_ALL', 'ILC_ALL', 'ILC_ALL', 'T', 'T', 'T', 'T', 'T', 'T', 'ILC_ALL', 'T', 'T', 'T', 'T', 'T', 'T', 'T', 'T', 'T', 'T', 'T', 'T', 'ILC_ALL', 'T', 'T', 'ILC_ALL', 'T', 'ILC_ALL', 'T', 'T', 'T', 'T', 'ILC_ALL', 'T', 'T', 'T', 'T', 'T', 'T', 'T', 'T', 'T', 'ILC_ALL', 'T', 'ILC_ALL', 'T', 'T', 'T', 'T', 'T', 'T', 'ILC_ALL', 'T', 'ILC_ALL', 'T', 'T', 'T', 'ILC_ALL', 'T', 'ILC_ALL', 'ILC_ALL', 'T', 'ILC_ALL', 'T', 'T', 'T', 'T', 'T', 'T', 'T', 'ILC_ALL', 'T', 'T', 'T', 'T', 'T', 'T', 'T', 'T', 'T', 'T', 'ILC_ALL', 'ILC_ALL', 'T', 'T', 'T', 'T', 'T', 'ILC_ALL', 'T', 'T', 'T', 'T', 'T', 'T', 'T', 'ILC_ALL', 'T', 'ILC_ALL', 'ILC_ALL', 'T', 'T', 'T', 'ILC_ALL', 'ILC_ALL', 'T', 'T', 'ILC_ALL', 'T', 'T', 'T', 'ILC_ALL', 'ILC_ALL', 'ILC_ALL', 'ILC_ALL', 'T', 'T', 'T', 'T', 'ILC_ALL', 'T', 'T', 'T', 'T', 'T', 'ILC_ALL', 'T', 'T', 'T', 'ILC_ALL', 'T', 'T', 'T', 'T', 'ILC_ALL', 'T', 'T', 'T', 'ILC_ALL', 'ILC_ALL', 'T', 'T', 'T', 'ILC_ALL', 'T', 'T', 'T', 'T', 'T', 'T', 'T', 'T', 'ILC_ALL', 'T', 'T', 'T', 'T', 'T', 'T', 'T', 'T', 'T', 'T', 'T', 'T', 'T', 'ILC_ALL', 'T', 'T', 'T', 'T', 'T', 'T', 'T', 'T', 'ILC_ALL', 'ILC_ALL', 'T', 'ILC_ALL', 'T', 'T', 'T', 'ILC_ALL', 'T', 'T', 'ILC_ALL', 'T', 'T', 'T', 'T', 'T', 'T', 'T', 'T', 'T', 'T', 'T', 'ILC_ALL', 'T', 'T', 'ILC_ALL', 'ILC_ALL', 'T', 'ILC_ALL', 'T', 'T', 'T', 'ILC_ALL', 'T', 'ILC_ALL', 'T', 'ILC_ALL', 'T', 'T', 'T', 'T', 'T', 'T', 'T', 'ILC_ALL', 'ILC_ALL', 'ILC_ALL', 'T', 'ILC_ALL', 'ILC_ALL', 'ILC_ALL', 'T', 'ILC_ALL', 'T', 'ILC_ALL', 'T', 'ILC_ALL', 'T', 'T', 'T', 'T', 'T', 'T', 'T', 'ILC_ALL', 'T', 'T', 'T', 'T', 'ILC_ALL', 'ILC_ALL', 'ILC_ALL', 'ILC_ALL', 'T', 'T', 'T', 'T', 'T', 'T', 'T', 'T', 'T', 'T', 'ILC_ALL', 'T', 'ILC_ALL', 'ILC_ALL', 'T', 'T', 'T', 'ILC_ALL', 'T', 'T', 'T', 'ILC_ALL', 'T', 'T', 'ILC_ALL', 'T', 'T', 'T', 'ILC_ALL', 'ILC_ALL', 'T', 'ILC_ALL', 'T', 'T', 'ILC_ALL', 'T', 'T', 'ILC_ALL', 'ILC_ALL', 'T', 'T', 'T', 'T', 'ILC_ALL', 'T', 'T', 'T', 'ILC_ALL', 'T', 'T', 'T', 'T', 'T', 'T', 'T', 'T', 'ILC_ALL', 'T', 'ILC_ALL', 'T', 'ILC_ALL', 'T', 'T', 'T', 'T', 'T', 'T', 'T', 'ILC_ALL', 'T', 'T', 'ILC_ALL', 'T', 'T', 'T', 'T', 'T', 'ILC_ALL', 'T', 'ILC_ALL', 'ILC_ALL', 'T', 'T', 'ILC_ALL', 'T', 'T', 'ILC_ALL', 'ILC_ALL', 'T', 'T', 'ILC_ALL', 'T', 'T', 'T', 'T', 'T', 'ILC_ALL', 'T', 'T', 'T', 'T', 'ILC_ALL', 'T', 'T', 'T', 'T', 'T', 'ILC_ALL', 'T', 'T', 'T', 'T', 'T', 'T', 'ILC_ALL', 'ILC_ALL', 'T', 'T', 'ILC_ALL', 'ILC_ALL', 'T', 'ILC_ALL', 'T', 'T', 'T', 'ILC_ALL', 'ILC_ALL', 'ILC_ALL', 'T', 'T', 'T', 'T', 'T', 'T', 'T', 'T', 'T', 'ILC_ALL', 'ILC_ALL', 'ILC_ALL', 'ILC_ALL', 'T', 'T', 'ILC_ALL', 'T', 'T', 'T', 'T', 'T', 'ILC_ALL', 'T', 'ILC_ALL', 'T', 'T', 'ILC_ALL', 'T', 'ILC_ALL', 'ILC_ALL', 'ILC_ALL', 'T', 'T', 'T', 'ILC_ALL', 'ILC_ALL', 'ILC_ALL', 'ILC_ALL', 'ILC_ALL', 'ILC_ALL', 'T', 'T', 'T', 'ILC_ALL', 'T', 'T', 'T', 'T', 'T', 'T', 'ILC_ALL', 'T', 'T', 'T', 'T', 'T', 'T', 'T', 'T', 'ILC_ALL', 'T', 'T', 'T', 'T', 'T', 'T', 'T', 'T', 'T', 'T', 'T', 'T', 'ILC_ALL', 'T', 'T', 'T', 'ILC_ALL', 'ILC_ALL', 'T', 'T', 'ILC_ALL', 'ILC_ALL', 'ILC_ALL', 'T', 'T', 'ILC_ALL', 'T', 'T', 'T', 'T', 'ILC_ALL', 'ILC_ALL', 'T', 'ILC_ALL', 'ILC_ALL', 'ILC_ALL', 'T', 'ILC_ALL', 'ILC_ALL', 'T', 'T', 'T', 'T', 'T', 'T', 'T', 'T', 'T', 'T', 'T', 'T', 'T', 'T', 'T', 'T', 'T', 'T', 'ILC_ALL', 'T', 'T', 'T', 'ILC_ALL', 'ILC_ALL', 'T', 'ILC_ALL', 'ILC_ALL', 'T', 'T', 'T', 'T', 'T', 'T', 'T', 'T', 'ILC_ALL', 'T', 'ILC_ALL', 'ILC_ALL', 'ILC_ALL', 'ILC_ALL', 'T', 'T', 'T', 'T', 'T', 'T', 'T', 'T', 'T', 'T', 'T', 'ILC_ALL', 'T', 'T', 'T', 'T', 'T', 'T', 'ILC_ALL', 'ILC_ALL', 'T', 'T', 'T', 'T', 'ILC_ALL', 'ILC_ALL', 'T', 'T', 'ILC_ALL', 'ILC_ALL', 'T', 'T', 'T', 'T', 'T', 'T', 'T', 'T', 'T', 'ILC_ALL', 'T', 'T', 'T', 'ILC_ALL', 'T', 'ILC_ALL', 'ILC_ALL', 'ILC_ALL', 'T', 'ILC_ALL', 'T', 'T', 'T', 'T', 'T', 'T', 'ILC_ALL', 'T', 'T', 'ILC_ALL', 'T', 'T', 'T', 'ILC_ALL', 'ILC_ALL', 'T', 'ILC_ALL', 'T', 'T', 'T', 'ILC_ALL', 'T', 'T', 'T', 'T', 'T', 'ILC_ALL', 'ILC_ALL', 'T', 'T', 'T', 'ILC_ALL', 'ILC_ALL', 'T', 'T', 'ILC_ALL', 'T', 'ILC_ALL', 'ILC_ALL', 'T', 'T', 'T', 'T', 'T', 'ILC_ALL', 'ILC_ALL', 'ILC_ALL', 'T', 'T', 'ILC_ALL', 'T', 'ILC_ALL', 'T', 'T', 'T', 'T', 'T', 'T', 'ILC_ALL', 'T', 'T', 'T', 'T', 'T', 'T', 'ILC_ALL', 'ILC_ALL', 'T', 'T', 'T', 'T', 'T', 'T', 'T', 'T', 'ILC_ALL', 'ILC_ALL', 'T', 'ILC_ALL', 'T', 'ILC_ALL', 'ILC_ALL', 'T', 'T', 'T', 'T', 'T', 'T', 'ILC_ALL', 'ILC_ALL', 'T', 'ILC_ALL', 'T', 'T', 'T', 'T', 'ILC_ALL', 'ILC_ALL', 'ILC_ALL', 'ILC_ALL', 'T', 'T', 'T', 'T', 'T', 'T', 'ILC_ALL', 'T', 'T', 'ILC_ALL', 'ILC_ALL', 'T', 'T', 'T', 'T', 'T', 'ILC_ALL', 'T', 'T', 'T', 'ILC_ALL', 'ILC_ALL', 'T', 'T', 'ILC_ALL', 'T', 'T', 'T', 'T', 'ILC_ALL', 'T', 'T', 'ILC_ALL', 'ILC_ALL', 'T', 'T', 'T', 'T', 'T', 'T', 'T', 'ILC_ALL', 'T', 'T', 'T', 'T', 'T', 'T', 'T', 'T', 'ILC_ALL', 'T', 'ILC_ALL', 'ILC_ALL', 'T', 'T', 'T', 'T', 'T', 'ILC_ALL', 'ILC_ALL', 'ILC_ALL', 'T', 'T', 'T', 'T', 'T', 'T', 'T', 'T', 'T', 'T', 'T', 'T', 'T', 'T', 'T', 'ILC_ALL', 'T', 'T', 'ILC_ALL', 'T', 'T', 'T', 'T', 'T', 'T', 'ILC_ALL', 'T', 'T', 'T', 'T', 'T', 'T', 'T', 'T', 'T', 'T', 'ILC_ALL', 'T', 'T', 'ILC_ALL', 'T', 'ILC_ALL', 'T', 'T', 'T', 'T', 'T', 'ILC_ALL', 'T', 'T', 'T', 'ILC_ALL', 'T', 'T', 'T', 'T', 'ILC_ALL', 'T', 'ILC_ALL', 'ILC_ALL', 'T', 'ILC_ALL', 'T', 'T', 'T', 'T', 'ILC_ALL', 'T', 'T', 'ILC_ALL', 'T', 'T', 'T', 'T', 'T', 'T', 'T', 'T', 'T', 'T', 'T', 'T', 'ILC_ALL', 'T', 'T', 'T', 'T', 'T', 'T', 'T', 'T', 'T', 'ILC_ALL', 'T', 'T', 'T', 'T', 'T', 'T', 'T', 'T', 'ILC_ALL', 'T', 'ILC_ALL', 'T', 'T', 'T', 'T', 'ILC_ALL', 'T', 'T', 'T', 'T', 'ILC_ALL', 'T', 'ILC_ALL', 'T', 'T', 'ILC_ALL', 'ILC_ALL', 'T', 'ILC_ALL', 'T', 'ILC_ALL', 'T', 'T', 'T', 'T', 'T', 'ILC_ALL', 'T', 'T', 'T', 'T', 'ILC_ALL', 'T', 'ILC_ALL', 'T', 'T', 'ILC_ALL', 'ILC_ALL', 'T', 'T', 'T', 'ILC_ALL', 'ILC_ALL', 'T', 'T', 'T', 'T', 'T', 'ILC_ALL', 'T', 'T', 'T', 'T', 'ILC_ALL', 'T', 'T', 'ILC_ALL', 'T', 'T', 'T', 'ILC_ALL', 'T', 'T', 'T', 'T', 'ILC_ALL', 'T', 'T', 'T', 'T', 'ILC_ALL', 'T', 'T', 'ILC_ALL', 'T', 'T', 'ILC_ALL', 'ILC_ALL', 'T', 'T', 'T', 'T', 'T', 'T', 'T', 'T', 'T', 'T', 'ILC_ALL', 'ILC_ALL', 'T', 'ILC_ALL', 'T', 'ILC_ALL', 'T', 'T', 'T', 'T', 'ILC_ALL', 'T', 'T', 'T', 'T', 'ILC_ALL', 'T', 'T', 'T', 'T', 'T', 'ILC_ALL', 'ILC_ALL', 'ILC_ALL', 'ILC_ALL', 'T', 'T', 'ILC_ALL', 'T', 'T', 'T', 'T', 'T', 'T', 'T', 'ILC_ALL', 'T', 'ILC_ALL', 'ILC_ALL', 'T', 'T', 'T', 'T', 'ILC_ALL', 'T', 'T', 'ILC_ALL', 'ILC_ALL', 'ILC_ALL', 'T', 'T', 'T', 'T', 'T', 'T', 'T', 'T', 'T', 'T', 'T', 'T', 'ILC_ALL', 'ILC_ALL', 'T', 'T', 'ILC_ALL', 'T', 'T', 'T', 'T', 'ILC_ALL', 'T', 'T', 'T', 'ILC_ALL', 'T', 'T', 'T', 'T', 'T', 'T', 'T', 'ILC_ALL', 'ILC_ALL', 'ILC_ALL', 'ILC_ALL', 'T', 'ILC_ALL', 'T', 'T', 'ILC_ALL', 'T', 'T', 'T', 'ILC_ALL', 'ILC_ALL', 'T', 'T', 'T', 'T', 'T', 'T', 'T', 'T', 'T', 'T', 'T', 'T', 'T', 'T', 'T', 'T', 'ILC_ALL', 'T', 'ILC_ALL', 'T', 'T', 'T', 'T', 'T', 'ILC_ALL', 'ILC_ALL', 'ILC_ALL', 'T', 'T', 'ILC_ALL', 'T', 'ILC_ALL', 'ILC_ALL', 'ILC_ALL', 'T', 'T', 'T', 'ILC_ALL', 'T', 'T', 'T', 'T', 'T', 'T', 'ILC_ALL', 'ILC_ALL', 'T', 'ILC_ALL', 'T', 'ILC_ALL', 'T', 'T', 'T', 'T', 'T', 'ILC_ALL', 'ILC_ALL', 'T', 'T', 'ILC_ALL', 'T', 'T', 'T', 'T', 'ILC_ALL', 'T', 'ILC_ALL', 'ILC_ALL', 'ILC_ALL', 'T', 'T', 'T', 'T', 'ILC_ALL', 'T', 'T', 'T', 'ILC_ALL', 'T', 'T', 'T', 'ILC_ALL', 'ILC_ALL', 'T', 'T', 'T', 'ILC_ALL', 'T', 'T', 'T', 'T', 'T', 'ILC_ALL', 'T', 'T', 'ILC_ALL', 'ILC_ALL', 'ILC_ALL', 'T', 'T', 'ILC_ALL', 'ILC_ALL', 'T', 'ILC_ALL', 'T', 'T', 'T', 'T', 'T', 'T', 'T', 'T', 'ILC_ALL', 'ILC_ALL', 'ILC_ALL', 'T', 'ILC_ALL', 'ILC_ALL', 'ILC_ALL', 'T', 'ILC_ALL', 'ILC_ALL', 'T', 'T', 'T', 'T', 'T', 'T', 'ILC_ALL', 'ILC_ALL', 'T', 'T', 'T', 'ILC_ALL', 'T', 'T', 'T', 'ILC_ALL', 'T', 'ILC_ALL', 'T', 'ILC_ALL', 'T', 'ILC_ALL', 'T', 'T', 'T', 'ILC_ALL', 'T', 'ILC_ALL', 'T', 'T', 'T', 'ILC_ALL', 'T', 'T', 'T', 'ILC_ALL', 'T', 'T', 'T', 'T', 'ILC_ALL', 'T', 'ILC_ALL', 'ILC_ALL', 'T', 'ILC_ALL', 'ILC_ALL', 'T', 'T', 'ILC_ALL', 'T', 'T', 'T', 'T', 'T', 'T', 'T', 'T', 'T', 'T', 'T', 'T', 'ILC_ALL', 'ILC_ALL', 'T', 'T', 'T', 'T', 'T', 'ILC_ALL', 'T', 'ILC_ALL', 'T', 'T', 'T', 'T', 'T', 'T', 'ILC_ALL', 'ILC_ALL', 'T', 'T', 'T', 'T', 'T', 'ILC_ALL', 'T', 'T', 'T', 'T', 'T', 'T', 'T', 'T', 'ILC_ALL', 'ILC_ALL', 'ILC_ALL', 'T', 'ILC_ALL', 'ILC_ALL', 'T', 'ILC_ALL', 'T', 'ILC_ALL', 'ILC_ALL', 'T', 'ILC_ALL', 'ILC_ALL', 'ILC_ALL', 'T', 'T', 'T', 'T', 'T', 'T', 'T', 'ILC_ALL', 'T', 'ILC_ALL', 'T', 'T', 'ILC_ALL', 'T', 'ILC_ALL', 'T', 'T', 'T', 'ILC_ALL', 'ILC_ALL', 'T', 'T', 'ILC_ALL', 'T', 'ILC_ALL', 'T', 'ILC_ALL', 'ILC_ALL', 'ILC_ALL', 'ILC_ALL', 'T', 'T', 'T', 'ILC_ALL', 'T', 'T', 'T', 'T', 'T', 'ILC_ALL', 'T', 'ILC_ALL', 'ILC_ALL', 'T', 'T', 'T', 'T', 'T', 'T', 'T', 'T', 'T', 'ILC_ALL', 'T', 'ILC_ALL', 'T', 'ILC_ALL', 'T', 'ILC_ALL', 'T', 'T', 'T', 'ILC_ALL', 'T', 'ILC_ALL', 'T', 'ILC_ALL', 'ILC_ALL', 'ILC_ALL', 'ILC_ALL', 'T', 'ILC_ALL', 'ILC_ALL', 'T', 'T', 'T', 'ILC_ALL', 'ILC_ALL', 'ILC_ALL', 'T', 'T', 'T', 'ILC_ALL', 'T', 'T', 'ILC_ALL', 'T', 'T', 'T', 'T', 'T', 'ILC_ALL', 'T', 'T', 'T', 'T', 'T', 'T', 'T', 'T', 'T', 'T', 'T', 'ILC_ALL', 'T', 'ILC_ALL', 'T', 'T', 'ILC_ALL', 'ILC_ALL', 'ILC_ALL', 'T', 'T', 'ILC_ALL', 'ILC_ALL', 'ILC_ALL', 'T', 'T', 'ILC_ALL', 'T', 'T', 'T', 'T', 'ILC_ALL', 'T', 'T', 'T', 'T', 'ILC_ALL', 'T', 'T', 'T', 'T', 'T', 'ILC_ALL', 'T', 'T', 'ILC_ALL', 'ILC_ALL', 'ILC_ALL', 'T', 'T', 'T', 'ILC_ALL', 'T', 'T', 'T', 'T', 'T', 'T', 'ILC_ALL', 'T', 'ILC_ALL', 'T', 'ILC_ALL', 'T', 'T', 'T', 'ILC_ALL', 'T', 'ILC_ALL', 'ILC_ALL', 'ILC_ALL', 'T', 'T', 'T', 'T', 'ILC_ALL', 'T', 'T', 'T', 'ILC_ALL', 'T', 'T', 'T', 'T', 'T', 'ILC_ALL', 'T', 'T', 'T', 'T', 'T', 'T', 'ILC_ALL', 'T', 'T', 'T', 'T', 'T', 'ILC_ALL', 'T', 'T', 'T', 'T', 'ILC_ALL', 'T', 'T', 'T', 'T', 'T', 'ILC_ALL', 'T', 'ILC_ALL', 'T', 'T', 'T', 'T', 'T', 'T', 'ILC_ALL', 'T', 'T', 'T', 'T', 'T', 'T', 'T', 'T', 'T', 'ILC_ALL', 'T', 'ILC_ALL', 'T', 'ILC_ALL', 'T', 'T', 'T', 'T', 'T', 'T', 'T', 'ILC_ALL', 'ILC_ALL', 'T', 'T', 'T', 'ILC_ALL', 'T', 'T', 'T', 'T', 'ILC_ALL', 'T', 'ILC_ALL', 'ILC_ALL', 'T', 'ILC_ALL', 'T', 'ILC_ALL', 'T', 'T', 'ILC_ALL', 'T', 'ILC_ALL', 'ILC_ALL', 'T', 'T', 'ILC_ALL', 'T', 'T', 'ILC_ALL', 'T', 'ILC_ALL', 'T', 'T', 'T', 'T', 'ILC_ALL', 'T', 'T', 'T', 'ILC_ALL', 'ILC_ALL', 'T', 'T', 'T', 'T', 'ILC_ALL', 'T', 'ILC_ALL', 'T', 'T', 'ILC_ALL', 'T', 'T', 'ILC_ALL', 'T', 'ILC_ALL', 'T', 'T', 'T', 'T', 'T', 'T', 'T', 'ILC_ALL', 'T', 'T', 'T', 'T', 'T', 'ILC_ALL', 'T', 'T', 'T', 'T', 'T', 'T', 'ILC_ALL', 'T', 'ILC_ALL', 'ILC_ALL', 'ILC_ALL', 'T', 'ILC_ALL', 'T', 'T', 'T', 'T', 'T', 'T', 'ILC_ALL', 'T', 'T', 'T', 'T', 'T', 'ILC_ALL', 'T', 'T', 'ILC_ALL', 'T', 'ILC_ALL', 'T', 'T', 'T', 'ILC_ALL', 'ILC_ALL', 'T', 'T', 'T', 'T', 'T', 'T', 'ILC_ALL', 'T', 'T', 'T', 'T', 'T', 'ILC_ALL', 'T', 'ILC_ALL', 'T', 'ILC_ALL', 'ILC_ALL', 'T', 'T', 'T', 'ILC_ALL', 'T', 'T', 'ILC_ALL', 'T', 'T', 'T', 'T', 'T', 'T', 'T', 'T', 'T', 'ILC_ALL', 'T', 'ILC_ALL', 'ILC_ALL', 'ILC_ALL', 'T', 'T', 'T', 'ILC_ALL', 'T', 'T', 'T', 'T', 'T', 'ILC_ALL', 'T', 'T', 'T', 'ILC_ALL', 'T', 'T', 'T', 'ILC_ALL', 'T', 'T', 'T', 'ILC_ALL', 'T', 'ILC_ALL', 'T', 'T', 'T', 'T', 'T', 'T', 'T', 'ILC_ALL', 'T', 'ILC_ALL', 'T', 'T', 'T', 'T', 'ILC_ALL', 'ILC_ALL', 'T', 'ILC_ALL', 'ILC_ALL', 'T', 'T', 'T', 'T', 'ILC_ALL', 'T', 'T', 'T', 'ILC_ALL', 'T', 'T', 'T', 'T', 'ILC_ALL', 'ILC_ALL', 'T', 'T', 'T', 'T', 'T', 'T', 'ILC_ALL', 'T', 'T', 'T', 'T', 'T', 'T', 'T', 'T', 'ILC_ALL', 'ILC_ALL', 'T', 'T', 'T', 'T', 'ILC_ALL', 'T', 'T', 'T', 'T', 'T', 'ILC_ALL', 'ILC_ALL', 'T', 'T', 'T', 'ILC_ALL', 'ILC_ALL', 'T', 'ILC_ALL', 'T', 'ILC_ALL', 'ILC_ALL', 'T', 'T', 'ILC_ALL', 'T', 'T', 'T', 'T', 'T', 'ILC_ALL', 'T', 'ILC_ALL', 'T', 'T', 'T', 'T', 'T', 'ILC_ALL', 'ILC_ALL', 'T', 'T', 'ILC_ALL', 'ILC_ALL', 'ILC_ALL', 'T', 'ILC_ALL', 'T', 'T', 'ILC_ALL', 'T', 'ILC_ALL', 'T', 'T', 'ILC_ALL', 'T', 'ILC_ALL', 'T', 'T', 'T', 'T', 'T', 'T', 'ILC_ALL', 'T', 'T', 'T', 'T', 'T', 'ILC_ALL', 'T', 'T', 'T', 'T', 'T', 'ILC_ALL', 'T', 'T', 'ILC_ALL', 'T', 'ILC_ALL', 'ILC_ALL', 'T', 'T', 'T', 'T', 'T', 'T', 'ILC_ALL', 'T', 'ILC_ALL', 'T', 'ILC_ALL', 'T', 'T', 'T', 'ILC_ALL', 'T', 'T', 'ILC_ALL', 'T', 'T', 'T', 'ILC_ALL', 'T', 'T', 'T', 'T', 'ILC_ALL', 'T', 'ILC_ALL', 'T', 'T', 'T', 'T', 'ILC_ALL', 'T', 'ILC_ALL', 'T', 'ILC_ALL', 'T', 'T', 'ILC_ALL', 'ILC_ALL', 'T', 'ILC_ALL', 'T', 'T', 'T', 'T', 'ILC_ALL', 'T', 'T', 'ILC_ALL', 'T', 'T', 'T', 'T', 'T', 'T', 'T', 'ILC_ALL', 'ILC_ALL', 'T', 'T', 'ILC_ALL', 'T', 'T', 'T', 'T', 'T', 'T', 'T', 'T', 'T', 'T', 'T', 'T', 'T', 'T', 'T', 'T', 'T', 'T', 'T', 'ILC_ALL', 'T', 'T', 'T', 'T', 'T', 'T', 'ILC_ALL', 'T', 'T', 'T', 'ILC_ALL', 'T', 'T', 'T', 'T', 'ILC_ALL', 'T', 'T', 'T', 'T', 'ILC_ALL', 'T', 'T', 'T', 'ILC_ALL', 'ILC_ALL', 'T', 'T', 'T', 'ILC_ALL', 'T', 'T', 'T', 'T', 'ILC_ALL', 'T', 'T', 'ILC_ALL', 'T', 'ILC_ALL', 'ILC_ALL', 'T', 'T', 'T', 'T', 'T', 'ILC_ALL', 'ILC_ALL', 'ILC_ALL', 'T', 'ILC_ALL', 'ILC_ALL', 'ILC_ALL', 'ILC_ALL', 'T', 'T', 'T', 'T', 'T', 'ILC_ALL', 'T', 'T', 'T', 'T', 'T', 'ILC_ALL', 'T', 'T', 'T', 'T', 'T', 'ILC_ALL', 'ILC_ALL', 'T', 'T', 'T', 'ILC_ALL', 'T', 'T', 'T', 'T', 'ILC_ALL', 'T', 'T', 'ILC_ALL', 'ILC_ALL', 'T', 'T', 'ILC_ALL', 'T', 'T', 'T', 'T', 'T', 'ILC_ALL', 'T', 'T', 'T', 'ILC_ALL', 'ILC_ALL', 'T', 'T', 'T', 'T', 'ILC_ALL', 'T', 'T', 'ILC_ALL', 'T', 'T', 'T', 'T', 'ILC_ALL', 'T', 'T', 'T', 'T', 'T', 'T', 'T', 'T', 'ILC_ALL', 'ILC_ALL', 'T', 'T', 'T', 'T', 'ILC_ALL', 'T', 'T', 'T', 'ILC_ALL', 'T', 'T', 'ILC_ALL', 'ILC_ALL', 'T', 'T', 'ILC_ALL', 'T', 'T', 'T', 'ILC_ALL', 'T', 'ILC_ALL', 'ILC_ALL', 'T', 'T', 'T', 'T', 'T', 'T', 'T', 'T', 'ILC_ALL', 'T', 'T', 'ILC_ALL', 'T', 'ILC_ALL', 'T', 'T', 'T', 'ILC_ALL', 'T', 'T', 'T', 'T', 'T', 'ILC_ALL', 'T', 'ILC_ALL', 'ILC_ALL', 'ILC_ALL', 'T', 'T', 'ILC_ALL', 'T', 'ILC_ALL', 'ILC_ALL', 'T', 'T', 'T', 'T', 'T', 'ILC_ALL', 'ILC_ALL', 'T', 'T', 'T', 'T', 'ILC_ALL', 'T', 'T', 'ILC_ALL', 'T', 'T', 'T', 'T', 'ILC_ALL', 'T', 'ILC_ALL', 'ILC_ALL', 'ILC_ALL', 'ILC_ALL', 'T', 'T', 'T', 'T', 'T', 'T', 'T', 'T', 'T', 'T', 'T', 'ILC_ALL', 'ILC_ALL', 'T', 'ILC_ALL', 'ILC_ALL', 'T', 'ILC_ALL', 'T', 'ILC_ALL', 'ILC_ALL', 'T', 'T', 'T', 'T', 'ILC_ALL', 'T', 'ILC_ALL', 'ILC_ALL', 'ILC_ALL', 'ILC_ALL', 'T', 'ILC_ALL', 'T', 'T', 'T', 'ILC_ALL', 'T', 'T', 'ILC_ALL', 'T', 'T', 'T', 'T', 'T', 'T', 'T', 'T', 'ILC_ALL', 'T', 'ILC_ALL', 'T', 'ILC_ALL', 'T', 'ILC_ALL', 'T', 'ILC_ALL', 'T', 'T', 'T', 'ILC_ALL', 'ILC_ALL', 'T', 'ILC_ALL', 'ILC_ALL', 'T', 'ILC_ALL', 'T', 'T', 'ILC_ALL', 'T', 'ILC_ALL', 'T', 'ILC_ALL', 'T', 'T', 'T', 'ILC_ALL', 'T', 'T', 'T', 'T', 'T', 'ILC_ALL', 'ILC_ALL', 'T', 'ILC_ALL', 'ILC_ALL', 'T', 'T', 'T', 'T', 'T', 'T', 'T', 'T', 'ILC_ALL', 'T', 'T', 'T', 'T', 'T', 'T', 'ILC_ALL', 'T', 'T', 'ILC_ALL', 'ILC_ALL', 'ILC_ALL', 'T', 'ILC_ALL', 'ILC_ALL', 'T', 'T', 'T', 'T', 'ILC_ALL', 'T', 'T', 'T', 'T', 'T', 'T', 'T', 'T', 'T', 'T', 'T', 'T', 'T', 'T', 'ILC_ALL', 'T', 'ILC_ALL', 'T', 'T', 'T', 'T', 'T', 'T', 'T', 'T', 'T', 'ILC_ALL', 'T', 'T', 'T', 'T', 'T', 'T', 'T', 'T', 'T', 'T', 'T', 'T', 'T', 'T', 'T', 'T', 'ILC_ALL', 'ILC_ALL', 'ILC_ALL', 'T', 'T', 'ILC_ALL', 'T', 'T', 'T', 'T', 'ILC_ALL', 'T', 'T', 'T', 'ILC_ALL', 'ILC_ALL', 'ILC_ALL', 'T', 'T', 'T', 'T', 'T', 'T', 'T', 'T', 'T', 'T', 'T', 'T', 'T', 'T', 'T', 'T', 'ILC_ALL', 'ILC_ALL', 'T', 'T', 'T', 'ILC_ALL', 'ILC_ALL', 'T', 'T', 'T', 'ILC_ALL', 'T', 'ILC_ALL', 'T', 'T', 'ILC_ALL', 'T', 'ILC_ALL', 'T', 'T', 'T', 'T', 'T', 'ILC_ALL', 'ILC_ALL', 'T', 'T', 'T', 'T', 'ILC_ALL', 'T', 'T', 'ILC_ALL', 'ILC_ALL', 'T', 'T', 'ILC_ALL', 'T', 'T', 'T', 'T', 'T', 'T', 'ILC_ALL', 'T', 'T', 'T', 'T', 'T', 'T', 'T', 'T', 'ILC_ALL', 'ILC_ALL', 'T', 'T', 'T', 'ILC_ALL', 'T', 'T', 'T', 'T', 'T', 'T', 'T', 'T', 'T', 'T', 'ILC_ALL', 'ILC_ALL', 'T', 'T', 'T', 'ILC_ALL', 'T', 'ILC_ALL', 'T', 'T', 'T', 'T', 'T', 'T', 'T', 'T', 'T', 'T', 'T', 'ILC_ALL', 'T', 'ILC_ALL', 'T', 'ILC_ALL', 'T', 'T', 'T', 'ILC_ALL', 'T', 'T', 'T', 'T', 'T', 'T', 'ILC_ALL', 'T', 'T', 'T', 'T', 'T', 'T', 'T', 'T', 'T', 'T', 'T', 'T', 'T', 'T', 'T', 'T', 'T', 'T', 'ILC_ALL', 'ILC_ALL', 'T', 'T', 'ILC_ALL', 'ILC_ALL', 'T', 'ILC_ALL', 'T', 'T', 'T', 'T', 'T', 'ILC_ALL', 'T', 'T', 'T', 'ILC_ALL', 'ILC_ALL', 'T', 'T', 'T', 'ILC_ALL', 'T', 'ILC_ALL', 'T', 'T', 'T', 'T', 'T', 'T', 'T', 'ILC_ALL', 'ILC_ALL', 'T', 'T', 'T', 'T', 'T', 'T', 'T', 'T', 'T', 'T', 'T', 'ILC_ALL', 'T', 'T', 'T', 'ILC_ALL', 'ILC_ALL', 'ILC_ALL', 'ILC_ALL', 'T', 'T', 'ILC_ALL', 'T', 'T', 'ILC_ALL', 'ILC_ALL', 'T', 'ILC_ALL', 'T', 'T', 'ILC_ALL', 'T', 'T', 'T', 'ILC_ALL', 'T', 'T', 'T', 'T', 'ILC_ALL', 'T', 'T', 'T', 'ILC_ALL', 'T', 'ILC_ALL', 'T', 'T', 'ILC_ALL', 'T', 'T', 'T', 'T', 'T', 'T', 'T', 'T', 'ILC_ALL', 'T', 'T', 'T', 'T', 'T', 'T', 'T', 'T', 'ILC_ALL', 'ILC_ALL', 'ILC_ALL', 'ILC_ALL', 'T', 'T', 'T', 'T', 'ILC_ALL', 'ILC_ALL', 'T', 'ILC_ALL', 'ILC_ALL', 'ILC_ALL', 'T', 'ILC_ALL', 'T', 'T', 'T', 'ILC_ALL', 'T', 'T', 'ILC_ALL', 'T', 'ILC_ALL', 'T', 'T', 'ILC_ALL', 'T', 'T', 'T', 'T', 'T', 'ILC_ALL', 'T', 'T', 'ILC_ALL', 'ILC_ALL', 'T', 'ILC_ALL', 'T', 'T', 'T', 'T', 'ILC_ALL', 'T', 'T', 'T', 'ILC_ALL', 'ILC_ALL', 'ILC_ALL', 'T', 'ILC_ALL', 'T', 'T', 'T', 'T', 'T', 'ILC_ALL', 'T', 'T', 'T', 'T', 'T', 'T', 'T', 'T', 'ILC_ALL', 'ILC_ALL', 'T', 'T', 'T', 'T', 'T', 'T', 'T', 'ILC_ALL', 'T', 'ILC_ALL', 'ILC_ALL', 'T', 'T', 'T', 'T', 'T', 'T', 'T', 'T', 'ILC_ALL', 'T', 'ILC_ALL', 'T', 'ILC_ALL', 'T', 'ILC_ALL', 'ILC_ALL', 'T', 'T', 'T', 'T', 'T', 'ILC_ALL', 'ILC_ALL', 'ILC_ALL', 'T', 'T', 'T', 'T', 'ILC_ALL', 'T', 'ILC_ALL', 'ILC_ALL', 'ILC_ALL', 'ILC_ALL', 'T', 'ILC_ALL', 'T', 'T', 'T', 'T', 'T', 'T', 'T', 'T', 'ILC_ALL', 'ILC_ALL', 'T', 'T', 'ILC_ALL', 'T', 'T', 'T', 'T', 'ILC_ALL', 'ILC_ALL', 'T', 'T', 'T', 'T', 'T', 'T', 'ILC_ALL', 'T', 'T', 'T', 'T', 'T', 'T', 'T', 'T', 'T', 'T', 'T', 'T', 'ILC_ALL', 'T', 'T', 'T', 'ILC_ALL', 'T', 'T', 'ILC_ALL', 'T', 'ILC_ALL', 'T', 'ILC_ALL', 'ILC_ALL', 'ILC_ALL', 'ILC_ALL', 'T', 'ILC_ALL', 'T', 'T', 'T', 'T', 'ILC_ALL', 'T', 'T', 'T', 'T', 'T', 'ILC_ALL', 'T', 'ILC_ALL', 'ILC_ALL', 'ILC_ALL', 'T', 'ILC_ALL', 'T', 'ILC_ALL', 'T', 'T', 'ILC_ALL', 'ILC_ALL', 'T', 'T', 'T', 'T', 'T', 'T', 'ILC_ALL', 'T', 'T', 'ILC_ALL', 'T', 'ILC_ALL', 'T', 'T', 'ILC_ALL', 'ILC_ALL', 'ILC_ALL', 'T', 'T', 'ILC_ALL', 'T', 'T', 'ILC_ALL', 'T', 'T', 'T', 'T', 'T', 'T', 'T', 'T', 'T', 'ILC_ALL', 'T', 'T', 'ILC_ALL', 'ILC_ALL', 'ILC_ALL', 'T', 'T', 'ILC_ALL', 'T', 'T', 'T', 'T', 'ILC_ALL', 'T', 'ILC_ALL', 'T', 'T', 'ILC_ALL', 'T', 'T', 'T', 'ILC_ALL', 'T', 'T', 'ILC_ALL', 'T', 'T', 'ILC_ALL', 'T', 'ILC_ALL', 'T', 'T', 'T', 'T', 'T', 'T', 'T', 'ILC_ALL', 'T', 'T', 'T', 'T', 'ILC_ALL', 'T', 'T', 'ILC_ALL', 'ILC_ALL', 'T', 'ILC_ALL', 'T', 'ILC_ALL', 'T', 'T', 'T', 'T', 'T', 'T', 'T', 'ILC_ALL', 'T', 'T', 'T', 'ILC_ALL', 'T', 'ILC_ALL', 'ILC_ALL', 'ILC_ALL', 'T', 'ILC_ALL', 'ILC_ALL', 'T', 'T', 'T', 'T', 'T', 'ILC_ALL', 'T', 'ILC_ALL', 'ILC_ALL', 'ILC_ALL', 'ILC_ALL', 'T', 'T', 'ILC_ALL', 'ILC_ALL', 'T', 'T', 'T', 'ILC_ALL', 'T', 'T', 'T', 'ILC_ALL', 'T', 'T', 'T', 'ILC_ALL', 'T', 'T', 'T', 'T', 'ILC_ALL', 'T', 'T', 'T', 'T', 'T', 'T', 'T', 'T', 'T', 'T', 'T', 'T', 'T', 'T', 'ILC_ALL', 'T', 'ILC_ALL', 'T', 'ILC_ALL', 'T', 'T', 'T', 'ILC_ALL', 'T', 'T', 'T', 'T', 'T', 'T', 'ILC_ALL', 'ILC_ALL', 'T', 'T', 'T', 'ILC_ALL', 'ILC_ALL', 'T', 'T', 'T', 'T']\n"
          ]
        }
      ]
    },
    {
      "cell_type": "code",
      "source": [
        "#all set up - run local classifier\n",
        "hc.run_local_classifier('T_ILC')"
      ],
      "metadata": {
        "colab": {
          "base_uri": "https://localhost:8080/"
        },
        "id": "WZlrPIwMDbeb",
        "outputId": "443f6cbf-2551-4073-f5c4-db4e291c1d8e"
      },
      "execution_count": 58,
      "outputs": [
        {
          "output_type": "stream",
          "name": "stdout",
          "text": [
            "network y_input before encoding: ['T', 'T', 'T', 'ILC_ALL', 'T', 'T', 'T', 'ILC_ALL', 'T', 'ILC_ALL', 'T', 'T', 'T', 'ILC_ALL', 'ILC_ALL', 'ILC_ALL', 'T', 'ILC_ALL', 'T', 'T', 'T', 'T', 'T', 'T', 'ILC_ALL', 'ILC_ALL', 'T', 'ILC_ALL', 'T', 'ILC_ALL', 'T', 'T', 'ILC_ALL', 'ILC_ALL', 'ILC_ALL', 'T', 'ILC_ALL', 'T', 'T', 'T', 'ILC_ALL', 'T', 'ILC_ALL', 'T', 'ILC_ALL', 'T', 'T', 'T', 'T', 'ILC_ALL', 'T', 'ILC_ALL', 'T', 'T', 'T', 'ILC_ALL', 'T', 'ILC_ALL', 'T', 'T', 'ILC_ALL', 'T', 'T', 'T', 'T', 'T', 'T', 'T', 'T', 'T', 'ILC_ALL', 'ILC_ALL', 'ILC_ALL', 'ILC_ALL', 'ILC_ALL', 'T', 'ILC_ALL', 'T', 'T', 'T', 'T', 'T', 'T', 'ILC_ALL', 'ILC_ALL', 'T', 'T', 'ILC_ALL', 'T', 'T', 'T', 'T', 'T', 'T', 'T', 'T', 'T', 'ILC_ALL', 'ILC_ALL', 'T', 'T', 'T', 'T', 'ILC_ALL', 'ILC_ALL', 'ILC_ALL', 'ILC_ALL', 'ILC_ALL', 'T', 'ILC_ALL', 'T', 'T', 'ILC_ALL', 'ILC_ALL', 'T', 'T', 'T', 'ILC_ALL', 'T', 'T', 'ILC_ALL', 'ILC_ALL', 'T', 'T', 'ILC_ALL', 'T', 'T', 'T', 'T', 'ILC_ALL', 'T', 'T', 'T', 'T', 'T', 'ILC_ALL', 'T', 'T', 'ILC_ALL', 'T', 'ILC_ALL', 'T', 'T', 'ILC_ALL', 'T', 'ILC_ALL', 'T', 'T', 'T', 'T', 'ILC_ALL', 'ILC_ALL', 'T', 'T', 'ILC_ALL', 'T', 'ILC_ALL', 'T', 'ILC_ALL', 'ILC_ALL', 'T', 'T', 'T', 'T', 'T', 'T', 'T', 'ILC_ALL', 'T', 'T', 'T', 'T', 'ILC_ALL', 'T', 'ILC_ALL', 'T', 'T', 'T', 'T', 'T', 'T', 'T', 'T', 'T', 'ILC_ALL', 'ILC_ALL', 'T', 'T', 'T', 'T', 'T', 'T', 'ILC_ALL', 'T', 'T', 'T', 'ILC_ALL', 'ILC_ALL', 'T', 'ILC_ALL', 'ILC_ALL', 'ILC_ALL', 'T', 'ILC_ALL', 'ILC_ALL', 'T', 'T', 'ILC_ALL', 'ILC_ALL', 'T', 'T', 'T', 'ILC_ALL', 'T', 'T', 'T', 'ILC_ALL', 'T', 'T', 'ILC_ALL', 'T', 'T', 'T', 'T', 'T', 'T', 'T', 'T', 'ILC_ALL', 'T', 'ILC_ALL', 'T', 'T', 'T', 'ILC_ALL', 'T', 'ILC_ALL', 'T', 'T', 'T', 'T', 'ILC_ALL', 'T', 'T', 'T', 'T', 'T', 'ILC_ALL', 'T', 'T', 'T', 'ILC_ALL', 'ILC_ALL', 'T', 'T', 'T', 'T', 'T', 'ILC_ALL', 'T', 'T', 'T', 'T', 'ILC_ALL', 'ILC_ALL', 'T', 'ILC_ALL', 'ILC_ALL', 'T', 'T', 'ILC_ALL', 'ILC_ALL', 'T', 'ILC_ALL', 'T', 'ILC_ALL', 'T', 'T', 'T', 'T', 'T', 'T', 'T', 'ILC_ALL', 'ILC_ALL', 'T', 'ILC_ALL', 'T', 'T', 'ILC_ALL', 'T', 'T', 'ILC_ALL', 'T', 'T', 'ILC_ALL', 'T', 'T', 'T', 'ILC_ALL', 'ILC_ALL', 'ILC_ALL', 'T', 'T', 'T', 'T', 'ILC_ALL', 'T', 'ILC_ALL', 'T', 'T', 'T', 'T', 'T', 'T', 'T', 'ILC_ALL', 'T', 'ILC_ALL', 'T', 'T', 'T', 'T', 'T', 'T', 'ILC_ALL', 'T', 'ILC_ALL', 'ILC_ALL', 'T', 'T', 'ILC_ALL', 'T', 'T', 'ILC_ALL', 'T', 'ILC_ALL', 'ILC_ALL', 'T', 'T', 'T', 'T', 'T', 'T', 'ILC_ALL', 'T', 'ILC_ALL', 'ILC_ALL', 'T', 'T', 'T', 'T', 'T', 'ILC_ALL', 'T', 'T', 'ILC_ALL', 'T', 'ILC_ALL', 'T', 'T', 'T', 'T', 'ILC_ALL', 'ILC_ALL', 'T', 'T', 'T', 'T', 'ILC_ALL', 'T', 'T', 'T', 'T', 'ILC_ALL', 'T', 'ILC_ALL', 'ILC_ALL', 'T', 'T', 'T', 'ILC_ALL', 'ILC_ALL', 'T', 'T', 'T', 'T', 'T', 'T', 'T', 'T', 'T', 'T', 'T', 'ILC_ALL', 'T', 'ILC_ALL', 'T', 'ILC_ALL', 'ILC_ALL', 'T', 'T', 'ILC_ALL', 'ILC_ALL', 'T', 'T', 'T', 'T', 'T', 'T', 'T', 'T', 'ILC_ALL', 'ILC_ALL', 'T', 'T', 'T', 'T', 'T', 'T', 'T', 'T', 'T', 'T', 'T', 'ILC_ALL', 'T', 'T', 'T', 'T', 'ILC_ALL', 'ILC_ALL', 'T', 'T', 'T', 'T', 'T', 'ILC_ALL', 'T', 'ILC_ALL', 'ILC_ALL', 'T', 'T', 'ILC_ALL', 'T', 'T', 'ILC_ALL', 'T', 'ILC_ALL', 'T', 'ILC_ALL', 'T', 'T', 'T', 'T', 'T', 'ILC_ALL', 'ILC_ALL', 'ILC_ALL', 'ILC_ALL', 'T', 'T', 'T', 'T', 'T', 'ILC_ALL', 'ILC_ALL', 'T', 'ILC_ALL', 'T', 'ILC_ALL', 'ILC_ALL', 'ILC_ALL', 'T', 'T', 'T', 'T', 'T', 'T', 'T', 'T', 'T', 'T', 'ILC_ALL', 'ILC_ALL', 'T', 'T', 'T', 'T', 'T', 'T', 'T', 'ILC_ALL', 'ILC_ALL', 'ILC_ALL', 'T', 'T', 'T', 'T', 'ILC_ALL', 'ILC_ALL', 'T', 'T', 'T', 'ILC_ALL', 'T', 'T', 'ILC_ALL', 'T', 'T', 'T', 'T', 'T', 'T', 'ILC_ALL', 'ILC_ALL', 'T', 'ILC_ALL', 'T', 'ILC_ALL', 'ILC_ALL', 'T', 'T', 'T', 'ILC_ALL', 'T', 'T', 'ILC_ALL', 'T', 'T', 'T', 'ILC_ALL', 'ILC_ALL', 'T', 'T', 'T', 'T', 'T', 'T', 'T', 'ILC_ALL', 'ILC_ALL', 'T', 'T', 'ILC_ALL', 'ILC_ALL', 'T', 'T', 'ILC_ALL', 'T', 'ILC_ALL', 'T', 'T', 'T', 'T', 'ILC_ALL', 'ILC_ALL', 'T', 'T', 'T', 'T', 'T', 'ILC_ALL', 'T', 'T', 'T', 'ILC_ALL', 'ILC_ALL', 'T', 'T', 'T', 'T', 'ILC_ALL', 'ILC_ALL', 'T', 'T', 'T', 'T', 'T', 'T', 'T', 'ILC_ALL', 'T', 'T', 'T', 'ILC_ALL', 'T', 'T', 'T', 'T', 'T', 'ILC_ALL', 'T', 'T', 'ILC_ALL', 'T', 'T', 'ILC_ALL', 'T', 'T', 'T', 'T', 'ILC_ALL', 'T', 'ILC_ALL', 'T', 'T', 'T', 'T', 'T', 'T', 'T', 'T', 'T', 'T', 'ILC_ALL', 'T', 'T', 'T', 'ILC_ALL', 'T', 'T', 'T', 'ILC_ALL', 'ILC_ALL', 'ILC_ALL', 'T', 'ILC_ALL', 'T', 'T', 'ILC_ALL', 'ILC_ALL', 'T', 'T', 'ILC_ALL', 'T', 'ILC_ALL', 'T', 'T', 'T', 'T', 'ILC_ALL', 'ILC_ALL', 'ILC_ALL', 'T', 'T', 'T', 'T', 'T', 'ILC_ALL', 'T', 'T', 'T', 'T', 'T', 'T', 'T', 'T', 'ILC_ALL', 'ILC_ALL', 'T', 'T', 'ILC_ALL', 'T', 'T', 'T', 'ILC_ALL', 'T', 'T', 'T', 'T', 'ILC_ALL', 'ILC_ALL', 'ILC_ALL', 'ILC_ALL', 'T', 'T', 'ILC_ALL', 'T', 'T', 'T', 'T', 'T', 'T', 'ILC_ALL', 'T', 'T', 'ILC_ALL', 'T', 'T', 'T', 'T', 'T', 'T', 'T', 'ILC_ALL', 'T', 'T', 'ILC_ALL', 'T', 'T', 'T', 'ILC_ALL', 'T', 'ILC_ALL', 'T', 'ILC_ALL', 'ILC_ALL', 'T', 'T', 'T', 'ILC_ALL', 'ILC_ALL', 'T', 'T', 'ILC_ALL', 'T', 'T', 'T', 'T', 'T', 'ILC_ALL', 'T', 'ILC_ALL', 'T', 'T', 'T', 'T', 'T', 'T', 'T', 'ILC_ALL', 'T', 'ILC_ALL', 'ILC_ALL', 'T', 'T', 'T', 'T', 'T', 'ILC_ALL', 'T', 'T', 'T', 'ILC_ALL', 'T', 'T', 'T', 'T', 'T', 'T', 'ILC_ALL', 'T', 'ILC_ALL', 'T', 'T', 'T', 'ILC_ALL', 'T', 'T', 'T', 'ILC_ALL', 'T', 'T', 'ILC_ALL', 'T', 'T', 'T', 'T', 'T', 'ILC_ALL', 'T', 'T', 'T', 'ILC_ALL', 'ILC_ALL', 'T', 'T', 'T', 'ILC_ALL', 'T', 'T', 'ILC_ALL', 'ILC_ALL', 'T', 'T', 'T', 'T', 'T', 'ILC_ALL', 'T', 'ILC_ALL', 'T', 'T', 'T', 'T', 'T', 'T', 'T', 'ILC_ALL', 'T', 'T', 'T', 'T', 'T', 'ILC_ALL', 'T', 'T', 'T', 'T', 'ILC_ALL', 'ILC_ALL', 'T', 'ILC_ALL', 'T', 'T', 'T', 'T', 'T', 'T', 'T', 'T', 'ILC_ALL', 'T', 'ILC_ALL', 'T', 'ILC_ALL', 'ILC_ALL', 'T', 'T', 'T', 'T', 'T', 'ILC_ALL', 'ILC_ALL', 'T', 'T', 'T', 'T', 'T', 'ILC_ALL', 'ILC_ALL', 'T', 'T', 'T', 'T', 'T', 'T', 'ILC_ALL', 'T', 'T', 'T', 'T', 'ILC_ALL', 'T', 'ILC_ALL', 'T', 'T', 'ILC_ALL', 'T', 'T', 'T', 'T', 'ILC_ALL', 'ILC_ALL', 'T', 'T', 'T', 'ILC_ALL', 'T', 'T', 'T', 'T', 'T', 'T', 'T', 'ILC_ALL', 'T', 'ILC_ALL', 'T', 'T', 'T', 'T', 'ILC_ALL', 'T', 'T', 'ILC_ALL', 'T', 'T', 'T', 'T', 'T', 'T', 'T', 'T', 'ILC_ALL', 'ILC_ALL', 'ILC_ALL', 'T', 'T', 'ILC_ALL', 'T', 'T', 'T', 'T', 'T', 'T', 'T', 'T', 'T', 'ILC_ALL', 'T', 'T', 'ILC_ALL', 'T', 'T', 'ILC_ALL', 'ILC_ALL', 'ILC_ALL', 'T', 'T', 'T', 'T', 'T', 'ILC_ALL', 'T', 'T', 'ILC_ALL', 'ILC_ALL', 'T', 'T', 'T', 'T', 'T', 'T', 'T', 'ILC_ALL', 'ILC_ALL', 'T', 'ILC_ALL', 'T', 'T', 'T', 'T', 'T', 'T', 'ILC_ALL', 'T', 'T', 'T', 'T', 'T', 'T', 'T', 'T', 'ILC_ALL', 'T', 'T', 'T', 'ILC_ALL', 'T', 'T', 'T', 'T', 'T', 'T', 'T', 'T', 'ILC_ALL', 'T', 'T', 'T', 'T', 'T', 'T', 'ILC_ALL', 'T', 'T', 'T', 'ILC_ALL', 'T', 'T', 'ILC_ALL', 'T', 'T', 'T', 'T', 'T', 'T', 'T', 'T', 'T', 'T', 'T', 'T', 'T', 'T', 'T', 'T', 'T', 'ILC_ALL', 'T', 'T', 'T', 'T', 'ILC_ALL', 'T', 'T', 'T', 'T', 'ILC_ALL', 'T', 'ILC_ALL', 'T', 'ILC_ALL', 'T', 'T', 'T', 'T', 'T', 'T', 'T', 'T', 'ILC_ALL', 'T', 'ILC_ALL', 'T', 'T', 'T', 'T', 'T', 'T', 'T', 'ILC_ALL', 'T', 'T', 'T', 'ILC_ALL', 'T', 'T', 'T', 'T', 'T', 'T', 'T', 'T', 'T', 'T', 'ILC_ALL', 'T', 'T', 'T', 'T', 'T', 'T', 'T', 'ILC_ALL', 'T', 'T', 'ILC_ALL', 'T', 'T', 'T', 'T', 'T', 'ILC_ALL', 'T', 'T', 'T', 'ILC_ALL', 'T', 'T', 'T', 'T', 'T', 'T', 'T', 'ILC_ALL', 'T', 'T', 'ILC_ALL', 'ILC_ALL', 'T', 'T', 'T', 'ILC_ALL', 'ILC_ALL', 'ILC_ALL', 'T', 'T', 'T', 'T', 'T', 'T', 'T', 'T', 'ILC_ALL', 'T', 'T', 'T', 'T', 'T', 'ILC_ALL', 'T', 'ILC_ALL', 'T', 'T', 'T', 'T', 'T', 'T', 'ILC_ALL', 'T', 'ILC_ALL', 'ILC_ALL', 'T', 'ILC_ALL', 'ILC_ALL', 'T', 'ILC_ALL', 'T', 'T', 'T', 'T', 'T', 'T', 'ILC_ALL', 'ILC_ALL', 'T', 'T', 'ILC_ALL', 'T', 'T', 'T', 'T', 'T', 'T', 'T', 'T', 'T', 'T', 'T', 'ILC_ALL', 'T', 'T', 'T', 'T', 'T', 'T', 'T', 'T', 'T', 'T', 'T', 'T', 'T', 'T', 'ILC_ALL', 'T', 'T', 'T', 'T', 'ILC_ALL', 'ILC_ALL', 'T', 'ILC_ALL', 'ILC_ALL', 'T', 'ILC_ALL', 'T', 'T', 'T', 'T', 'T', 'T', 'ILC_ALL', 'T', 'T', 'T', 'T', 'T', 'ILC_ALL', 'T', 'T', 'T', 'T', 'ILC_ALL', 'T', 'ILC_ALL', 'T', 'T', 'T', 'T', 'T', 'T', 'T', 'ILC_ALL', 'ILC_ALL', 'T', 'T', 'ILC_ALL', 'ILC_ALL', 'ILC_ALL', 'T', 'T', 'T', 'T', 'T', 'T', 'T', 'T', 'T', 'ILC_ALL', 'T', 'ILC_ALL', 'T', 'ILC_ALL', 'ILC_ALL', 'T', 'ILC_ALL', 'T', 'T', 'T', 'T', 'T', 'T', 'ILC_ALL', 'T', 'T', 'T', 'T', 'ILC_ALL', 'T', 'T', 'T', 'T', 'T', 'T', 'T', 'T', 'T', 'T', 'T', 'ILC_ALL', 'T', 'ILC_ALL', 'T', 'ILC_ALL', 'T', 'ILC_ALL', 'T', 'T', 'ILC_ALL', 'ILC_ALL', 'T', 'ILC_ALL', 'T', 'T', 'T', 'ILC_ALL', 'T', 'T', 'T', 'T', 'ILC_ALL', 'ILC_ALL', 'T', 'T', 'T', 'ILC_ALL', 'ILC_ALL', 'T', 'T', 'T', 'T', 'T', 'ILC_ALL', 'T', 'T', 'T', 'T', 'T', 'T', 'T', 'T', 'T', 'ILC_ALL', 'T', 'T', 'T', 'T', 'ILC_ALL', 'T', 'T', 'ILC_ALL', 'T', 'T', 'T', 'T', 'T', 'T', 'T', 'T', 'T', 'ILC_ALL', 'ILC_ALL', 'T', 'T', 'ILC_ALL', 'T', 'T', 'T', 'ILC_ALL', 'T', 'T', 'T', 'T', 'T', 'ILC_ALL', 'T', 'ILC_ALL', 'T', 'T', 'ILC_ALL', 'T', 'T', 'ILC_ALL', 'ILC_ALL', 'T', 'T', 'ILC_ALL', 'T', 'T', 'ILC_ALL', 'T', 'ILC_ALL', 'ILC_ALL', 'T', 'T', 'T', 'T', 'T', 'T', 'ILC_ALL', 'T', 'T', 'T', 'ILC_ALL', 'ILC_ALL', 'T', 'T', 'T', 'T', 'ILC_ALL', 'ILC_ALL', 'T', 'ILC_ALL', 'ILC_ALL', 'T', 'T', 'ILC_ALL', 'T', 'T', 'T', 'T', 'T', 'T', 'T', 'T', 'T', 'ILC_ALL', 'ILC_ALL', 'ILC_ALL', 'T', 'ILC_ALL', 'T', 'T', 'T', 'T', 'T', 'T', 'T', 'ILC_ALL', 'T', 'ILC_ALL', 'T', 'T', 'ILC_ALL', 'T', 'T', 'T', 'ILC_ALL', 'T', 'T', 'T', 'ILC_ALL', 'T', 'T', 'T', 'T', 'T', 'T', 'T', 'ILC_ALL', 'T', 'ILC_ALL', 'T', 'T', 'T', 'T', 'T', 'ILC_ALL', 'T', 'T', 'T', 'T', 'ILC_ALL', 'T', 'T', 'ILC_ALL', 'T', 'T', 'T', 'T', 'T', 'ILC_ALL', 'T', 'ILC_ALL', 'T', 'T', 'T', 'T', 'ILC_ALL', 'T', 'T', 'ILC_ALL', 'T', 'T', 'T', 'T', 'T', 'T', 'T', 'T', 'T', 'T', 'T', 'T', 'ILC_ALL', 'T', 'T', 'ILC_ALL', 'T', 'T', 'T', 'ILC_ALL', 'ILC_ALL', 'T', 'ILC_ALL', 'T', 'T', 'T', 'T', 'ILC_ALL', 'ILC_ALL', 'T', 'ILC_ALL', 'ILC_ALL', 'ILC_ALL', 'T', 'T', 'ILC_ALL', 'T', 'T', 'T', 'ILC_ALL', 'T', 'T', 'T', 'ILC_ALL', 'ILC_ALL', 'ILC_ALL', 'T', 'T', 'T', 'ILC_ALL', 'T', 'T', 'T', 'T', 'ILC_ALL', 'T', 'ILC_ALL', 'T', 'T', 'T', 'ILC_ALL', 'T', 'ILC_ALL', 'ILC_ALL', 'ILC_ALL', 'T', 'T', 'ILC_ALL', 'ILC_ALL', 'ILC_ALL', 'T', 'ILC_ALL', 'T', 'T', 'T', 'T', 'T', 'ILC_ALL', 'T', 'ILC_ALL', 'T', 'T', 'ILC_ALL', 'T', 'T', 'T', 'ILC_ALL', 'T', 'T', 'ILC_ALL', 'T', 'T', 'T', 'T', 'ILC_ALL', 'T', 'T', 'ILC_ALL', 'T', 'T', 'T', 'T', 'T', 'T', 'ILC_ALL', 'T', 'T', 'T', 'T', 'T', 'T', 'ILC_ALL', 'T', 'T', 'ILC_ALL', 'ILC_ALL', 'T', 'T', 'ILC_ALL', 'T', 'ILC_ALL', 'T', 'T', 'T', 'ILC_ALL', 'ILC_ALL', 'T', 'T', 'T', 'T', 'T', 'ILC_ALL', 'T', 'T', 'T', 'T', 'ILC_ALL', 'T', 'T', 'T', 'T', 'ILC_ALL', 'ILC_ALL', 'ILC_ALL', 'ILC_ALL', 'T', 'T', 'T', 'ILC_ALL', 'T', 'T', 'ILC_ALL', 'T', 'T', 'T', 'T', 'T', 'T', 'T', 'ILC_ALL', 'T', 'T', 'T', 'T', 'T', 'T', 'T', 'ILC_ALL', 'ILC_ALL', 'T', 'ILC_ALL', 'T', 'T', 'ILC_ALL', 'T', 'ILC_ALL', 'ILC_ALL', 'T', 'T', 'T', 'T', 'T', 'ILC_ALL', 'ILC_ALL', 'T', 'T', 'ILC_ALL', 'T', 'T', 'T', 'T', 'T', 'T', 'T', 'ILC_ALL', 'ILC_ALL', 'ILC_ALL', 'T', 'ILC_ALL', 'T', 'T', 'T', 'T', 'T', 'ILC_ALL', 'T', 'ILC_ALL', 'T', 'T', 'ILC_ALL', 'T', 'T', 'ILC_ALL', 'T', 'T', 'T', 'ILC_ALL', 'ILC_ALL', 'T', 'T', 'ILC_ALL', 'ILC_ALL', 'T', 'T', 'ILC_ALL', 'T', 'T', 'T', 'T', 'T', 'T', 'T', 'T', 'ILC_ALL', 'ILC_ALL', 'T', 'T', 'T', 'ILC_ALL', 'ILC_ALL', 'T', 'T', 'T', 'T', 'T', 'ILC_ALL', 'ILC_ALL', 'T', 'T', 'ILC_ALL', 'ILC_ALL', 'ILC_ALL', 'ILC_ALL', 'ILC_ALL', 'T', 'ILC_ALL', 'T', 'T', 'T', 'T', 'ILC_ALL', 'T', 'T', 'ILC_ALL', 'ILC_ALL', 'ILC_ALL', 'ILC_ALL', 'T', 'T', 'T', 'ILC_ALL', 'T', 'T', 'ILC_ALL', 'T', 'T', 'T', 'ILC_ALL', 'T', 'ILC_ALL', 'T', 'ILC_ALL', 'T', 'T', 'ILC_ALL', 'T', 'T', 'T', 'T', 'T', 'T', 'T', 'T', 'ILC_ALL', 'T', 'T', 'T', 'T', 'T', 'T', 'T', 'ILC_ALL', 'T', 'T', 'T', 'T', 'T', 'T', 'T', 'ILC_ALL', 'T', 'T', 'T', 'ILC_ALL', 'ILC_ALL', 'T', 'T', 'T', 'T', 'T', 'T', 'T', 'T', 'T', 'T', 'T', 'ILC_ALL', 'ILC_ALL', 'T', 'T', 'T', 'T', 'T', 'T', 'T', 'T', 'T', 'T', 'ILC_ALL', 'T', 'T', 'ILC_ALL', 'T', 'ILC_ALL', 'ILC_ALL', 'T', 'ILC_ALL', 'ILC_ALL', 'T', 'T', 'T', 'T', 'T', 'ILC_ALL', 'ILC_ALL', 'T', 'T', 'T', 'T', 'T', 'T', 'T', 'T', 'T', 'T', 'T', 'ILC_ALL', 'ILC_ALL', 'T', 'T', 'T', 'T', 'ILC_ALL', 'T', 'T', 'T', 'ILC_ALL', 'T', 'ILC_ALL', 'ILC_ALL', 'ILC_ALL', 'T', 'T', 'T', 'T', 'T', 'T', 'T', 'ILC_ALL', 'T', 'T', 'ILC_ALL', 'ILC_ALL', 'ILC_ALL', 'ILC_ALL', 'T', 'T', 'T', 'T', 'ILC_ALL', 'T', 'T', 'T', 'ILC_ALL', 'ILC_ALL', 'T', 'T', 'T', 'T', 'T', 'ILC_ALL', 'T', 'ILC_ALL', 'T', 'ILC_ALL', 'T', 'ILC_ALL', 'T', 'ILC_ALL', 'ILC_ALL', 'T', 'ILC_ALL', 'T', 'T', 'ILC_ALL', 'T', 'T', 'ILC_ALL', 'T', 'T', 'T', 'T', 'T', 'ILC_ALL', 'T', 'T', 'T', 'T', 'T', 'T', 'ILC_ALL', 'ILC_ALL', 'T', 'T', 'T', 'T', 'ILC_ALL', 'T', 'T', 'T', 'T', 'ILC_ALL', 'ILC_ALL', 'T', 'T', 'T', 'T', 'ILC_ALL', 'T', 'T', 'T', 'ILC_ALL', 'T', 'T', 'T', 'ILC_ALL', 'T', 'T', 'ILC_ALL', 'T', 'T', 'ILC_ALL', 'ILC_ALL', 'T', 'T', 'ILC_ALL', 'T', 'T', 'T', 'T', 'T', 'T', 'ILC_ALL', 'T', 'T', 'T', 'T', 'ILC_ALL', 'ILC_ALL', 'T', 'ILC_ALL', 'ILC_ALL', 'ILC_ALL', 'T', 'ILC_ALL', 'ILC_ALL', 'T', 'T', 'T', 'T', 'T', 'T', 'T', 'T', 'T', 'T', 'T', 'T', 'ILC_ALL', 'ILC_ALL', 'T', 'ILC_ALL', 'T', 'T', 'T', 'T', 'T', 'T', 'T', 'ILC_ALL', 'T', 'T', 'ILC_ALL', 'T', 'ILC_ALL', 'T', 'ILC_ALL', 'T', 'T', 'ILC_ALL', 'T', 'T', 'T', 'T', 'T', 'ILC_ALL', 'T', 'ILC_ALL', 'T', 'T', 'T', 'T', 'T', 'T', 'T', 'T', 'T', 'T', 'ILC_ALL', 'T', 'T', 'T', 'T', 'ILC_ALL', 'T', 'ILC_ALL', 'T', 'T', 'T', 'ILC_ALL', 'ILC_ALL', 'T', 'T', 'T', 'T', 'T', 'T', 'T', 'T', 'ILC_ALL', 'ILC_ALL', 'T', 'T', 'T', 'T', 'T', 'ILC_ALL', 'T', 'T', 'T', 'T', 'T', 'T', 'T', 'T', 'T', 'ILC_ALL', 'T', 'T', 'T', 'T', 'T', 'ILC_ALL', 'T', 'T', 'T', 'ILC_ALL', 'T', 'T', 'ILC_ALL', 'T', 'T', 'T', 'T', 'T', 'T', 'ILC_ALL', 'ILC_ALL', 'T', 'T', 'ILC_ALL', 'T', 'T', 'T', 'T', 'ILC_ALL', 'T', 'T', 'T', 'T', 'T', 'ILC_ALL', 'ILC_ALL', 'T', 'T', 'T', 'ILC_ALL', 'T', 'ILC_ALL', 'T', 'T', 'T', 'T', 'ILC_ALL', 'T', 'T', 'T', 'ILC_ALL', 'T', 'T', 'ILC_ALL', 'ILC_ALL', 'T', 'T', 'T', 'T', 'T', 'T', 'ILC_ALL', 'ILC_ALL', 'ILC_ALL', 'ILC_ALL', 'T', 'ILC_ALL', 'T', 'T', 'T', 'ILC_ALL', 'T', 'ILC_ALL', 'ILC_ALL', 'T', 'T', 'ILC_ALL', 'T', 'ILC_ALL', 'ILC_ALL', 'T', 'T', 'ILC_ALL', 'ILC_ALL', 'T', 'ILC_ALL', 'T', 'T', 'ILC_ALL', 'ILC_ALL', 'ILC_ALL', 'T', 'T', 'T', 'T', 'ILC_ALL', 'T', 'T', 'ILC_ALL', 'ILC_ALL', 'ILC_ALL', 'ILC_ALL', 'T', 'T', 'T', 'T', 'T', 'T', 'ILC_ALL', 'T', 'T', 'T', 'T', 'T', 'T', 'T', 'T', 'T', 'T', 'T', 'T', 'ILC_ALL', 'T', 'T', 'ILC_ALL', 'T', 'ILC_ALL', 'T', 'T', 'T', 'T', 'ILC_ALL', 'T', 'T', 'T', 'T', 'T', 'T', 'T', 'T', 'T', 'ILC_ALL', 'T', 'ILC_ALL', 'T', 'T', 'T', 'T', 'T', 'T', 'ILC_ALL', 'T', 'ILC_ALL', 'T', 'T', 'T', 'ILC_ALL', 'T', 'ILC_ALL', 'ILC_ALL', 'T', 'ILC_ALL', 'T', 'T', 'T', 'T', 'T', 'T', 'T', 'ILC_ALL', 'T', 'T', 'T', 'T', 'T', 'T', 'T', 'T', 'T', 'T', 'ILC_ALL', 'ILC_ALL', 'T', 'T', 'T', 'T', 'T', 'ILC_ALL', 'T', 'T', 'T', 'T', 'T', 'T', 'T', 'ILC_ALL', 'T', 'ILC_ALL', 'ILC_ALL', 'T', 'T', 'T', 'ILC_ALL', 'ILC_ALL', 'T', 'T', 'ILC_ALL', 'T', 'T', 'T', 'ILC_ALL', 'ILC_ALL', 'ILC_ALL', 'ILC_ALL', 'T', 'T', 'T', 'T', 'ILC_ALL', 'T', 'T', 'T', 'T', 'T', 'ILC_ALL', 'T', 'T', 'T', 'ILC_ALL', 'T', 'T', 'T', 'T', 'ILC_ALL', 'T', 'T', 'T', 'ILC_ALL', 'ILC_ALL', 'T', 'T', 'T', 'ILC_ALL', 'T', 'T', 'T', 'T', 'T', 'T', 'T', 'T', 'ILC_ALL', 'T', 'T', 'T', 'T', 'T', 'T', 'T', 'T', 'T', 'T', 'T', 'T', 'T', 'ILC_ALL', 'T', 'T', 'T', 'T', 'T', 'T', 'T', 'T', 'ILC_ALL', 'ILC_ALL', 'T', 'ILC_ALL', 'T', 'T', 'T', 'ILC_ALL', 'T', 'T', 'ILC_ALL', 'T', 'T', 'T', 'T', 'T', 'T', 'T', 'T', 'T', 'T', 'T', 'ILC_ALL', 'T', 'T', 'ILC_ALL', 'ILC_ALL', 'T', 'ILC_ALL', 'T', 'T', 'T', 'ILC_ALL', 'T', 'ILC_ALL', 'T', 'ILC_ALL', 'T', 'T', 'T', 'T', 'T', 'T', 'T', 'ILC_ALL', 'ILC_ALL', 'ILC_ALL', 'T', 'ILC_ALL', 'ILC_ALL', 'ILC_ALL', 'T', 'ILC_ALL', 'T', 'ILC_ALL', 'T', 'ILC_ALL', 'T', 'T', 'T', 'T', 'T', 'T', 'T', 'ILC_ALL', 'T', 'T', 'T', 'T', 'ILC_ALL', 'ILC_ALL', 'ILC_ALL', 'ILC_ALL', 'T', 'T', 'T', 'T', 'T', 'T', 'T', 'T', 'T', 'T', 'ILC_ALL', 'T', 'ILC_ALL', 'ILC_ALL', 'T', 'T', 'T', 'ILC_ALL', 'T', 'T', 'T', 'ILC_ALL', 'T', 'T', 'ILC_ALL', 'T', 'T', 'T', 'ILC_ALL', 'ILC_ALL', 'T', 'ILC_ALL', 'T', 'T', 'ILC_ALL', 'T', 'T', 'ILC_ALL', 'ILC_ALL', 'T', 'T', 'T', 'T', 'ILC_ALL', 'T', 'T', 'T', 'ILC_ALL', 'T', 'T', 'T', 'T', 'T', 'T', 'T', 'T', 'ILC_ALL', 'T', 'ILC_ALL', 'T', 'ILC_ALL', 'T', 'T', 'T', 'T', 'T', 'T', 'T', 'ILC_ALL', 'T', 'T', 'ILC_ALL', 'T', 'T', 'T', 'T', 'T', 'ILC_ALL', 'T', 'ILC_ALL', 'ILC_ALL', 'T', 'T', 'ILC_ALL', 'T', 'T', 'ILC_ALL', 'ILC_ALL', 'T', 'T', 'ILC_ALL', 'T', 'T', 'T', 'T', 'T', 'ILC_ALL', 'T', 'T', 'T', 'T', 'ILC_ALL', 'T', 'T', 'T', 'T', 'T', 'ILC_ALL', 'T', 'T', 'T', 'T', 'T', 'T', 'ILC_ALL', 'ILC_ALL', 'T', 'T', 'ILC_ALL', 'ILC_ALL', 'T', 'ILC_ALL', 'T', 'T', 'T', 'ILC_ALL', 'ILC_ALL', 'ILC_ALL', 'T', 'T', 'T', 'T', 'T', 'T', 'T', 'T', 'T', 'ILC_ALL', 'ILC_ALL', 'ILC_ALL', 'ILC_ALL', 'T', 'T', 'ILC_ALL', 'T', 'T', 'T', 'T', 'T', 'ILC_ALL', 'T', 'ILC_ALL', 'T', 'T', 'ILC_ALL', 'T', 'ILC_ALL', 'ILC_ALL', 'ILC_ALL', 'T', 'T', 'T', 'ILC_ALL', 'ILC_ALL', 'ILC_ALL', 'ILC_ALL', 'ILC_ALL', 'ILC_ALL', 'T', 'T', 'T', 'ILC_ALL', 'T', 'T', 'T', 'T', 'T', 'T', 'ILC_ALL', 'T', 'T', 'T', 'T', 'T', 'T', 'T', 'T', 'ILC_ALL', 'T', 'T', 'T', 'T', 'T', 'T', 'T', 'T', 'T', 'T', 'T', 'T', 'ILC_ALL', 'T', 'T', 'T', 'ILC_ALL', 'ILC_ALL', 'T', 'T', 'ILC_ALL', 'ILC_ALL', 'ILC_ALL', 'T', 'T', 'ILC_ALL', 'T', 'T', 'T', 'T', 'ILC_ALL', 'ILC_ALL', 'T', 'ILC_ALL', 'ILC_ALL', 'ILC_ALL', 'T', 'ILC_ALL', 'ILC_ALL', 'T', 'T', 'T', 'T', 'T', 'T', 'T', 'T', 'T', 'T', 'T', 'T', 'T', 'T', 'T', 'T', 'T', 'T', 'ILC_ALL', 'T', 'T', 'T', 'ILC_ALL', 'ILC_ALL', 'T', 'ILC_ALL', 'ILC_ALL', 'T', 'T', 'T', 'T', 'T', 'T', 'T', 'T', 'ILC_ALL', 'T', 'ILC_ALL', 'ILC_ALL', 'ILC_ALL', 'ILC_ALL', 'T', 'T', 'T', 'T', 'T', 'T', 'T', 'T', 'T', 'T', 'T', 'ILC_ALL', 'T', 'T', 'T', 'T', 'T', 'T', 'ILC_ALL', 'ILC_ALL', 'T', 'T', 'T', 'T', 'ILC_ALL', 'ILC_ALL', 'T', 'T', 'ILC_ALL', 'ILC_ALL', 'T', 'T', 'T', 'T', 'T', 'T', 'T', 'T', 'T', 'ILC_ALL', 'T', 'T', 'T', 'ILC_ALL', 'T', 'ILC_ALL', 'ILC_ALL', 'ILC_ALL', 'T', 'ILC_ALL', 'T', 'T', 'T', 'T', 'T', 'T', 'ILC_ALL', 'T', 'T', 'ILC_ALL', 'T', 'T', 'T', 'ILC_ALL', 'ILC_ALL', 'T', 'ILC_ALL', 'T', 'T', 'T', 'ILC_ALL', 'T', 'T', 'T', 'T', 'T', 'ILC_ALL', 'ILC_ALL', 'T', 'T', 'T', 'ILC_ALL', 'ILC_ALL', 'T', 'T', 'ILC_ALL', 'T', 'ILC_ALL', 'ILC_ALL', 'T', 'T', 'T', 'T', 'T', 'ILC_ALL', 'ILC_ALL', 'ILC_ALL', 'T', 'T', 'ILC_ALL', 'T', 'ILC_ALL', 'T', 'T', 'T', 'T', 'T', 'T', 'ILC_ALL', 'T', 'T', 'T', 'T', 'T', 'T', 'ILC_ALL', 'ILC_ALL', 'T', 'T', 'T', 'T', 'T', 'T', 'T', 'T', 'ILC_ALL', 'ILC_ALL', 'T', 'ILC_ALL', 'T', 'ILC_ALL', 'ILC_ALL', 'T', 'T', 'T', 'T', 'T', 'T', 'ILC_ALL', 'ILC_ALL', 'T', 'ILC_ALL', 'T', 'T', 'T', 'T', 'ILC_ALL', 'ILC_ALL', 'ILC_ALL', 'ILC_ALL', 'T', 'T', 'T', 'T', 'T', 'T', 'ILC_ALL', 'T', 'T', 'ILC_ALL', 'ILC_ALL', 'T', 'T', 'T', 'T', 'T', 'ILC_ALL', 'T', 'T', 'T', 'ILC_ALL', 'ILC_ALL', 'T', 'T', 'ILC_ALL', 'T', 'T', 'T', 'T', 'ILC_ALL', 'T', 'T', 'ILC_ALL', 'ILC_ALL', 'T', 'T', 'T', 'T', 'T', 'T', 'T', 'ILC_ALL', 'T', 'T', 'T', 'T', 'T', 'T', 'T', 'T', 'ILC_ALL', 'T', 'ILC_ALL', 'ILC_ALL', 'T', 'T', 'T', 'T', 'T', 'ILC_ALL', 'ILC_ALL', 'ILC_ALL', 'T', 'T', 'T', 'T', 'T', 'T', 'T', 'T', 'T', 'T', 'T', 'T', 'T', 'T', 'T', 'ILC_ALL', 'T', 'T', 'ILC_ALL', 'T', 'T', 'T', 'T', 'T', 'T', 'ILC_ALL', 'T', 'T', 'T', 'T', 'T', 'T', 'T', 'T', 'T', 'T', 'ILC_ALL', 'T', 'T', 'ILC_ALL', 'T', 'ILC_ALL', 'T', 'T', 'T', 'T', 'T', 'ILC_ALL', 'T', 'T', 'T', 'ILC_ALL', 'T', 'T', 'T', 'T', 'ILC_ALL', 'T', 'ILC_ALL', 'ILC_ALL', 'T', 'ILC_ALL', 'T', 'T', 'T', 'T', 'ILC_ALL', 'T', 'T', 'ILC_ALL', 'T', 'T', 'T', 'T', 'T', 'T', 'T', 'T', 'T', 'T', 'T', 'T', 'ILC_ALL', 'T', 'T', 'T', 'T', 'T', 'T', 'T', 'T', 'T', 'ILC_ALL', 'T', 'T', 'T', 'T', 'T', 'T', 'T', 'T', 'ILC_ALL', 'T', 'ILC_ALL', 'T', 'T', 'T', 'T', 'ILC_ALL', 'T', 'T', 'T', 'T', 'ILC_ALL', 'T', 'ILC_ALL', 'T', 'T', 'ILC_ALL', 'ILC_ALL', 'T', 'ILC_ALL', 'T', 'ILC_ALL', 'T', 'T', 'T', 'T', 'T', 'ILC_ALL', 'T', 'T', 'T', 'T', 'ILC_ALL', 'T', 'ILC_ALL', 'T', 'T', 'ILC_ALL', 'ILC_ALL', 'T', 'T', 'T', 'ILC_ALL', 'ILC_ALL', 'T', 'T', 'T', 'T', 'T', 'ILC_ALL', 'T', 'T', 'T', 'T', 'ILC_ALL', 'T', 'T', 'ILC_ALL', 'T', 'T', 'T', 'ILC_ALL', 'T', 'T', 'T', 'T', 'ILC_ALL', 'T', 'T', 'T', 'T', 'ILC_ALL', 'T', 'T', 'ILC_ALL', 'T', 'T', 'ILC_ALL', 'ILC_ALL', 'T', 'T', 'T', 'T', 'T', 'T', 'T', 'T', 'T', 'T', 'ILC_ALL', 'ILC_ALL', 'T', 'ILC_ALL', 'T', 'ILC_ALL', 'T', 'T', 'T', 'T', 'ILC_ALL', 'T', 'T', 'T', 'T', 'ILC_ALL', 'T', 'T', 'T', 'T', 'T', 'ILC_ALL', 'ILC_ALL', 'ILC_ALL', 'ILC_ALL', 'T', 'T', 'ILC_ALL', 'T', 'T', 'T', 'T', 'T', 'T', 'T', 'ILC_ALL', 'T', 'ILC_ALL', 'ILC_ALL', 'T', 'T', 'T', 'T', 'ILC_ALL', 'T', 'T', 'ILC_ALL', 'ILC_ALL', 'ILC_ALL', 'T', 'T', 'T', 'T', 'T', 'T', 'T', 'T', 'T', 'T', 'T', 'T', 'ILC_ALL', 'ILC_ALL', 'T', 'T', 'ILC_ALL', 'T', 'T', 'T', 'T', 'ILC_ALL', 'T', 'T', 'T', 'ILC_ALL', 'T', 'T', 'T', 'T', 'T', 'T', 'T', 'ILC_ALL', 'ILC_ALL', 'ILC_ALL', 'ILC_ALL', 'T', 'ILC_ALL', 'T', 'T', 'ILC_ALL', 'T', 'T', 'T', 'ILC_ALL', 'ILC_ALL', 'T', 'T', 'T', 'T', 'T', 'T', 'T', 'T', 'T', 'T', 'T', 'T', 'T', 'T', 'T', 'T', 'ILC_ALL', 'T', 'ILC_ALL', 'T', 'T', 'T', 'T', 'T', 'ILC_ALL', 'ILC_ALL', 'ILC_ALL', 'T', 'T', 'ILC_ALL', 'T', 'ILC_ALL', 'ILC_ALL', 'ILC_ALL', 'T', 'T', 'T', 'ILC_ALL', 'T', 'T', 'T', 'T', 'T', 'T', 'ILC_ALL', 'ILC_ALL', 'T', 'ILC_ALL', 'T', 'ILC_ALL', 'T', 'T', 'T', 'T', 'T', 'ILC_ALL', 'ILC_ALL', 'T', 'T', 'ILC_ALL', 'T', 'T', 'T', 'T', 'ILC_ALL', 'T', 'ILC_ALL', 'ILC_ALL', 'ILC_ALL', 'T', 'T', 'T', 'T', 'ILC_ALL', 'T', 'T', 'T', 'ILC_ALL', 'T', 'T', 'T', 'ILC_ALL', 'ILC_ALL', 'T', 'T', 'T', 'ILC_ALL', 'T', 'T', 'T', 'T', 'T', 'ILC_ALL', 'T', 'T', 'ILC_ALL', 'ILC_ALL', 'ILC_ALL', 'T', 'T', 'ILC_ALL', 'ILC_ALL', 'T', 'ILC_ALL', 'T', 'T', 'T', 'T', 'T', 'T', 'T', 'T', 'ILC_ALL', 'ILC_ALL', 'ILC_ALL', 'T', 'ILC_ALL', 'ILC_ALL', 'ILC_ALL', 'T', 'ILC_ALL', 'ILC_ALL', 'T', 'T', 'T', 'T', 'T', 'T', 'ILC_ALL', 'ILC_ALL', 'T', 'T', 'T', 'ILC_ALL', 'T', 'T', 'T', 'ILC_ALL', 'T', 'ILC_ALL', 'T', 'ILC_ALL', 'T', 'ILC_ALL', 'T', 'T', 'T', 'ILC_ALL', 'T', 'ILC_ALL', 'T', 'T', 'T', 'ILC_ALL', 'T', 'T', 'T', 'ILC_ALL', 'T', 'T', 'T', 'T', 'ILC_ALL', 'T', 'ILC_ALL', 'ILC_ALL', 'T', 'ILC_ALL', 'ILC_ALL', 'T', 'T', 'ILC_ALL', 'T', 'T', 'T', 'T', 'T', 'T', 'T', 'T', 'T', 'T', 'T', 'T', 'ILC_ALL', 'ILC_ALL', 'T', 'T', 'T', 'T', 'T', 'ILC_ALL', 'T', 'ILC_ALL', 'T', 'T', 'T', 'T', 'T', 'T', 'ILC_ALL', 'ILC_ALL', 'T', 'T', 'T', 'T', 'T', 'ILC_ALL', 'T', 'T', 'T', 'T', 'T', 'T', 'T', 'T', 'ILC_ALL', 'ILC_ALL', 'ILC_ALL', 'T', 'ILC_ALL', 'ILC_ALL', 'T', 'ILC_ALL', 'T', 'ILC_ALL', 'ILC_ALL', 'T', 'ILC_ALL', 'ILC_ALL', 'ILC_ALL', 'T', 'T', 'T', 'T', 'T', 'T', 'T', 'ILC_ALL', 'T', 'ILC_ALL', 'T', 'T', 'ILC_ALL', 'T', 'ILC_ALL', 'T', 'T', 'T', 'ILC_ALL', 'ILC_ALL', 'T', 'T', 'ILC_ALL', 'T', 'ILC_ALL', 'T', 'ILC_ALL', 'ILC_ALL', 'ILC_ALL', 'ILC_ALL', 'T', 'T', 'T', 'ILC_ALL', 'T', 'T', 'T', 'T', 'T', 'ILC_ALL', 'T', 'ILC_ALL', 'ILC_ALL', 'T', 'T', 'T', 'T', 'T', 'T', 'T', 'T', 'T', 'ILC_ALL', 'T', 'ILC_ALL', 'T', 'ILC_ALL', 'T', 'ILC_ALL', 'T', 'T', 'T', 'ILC_ALL', 'T', 'ILC_ALL', 'T', 'ILC_ALL', 'ILC_ALL', 'ILC_ALL', 'ILC_ALL', 'T', 'ILC_ALL', 'ILC_ALL', 'T', 'T', 'T', 'ILC_ALL', 'ILC_ALL', 'ILC_ALL', 'T', 'T', 'T', 'ILC_ALL', 'T', 'T', 'ILC_ALL', 'T', 'T', 'T', 'T', 'T', 'ILC_ALL', 'T', 'T', 'T', 'T', 'T', 'T', 'T', 'T', 'T', 'T', 'T', 'ILC_ALL', 'T', 'ILC_ALL', 'T', 'T', 'ILC_ALL', 'ILC_ALL', 'ILC_ALL', 'T', 'T', 'ILC_ALL', 'ILC_ALL', 'ILC_ALL', 'T', 'T', 'ILC_ALL', 'T', 'T', 'T', 'T', 'ILC_ALL', 'T', 'T', 'T', 'T', 'ILC_ALL', 'T', 'T', 'T', 'T', 'T', 'ILC_ALL', 'T', 'T', 'ILC_ALL', 'ILC_ALL', 'ILC_ALL', 'T', 'T', 'T', 'ILC_ALL', 'T', 'T', 'T', 'T', 'T', 'T', 'ILC_ALL', 'T', 'ILC_ALL', 'T', 'ILC_ALL', 'T', 'T', 'T', 'ILC_ALL', 'T', 'ILC_ALL', 'ILC_ALL', 'ILC_ALL', 'T', 'T', 'T', 'T', 'ILC_ALL', 'T', 'T', 'T', 'ILC_ALL', 'T', 'T', 'T', 'T', 'T', 'ILC_ALL', 'T', 'T', 'T', 'T', 'T', 'T', 'ILC_ALL', 'T', 'T', 'T', 'T', 'T', 'ILC_ALL', 'T', 'T', 'T', 'T', 'ILC_ALL', 'T', 'T', 'T', 'T', 'T', 'ILC_ALL', 'T', 'ILC_ALL', 'T', 'T', 'T', 'T', 'T', 'T', 'ILC_ALL', 'T', 'T', 'T', 'T', 'T', 'T', 'T', 'T', 'T', 'ILC_ALL', 'T', 'ILC_ALL', 'T', 'ILC_ALL', 'T', 'T', 'T', 'T', 'T', 'T', 'T', 'ILC_ALL', 'ILC_ALL', 'T', 'T', 'T', 'ILC_ALL', 'T', 'T', 'T', 'T', 'ILC_ALL', 'T', 'ILC_ALL', 'ILC_ALL', 'T', 'ILC_ALL', 'T', 'ILC_ALL', 'T', 'T', 'ILC_ALL', 'T', 'ILC_ALL', 'ILC_ALL', 'T', 'T', 'ILC_ALL', 'T', 'T', 'ILC_ALL', 'T', 'ILC_ALL', 'T', 'T', 'T', 'T', 'ILC_ALL', 'T', 'T', 'T', 'ILC_ALL', 'ILC_ALL', 'T', 'T', 'T', 'T', 'ILC_ALL', 'T', 'ILC_ALL', 'T', 'T', 'ILC_ALL', 'T', 'T', 'ILC_ALL', 'T', 'ILC_ALL', 'T', 'T', 'T', 'T', 'T', 'T', 'T', 'ILC_ALL', 'T', 'T', 'T', 'T', 'T', 'ILC_ALL', 'T', 'T', 'T', 'T', 'T', 'T', 'ILC_ALL', 'T', 'ILC_ALL', 'ILC_ALL', 'ILC_ALL', 'T', 'ILC_ALL', 'T', 'T', 'T', 'T', 'T', 'T', 'ILC_ALL', 'T', 'T', 'T', 'T', 'T', 'ILC_ALL', 'T', 'T', 'ILC_ALL', 'T', 'ILC_ALL', 'T', 'T', 'T', 'ILC_ALL', 'ILC_ALL', 'T', 'T', 'T', 'T', 'T', 'T', 'ILC_ALL', 'T', 'T', 'T', 'T', 'T', 'ILC_ALL', 'T', 'ILC_ALL', 'T', 'ILC_ALL', 'ILC_ALL', 'T', 'T', 'T', 'ILC_ALL', 'T', 'T', 'ILC_ALL', 'T', 'T', 'T', 'T', 'T', 'T', 'T', 'T', 'T', 'ILC_ALL', 'T', 'ILC_ALL', 'ILC_ALL', 'ILC_ALL', 'T', 'T', 'T', 'ILC_ALL', 'T', 'T', 'T', 'T', 'T', 'ILC_ALL', 'T', 'T', 'T', 'ILC_ALL', 'T', 'T', 'T', 'ILC_ALL', 'T', 'T', 'T', 'ILC_ALL', 'T', 'ILC_ALL', 'T', 'T', 'T', 'T', 'T', 'T', 'T', 'ILC_ALL', 'T', 'ILC_ALL', 'T', 'T', 'T', 'T', 'ILC_ALL', 'ILC_ALL', 'T', 'ILC_ALL', 'ILC_ALL', 'T', 'T', 'T', 'T', 'ILC_ALL', 'T', 'T', 'T', 'ILC_ALL', 'T', 'T', 'T', 'T', 'ILC_ALL', 'ILC_ALL', 'T', 'T', 'T', 'T', 'T', 'T', 'ILC_ALL', 'T', 'T', 'T', 'T', 'T', 'T', 'T', 'T', 'ILC_ALL', 'ILC_ALL', 'T', 'T', 'T', 'T', 'ILC_ALL', 'T', 'T', 'T', 'T', 'T', 'ILC_ALL', 'ILC_ALL', 'T', 'T', 'T', 'ILC_ALL', 'ILC_ALL', 'T', 'ILC_ALL', 'T', 'ILC_ALL', 'ILC_ALL', 'T', 'T', 'ILC_ALL', 'T', 'T', 'T', 'T', 'T', 'ILC_ALL', 'T', 'ILC_ALL', 'T', 'T', 'T', 'T', 'T', 'ILC_ALL', 'ILC_ALL', 'T', 'T', 'ILC_ALL', 'ILC_ALL', 'ILC_ALL', 'T', 'ILC_ALL', 'T', 'T', 'ILC_ALL', 'T', 'ILC_ALL', 'T', 'T', 'ILC_ALL', 'T', 'ILC_ALL', 'T', 'T', 'T', 'T', 'T', 'T', 'ILC_ALL', 'T', 'T', 'T', 'T', 'T', 'ILC_ALL', 'T', 'T', 'T', 'T', 'T', 'ILC_ALL', 'T', 'T', 'ILC_ALL', 'T', 'ILC_ALL', 'ILC_ALL', 'T', 'T', 'T', 'T', 'T', 'T', 'ILC_ALL', 'T', 'ILC_ALL', 'T', 'ILC_ALL', 'T', 'T', 'T', 'ILC_ALL', 'T', 'T', 'ILC_ALL', 'T', 'T', 'T', 'ILC_ALL', 'T', 'T', 'T', 'T', 'ILC_ALL', 'T', 'ILC_ALL', 'T', 'T', 'T', 'T', 'ILC_ALL', 'T', 'ILC_ALL', 'T', 'ILC_ALL', 'T', 'T', 'ILC_ALL', 'ILC_ALL', 'T', 'ILC_ALL', 'T', 'T', 'T', 'T', 'ILC_ALL', 'T', 'T', 'ILC_ALL', 'T', 'T', 'T', 'T', 'T', 'T', 'T', 'ILC_ALL', 'ILC_ALL', 'T', 'T', 'ILC_ALL', 'T', 'T', 'T', 'T', 'T', 'T', 'T', 'T', 'T', 'T', 'T', 'T', 'T', 'T', 'T', 'T', 'T', 'T', 'T', 'ILC_ALL', 'T', 'T', 'T', 'T', 'T', 'T', 'ILC_ALL', 'T', 'T', 'T', 'ILC_ALL', 'T', 'T', 'T', 'T', 'ILC_ALL', 'T', 'T', 'T', 'T', 'ILC_ALL', 'T', 'T', 'T', 'ILC_ALL', 'ILC_ALL', 'T', 'T', 'T', 'ILC_ALL', 'T', 'T', 'T', 'T', 'ILC_ALL', 'T', 'T', 'ILC_ALL', 'T', 'ILC_ALL', 'ILC_ALL', 'T', 'T', 'T', 'T', 'T', 'ILC_ALL', 'ILC_ALL', 'ILC_ALL', 'T', 'ILC_ALL', 'ILC_ALL', 'ILC_ALL', 'ILC_ALL', 'T', 'T', 'T', 'T', 'T', 'ILC_ALL', 'T', 'T', 'T', 'T', 'T', 'ILC_ALL', 'T', 'T', 'T', 'T', 'T', 'ILC_ALL', 'ILC_ALL', 'T', 'T', 'T', 'ILC_ALL', 'T', 'T', 'T', 'T', 'ILC_ALL', 'T', 'T', 'ILC_ALL', 'ILC_ALL', 'T', 'T', 'ILC_ALL', 'T', 'T', 'T', 'T', 'T', 'ILC_ALL', 'T', 'T', 'T', 'ILC_ALL', 'ILC_ALL', 'T', 'T', 'T', 'T', 'ILC_ALL', 'T', 'T', 'ILC_ALL', 'T', 'T', 'T', 'T', 'ILC_ALL', 'T', 'T', 'T', 'T', 'T', 'T', 'T', 'T', 'ILC_ALL', 'ILC_ALL', 'T', 'T', 'T', 'T', 'ILC_ALL', 'T', 'T', 'T', 'ILC_ALL', 'T', 'T', 'ILC_ALL', 'ILC_ALL', 'T', 'T', 'ILC_ALL', 'T', 'T', 'T', 'ILC_ALL', 'T', 'ILC_ALL', 'ILC_ALL', 'T', 'T', 'T', 'T', 'T', 'T', 'T', 'T', 'ILC_ALL', 'T', 'T', 'ILC_ALL', 'T', 'ILC_ALL', 'T', 'T', 'T', 'ILC_ALL', 'T', 'T', 'T', 'T', 'T', 'ILC_ALL', 'T', 'ILC_ALL', 'ILC_ALL', 'ILC_ALL', 'T', 'T', 'ILC_ALL', 'T', 'ILC_ALL', 'ILC_ALL', 'T', 'T', 'T', 'T', 'T', 'ILC_ALL', 'ILC_ALL', 'T', 'T', 'T', 'T', 'ILC_ALL', 'T', 'T', 'ILC_ALL', 'T', 'T', 'T', 'T', 'ILC_ALL', 'T', 'ILC_ALL', 'ILC_ALL', 'ILC_ALL', 'ILC_ALL', 'T', 'T', 'T', 'T', 'T', 'T', 'T', 'T', 'T', 'T', 'T', 'ILC_ALL', 'ILC_ALL', 'T', 'ILC_ALL', 'ILC_ALL', 'T', 'ILC_ALL', 'T', 'ILC_ALL', 'ILC_ALL', 'T', 'T', 'T', 'T', 'ILC_ALL', 'T', 'ILC_ALL', 'ILC_ALL', 'ILC_ALL', 'ILC_ALL', 'T', 'ILC_ALL', 'T', 'T', 'T', 'ILC_ALL', 'T', 'T', 'ILC_ALL', 'T', 'T', 'T', 'T', 'T', 'T', 'T', 'T', 'ILC_ALL', 'T', 'ILC_ALL', 'T', 'ILC_ALL', 'T', 'ILC_ALL', 'T', 'ILC_ALL', 'T', 'T', 'T', 'ILC_ALL', 'ILC_ALL', 'T', 'ILC_ALL', 'ILC_ALL', 'T', 'ILC_ALL', 'T', 'T', 'ILC_ALL', 'T', 'ILC_ALL', 'T', 'ILC_ALL', 'T', 'T', 'T', 'ILC_ALL', 'T', 'T', 'T', 'T', 'T', 'ILC_ALL', 'ILC_ALL', 'T', 'ILC_ALL', 'ILC_ALL', 'T', 'T', 'T', 'T', 'T', 'T', 'T', 'T', 'ILC_ALL', 'T', 'T', 'T', 'T', 'T', 'T', 'ILC_ALL', 'T', 'T', 'ILC_ALL', 'ILC_ALL', 'ILC_ALL', 'T', 'ILC_ALL', 'ILC_ALL', 'T', 'T', 'T', 'T', 'ILC_ALL', 'T', 'T', 'T', 'T', 'T', 'T', 'T', 'T', 'T', 'T', 'T', 'T', 'T', 'T', 'ILC_ALL', 'T', 'ILC_ALL', 'T', 'T', 'T', 'T', 'T', 'T', 'T', 'T', 'T', 'ILC_ALL', 'T', 'T', 'T', 'T', 'T', 'T', 'T', 'T', 'T', 'T', 'T', 'T', 'T', 'T', 'T', 'T', 'ILC_ALL', 'ILC_ALL', 'ILC_ALL', 'T', 'T', 'ILC_ALL', 'T', 'T', 'T', 'T', 'ILC_ALL', 'T', 'T', 'T', 'ILC_ALL', 'ILC_ALL', 'ILC_ALL', 'T', 'T', 'T', 'T', 'T', 'T', 'T', 'T', 'T', 'T', 'T', 'T', 'T', 'T', 'T', 'T', 'ILC_ALL', 'ILC_ALL', 'T', 'T', 'T', 'ILC_ALL', 'ILC_ALL', 'T', 'T', 'T', 'ILC_ALL', 'T', 'ILC_ALL', 'T', 'T', 'ILC_ALL', 'T', 'ILC_ALL', 'T', 'T', 'T', 'T', 'T', 'ILC_ALL', 'ILC_ALL', 'T', 'T', 'T', 'T', 'ILC_ALL', 'T', 'T', 'ILC_ALL', 'ILC_ALL', 'T', 'T', 'ILC_ALL', 'T', 'T', 'T', 'T', 'T', 'T', 'ILC_ALL', 'T', 'T', 'T', 'T', 'T', 'T', 'T', 'T', 'ILC_ALL', 'ILC_ALL', 'T', 'T', 'T', 'ILC_ALL', 'T', 'T', 'T', 'T', 'T', 'T', 'T', 'T', 'T', 'T', 'ILC_ALL', 'ILC_ALL', 'T', 'T', 'T', 'ILC_ALL', 'T', 'ILC_ALL', 'T', 'T', 'T', 'T', 'T', 'T', 'T', 'T', 'T', 'T', 'T', 'ILC_ALL', 'T', 'ILC_ALL', 'T', 'ILC_ALL', 'T', 'T', 'T', 'ILC_ALL', 'T', 'T', 'T', 'T', 'T', 'T', 'ILC_ALL', 'T', 'T', 'T', 'T', 'T', 'T', 'T', 'T', 'T', 'T', 'T', 'T', 'T', 'T', 'T', 'T', 'T', 'T', 'ILC_ALL', 'ILC_ALL', 'T', 'T', 'ILC_ALL', 'ILC_ALL', 'T', 'ILC_ALL', 'T', 'T', 'T', 'T', 'T', 'ILC_ALL', 'T', 'T', 'T', 'ILC_ALL', 'ILC_ALL', 'T', 'T', 'T', 'ILC_ALL', 'T', 'ILC_ALL', 'T', 'T', 'T', 'T', 'T', 'T', 'T', 'ILC_ALL', 'ILC_ALL', 'T', 'T', 'T', 'T', 'T', 'T', 'T', 'T', 'T', 'T', 'T', 'ILC_ALL', 'T', 'T', 'T', 'ILC_ALL', 'ILC_ALL', 'ILC_ALL', 'ILC_ALL', 'T', 'T', 'ILC_ALL', 'T', 'T', 'ILC_ALL', 'ILC_ALL', 'T', 'ILC_ALL', 'T', 'T', 'ILC_ALL', 'T', 'T', 'T', 'ILC_ALL', 'T', 'T', 'T', 'T', 'ILC_ALL', 'T', 'T', 'T', 'ILC_ALL', 'T', 'ILC_ALL', 'T', 'T', 'ILC_ALL', 'T', 'T', 'T', 'T', 'T', 'T', 'T', 'T', 'ILC_ALL', 'T', 'T', 'T', 'T', 'T', 'T', 'T', 'T', 'ILC_ALL', 'ILC_ALL', 'ILC_ALL', 'ILC_ALL', 'T', 'T', 'T', 'T', 'ILC_ALL', 'ILC_ALL', 'T', 'ILC_ALL', 'ILC_ALL', 'ILC_ALL', 'T', 'ILC_ALL', 'T', 'T', 'T', 'ILC_ALL', 'T', 'T', 'ILC_ALL', 'T', 'ILC_ALL', 'T', 'T', 'ILC_ALL', 'T', 'T', 'T', 'T', 'T', 'ILC_ALL', 'T', 'T', 'ILC_ALL', 'ILC_ALL', 'T', 'ILC_ALL', 'T', 'T', 'T', 'T', 'ILC_ALL', 'T', 'T', 'T', 'ILC_ALL', 'ILC_ALL', 'ILC_ALL', 'T', 'ILC_ALL', 'T', 'T', 'T', 'T', 'T', 'ILC_ALL', 'T', 'T', 'T', 'T', 'T', 'T', 'T', 'T', 'ILC_ALL', 'ILC_ALL', 'T', 'T', 'T', 'T', 'T', 'T', 'T', 'ILC_ALL', 'T', 'ILC_ALL', 'ILC_ALL', 'T', 'T', 'T', 'T', 'T', 'T', 'T', 'T', 'ILC_ALL', 'T', 'ILC_ALL', 'T', 'ILC_ALL', 'T', 'ILC_ALL', 'ILC_ALL', 'T', 'T', 'T', 'T', 'T', 'ILC_ALL', 'ILC_ALL', 'ILC_ALL', 'T', 'T', 'T', 'T', 'ILC_ALL', 'T', 'ILC_ALL', 'ILC_ALL', 'ILC_ALL', 'ILC_ALL', 'T', 'ILC_ALL', 'T', 'T', 'T', 'T', 'T', 'T', 'T', 'T', 'ILC_ALL', 'ILC_ALL', 'T', 'T', 'ILC_ALL', 'T', 'T', 'T', 'T', 'ILC_ALL', 'ILC_ALL', 'T', 'T', 'T', 'T', 'T', 'T', 'ILC_ALL', 'T', 'T', 'T', 'T', 'T', 'T', 'T', 'T', 'T', 'T', 'T', 'T', 'ILC_ALL', 'T', 'T', 'T', 'ILC_ALL', 'T', 'T', 'ILC_ALL', 'T', 'ILC_ALL', 'T', 'ILC_ALL', 'ILC_ALL', 'ILC_ALL', 'ILC_ALL', 'T', 'ILC_ALL', 'T', 'T', 'T', 'T', 'ILC_ALL', 'T', 'T', 'T', 'T', 'T', 'ILC_ALL', 'T', 'ILC_ALL', 'ILC_ALL', 'ILC_ALL', 'T', 'ILC_ALL', 'T', 'ILC_ALL', 'T', 'T', 'ILC_ALL', 'ILC_ALL', 'T', 'T', 'T', 'T', 'T', 'T', 'ILC_ALL', 'T', 'T', 'ILC_ALL', 'T', 'ILC_ALL', 'T', 'T', 'ILC_ALL', 'ILC_ALL', 'ILC_ALL', 'T', 'T', 'ILC_ALL', 'T', 'T', 'ILC_ALL', 'T', 'T', 'T', 'T', 'T', 'T', 'T', 'T', 'T', 'ILC_ALL', 'T', 'T', 'ILC_ALL', 'ILC_ALL', 'ILC_ALL', 'T', 'T', 'ILC_ALL', 'T', 'T', 'T', 'T', 'ILC_ALL', 'T', 'ILC_ALL', 'T', 'T', 'ILC_ALL', 'T', 'T', 'T', 'ILC_ALL', 'T', 'T', 'ILC_ALL', 'T', 'T', 'ILC_ALL', 'T', 'ILC_ALL', 'T', 'T', 'T', 'T', 'T', 'T', 'T', 'ILC_ALL', 'T', 'T', 'T', 'T', 'ILC_ALL', 'T', 'T', 'ILC_ALL', 'ILC_ALL', 'T', 'ILC_ALL', 'T', 'ILC_ALL', 'T', 'T', 'T', 'T', 'T', 'T', 'T', 'ILC_ALL', 'T', 'T', 'T', 'ILC_ALL', 'T', 'ILC_ALL', 'ILC_ALL', 'ILC_ALL', 'T', 'ILC_ALL', 'ILC_ALL', 'T', 'T', 'T', 'T', 'T', 'ILC_ALL', 'T', 'ILC_ALL', 'ILC_ALL', 'ILC_ALL', 'ILC_ALL', 'T', 'T', 'ILC_ALL', 'ILC_ALL', 'T', 'T', 'T', 'ILC_ALL', 'T', 'T', 'T', 'ILC_ALL', 'T', 'T', 'T', 'ILC_ALL', 'T', 'T', 'T', 'T', 'ILC_ALL', 'T', 'T', 'T', 'T', 'T', 'T', 'T', 'T', 'T', 'T', 'T', 'T', 'T', 'T', 'ILC_ALL', 'T', 'ILC_ALL', 'T', 'ILC_ALL', 'T', 'T', 'T', 'ILC_ALL', 'T', 'T', 'T', 'T', 'T', 'T', 'ILC_ALL', 'ILC_ALL', 'T', 'T', 'T', 'ILC_ALL', 'ILC_ALL', 'T', 'T', 'T', 'T']\n",
            "Epoch 1/50\n",
            "47/47 [==============================] - 1s 5ms/step - loss: 1.0096 - val_loss: 0.7590\n",
            "Epoch 2/50\n",
            "47/47 [==============================] - 0s 3ms/step - loss: 0.6042 - val_loss: 0.5265\n",
            "Epoch 3/50\n",
            "47/47 [==============================] - 0s 2ms/step - loss: 0.4466 - val_loss: 0.4131\n",
            "Epoch 4/50\n",
            "47/47 [==============================] - 0s 3ms/step - loss: 0.3618 - val_loss: 0.3417\n",
            "Epoch 5/50\n",
            "47/47 [==============================] - 0s 3ms/step - loss: 0.3067 - val_loss: 0.2918\n",
            "Epoch 6/50\n",
            "47/47 [==============================] - 0s 2ms/step - loss: 0.2678 - val_loss: 0.2557\n",
            "Epoch 7/50\n",
            "47/47 [==============================] - 0s 2ms/step - loss: 0.2389 - val_loss: 0.2288\n",
            "Epoch 8/50\n",
            "47/47 [==============================] - 0s 2ms/step - loss: 0.2168 - val_loss: 0.2080\n",
            "Epoch 9/50\n",
            "47/47 [==============================] - 0s 3ms/step - loss: 0.1996 - val_loss: 0.1913\n",
            "Epoch 10/50\n",
            "47/47 [==============================] - 0s 3ms/step - loss: 0.1857 - val_loss: 0.1778\n",
            "Epoch 11/50\n",
            "47/47 [==============================] - 0s 3ms/step - loss: 0.1743 - val_loss: 0.1667\n",
            "Epoch 12/50\n",
            "47/47 [==============================] - 0s 3ms/step - loss: 0.1648 - val_loss: 0.1575\n",
            "Epoch 13/50\n",
            "47/47 [==============================] - 0s 3ms/step - loss: 0.1571 - val_loss: 0.1498\n",
            "Epoch 14/50\n",
            "47/47 [==============================] - 0s 2ms/step - loss: 0.1504 - val_loss: 0.1433\n",
            "Epoch 15/50\n",
            "47/47 [==============================] - 0s 2ms/step - loss: 0.1447 - val_loss: 0.1378\n",
            "Epoch 16/50\n",
            "47/47 [==============================] - 0s 3ms/step - loss: 0.1400 - val_loss: 0.1328\n",
            "Epoch 17/50\n",
            "47/47 [==============================] - 0s 3ms/step - loss: 0.1357 - val_loss: 0.1288\n",
            "Epoch 18/50\n",
            "47/47 [==============================] - 0s 3ms/step - loss: 0.1320 - val_loss: 0.1251\n",
            "Epoch 19/50\n",
            "47/47 [==============================] - 0s 3ms/step - loss: 0.1287 - val_loss: 0.1218\n",
            "Epoch 20/50\n",
            "47/47 [==============================] - 0s 2ms/step - loss: 0.1259 - val_loss: 0.1189\n",
            "Epoch 21/50\n",
            "47/47 [==============================] - 0s 3ms/step - loss: 0.1233 - val_loss: 0.1164\n",
            "Epoch 22/50\n",
            "47/47 [==============================] - 0s 3ms/step - loss: 0.1210 - val_loss: 0.1142\n",
            "Epoch 23/50\n",
            "47/47 [==============================] - 0s 2ms/step - loss: 0.1189 - val_loss: 0.1122\n",
            "Epoch 24/50\n",
            "47/47 [==============================] - 0s 2ms/step - loss: 0.1171 - val_loss: 0.1105\n",
            "Epoch 25/50\n",
            "47/47 [==============================] - 0s 3ms/step - loss: 0.1154 - val_loss: 0.1087\n",
            "Epoch 26/50\n",
            "47/47 [==============================] - 0s 2ms/step - loss: 0.1139 - val_loss: 0.1073\n",
            "Epoch 27/50\n",
            "47/47 [==============================] - 0s 3ms/step - loss: 0.1125 - val_loss: 0.1059\n",
            "Epoch 28/50\n",
            "47/47 [==============================] - 0s 3ms/step - loss: 0.1112 - val_loss: 0.1046\n",
            "Epoch 29/50\n",
            "47/47 [==============================] - 0s 3ms/step - loss: 0.1101 - val_loss: 0.1036\n",
            "Epoch 30/50\n",
            "47/47 [==============================] - 0s 3ms/step - loss: 0.1090 - val_loss: 0.1025\n",
            "Epoch 31/50\n",
            "47/47 [==============================] - 0s 3ms/step - loss: 0.1080 - val_loss: 0.1015\n",
            "Epoch 32/50\n",
            "47/47 [==============================] - 0s 2ms/step - loss: 0.1071 - val_loss: 0.1006\n",
            "Epoch 33/50\n",
            "47/47 [==============================] - 0s 3ms/step - loss: 0.1062 - val_loss: 0.0998\n",
            "Epoch 34/50\n",
            "47/47 [==============================] - 0s 2ms/step - loss: 0.1054 - val_loss: 0.0990\n",
            "Epoch 35/50\n",
            "47/47 [==============================] - 0s 2ms/step - loss: 0.1047 - val_loss: 0.0982\n",
            "Epoch 36/50\n",
            "47/47 [==============================] - 0s 3ms/step - loss: 0.1039 - val_loss: 0.0976\n",
            "Epoch 37/50\n",
            "47/47 [==============================] - 0s 2ms/step - loss: 0.1033 - val_loss: 0.0969\n",
            "Epoch 38/50\n",
            "47/47 [==============================] - 0s 3ms/step - loss: 0.1026 - val_loss: 0.0962\n",
            "Epoch 39/50\n",
            "47/47 [==============================] - 0s 2ms/step - loss: 0.1020 - val_loss: 0.0958\n",
            "Epoch 40/50\n",
            "47/47 [==============================] - 0s 2ms/step - loss: 0.1015 - val_loss: 0.0952\n",
            "Epoch 41/50\n",
            "47/47 [==============================] - 0s 3ms/step - loss: 0.1009 - val_loss: 0.0947\n",
            "Epoch 42/50\n",
            "47/47 [==============================] - 0s 3ms/step - loss: 0.1004 - val_loss: 0.0942\n",
            "Epoch 43/50\n",
            "47/47 [==============================] - 0s 3ms/step - loss: 0.0999 - val_loss: 0.0938\n",
            "Epoch 44/50\n",
            "47/47 [==============================] - 0s 2ms/step - loss: 0.0994 - val_loss: 0.0933\n",
            "Epoch 45/50\n",
            "47/47 [==============================] - 0s 3ms/step - loss: 0.0990 - val_loss: 0.0929\n",
            "Epoch 46/50\n",
            "47/47 [==============================] - 0s 2ms/step - loss: 0.0985 - val_loss: 0.0925\n",
            "Epoch 47/50\n",
            "47/47 [==============================] - 0s 2ms/step - loss: 0.0981 - val_loss: 0.0921\n",
            "Epoch 48/50\n",
            "47/47 [==============================] - 0s 3ms/step - loss: 0.0977 - val_loss: 0.0917\n",
            "Epoch 49/50\n",
            "47/47 [==============================] - 0s 2ms/step - loss: 0.0973 - val_loss: 0.0914\n",
            "Epoch 50/50\n",
            "47/47 [==============================] - 0s 3ms/step - loss: 0.0969 - val_loss: 0.0910\n"
          ]
        }
      ]
    },
    {
      "cell_type": "code",
      "source": [
        "#print first level classifier model accuracy\n",
        "print(hc.graph.nodes['T_ILC']['memory'].training_acc)\n",
        "print(hc.graph.nodes['T_ILC']['memory'].test_acc)"
      ],
      "metadata": {
        "colab": {
          "base_uri": "https://localhost:8080/"
        },
        "id": "6Q5Yy5KrNtTp",
        "outputId": "89300b29-3dab-4f2b-9388-b1107e009c74"
      },
      "execution_count": 59,
      "outputs": [
        {
          "output_type": "stream",
          "name": "stdout",
          "text": [
            "0.9731604342581424\n",
            "0.9770946353224834\n"
          ]
        }
      ]
    },
    {
      "cell_type": "code",
      "source": [
        "hc.graph.nodes['T_ILC']['memory'].local_classifier.label_encoder.inverse_transform(hc.graph.nodes['T_ILC']['memory'].training_prediction_vec)"
      ],
      "metadata": {
        "colab": {
          "base_uri": "https://localhost:8080/"
        },
        "id": "zjVQ3DdXHD7q",
        "outputId": "aea9291a-04ee-4c1b-9466-540f484004e8"
      },
      "execution_count": 62,
      "outputs": [
        {
          "output_type": "execute_result",
          "data": {
            "text/plain": [
              "array(['T', 'T', 'T', ..., 'T', 'T', 'T'], dtype='<U7')"
            ]
          },
          "metadata": {},
          "execution_count": 62
        }
      ]
    },
    {
      "cell_type": "code",
      "source": [
        "#seperate output of first local classifier to local classifiers of child nodes\n",
        "hc.subset_pred_vec('T_ILC')"
      ],
      "metadata": {
        "id": "jtDy-HIaCB-S"
      },
      "execution_count": 63,
      "outputs": []
    },
    {
      "cell_type": "code",
      "source": [
        "hc.graph.nodes['TNK']['memory'].__dict__"
      ],
      "metadata": {
        "colab": {
          "base_uri": "https://localhost:8080/"
        },
        "id": "XsMW-iVFBr5G",
        "outputId": "4637b4a5-4d85-4201-dea4-24b0d7feed4f"
      },
      "execution_count": null,
      "outputs": [
        {
          "output_type": "execute_result",
          "data": {
            "text/plain": [
              "{'apriori_y_input_data_indices': (array([], dtype=int64),),\n",
              " 'classifier_class': None,\n",
              " 'local_classifier_params': [],\n",
              " 'test_acc': None,\n",
              " 'test_prediction_vec': None,\n",
              " 'training_acc': None,\n",
              " 'training_prediction_vec': None,\n",
              " 'x_input_data': array([[-0.8241001 , -0.44704255, -0.4074863 , ...,  1.5713328 ,\n",
              "         -1.546495  , -1.4017861 ],\n",
              "        [-1.9270294 , -0.00890738,  0.97932434, ..., -0.6752965 ,\n",
              "          0.28452635, -0.03110772],\n",
              "        [-0.67081773, -0.9181075 , -0.8583566 , ...,  2.500195  ,\n",
              "         -0.4206484 ,  1.1639605 ],\n",
              "        ...,\n",
              "        [-1.5681272 ,  1.3090951 ,  0.6303377 , ..., -1.2559723 ,\n",
              "          0.4473528 ,  0.57438225],\n",
              "        [ 0.01072386,  1.6088051 ,  1.7508733 , ..., -0.53124595,\n",
              "          1.1915506 , -1.2604463 ],\n",
              "        [-0.73548514, -0.02796707, -0.24904236, ...,  0.5823264 ,\n",
              "         -0.28247118, -0.26726872]], dtype=float32),\n",
              " 'y_input_data': array(['CD8 T', 'CD4 T', 'CD4 T', ..., 'CD4 T', 'B', 'CD4 T'],\n",
              "       dtype=object),\n",
              " 'y_input_grouped_labels': None}"
            ]
          },
          "metadata": {},
          "execution_count": 476
        }
      ]
    },
    {
      "cell_type": "code",
      "source": [
        "#zeigt input vektor bevor falsche zellen herausgeworfen wurden --> falsch zugeordnete Zellen zu sehen (hier Monozyten)\n",
        "hc.graph.nodes['TNK']['memory'].y_input_data[0:100]"
      ],
      "metadata": {
        "colab": {
          "base_uri": "https://localhost:8080/"
        },
        "id": "OSgxang3TOnx",
        "outputId": "e20825e0-e094-4e89-d951-8fa1c3ec0a43"
      },
      "execution_count": null,
      "outputs": [
        {
          "output_type": "execute_result",
          "data": {
            "text/plain": [
              "array(['CD8 T', 'CD4 T', 'CD4 T', 'CD4 T', 'CD8 T', 'CD8 T', 'CD4 T',\n",
              "       'CD4 T', 'CD8 T', 'CD4 T', 'CD4 T', 'CD4 T', 'CD4 T', 'CD4 T',\n",
              "       'NK', 'CD4 T', 'CD4 T', 'NK', 'CD8 T', 'CD4 T', 'NK', 'CD4 T',\n",
              "       'CD8 T', 'CD8 T', 'CD4 T', 'CD4 T', 'CD4 T', 'CD4 T', 'CD4 T',\n",
              "       'CD4 T', 'NK', 'NK', 'NK', 'CD4 T', 'CD4 T', 'CD4 T', 'CD4 T',\n",
              "       'CD4 T', 'NK', 'CD4 T', 'NK', 'CD4 T', 'CD4 T', 'CD4 T', 'CD4 T',\n",
              "       'CD4 T', 'CD4 T', 'CD4 T', 'CD4 T', 'CD4 T', 'CD4 T', 'CD8 T',\n",
              "       'CD4 T', 'CD4 T', 'CD4 T', 'CD4 T', 'CD4 T', 'CD4 T', 'CD8 T',\n",
              "       'CD8 T', 'CD4 T', 'CD4 T', 'CD4 T', 'CD4 T', 'CD4 T', 'NK',\n",
              "       'CD4 T', 'CD8 T', 'CD8 T', 'CD4 T', 'CD4 T', 'CD4 T', 'CD4 T',\n",
              "       'CD4 T', 'CD4 T', 'CD8 T', 'CD4 T', 'CD4 T', 'CD4 T', 'CD4 T',\n",
              "       'CD8 T', 'CD8 T', 'CD4 T', 'CD8 T', 'CD4 T', 'CD4 T', 'CD4 T',\n",
              "       'CD4 T', 'CD4 T', 'CD8 T', 'CD4 T', 'CD4 T', 'CD8 T', 'CD4 T',\n",
              "       'CD4 T', 'CD4 T', 'CD4 T', 'CD4 T', 'CD4 T', 'CD4 T'], dtype=object)"
            ]
          },
          "metadata": {},
          "execution_count": 479
        }
      ]
    },
    {
      "cell_type": "code",
      "source": [
        "#nun einmal alles für den tnk node \n",
        "#NN classifier initialisieren, hier noch unnötige Übergabe von input Daten, die er schon hat -> anders lösen, anderen Default, oder anderes initialisieren\n",
        "hc.init_node_memory_object('T', [hc.graph.nodes['T']['memory'].x_input_data, hc.graph.nodes['T']['memory'].y_input_data, Neural_Network])"
      ],
      "metadata": {
        "colab": {
          "base_uri": "https://localhost:8080/"
        },
        "id": "oopqt6s5PnBt",
        "outputId": "bf4998ad-0f85-4b3d-8774-14e60c410cfa"
      },
      "execution_count": 64,
      "outputs": [
        {
          "output_type": "stream",
          "name": "stdout",
          "text": [
            "Aus init_node_memory_object von Knoten T: output größe initialisiert als 3\n",
            "zu übergebene y_input daten: ['ab_T', 'ab_T', 'ab_T', 'ab_T', 'ab_T', 'ab_T', 'ab_T', 'ab_T', 'ab_T', 'ab_T', 'MAIT', 'ab_T', 'ab_T', 'ab_T', 'ab_T', 'ab_T', 'ab_T', 'ab_T', 'ab_T', 'ab_T', 'ab_T', 'ab_T', 'ab_T', 'ab_T', 'ab_T', 'ab_T', 'ab_T', 'ab_T', 'ab_T', 'ab_T', 'ab_T', 'ab_T', 'ab_T', 'ab_T', 'ab_T', 'MAIT', 'ab_T', 'ab_T', 'ab_T', 'ab_T', 'ab_T', 'ab_T', 'ab_T', 'ab_T', 'ab_T', 'MAIT', 'MAIT', 'ab_T', 'ab_T', 'ab_T', 'ab_T', 'MAIT', 'ab_T', 'ab_T', 'ab_T', 'ab_T', 'MAIT', 'ab_T', 'ab_T', 'ab_T', 'ab_T', 'ab_T', 'ab_T', 'ab_T', 'ab_T', 'ab_T', 'ab_T', 'ab_T', 'ab_T', 'ab_T', 'ab_T', 'ab_T', 'ab_T', 'ab_T', 'gd_T', 'ab_T', 'ab_T', 'ab_T', 'ab_T', 'ab_T', 'gd_T', 'ab_T', 'ab_T', 'ab_T', 'ab_T', 'ab_T', 'ab_T', 'ab_T', 'MAIT', 'ab_T', 'ab_T', 'MAIT', 'ab_T', 'ab_T', 'ab_T', 'ab_T', 'MAIT', 'ab_T', 'ab_T', 'ab_T', 'ab_T', 'ab_T', 'ab_T', 'ab_T', 'ab_T', 'ab_T', 'ab_T', 'MAIT', 'ab_T', 'ab_T', 'MAIT', 'ab_T', 'ab_T', 'ab_T', 'ab_T', 'ab_T', 'MAIT', 'ab_T', 'ab_T', 'ab_T', 'ab_T', 'ab_T', 'ab_T', 'ab_T', 'ab_T', 'ab_T', 'ab_T', 'ab_T', 'ab_T', 'MAIT', 'ab_T', 'ab_T', 'ab_T', 'ab_T', 'ab_T', 'ab_T', 'ab_T', 'ab_T', 'ab_T', 'ab_T', 'ab_T', 'ab_T', 'ab_T', 'ab_T', 'ab_T', 'ab_T', 'ab_T', 'ab_T', 'ab_T', 'ab_T', 'gd_T', 'ab_T', 'gd_T', 'ab_T', 'MAIT', 'ab_T', 'ab_T', 'gd_T', 'ab_T', 'gd_T', 'ab_T', 'ab_T', 'ab_T', 'ab_T', 'ab_T', 'ab_T', 'ab_T', 'ab_T', 'ab_T', 'ab_T', 'ab_T', 'ab_T', 'ab_T', 'ab_T', 'ab_T', 'ab_T', 'ab_T', 'ab_T', 'MAIT', 'ab_T', 'ab_T', 'ab_T', 'ab_T', 'ab_T', 'ab_T', 'ab_T', 'gd_T', 'ab_T', 'ab_T', 'ab_T', 'ab_T', 'ab_T', 'ab_T', 'ab_T', 'MAIT', 'ab_T', 'ab_T', 'ab_T', 'ab_T', 'MAIT', 'ab_T', 'MAIT', 'ab_T', 'ab_T', 'ab_T', 'ab_T', 'ab_T', 'ab_T', 'ab_T', 'ab_T', 'ab_T', 'ab_T', 'ab_T', 'ab_T', 'ab_T', 'MAIT', 'ab_T', 'gd_T', 'ab_T', 'ab_T', 'ab_T', 'ab_T', 'ab_T', 'MAIT', 'ab_T', 'ab_T', 'ab_T', 'ab_T', 'ab_T', 'MAIT', 'ab_T', 'ab_T', 'ab_T', 'ab_T', 'ab_T', 'ab_T', 'ab_T', 'ab_T', 'ab_T', 'ab_T', 'ab_T', 'ab_T', 'ab_T', 'ab_T', 'MAIT', 'ab_T', 'ab_T', 'ab_T', 'ab_T', 'ab_T', 'ab_T', 'ab_T', 'ab_T', 'ab_T', 'ab_T', 'MAIT', 'MAIT', 'ab_T', 'ab_T', 'ab_T', 'ab_T', 'ab_T', 'MAIT', 'ab_T', 'ab_T', 'ab_T', 'ab_T', 'ab_T', 'ab_T', 'ab_T', 'ab_T', 'ab_T', 'ab_T', 'ab_T', 'ab_T', 'ab_T', 'ab_T', 'ab_T', 'ab_T', 'ab_T', 'ab_T', 'ab_T', 'ab_T', 'ab_T', 'ab_T', 'MAIT', 'ab_T', 'ab_T', 'ab_T', 'ab_T', 'ab_T', 'ab_T', 'ab_T', 'ab_T', 'ab_T', 'ab_T', 'ab_T', 'ab_T', 'ab_T', 'ab_T', 'ab_T', 'ab_T', 'ab_T', 'ab_T', 'ab_T', 'ab_T', 'ab_T', 'ab_T', 'ab_T', 'ab_T', 'ab_T', 'ab_T', 'ab_T', 'ab_T', 'ab_T', 'ab_T', 'ab_T', 'gd_T', 'ab_T', 'ab_T', 'ab_T', 'ab_T', 'ab_T', 'ab_T', 'ab_T', 'ab_T', 'ab_T', 'ab_T', 'ab_T', 'ab_T', 'ab_T', 'ab_T', 'ab_T', 'MAIT', 'ab_T', 'MAIT', 'ab_T', 'ab_T', 'ab_T', 'MAIT', 'ab_T', 'gd_T', 'gd_T', 'ab_T', 'ab_T', 'ab_T', 'ab_T', 'ab_T', 'gd_T', 'ab_T', 'ab_T', 'ab_T', 'ab_T', 'ab_T', 'ab_T', 'ab_T', 'ab_T', 'ab_T', 'ab_T', 'ab_T', 'ab_T', 'ab_T', 'gd_T', 'ab_T', 'ab_T', 'ab_T', 'ab_T', 'MAIT', 'ab_T', 'ab_T', 'ab_T', 'ab_T', 'gd_T', 'ab_T', 'ab_T', 'ab_T', 'ab_T', 'ab_T', 'ab_T', 'MAIT', 'ab_T', 'ab_T', 'ab_T', 'ab_T', 'ab_T', 'ab_T', 'ab_T', 'ab_T', 'ab_T', 'ab_T', 'ab_T', 'ab_T', 'ab_T', 'ab_T', 'ab_T', 'ab_T', 'ab_T', 'ab_T', 'ab_T', 'ab_T', 'ab_T', 'ab_T', 'ab_T', 'ab_T', 'ab_T', 'ab_T', 'ab_T', 'ab_T', 'ab_T', 'ab_T', 'ab_T', 'ab_T', 'ab_T', 'ab_T', 'ab_T', 'ab_T', 'ab_T', 'ab_T', 'ab_T', 'ab_T', 'MAIT', 'ab_T', 'ab_T', 'ab_T', 'ab_T', 'ab_T', 'ab_T', 'ab_T', 'gd_T', 'ab_T', 'ab_T', 'ab_T', 'ab_T', 'ab_T', 'ab_T', 'ab_T', 'ab_T', 'ab_T', 'ab_T', 'ab_T', 'MAIT', 'ab_T', 'ab_T', 'ab_T', 'ab_T', 'ab_T', 'ab_T', 'ab_T', 'ab_T', 'ab_T', 'ab_T', 'ab_T', 'ab_T', 'ab_T', 'ab_T', 'ab_T', 'ab_T', 'ab_T', 'ab_T', 'ab_T', 'gd_T', 'ab_T', 'ab_T', 'gd_T', 'ab_T', 'ab_T', 'ab_T', 'ab_T', 'ab_T', 'ab_T', 'ab_T', 'ab_T', 'ab_T', 'ab_T', 'ab_T', 'ab_T', 'ab_T', 'ab_T', 'ab_T', 'ab_T', 'ab_T', 'ab_T', 'ab_T', 'ab_T', 'gd_T', 'MAIT', 'ab_T', 'ab_T', 'ab_T', 'ab_T', 'ab_T', 'ab_T', 'ab_T', 'ab_T', 'ab_T', 'ab_T', 'ab_T', 'ab_T', 'ab_T', 'ab_T', 'ab_T', 'ab_T', 'ab_T', 'ab_T', 'ab_T', 'ab_T', 'ab_T', 'ab_T', 'ab_T', 'ab_T', 'ab_T', 'ab_T', 'ab_T', 'ab_T', 'ab_T', 'ab_T', 'ab_T', 'ab_T', 'ab_T', 'ab_T', 'ab_T', 'ab_T', 'ab_T', 'ab_T', 'ab_T', 'ab_T', 'ab_T', 'ab_T', 'ab_T', 'ab_T', 'ab_T', 'ab_T', 'ab_T', 'ab_T', 'ab_T', 'ab_T', 'ab_T', 'ab_T', 'ab_T', 'ab_T', 'gd_T', 'ab_T', 'ab_T', 'ab_T', 'ab_T', 'ab_T', 'ab_T', 'ab_T', 'MAIT', 'ab_T', 'ab_T', 'gd_T', 'ab_T', 'ab_T', 'ab_T', 'ab_T', 'ab_T', 'ab_T', 'MAIT', 'ab_T', 'ab_T', 'ab_T', 'ab_T', 'ab_T', 'ab_T', 'ab_T', 'ab_T', 'ab_T', 'ab_T', 'ab_T', 'ab_T', 'ab_T', 'ab_T', 'ab_T', 'ab_T', 'ab_T', 'ab_T', 'ab_T', 'ab_T', 'ab_T', 'ab_T', 'ab_T', 'ab_T', 'ab_T', 'ab_T', 'ab_T', 'ab_T', 'ab_T', 'ab_T', 'ab_T', 'ab_T', 'ab_T', 'ab_T', 'ab_T', 'MAIT', 'ab_T', 'ab_T', 'ab_T', 'ab_T', 'ab_T', 'gd_T', 'ab_T', 'gd_T', 'ab_T', 'ab_T', 'ab_T', 'ab_T', 'ab_T', 'ab_T', 'ab_T', 'ab_T', 'ab_T', 'MAIT', 'ab_T', 'ab_T', 'ab_T', 'ab_T', 'ab_T', 'ab_T', 'ab_T', 'ab_T', 'gd_T', 'ab_T', 'ab_T', 'ab_T', 'ab_T', 'ab_T', 'ab_T', 'ab_T', 'ab_T', 'ab_T', 'ab_T', 'ab_T', 'ab_T', 'ab_T', 'ab_T', 'ab_T', 'ab_T', 'ab_T', 'ab_T', 'ab_T', 'MAIT', 'ab_T', 'ab_T', 'ab_T', 'ab_T', 'ab_T', 'ab_T', 'ab_T', 'ab_T', 'ab_T', 'ab_T', 'ab_T', 'ab_T', 'ab_T', 'ab_T', 'ab_T', 'ab_T', 'ab_T', 'ab_T', 'MAIT', 'ab_T', 'ab_T', 'ab_T', 'gd_T', 'ab_T', 'ab_T', 'ab_T', 'ab_T', 'ab_T', 'ab_T', 'ab_T', 'ab_T', 'ab_T', 'ab_T', 'ab_T', 'ab_T', 'ab_T', 'MAIT', 'ab_T', 'ab_T', 'ab_T', 'gd_T', 'ab_T', 'ab_T', 'ab_T', 'ab_T', 'ab_T', 'ab_T', 'ab_T', 'ab_T', 'ab_T', 'MAIT', 'MAIT', 'ab_T', 'ab_T', 'ab_T', 'ab_T', 'ab_T', 'ab_T', 'ab_T', 'ab_T', 'ab_T', 'ab_T', 'ab_T', 'ab_T', 'gd_T', 'ab_T', 'ab_T', 'ab_T', 'ab_T', 'ab_T', 'ab_T', 'ab_T', 'ab_T', 'ab_T', 'MAIT', 'ab_T', 'ab_T', 'ab_T', 'ab_T', 'ab_T', 'ab_T', 'ab_T', 'gd_T', 'ab_T', 'ab_T', 'ab_T', 'ab_T', 'ab_T', 'ab_T', 'ab_T', 'ab_T', 'ab_T', 'ab_T', 'ab_T', 'ab_T', 'ab_T', 'ab_T', 'ab_T', 'MAIT', 'ab_T', 'ab_T', 'ab_T', 'ab_T', 'ab_T', 'ab_T', 'ab_T', 'ab_T', 'ab_T', 'ab_T', 'ab_T', 'ab_T', 'ab_T', 'ab_T', 'ab_T', 'ab_T', 'ab_T', 'ab_T', 'ab_T', 'ab_T', 'ab_T', 'ab_T', 'ab_T', 'ab_T', 'gd_T', 'ab_T', 'ab_T', 'ab_T', 'MAIT', 'ab_T', 'ab_T', 'ab_T', 'ab_T', 'ab_T', 'ab_T', 'ab_T', 'ab_T', 'ab_T', 'ab_T', 'ab_T', 'ab_T', 'ab_T', 'ab_T', 'gd_T', 'ab_T', 'ab_T', 'ab_T', 'ab_T', 'ab_T', 'ab_T', 'ab_T', 'ab_T', 'ab_T', 'ab_T', 'ab_T', 'gd_T', 'ab_T', 'ab_T', 'ab_T', 'ab_T', 'ab_T', 'ab_T', 'ab_T', 'ab_T', 'ab_T', 'ab_T', 'ab_T', 'ab_T', 'ab_T', 'gd_T', 'ab_T', 'ab_T', 'ab_T', 'ab_T', 'ab_T', 'MAIT', 'ab_T', 'ab_T', 'ab_T', 'ab_T', 'ab_T', 'ab_T', 'ab_T', 'ab_T', 'ab_T', 'ab_T', 'ab_T', 'ab_T', 'ab_T', 'MAIT', 'ab_T', 'ab_T', 'ab_T', 'ab_T', 'ab_T', 'ab_T', 'ab_T', 'ab_T', 'ab_T', 'ab_T', 'ab_T', 'ab_T', 'ab_T', 'ab_T', 'ab_T', 'MAIT', 'ab_T', 'ab_T', 'ab_T', 'ab_T', 'ab_T', 'ab_T', 'ab_T', 'ab_T', 'ab_T', 'ab_T', 'ab_T', 'ab_T', 'ab_T', 'ab_T', 'ab_T', 'ab_T', 'ab_T', 'ab_T', 'ab_T', 'ab_T', 'ab_T', 'ab_T', 'ab_T', 'ab_T', 'ab_T', 'ab_T', 'ab_T', 'ab_T', 'ab_T', 'MAIT', 'ab_T', 'ab_T', 'ab_T', 'ab_T', 'ab_T', 'ab_T', 'ab_T', 'ab_T', 'ab_T', 'ab_T', 'MAIT', 'gd_T', 'ab_T', 'ab_T', 'ab_T', 'ab_T', 'ab_T', 'ab_T', 'ab_T', 'ab_T', 'ab_T', 'ab_T', 'ab_T', 'ab_T', 'ab_T', 'ab_T', 'ab_T', 'ab_T', 'ab_T', 'MAIT', 'ab_T', 'ab_T', 'ab_T', 'ab_T', 'ab_T', 'ab_T', 'ab_T', 'ab_T', 'ab_T', 'ab_T', 'ab_T', 'ab_T', 'MAIT', 'MAIT', 'ab_T', 'ab_T', 'ab_T', 'ab_T', 'ab_T', 'ab_T', 'ab_T', 'ab_T', 'ab_T', 'ab_T', 'ab_T', 'MAIT', 'ab_T', 'ab_T', 'ab_T', 'ab_T', 'ab_T', 'ab_T', 'ab_T', 'ab_T', 'ab_T', 'ab_T', 'MAIT', 'ab_T', 'ab_T', 'ab_T', 'ab_T', 'ab_T', 'ab_T', 'ab_T', 'ab_T', 'ab_T', 'ab_T', 'ab_T', 'ab_T', 'ab_T', 'ab_T', 'ab_T', 'ab_T', 'ab_T', 'ab_T', 'ab_T', 'ab_T', 'ab_T', 'ab_T', 'ab_T', 'ab_T', 'ab_T', 'ab_T', 'ab_T', 'gd_T', 'ab_T', 'ab_T', 'gd_T', 'ab_T', 'ab_T', 'ab_T', 'ab_T', 'ab_T', 'ab_T', 'ab_T', 'ab_T', 'ab_T', 'ab_T', 'ab_T', 'ab_T', 'ab_T', 'ab_T', 'ab_T', 'ab_T', 'ab_T', 'ab_T', 'ab_T', 'ab_T', 'ab_T', 'ab_T', 'ab_T', 'ab_T', 'ab_T', 'gd_T', 'ab_T', 'ab_T', 'ab_T', 'ab_T', 'ab_T', 'MAIT', 'ab_T', 'ab_T', 'ab_T', 'ab_T', 'ab_T', 'gd_T', 'ab_T', 'ab_T', 'MAIT', 'ab_T', 'ab_T', 'ab_T', 'ab_T', 'ab_T', 'ab_T', 'ab_T', 'ab_T', 'gd_T', 'ab_T', 'ab_T', 'ab_T', 'ab_T', 'ab_T', 'ab_T', 'ab_T', 'ab_T', 'ab_T', 'ab_T', 'ab_T', 'ab_T', 'ab_T', 'ab_T', 'ab_T', 'ab_T', 'ab_T', 'ab_T', 'ab_T', 'ab_T', 'MAIT', 'ab_T', 'ab_T', 'ab_T', 'ab_T', 'ab_T', 'ab_T', 'ab_T', 'MAIT', 'ab_T', 'ab_T', 'ab_T', 'ab_T', 'ab_T', 'ab_T', 'ab_T', 'MAIT', 'ab_T', 'ab_T', 'ab_T', 'ab_T', 'ab_T', 'ab_T', 'ab_T', 'ab_T', 'MAIT', 'ab_T', 'ab_T', 'ab_T', 'ab_T', 'ab_T', 'ab_T', 'ab_T', 'MAIT', 'ab_T', 'ab_T', 'ab_T', 'ab_T', 'ab_T', 'ab_T', 'ab_T', 'MAIT', 'ab_T', 'ab_T', 'ab_T', 'ab_T', 'gd_T', 'ab_T', 'ab_T', 'ab_T', 'ab_T', 'ab_T', 'ab_T', 'ab_T', 'ab_T', 'ab_T', 'ab_T', 'ab_T', 'ab_T', 'ab_T', 'ab_T', 'ab_T', 'ab_T', 'ab_T', 'gd_T', 'ab_T', 'ab_T', 'ab_T', 'ab_T', 'MAIT', 'ab_T', 'ab_T', 'ab_T', 'ab_T', 'ab_T', 'MAIT', 'ab_T', 'ab_T', 'ab_T', 'ab_T', 'ab_T', 'ab_T', 'ab_T', 'ab_T', 'ab_T', 'ab_T', 'ab_T', 'ab_T', 'ab_T', 'ab_T', 'ab_T', 'ab_T', 'ab_T', 'ab_T', 'ab_T', 'ab_T', 'gd_T', 'ab_T', 'MAIT', 'ab_T', 'ab_T', 'ab_T', 'ab_T', 'ab_T', 'ab_T', 'ab_T', 'ab_T', 'ab_T', 'ab_T', 'MAIT', 'ab_T', 'MAIT', 'ab_T', 'ab_T', 'ab_T', 'MAIT', 'ab_T', 'ab_T', 'ab_T', 'ab_T', 'ab_T', 'MAIT', 'ab_T', 'ab_T', 'ab_T', 'ab_T', 'ab_T', 'ab_T', 'ab_T', 'ab_T', 'gd_T', 'ab_T', 'ab_T', 'gd_T', 'ab_T', 'ab_T', 'ab_T', 'ab_T', 'MAIT', 'ab_T', 'ab_T', 'ab_T', 'MAIT', 'ab_T', 'gd_T', 'ab_T', 'MAIT', 'ab_T', 'ab_T', 'ab_T', 'ab_T', 'ab_T', 'ab_T', 'ab_T', 'gd_T', 'ab_T', 'ab_T', 'ab_T', 'ab_T', 'ab_T', 'ab_T', 'ab_T', 'ab_T', 'ab_T', 'ab_T', 'ab_T', 'ab_T', 'ab_T', 'MAIT', 'MAIT', 'ab_T', 'ab_T', 'ab_T', 'ab_T', 'ab_T', 'ab_T', 'MAIT', 'ab_T', 'ab_T', 'ab_T', 'ab_T', 'ab_T', 'ab_T', 'ab_T', 'ab_T', 'ab_T', 'ab_T', 'ab_T', 'MAIT', 'ab_T', 'ab_T', 'ab_T', 'ab_T', 'ab_T', 'ab_T', 'ab_T', 'ab_T', 'ab_T', 'ab_T', 'ab_T', 'ab_T', 'ab_T', 'ab_T', 'MAIT', 'MAIT', 'ab_T', 'ab_T', 'ab_T', 'ab_T', 'ab_T', 'ab_T', 'ab_T', 'ab_T', 'ab_T', 'ab_T', 'ab_T', 'ab_T', 'ab_T', 'MAIT', 'ab_T', 'ab_T', 'ab_T', 'ab_T', 'ab_T', 'ab_T', 'ab_T', 'ab_T', 'ab_T', 'MAIT', 'ab_T', 'ab_T', 'ab_T', 'ab_T', 'ab_T', 'ab_T', 'ab_T', 'ab_T', 'ab_T', 'gd_T', 'ab_T', 'ab_T', 'ab_T', 'ab_T', 'ab_T', 'ab_T', 'ab_T', 'ab_T', 'ab_T', 'ab_T', 'ab_T', 'ab_T', 'ab_T', 'ab_T', 'ab_T', 'ab_T', 'ab_T', 'ab_T', 'ab_T', 'ab_T', 'ab_T', 'ab_T', 'ab_T', 'ab_T', 'ab_T', 'ab_T', 'ab_T', 'ab_T', 'ab_T', 'ab_T', 'ab_T', 'ab_T', 'ab_T', 'ab_T', 'ab_T', 'MAIT', 'ab_T', 'ab_T', 'ab_T', 'ab_T', 'ab_T', 'ab_T', 'ab_T', 'ab_T', 'ab_T', 'ab_T', 'ab_T', 'ab_T', 'ab_T', 'ab_T', 'ab_T', 'ab_T', 'ab_T', 'ab_T', 'ab_T', 'ab_T', 'ab_T', 'MAIT', 'ab_T', 'ab_T', 'ab_T', 'ab_T', 'ab_T', 'ab_T', 'ab_T', 'MAIT', 'ab_T', 'ab_T', 'MAIT', 'ab_T', 'ab_T', 'ab_T', 'ab_T', 'ab_T', 'ab_T', 'ab_T', 'ab_T', 'ab_T', 'ab_T', 'MAIT', 'ab_T', 'ab_T', 'ab_T', 'ab_T', 'ab_T', 'ab_T', 'ab_T', 'ab_T', 'ab_T', 'ab_T', 'ab_T', 'ab_T', 'ab_T', 'ab_T', 'MAIT', 'gd_T', 'gd_T', 'ab_T', 'ab_T', 'ab_T', 'ab_T', 'ab_T', 'ab_T', 'ab_T', 'ab_T', 'ab_T', 'ab_T', 'ab_T', 'ab_T', 'ab_T', 'gd_T', 'ab_T', 'ab_T', 'ab_T', 'ab_T', 'ab_T', 'ab_T', 'MAIT', 'ab_T', 'ab_T', 'gd_T', 'ab_T', 'ab_T', 'MAIT', 'ab_T', 'ab_T', 'ab_T', 'ab_T', 'ab_T', 'ab_T', 'ab_T', 'ab_T', 'ab_T', 'ab_T', 'ab_T', 'ab_T', 'ab_T', 'ab_T', 'ab_T', 'ab_T', 'ab_T', 'ab_T', 'ab_T', 'ab_T', 'ab_T', 'ab_T', 'ab_T', 'ab_T', 'ab_T', 'ab_T', 'ab_T', 'ab_T', 'ab_T', 'ab_T', 'ab_T', 'ab_T', 'ab_T', 'ab_T', 'ab_T', 'ab_T', 'ab_T', 'ab_T', 'ab_T', 'ab_T', 'ab_T', 'ab_T', 'ab_T', 'ab_T', 'ab_T', 'ab_T', 'ab_T', 'ab_T', 'ab_T', 'ab_T', 'ab_T', 'ab_T', 'ab_T', 'ab_T', 'ab_T', 'ab_T', 'ab_T', 'ab_T', 'ab_T', 'ab_T', 'ab_T', 'ab_T', 'ab_T', 'ab_T', 'ab_T', 'ab_T', 'ab_T', 'MAIT', 'ab_T', 'ab_T', 'ab_T', 'ab_T', 'ab_T', 'ab_T', 'ab_T', 'ab_T', 'ab_T', 'ab_T', 'ab_T', 'ab_T', 'ab_T', 'ab_T', 'ab_T', 'ab_T', 'ab_T', 'ab_T', 'MAIT', 'ab_T', 'ab_T', 'ab_T', 'ab_T', 'ab_T', 'ab_T', 'ab_T', 'ab_T', 'ab_T', 'ab_T', 'gd_T', 'ab_T', 'ab_T', 'ab_T', 'ab_T', 'ab_T', 'ab_T', 'ab_T', 'ab_T', 'ab_T', 'ab_T', 'ab_T', 'ab_T', 'ab_T', 'ab_T', 'ab_T', 'MAIT', 'ab_T', 'gd_T', 'ab_T', 'ab_T', 'MAIT', 'MAIT', 'gd_T', 'ab_T', 'ab_T', 'ab_T', 'MAIT', 'ab_T', 'ab_T', 'ab_T', 'ab_T', 'ab_T', 'ab_T', 'ab_T', 'ab_T', 'ab_T', 'ab_T', 'ab_T', 'ab_T', 'ab_T', 'ab_T', 'ab_T', 'ab_T', 'ab_T', 'ab_T', 'ab_T', 'ab_T', 'ab_T', 'ab_T', 'ab_T', 'ab_T', 'ab_T', 'gd_T', 'ab_T', 'ab_T', 'ab_T', 'ab_T', 'ab_T', 'ab_T', 'ab_T', 'ab_T', 'ab_T', 'ab_T', 'ab_T', 'ab_T', 'ab_T', 'ab_T', 'ab_T', 'ab_T', 'ab_T', 'ab_T', 'ab_T', 'MAIT', 'MAIT', 'ab_T', 'ab_T', 'ab_T', 'ab_T', 'ab_T', 'ab_T', 'ab_T', 'ab_T', 'ab_T', 'ab_T', 'ab_T', 'ab_T', 'ab_T', 'ab_T', 'ab_T', 'ab_T', 'ab_T', 'ab_T', 'ab_T', 'ab_T', 'MAIT', 'ab_T', 'ab_T', 'ab_T', 'ab_T', 'gd_T', 'ab_T', 'ab_T', 'ab_T', 'ab_T', 'ab_T', 'ab_T', 'ab_T', 'gd_T', 'ab_T', 'ab_T', 'ab_T', 'ab_T', 'ab_T', 'ab_T', 'ab_T', 'ab_T', 'ab_T', 'ab_T', 'ab_T', 'ab_T', 'ab_T', 'ab_T', 'ab_T', 'ab_T', 'MAIT', 'ab_T', 'ab_T', 'MAIT', 'ab_T', 'MAIT', 'ab_T', 'ab_T', 'gd_T', 'gd_T', 'ab_T', 'ab_T', 'ab_T', 'ab_T', 'ab_T', 'ab_T', 'ab_T', 'ab_T', 'ab_T', 'ab_T', 'ab_T', 'MAIT', 'ab_T', 'ab_T', 'MAIT', 'ab_T', 'ab_T', 'ab_T', 'ab_T', 'ab_T', 'ab_T', 'ab_T', 'ab_T', 'ab_T', 'MAIT', 'gd_T', 'ab_T', 'ab_T', 'ab_T', 'ab_T', 'MAIT', 'ab_T', 'ab_T', 'MAIT', 'ab_T', 'ab_T', 'ab_T', 'ab_T', 'ab_T', 'MAIT', 'ab_T', 'ab_T', 'ab_T', 'ab_T', 'ab_T', 'ab_T', 'ab_T', 'ab_T', 'ab_T', 'ab_T', 'ab_T', 'ab_T', 'MAIT', 'ab_T', 'ab_T', 'ab_T', 'ab_T', 'ab_T', 'ab_T', 'ab_T', 'ab_T', 'ab_T', 'ab_T', 'ab_T', 'ab_T', 'ab_T', 'ab_T', 'MAIT', 'ab_T', 'ab_T', 'ab_T', 'MAIT', 'MAIT', 'gd_T', 'ab_T', 'ab_T', 'gd_T', 'ab_T', 'ab_T', 'ab_T', 'ab_T', 'ab_T', 'ab_T', 'ab_T', 'ab_T', 'ab_T', 'ab_T', 'ab_T', 'ab_T', 'ab_T', 'ab_T', 'ab_T', 'ab_T', 'ab_T', 'gd_T', 'ab_T', 'ab_T', 'ab_T', 'ab_T', 'ab_T', 'ab_T', 'ab_T', 'ab_T', 'ab_T', 'ab_T', 'ab_T', 'ab_T', 'ab_T', 'ab_T', 'ab_T', 'ab_T', 'gd_T', 'ab_T', 'ab_T', 'ab_T', 'ab_T', 'gd_T', 'ab_T', 'gd_T', 'ab_T', 'ab_T', 'ab_T', 'MAIT', 'ab_T', 'ab_T', 'MAIT', 'ab_T', 'ab_T', 'ab_T', 'ab_T', 'ab_T', 'ab_T', 'ab_T', 'ab_T', 'ab_T', 'ab_T', 'ab_T', 'ab_T', 'ab_T', 'ab_T', 'ab_T', 'ab_T', 'ab_T', 'ab_T', 'MAIT', 'gd_T', 'ab_T', 'ab_T', 'ab_T', 'ab_T', 'ab_T', 'ab_T', 'MAIT', 'ab_T', 'ab_T', 'ab_T', 'ab_T', 'ab_T', 'ab_T', 'ab_T', 'ab_T', 'ab_T', 'ab_T', 'ab_T', 'ab_T', 'gd_T', 'gd_T', 'ab_T', 'gd_T', 'ab_T', 'ab_T', 'ab_T', 'ab_T', 'ab_T', 'ab_T', 'ab_T', 'MAIT', 'ab_T', 'ab_T', 'ab_T', 'ab_T', 'ab_T', 'ab_T', 'ab_T', 'ab_T', 'gd_T', 'ab_T', 'ab_T', 'ab_T', 'ab_T', 'ab_T', 'ab_T', 'ab_T', 'ab_T', 'ab_T', 'ab_T', 'ab_T', 'ab_T', 'ab_T', 'MAIT', 'MAIT', 'ab_T', 'ab_T', 'ab_T', 'ab_T', 'ab_T', 'ab_T', 'MAIT', 'ab_T', 'ab_T', 'ab_T', 'ab_T', 'ab_T', 'ab_T', 'ab_T', 'ab_T', 'ab_T', 'ab_T', 'ab_T', 'ab_T', 'gd_T', 'ab_T', 'ab_T', 'ab_T', 'ab_T', 'ab_T', 'ab_T', 'MAIT', 'ab_T', 'ab_T', 'MAIT', 'ab_T', 'ab_T', 'ab_T', 'ab_T', 'ab_T', 'ab_T', 'ab_T', 'ab_T', 'ab_T', 'ab_T', 'ab_T', 'ab_T', 'ab_T', 'ab_T', 'ab_T', 'ab_T', 'ab_T', 'ab_T', 'ab_T', 'ab_T', 'ab_T', 'ab_T', 'ab_T', 'ab_T', 'ab_T', 'ab_T', 'ab_T', 'ab_T', 'ab_T', 'ab_T', 'ab_T', 'ab_T', 'ab_T', 'ab_T', 'ab_T', 'ab_T', 'ab_T', 'ab_T', 'ab_T', 'ab_T', 'ab_T', 'ab_T', 'MAIT', 'ab_T', 'ab_T', 'MAIT', 'gd_T', 'ab_T', 'ab_T', 'ab_T', 'ab_T', 'ab_T', 'gd_T', 'ab_T', 'ab_T', 'ab_T', 'ab_T', 'ab_T', 'ab_T', 'ab_T', 'ab_T', 'ab_T', 'ab_T', 'ab_T', 'ab_T', 'ab_T', 'ab_T', 'ab_T', 'MAIT', 'ab_T', 'ab_T', 'ab_T', 'ab_T', 'ab_T', 'ab_T', 'ab_T', 'ab_T', 'ab_T', 'ab_T', 'ab_T', 'ab_T', 'ab_T', 'ab_T', 'ab_T', 'ab_T', 'ab_T', 'ab_T', 'MAIT', 'ab_T', 'ab_T', 'ab_T', 'ab_T', 'ab_T', 'ab_T', 'ab_T', 'ab_T', 'ab_T', 'ab_T', 'ab_T', 'ab_T', 'ab_T', 'ab_T', 'ab_T', 'ab_T', 'ab_T', 'ab_T', 'ab_T', 'ab_T', 'ab_T', 'ab_T', 'ab_T', 'ab_T', 'ab_T', 'ab_T', 'ab_T', 'ab_T', 'ab_T', 'ab_T', 'ab_T', 'MAIT', 'ab_T', 'ab_T', 'ab_T', 'ab_T', 'ab_T', 'ab_T', 'ab_T', 'MAIT', 'ab_T', 'gd_T', 'ab_T', 'ab_T', 'ab_T', 'ab_T', 'ab_T', 'ab_T', 'ab_T', 'ab_T', 'ab_T', 'gd_T', 'gd_T', 'ab_T', 'ab_T', 'ab_T', 'ab_T', 'ab_T', 'ab_T', 'ab_T', 'ab_T', 'MAIT', 'ab_T', 'ab_T', 'ab_T', 'ab_T', 'ab_T', 'MAIT', 'ab_T', 'ab_T', 'ab_T', 'ab_T', 'ab_T', 'ab_T', 'ab_T', 'ab_T', 'ab_T', 'ab_T', 'ab_T', 'ab_T', 'ab_T', 'ab_T', 'ab_T', 'ab_T', 'MAIT', 'ab_T', 'ab_T', 'ab_T', 'ab_T', 'ab_T', 'ab_T', 'gd_T', 'ab_T', 'ab_T', 'ab_T', 'ab_T', 'ab_T', 'ab_T', 'ab_T', 'ab_T', 'ab_T', 'MAIT', 'ab_T', 'ab_T', 'ab_T', 'ab_T', 'ab_T', 'ab_T', 'ab_T', 'ab_T', 'ab_T', 'ab_T', 'ab_T', 'ab_T', 'ab_T', 'ab_T', 'ab_T', 'ab_T', 'ab_T', 'ab_T', 'ab_T', 'ab_T', 'ab_T', 'MAIT', 'ab_T', 'MAIT', 'gd_T', 'ab_T', 'ab_T', 'ab_T', 'ab_T', 'ab_T', 'ab_T', 'ab_T', 'ab_T', 'ab_T', 'gd_T', 'MAIT', 'ab_T', 'ab_T', 'ab_T', 'ab_T', 'ab_T', 'ab_T', 'ab_T', 'ab_T', 'ab_T', 'ab_T', 'ab_T', 'ab_T', 'ab_T', 'ab_T', 'ab_T', 'ab_T', 'ab_T', 'ab_T', 'ab_T', 'ab_T', 'ab_T', 'ab_T', 'ab_T', 'ab_T', 'ab_T', 'ab_T', 'MAIT', 'ab_T', 'ab_T', 'ab_T', 'ab_T', 'ab_T', 'ab_T', 'ab_T', 'ab_T', 'ab_T', 'ab_T', 'ab_T', 'ab_T', 'ab_T', 'ab_T', 'MAIT', 'ab_T', 'ab_T', 'ab_T', 'ab_T', 'ab_T', 'ab_T', 'ab_T', 'ab_T', 'ab_T', 'ab_T', 'ab_T', 'ab_T', 'ab_T', 'ab_T', 'ab_T', 'ab_T', 'gd_T', 'ab_T', 'MAIT', 'ab_T', 'ab_T', 'ab_T', 'gd_T', 'ab_T', 'ab_T', 'gd_T', 'ab_T', 'ab_T', 'ab_T', 'ab_T', 'ab_T', 'ab_T', 'ab_T', 'ab_T', 'ab_T', 'ab_T', 'ab_T', 'ab_T', 'ab_T', 'ab_T', 'ab_T', 'ab_T', 'ab_T', 'ab_T', 'ab_T', 'ab_T', 'ab_T', 'ab_T', 'ab_T', 'ab_T', 'ab_T', 'ab_T', 'ab_T', 'ab_T', 'ab_T', 'ab_T', 'ab_T', 'ab_T', 'gd_T', 'MAIT', 'ab_T', 'ab_T', 'ab_T', 'ab_T', 'ab_T', 'ab_T', 'ab_T', 'ab_T', 'ab_T', 'ab_T', 'ab_T', 'ab_T', 'MAIT', 'ab_T', 'MAIT', 'ab_T', 'MAIT', 'ab_T', 'ab_T', 'ab_T', 'ab_T', 'ab_T', 'ab_T', 'ab_T', 'ab_T', 'ab_T', 'ab_T', 'ab_T', 'ab_T', 'ab_T', 'gd_T', 'MAIT', 'ab_T', 'ab_T', 'MAIT', 'ab_T', 'ab_T', 'ab_T', 'ab_T', 'MAIT', 'ab_T', 'ab_T', 'ab_T', 'ab_T', 'ab_T', 'ab_T', 'ab_T', 'ab_T', 'ab_T', 'ab_T', 'ab_T', 'ab_T', 'ab_T', 'ab_T', 'ab_T', 'ab_T', 'ab_T', 'ab_T', 'ab_T', 'ab_T', 'ab_T', 'ab_T', 'ab_T', 'ab_T', 'ab_T', 'ab_T', 'ab_T', 'ab_T', 'ab_T', 'ab_T', 'ab_T', 'ab_T', 'ab_T', 'ab_T', 'ab_T', 'ab_T', 'MAIT', 'ab_T', 'ab_T', 'ab_T', 'ab_T', 'ab_T', 'ab_T', 'ab_T', 'ab_T', 'ab_T', 'ab_T', 'ab_T', 'ab_T', 'ab_T', 'ab_T', 'ab_T', 'ab_T', 'ab_T', 'ab_T', 'ab_T', 'ab_T', 'ab_T', 'ab_T', 'ab_T', 'ab_T', 'ab_T', 'ab_T', 'ab_T', 'ab_T', 'ab_T', 'ab_T', 'MAIT', 'ab_T', 'ab_T', 'MAIT', 'MAIT', 'ab_T', 'ab_T', 'ab_T', 'ab_T', 'ab_T', 'ab_T', 'ab_T', 'ab_T', 'ab_T', 'ab_T', 'ab_T', 'ab_T', 'ab_T', 'ab_T', 'ab_T', 'ab_T', 'ab_T', 'ab_T', 'ab_T', 'ab_T', 'ab_T', 'ab_T', 'ab_T', 'ab_T', 'MAIT', 'ab_T', 'ab_T', 'ab_T', 'ab_T', 'ab_T', 'ab_T', 'ab_T', 'ab_T', 'ab_T', 'ab_T', 'ab_T', 'ab_T', 'ab_T', 'ab_T', 'ab_T', 'ab_T', 'ab_T', 'ab_T', 'ab_T', 'ab_T', 'ab_T', 'ab_T', 'ab_T', 'ab_T', 'ab_T', 'ab_T', 'ab_T', 'ab_T', 'ab_T', 'ab_T', 'ab_T', 'ab_T', 'ab_T', 'ab_T', 'MAIT', 'ab_T', 'ab_T', 'ab_T', 'ab_T', 'ab_T', 'MAIT', 'ab_T', 'ab_T', 'gd_T', 'ab_T', 'ab_T', 'ab_T', 'ab_T', 'ab_T', 'ab_T', 'ab_T', 'ab_T', 'MAIT', 'ab_T', 'ab_T', 'ab_T', 'ab_T', 'ab_T', 'ab_T', 'ab_T', 'ab_T', 'ab_T', 'ab_T', 'ab_T', 'ab_T', 'MAIT', 'ab_T', 'ab_T', 'ab_T', 'ab_T', 'MAIT', 'ab_T', 'ab_T', 'ab_T', 'ab_T', 'ab_T', 'ab_T', 'ab_T', 'ab_T', 'ab_T', 'ab_T', 'ab_T', 'ab_T', 'ab_T', 'ab_T', 'ab_T', 'ab_T', 'ab_T', 'MAIT', 'ab_T', 'ab_T', 'ab_T', 'ab_T', 'ab_T', 'ab_T', 'ab_T', 'ab_T', 'ab_T', 'ab_T', 'ab_T', 'MAIT', 'gd_T', 'ab_T', 'MAIT', 'ab_T', 'ab_T', 'ab_T', 'ab_T', 'ab_T', 'ab_T', 'ab_T', 'ab_T', 'ab_T', 'ab_T', 'ab_T', 'ab_T', 'ab_T', 'ab_T', 'ab_T', 'ab_T', 'ab_T', 'ab_T', 'ab_T', 'ab_T', 'ab_T', 'ab_T', 'ab_T', 'ab_T', 'ab_T', 'ab_T', 'ab_T', 'ab_T', 'ab_T', 'ab_T', 'ab_T', 'ab_T', 'ab_T', 'ab_T', 'ab_T', 'ab_T', 'ab_T', 'ab_T', 'ab_T', 'ab_T', 'ab_T', 'ab_T', 'ab_T', 'ab_T', 'ab_T', 'ab_T', 'ab_T', 'ab_T', 'ab_T', 'ab_T', 'ab_T', 'ab_T', 'ab_T', 'ab_T', 'ab_T', 'ab_T', 'ab_T', 'MAIT', 'ab_T', 'ab_T', 'ab_T', 'ab_T', 'ab_T', 'ab_T', 'ab_T', 'ab_T', 'ab_T', 'ab_T', 'ab_T', 'ab_T', 'ab_T', 'ab_T', 'ab_T', 'ab_T', 'ab_T', 'ab_T', 'ab_T', 'ab_T', 'ab_T', 'ab_T', 'ab_T', 'ab_T', 'ab_T', 'ab_T', 'ab_T', 'MAIT', 'ab_T', 'MAIT', 'ab_T', 'ab_T', 'ab_T', 'ab_T', 'ab_T', 'ab_T', 'ab_T', 'ab_T', 'ab_T', 'ab_T', 'ab_T', 'ab_T', 'ab_T', 'ab_T', 'ab_T', 'ab_T', 'ab_T', 'ab_T', 'ab_T', 'MAIT', 'ab_T', 'ab_T', 'ab_T', 'ab_T', 'ab_T', 'ab_T', 'ab_T', 'ab_T', 'ab_T', 'ab_T', 'ab_T', 'ab_T', 'ab_T', 'ab_T', 'ab_T', 'ab_T', 'ab_T', 'ab_T', 'ab_T', 'ab_T', 'ab_T', 'ab_T', 'ab_T', 'ab_T', 'ab_T', 'ab_T', 'ab_T', 'ab_T', 'ab_T', 'ab_T', 'ab_T', 'ab_T', 'ab_T', 'ab_T', 'ab_T', 'ab_T', 'ab_T', 'ab_T', 'ab_T', 'ab_T', 'ab_T', 'ab_T', 'ab_T', 'ab_T', 'ab_T', 'ab_T', 'ab_T', 'ab_T', 'ab_T', 'ab_T', 'MAIT', 'ab_T', 'ab_T', 'ab_T', 'gd_T', 'ab_T', 'ab_T', 'ab_T', 'MAIT', 'ab_T', 'ab_T', 'ab_T', 'ab_T', 'ab_T', 'MAIT', 'ab_T', 'MAIT', 'ab_T', 'ab_T', 'ab_T', 'ab_T', 'ab_T', 'ab_T', 'ab_T', 'ab_T', 'ab_T', 'ab_T', 'ab_T', 'ab_T', 'ab_T', 'ab_T', 'ab_T', 'ab_T', 'MAIT', 'ab_T', 'ab_T', 'ab_T', 'ab_T', 'ab_T', 'ab_T', 'ab_T', 'gd_T', 'ab_T', 'ab_T', 'MAIT', 'ab_T', 'ab_T', 'ab_T', 'ab_T', 'ab_T', 'ab_T', 'ab_T', 'ab_T', 'ab_T', 'ab_T', 'ab_T', 'ab_T', 'MAIT', 'ab_T', 'ab_T', 'ab_T', 'ab_T', 'MAIT', 'ab_T', 'ab_T', 'ab_T', 'ab_T', 'ab_T', 'ab_T', 'ab_T', 'ab_T', 'MAIT', 'MAIT', 'ab_T', 'ab_T', 'ab_T', 'ab_T', 'ab_T', 'ab_T', 'ab_T', 'ab_T', 'ab_T', 'ab_T', 'ab_T', 'ab_T', 'ab_T', 'ab_T', 'ab_T', 'ab_T', 'ab_T', 'ab_T', 'gd_T', 'ab_T', 'ab_T', 'ab_T', 'ab_T', 'ab_T', 'ab_T', 'ab_T', 'ab_T', 'ab_T', 'ab_T', 'ab_T', 'ab_T', 'ab_T', 'MAIT', 'ab_T', 'ab_T', 'ab_T', 'MAIT', 'ab_T', 'MAIT', 'ab_T', 'MAIT', 'MAIT', 'ab_T', 'ab_T', 'ab_T', 'ab_T', 'ab_T', 'gd_T', 'ab_T', 'ab_T', 'ab_T', 'ab_T', 'ab_T', 'ab_T', 'ab_T', 'ab_T', 'ab_T', 'ab_T', 'ab_T', 'ab_T', 'ab_T', 'ab_T', 'ab_T', 'ab_T', 'ab_T', 'ab_T', 'ab_T', 'ab_T', 'ab_T', 'ab_T', 'ab_T', 'ab_T', 'ab_T', 'ab_T', 'ab_T', 'ab_T', 'ab_T', 'ab_T', 'ab_T', 'ab_T', 'ab_T', 'ab_T', 'ab_T', 'ab_T', 'ab_T', 'ab_T', 'MAIT', 'ab_T', 'ab_T', 'ab_T', 'ab_T', 'ab_T', 'ab_T', 'ab_T', 'ab_T', 'ab_T', 'ab_T', 'ab_T', 'ab_T', 'ab_T', 'ab_T', 'ab_T', 'ab_T', 'ab_T', 'ab_T', 'ab_T', 'ab_T', 'ab_T', 'ab_T', 'ab_T', 'ab_T', 'ab_T', 'gd_T', 'ab_T', 'MAIT', 'ab_T', 'MAIT', 'ab_T', 'ab_T', 'ab_T', 'ab_T', 'ab_T', 'ab_T', 'ab_T', 'ab_T', 'ab_T', 'ab_T', 'ab_T', 'ab_T', 'ab_T', 'ab_T', 'ab_T', 'ab_T', 'ab_T', 'ab_T', 'ab_T', 'ab_T', 'ab_T', 'ab_T', 'ab_T', 'ab_T', 'ab_T', 'ab_T', 'ab_T', 'ab_T', 'ab_T', 'ab_T', 'ab_T', 'ab_T', 'MAIT', 'ab_T', 'ab_T', 'ab_T', 'ab_T', 'ab_T', 'ab_T', 'ab_T', 'ab_T', 'ab_T', 'ab_T', 'ab_T', 'ab_T', 'ab_T', 'ab_T', 'MAIT', 'ab_T', 'ab_T', 'ab_T', 'ab_T', 'MAIT', 'ab_T', 'ab_T', 'ab_T', 'ab_T', 'ab_T', 'ab_T', 'ab_T', 'ab_T', 'ab_T', 'ab_T', 'ab_T', 'ab_T', 'ab_T', 'ab_T', 'ab_T', 'ab_T', 'ab_T', 'ab_T', 'ab_T', 'ab_T', 'ab_T', 'ab_T', 'ab_T', 'ab_T', 'ab_T', 'MAIT', 'ab_T', 'ab_T', 'ab_T', 'MAIT', 'gd_T', 'ab_T', 'ab_T', 'ab_T', 'ab_T', 'ab_T', 'ab_T', 'ab_T', 'ab_T', 'ab_T', 'ab_T', 'ab_T', 'ab_T', 'ab_T', 'ab_T', 'ab_T', 'ab_T', 'ab_T', 'ab_T', 'ab_T', 'ab_T', 'ab_T', 'ab_T', 'ab_T', 'ab_T', 'ab_T', 'ab_T', 'ab_T', 'ab_T', 'ab_T', 'ab_T', 'ab_T', 'ab_T', 'ab_T', 'ab_T', 'ab_T', 'ab_T', 'ab_T', 'ab_T', 'ab_T', 'MAIT', 'ab_T', 'ab_T', 'ab_T', 'MAIT', 'ab_T', 'ab_T', 'ab_T', 'ab_T', 'ab_T', 'ab_T', 'MAIT', 'ab_T', 'ab_T', 'ab_T', 'ab_T', 'ab_T', 'ab_T', 'ab_T', 'ab_T', 'ab_T', 'ab_T', 'ab_T', 'ab_T', 'ab_T', 'gd_T', 'gd_T', 'ab_T', 'ab_T', 'MAIT', 'ab_T', 'ab_T', 'ab_T', 'ab_T', 'ab_T', 'ab_T', 'ab_T', 'ab_T', 'ab_T', 'ab_T', 'ab_T', 'MAIT', 'gd_T', 'ab_T', 'ab_T', 'ab_T', 'ab_T', 'ab_T', 'ab_T', 'ab_T', 'ab_T', 'MAIT', 'ab_T', 'ab_T', 'ab_T', 'ab_T', 'ab_T', 'ab_T', 'ab_T', 'ab_T', 'ab_T', 'ab_T', 'ab_T', 'ab_T', 'ab_T', 'ab_T', 'ab_T', 'ab_T', 'ab_T', 'ab_T', 'ab_T', 'ab_T', 'ab_T', 'ab_T', 'ab_T', 'ab_T', 'ab_T', 'ab_T', 'ab_T', 'ab_T', 'ab_T', 'ab_T', 'ab_T', 'ab_T', 'ab_T', 'ab_T', 'ab_T', 'ab_T', 'ab_T', 'ab_T', 'ab_T', 'ab_T', 'ab_T', 'ab_T', 'ab_T', 'ab_T', 'ab_T', 'ab_T', 'ab_T', 'ab_T', 'ab_T', 'ab_T', 'ab_T', 'ab_T', 'ab_T', 'MAIT', 'ab_T', 'MAIT', 'ab_T', 'ab_T', 'ab_T', 'ab_T', 'ab_T', 'ab_T', 'ab_T', 'ab_T', 'ab_T', 'ab_T', 'ab_T', 'ab_T', 'ab_T', 'ab_T', 'ab_T', 'ab_T', 'ab_T', 'ab_T', 'ab_T', 'ab_T', 'MAIT', 'ab_T', 'ab_T', 'ab_T', 'ab_T', 'ab_T', 'ab_T', 'ab_T', 'ab_T', 'ab_T', 'MAIT', 'ab_T', 'ab_T', 'ab_T', 'ab_T', 'ab_T', 'ab_T', 'ab_T', 'ab_T', 'ab_T', 'ab_T', 'ab_T', 'ab_T', 'ab_T', 'ab_T', 'ab_T', 'ab_T', 'MAIT', 'ab_T', 'ab_T', 'ab_T', 'ab_T', 'ab_T', 'ab_T', 'ab_T', 'ab_T', 'gd_T', 'ab_T', 'ab_T', 'ab_T', 'ab_T', 'ab_T', 'ab_T', 'ab_T', 'ab_T', 'ab_T', 'ab_T', 'gd_T', 'ab_T', 'ab_T', 'ab_T', 'ab_T', 'ab_T', 'ab_T', 'ab_T', 'ab_T', 'ab_T', 'ab_T', 'ab_T', 'ab_T', 'ab_T', 'ab_T', 'ab_T', 'ab_T', 'ab_T', 'MAIT', 'ab_T', 'ab_T', 'ab_T', 'MAIT', 'ab_T', 'ab_T', 'ab_T', 'ab_T', 'ab_T', 'ab_T', 'ab_T', 'MAIT', 'ab_T', 'ab_T', 'ab_T', 'ab_T', 'ab_T', 'ab_T', 'ab_T', 'MAIT', 'ab_T', 'ab_T', 'ab_T', 'ab_T', 'ab_T', 'ab_T', 'ab_T', 'ab_T', 'ab_T', 'MAIT', 'ab_T', 'ab_T', 'ab_T', 'ab_T', 'ab_T', 'ab_T', 'gd_T', 'ab_T', 'ab_T', 'ab_T', 'ab_T', 'ab_T', 'ab_T', 'ab_T', 'ab_T', 'ab_T', 'ab_T', 'ab_T', 'ab_T', 'ab_T', 'ab_T', 'ab_T', 'ab_T', 'ab_T', 'ab_T', 'ab_T', 'ab_T', 'ab_T', 'ab_T', 'ab_T', 'ab_T', 'ab_T', 'ab_T', 'ab_T', 'ab_T', 'ab_T', 'ab_T', 'ab_T', 'ab_T', 'ab_T', 'ab_T', 'ab_T', 'ab_T', 'ab_T', 'ab_T', 'ab_T', 'ab_T', 'ab_T', 'ab_T', 'ab_T', 'ab_T', 'ab_T', 'ab_T', 'ab_T', 'ab_T', 'ab_T', 'ab_T', 'ab_T', 'ab_T', 'ab_T', 'ab_T', 'ab_T', 'ab_T', 'ab_T', 'ab_T', 'ab_T', 'ab_T', 'ab_T', 'ab_T', 'ab_T', 'ab_T', 'ab_T', 'ab_T', 'ab_T', 'ab_T', 'ab_T', 'ab_T', 'ab_T', 'ab_T', 'ab_T', 'MAIT', 'MAIT', 'ab_T', 'ab_T', 'ab_T', 'ab_T', 'ab_T', 'MAIT', 'ab_T', 'MAIT', 'ab_T', 'ab_T', 'ab_T', 'ab_T', 'ab_T', 'ab_T', 'ab_T', 'ab_T', 'ab_T', 'ab_T', 'ab_T', 'ab_T', 'ab_T', 'ab_T', 'ab_T', 'ab_T', 'ab_T', 'ab_T', 'ab_T', 'ab_T', 'ab_T', 'ab_T', 'ab_T', 'ab_T', 'ab_T', 'ab_T', 'ab_T', 'ab_T', 'ab_T', 'ab_T', 'ab_T', 'ab_T', 'ab_T', 'ab_T', 'ab_T', 'ab_T', 'ab_T', 'ab_T', 'ab_T', 'ab_T', 'ab_T', 'ab_T', 'ab_T', 'ab_T', 'ab_T', 'ab_T', 'ab_T', 'ab_T', 'MAIT', 'ab_T', 'ab_T', 'ab_T', 'ab_T', 'ab_T', 'ab_T', 'ab_T', 'ab_T', 'ab_T', 'ab_T', 'ab_T', 'ab_T', 'MAIT', 'ab_T', 'ab_T', 'ab_T', 'MAIT', 'ab_T', 'ab_T', 'ab_T', 'ab_T', 'ab_T', 'ab_T', 'ab_T', 'ab_T', 'ab_T', 'ab_T', 'ab_T', 'ab_T', 'ab_T', 'ab_T', 'ab_T', 'ab_T', 'ab_T', 'ab_T', 'ab_T', 'ab_T', 'ab_T', 'ab_T', 'ab_T', 'ab_T', 'ab_T', 'ab_T', 'ab_T', 'gd_T', 'ab_T', 'ab_T', 'ab_T', 'ab_T', 'ab_T', 'ab_T', 'ab_T', 'ab_T', 'ab_T', 'ab_T', 'ab_T', 'ab_T', 'ab_T', 'ab_T', 'ab_T', 'ab_T', 'ab_T', 'ab_T', 'MAIT', 'MAIT', 'ab_T', 'ab_T', 'gd_T', 'ab_T', 'ab_T', 'ab_T', 'ab_T', 'ab_T', 'MAIT', 'ab_T', 'ab_T', 'ab_T', 'ab_T', 'ab_T', 'ab_T', 'ab_T', 'ab_T', 'ab_T', 'ab_T', 'ab_T', 'ab_T', 'ab_T', 'ab_T', 'ab_T', 'ab_T', 'ab_T', 'gd_T', 'ab_T', 'ab_T', 'ab_T', 'ab_T', 'ab_T', 'ab_T', 'ab_T', 'ab_T', 'ab_T', 'ab_T', 'ab_T', 'ab_T', 'ab_T', 'ab_T', 'ab_T', 'ab_T', 'ab_T', 'ab_T', 'ab_T', 'ab_T', 'ab_T', 'ab_T', 'ab_T', 'ab_T', 'ab_T', 'ab_T', 'ab_T', 'ab_T', 'ab_T', 'ab_T', 'ab_T', 'ab_T', 'ab_T', 'ab_T', 'ab_T', 'ab_T', 'ab_T', 'ab_T', 'MAIT', 'ab_T', 'ab_T', 'ab_T', 'ab_T', 'ab_T', 'ab_T', 'ab_T', 'ab_T', 'ab_T', 'ab_T', 'ab_T', 'MAIT', 'ab_T', 'ab_T', 'gd_T', 'MAIT', 'ab_T', 'ab_T', 'ab_T', 'MAIT', 'ab_T', 'ab_T', 'ab_T', 'ab_T', 'ab_T', 'ab_T', 'ab_T', 'ab_T', 'ab_T', 'ab_T', 'ab_T', 'ab_T', 'ab_T', 'ab_T', 'ab_T', 'ab_T', 'ab_T', 'ab_T', 'ab_T', 'ab_T', 'ab_T', 'ab_T', 'ab_T', 'ab_T', 'ab_T', 'gd_T', 'ab_T', 'ab_T', 'ab_T', 'ab_T', 'ab_T', 'ab_T', 'ab_T', 'ab_T', 'ab_T', 'ab_T', 'ab_T', 'ab_T', 'ab_T', 'ab_T', 'ab_T', 'ab_T', 'ab_T', 'MAIT', 'ab_T', 'ab_T', 'ab_T', 'ab_T', 'ab_T', 'ab_T', 'ab_T', 'ab_T']\n"
          ]
        }
      ]
    },
    {
      "cell_type": "code",
      "source": [
        "hc.run_local_classifier('T')"
      ],
      "metadata": {
        "colab": {
          "base_uri": "https://localhost:8080/"
        },
        "id": "Xm4AdFeBQTB2",
        "outputId": "1ff2b1c4-d302-4484-f6af-2544e7450abd"
      },
      "execution_count": 66,
      "outputs": [
        {
          "output_type": "stream",
          "name": "stdout",
          "text": [
            "network y_input before encoding: ['ab_T', 'ab_T', 'ab_T', 'ab_T', 'ab_T', 'ab_T', 'ab_T', 'ab_T', 'ab_T', 'ab_T', 'MAIT', 'ab_T', 'ab_T', 'ab_T', 'ab_T', 'ab_T', 'ab_T', 'ab_T', 'ab_T', 'ab_T', 'ab_T', 'ab_T', 'ab_T', 'ab_T', 'ab_T', 'ab_T', 'ab_T', 'ab_T', 'ab_T', 'ab_T', 'ab_T', 'ab_T', 'ab_T', 'ab_T', 'ab_T', 'MAIT', 'ab_T', 'ab_T', 'ab_T', 'ab_T', 'ab_T', 'ab_T', 'ab_T', 'ab_T', 'ab_T', 'MAIT', 'MAIT', 'ab_T', 'ab_T', 'ab_T', 'ab_T', 'MAIT', 'ab_T', 'ab_T', 'ab_T', 'ab_T', 'MAIT', 'ab_T', 'ab_T', 'ab_T', 'ab_T', 'ab_T', 'ab_T', 'ab_T', 'ab_T', 'ab_T', 'ab_T', 'ab_T', 'ab_T', 'ab_T', 'ab_T', 'ab_T', 'ab_T', 'ab_T', 'gd_T', 'ab_T', 'ab_T', 'ab_T', 'ab_T', 'ab_T', 'gd_T', 'ab_T', 'ab_T', 'ab_T', 'ab_T', 'ab_T', 'ab_T', 'ab_T', 'MAIT', 'ab_T', 'ab_T', 'MAIT', 'ab_T', 'ab_T', 'ab_T', 'ab_T', 'MAIT', 'ab_T', 'ab_T', 'ab_T', 'ab_T', 'ab_T', 'ab_T', 'ab_T', 'ab_T', 'ab_T', 'ab_T', 'MAIT', 'ab_T', 'ab_T', 'MAIT', 'ab_T', 'ab_T', 'ab_T', 'ab_T', 'ab_T', 'MAIT', 'ab_T', 'ab_T', 'ab_T', 'ab_T', 'ab_T', 'ab_T', 'ab_T', 'ab_T', 'ab_T', 'ab_T', 'ab_T', 'ab_T', 'MAIT', 'ab_T', 'ab_T', 'ab_T', 'ab_T', 'ab_T', 'ab_T', 'ab_T', 'ab_T', 'ab_T', 'ab_T', 'ab_T', 'ab_T', 'ab_T', 'ab_T', 'ab_T', 'ab_T', 'ab_T', 'ab_T', 'ab_T', 'ab_T', 'gd_T', 'ab_T', 'gd_T', 'ab_T', 'MAIT', 'ab_T', 'ab_T', 'gd_T', 'ab_T', 'gd_T', 'ab_T', 'ab_T', 'ab_T', 'ab_T', 'ab_T', 'ab_T', 'ab_T', 'ab_T', 'ab_T', 'ab_T', 'ab_T', 'ab_T', 'ab_T', 'ab_T', 'ab_T', 'ab_T', 'ab_T', 'ab_T', 'MAIT', 'ab_T', 'ab_T', 'ab_T', 'ab_T', 'ab_T', 'ab_T', 'ab_T', 'gd_T', 'ab_T', 'ab_T', 'ab_T', 'ab_T', 'ab_T', 'ab_T', 'ab_T', 'MAIT', 'ab_T', 'ab_T', 'ab_T', 'ab_T', 'MAIT', 'ab_T', 'MAIT', 'ab_T', 'ab_T', 'ab_T', 'ab_T', 'ab_T', 'ab_T', 'ab_T', 'ab_T', 'ab_T', 'ab_T', 'ab_T', 'ab_T', 'ab_T', 'MAIT', 'ab_T', 'gd_T', 'ab_T', 'ab_T', 'ab_T', 'ab_T', 'ab_T', 'MAIT', 'ab_T', 'ab_T', 'ab_T', 'ab_T', 'ab_T', 'MAIT', 'ab_T', 'ab_T', 'ab_T', 'ab_T', 'ab_T', 'ab_T', 'ab_T', 'ab_T', 'ab_T', 'ab_T', 'ab_T', 'ab_T', 'ab_T', 'ab_T', 'MAIT', 'ab_T', 'ab_T', 'ab_T', 'ab_T', 'ab_T', 'ab_T', 'ab_T', 'ab_T', 'ab_T', 'ab_T', 'MAIT', 'MAIT', 'ab_T', 'ab_T', 'ab_T', 'ab_T', 'ab_T', 'MAIT', 'ab_T', 'ab_T', 'ab_T', 'ab_T', 'ab_T', 'ab_T', 'ab_T', 'ab_T', 'ab_T', 'ab_T', 'ab_T', 'ab_T', 'ab_T', 'ab_T', 'ab_T', 'ab_T', 'ab_T', 'ab_T', 'ab_T', 'ab_T', 'ab_T', 'ab_T', 'MAIT', 'ab_T', 'ab_T', 'ab_T', 'ab_T', 'ab_T', 'ab_T', 'ab_T', 'ab_T', 'ab_T', 'ab_T', 'ab_T', 'ab_T', 'ab_T', 'ab_T', 'ab_T', 'ab_T', 'ab_T', 'ab_T', 'ab_T', 'ab_T', 'ab_T', 'ab_T', 'ab_T', 'ab_T', 'ab_T', 'ab_T', 'ab_T', 'ab_T', 'ab_T', 'ab_T', 'ab_T', 'gd_T', 'ab_T', 'ab_T', 'ab_T', 'ab_T', 'ab_T', 'ab_T', 'ab_T', 'ab_T', 'ab_T', 'ab_T', 'ab_T', 'ab_T', 'ab_T', 'ab_T', 'ab_T', 'MAIT', 'ab_T', 'MAIT', 'ab_T', 'ab_T', 'ab_T', 'MAIT', 'ab_T', 'gd_T', 'gd_T', 'ab_T', 'ab_T', 'ab_T', 'ab_T', 'ab_T', 'gd_T', 'ab_T', 'ab_T', 'ab_T', 'ab_T', 'ab_T', 'ab_T', 'ab_T', 'ab_T', 'ab_T', 'ab_T', 'ab_T', 'ab_T', 'ab_T', 'gd_T', 'ab_T', 'ab_T', 'ab_T', 'ab_T', 'MAIT', 'ab_T', 'ab_T', 'ab_T', 'ab_T', 'gd_T', 'ab_T', 'ab_T', 'ab_T', 'ab_T', 'ab_T', 'ab_T', 'MAIT', 'ab_T', 'ab_T', 'ab_T', 'ab_T', 'ab_T', 'ab_T', 'ab_T', 'ab_T', 'ab_T', 'ab_T', 'ab_T', 'ab_T', 'ab_T', 'ab_T', 'ab_T', 'ab_T', 'ab_T', 'ab_T', 'ab_T', 'ab_T', 'ab_T', 'ab_T', 'ab_T', 'ab_T', 'ab_T', 'ab_T', 'ab_T', 'ab_T', 'ab_T', 'ab_T', 'ab_T', 'ab_T', 'ab_T', 'ab_T', 'ab_T', 'ab_T', 'ab_T', 'ab_T', 'ab_T', 'ab_T', 'MAIT', 'ab_T', 'ab_T', 'ab_T', 'ab_T', 'ab_T', 'ab_T', 'ab_T', 'gd_T', 'ab_T', 'ab_T', 'ab_T', 'ab_T', 'ab_T', 'ab_T', 'ab_T', 'ab_T', 'ab_T', 'ab_T', 'ab_T', 'MAIT', 'ab_T', 'ab_T', 'ab_T', 'ab_T', 'ab_T', 'ab_T', 'ab_T', 'ab_T', 'ab_T', 'ab_T', 'ab_T', 'ab_T', 'ab_T', 'ab_T', 'ab_T', 'ab_T', 'ab_T', 'ab_T', 'ab_T', 'gd_T', 'ab_T', 'ab_T', 'gd_T', 'ab_T', 'ab_T', 'ab_T', 'ab_T', 'ab_T', 'ab_T', 'ab_T', 'ab_T', 'ab_T', 'ab_T', 'ab_T', 'ab_T', 'ab_T', 'ab_T', 'ab_T', 'ab_T', 'ab_T', 'ab_T', 'ab_T', 'ab_T', 'gd_T', 'MAIT', 'ab_T', 'ab_T', 'ab_T', 'ab_T', 'ab_T', 'ab_T', 'ab_T', 'ab_T', 'ab_T', 'ab_T', 'ab_T', 'ab_T', 'ab_T', 'ab_T', 'ab_T', 'ab_T', 'ab_T', 'ab_T', 'ab_T', 'ab_T', 'ab_T', 'ab_T', 'ab_T', 'ab_T', 'ab_T', 'ab_T', 'ab_T', 'ab_T', 'ab_T', 'ab_T', 'ab_T', 'ab_T', 'ab_T', 'ab_T', 'ab_T', 'ab_T', 'ab_T', 'ab_T', 'ab_T', 'ab_T', 'ab_T', 'ab_T', 'ab_T', 'ab_T', 'ab_T', 'ab_T', 'ab_T', 'ab_T', 'ab_T', 'ab_T', 'ab_T', 'ab_T', 'ab_T', 'ab_T', 'gd_T', 'ab_T', 'ab_T', 'ab_T', 'ab_T', 'ab_T', 'ab_T', 'ab_T', 'MAIT', 'ab_T', 'ab_T', 'gd_T', 'ab_T', 'ab_T', 'ab_T', 'ab_T', 'ab_T', 'ab_T', 'MAIT', 'ab_T', 'ab_T', 'ab_T', 'ab_T', 'ab_T', 'ab_T', 'ab_T', 'ab_T', 'ab_T', 'ab_T', 'ab_T', 'ab_T', 'ab_T', 'ab_T', 'ab_T', 'ab_T', 'ab_T', 'ab_T', 'ab_T', 'ab_T', 'ab_T', 'ab_T', 'ab_T', 'ab_T', 'ab_T', 'ab_T', 'ab_T', 'ab_T', 'ab_T', 'ab_T', 'ab_T', 'ab_T', 'ab_T', 'ab_T', 'ab_T', 'MAIT', 'ab_T', 'ab_T', 'ab_T', 'ab_T', 'ab_T', 'gd_T', 'ab_T', 'gd_T', 'ab_T', 'ab_T', 'ab_T', 'ab_T', 'ab_T', 'ab_T', 'ab_T', 'ab_T', 'ab_T', 'MAIT', 'ab_T', 'ab_T', 'ab_T', 'ab_T', 'ab_T', 'ab_T', 'ab_T', 'ab_T', 'gd_T', 'ab_T', 'ab_T', 'ab_T', 'ab_T', 'ab_T', 'ab_T', 'ab_T', 'ab_T', 'ab_T', 'ab_T', 'ab_T', 'ab_T', 'ab_T', 'ab_T', 'ab_T', 'ab_T', 'ab_T', 'ab_T', 'ab_T', 'MAIT', 'ab_T', 'ab_T', 'ab_T', 'ab_T', 'ab_T', 'ab_T', 'ab_T', 'ab_T', 'ab_T', 'ab_T', 'ab_T', 'ab_T', 'ab_T', 'ab_T', 'ab_T', 'ab_T', 'ab_T', 'ab_T', 'MAIT', 'ab_T', 'ab_T', 'ab_T', 'gd_T', 'ab_T', 'ab_T', 'ab_T', 'ab_T', 'ab_T', 'ab_T', 'ab_T', 'ab_T', 'ab_T', 'ab_T', 'ab_T', 'ab_T', 'ab_T', 'MAIT', 'ab_T', 'ab_T', 'ab_T', 'gd_T', 'ab_T', 'ab_T', 'ab_T', 'ab_T', 'ab_T', 'ab_T', 'ab_T', 'ab_T', 'ab_T', 'MAIT', 'MAIT', 'ab_T', 'ab_T', 'ab_T', 'ab_T', 'ab_T', 'ab_T', 'ab_T', 'ab_T', 'ab_T', 'ab_T', 'ab_T', 'ab_T', 'gd_T', 'ab_T', 'ab_T', 'ab_T', 'ab_T', 'ab_T', 'ab_T', 'ab_T', 'ab_T', 'ab_T', 'MAIT', 'ab_T', 'ab_T', 'ab_T', 'ab_T', 'ab_T', 'ab_T', 'ab_T', 'gd_T', 'ab_T', 'ab_T', 'ab_T', 'ab_T', 'ab_T', 'ab_T', 'ab_T', 'ab_T', 'ab_T', 'ab_T', 'ab_T', 'ab_T', 'ab_T', 'ab_T', 'ab_T', 'MAIT', 'ab_T', 'ab_T', 'ab_T', 'ab_T', 'ab_T', 'ab_T', 'ab_T', 'ab_T', 'ab_T', 'ab_T', 'ab_T', 'ab_T', 'ab_T', 'ab_T', 'ab_T', 'ab_T', 'ab_T', 'ab_T', 'ab_T', 'ab_T', 'ab_T', 'ab_T', 'ab_T', 'ab_T', 'gd_T', 'ab_T', 'ab_T', 'ab_T', 'MAIT', 'ab_T', 'ab_T', 'ab_T', 'ab_T', 'ab_T', 'ab_T', 'ab_T', 'ab_T', 'ab_T', 'ab_T', 'ab_T', 'ab_T', 'ab_T', 'ab_T', 'gd_T', 'ab_T', 'ab_T', 'ab_T', 'ab_T', 'ab_T', 'ab_T', 'ab_T', 'ab_T', 'ab_T', 'ab_T', 'ab_T', 'gd_T', 'ab_T', 'ab_T', 'ab_T', 'ab_T', 'ab_T', 'ab_T', 'ab_T', 'ab_T', 'ab_T', 'ab_T', 'ab_T', 'ab_T', 'ab_T', 'gd_T', 'ab_T', 'ab_T', 'ab_T', 'ab_T', 'ab_T', 'MAIT', 'ab_T', 'ab_T', 'ab_T', 'ab_T', 'ab_T', 'ab_T', 'ab_T', 'ab_T', 'ab_T', 'ab_T', 'ab_T', 'ab_T', 'ab_T', 'MAIT', 'ab_T', 'ab_T', 'ab_T', 'ab_T', 'ab_T', 'ab_T', 'ab_T', 'ab_T', 'ab_T', 'ab_T', 'ab_T', 'ab_T', 'ab_T', 'ab_T', 'ab_T', 'MAIT', 'ab_T', 'ab_T', 'ab_T', 'ab_T', 'ab_T', 'ab_T', 'ab_T', 'ab_T', 'ab_T', 'ab_T', 'ab_T', 'ab_T', 'ab_T', 'ab_T', 'ab_T', 'ab_T', 'ab_T', 'ab_T', 'ab_T', 'ab_T', 'ab_T', 'ab_T', 'ab_T', 'ab_T', 'ab_T', 'ab_T', 'ab_T', 'ab_T', 'ab_T', 'MAIT', 'ab_T', 'ab_T', 'ab_T', 'ab_T', 'ab_T', 'ab_T', 'ab_T', 'ab_T', 'ab_T', 'ab_T', 'MAIT', 'gd_T', 'ab_T', 'ab_T', 'ab_T', 'ab_T', 'ab_T', 'ab_T', 'ab_T', 'ab_T', 'ab_T', 'ab_T', 'ab_T', 'ab_T', 'ab_T', 'ab_T', 'ab_T', 'ab_T', 'ab_T', 'MAIT', 'ab_T', 'ab_T', 'ab_T', 'ab_T', 'ab_T', 'ab_T', 'ab_T', 'ab_T', 'ab_T', 'ab_T', 'ab_T', 'ab_T', 'MAIT', 'MAIT', 'ab_T', 'ab_T', 'ab_T', 'ab_T', 'ab_T', 'ab_T', 'ab_T', 'ab_T', 'ab_T', 'ab_T', 'ab_T', 'MAIT', 'ab_T', 'ab_T', 'ab_T', 'ab_T', 'ab_T', 'ab_T', 'ab_T', 'ab_T', 'ab_T', 'ab_T', 'MAIT', 'ab_T', 'ab_T', 'ab_T', 'ab_T', 'ab_T', 'ab_T', 'ab_T', 'ab_T', 'ab_T', 'ab_T', 'ab_T', 'ab_T', 'ab_T', 'ab_T', 'ab_T', 'ab_T', 'ab_T', 'ab_T', 'ab_T', 'ab_T', 'ab_T', 'ab_T', 'ab_T', 'ab_T', 'ab_T', 'ab_T', 'ab_T', 'gd_T', 'ab_T', 'ab_T', 'gd_T', 'ab_T', 'ab_T', 'ab_T', 'ab_T', 'ab_T', 'ab_T', 'ab_T', 'ab_T', 'ab_T', 'ab_T', 'ab_T', 'ab_T', 'ab_T', 'ab_T', 'ab_T', 'ab_T', 'ab_T', 'ab_T', 'ab_T', 'ab_T', 'ab_T', 'ab_T', 'ab_T', 'ab_T', 'ab_T', 'gd_T', 'ab_T', 'ab_T', 'ab_T', 'ab_T', 'ab_T', 'MAIT', 'ab_T', 'ab_T', 'ab_T', 'ab_T', 'ab_T', 'gd_T', 'ab_T', 'ab_T', 'MAIT', 'ab_T', 'ab_T', 'ab_T', 'ab_T', 'ab_T', 'ab_T', 'ab_T', 'ab_T', 'gd_T', 'ab_T', 'ab_T', 'ab_T', 'ab_T', 'ab_T', 'ab_T', 'ab_T', 'ab_T', 'ab_T', 'ab_T', 'ab_T', 'ab_T', 'ab_T', 'ab_T', 'ab_T', 'ab_T', 'ab_T', 'ab_T', 'ab_T', 'ab_T', 'MAIT', 'ab_T', 'ab_T', 'ab_T', 'ab_T', 'ab_T', 'ab_T', 'ab_T', 'MAIT', 'ab_T', 'ab_T', 'ab_T', 'ab_T', 'ab_T', 'ab_T', 'ab_T', 'MAIT', 'ab_T', 'ab_T', 'ab_T', 'ab_T', 'ab_T', 'ab_T', 'ab_T', 'ab_T', 'MAIT', 'ab_T', 'ab_T', 'ab_T', 'ab_T', 'ab_T', 'ab_T', 'ab_T', 'MAIT', 'ab_T', 'ab_T', 'ab_T', 'ab_T', 'ab_T', 'ab_T', 'ab_T', 'MAIT', 'ab_T', 'ab_T', 'ab_T', 'ab_T', 'gd_T', 'ab_T', 'ab_T', 'ab_T', 'ab_T', 'ab_T', 'ab_T', 'ab_T', 'ab_T', 'ab_T', 'ab_T', 'ab_T', 'ab_T', 'ab_T', 'ab_T', 'ab_T', 'ab_T', 'ab_T', 'gd_T', 'ab_T', 'ab_T', 'ab_T', 'ab_T', 'MAIT', 'ab_T', 'ab_T', 'ab_T', 'ab_T', 'ab_T', 'MAIT', 'ab_T', 'ab_T', 'ab_T', 'ab_T', 'ab_T', 'ab_T', 'ab_T', 'ab_T', 'ab_T', 'ab_T', 'ab_T', 'ab_T', 'ab_T', 'ab_T', 'ab_T', 'ab_T', 'ab_T', 'ab_T', 'ab_T', 'ab_T', 'gd_T', 'ab_T', 'MAIT', 'ab_T', 'ab_T', 'ab_T', 'ab_T', 'ab_T', 'ab_T', 'ab_T', 'ab_T', 'ab_T', 'ab_T', 'MAIT', 'ab_T', 'MAIT', 'ab_T', 'ab_T', 'ab_T', 'MAIT', 'ab_T', 'ab_T', 'ab_T', 'ab_T', 'ab_T', 'MAIT', 'ab_T', 'ab_T', 'ab_T', 'ab_T', 'ab_T', 'ab_T', 'ab_T', 'ab_T', 'gd_T', 'ab_T', 'ab_T', 'gd_T', 'ab_T', 'ab_T', 'ab_T', 'ab_T', 'MAIT', 'ab_T', 'ab_T', 'ab_T', 'MAIT', 'ab_T', 'gd_T', 'ab_T', 'MAIT', 'ab_T', 'ab_T', 'ab_T', 'ab_T', 'ab_T', 'ab_T', 'ab_T', 'gd_T', 'ab_T', 'ab_T', 'ab_T', 'ab_T', 'ab_T', 'ab_T', 'ab_T', 'ab_T', 'ab_T', 'ab_T', 'ab_T', 'ab_T', 'ab_T', 'MAIT', 'MAIT', 'ab_T', 'ab_T', 'ab_T', 'ab_T', 'ab_T', 'ab_T', 'MAIT', 'ab_T', 'ab_T', 'ab_T', 'ab_T', 'ab_T', 'ab_T', 'ab_T', 'ab_T', 'ab_T', 'ab_T', 'ab_T', 'MAIT', 'ab_T', 'ab_T', 'ab_T', 'ab_T', 'ab_T', 'ab_T', 'ab_T', 'ab_T', 'ab_T', 'ab_T', 'ab_T', 'ab_T', 'ab_T', 'ab_T', 'MAIT', 'MAIT', 'ab_T', 'ab_T', 'ab_T', 'ab_T', 'ab_T', 'ab_T', 'ab_T', 'ab_T', 'ab_T', 'ab_T', 'ab_T', 'ab_T', 'ab_T', 'MAIT', 'ab_T', 'ab_T', 'ab_T', 'ab_T', 'ab_T', 'ab_T', 'ab_T', 'ab_T', 'ab_T', 'MAIT', 'ab_T', 'ab_T', 'ab_T', 'ab_T', 'ab_T', 'ab_T', 'ab_T', 'ab_T', 'ab_T', 'gd_T', 'ab_T', 'ab_T', 'ab_T', 'ab_T', 'ab_T', 'ab_T', 'ab_T', 'ab_T', 'ab_T', 'ab_T', 'ab_T', 'ab_T', 'ab_T', 'ab_T', 'ab_T', 'ab_T', 'ab_T', 'ab_T', 'ab_T', 'ab_T', 'ab_T', 'ab_T', 'ab_T', 'ab_T', 'ab_T', 'ab_T', 'ab_T', 'ab_T', 'ab_T', 'ab_T', 'ab_T', 'ab_T', 'ab_T', 'ab_T', 'ab_T', 'MAIT', 'ab_T', 'ab_T', 'ab_T', 'ab_T', 'ab_T', 'ab_T', 'ab_T', 'ab_T', 'ab_T', 'ab_T', 'ab_T', 'ab_T', 'ab_T', 'ab_T', 'ab_T', 'ab_T', 'ab_T', 'ab_T', 'ab_T', 'ab_T', 'ab_T', 'MAIT', 'ab_T', 'ab_T', 'ab_T', 'ab_T', 'ab_T', 'ab_T', 'ab_T', 'MAIT', 'ab_T', 'ab_T', 'MAIT', 'ab_T', 'ab_T', 'ab_T', 'ab_T', 'ab_T', 'ab_T', 'ab_T', 'ab_T', 'ab_T', 'ab_T', 'MAIT', 'ab_T', 'ab_T', 'ab_T', 'ab_T', 'ab_T', 'ab_T', 'ab_T', 'ab_T', 'ab_T', 'ab_T', 'ab_T', 'ab_T', 'ab_T', 'ab_T', 'MAIT', 'gd_T', 'gd_T', 'ab_T', 'ab_T', 'ab_T', 'ab_T', 'ab_T', 'ab_T', 'ab_T', 'ab_T', 'ab_T', 'ab_T', 'ab_T', 'ab_T', 'ab_T', 'gd_T', 'ab_T', 'ab_T', 'ab_T', 'ab_T', 'ab_T', 'ab_T', 'MAIT', 'ab_T', 'ab_T', 'gd_T', 'ab_T', 'ab_T', 'MAIT', 'ab_T', 'ab_T', 'ab_T', 'ab_T', 'ab_T', 'ab_T', 'ab_T', 'ab_T', 'ab_T', 'ab_T', 'ab_T', 'ab_T', 'ab_T', 'ab_T', 'ab_T', 'ab_T', 'ab_T', 'ab_T', 'ab_T', 'ab_T', 'ab_T', 'ab_T', 'ab_T', 'ab_T', 'ab_T', 'ab_T', 'ab_T', 'ab_T', 'ab_T', 'ab_T', 'ab_T', 'ab_T', 'ab_T', 'ab_T', 'ab_T', 'ab_T', 'ab_T', 'ab_T', 'ab_T', 'ab_T', 'ab_T', 'ab_T', 'ab_T', 'ab_T', 'ab_T', 'ab_T', 'ab_T', 'ab_T', 'ab_T', 'ab_T', 'ab_T', 'ab_T', 'ab_T', 'ab_T', 'ab_T', 'ab_T', 'ab_T', 'ab_T', 'ab_T', 'ab_T', 'ab_T', 'ab_T', 'ab_T', 'ab_T', 'ab_T', 'ab_T', 'ab_T', 'MAIT', 'ab_T', 'ab_T', 'ab_T', 'ab_T', 'ab_T', 'ab_T', 'ab_T', 'ab_T', 'ab_T', 'ab_T', 'ab_T', 'ab_T', 'ab_T', 'ab_T', 'ab_T', 'ab_T', 'ab_T', 'ab_T', 'MAIT', 'ab_T', 'ab_T', 'ab_T', 'ab_T', 'ab_T', 'ab_T', 'ab_T', 'ab_T', 'ab_T', 'ab_T', 'gd_T', 'ab_T', 'ab_T', 'ab_T', 'ab_T', 'ab_T', 'ab_T', 'ab_T', 'ab_T', 'ab_T', 'ab_T', 'ab_T', 'ab_T', 'ab_T', 'ab_T', 'ab_T', 'MAIT', 'ab_T', 'gd_T', 'ab_T', 'ab_T', 'MAIT', 'MAIT', 'gd_T', 'ab_T', 'ab_T', 'ab_T', 'MAIT', 'ab_T', 'ab_T', 'ab_T', 'ab_T', 'ab_T', 'ab_T', 'ab_T', 'ab_T', 'ab_T', 'ab_T', 'ab_T', 'ab_T', 'ab_T', 'ab_T', 'ab_T', 'ab_T', 'ab_T', 'ab_T', 'ab_T', 'ab_T', 'ab_T', 'ab_T', 'ab_T', 'ab_T', 'ab_T', 'gd_T', 'ab_T', 'ab_T', 'ab_T', 'ab_T', 'ab_T', 'ab_T', 'ab_T', 'ab_T', 'ab_T', 'ab_T', 'ab_T', 'ab_T', 'ab_T', 'ab_T', 'ab_T', 'ab_T', 'ab_T', 'ab_T', 'ab_T', 'MAIT', 'MAIT', 'ab_T', 'ab_T', 'ab_T', 'ab_T', 'ab_T', 'ab_T', 'ab_T', 'ab_T', 'ab_T', 'ab_T', 'ab_T', 'ab_T', 'ab_T', 'ab_T', 'ab_T', 'ab_T', 'ab_T', 'ab_T', 'ab_T', 'ab_T', 'MAIT', 'ab_T', 'ab_T', 'ab_T', 'ab_T', 'gd_T', 'ab_T', 'ab_T', 'ab_T', 'ab_T', 'ab_T', 'ab_T', 'ab_T', 'gd_T', 'ab_T', 'ab_T', 'ab_T', 'ab_T', 'ab_T', 'ab_T', 'ab_T', 'ab_T', 'ab_T', 'ab_T', 'ab_T', 'ab_T', 'ab_T', 'ab_T', 'ab_T', 'ab_T', 'MAIT', 'ab_T', 'ab_T', 'MAIT', 'ab_T', 'MAIT', 'ab_T', 'ab_T', 'gd_T', 'gd_T', 'ab_T', 'ab_T', 'ab_T', 'ab_T', 'ab_T', 'ab_T', 'ab_T', 'ab_T', 'ab_T', 'ab_T', 'ab_T', 'MAIT', 'ab_T', 'ab_T', 'MAIT', 'ab_T', 'ab_T', 'ab_T', 'ab_T', 'ab_T', 'ab_T', 'ab_T', 'ab_T', 'ab_T', 'MAIT', 'gd_T', 'ab_T', 'ab_T', 'ab_T', 'ab_T', 'MAIT', 'ab_T', 'ab_T', 'MAIT', 'ab_T', 'ab_T', 'ab_T', 'ab_T', 'ab_T', 'MAIT', 'ab_T', 'ab_T', 'ab_T', 'ab_T', 'ab_T', 'ab_T', 'ab_T', 'ab_T', 'ab_T', 'ab_T', 'ab_T', 'ab_T', 'MAIT', 'ab_T', 'ab_T', 'ab_T', 'ab_T', 'ab_T', 'ab_T', 'ab_T', 'ab_T', 'ab_T', 'ab_T', 'ab_T', 'ab_T', 'ab_T', 'ab_T', 'MAIT', 'ab_T', 'ab_T', 'ab_T', 'MAIT', 'MAIT', 'gd_T', 'ab_T', 'ab_T', 'gd_T', 'ab_T', 'ab_T', 'ab_T', 'ab_T', 'ab_T', 'ab_T', 'ab_T', 'ab_T', 'ab_T', 'ab_T', 'ab_T', 'ab_T', 'ab_T', 'ab_T', 'ab_T', 'ab_T', 'ab_T', 'gd_T', 'ab_T', 'ab_T', 'ab_T', 'ab_T', 'ab_T', 'ab_T', 'ab_T', 'ab_T', 'ab_T', 'ab_T', 'ab_T', 'ab_T', 'ab_T', 'ab_T', 'ab_T', 'ab_T', 'gd_T', 'ab_T', 'ab_T', 'ab_T', 'ab_T', 'gd_T', 'ab_T', 'gd_T', 'ab_T', 'ab_T', 'ab_T', 'MAIT', 'ab_T', 'ab_T', 'MAIT', 'ab_T', 'ab_T', 'ab_T', 'ab_T', 'ab_T', 'ab_T', 'ab_T', 'ab_T', 'ab_T', 'ab_T', 'ab_T', 'ab_T', 'ab_T', 'ab_T', 'ab_T', 'ab_T', 'ab_T', 'ab_T', 'MAIT', 'gd_T', 'ab_T', 'ab_T', 'ab_T', 'ab_T', 'ab_T', 'ab_T', 'MAIT', 'ab_T', 'ab_T', 'ab_T', 'ab_T', 'ab_T', 'ab_T', 'ab_T', 'ab_T', 'ab_T', 'ab_T', 'ab_T', 'ab_T', 'gd_T', 'gd_T', 'ab_T', 'gd_T', 'ab_T', 'ab_T', 'ab_T', 'ab_T', 'ab_T', 'ab_T', 'ab_T', 'MAIT', 'ab_T', 'ab_T', 'ab_T', 'ab_T', 'ab_T', 'ab_T', 'ab_T', 'ab_T', 'gd_T', 'ab_T', 'ab_T', 'ab_T', 'ab_T', 'ab_T', 'ab_T', 'ab_T', 'ab_T', 'ab_T', 'ab_T', 'ab_T', 'ab_T', 'ab_T', 'MAIT', 'MAIT', 'ab_T', 'ab_T', 'ab_T', 'ab_T', 'ab_T', 'ab_T', 'MAIT', 'ab_T', 'ab_T', 'ab_T', 'ab_T', 'ab_T', 'ab_T', 'ab_T', 'ab_T', 'ab_T', 'ab_T', 'ab_T', 'ab_T', 'gd_T', 'ab_T', 'ab_T', 'ab_T', 'ab_T', 'ab_T', 'ab_T', 'MAIT', 'ab_T', 'ab_T', 'MAIT', 'ab_T', 'ab_T', 'ab_T', 'ab_T', 'ab_T', 'ab_T', 'ab_T', 'ab_T', 'ab_T', 'ab_T', 'ab_T', 'ab_T', 'ab_T', 'ab_T', 'ab_T', 'ab_T', 'ab_T', 'ab_T', 'ab_T', 'ab_T', 'ab_T', 'ab_T', 'ab_T', 'ab_T', 'ab_T', 'ab_T', 'ab_T', 'ab_T', 'ab_T', 'ab_T', 'ab_T', 'ab_T', 'ab_T', 'ab_T', 'ab_T', 'ab_T', 'ab_T', 'ab_T', 'ab_T', 'ab_T', 'ab_T', 'ab_T', 'MAIT', 'ab_T', 'ab_T', 'MAIT', 'gd_T', 'ab_T', 'ab_T', 'ab_T', 'ab_T', 'ab_T', 'gd_T', 'ab_T', 'ab_T', 'ab_T', 'ab_T', 'ab_T', 'ab_T', 'ab_T', 'ab_T', 'ab_T', 'ab_T', 'ab_T', 'ab_T', 'ab_T', 'ab_T', 'ab_T', 'MAIT', 'ab_T', 'ab_T', 'ab_T', 'ab_T', 'ab_T', 'ab_T', 'ab_T', 'ab_T', 'ab_T', 'ab_T', 'ab_T', 'ab_T', 'ab_T', 'ab_T', 'ab_T', 'ab_T', 'ab_T', 'ab_T', 'MAIT', 'ab_T', 'ab_T', 'ab_T', 'ab_T', 'ab_T', 'ab_T', 'ab_T', 'ab_T', 'ab_T', 'ab_T', 'ab_T', 'ab_T', 'ab_T', 'ab_T', 'ab_T', 'ab_T', 'ab_T', 'ab_T', 'ab_T', 'ab_T', 'ab_T', 'ab_T', 'ab_T', 'ab_T', 'ab_T', 'ab_T', 'ab_T', 'ab_T', 'ab_T', 'ab_T', 'ab_T', 'MAIT', 'ab_T', 'ab_T', 'ab_T', 'ab_T', 'ab_T', 'ab_T', 'ab_T', 'MAIT', 'ab_T', 'gd_T', 'ab_T', 'ab_T', 'ab_T', 'ab_T', 'ab_T', 'ab_T', 'ab_T', 'ab_T', 'ab_T', 'gd_T', 'gd_T', 'ab_T', 'ab_T', 'ab_T', 'ab_T', 'ab_T', 'ab_T', 'ab_T', 'ab_T', 'MAIT', 'ab_T', 'ab_T', 'ab_T', 'ab_T', 'ab_T', 'MAIT', 'ab_T', 'ab_T', 'ab_T', 'ab_T', 'ab_T', 'ab_T', 'ab_T', 'ab_T', 'ab_T', 'ab_T', 'ab_T', 'ab_T', 'ab_T', 'ab_T', 'ab_T', 'ab_T', 'MAIT', 'ab_T', 'ab_T', 'ab_T', 'ab_T', 'ab_T', 'ab_T', 'gd_T', 'ab_T', 'ab_T', 'ab_T', 'ab_T', 'ab_T', 'ab_T', 'ab_T', 'ab_T', 'ab_T', 'MAIT', 'ab_T', 'ab_T', 'ab_T', 'ab_T', 'ab_T', 'ab_T', 'ab_T', 'ab_T', 'ab_T', 'ab_T', 'ab_T', 'ab_T', 'ab_T', 'ab_T', 'ab_T', 'ab_T', 'ab_T', 'ab_T', 'ab_T', 'ab_T', 'ab_T', 'MAIT', 'ab_T', 'MAIT', 'gd_T', 'ab_T', 'ab_T', 'ab_T', 'ab_T', 'ab_T', 'ab_T', 'ab_T', 'ab_T', 'ab_T', 'gd_T', 'MAIT', 'ab_T', 'ab_T', 'ab_T', 'ab_T', 'ab_T', 'ab_T', 'ab_T', 'ab_T', 'ab_T', 'ab_T', 'ab_T', 'ab_T', 'ab_T', 'ab_T', 'ab_T', 'ab_T', 'ab_T', 'ab_T', 'ab_T', 'ab_T', 'ab_T', 'ab_T', 'ab_T', 'ab_T', 'ab_T', 'ab_T', 'MAIT', 'ab_T', 'ab_T', 'ab_T', 'ab_T', 'ab_T', 'ab_T', 'ab_T', 'ab_T', 'ab_T', 'ab_T', 'ab_T', 'ab_T', 'ab_T', 'ab_T', 'MAIT', 'ab_T', 'ab_T', 'ab_T', 'ab_T', 'ab_T', 'ab_T', 'ab_T', 'ab_T', 'ab_T', 'ab_T', 'ab_T', 'ab_T', 'ab_T', 'ab_T', 'ab_T', 'ab_T', 'gd_T', 'ab_T', 'MAIT', 'ab_T', 'ab_T', 'ab_T', 'gd_T', 'ab_T', 'ab_T', 'gd_T', 'ab_T', 'ab_T', 'ab_T', 'ab_T', 'ab_T', 'ab_T', 'ab_T', 'ab_T', 'ab_T', 'ab_T', 'ab_T', 'ab_T', 'ab_T', 'ab_T', 'ab_T', 'ab_T', 'ab_T', 'ab_T', 'ab_T', 'ab_T', 'ab_T', 'ab_T', 'ab_T', 'ab_T', 'ab_T', 'ab_T', 'ab_T', 'ab_T', 'ab_T', 'ab_T', 'ab_T', 'ab_T', 'gd_T', 'MAIT', 'ab_T', 'ab_T', 'ab_T', 'ab_T', 'ab_T', 'ab_T', 'ab_T', 'ab_T', 'ab_T', 'ab_T', 'ab_T', 'ab_T', 'MAIT', 'ab_T', 'MAIT', 'ab_T', 'MAIT', 'ab_T', 'ab_T', 'ab_T', 'ab_T', 'ab_T', 'ab_T', 'ab_T', 'ab_T', 'ab_T', 'ab_T', 'ab_T', 'ab_T', 'ab_T', 'gd_T', 'MAIT', 'ab_T', 'ab_T', 'MAIT', 'ab_T', 'ab_T', 'ab_T', 'ab_T', 'MAIT', 'ab_T', 'ab_T', 'ab_T', 'ab_T', 'ab_T', 'ab_T', 'ab_T', 'ab_T', 'ab_T', 'ab_T', 'ab_T', 'ab_T', 'ab_T', 'ab_T', 'ab_T', 'ab_T', 'ab_T', 'ab_T', 'ab_T', 'ab_T', 'ab_T', 'ab_T', 'ab_T', 'ab_T', 'ab_T', 'ab_T', 'ab_T', 'ab_T', 'ab_T', 'ab_T', 'ab_T', 'ab_T', 'ab_T', 'ab_T', 'ab_T', 'ab_T', 'MAIT', 'ab_T', 'ab_T', 'ab_T', 'ab_T', 'ab_T', 'ab_T', 'ab_T', 'ab_T', 'ab_T', 'ab_T', 'ab_T', 'ab_T', 'ab_T', 'ab_T', 'ab_T', 'ab_T', 'ab_T', 'ab_T', 'ab_T', 'ab_T', 'ab_T', 'ab_T', 'ab_T', 'ab_T', 'ab_T', 'ab_T', 'ab_T', 'ab_T', 'ab_T', 'ab_T', 'MAIT', 'ab_T', 'ab_T', 'MAIT', 'MAIT', 'ab_T', 'ab_T', 'ab_T', 'ab_T', 'ab_T', 'ab_T', 'ab_T', 'ab_T', 'ab_T', 'ab_T', 'ab_T', 'ab_T', 'ab_T', 'ab_T', 'ab_T', 'ab_T', 'ab_T', 'ab_T', 'ab_T', 'ab_T', 'ab_T', 'ab_T', 'ab_T', 'ab_T', 'MAIT', 'ab_T', 'ab_T', 'ab_T', 'ab_T', 'ab_T', 'ab_T', 'ab_T', 'ab_T', 'ab_T', 'ab_T', 'ab_T', 'ab_T', 'ab_T', 'ab_T', 'ab_T', 'ab_T', 'ab_T', 'ab_T', 'ab_T', 'ab_T', 'ab_T', 'ab_T', 'ab_T', 'ab_T', 'ab_T', 'ab_T', 'ab_T', 'ab_T', 'ab_T', 'ab_T', 'ab_T', 'ab_T', 'ab_T', 'ab_T', 'MAIT', 'ab_T', 'ab_T', 'ab_T', 'ab_T', 'ab_T', 'MAIT', 'ab_T', 'ab_T', 'gd_T', 'ab_T', 'ab_T', 'ab_T', 'ab_T', 'ab_T', 'ab_T', 'ab_T', 'ab_T', 'MAIT', 'ab_T', 'ab_T', 'ab_T', 'ab_T', 'ab_T', 'ab_T', 'ab_T', 'ab_T', 'ab_T', 'ab_T', 'ab_T', 'ab_T', 'MAIT', 'ab_T', 'ab_T', 'ab_T', 'ab_T', 'MAIT', 'ab_T', 'ab_T', 'ab_T', 'ab_T', 'ab_T', 'ab_T', 'ab_T', 'ab_T', 'ab_T', 'ab_T', 'ab_T', 'ab_T', 'ab_T', 'ab_T', 'ab_T', 'ab_T', 'ab_T', 'MAIT', 'ab_T', 'ab_T', 'ab_T', 'ab_T', 'ab_T', 'ab_T', 'ab_T', 'ab_T', 'ab_T', 'ab_T', 'ab_T', 'MAIT', 'gd_T', 'ab_T', 'MAIT', 'ab_T', 'ab_T', 'ab_T', 'ab_T', 'ab_T', 'ab_T', 'ab_T', 'ab_T', 'ab_T', 'ab_T', 'ab_T', 'ab_T', 'ab_T', 'ab_T', 'ab_T', 'ab_T', 'ab_T', 'ab_T', 'ab_T', 'ab_T', 'ab_T', 'ab_T', 'ab_T', 'ab_T', 'ab_T', 'ab_T', 'ab_T', 'ab_T', 'ab_T', 'ab_T', 'ab_T', 'ab_T', 'ab_T', 'ab_T', 'ab_T', 'ab_T', 'ab_T', 'ab_T', 'ab_T', 'ab_T', 'ab_T', 'ab_T', 'ab_T', 'ab_T', 'ab_T', 'ab_T', 'ab_T', 'ab_T', 'ab_T', 'ab_T', 'ab_T', 'ab_T', 'ab_T', 'ab_T', 'ab_T', 'ab_T', 'ab_T', 'MAIT', 'ab_T', 'ab_T', 'ab_T', 'ab_T', 'ab_T', 'ab_T', 'ab_T', 'ab_T', 'ab_T', 'ab_T', 'ab_T', 'ab_T', 'ab_T', 'ab_T', 'ab_T', 'ab_T', 'ab_T', 'ab_T', 'ab_T', 'ab_T', 'ab_T', 'ab_T', 'ab_T', 'ab_T', 'ab_T', 'ab_T', 'ab_T', 'MAIT', 'ab_T', 'MAIT', 'ab_T', 'ab_T', 'ab_T', 'ab_T', 'ab_T', 'ab_T', 'ab_T', 'ab_T', 'ab_T', 'ab_T', 'ab_T', 'ab_T', 'ab_T', 'ab_T', 'ab_T', 'ab_T', 'ab_T', 'ab_T', 'ab_T', 'MAIT', 'ab_T', 'ab_T', 'ab_T', 'ab_T', 'ab_T', 'ab_T', 'ab_T', 'ab_T', 'ab_T', 'ab_T', 'ab_T', 'ab_T', 'ab_T', 'ab_T', 'ab_T', 'ab_T', 'ab_T', 'ab_T', 'ab_T', 'ab_T', 'ab_T', 'ab_T', 'ab_T', 'ab_T', 'ab_T', 'ab_T', 'ab_T', 'ab_T', 'ab_T', 'ab_T', 'ab_T', 'ab_T', 'ab_T', 'ab_T', 'ab_T', 'ab_T', 'ab_T', 'ab_T', 'ab_T', 'ab_T', 'ab_T', 'ab_T', 'ab_T', 'ab_T', 'ab_T', 'ab_T', 'ab_T', 'ab_T', 'ab_T', 'ab_T', 'MAIT', 'ab_T', 'ab_T', 'ab_T', 'gd_T', 'ab_T', 'ab_T', 'ab_T', 'MAIT', 'ab_T', 'ab_T', 'ab_T', 'ab_T', 'ab_T', 'MAIT', 'ab_T', 'MAIT', 'ab_T', 'ab_T', 'ab_T', 'ab_T', 'ab_T', 'ab_T', 'ab_T', 'ab_T', 'ab_T', 'ab_T', 'ab_T', 'ab_T', 'ab_T', 'ab_T', 'ab_T', 'ab_T', 'MAIT', 'ab_T', 'ab_T', 'ab_T', 'ab_T', 'ab_T', 'ab_T', 'ab_T', 'gd_T', 'ab_T', 'ab_T', 'MAIT', 'ab_T', 'ab_T', 'ab_T', 'ab_T', 'ab_T', 'ab_T', 'ab_T', 'ab_T', 'ab_T', 'ab_T', 'ab_T', 'ab_T', 'MAIT', 'ab_T', 'ab_T', 'ab_T', 'ab_T', 'MAIT', 'ab_T', 'ab_T', 'ab_T', 'ab_T', 'ab_T', 'ab_T', 'ab_T', 'ab_T', 'MAIT', 'MAIT', 'ab_T', 'ab_T', 'ab_T', 'ab_T', 'ab_T', 'ab_T', 'ab_T', 'ab_T', 'ab_T', 'ab_T', 'ab_T', 'ab_T', 'ab_T', 'ab_T', 'ab_T', 'ab_T', 'ab_T', 'ab_T', 'gd_T', 'ab_T', 'ab_T', 'ab_T', 'ab_T', 'ab_T', 'ab_T', 'ab_T', 'ab_T', 'ab_T', 'ab_T', 'ab_T', 'ab_T', 'ab_T', 'MAIT', 'ab_T', 'ab_T', 'ab_T', 'MAIT', 'ab_T', 'MAIT', 'ab_T', 'MAIT', 'MAIT', 'ab_T', 'ab_T', 'ab_T', 'ab_T', 'ab_T', 'gd_T', 'ab_T', 'ab_T', 'ab_T', 'ab_T', 'ab_T', 'ab_T', 'ab_T', 'ab_T', 'ab_T', 'ab_T', 'ab_T', 'ab_T', 'ab_T', 'ab_T', 'ab_T', 'ab_T', 'ab_T', 'ab_T', 'ab_T', 'ab_T', 'ab_T', 'ab_T', 'ab_T', 'ab_T', 'ab_T', 'ab_T', 'ab_T', 'ab_T', 'ab_T', 'ab_T', 'ab_T', 'ab_T', 'ab_T', 'ab_T', 'ab_T', 'ab_T', 'ab_T', 'ab_T', 'MAIT', 'ab_T', 'ab_T', 'ab_T', 'ab_T', 'ab_T', 'ab_T', 'ab_T', 'ab_T', 'ab_T', 'ab_T', 'ab_T', 'ab_T', 'ab_T', 'ab_T', 'ab_T', 'ab_T', 'ab_T', 'ab_T', 'ab_T', 'ab_T', 'ab_T', 'ab_T', 'ab_T', 'ab_T', 'ab_T', 'gd_T', 'ab_T', 'MAIT', 'ab_T', 'MAIT', 'ab_T', 'ab_T', 'ab_T', 'ab_T', 'ab_T', 'ab_T', 'ab_T', 'ab_T', 'ab_T', 'ab_T', 'ab_T', 'ab_T', 'ab_T', 'ab_T', 'ab_T', 'ab_T', 'ab_T', 'ab_T', 'ab_T', 'ab_T', 'ab_T', 'ab_T', 'ab_T', 'ab_T', 'ab_T', 'ab_T', 'ab_T', 'ab_T', 'ab_T', 'ab_T', 'ab_T', 'ab_T', 'MAIT', 'ab_T', 'ab_T', 'ab_T', 'ab_T', 'ab_T', 'ab_T', 'ab_T', 'ab_T', 'ab_T', 'ab_T', 'ab_T', 'ab_T', 'ab_T', 'ab_T', 'MAIT', 'ab_T', 'ab_T', 'ab_T', 'ab_T', 'MAIT', 'ab_T', 'ab_T', 'ab_T', 'ab_T', 'ab_T', 'ab_T', 'ab_T', 'ab_T', 'ab_T', 'ab_T', 'ab_T', 'ab_T', 'ab_T', 'ab_T', 'ab_T', 'ab_T', 'ab_T', 'ab_T', 'ab_T', 'ab_T', 'ab_T', 'ab_T', 'ab_T', 'ab_T', 'ab_T', 'MAIT', 'ab_T', 'ab_T', 'ab_T', 'MAIT', 'gd_T', 'ab_T', 'ab_T', 'ab_T', 'ab_T', 'ab_T', 'ab_T', 'ab_T', 'ab_T', 'ab_T', 'ab_T', 'ab_T', 'ab_T', 'ab_T', 'ab_T', 'ab_T', 'ab_T', 'ab_T', 'ab_T', 'ab_T', 'ab_T', 'ab_T', 'ab_T', 'ab_T', 'ab_T', 'ab_T', 'ab_T', 'ab_T', 'ab_T', 'ab_T', 'ab_T', 'ab_T', 'ab_T', 'ab_T', 'ab_T', 'ab_T', 'ab_T', 'ab_T', 'ab_T', 'ab_T', 'MAIT', 'ab_T', 'ab_T', 'ab_T', 'MAIT', 'ab_T', 'ab_T', 'ab_T', 'ab_T', 'ab_T', 'ab_T', 'MAIT', 'ab_T', 'ab_T', 'ab_T', 'ab_T', 'ab_T', 'ab_T', 'ab_T', 'ab_T', 'ab_T', 'ab_T', 'ab_T', 'ab_T', 'ab_T', 'gd_T', 'gd_T', 'ab_T', 'ab_T', 'MAIT', 'ab_T', 'ab_T', 'ab_T', 'ab_T', 'ab_T', 'ab_T', 'ab_T', 'ab_T', 'ab_T', 'ab_T', 'ab_T', 'MAIT', 'gd_T', 'ab_T', 'ab_T', 'ab_T', 'ab_T', 'ab_T', 'ab_T', 'ab_T', 'ab_T', 'MAIT', 'ab_T', 'ab_T', 'ab_T', 'ab_T', 'ab_T', 'ab_T', 'ab_T', 'ab_T', 'ab_T', 'ab_T', 'ab_T', 'ab_T', 'ab_T', 'ab_T', 'ab_T', 'ab_T', 'ab_T', 'ab_T', 'ab_T', 'ab_T', 'ab_T', 'ab_T', 'ab_T', 'ab_T', 'ab_T', 'ab_T', 'ab_T', 'ab_T', 'ab_T', 'ab_T', 'ab_T', 'ab_T', 'ab_T', 'ab_T', 'ab_T', 'ab_T', 'ab_T', 'ab_T', 'ab_T', 'ab_T', 'ab_T', 'ab_T', 'ab_T', 'ab_T', 'ab_T', 'ab_T', 'ab_T', 'ab_T', 'ab_T', 'ab_T', 'ab_T', 'ab_T', 'ab_T', 'MAIT', 'ab_T', 'MAIT', 'ab_T', 'ab_T', 'ab_T', 'ab_T', 'ab_T', 'ab_T', 'ab_T', 'ab_T', 'ab_T', 'ab_T', 'ab_T', 'ab_T', 'ab_T', 'ab_T', 'ab_T', 'ab_T', 'ab_T', 'ab_T', 'ab_T', 'ab_T', 'MAIT', 'ab_T', 'ab_T', 'ab_T', 'ab_T', 'ab_T', 'ab_T', 'ab_T', 'ab_T', 'ab_T', 'MAIT', 'ab_T', 'ab_T', 'ab_T', 'ab_T', 'ab_T', 'ab_T', 'ab_T', 'ab_T', 'ab_T', 'ab_T', 'ab_T', 'ab_T', 'ab_T', 'ab_T', 'ab_T', 'ab_T', 'MAIT', 'ab_T', 'ab_T', 'ab_T', 'ab_T', 'ab_T', 'ab_T', 'ab_T', 'ab_T', 'gd_T', 'ab_T', 'ab_T', 'ab_T', 'ab_T', 'ab_T', 'ab_T', 'ab_T', 'ab_T', 'ab_T', 'ab_T', 'gd_T', 'ab_T', 'ab_T', 'ab_T', 'ab_T', 'ab_T', 'ab_T', 'ab_T', 'ab_T', 'ab_T', 'ab_T', 'ab_T', 'ab_T', 'ab_T', 'ab_T', 'ab_T', 'ab_T', 'ab_T', 'MAIT', 'ab_T', 'ab_T', 'ab_T', 'MAIT', 'ab_T', 'ab_T', 'ab_T', 'ab_T', 'ab_T', 'ab_T', 'ab_T', 'MAIT', 'ab_T', 'ab_T', 'ab_T', 'ab_T', 'ab_T', 'ab_T', 'ab_T', 'MAIT', 'ab_T', 'ab_T', 'ab_T', 'ab_T', 'ab_T', 'ab_T', 'ab_T', 'ab_T', 'ab_T', 'MAIT', 'ab_T', 'ab_T', 'ab_T', 'ab_T', 'ab_T', 'ab_T', 'gd_T', 'ab_T', 'ab_T', 'ab_T', 'ab_T', 'ab_T', 'ab_T', 'ab_T', 'ab_T', 'ab_T', 'ab_T', 'ab_T', 'ab_T', 'ab_T', 'ab_T', 'ab_T', 'ab_T', 'ab_T', 'ab_T', 'ab_T', 'ab_T', 'ab_T', 'ab_T', 'ab_T', 'ab_T', 'ab_T', 'ab_T', 'ab_T', 'ab_T', 'ab_T', 'ab_T', 'ab_T', 'ab_T', 'ab_T', 'ab_T', 'ab_T', 'ab_T', 'ab_T', 'ab_T', 'ab_T', 'ab_T', 'ab_T', 'ab_T', 'ab_T', 'ab_T', 'ab_T', 'ab_T', 'ab_T', 'ab_T', 'ab_T', 'ab_T', 'ab_T', 'ab_T', 'ab_T', 'ab_T', 'ab_T', 'ab_T', 'ab_T', 'ab_T', 'ab_T', 'ab_T', 'ab_T', 'ab_T', 'ab_T', 'ab_T', 'ab_T', 'ab_T', 'ab_T', 'ab_T', 'ab_T', 'ab_T', 'ab_T', 'ab_T', 'ab_T', 'MAIT', 'MAIT', 'ab_T', 'ab_T', 'ab_T', 'ab_T', 'ab_T', 'MAIT', 'ab_T', 'MAIT', 'ab_T', 'ab_T', 'ab_T', 'ab_T', 'ab_T', 'ab_T', 'ab_T', 'ab_T', 'ab_T', 'ab_T', 'ab_T', 'ab_T', 'ab_T', 'ab_T', 'ab_T', 'ab_T', 'ab_T', 'ab_T', 'ab_T', 'ab_T', 'ab_T', 'ab_T', 'ab_T', 'ab_T', 'ab_T', 'ab_T', 'ab_T', 'ab_T', 'ab_T', 'ab_T', 'ab_T', 'ab_T', 'ab_T', 'ab_T', 'ab_T', 'ab_T', 'ab_T', 'ab_T', 'ab_T', 'ab_T', 'ab_T', 'ab_T', 'ab_T', 'ab_T', 'ab_T', 'ab_T', 'ab_T', 'ab_T', 'MAIT', 'ab_T', 'ab_T', 'ab_T', 'ab_T', 'ab_T', 'ab_T', 'ab_T', 'ab_T', 'ab_T', 'ab_T', 'ab_T', 'ab_T', 'MAIT', 'ab_T', 'ab_T', 'ab_T', 'MAIT', 'ab_T', 'ab_T', 'ab_T', 'ab_T', 'ab_T', 'ab_T', 'ab_T', 'ab_T', 'ab_T', 'ab_T', 'ab_T', 'ab_T', 'ab_T', 'ab_T', 'ab_T', 'ab_T', 'ab_T', 'ab_T', 'ab_T', 'ab_T', 'ab_T', 'ab_T', 'ab_T', 'ab_T', 'ab_T', 'ab_T', 'ab_T', 'gd_T', 'ab_T', 'ab_T', 'ab_T', 'ab_T', 'ab_T', 'ab_T', 'ab_T', 'ab_T', 'ab_T', 'ab_T', 'ab_T', 'ab_T', 'ab_T', 'ab_T', 'ab_T', 'ab_T', 'ab_T', 'ab_T', 'MAIT', 'MAIT', 'ab_T', 'ab_T', 'gd_T', 'ab_T', 'ab_T', 'ab_T', 'ab_T', 'ab_T', 'MAIT', 'ab_T', 'ab_T', 'ab_T', 'ab_T', 'ab_T', 'ab_T', 'ab_T', 'ab_T', 'ab_T', 'ab_T', 'ab_T', 'ab_T', 'ab_T', 'ab_T', 'ab_T', 'ab_T', 'ab_T', 'gd_T', 'ab_T', 'ab_T', 'ab_T', 'ab_T', 'ab_T', 'ab_T', 'ab_T', 'ab_T', 'ab_T', 'ab_T', 'ab_T', 'ab_T', 'ab_T', 'ab_T', 'ab_T', 'ab_T', 'ab_T', 'ab_T', 'ab_T', 'ab_T', 'ab_T', 'ab_T', 'ab_T', 'ab_T', 'ab_T', 'ab_T', 'ab_T', 'ab_T', 'ab_T', 'ab_T', 'ab_T', 'ab_T', 'ab_T', 'ab_T', 'ab_T', 'ab_T', 'ab_T', 'ab_T', 'MAIT', 'ab_T', 'ab_T', 'ab_T', 'ab_T', 'ab_T', 'ab_T', 'ab_T', 'ab_T', 'ab_T', 'ab_T', 'ab_T', 'MAIT', 'ab_T', 'ab_T', 'gd_T', 'MAIT', 'ab_T', 'ab_T', 'ab_T', 'MAIT', 'ab_T', 'ab_T', 'ab_T', 'ab_T', 'ab_T', 'ab_T', 'ab_T', 'ab_T', 'ab_T', 'ab_T', 'ab_T', 'ab_T', 'ab_T', 'ab_T', 'ab_T', 'ab_T', 'ab_T', 'ab_T', 'ab_T', 'ab_T', 'ab_T', 'ab_T', 'ab_T', 'ab_T', 'ab_T', 'gd_T', 'ab_T', 'ab_T', 'ab_T', 'ab_T', 'ab_T', 'ab_T', 'ab_T', 'ab_T', 'ab_T', 'ab_T', 'ab_T', 'ab_T', 'ab_T', 'ab_T', 'ab_T', 'ab_T', 'ab_T', 'MAIT', 'ab_T', 'ab_T', 'ab_T', 'ab_T', 'ab_T', 'ab_T', 'ab_T', 'ab_T']\n",
            "Epoch 1/50\n",
            "33/33 [==============================] - 1s 11ms/step - loss: 0.7295 - val_loss: 0.6378\n",
            "Epoch 2/50\n",
            "33/33 [==============================] - 0s 6ms/step - loss: 0.5504 - val_loss: 0.4947\n",
            "Epoch 3/50\n",
            "33/33 [==============================] - 0s 6ms/step - loss: 0.4546 - val_loss: 0.4251\n",
            "Epoch 4/50\n",
            "33/33 [==============================] - 0s 5ms/step - loss: 0.4041 - val_loss: 0.3846\n",
            "Epoch 5/50\n",
            "33/33 [==============================] - 0s 6ms/step - loss: 0.3729 - val_loss: 0.3570\n",
            "Epoch 6/50\n",
            "33/33 [==============================] - 0s 4ms/step - loss: 0.3505 - val_loss: 0.3370\n",
            "Epoch 7/50\n",
            "33/33 [==============================] - 0s 6ms/step - loss: 0.3334 - val_loss: 0.3211\n",
            "Epoch 8/50\n",
            "33/33 [==============================] - 0s 7ms/step - loss: 0.3193 - val_loss: 0.3080\n",
            "Epoch 9/50\n",
            "33/33 [==============================] - 0s 10ms/step - loss: 0.3072 - val_loss: 0.2971\n",
            "Epoch 10/50\n",
            "33/33 [==============================] - 0s 13ms/step - loss: 0.2968 - val_loss: 0.2874\n",
            "Epoch 11/50\n",
            "33/33 [==============================] - 0s 12ms/step - loss: 0.2874 - val_loss: 0.2790\n",
            "Epoch 12/50\n",
            "33/33 [==============================] - 0s 6ms/step - loss: 0.2790 - val_loss: 0.2713\n",
            "Epoch 13/50\n",
            "33/33 [==============================] - 0s 5ms/step - loss: 0.2713 - val_loss: 0.2644\n",
            "Epoch 14/50\n",
            "33/33 [==============================] - 0s 5ms/step - loss: 0.2641 - val_loss: 0.2582\n",
            "Epoch 15/50\n",
            "33/33 [==============================] - 0s 5ms/step - loss: 0.2578 - val_loss: 0.2522\n",
            "Epoch 16/50\n",
            "33/33 [==============================] - 0s 5ms/step - loss: 0.2516 - val_loss: 0.2469\n",
            "Epoch 17/50\n",
            "33/33 [==============================] - 0s 5ms/step - loss: 0.2459 - val_loss: 0.2417\n",
            "Epoch 18/50\n",
            "33/33 [==============================] - 0s 5ms/step - loss: 0.2406 - val_loss: 0.2370\n",
            "Epoch 19/50\n",
            "33/33 [==============================] - 0s 5ms/step - loss: 0.2356 - val_loss: 0.2327\n",
            "Epoch 20/50\n",
            "33/33 [==============================] - 0s 5ms/step - loss: 0.2310 - val_loss: 0.2286\n",
            "Epoch 21/50\n",
            "33/33 [==============================] - 0s 5ms/step - loss: 0.2266 - val_loss: 0.2247\n",
            "Epoch 22/50\n",
            "33/33 [==============================] - 0s 5ms/step - loss: 0.2224 - val_loss: 0.2211\n",
            "Epoch 23/50\n",
            "33/33 [==============================] - 0s 5ms/step - loss: 0.2185 - val_loss: 0.2176\n",
            "Epoch 24/50\n",
            "33/33 [==============================] - 0s 4ms/step - loss: 0.2147 - val_loss: 0.2144\n",
            "Epoch 25/50\n",
            "33/33 [==============================] - 0s 6ms/step - loss: 0.2112 - val_loss: 0.2114\n",
            "Epoch 26/50\n",
            "33/33 [==============================] - 0s 6ms/step - loss: 0.2079 - val_loss: 0.2083\n",
            "Epoch 27/50\n",
            "33/33 [==============================] - 0s 5ms/step - loss: 0.2047 - val_loss: 0.2055\n",
            "Epoch 28/50\n",
            "33/33 [==============================] - 0s 6ms/step - loss: 0.2017 - val_loss: 0.2029\n",
            "Epoch 29/50\n",
            "33/33 [==============================] - 0s 5ms/step - loss: 0.1988 - val_loss: 0.2004\n",
            "Epoch 30/50\n",
            "33/33 [==============================] - 0s 5ms/step - loss: 0.1961 - val_loss: 0.1979\n",
            "Epoch 31/50\n",
            "33/33 [==============================] - 0s 3ms/step - loss: 0.1935 - val_loss: 0.1957\n",
            "Epoch 32/50\n",
            "33/33 [==============================] - 0s 3ms/step - loss: 0.1910 - val_loss: 0.1933\n",
            "Epoch 33/50\n",
            "33/33 [==============================] - 0s 3ms/step - loss: 0.1886 - val_loss: 0.1912\n",
            "Epoch 34/50\n",
            "33/33 [==============================] - 0s 4ms/step - loss: 0.1863 - val_loss: 0.1893\n",
            "Epoch 35/50\n",
            "33/33 [==============================] - 0s 3ms/step - loss: 0.1841 - val_loss: 0.1873\n",
            "Epoch 36/50\n",
            "33/33 [==============================] - 0s 3ms/step - loss: 0.1821 - val_loss: 0.1854\n",
            "Epoch 37/50\n",
            "33/33 [==============================] - 0s 3ms/step - loss: 0.1801 - val_loss: 0.1836\n",
            "Epoch 38/50\n",
            "33/33 [==============================] - 0s 3ms/step - loss: 0.1782 - val_loss: 0.1818\n",
            "Epoch 39/50\n",
            "33/33 [==============================] - 0s 3ms/step - loss: 0.1763 - val_loss: 0.1802\n",
            "Epoch 40/50\n",
            "33/33 [==============================] - 0s 3ms/step - loss: 0.1745 - val_loss: 0.1785\n",
            "Epoch 41/50\n",
            "33/33 [==============================] - 0s 3ms/step - loss: 0.1728 - val_loss: 0.1771\n",
            "Epoch 42/50\n",
            "33/33 [==============================] - 0s 3ms/step - loss: 0.1712 - val_loss: 0.1755\n",
            "Epoch 43/50\n",
            "33/33 [==============================] - 0s 3ms/step - loss: 0.1696 - val_loss: 0.1741\n",
            "Epoch 44/50\n",
            "33/33 [==============================] - 0s 3ms/step - loss: 0.1681 - val_loss: 0.1726\n",
            "Epoch 45/50\n",
            "33/33 [==============================] - 0s 3ms/step - loss: 0.1666 - val_loss: 0.1713\n",
            "Epoch 46/50\n",
            "33/33 [==============================] - 0s 3ms/step - loss: 0.1652 - val_loss: 0.1700\n",
            "Epoch 47/50\n",
            "33/33 [==============================] - 0s 3ms/step - loss: 0.1638 - val_loss: 0.1687\n",
            "Epoch 48/50\n",
            "33/33 [==============================] - 0s 3ms/step - loss: 0.1625 - val_loss: 0.1674\n",
            "Epoch 49/50\n",
            "33/33 [==============================] - 0s 3ms/step - loss: 0.1612 - val_loss: 0.1664\n",
            "Epoch 50/50\n",
            "33/33 [==============================] - 0s 3ms/step - loss: 0.1599 - val_loss: 0.1652\n"
          ]
        }
      ]
    },
    {
      "cell_type": "code",
      "source": [
        "#accuracy of tnk classifier model \n",
        "print(hc.graph.nodes['T']['memory'].training_acc)\n",
        "\n",
        "print(hc.graph.nodes['T']['memory'].test_acc)"
      ],
      "metadata": {
        "colab": {
          "base_uri": "https://localhost:8080/"
        },
        "id": "kDK0Axx1iq_X",
        "outputId": "0a4f6d02-81b6-4450-af6e-46d3d0f1bdc6"
      },
      "execution_count": 67,
      "outputs": [
        {
          "output_type": "stream",
          "name": "stdout",
          "text": [
            "0.9499568593615185\n",
            "0.9646246764452114\n"
          ]
        }
      ]
    },
    {
      "cell_type": "code",
      "source": [
        "#show saved prediction results in next labels, <- hm ne das wird erst später aufgerufen\n",
        "hc.graph.nodes['ILC']['memory'].__dict__"
      ],
      "metadata": {
        "colab": {
          "base_uri": "https://localhost:8080/"
        },
        "id": "eqMhrlqMi45G",
        "outputId": "7bae7fc5-3a18-4e7d-8877-047509481908"
      },
      "execution_count": 69,
      "outputs": [
        {
          "output_type": "execute_result",
          "data": {
            "text/plain": [
              "{'apriori_y_input_data_indices': None,\n",
              " 'classifier_class': __main__.Neural_Network,\n",
              " 'local_classifier_params': [],\n",
              " 'test_acc': None,\n",
              " 'test_prediction_vec': None,\n",
              " 'training_acc': None,\n",
              " 'training_prediction_vec': None,\n",
              " 'x_input_data': None,\n",
              " 'y_input_data': None,\n",
              " 'y_input_grouped_labels': None}"
            ]
          },
          "metadata": {},
          "execution_count": 69
        }
      ]
    },
    {
      "cell_type": "code",
      "source": [
        "#show status of node Myeloische Zellen\n",
        "hc.graph.nodes['Myeloisch']['memory'].__dict__"
      ],
      "metadata": {
        "colab": {
          "base_uri": "https://localhost:8080/"
        },
        "id": "GmjgeNI0wdfE",
        "outputId": "c3994b11-4e8a-4a9f-bc81-d3dc41470363"
      },
      "execution_count": null,
      "outputs": [
        {
          "output_type": "execute_result",
          "data": {
            "text/plain": [
              "{'apriori_y_input_data_indices': (array([], dtype=int64),),\n",
              " 'classifier_class': None,\n",
              " 'local_classifier_params': [],\n",
              " 'test_acc': None,\n",
              " 'test_prediction_vec': None,\n",
              " 'training_acc': None,\n",
              " 'training_prediction_vec': None,\n",
              " 'x_input_data': array([[-0.65018964,  0.5909275 ,  0.17820597, ...,  0.7609098 ,\n",
              "         -0.9427402 ,  1.1240003 ],\n",
              "        [ 1.3202016 ,  0.6382091 , -1.6076678 , ..., -1.3887111 ,\n",
              "         -0.43054047, -1.2502768 ],\n",
              "        [ 0.03016484, -0.13684195,  0.38049364, ..., -0.8243723 ,\n",
              "         -0.4725106 ,  0.7852393 ],\n",
              "        ...,\n",
              "        [ 0.00502422,  0.18570839,  0.38839135, ..., -0.05192301,\n",
              "         -1.1637948 ,  1.4046977 ],\n",
              "        [ 1.5008779 , -0.13873322, -0.09292659, ...,  0.1126502 ,\n",
              "         -1.7490447 ,  1.5059206 ],\n",
              "        [ 0.57691723, -0.09258436,  0.77182037, ..., -0.11639237,\n",
              "          0.35169557,  1.8422029 ]], dtype=float32),\n",
              " 'y_input_data': array(['NK', 'FCGR3A Monocytes', 'NK', 'CD14 Monocytes', 'CD14 Monocytes',\n",
              "        'CD14 Monocytes', 'CD8 T', 'CD14 Monocytes', 'CD14 Monocytes',\n",
              "        'CD14 Monocytes', 'CD14 Monocytes', 'NK', 'CD14 Monocytes',\n",
              "        'CD14 Monocytes', 'NK', 'FCGR3A Monocytes', 'FCGR3A Monocytes',\n",
              "        'CD14 Monocytes', 'CD14 Monocytes', 'NK', 'CD14 Monocytes',\n",
              "        'CD14 Monocytes', 'CD14 Monocytes', 'CD14 Monocytes',\n",
              "        'CD14 Monocytes', 'CD14 Monocytes', 'Dendritic',\n",
              "        'FCGR3A Monocytes', 'CD14 Monocytes', 'FCGR3A Monocytes',\n",
              "        'Dendritic', 'CD14 Monocytes', 'CD14 Monocytes', 'NK',\n",
              "        'CD14 Monocytes', 'CD14 Monocytes', 'FCGR3A Monocytes', 'NK',\n",
              "        'CD8 T', 'CD14 Monocytes', 'FCGR3A Monocytes', 'CD14 Monocytes',\n",
              "        'FCGR3A Monocytes', 'CD8 T', 'CD14 Monocytes', 'Dendritic',\n",
              "        'CD14 Monocytes', 'CD14 Monocytes', 'Dendritic', 'CD14 Monocytes',\n",
              "        'FCGR3A Monocytes', 'FCGR3A Monocytes', 'CD14 Monocytes',\n",
              "        'FCGR3A Monocytes', 'CD14 Monocytes', 'NK', 'FCGR3A Monocytes',\n",
              "        'CD14 Monocytes', 'CD14 Monocytes', 'CD14 Monocytes',\n",
              "        'CD14 Monocytes', 'CD14 Monocytes', 'CD14 Monocytes', 'NK',\n",
              "        'FCGR3A Monocytes', 'CD14 Monocytes', 'CD14 Monocytes', 'NK',\n",
              "        'Dendritic', 'FCGR3A Monocytes', 'CD14 Monocytes',\n",
              "        'FCGR3A Monocytes', 'CD14 Monocytes', 'FCGR3A Monocytes',\n",
              "        'FCGR3A Monocytes', 'CD14 Monocytes', 'CD14 Monocytes',\n",
              "        'CD14 Monocytes', 'CD14 Monocytes', 'NK', 'FCGR3A Monocytes',\n",
              "        'Dendritic', 'FCGR3A Monocytes', 'CD14 Monocytes',\n",
              "        'FCGR3A Monocytes', 'CD14 Monocytes', 'CD14 Monocytes',\n",
              "        'CD14 Monocytes', 'CD14 Monocytes', 'FCGR3A Monocytes',\n",
              "        'FCGR3A Monocytes', 'CD14 Monocytes', 'Dendritic',\n",
              "        'FCGR3A Monocytes', 'CD14 Monocytes', 'CD14 Monocytes',\n",
              "        'CD14 Monocytes', 'CD14 Monocytes', 'CD14 Monocytes',\n",
              "        'CD14 Monocytes', 'CD14 Monocytes', 'NK', 'CD14 Monocytes',\n",
              "        'CD14 Monocytes', 'CD14 Monocytes', 'CD14 Monocytes',\n",
              "        'CD14 Monocytes', 'FCGR3A Monocytes', 'CD14 Monocytes',\n",
              "        'CD14 Monocytes', 'FCGR3A Monocytes', 'CD14 Monocytes', 'NK', 'NK',\n",
              "        'FCGR3A Monocytes', 'FCGR3A Monocytes', 'CD14 Monocytes',\n",
              "        'CD14 Monocytes', 'CD14 Monocytes', 'CD14 Monocytes',\n",
              "        'CD14 Monocytes', 'FCGR3A Monocytes', 'NK', 'NK',\n",
              "        'FCGR3A Monocytes', 'CD14 Monocytes', 'CD14 Monocytes',\n",
              "        'CD14 Monocytes', 'CD14 Monocytes', 'FCGR3A Monocytes',\n",
              "        'CD14 Monocytes', 'CD14 Monocytes', 'CD14 Monocytes', 'Dendritic',\n",
              "        'CD14 Monocytes', 'CD14 Monocytes', 'CD14 Monocytes',\n",
              "        'CD14 Monocytes', 'CD14 Monocytes', 'CD14 Monocytes', 'NK',\n",
              "        'CD14 Monocytes', 'CD14 Monocytes', 'CD14 Monocytes',\n",
              "        'CD14 Monocytes', 'NK', 'CD14 Monocytes', 'CD14 Monocytes',\n",
              "        'CD14 Monocytes', 'CD14 Monocytes', 'FCGR3A Monocytes',\n",
              "        'CD14 Monocytes', 'CD14 Monocytes', 'CD14 Monocytes',\n",
              "        'CD14 Monocytes', 'CD14 Monocytes', 'CD14 Monocytes',\n",
              "        'CD14 Monocytes', 'CD14 Monocytes', 'CD14 Monocytes', 'NK', 'NK',\n",
              "        'FCGR3A Monocytes', 'FCGR3A Monocytes', 'NK', 'FCGR3A Monocytes',\n",
              "        'FCGR3A Monocytes', 'CD14 Monocytes', 'CD14 Monocytes',\n",
              "        'CD14 Monocytes', 'CD14 Monocytes', 'CD14 Monocytes',\n",
              "        'FCGR3A Monocytes', 'FCGR3A Monocytes', 'Dendritic',\n",
              "        'CD14 Monocytes', 'CD14 Monocytes', 'CD14 Monocytes',\n",
              "        'CD14 Monocytes', 'FCGR3A Monocytes', 'CD14 Monocytes',\n",
              "        'CD14 Monocytes', 'FCGR3A Monocytes', 'CD14 Monocytes',\n",
              "        'CD14 Monocytes', 'NK', 'CD14 Monocytes', 'Dendritic', 'NK', 'NK',\n",
              "        'CD14 Monocytes', 'CD14 Monocytes', 'CD14 Monocytes',\n",
              "        'CD14 Monocytes', 'CD14 Monocytes', 'NK', 'CD14 Monocytes',\n",
              "        'CD14 Monocytes', 'CD14 Monocytes', 'FCGR3A Monocytes',\n",
              "        'CD14 Monocytes', 'CD14 Monocytes', 'CD14 Monocytes',\n",
              "        'CD14 Monocytes', 'CD14 Monocytes', 'CD14 Monocytes', 'NK', 'NK',\n",
              "        'FCGR3A Monocytes', 'FCGR3A Monocytes', 'CD14 Monocytes',\n",
              "        'CD14 Monocytes', 'CD14 Monocytes', 'CD14 Monocytes',\n",
              "        'CD14 Monocytes', 'FCGR3A Monocytes', 'CD14 Monocytes',\n",
              "        'CD14 Monocytes', 'FCGR3A Monocytes', 'CD14 Monocytes',\n",
              "        'CD14 Monocytes', 'CD14 Monocytes', 'Dendritic', 'CD14 Monocytes',\n",
              "        'CD14 Monocytes', 'CD14 Monocytes', 'FCGR3A Monocytes',\n",
              "        'CD14 Monocytes', 'CD14 Monocytes', 'CD14 Monocytes',\n",
              "        'FCGR3A Monocytes', 'CD14 Monocytes', 'CD14 Monocytes',\n",
              "        'FCGR3A Monocytes', 'CD14 Monocytes', 'CD14 Monocytes',\n",
              "        'CD14 Monocytes', 'CD14 Monocytes', 'CD14 Monocytes', 'NK',\n",
              "        'CD14 Monocytes', 'CD14 Monocytes', 'CD14 Monocytes',\n",
              "        'CD14 Monocytes', 'CD14 Monocytes', 'CD14 Monocytes',\n",
              "        'CD14 Monocytes', 'CD14 Monocytes', 'CD14 Monocytes',\n",
              "        'CD14 Monocytes', 'CD14 Monocytes', 'CD14 Monocytes', 'NK',\n",
              "        'CD14 Monocytes', 'CD14 Monocytes', 'CD14 Monocytes',\n",
              "        'CD14 Monocytes', 'NK', 'CD14 Monocytes', 'NK', 'CD14 Monocytes',\n",
              "        'CD14 Monocytes', 'CD14 Monocytes', 'CD14 Monocytes',\n",
              "        'CD14 Monocytes', 'FCGR3A Monocytes', 'NK', 'CD14 Monocytes',\n",
              "        'CD14 Monocytes', 'NK', 'CD14 Monocytes', 'CD14 Monocytes', 'NK',\n",
              "        'FCGR3A Monocytes', 'FCGR3A Monocytes', 'CD14 Monocytes',\n",
              "        'CD14 Monocytes', 'CD14 Monocytes', 'CD8 T', 'CD14 Monocytes',\n",
              "        'FCGR3A Monocytes', 'CD14 Monocytes', 'CD14 Monocytes',\n",
              "        'CD14 Monocytes', 'CD14 Monocytes', 'NK', 'CD14 Monocytes',\n",
              "        'FCGR3A Monocytes', 'Dendritic', 'CD14 Monocytes',\n",
              "        'CD14 Monocytes', 'CD14 Monocytes', 'CD14 Monocytes', 'CD4 T',\n",
              "        'CD14 Monocytes', 'CD14 Monocytes', 'CD14 Monocytes', 'NK',\n",
              "        'FCGR3A Monocytes', 'FCGR3A Monocytes', 'NK', 'CD14 Monocytes',\n",
              "        'CD14 Monocytes', 'CD14 Monocytes', 'CD14 Monocytes',\n",
              "        'FCGR3A Monocytes', 'CD14 Monocytes', 'FCGR3A Monocytes',\n",
              "        'CD14 Monocytes', 'CD14 Monocytes', 'NK', 'CD14 Monocytes',\n",
              "        'CD14 Monocytes', 'CD14 Monocytes', 'FCGR3A Monocytes',\n",
              "        'CD14 Monocytes', 'NK', 'FCGR3A Monocytes', 'CD14 Monocytes',\n",
              "        'CD14 Monocytes', 'FCGR3A Monocytes', 'FCGR3A Monocytes',\n",
              "        'CD14 Monocytes', 'CD14 Monocytes', 'CD14 Monocytes',\n",
              "        'CD14 Monocytes', 'NK', 'CD14 Monocytes', 'CD14 Monocytes',\n",
              "        'CD14 Monocytes', 'NK', 'NK', 'Dendritic', 'CD14 Monocytes',\n",
              "        'CD14 Monocytes', 'FCGR3A Monocytes', 'CD14 Monocytes',\n",
              "        'CD14 Monocytes', 'NK', 'CD14 Monocytes', 'CD14 Monocytes',\n",
              "        'CD14 Monocytes', 'CD14 Monocytes', 'CD14 Monocytes', 'NK',\n",
              "        'FCGR3A Monocytes', 'Dendritic', 'CD14 Monocytes',\n",
              "        'CD14 Monocytes', 'NK', 'FCGR3A Monocytes', 'NK', 'CD14 Monocytes',\n",
              "        'CD14 Monocytes', 'CD14 Monocytes', 'CD14 Monocytes', 'Dendritic',\n",
              "        'CD14 Monocytes', 'FCGR3A Monocytes', 'CD14 Monocytes',\n",
              "        'FCGR3A Monocytes', 'FCGR3A Monocytes', 'NK', 'Dendritic',\n",
              "        'CD14 Monocytes', 'CD14 Monocytes', 'Megakaryocytes',\n",
              "        'FCGR3A Monocytes', 'CD14 Monocytes', 'CD14 Monocytes',\n",
              "        'CD14 Monocytes', 'CD14 Monocytes', 'CD14 Monocytes',\n",
              "        'CD14 Monocytes', 'FCGR3A Monocytes', 'CD14 Monocytes',\n",
              "        'CD14 Monocytes', 'FCGR3A Monocytes', 'CD14 Monocytes',\n",
              "        'FCGR3A Monocytes', 'CD14 Monocytes', 'CD14 Monocytes',\n",
              "        'CD14 Monocytes', 'CD14 Monocytes', 'CD14 Monocytes',\n",
              "        'CD14 Monocytes', 'Dendritic', 'NK', 'CD14 Monocytes',\n",
              "        'FCGR3A Monocytes', 'CD14 Monocytes', 'CD14 Monocytes',\n",
              "        'CD14 Monocytes', 'CD14 Monocytes', 'CD14 Monocytes',\n",
              "        'CD14 Monocytes', 'NK', 'CD14 Monocytes', 'CD14 Monocytes',\n",
              "        'CD14 Monocytes', 'CD14 Monocytes', 'NK', 'CD14 Monocytes',\n",
              "        'Dendritic', 'FCGR3A Monocytes', 'FCGR3A Monocytes',\n",
              "        'CD14 Monocytes', 'CD14 Monocytes', 'CD14 Monocytes', 'NK',\n",
              "        'FCGR3A Monocytes', 'FCGR3A Monocytes', 'CD14 Monocytes',\n",
              "        'CD14 Monocytes', 'FCGR3A Monocytes', 'CD8 T', 'CD14 Monocytes',\n",
              "        'FCGR3A Monocytes', 'NK', 'CD14 Monocytes', 'CD4 T',\n",
              "        'CD14 Monocytes', 'CD14 Monocytes', 'FCGR3A Monocytes',\n",
              "        'CD14 Monocytes', 'Dendritic', 'NK', 'CD14 Monocytes',\n",
              "        'CD14 Monocytes', 'CD14 Monocytes', 'NK', 'CD14 Monocytes',\n",
              "        'CD14 Monocytes', 'CD14 Monocytes', 'CD14 Monocytes',\n",
              "        'CD14 Monocytes', 'CD14 Monocytes', 'CD14 Monocytes',\n",
              "        'CD14 Monocytes', 'FCGR3A Monocytes', 'CD14 Monocytes',\n",
              "        'CD14 Monocytes', 'CD14 Monocytes', 'Dendritic', 'CD14 Monocytes',\n",
              "        'CD14 Monocytes', 'FCGR3A Monocytes', 'CD14 Monocytes',\n",
              "        'CD14 Monocytes', 'CD14 Monocytes', 'NK', 'FCGR3A Monocytes',\n",
              "        'CD14 Monocytes', 'CD8 T', 'CD14 Monocytes', 'FCGR3A Monocytes',\n",
              "        'CD14 Monocytes', 'CD14 Monocytes', 'CD14 Monocytes',\n",
              "        'CD14 Monocytes', 'CD14 Monocytes', 'CD14 Monocytes',\n",
              "        'FCGR3A Monocytes', 'CD14 Monocytes', 'CD14 Monocytes',\n",
              "        'CD14 Monocytes', 'CD14 Monocytes', 'CD14 Monocytes',\n",
              "        'CD14 Monocytes', 'CD14 Monocytes', 'FCGR3A Monocytes',\n",
              "        'CD14 Monocytes', 'CD14 Monocytes', 'CD14 Monocytes',\n",
              "        'CD14 Monocytes', 'CD14 Monocytes', 'CD14 Monocytes',\n",
              "        'CD14 Monocytes', 'CD14 Monocytes', 'CD4 T', 'CD14 Monocytes',\n",
              "        'FCGR3A Monocytes', 'CD14 Monocytes', 'CD14 Monocytes',\n",
              "        'CD14 Monocytes', 'CD8 T', 'Megakaryocytes', 'NK',\n",
              "        'CD14 Monocytes', 'FCGR3A Monocytes', 'NK', 'CD14 Monocytes',\n",
              "        'CD14 Monocytes', 'FCGR3A Monocytes', 'Dendritic',\n",
              "        'CD14 Monocytes', 'FCGR3A Monocytes', 'FCGR3A Monocytes',\n",
              "        'CD14 Monocytes', 'CD14 Monocytes', 'CD14 Monocytes',\n",
              "        'CD14 Monocytes', 'CD14 Monocytes', 'CD14 Monocytes',\n",
              "        'CD14 Monocytes', 'FCGR3A Monocytes', 'CD14 Monocytes',\n",
              "        'FCGR3A Monocytes', 'CD14 Monocytes', 'CD14 Monocytes',\n",
              "        'CD14 Monocytes', 'NK', 'CD14 Monocytes', 'FCGR3A Monocytes',\n",
              "        'CD14 Monocytes', 'CD14 Monocytes', 'CD14 Monocytes',\n",
              "        'CD14 Monocytes', 'CD14 Monocytes', 'NK', 'NK', 'FCGR3A Monocytes',\n",
              "        'CD14 Monocytes', 'CD14 Monocytes', 'CD14 Monocytes',\n",
              "        'CD14 Monocytes', 'FCGR3A Monocytes', 'FCGR3A Monocytes',\n",
              "        'CD14 Monocytes', 'CD8 T', 'FCGR3A Monocytes', 'CD14 Monocytes',\n",
              "        'CD14 Monocytes', 'CD8 T', 'CD14 Monocytes', 'CD14 Monocytes',\n",
              "        'FCGR3A Monocytes', 'FCGR3A Monocytes', 'CD14 Monocytes',\n",
              "        'CD14 Monocytes', 'FCGR3A Monocytes', 'CD14 Monocytes',\n",
              "        'FCGR3A Monocytes', 'CD14 Monocytes', 'CD14 Monocytes', 'NK',\n",
              "        'CD14 Monocytes', 'FCGR3A Monocytes', 'CD14 Monocytes',\n",
              "        'CD14 Monocytes', 'CD14 Monocytes', 'NK', 'CD14 Monocytes',\n",
              "        'CD14 Monocytes', 'FCGR3A Monocytes', 'CD14 Monocytes',\n",
              "        'CD14 Monocytes', 'FCGR3A Monocytes', 'CD8 T', 'CD14 Monocytes',\n",
              "        'CD14 Monocytes', 'FCGR3A Monocytes', 'CD14 Monocytes',\n",
              "        'Dendritic', 'CD14 Monocytes', 'CD14 Monocytes', 'CD14 Monocytes',\n",
              "        'NK', 'CD14 Monocytes', 'CD14 Monocytes', 'CD14 Monocytes', 'NK',\n",
              "        'CD14 Monocytes', 'CD14 Monocytes', 'CD14 Monocytes',\n",
              "        'CD14 Monocytes', 'CD14 Monocytes', 'CD14 Monocytes',\n",
              "        'FCGR3A Monocytes', 'CD14 Monocytes', 'CD14 Monocytes',\n",
              "        'FCGR3A Monocytes', 'NK', 'FCGR3A Monocytes', 'CD14 Monocytes',\n",
              "        'CD14 Monocytes', 'CD14 Monocytes', 'CD14 Monocytes',\n",
              "        'FCGR3A Monocytes', 'CD14 Monocytes', 'NK', 'CD14 Monocytes',\n",
              "        'CD8 T', 'NK', 'CD14 Monocytes', 'NK', 'FCGR3A Monocytes',\n",
              "        'CD14 Monocytes', 'CD14 Monocytes', 'FCGR3A Monocytes',\n",
              "        'FCGR3A Monocytes', 'Dendritic', 'CD14 Monocytes',\n",
              "        'CD14 Monocytes', 'CD14 Monocytes', 'CD14 Monocytes',\n",
              "        'CD14 Monocytes', 'Dendritic', 'FCGR3A Monocytes',\n",
              "        'CD14 Monocytes', 'NK', 'NK', 'CD14 Monocytes', 'FCGR3A Monocytes',\n",
              "        'NK', 'Dendritic', 'CD14 Monocytes', 'CD14 Monocytes',\n",
              "        'CD14 Monocytes', 'CD14 Monocytes', 'CD14 Monocytes', 'Dendritic',\n",
              "        'CD14 Monocytes', 'CD14 Monocytes', 'CD14 Monocytes',\n",
              "        'FCGR3A Monocytes', 'CD14 Monocytes', 'FCGR3A Monocytes',\n",
              "        'CD14 Monocytes', 'NK', 'CD14 Monocytes', 'CD14 Monocytes',\n",
              "        'CD14 Monocytes', 'FCGR3A Monocytes', 'NK', 'FCGR3A Monocytes',\n",
              "        'CD14 Monocytes', 'Dendritic', 'CD14 Monocytes', 'CD14 Monocytes',\n",
              "        'CD14 Monocytes', 'FCGR3A Monocytes', 'CD14 Monocytes',\n",
              "        'CD14 Monocytes', 'NK', 'CD14 Monocytes', 'CD14 Monocytes'],\n",
              "       dtype=object),\n",
              " 'y_input_grouped_labels': None}"
            ]
          },
          "metadata": {},
          "execution_count": 484
        }
      ]
    },
    {
      "cell_type": "code",
      "source": [
        "#initialisieren des local classifiers für den Myeloisch node\n",
        "hc.init_node_memory_object('ILC_ALL', memory_class_params=[hc.graph.nodes['ILC_ALL']['memory'].x_input_data, hc.graph.nodes['ILC_ALL']['memory'].y_input_data, Neural_Network])"
      ],
      "metadata": {
        "colab": {
          "base_uri": "https://localhost:8080/"
        },
        "id": "kMEh54iaww_F",
        "outputId": "817e98d1-932c-4078-ae0d-f4881629e4bd"
      },
      "execution_count": 70,
      "outputs": [
        {
          "output_type": "stream",
          "name": "stdout",
          "text": [
            "Aus init_node_memory_object von Knoten ILC_ALL: output größe initialisiert als 2\n",
            "zu übergebene y_input daten: ['NK', 'NK', 'NK', 'NK', 'NK', 'NK', 'NK', 'NK', 'NK', 'NK', 'NK', 'NK', 'NK', 'NK', 'NK', 'NK', 'NK', 'NK', 'NK', 'NK', 'NK', 'NK', 'NK', 'NK', 'NK', 'NK', 'NK', 'NK', 'NK', 'NK', 'NK', 'NK', 'NK', 'NK', 'ILC', 'NK', 'NK', 'NK', 'NK', 'NK', 'NK', 'NK', 'NK', 'NK', 'NK', 'NK', 'NK', 'NK', 'NK', 'NK', 'NK', 'NK', 'NK', 'NK', 'NK', 'NK', 'NK', 'NK', 'NK', 'NK', 'NK', 'NK', 'NK', 'NK', 'NK', 'NK', 'NK', 'NK', 'NK', 'NK', 'NK', 'NK', 'NK', 'NK', 'NK', 'NK', 'NK', 'NK', 'NK', 'NK', 'NK', 'NK', 'NK', 'NK', 'NK', 'NK', 'NK', 'NK', 'NK', 'NK', 'NK', 'NK', 'ILC', 'NK', 'NK', 'NK', 'NK', 'NK', 'NK', 'NK', 'NK', 'NK', 'NK', 'NK', 'NK', 'NK', 'NK', 'NK', 'NK', 'NK', 'NK', 'NK', 'NK', 'NK', 'NK', 'NK', 'NK', 'NK', 'NK', 'NK', 'NK', 'NK', 'ILC', 'NK', 'ILC', 'NK', 'NK', 'NK', 'NK', 'NK', 'NK', 'NK', 'NK', 'NK', 'NK', 'NK', 'NK', 'NK', 'NK', 'NK', 'NK', 'NK', 'NK', 'NK', 'NK', 'NK', 'NK', 'NK', 'NK', 'NK', 'NK', 'NK', 'NK', 'NK', 'NK', 'NK', 'NK', 'NK', 'NK', 'NK', 'NK', 'NK', 'NK', 'NK', 'NK', 'NK', 'NK', 'NK', 'NK', 'NK', 'NK', 'NK', 'NK', 'NK', 'NK', 'NK', 'NK', 'NK', 'NK', 'NK', 'NK', 'NK', 'NK', 'NK', 'NK', 'NK', 'NK', 'NK', 'NK', 'NK', 'NK', 'NK', 'NK', 'NK', 'NK', 'NK', 'NK', 'NK', 'NK', 'NK', 'NK', 'NK', 'NK', 'NK', 'NK', 'NK', 'NK', 'NK', 'NK', 'NK', 'NK', 'NK', 'NK', 'NK', 'NK', 'NK', 'NK', 'NK', 'NK', 'NK', 'NK', 'NK', 'NK', 'NK', 'NK', 'NK', 'NK', 'NK', 'NK', 'NK', 'NK', 'NK', 'NK', 'NK', 'NK', 'NK', 'NK', 'NK', 'NK', 'NK', 'NK', 'NK', 'NK', 'NK', 'NK', 'NK', 'NK', 'NK', 'NK', 'NK', 'NK', 'NK', 'NK', 'NK', 'NK', 'NK', 'NK', 'NK', 'NK', 'ILC', 'NK', 'NK', 'NK', 'NK', 'NK', 'NK', 'NK', 'NK', 'NK', 'NK', 'NK', 'NK', 'NK', 'NK', 'NK', 'NK', 'NK', 'NK', 'NK', 'NK', 'NK', 'NK', 'NK', 'NK', 'NK', 'NK', 'NK', 'NK', 'NK', 'NK', 'NK', 'NK', 'NK', 'NK', 'NK', 'NK', 'NK', 'NK', 'NK', 'NK', 'NK', 'NK', 'NK', 'NK', 'NK', 'NK', 'NK', 'NK', 'NK', 'NK', 'NK', 'NK', 'NK', 'NK', 'NK', 'NK', 'NK', 'NK', 'NK', 'NK', 'NK', 'NK', 'NK', 'NK', 'NK', 'NK', 'NK', 'NK', 'NK', 'NK', 'NK', 'NK', 'NK', 'NK', 'NK', 'ILC', 'NK', 'ILC', 'NK', 'NK', 'NK', 'NK', 'NK', 'NK', 'NK', 'NK', 'NK', 'NK', 'NK', 'NK', 'NK', 'NK', 'NK', 'NK', 'NK', 'NK', 'NK', 'NK', 'NK', 'NK', 'NK', 'NK', 'NK', 'NK', 'NK', 'NK', 'NK', 'NK', 'NK', 'NK', 'NK', 'NK', 'NK', 'NK', 'NK', 'NK', 'NK', 'NK', 'NK', 'NK', 'NK', 'NK', 'NK', 'NK', 'NK', 'NK', 'NK', 'NK', 'NK', 'NK', 'NK', 'NK', 'NK', 'NK', 'NK', 'NK', 'NK', 'NK', 'NK', 'NK', 'NK', 'NK', 'NK', 'NK', 'NK', 'NK', 'NK', 'NK', 'NK', 'NK', 'NK', 'NK', 'NK', 'NK', 'NK', 'NK', 'NK', 'NK', 'NK', 'NK', 'NK', 'NK', 'NK', 'NK', 'ILC', 'NK', 'NK', 'NK', 'NK', 'NK', 'ILC', 'NK', 'NK', 'NK', 'NK', 'NK', 'NK', 'NK', 'NK', 'NK', 'NK', 'NK', 'NK', 'NK', 'NK', 'NK', 'NK', 'NK', 'NK', 'NK', 'NK', 'NK', 'NK', 'NK', 'NK', 'NK', 'NK', 'NK', 'NK', 'NK', 'NK', 'NK', 'NK', 'NK', 'NK', 'NK', 'NK', 'NK', 'NK', 'NK', 'ILC', 'NK', 'NK', 'NK', 'NK', 'NK', 'NK', 'NK', 'NK', 'NK', 'NK', 'NK', 'NK', 'NK', 'NK', 'NK', 'NK', 'NK', 'NK', 'NK', 'NK', 'NK', 'NK', 'NK', 'NK', 'NK', 'NK', 'NK', 'NK', 'NK', 'NK', 'NK', 'NK', 'NK', 'NK', 'NK', 'NK', 'NK', 'NK', 'NK', 'NK', 'NK', 'NK', 'NK', 'NK', 'NK', 'NK', 'NK', 'NK', 'NK', 'NK', 'NK', 'NK', 'NK', 'NK', 'NK', 'NK', 'NK', 'NK', 'NK', 'NK', 'NK', 'NK', 'NK', 'NK', 'NK', 'NK', 'NK', 'NK', 'NK', 'NK', 'NK', 'NK', 'NK', 'NK', 'NK', 'NK', 'NK', 'NK', 'NK', 'NK', 'NK', 'NK', 'NK', 'NK', 'NK', 'NK', 'NK', 'NK', 'NK', 'NK', 'NK', 'NK', 'NK', 'NK', 'NK', 'NK', 'NK', 'NK', 'NK', 'ILC', 'NK', 'NK', 'NK', 'NK', 'NK', 'NK', 'NK', 'NK', 'NK', 'NK', 'NK', 'NK', 'NK', 'NK', 'NK', 'NK', 'NK', 'NK', 'NK', 'NK', 'NK', 'NK', 'NK', 'NK', 'NK', 'NK', 'NK', 'NK', 'NK', 'NK', 'NK', 'NK', 'NK', 'NK', 'NK', 'NK', 'NK', 'NK', 'NK', 'NK', 'NK', 'NK', 'NK', 'NK', 'NK', 'NK', 'NK', 'NK', 'NK', 'NK', 'NK', 'NK', 'NK', 'NK', 'NK', 'NK', 'NK', 'NK', 'NK', 'NK', 'NK', 'NK', 'NK', 'NK', 'NK', 'NK', 'NK', 'NK', 'NK', 'NK', 'NK', 'NK', 'NK', 'NK', 'NK', 'NK', 'NK', 'NK', 'NK', 'NK', 'NK', 'NK', 'NK', 'NK', 'NK', 'NK', 'NK', 'NK', 'NK', 'NK', 'NK', 'NK', 'NK', 'NK', 'NK', 'NK', 'NK', 'NK', 'NK', 'NK', 'NK', 'NK', 'NK', 'NK', 'NK', 'NK', 'NK', 'NK', 'NK', 'NK', 'NK', 'NK', 'NK', 'NK', 'NK', 'NK', 'NK', 'NK', 'NK', 'NK', 'NK', 'NK', 'NK', 'NK', 'NK', 'NK', 'NK', 'NK', 'NK', 'NK', 'NK', 'NK', 'NK', 'NK', 'NK', 'NK', 'NK', 'NK', 'NK', 'NK', 'NK', 'NK', 'NK', 'NK', 'NK', 'NK', 'NK', 'NK', 'NK', 'NK', 'NK', 'NK', 'NK', 'NK', 'NK', 'NK', 'NK', 'NK', 'NK', 'NK', 'NK', 'NK', 'NK', 'NK', 'NK', 'NK', 'NK', 'NK', 'NK', 'NK', 'NK', 'NK', 'NK', 'NK', 'NK', 'NK', 'NK', 'NK', 'NK', 'NK', 'NK', 'NK', 'NK', 'NK', 'NK', 'NK', 'NK', 'NK', 'NK', 'NK', 'NK', 'NK', 'NK', 'NK', 'NK', 'NK', 'NK', 'NK', 'NK', 'NK', 'NK', 'NK', 'NK', 'NK', 'NK', 'NK', 'NK', 'NK', 'NK', 'NK', 'NK', 'NK', 'NK', 'NK', 'NK', 'NK', 'NK', 'NK', 'NK', 'NK', 'NK', 'ILC', 'NK', 'NK', 'NK', 'NK', 'NK', 'NK', 'NK', 'NK', 'NK', 'NK', 'NK', 'NK', 'NK', 'NK', 'NK', 'NK', 'NK', 'NK', 'NK', 'NK', 'NK', 'NK', 'NK', 'NK', 'NK', 'NK', 'NK', 'NK', 'NK', 'NK', 'NK', 'NK', 'NK', 'NK', 'NK', 'NK', 'NK', 'NK', 'NK', 'NK', 'NK', 'NK', 'NK', 'NK', 'NK', 'ILC', 'NK', 'NK', 'NK', 'NK', 'NK', 'NK', 'NK', 'NK', 'NK', 'NK', 'NK', 'NK', 'NK', 'NK', 'NK', 'NK', 'NK', 'NK', 'NK', 'NK', 'NK', 'NK', 'NK', 'NK', 'NK', 'NK', 'NK', 'NK', 'NK', 'NK', 'NK', 'NK', 'NK', 'NK', 'NK', 'NK', 'ILC', 'NK', 'NK', 'NK', 'NK', 'NK', 'NK', 'NK', 'NK', 'NK', 'NK', 'NK', 'NK', 'NK', 'NK', 'NK', 'NK', 'NK', 'NK', 'NK', 'NK', 'NK', 'NK', 'NK', 'NK', 'NK', 'NK', 'NK', 'NK', 'NK', 'NK', 'NK', 'NK', 'NK', 'NK', 'ILC', 'NK', 'NK', 'NK', 'NK', 'NK', 'NK', 'NK', 'NK', 'NK', 'NK', 'NK', 'NK', 'NK', 'NK', 'NK', 'NK', 'NK', 'NK', 'NK', 'NK', 'NK', 'NK', 'NK', 'NK', 'NK', 'NK', 'NK', 'NK', 'NK', 'NK', 'NK', 'NK', 'NK', 'NK', 'NK', 'NK', 'NK', 'NK', 'NK', 'NK', 'NK', 'NK', 'NK', 'NK', 'NK', 'NK', 'NK', 'NK', 'NK', 'NK', 'NK', 'NK', 'NK', 'NK', 'NK', 'NK', 'NK', 'NK', 'NK', 'NK', 'NK', 'NK', 'NK', 'NK', 'NK', 'NK', 'NK', 'NK', 'NK', 'NK', 'NK', 'NK', 'NK', 'NK', 'NK', 'NK', 'NK', 'NK', 'NK', 'NK', 'NK', 'NK', 'NK', 'NK', 'NK', 'NK', 'NK', 'NK', 'NK', 'NK', 'NK', 'NK', 'NK', 'NK', 'NK', 'NK', 'NK', 'NK', 'NK', 'NK', 'NK', 'NK', 'NK', 'NK', 'NK', 'NK', 'NK', 'NK', 'NK', 'NK', 'NK', 'NK', 'NK', 'NK', 'NK', 'NK', 'NK', 'NK', 'NK', 'NK', 'NK', 'NK', 'NK', 'NK', 'NK', 'NK', 'NK', 'NK', 'NK', 'NK', 'NK', 'NK', 'NK', 'NK', 'NK', 'NK', 'NK', 'NK', 'NK', 'NK', 'NK', 'NK', 'NK', 'NK', 'NK', 'NK', 'NK', 'NK', 'NK', 'NK', 'NK', 'NK', 'NK', 'NK', 'NK', 'NK', 'NK', 'NK', 'NK', 'NK', 'NK', 'NK', 'NK', 'NK', 'NK', 'ILC', 'NK', 'NK', 'NK', 'NK', 'NK', 'NK', 'NK', 'NK', 'NK', 'NK', 'NK', 'NK', 'NK', 'NK', 'NK', 'NK', 'NK', 'NK', 'NK', 'NK', 'NK', 'NK', 'NK', 'NK', 'NK', 'NK', 'NK', 'NK', 'NK', 'NK', 'NK', 'NK', 'NK', 'NK', 'NK', 'NK', 'NK', 'NK', 'NK', 'NK', 'NK', 'NK', 'NK', 'NK', 'NK', 'NK', 'NK', 'NK', 'NK', 'NK', 'NK', 'NK', 'NK', 'NK', 'NK', 'NK', 'NK', 'NK', 'NK', 'NK', 'NK', 'NK', 'NK', 'NK', 'NK', 'NK', 'NK', 'NK', 'NK', 'NK', 'NK', 'NK', 'NK', 'NK', 'NK', 'NK', 'NK', 'NK', 'NK', 'NK', 'NK', 'NK', 'NK', 'NK', 'NK', 'NK', 'NK', 'NK', 'NK', 'NK', 'NK', 'NK', 'NK', 'ILC', 'NK', 'NK', 'ILC', 'NK', 'NK', 'NK', 'NK', 'NK', 'NK', 'NK', 'NK', 'NK', 'NK', 'NK', 'NK', 'NK', 'NK', 'NK', 'NK', 'NK', 'NK', 'NK', 'NK', 'NK', 'NK', 'NK', 'NK', 'NK', 'NK', 'NK', 'NK', 'NK', 'NK', 'NK', 'NK', 'NK', 'NK', 'NK', 'NK', 'NK', 'NK', 'NK', 'NK', 'NK', 'NK', 'NK', 'NK', 'NK', 'NK', 'ILC', 'NK', 'NK', 'NK', 'NK', 'NK', 'NK', 'NK', 'NK', 'NK', 'NK', 'NK', 'NK', 'NK', 'NK', 'NK', 'NK', 'NK', 'ILC', 'NK', 'NK', 'NK', 'NK', 'NK', 'NK', 'NK', 'NK', 'NK', 'NK', 'NK', 'NK', 'NK', 'NK', 'NK', 'NK', 'NK', 'NK', 'NK', 'NK', 'NK', 'NK', 'NK', 'NK', 'NK', 'NK', 'NK', 'NK', 'NK', 'NK', 'NK', 'NK', 'NK', 'NK', 'NK', 'NK', 'NK', 'NK', 'NK', 'NK', 'NK', 'NK', 'NK', 'NK', 'NK', 'NK', 'NK', 'NK', 'NK', 'NK', 'NK', 'NK', 'NK', 'NK', 'NK', 'NK', 'NK', 'NK', 'NK', 'NK', 'NK', 'NK', 'NK', 'ILC', 'NK', 'NK', 'NK', 'NK', 'NK', 'NK', 'NK', 'NK', 'NK', 'NK', 'NK', 'NK', 'NK', 'NK', 'NK', 'NK', 'NK', 'NK', 'NK', 'NK', 'NK', 'ILC', 'NK', 'NK', 'NK', 'NK', 'NK', 'NK', 'NK', 'NK', 'NK', 'NK', 'NK', 'NK', 'NK', 'NK', 'NK', 'NK', 'NK', 'NK', 'NK', 'NK', 'NK', 'NK', 'NK', 'NK', 'NK', 'NK', 'NK', 'NK', 'NK', 'NK', 'NK', 'NK', 'NK', 'NK', 'NK', 'NK', 'NK', 'NK', 'NK', 'NK', 'NK', 'NK', 'NK', 'NK', 'NK', 'NK']\n"
          ]
        }
      ]
    },
    {
      "cell_type": "code",
      "source": [
        "hc.run_local_classifier('ILC_ALL')"
      ],
      "metadata": {
        "colab": {
          "base_uri": "https://localhost:8080/"
        },
        "id": "SfjzJDFLwrZx",
        "outputId": "a0315b9a-f870-4687-d45b-502911fcc197"
      },
      "execution_count": 71,
      "outputs": [
        {
          "output_type": "stream",
          "name": "stdout",
          "text": [
            "network y_input before encoding: ['NK', 'NK', 'NK', 'NK', 'NK', 'NK', 'NK', 'NK', 'NK', 'NK', 'NK', 'NK', 'NK', 'NK', 'NK', 'NK', 'NK', 'NK', 'NK', 'NK', 'NK', 'NK', 'NK', 'NK', 'NK', 'NK', 'NK', 'NK', 'NK', 'NK', 'NK', 'NK', 'NK', 'NK', 'ILC', 'NK', 'NK', 'NK', 'NK', 'NK', 'NK', 'NK', 'NK', 'NK', 'NK', 'NK', 'NK', 'NK', 'NK', 'NK', 'NK', 'NK', 'NK', 'NK', 'NK', 'NK', 'NK', 'NK', 'NK', 'NK', 'NK', 'NK', 'NK', 'NK', 'NK', 'NK', 'NK', 'NK', 'NK', 'NK', 'NK', 'NK', 'NK', 'NK', 'NK', 'NK', 'NK', 'NK', 'NK', 'NK', 'NK', 'NK', 'NK', 'NK', 'NK', 'NK', 'NK', 'NK', 'NK', 'NK', 'NK', 'NK', 'ILC', 'NK', 'NK', 'NK', 'NK', 'NK', 'NK', 'NK', 'NK', 'NK', 'NK', 'NK', 'NK', 'NK', 'NK', 'NK', 'NK', 'NK', 'NK', 'NK', 'NK', 'NK', 'NK', 'NK', 'NK', 'NK', 'NK', 'NK', 'NK', 'NK', 'ILC', 'NK', 'ILC', 'NK', 'NK', 'NK', 'NK', 'NK', 'NK', 'NK', 'NK', 'NK', 'NK', 'NK', 'NK', 'NK', 'NK', 'NK', 'NK', 'NK', 'NK', 'NK', 'NK', 'NK', 'NK', 'NK', 'NK', 'NK', 'NK', 'NK', 'NK', 'NK', 'NK', 'NK', 'NK', 'NK', 'NK', 'NK', 'NK', 'NK', 'NK', 'NK', 'NK', 'NK', 'NK', 'NK', 'NK', 'NK', 'NK', 'NK', 'NK', 'NK', 'NK', 'NK', 'NK', 'NK', 'NK', 'NK', 'NK', 'NK', 'NK', 'NK', 'NK', 'NK', 'NK', 'NK', 'NK', 'NK', 'NK', 'NK', 'NK', 'NK', 'NK', 'NK', 'NK', 'NK', 'NK', 'NK', 'NK', 'NK', 'NK', 'NK', 'NK', 'NK', 'NK', 'NK', 'NK', 'NK', 'NK', 'NK', 'NK', 'NK', 'NK', 'NK', 'NK', 'NK', 'NK', 'NK', 'NK', 'NK', 'NK', 'NK', 'NK', 'NK', 'NK', 'NK', 'NK', 'NK', 'NK', 'NK', 'NK', 'NK', 'NK', 'NK', 'NK', 'NK', 'NK', 'NK', 'NK', 'NK', 'NK', 'NK', 'NK', 'NK', 'NK', 'NK', 'NK', 'NK', 'NK', 'NK', 'NK', 'NK', 'NK', 'NK', 'NK', 'NK', 'NK', 'ILC', 'NK', 'NK', 'NK', 'NK', 'NK', 'NK', 'NK', 'NK', 'NK', 'NK', 'NK', 'NK', 'NK', 'NK', 'NK', 'NK', 'NK', 'NK', 'NK', 'NK', 'NK', 'NK', 'NK', 'NK', 'NK', 'NK', 'NK', 'NK', 'NK', 'NK', 'NK', 'NK', 'NK', 'NK', 'NK', 'NK', 'NK', 'NK', 'NK', 'NK', 'NK', 'NK', 'NK', 'NK', 'NK', 'NK', 'NK', 'NK', 'NK', 'NK', 'NK', 'NK', 'NK', 'NK', 'NK', 'NK', 'NK', 'NK', 'NK', 'NK', 'NK', 'NK', 'NK', 'NK', 'NK', 'NK', 'NK', 'NK', 'NK', 'NK', 'NK', 'NK', 'NK', 'NK', 'NK', 'ILC', 'NK', 'ILC', 'NK', 'NK', 'NK', 'NK', 'NK', 'NK', 'NK', 'NK', 'NK', 'NK', 'NK', 'NK', 'NK', 'NK', 'NK', 'NK', 'NK', 'NK', 'NK', 'NK', 'NK', 'NK', 'NK', 'NK', 'NK', 'NK', 'NK', 'NK', 'NK', 'NK', 'NK', 'NK', 'NK', 'NK', 'NK', 'NK', 'NK', 'NK', 'NK', 'NK', 'NK', 'NK', 'NK', 'NK', 'NK', 'NK', 'NK', 'NK', 'NK', 'NK', 'NK', 'NK', 'NK', 'NK', 'NK', 'NK', 'NK', 'NK', 'NK', 'NK', 'NK', 'NK', 'NK', 'NK', 'NK', 'NK', 'NK', 'NK', 'NK', 'NK', 'NK', 'NK', 'NK', 'NK', 'NK', 'NK', 'NK', 'NK', 'NK', 'NK', 'NK', 'NK', 'NK', 'NK', 'NK', 'NK', 'ILC', 'NK', 'NK', 'NK', 'NK', 'NK', 'ILC', 'NK', 'NK', 'NK', 'NK', 'NK', 'NK', 'NK', 'NK', 'NK', 'NK', 'NK', 'NK', 'NK', 'NK', 'NK', 'NK', 'NK', 'NK', 'NK', 'NK', 'NK', 'NK', 'NK', 'NK', 'NK', 'NK', 'NK', 'NK', 'NK', 'NK', 'NK', 'NK', 'NK', 'NK', 'NK', 'NK', 'NK', 'NK', 'NK', 'ILC', 'NK', 'NK', 'NK', 'NK', 'NK', 'NK', 'NK', 'NK', 'NK', 'NK', 'NK', 'NK', 'NK', 'NK', 'NK', 'NK', 'NK', 'NK', 'NK', 'NK', 'NK', 'NK', 'NK', 'NK', 'NK', 'NK', 'NK', 'NK', 'NK', 'NK', 'NK', 'NK', 'NK', 'NK', 'NK', 'NK', 'NK', 'NK', 'NK', 'NK', 'NK', 'NK', 'NK', 'NK', 'NK', 'NK', 'NK', 'NK', 'NK', 'NK', 'NK', 'NK', 'NK', 'NK', 'NK', 'NK', 'NK', 'NK', 'NK', 'NK', 'NK', 'NK', 'NK', 'NK', 'NK', 'NK', 'NK', 'NK', 'NK', 'NK', 'NK', 'NK', 'NK', 'NK', 'NK', 'NK', 'NK', 'NK', 'NK', 'NK', 'NK', 'NK', 'NK', 'NK', 'NK', 'NK', 'NK', 'NK', 'NK', 'NK', 'NK', 'NK', 'NK', 'NK', 'NK', 'NK', 'NK', 'NK', 'NK', 'ILC', 'NK', 'NK', 'NK', 'NK', 'NK', 'NK', 'NK', 'NK', 'NK', 'NK', 'NK', 'NK', 'NK', 'NK', 'NK', 'NK', 'NK', 'NK', 'NK', 'NK', 'NK', 'NK', 'NK', 'NK', 'NK', 'NK', 'NK', 'NK', 'NK', 'NK', 'NK', 'NK', 'NK', 'NK', 'NK', 'NK', 'NK', 'NK', 'NK', 'NK', 'NK', 'NK', 'NK', 'NK', 'NK', 'NK', 'NK', 'NK', 'NK', 'NK', 'NK', 'NK', 'NK', 'NK', 'NK', 'NK', 'NK', 'NK', 'NK', 'NK', 'NK', 'NK', 'NK', 'NK', 'NK', 'NK', 'NK', 'NK', 'NK', 'NK', 'NK', 'NK', 'NK', 'NK', 'NK', 'NK', 'NK', 'NK', 'NK', 'NK', 'NK', 'NK', 'NK', 'NK', 'NK', 'NK', 'NK', 'NK', 'NK', 'NK', 'NK', 'NK', 'NK', 'NK', 'NK', 'NK', 'NK', 'NK', 'NK', 'NK', 'NK', 'NK', 'NK', 'NK', 'NK', 'NK', 'NK', 'NK', 'NK', 'NK', 'NK', 'NK', 'NK', 'NK', 'NK', 'NK', 'NK', 'NK', 'NK', 'NK', 'NK', 'NK', 'NK', 'NK', 'NK', 'NK', 'NK', 'NK', 'NK', 'NK', 'NK', 'NK', 'NK', 'NK', 'NK', 'NK', 'NK', 'NK', 'NK', 'NK', 'NK', 'NK', 'NK', 'NK', 'NK', 'NK', 'NK', 'NK', 'NK', 'NK', 'NK', 'NK', 'NK', 'NK', 'NK', 'NK', 'NK', 'NK', 'NK', 'NK', 'NK', 'NK', 'NK', 'NK', 'NK', 'NK', 'NK', 'NK', 'NK', 'NK', 'NK', 'NK', 'NK', 'NK', 'NK', 'NK', 'NK', 'NK', 'NK', 'NK', 'NK', 'NK', 'NK', 'NK', 'NK', 'NK', 'NK', 'NK', 'NK', 'NK', 'NK', 'NK', 'NK', 'NK', 'NK', 'NK', 'NK', 'NK', 'NK', 'NK', 'NK', 'NK', 'NK', 'NK', 'NK', 'NK', 'NK', 'NK', 'NK', 'NK', 'NK', 'NK', 'NK', 'NK', 'NK', 'NK', 'NK', 'NK', 'NK', 'NK', 'NK', 'ILC', 'NK', 'NK', 'NK', 'NK', 'NK', 'NK', 'NK', 'NK', 'NK', 'NK', 'NK', 'NK', 'NK', 'NK', 'NK', 'NK', 'NK', 'NK', 'NK', 'NK', 'NK', 'NK', 'NK', 'NK', 'NK', 'NK', 'NK', 'NK', 'NK', 'NK', 'NK', 'NK', 'NK', 'NK', 'NK', 'NK', 'NK', 'NK', 'NK', 'NK', 'NK', 'NK', 'NK', 'NK', 'NK', 'ILC', 'NK', 'NK', 'NK', 'NK', 'NK', 'NK', 'NK', 'NK', 'NK', 'NK', 'NK', 'NK', 'NK', 'NK', 'NK', 'NK', 'NK', 'NK', 'NK', 'NK', 'NK', 'NK', 'NK', 'NK', 'NK', 'NK', 'NK', 'NK', 'NK', 'NK', 'NK', 'NK', 'NK', 'NK', 'NK', 'NK', 'ILC', 'NK', 'NK', 'NK', 'NK', 'NK', 'NK', 'NK', 'NK', 'NK', 'NK', 'NK', 'NK', 'NK', 'NK', 'NK', 'NK', 'NK', 'NK', 'NK', 'NK', 'NK', 'NK', 'NK', 'NK', 'NK', 'NK', 'NK', 'NK', 'NK', 'NK', 'NK', 'NK', 'NK', 'NK', 'ILC', 'NK', 'NK', 'NK', 'NK', 'NK', 'NK', 'NK', 'NK', 'NK', 'NK', 'NK', 'NK', 'NK', 'NK', 'NK', 'NK', 'NK', 'NK', 'NK', 'NK', 'NK', 'NK', 'NK', 'NK', 'NK', 'NK', 'NK', 'NK', 'NK', 'NK', 'NK', 'NK', 'NK', 'NK', 'NK', 'NK', 'NK', 'NK', 'NK', 'NK', 'NK', 'NK', 'NK', 'NK', 'NK', 'NK', 'NK', 'NK', 'NK', 'NK', 'NK', 'NK', 'NK', 'NK', 'NK', 'NK', 'NK', 'NK', 'NK', 'NK', 'NK', 'NK', 'NK', 'NK', 'NK', 'NK', 'NK', 'NK', 'NK', 'NK', 'NK', 'NK', 'NK', 'NK', 'NK', 'NK', 'NK', 'NK', 'NK', 'NK', 'NK', 'NK', 'NK', 'NK', 'NK', 'NK', 'NK', 'NK', 'NK', 'NK', 'NK', 'NK', 'NK', 'NK', 'NK', 'NK', 'NK', 'NK', 'NK', 'NK', 'NK', 'NK', 'NK', 'NK', 'NK', 'NK', 'NK', 'NK', 'NK', 'NK', 'NK', 'NK', 'NK', 'NK', 'NK', 'NK', 'NK', 'NK', 'NK', 'NK', 'NK', 'NK', 'NK', 'NK', 'NK', 'NK', 'NK', 'NK', 'NK', 'NK', 'NK', 'NK', 'NK', 'NK', 'NK', 'NK', 'NK', 'NK', 'NK', 'NK', 'NK', 'NK', 'NK', 'NK', 'NK', 'NK', 'NK', 'NK', 'NK', 'NK', 'NK', 'NK', 'NK', 'NK', 'NK', 'NK', 'NK', 'NK', 'NK', 'NK', 'NK', 'NK', 'NK', 'NK', 'NK', 'ILC', 'NK', 'NK', 'NK', 'NK', 'NK', 'NK', 'NK', 'NK', 'NK', 'NK', 'NK', 'NK', 'NK', 'NK', 'NK', 'NK', 'NK', 'NK', 'NK', 'NK', 'NK', 'NK', 'NK', 'NK', 'NK', 'NK', 'NK', 'NK', 'NK', 'NK', 'NK', 'NK', 'NK', 'NK', 'NK', 'NK', 'NK', 'NK', 'NK', 'NK', 'NK', 'NK', 'NK', 'NK', 'NK', 'NK', 'NK', 'NK', 'NK', 'NK', 'NK', 'NK', 'NK', 'NK', 'NK', 'NK', 'NK', 'NK', 'NK', 'NK', 'NK', 'NK', 'NK', 'NK', 'NK', 'NK', 'NK', 'NK', 'NK', 'NK', 'NK', 'NK', 'NK', 'NK', 'NK', 'NK', 'NK', 'NK', 'NK', 'NK', 'NK', 'NK', 'NK', 'NK', 'NK', 'NK', 'NK', 'NK', 'NK', 'NK', 'NK', 'NK', 'NK', 'ILC', 'NK', 'NK', 'ILC', 'NK', 'NK', 'NK', 'NK', 'NK', 'NK', 'NK', 'NK', 'NK', 'NK', 'NK', 'NK', 'NK', 'NK', 'NK', 'NK', 'NK', 'NK', 'NK', 'NK', 'NK', 'NK', 'NK', 'NK', 'NK', 'NK', 'NK', 'NK', 'NK', 'NK', 'NK', 'NK', 'NK', 'NK', 'NK', 'NK', 'NK', 'NK', 'NK', 'NK', 'NK', 'NK', 'NK', 'NK', 'NK', 'NK', 'ILC', 'NK', 'NK', 'NK', 'NK', 'NK', 'NK', 'NK', 'NK', 'NK', 'NK', 'NK', 'NK', 'NK', 'NK', 'NK', 'NK', 'NK', 'ILC', 'NK', 'NK', 'NK', 'NK', 'NK', 'NK', 'NK', 'NK', 'NK', 'NK', 'NK', 'NK', 'NK', 'NK', 'NK', 'NK', 'NK', 'NK', 'NK', 'NK', 'NK', 'NK', 'NK', 'NK', 'NK', 'NK', 'NK', 'NK', 'NK', 'NK', 'NK', 'NK', 'NK', 'NK', 'NK', 'NK', 'NK', 'NK', 'NK', 'NK', 'NK', 'NK', 'NK', 'NK', 'NK', 'NK', 'NK', 'NK', 'NK', 'NK', 'NK', 'NK', 'NK', 'NK', 'NK', 'NK', 'NK', 'NK', 'NK', 'NK', 'NK', 'NK', 'NK', 'ILC', 'NK', 'NK', 'NK', 'NK', 'NK', 'NK', 'NK', 'NK', 'NK', 'NK', 'NK', 'NK', 'NK', 'NK', 'NK', 'NK', 'NK', 'NK', 'NK', 'NK', 'NK', 'ILC', 'NK', 'NK', 'NK', 'NK', 'NK', 'NK', 'NK', 'NK', 'NK', 'NK', 'NK', 'NK', 'NK', 'NK', 'NK', 'NK', 'NK', 'NK', 'NK', 'NK', 'NK', 'NK', 'NK', 'NK', 'NK', 'NK', 'NK', 'NK', 'NK', 'NK', 'NK', 'NK', 'NK', 'NK', 'NK', 'NK', 'NK', 'NK', 'NK', 'NK', 'NK', 'NK', 'NK', 'NK', 'NK', 'NK']\n",
            "Epoch 1/50\n",
            "13/13 [==============================] - 1s 25ms/step - loss: 0.4963 - val_loss: 0.4571\n",
            "Epoch 2/50\n",
            "13/13 [==============================] - 0s 7ms/step - loss: 0.4275 - val_loss: 0.3933\n",
            "Epoch 3/50\n",
            "13/13 [==============================] - 0s 7ms/step - loss: 0.3582 - val_loss: 0.3420\n",
            "Epoch 4/50\n",
            "13/13 [==============================] - 0s 7ms/step - loss: 0.3049 - val_loss: 0.3052\n",
            "Epoch 5/50\n",
            "13/13 [==============================] - 0s 6ms/step - loss: 0.2651 - val_loss: 0.2790\n",
            "Epoch 6/50\n",
            "13/13 [==============================] - 0s 6ms/step - loss: 0.2360 - val_loss: 0.2598\n",
            "Epoch 7/50\n",
            "13/13 [==============================] - 0s 7ms/step - loss: 0.2139 - val_loss: 0.2452\n",
            "Epoch 8/50\n",
            "13/13 [==============================] - 0s 5ms/step - loss: 0.1966 - val_loss: 0.2339\n",
            "Epoch 9/50\n",
            "13/13 [==============================] - 0s 7ms/step - loss: 0.1823 - val_loss: 0.2252\n",
            "Epoch 10/50\n",
            "13/13 [==============================] - 0s 6ms/step - loss: 0.1713 - val_loss: 0.2179\n",
            "Epoch 11/50\n",
            "13/13 [==============================] - 0s 6ms/step - loss: 0.1618 - val_loss: 0.2121\n",
            "Epoch 12/50\n",
            "13/13 [==============================] - 0s 7ms/step - loss: 0.1535 - val_loss: 0.2073\n",
            "Epoch 13/50\n",
            "13/13 [==============================] - 0s 7ms/step - loss: 0.1468 - val_loss: 0.2032\n",
            "Epoch 14/50\n",
            "13/13 [==============================] - 0s 6ms/step - loss: 0.1409 - val_loss: 0.1997\n",
            "Epoch 15/50\n",
            "13/13 [==============================] - 0s 4ms/step - loss: 0.1358 - val_loss: 0.1966\n",
            "Epoch 16/50\n",
            "13/13 [==============================] - 0s 4ms/step - loss: 0.1313 - val_loss: 0.1941\n",
            "Epoch 17/50\n",
            "13/13 [==============================] - 0s 4ms/step - loss: 0.1272 - val_loss: 0.1917\n",
            "Epoch 18/50\n",
            "13/13 [==============================] - 0s 4ms/step - loss: 0.1237 - val_loss: 0.1898\n",
            "Epoch 19/50\n",
            "13/13 [==============================] - 0s 4ms/step - loss: 0.1205 - val_loss: 0.1880\n",
            "Epoch 20/50\n",
            "13/13 [==============================] - 0s 4ms/step - loss: 0.1177 - val_loss: 0.1865\n",
            "Epoch 21/50\n",
            "13/13 [==============================] - 0s 4ms/step - loss: 0.1150 - val_loss: 0.1850\n",
            "Epoch 22/50\n",
            "13/13 [==============================] - 0s 4ms/step - loss: 0.1127 - val_loss: 0.1837\n",
            "Epoch 23/50\n",
            "13/13 [==============================] - 0s 4ms/step - loss: 0.1105 - val_loss: 0.1826\n",
            "Epoch 24/50\n",
            "13/13 [==============================] - 0s 4ms/step - loss: 0.1085 - val_loss: 0.1814\n",
            "Epoch 25/50\n",
            "13/13 [==============================] - 0s 4ms/step - loss: 0.1067 - val_loss: 0.1805\n",
            "Epoch 26/50\n",
            "13/13 [==============================] - 0s 4ms/step - loss: 0.1050 - val_loss: 0.1794\n",
            "Epoch 27/50\n",
            "13/13 [==============================] - 0s 4ms/step - loss: 0.1035 - val_loss: 0.1786\n",
            "Epoch 28/50\n",
            "13/13 [==============================] - 0s 5ms/step - loss: 0.1020 - val_loss: 0.1778\n",
            "Epoch 29/50\n",
            "13/13 [==============================] - 0s 4ms/step - loss: 0.1007 - val_loss: 0.1770\n",
            "Epoch 30/50\n",
            "13/13 [==============================] - 0s 5ms/step - loss: 0.0994 - val_loss: 0.1762\n",
            "Epoch 31/50\n",
            "13/13 [==============================] - 0s 4ms/step - loss: 0.0983 - val_loss: 0.1756\n",
            "Epoch 32/50\n",
            "13/13 [==============================] - 0s 4ms/step - loss: 0.0972 - val_loss: 0.1749\n",
            "Epoch 33/50\n",
            "13/13 [==============================] - 0s 4ms/step - loss: 0.0961 - val_loss: 0.1742\n",
            "Epoch 34/50\n",
            "13/13 [==============================] - 0s 4ms/step - loss: 0.0951 - val_loss: 0.1736\n",
            "Epoch 35/50\n",
            "13/13 [==============================] - 0s 6ms/step - loss: 0.0943 - val_loss: 0.1730\n",
            "Epoch 36/50\n",
            "13/13 [==============================] - 0s 4ms/step - loss: 0.0933 - val_loss: 0.1724\n",
            "Epoch 37/50\n",
            "13/13 [==============================] - 0s 4ms/step - loss: 0.0925 - val_loss: 0.1718\n",
            "Epoch 38/50\n",
            "13/13 [==============================] - 0s 4ms/step - loss: 0.0917 - val_loss: 0.1713\n",
            "Epoch 39/50\n",
            "13/13 [==============================] - 0s 3ms/step - loss: 0.0909 - val_loss: 0.1707\n",
            "Epoch 40/50\n",
            "13/13 [==============================] - 0s 4ms/step - loss: 0.0902 - val_loss: 0.1701\n",
            "Epoch 41/50\n",
            "13/13 [==============================] - 0s 4ms/step - loss: 0.0895 - val_loss: 0.1695\n",
            "Epoch 42/50\n",
            "13/13 [==============================] - 0s 4ms/step - loss: 0.0889 - val_loss: 0.1690\n",
            "Epoch 43/50\n",
            "13/13 [==============================] - 0s 4ms/step - loss: 0.0882 - val_loss: 0.1684\n",
            "Epoch 44/50\n",
            "13/13 [==============================] - 0s 4ms/step - loss: 0.0876 - val_loss: 0.1679\n",
            "Epoch 45/50\n",
            "13/13 [==============================] - 0s 4ms/step - loss: 0.0870 - val_loss: 0.1674\n",
            "Epoch 46/50\n",
            "13/13 [==============================] - 0s 4ms/step - loss: 0.0865 - val_loss: 0.1669\n",
            "Epoch 47/50\n",
            "13/13 [==============================] - 0s 4ms/step - loss: 0.0859 - val_loss: 0.1664\n",
            "Epoch 48/50\n",
            "13/13 [==============================] - 0s 4ms/step - loss: 0.0854 - val_loss: 0.1659\n",
            "Epoch 49/50\n",
            "13/13 [==============================] - 0s 4ms/step - loss: 0.0849 - val_loss: 0.1655\n",
            "Epoch 50/50\n",
            "13/13 [==============================] - 0s 4ms/step - loss: 0.0844 - val_loss: 0.1650\n"
          ]
        }
      ]
    },
    {
      "cell_type": "code",
      "source": [
        "#accuracy of myeloic classifier model \n",
        "print(hc.graph.nodes['ILC_ALL']['memory'].training_acc)\n",
        "\n",
        "print(hc.graph.nodes['ILC_ALL']['memory'].test_acc)"
      ],
      "metadata": {
        "colab": {
          "base_uri": "https://localhost:8080/"
        },
        "id": "7_Mzndb1y2pt",
        "outputId": "6b1fd0b8-8679-4df7-d872-79f3f12dca53"
      },
      "execution_count": 72,
      "outputs": [
        {
          "output_type": "stream",
          "name": "stdout",
          "text": [
            "0.9835886214442013\n",
            "0.9846827133479212\n"
          ]
        }
      ]
    },
    {
      "cell_type": "markdown",
      "source": [
        "Aktuell implementierte Objektauswahl macht Durchführung der Klassifizierung für 'Others' Knoten mit nur einem Tochterknoten sinnlos -> bräuchte direkte Ausgabe der softmax Aktivierungsfunktion um Wahrscheinlichkeiten auszugeben und dann eine confidence based entscheidung anstelle von auswahl des höchsten wertes (wäre dann immer eben der eine zur Wahl stehende Tochterknoten)"
      ],
      "metadata": {
        "id": "krNvN2Hszjpy"
      }
    },
    {
      "cell_type": "code",
      "source": [
        "#Neural_Netwok.model.summary() shows summary of hidden and output layers and trainable parameter"
      ],
      "metadata": {
        "id": "qkFJXBlVXbSt"
      },
      "execution_count": null,
      "outputs": []
    },
    {
      "cell_type": "markdown",
      "source": [
        ""
      ],
      "metadata": {
        "id": "6hQW1Xn-U9hn"
      }
    }
  ]
}