{
  "nbformat": 4,
  "nbformat_minor": 0,
  "metadata": {
    "colab": {
      "name": "NN_class_dev.ipynb",
      "provenance": [],
      "collapsed_sections": [],
      "include_colab_link": true
    },
    "kernelspec": {
      "name": "python3",
      "display_name": "Python 3"
    },
    "language_info": {
      "name": "python"
    }
  },
  "cells": [
    {
      "cell_type": "markdown",
      "metadata": {
        "id": "view-in-github",
        "colab_type": "text"
      },
      "source": [
        "<a href=\"https://colab.research.google.com/github/leonSadowski/sc_Hierarchical_Classifier/blob/main/NN_class_dev.ipynb\" target=\"_parent\"><img src=\"https://colab.research.google.com/assets/colab-badge.svg\" alt=\"Open In Colab\"/></a>"
      ]
    },
    {
      "cell_type": "code",
      "source": [
        "import numpy as np \n",
        "import tensorflow as tf \n",
        "import tensorflow.keras as keras \n",
        "from sklearn.preprocessing import LabelEncoder\n",
        "import pandas as pd\n",
        "import networkx as nx"
      ],
      "metadata": {
        "id": "XAInitxPwiAO"
      },
      "execution_count": null,
      "outputs": []
    },
    {
      "cell_type": "markdown",
      "source": [
        "**Create Class for local (NN) classifier**"
      ],
      "metadata": {
        "id": "FeZG7IAvwWzS"
      }
    },
    {
      "cell_type": "code",
      "execution_count": null,
      "metadata": {
        "id": "A0eeCUgYwORc"
      },
      "outputs": [],
      "source": [
        "class Neural_Network():\n",
        "\n",
        "  def __init__(self, \n",
        "               x_input_data,\n",
        "               y_input_data,\n",
        "               len_of_output, #NEU!!!!! ÜBERGEBE LÄNGE DES OUTPUT VEKTORS WEIL Y_INPUT KEIN PANDAS DATAFRAME MEHR IST\n",
        "               z_transform_input = True,\n",
        "               list_of_hidden_layer_nodes = [30],\n",
        "               activation_function = 'relu',\n",
        "               learning_rate = 0.001,\n",
        "               momentum = .9,\n",
        "               loss_function = 'categorical_crossentropy',\n",
        "               epochs = 50):\n",
        "    \n",
        "    self.x_input_data = x_input_data\n",
        "    self.y_input_data = y_input_data\n",
        "    self.list_of_layer_nodes = [len(self.x_input_data[0])] + [nodes for nodes in list_of_hidden_layer_nodes] + [len_of_output] #[len(self.y_input_data.cat.categories)] \n",
        "    self.activation_function = activation_function \n",
        "    self.learning_rate = learning_rate\n",
        "    self.momentum = momentum\n",
        "    self.loss_function = loss_function\n",
        "    self.epochs = epochs\n",
        "    self.z_transform_input = z_transform_input\n",
        "\n",
        "    #create model\n",
        "\n",
        "    self.model = keras.models.Sequential()\n",
        "\n",
        "    for nodes, layer_idx in zip(self.list_of_layer_nodes, range(0, len(self.list_of_layer_nodes)-1)):\n",
        "\n",
        "      self.model.add(keras.layers.Dense(\n",
        "          input_shape = (nodes,),\n",
        "          units = self.list_of_layer_nodes[layer_idx+1],                            #Ausgabeknotenanzahl == Anzahl Knoten der nächsten Schicht\n",
        "          kernel_initializer = 'glorot_uniform',                                    #default      \n",
        "          bias_initializer = 'zeros',                                               #werden die im fit berücksichtigt?\n",
        "          activation = self.activation_function if layer_idx == 0 else 'softmax'))  #actication als default 'relu', in letzter schicht 'softmax'\n",
        "        \n",
        "\n",
        "  def process_input_data(self):\n",
        "\n",
        "    #z transformation \n",
        "\n",
        "    def z_transform_properties(data_arr):\n",
        "      '''Calculates a z transformation to center properties across cells in data_arr around mean zero'''\n",
        "      \n",
        "      mean_vals = np.mean(data_arr, axis=0)\n",
        "      std_val = np.std(data_arr)\n",
        "\n",
        "      data_transformed = (data_arr - mean_vals) / std_val\n",
        "\n",
        "      return data_transformed\n",
        "\n",
        "\n",
        "    if self.z_transform_input:\n",
        "      self.x_input_data = z_transform_properties(self.x_input_data)\n",
        "      \n",
        "    #converting labels of y_input_data to integers (mapping 'label'->int)\n",
        "\n",
        "    # ----> erstmal so vereinfacht, dass incoming y_data encoded wird -> ist wegen group_by_labels eh mit strings\n",
        "\n",
        "    self.label_encoder = LabelEncoder()\n",
        "    self.y_input_data_int = self.label_encoder.fit_transform(self.y_input_data)\n",
        "\n",
        "    # if isinstance(self.y_input_data, pd.Series):\n",
        "    #   #encode categorical labels from pandas Series as integers\n",
        "    #   self.label_encoder = LabelEncoder()\n",
        "    #   self.y_input_data_int = self.label_encoder.fit_transform(self.y_input_data.values)\n",
        "\n",
        "    # elif isinstance(self.y_input_data[0], np.ndarray) and self.y_input_data.dtype == int: #so vereinfachen, dass einfach immer encoded wird. mit neuer 'pipeline' wird eh nur y_input mit strings weitergegeben\n",
        "    #   self.y_input_data_int = self.y_input_data\n",
        "\n",
        "    # elif isinstance(self.y_input_data[0], np.ndarray) and self.y_input_data.dtype == str: #y_input kein dataframe mehr, sondern Liste wegen preprocessing!\n",
        "    #   self.y_input_data_int = self.label_encoder.fit_transform(self.y_input_data)\n",
        "\n",
        "    # else:\n",
        "\n",
        "    #   print('Error: Invalid or unknown Data Type for Y Input data')\n",
        "\n",
        "  \n",
        "\n",
        "    #split data (TO DO: implement scikit.learn cross_val_score for k-fold cross validation)\n",
        "\n",
        "    split_data_index = int(2/3 * len(self.x_input_data))\n",
        "\n",
        "    self.x_training_input = self.x_input_data[ : split_data_index]\n",
        "    self.y_training_input_int = self.y_input_data_int[ : split_data_index]\n",
        "\n",
        "    self.x_test_input = self.x_input_data[split_data_index : ]\n",
        "    self.y_test_input_int = self.y_input_data_int[split_data_index : ]\n",
        "\n",
        "    #use integer y_input data for OneHot Encoding (int -> e_i element R^(int+1)) needed for model training\n",
        "\n",
        "    self.y_training_onehot = keras.utils.to_categorical(self.y_training_input_int)\n",
        "    self.y_test_onehot = keras.utils.to_categorical(self.y_test_input_int)\n",
        "\n",
        "\n",
        "  def train(self):\n",
        "    '''Train the NN using the x_training_data input and onehot encoded y_training_onehot'''\n",
        "\n",
        "    self.optimizer = keras.optimizers.SGD(learning_rate = self.learning_rate, momentum = self.momentum)\n",
        "    \n",
        "    self.model.compile(optimizer = self.optimizer, loss = self.loss_function)\n",
        "\n",
        "    history = self.model.fit(self.x_training_input, self.y_training_onehot,\n",
        "                        batch_size = 64, epochs = self.epochs, \n",
        "                        verbose = 1,\n",
        "                        validation_split = .1)\n",
        "    \n",
        "  def predict(self, input_vec):\n",
        "    '''Calculate and return label prediction of trained model for an input vector\n",
        "        input_vec (dtype=int)'''\n",
        "\n",
        "    pred_vec = np.argmax(self.model.predict(input_vec), axis = -1) #-1?\n",
        "\n",
        "    return pred_vec\n",
        "\n",
        "\n",
        "  def validate(self):\n",
        "\n",
        "    self.y_training_preds = self.predict(self.x_training_input)\n",
        "    self.y_test_preds = self.predict(self.x_test_input) \n",
        "\n",
        "    def calc_acc(pred_vec, known_vec):\n",
        "      \n",
        "      if type(pred_vec) == type(known_vec):\n",
        "        acc = np.sum(pred_vec == known_vec, axis = 0) / len(known_vec)\n",
        "      else:\n",
        "        print('self.validate: Error! Comparison of different label encoding!')\n",
        "      \n",
        "      return acc\n",
        "    \n",
        "    # ---> save in node memory, not in classifier model\n",
        "    # self.train_acc = calc_acc(self.y_training_preds, self.y_training_input_int) \n",
        "    # self.test_acc = calc_acc(self.y_test_preds, self.y_test_input_int)\n",
        "\n",
        "    train_acc = calc_acc(self.y_training_preds, self.y_training_input_int)\n",
        "    test_acc = calc_acc(self.y_test_preds, self.y_test_input_int)\n",
        "\n",
        "    return train_acc, test_acc\n",
        "\n",
        "\n",
        "  def master_method_NN(self, validate):\n",
        "    '''method to run all relevant neural network methods, to be called from hierarchical classifier!\n",
        "    not sure if needed'''\n",
        "    \n",
        "    # self.process_input_data()\n",
        "    # self.train()\n",
        "\n",
        "    #prediction vector soll in node_memory gespeichert werden!\n",
        "\n",
        "    pass\n",
        "\n",
        "\n",
        "\n",
        "    \n",
        "    \n",
        "  \n",
        "\n"
      ]
    },
    {
      "cell_type": "code",
      "source": [
        "class Node_Memory():\n",
        "\n",
        "  def __init__(self, x_input_data = None, y_input_data = None, local_classifier = None, local_classifier_params = []):\n",
        "\n",
        "      #local_classifier argument is the Class of classifier (eg Neural_Network (classifier specific params, input and output needed for every possible classifier))\n",
        "      #initialize all needed attributes, but assign via HC objects\n",
        "\n",
        "      self.x_input_data = x_input_data  #processing wird von local classifier übernommen (CAVE bei Verwendung anderer LC (eg SVM), dass preprocessing einheitlich ist)\n",
        "      self.y_input_data = y_input_data \n",
        "\n",
        "      self.y_input_grouped_labels = None  #is generated via Hierarchical classifier, maps all labels to labels of children of THIS node object\n",
        "\n",
        "      self.apriori_y_input_data_indices = None #save indices of data in y_input vector, that will be used for prediction in order to compute accuracy\n",
        "      \n",
        "      #still manual splitting -> adjust to k fold CV in future\n",
        "      self.training_prediction_vec = None\n",
        "      self.test_prediction_vec = None\n",
        "\n",
        "      self.training_acc = None\n",
        "      self.test_acc = None\n",
        "\n",
        "      #SEEEEEEEHR UNSCHÖÖÖÖÖÖN, PROBLEM MIT Y_INPUT_GROUPED_BY_LABELS_BEHEBEN!! DANN INITIALISIEREN WIEDER IN KONSTRUKTOR SCHREIBEN\n",
        "      self.classifier_class = local_classifier #zwischenspeichern der Klasse bis y_input_grouped labels durch HC ausgegeben wurde --> SEHR UNSCHÖN\n",
        "      self.local_classifier_params = local_classifier_params\n",
        "\n",
        "  def initialize_local_classifier(self, local_classifier_output_len):\n",
        "    if self.classifier_class != None:\n",
        "      self.local_classifier = self.classifier_class(self.x_input_data, self.y_input_grouped_labels, local_classifier_output_len, *self.local_classifier_params)  #use y_input with labels that refer to the child nodes\n",
        "    else:\n",
        "      #TO DO: bessere Lösung einfallen lassen\n",
        "      print('WARNING! No classifier initialized!')\n",
        "\n",
        "  #---> sollte eher auch von 'Oberklasse' ausgeführt werden\n",
        "  #Methoden zur Ausführung des local classifiers eines parent nodes\n",
        "    \n",
        "  # def run_local_classifier(self):               \n",
        "  #   self.local_classifier.train()\n",
        "  \n",
        "  #----> soll über hierarchical_classifier objekt aufgerufen werden\n",
        "  # def local_classifier_prediction(self, input_vec): #hier muss noch was passieren, prediction von außen für bestimmte inputs aufrufen\n",
        "  #   self.local_classifier.predict(input_vec)"
      ],
      "metadata": {
        "id": "sZJiCqeZ0gKw"
      },
      "execution_count": null,
      "outputs": []
    },
    {
      "cell_type": "code",
      "source": [
        "def make_graph_from_edges(d, g, parent_key=''):\n",
        "    for key in d.keys():\n",
        "        if parent_key != '':\n",
        "            g.add_edge(parent_key, key)\n",
        "        if len(d[key]) == 0:\n",
        "            pass\n",
        "        else:\n",
        "            make_graph_from_edges(d[key], g, parent_key=key)"
      ],
      "metadata": {
        "id": "sUU8Yb1TmIUK"
      },
      "execution_count": null,
      "outputs": []
    },
    {
      "cell_type": "code",
      "source": [
        "def list_subgraph_nodes(g, parent_node):\n",
        "  list_of_nodes = []\n",
        "  for node in g.adj[parent_node].keys():\n",
        "    if len(g.adj[parent_node].keys()) != 0:\n",
        "      list_of_nodes.append(node)\n",
        "      list_of_nodes = list_of_nodes + list_subgraph_nodes(g, node)\n",
        "    else:\n",
        "      list_of_nodes.append(node)\n",
        "  return list_of_nodes"
      ],
      "metadata": {
        "id": "NkMWTEyXhnQa"
      },
      "execution_count": null,
      "outputs": []
    },
    {
      "cell_type": "code",
      "source": [
        "class Hierarchical_Classifier():\n",
        "  '''Class connects Nodes of Local Classifiers, passes results to children classifiers and forms the final hierarchical classifier''' \n",
        "\n",
        "  def __init__(self, dict_of_cell_relations):\n",
        "    '''Params\n",
        "        - dict_of_cell_relations: used for initializing network structure of hierarchical classifier'''\n",
        "    self.dict_of_cell_relations = dict_of_cell_relations\n",
        "\n",
        "\n",
        "  def make_classifier_graph(self):\n",
        "    '''Compute Graph from a given dictionary of cell relationships'''\n",
        "    self.graph = nx.DiGraph()\n",
        "    make_graph_from_edges(self.dict_of_cell_relations, self.graph)\n",
        "\n",
        "  def init_node_memory_object(self, node, memory_class_params=[]):\n",
        "    '''Add memory object to each node; memory object organizes all relevant local classifier params'''\n",
        "    self.graph.add_node(node, memory=Node_Memory(*memory_class_params)) #lade die relevanten Daten\n",
        "    if len(memory_class_params) != 0: #auch sehr unschön ---> so ändern, dass konflit mit NN Initialisierung und berechnen von y_input_grouped_labels in node memory nicht auftritt\n",
        "      self.group_labels_of_subgraph_to_parent_label(node) #schreibe die relevanten (komprimierten) y_input daten durch aufrufen der methode\n",
        "      self.graph.nodes[node]['memory'].initialize_local_classifier(len(self.graph.adj[node].keys())) #initialisiere den local_classifier (jetzt ist y_input_grouped_labels in node memory gegeben)\n",
        "                                                                                                      #GEÄNDERT: ÜBERGEBE LÄNGE DES LETZTEN LAYERS DES NN, vorher aus cat.categories geschlossen\n",
        "                                                                                                      #aber y_input_grouped_labels ist eine Liste\n",
        "  def run_local_classifier(self, node):\n",
        "    '''DEV METHOD: use for calling single methods at once to begin with'''\n",
        "    \n",
        "    #wo werden dem ersten local classifier die daten übergeben? --> aktuell manuell (s.u. TESTEN)\n",
        "\n",
        "    #ONLY NEEDED FOR GLOBAL ACCURACY\n",
        "    #save indices of known labels of daughter nodes in these corresponding nodes (i.e. eg node 'TNK' knows indices of 'TNK' in y_input_data of node 'all' ) \n",
        "    next_labels = [label for label in self.graph[node].keys()]\n",
        "    for label in next_labels:\n",
        "      self.graph.nodes[label]['memory'].apriori_y_input_data_indices = np.where(np.array(self.graph.nodes[node]['memory'].y_input_data) == label)\n",
        "\n",
        "    #run needed local classifier methods to train model\n",
        "    self.graph.nodes[node]['memory'].local_classifier.process_input_data()\n",
        "    self.graph.nodes[node]['memory'].local_classifier.train()\n",
        "\n",
        "    #predict trainings and test data (still splitted manually -> k fold cross validation) and save in corresponding node memory\n",
        "    self.graph.nodes[node]['memory'].training_prediction_vec = self.graph.nodes[node]['memory'].local_classifier.predict(self.graph.nodes[node]['memory'].local_classifier.x_training_input)\n",
        "    self.graph.nodes[node]['memory'].test_prediction_vec = self.graph.nodes[node]['memory'].local_classifier.predict(self.graph.nodes[node]['memory'].local_classifier.x_test_input)\n",
        "\n",
        "    #validate model \n",
        "    self.graph.nodes[node]['memory'].training_acc, self.graph.nodes[node]['memory'].test_acc =  self.graph.nodes[node]['memory'].local_classifier.validate()\n",
        "\n",
        "\n",
        "  def run_local_classifier_master(self, node, validate = True):\n",
        "    '''run master method of local classifier'''\n",
        "    pass\n",
        "\n",
        "\n",
        "  #automatisches mapping der feineren labels zu den groberen durch iterieren über die Labels der subgraphen, ausführen über \n",
        "  #Hierarchical_Classifier in jedem Knoten --> als y_input_data in node_memory speichern\n",
        "  #Ziel: mapping aus textzelle automatisieren, dafür: nimm 'Nachbarn' als nächste parentlabel, deren kinder müssen \n",
        "  #dann zu Nachbarn gemapped werden\n",
        "\n",
        "  #benutze den graph, weil hier die ecken bereits klar sind, klarer als in gegebenem dictionary (dort müsste über keys von keys iteriert werden)\n",
        "\n",
        "  def group_labels_of_subgraph_to_parent_label(self, super_node):\n",
        "    '''Maps y_input_data labels to parent label (eg map (CD4 T, CD8 T, NK) -> (TNK) for all neighbors of given super_node (eg TNK, B, Others) of Graph g\n",
        "      Params:\n",
        "        - super_node: node at which local classifier has to be run\n",
        "        \n",
        "      Saves result in y_input_grouped_labels attribute of Node_memory of super_node''' \n",
        "\n",
        "    mapping_dict = {node : [child_node for child_node in list_subgraph_nodes(self.graph, node)] for node in self.graph.adj[super_node].keys() }\n",
        "    mapper = {k:v for v,k in pd.Series(mapping_dict).explode().iteritems()} #write dict such that key and value are interchanged, then map; von StackOverFlow: letze antwort https://stackoverflow.com/questions/32262982/pandas-combining-multiple-categories-into-one\n",
        "    self.graph.nodes[super_node]['memory'].y_input_grouped_labels = [mapper.get(k) for k in self.graph.nodes[super_node]['memory'].y_input_data]\n",
        "\n",
        "  def subset_pred_vec(self, node):\n",
        "    next_labels = [label for label in self.graph[node].keys()]\n",
        "    for next_label in next_labels:\n",
        "      #following line decodes integer output of neural network to string labels in order to compare with names of following nodes (again encoded by following local classifier)\n",
        "      self.graph.nodes[node]['memory'].prediction_vec = self.graph[node]['memory'].local_classifier.label_encoder.inverse_transform(self.graph.nodes[node]['memory'].prediction_vec)\n",
        "      temp_idx_vec = np.where(np.array(self.graph.nodes[node]['memory'].prediction_vec) == next_label)\n",
        "      self.graph.nodes[next_label]['memory'].x_input_data = np.array(self.graph.nodes[node]['memory'].x_input_data)[temp_idx_vec]\n",
        "\n",
        "\n",
        "  def master_method(self):\n",
        "    '''method to run all relevant methods -> \"one-click\" initializing of hierarchical classifier (?)'''\n",
        "    pass\n",
        "\n"
      ],
      "metadata": {
        "id": "IQaUTDTS_X1J"
      },
      "execution_count": null,
      "outputs": []
    },
    {
      "cell_type": "markdown",
      "source": [
        "**#######################################################**\n",
        "**Messy Test bereich**"
      ],
      "metadata": {
        "id": "K-hKrllEGSri"
      }
    },
    {
      "cell_type": "code",
      "source": [
        "# hc.group_labels_of_subgraph_to_parent_label('all')"
      ],
      "metadata": {
        "id": "5-bVX9M4afKF"
      },
      "execution_count": null,
      "outputs": []
    },
    {
      "cell_type": "markdown",
      "source": [
        "**Test of Local classifier class**"
      ],
      "metadata": {
        "id": "F_RdxaiARRj3"
      }
    },
    {
      "cell_type": "code",
      "source": [
        "!pip install scanpy \n"
      ],
      "metadata": {
        "id": "ICWY1MyZRVbk"
      },
      "execution_count": null,
      "outputs": []
    },
    {
      "cell_type": "code",
      "source": [
        "import scanpy as sc"
      ],
      "metadata": {
        "id": "qvbTHN7Tek7N"
      },
      "execution_count": null,
      "outputs": []
    },
    {
      "cell_type": "code",
      "source": [
        "from google.colab import drive\n",
        "drive.mount('/content/drive/')"
      ],
      "metadata": {
        "colab": {
          "base_uri": "https://localhost:8080/"
        },
        "id": "yExXmrwfQuPx",
        "outputId": "53a99844-aa32-47b6-9223-5e5ed8351964"
      },
      "execution_count": null,
      "outputs": [
        {
          "output_type": "stream",
          "name": "stdout",
          "text": [
            "Drive already mounted at /content/drive/; to attempt to forcibly remount, call drive.mount(\"/content/drive/\", force_remount=True).\n"
          ]
        }
      ]
    },
    {
      "cell_type": "code",
      "source": [
        "adata = sc.read('drive/MyDrive/single_cell/processed/pbmc3k_level_1_scvi.h5ad')"
      ],
      "metadata": {
        "id": "MIoF8UQJRf9g"
      },
      "execution_count": null,
      "outputs": []
    },
    {
      "cell_type": "code",
      "source": [
        "adata.obs['leiden']"
      ],
      "metadata": {
        "colab": {
          "base_uri": "https://localhost:8080/"
        },
        "id": "rU0gryAt9Buo",
        "outputId": "22099c41-2aa2-4212-d150-76a7328110e1"
      },
      "execution_count": null,
      "outputs": [
        {
          "output_type": "execute_result",
          "data": {
            "text/plain": [
              "AAACATACAACCAC-1               CD8 T\n",
              "AAACATTGAGCTAC-1                   B\n",
              "AAACATTGATCAGC-1               CD4 T\n",
              "AAACCGTGCTTCCG-1                  NK\n",
              "AAACCGTGTATGCG-1    FCGR3A Monocytes\n",
              "                          ...       \n",
              "TTTCGAACTCTCAT-1      CD14 Monocytes\n",
              "TTTCTACTGAGGCA-1                   B\n",
              "TTTCTACTTCCTCG-1                   B\n",
              "TTTGCATGAGAGGC-1                   B\n",
              "TTTGCATGCCTCAC-1               CD4 T\n",
              "Name: leiden, Length: 2638, dtype: category\n",
              "Categories (8, object): ['CD4 T', 'CD14 Monocytes', 'B', 'CD8 T', 'NK', 'FCGR3A Monocytes',\n",
              "                         'Dendritic', 'Megakaryocytes']"
            ]
          },
          "metadata": {},
          "execution_count": 575
        }
      ]
    },
    {
      "cell_type": "code",
      "source": [
        "adata.obs['training_level_1']"
      ],
      "metadata": {
        "colab": {
          "base_uri": "https://localhost:8080/"
        },
        "id": "EOteQm1jXdLL",
        "outputId": "f2ecd63e-ed6c-4452-adff-8f00c3a48635"
      },
      "execution_count": null,
      "outputs": [
        {
          "output_type": "execute_result",
          "data": {
            "text/plain": [
              "AAACATACAACCAC-1          TNK\n",
              "AAACATTGAGCTAC-1            B\n",
              "AAACATTGATCAGC-1          TNK\n",
              "AAACCGTGCTTCCG-1          TNK\n",
              "AAACCGTGTATGCG-1    Myeloisch\n",
              "                      ...    \n",
              "TTTCGAACTCTCAT-1    Myeloisch\n",
              "TTTCTACTGAGGCA-1            B\n",
              "TTTCTACTTCCTCG-1            B\n",
              "TTTGCATGAGAGGC-1            B\n",
              "TTTGCATGCCTCAC-1          TNK\n",
              "Name: training_level_1, Length: 2638, dtype: category\n",
              "Categories (4, object): ['B', 'Myeloisch', 'Others', 'TNK']"
            ]
          },
          "metadata": {},
          "execution_count": 576
        }
      ]
    },
    {
      "cell_type": "code",
      "source": [
        "hc = Hierarchical_Classifier({'all': {'TNK':{'CD4 T':{}, 'CD8 T':{}, 'NK':{}}, 'Myeloisch':{'FCGR3A Monocytes': {}, 'Dendritic':{}, 'CD14 Monocytes':{}}, 'B': {}, 'Others':{'Megakaryocytes':{}}}})\n",
        "hc.make_classifier_graph()\n",
        "for node in hc.graph.nodes:\n",
        "  hc.init_node_memory_object(node)\n",
        "nx.draw(hc.graph, with_labels=True)"
      ],
      "metadata": {
        "id": "AopRfZquzw_B",
        "colab": {
          "base_uri": "https://localhost:8080/",
          "height": 319
        },
        "outputId": "e9c97dc1-f402-43c3-8eae-d08eca3160a0"
      },
      "execution_count": null,
      "outputs": [
        {
          "output_type": "display_data",
          "data": {
            "text/plain": [
              "<Figure size 432x288 with 1 Axes>"
            ],
            "image/png": "[encoded data removed]"
          },
          "metadata": {}
        }
      ]
    },
    {
      "cell_type": "code",
      "source": [
        "list_subgraph_nodes(hc.graph, 'all')"
      ],
      "metadata": {
        "colab": {
          "base_uri": "https://localhost:8080/"
        },
        "id": "otQ0mLmh82GW",
        "outputId": "2de8fa3d-23d6-4e22-d97e-8e7f3316de1e"
      },
      "execution_count": null,
      "outputs": [
        {
          "output_type": "execute_result",
          "data": {
            "text/plain": [
              "['TNK',\n",
              " 'CD4 T',\n",
              " 'CD8 T',\n",
              " 'NK',\n",
              " 'Myeloisch',\n",
              " 'FCGR3A Monocytes',\n",
              " 'Dendritic',\n",
              " 'CD14 Monocytes',\n",
              " 'B',\n",
              " 'Others',\n",
              " 'Megakaryocytes']"
            ]
          },
          "metadata": {},
          "execution_count": 657
        }
      ]
    },
    {
      "cell_type": "code",
      "source": [
        "#save input data for first node and thus first network\n",
        "# hc.graph.nodes['all']['memory'].x_input_data, hc.graph.nodes['all']['memory'].y_input_data = adata.obsm['X_scVI'], adata.obs['leiden']"
      ],
      "metadata": {
        "id": "JWHy4syO8ysc"
      },
      "execution_count": null,
      "outputs": []
    },
    {
      "cell_type": "code",
      "source": [
        "#save input data and initialize first network in first node\n",
        "hc.init_node_memory_object('all', [adata.obsm['X_scVI'], adata.obs['leiden'], Neural_Network])"
      ],
      "metadata": {
        "id": "mP-BYisi-cda"
      },
      "execution_count": null,
      "outputs": []
    },
    {
      "cell_type": "code",
      "source": [
        "#all set up - run local classifier\n",
        "hc.run_local_classifier('all')"
      ],
      "metadata": {
        "colab": {
          "base_uri": "https://localhost:8080/"
        },
        "id": "WZlrPIwMDbeb",
        "outputId": "3135ad78-6a72-4c89-97ad-0db2b7688e77"
      },
      "execution_count": null,
      "outputs": [
        {
          "output_type": "stream",
          "name": "stdout",
          "text": [
            "Epoch 1/50\n",
            "25/25 [==============================] - 0s 7ms/step - loss: 1.7289 - val_loss: 1.6663\n",
            "Epoch 2/50\n",
            "25/25 [==============================] - 0s 2ms/step - loss: 1.4516 - val_loss: 1.3730\n",
            "Epoch 3/50\n",
            "25/25 [==============================] - 0s 3ms/step - loss: 1.2277 - val_loss: 1.1725\n",
            "Epoch 4/50\n",
            "25/25 [==============================] - 0s 2ms/step - loss: 1.0701 - val_loss: 1.0307\n",
            "Epoch 5/50\n",
            "25/25 [==============================] - 0s 3ms/step - loss: 0.9530 - val_loss: 0.9251\n",
            "Epoch 6/50\n",
            "25/25 [==============================] - 0s 2ms/step - loss: 0.8612 - val_loss: 0.8414\n",
            "Epoch 7/50\n",
            "25/25 [==============================] - 0s 3ms/step - loss: 0.7859 - val_loss: 0.7730\n",
            "Epoch 8/50\n",
            "25/25 [==============================] - 0s 2ms/step - loss: 0.7227 - val_loss: 0.7163\n",
            "Epoch 9/50\n",
            "25/25 [==============================] - 0s 3ms/step - loss: 0.6691 - val_loss: 0.6681\n",
            "Epoch 10/50\n",
            "25/25 [==============================] - 0s 3ms/step - loss: 0.6224 - val_loss: 0.6271\n",
            "Epoch 11/50\n",
            "25/25 [==============================] - 0s 3ms/step - loss: 0.5821 - val_loss: 0.5911\n",
            "Epoch 12/50\n",
            "25/25 [==============================] - 0s 3ms/step - loss: 0.5466 - val_loss: 0.5599\n",
            "Epoch 13/50\n",
            "25/25 [==============================] - 0s 3ms/step - loss: 0.5154 - val_loss: 0.5330\n",
            "Epoch 14/50\n",
            "25/25 [==============================] - 0s 2ms/step - loss: 0.4878 - val_loss: 0.5083\n",
            "Epoch 15/50\n",
            "25/25 [==============================] - 0s 3ms/step - loss: 0.4629 - val_loss: 0.4869\n",
            "Epoch 16/50\n",
            "25/25 [==============================] - 0s 3ms/step - loss: 0.4409 - val_loss: 0.4681\n",
            "Epoch 17/50\n",
            "25/25 [==============================] - 0s 3ms/step - loss: 0.4211 - val_loss: 0.4514\n",
            "Epoch 18/50\n",
            "25/25 [==============================] - 0s 3ms/step - loss: 0.4032 - val_loss: 0.4357\n",
            "Epoch 19/50\n",
            "25/25 [==============================] - 0s 3ms/step - loss: 0.3870 - val_loss: 0.4218\n",
            "Epoch 20/50\n",
            "25/25 [==============================] - 0s 3ms/step - loss: 0.3723 - val_loss: 0.4094\n",
            "Epoch 21/50\n",
            "25/25 [==============================] - 0s 2ms/step - loss: 0.3590 - val_loss: 0.3978\n",
            "Epoch 22/50\n",
            "25/25 [==============================] - 0s 3ms/step - loss: 0.3468 - val_loss: 0.3873\n",
            "Epoch 23/50\n",
            "25/25 [==============================] - 0s 2ms/step - loss: 0.3357 - val_loss: 0.3776\n",
            "Epoch 24/50\n",
            "25/25 [==============================] - 0s 3ms/step - loss: 0.3255 - val_loss: 0.3687\n",
            "Epoch 25/50\n",
            "25/25 [==============================] - 0s 2ms/step - loss: 0.3162 - val_loss: 0.3604\n",
            "Epoch 26/50\n",
            "25/25 [==============================] - 0s 3ms/step - loss: 0.3076 - val_loss: 0.3525\n",
            "Epoch 27/50\n",
            "25/25 [==============================] - 0s 2ms/step - loss: 0.2995 - val_loss: 0.3458\n",
            "Epoch 28/50\n",
            "25/25 [==============================] - 0s 3ms/step - loss: 0.2921 - val_loss: 0.3394\n",
            "Epoch 29/50\n",
            "25/25 [==============================] - 0s 2ms/step - loss: 0.2852 - val_loss: 0.3332\n",
            "Epoch 30/50\n",
            "25/25 [==============================] - 0s 2ms/step - loss: 0.2787 - val_loss: 0.3275\n",
            "Epoch 31/50\n",
            "25/25 [==============================] - 0s 2ms/step - loss: 0.2728 - val_loss: 0.3217\n",
            "Epoch 32/50\n",
            "25/25 [==============================] - 0s 2ms/step - loss: 0.2671 - val_loss: 0.3171\n",
            "Epoch 33/50\n",
            "25/25 [==============================] - 0s 2ms/step - loss: 0.2617 - val_loss: 0.3122\n",
            "Epoch 34/50\n",
            "25/25 [==============================] - 0s 2ms/step - loss: 0.2568 - val_loss: 0.3072\n",
            "Epoch 35/50\n",
            "25/25 [==============================] - 0s 2ms/step - loss: 0.2519 - val_loss: 0.3030\n",
            "Epoch 36/50\n",
            "25/25 [==============================] - 0s 2ms/step - loss: 0.2473 - val_loss: 0.2993\n",
            "Epoch 37/50\n",
            "25/25 [==============================] - 0s 2ms/step - loss: 0.2431 - val_loss: 0.2952\n",
            "Epoch 38/50\n",
            "25/25 [==============================] - 0s 2ms/step - loss: 0.2390 - val_loss: 0.2914\n",
            "Epoch 39/50\n",
            "25/25 [==============================] - 0s 3ms/step - loss: 0.2352 - val_loss: 0.2880\n",
            "Epoch 40/50\n",
            "25/25 [==============================] - 0s 3ms/step - loss: 0.2314 - val_loss: 0.2841\n",
            "Epoch 41/50\n",
            "25/25 [==============================] - 0s 2ms/step - loss: 0.2279 - val_loss: 0.2807\n",
            "Epoch 42/50\n",
            "25/25 [==============================] - 0s 2ms/step - loss: 0.2245 - val_loss: 0.2775\n",
            "Epoch 43/50\n",
            "25/25 [==============================] - 0s 2ms/step - loss: 0.2212 - val_loss: 0.2745\n",
            "Epoch 44/50\n",
            "25/25 [==============================] - 0s 3ms/step - loss: 0.2181 - val_loss: 0.2714\n",
            "Epoch 45/50\n",
            "25/25 [==============================] - 0s 2ms/step - loss: 0.2151 - val_loss: 0.2684\n",
            "Epoch 46/50\n",
            "25/25 [==============================] - 0s 2ms/step - loss: 0.2123 - val_loss: 0.2656\n",
            "Epoch 47/50\n",
            "25/25 [==============================] - 0s 2ms/step - loss: 0.2095 - val_loss: 0.2629\n",
            "Epoch 48/50\n",
            "25/25 [==============================] - 0s 2ms/step - loss: 0.2069 - val_loss: 0.2603\n",
            "Epoch 49/50\n",
            "25/25 [==============================] - 0s 2ms/step - loss: 0.2043 - val_loss: 0.2576\n",
            "Epoch 50/50\n",
            "25/25 [==============================] - 0s 2ms/step - loss: 0.2018 - val_loss: 0.2551\n"
          ]
        }
      ]
    },
    {
      "cell_type": "code",
      "source": [
        "#print first level classifier model accuracy\n",
        "print(hc.graph.nodes['all']['memory'].training_acc)\n",
        "\n",
        "print(hc.graph.nodes['all']['memory'].test_acc)"
      ],
      "metadata": {
        "colab": {
          "base_uri": "https://localhost:8080/"
        },
        "id": "6Q5Yy5KrNtTp",
        "outputId": "9fc9927c-a42d-40ee-d4b3-4d0087a96df1"
      },
      "execution_count": null,
      "outputs": [
        {
          "output_type": "stream",
          "name": "stdout",
          "text": [
            "0.9419795221843004\n",
            "0.9215909090909091\n"
          ]
        }
      ]
    },
    {
      "cell_type": "code",
      "source": [
        "# X_input, y_input = adata.obsm['X_scVI'], adata.obs['training_level_1']\n",
        "# # print(f'y_input: {y_input}' )\n",
        "# # print(f'\\n\\n*******************\\n {len(y_input.cat.categories)}')\n",
        "# nn_tnk = Neural_Network(X_input, y_input, epochs = 200)\n",
        "# nn_tnk.model.summary()\n",
        "# # nn_tnk.local_classifier_output()\n",
        "# nn_tnk.process_input_data()\n",
        "# nn_tnk.train()\n",
        "# # nn_tnk.predict(nn_tnk.x_training_input)\n",
        "# nn_tnk.validate()\n",
        "# print(f'training_acc: {nn_tnk.train_acc:4f}')\n",
        "# print(f'test_acc: {nn_tnk.test_acc:.4f}')"
      ],
      "metadata": {
        "id": "qkFJXBlVXbSt"
      },
      "execution_count": null,
      "outputs": []
    },
    {
      "cell_type": "markdown",
      "source": [
        ""
      ],
      "metadata": {
        "id": "6hQW1Xn-U9hn"
      }
    }
  ]
}