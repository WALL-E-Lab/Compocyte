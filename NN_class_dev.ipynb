{
  "nbformat": 4,
  "nbformat_minor": 0,
  "metadata": {
    "colab": {
      "name": "NN_class_dev.ipynb",
      "provenance": [],
      "collapsed_sections": [],
      "include_colab_link": true
    },
    "kernelspec": {
      "name": "python3",
      "display_name": "Python 3"
    },
    "language_info": {
      "name": "python"
    }
  },
  "cells": [
    {
      "cell_type": "markdown",
      "metadata": {
        "id": "view-in-github",
        "colab_type": "text"
      },
      "source": [
        "<a href=\"https://colab.research.google.com/github/leonSadowski/sc_Hierarchical_Classifier/blob/main/NN_class_dev.ipynb\" target=\"_parent\"><img src=\"https://colab.research.google.com/assets/colab-badge.svg\" alt=\"Open In Colab\"/></a>"
      ]
    },
    {
      "cell_type": "markdown",
      "source": [
        "#sc_Hierarchical_Classifier"
      ],
      "metadata": {
        "id": "HiJpLlOX_d91"
      }
    },
    {
      "cell_type": "markdown",
      "source": [
        "#Needed Imports"
      ],
      "metadata": {
        "id": "Cw5TOzOv_qKy"
      }
    },
    {
      "cell_type": "code",
      "source": [
        "import numpy as np \n",
        "import tensorflow as tf \n",
        "import tensorflow.keras as keras \n",
        "from sklearn.preprocessing import LabelEncoder\n",
        "import pandas as pd\n",
        "import networkx as nx"
      ],
      "metadata": {
        "id": "XAInitxPwiAO"
      },
      "execution_count": 457,
      "outputs": []
    },
    {
      "cell_type": "markdown",
      "source": [
        "#Class Neural_Network \n",
        "Used Model for Local Classifiers of Hierarchical Classifier"
      ],
      "metadata": {
        "id": "FeZG7IAvwWzS"
      }
    },
    {
      "cell_type": "code",
      "execution_count": 458,
      "metadata": {
        "id": "A0eeCUgYwORc"
      },
      "outputs": [],
      "source": [
        "class Neural_Network():\n",
        "\n",
        "  def __init__(self, \n",
        "               x_input_data,\n",
        "               y_input_data,\n",
        "               len_of_output, #NEU!!!!! ÜBERGEBE LÄNGE DES OUTPUT VEKTORS WEIL Y_INPUT für feinere Knoten KEIN PANDAS DATAFRAME MEHR IST\n",
        "               z_transform_input = True,\n",
        "               list_of_hidden_layer_nodes = [30],\n",
        "               activation_function = 'relu',\n",
        "               learning_rate = 0.001,\n",
        "               momentum = .9,\n",
        "               loss_function = 'categorical_crossentropy',\n",
        "               epochs = 50):\n",
        "    \n",
        "    self.x_input_data = x_input_data\n",
        "    self.y_input_data = y_input_data\n",
        "    self.list_of_layer_nodes = [len(self.x_input_data[0])] + [nodes for nodes in list_of_hidden_layer_nodes] + [len_of_output] #[len(self.y_input_data.cat.categories)] \n",
        "    self.activation_function = activation_function \n",
        "    self.learning_rate = learning_rate\n",
        "    self.momentum = momentum\n",
        "    self.loss_function = loss_function\n",
        "    self.epochs = epochs\n",
        "    self.z_transform_input = z_transform_input\n",
        "\n",
        "    #create model\n",
        "\n",
        "    self.model = keras.models.Sequential()\n",
        "\n",
        "    for nodes, layer_idx in zip(self.list_of_layer_nodes, range(0, len(self.list_of_layer_nodes)-1)):\n",
        "\n",
        "      self.model.add(keras.layers.Dense(\n",
        "          input_shape = (nodes,),\n",
        "          units = self.list_of_layer_nodes[layer_idx+1],                            \n",
        "          kernel_initializer = 'glorot_uniform',                                          \n",
        "          bias_initializer = 'zeros',                                               \n",
        "          activation = self.activation_function if layer_idx == 0 else 'softmax'))  \n",
        "        \n",
        "\n",
        "  def process_input_data(self):\n",
        "\n",
        "    #z transformation \n",
        "\n",
        "    def z_transform_properties(data_arr):\n",
        "      '''Calculates a z transformation to center properties across cells in data_arr around mean zero'''\n",
        "      \n",
        "      mean_vals = np.mean(data_arr, axis=0)\n",
        "      std_val = np.std(data_arr)\n",
        "\n",
        "      data_transformed = (data_arr - mean_vals) / std_val\n",
        "\n",
        "      return data_transformed\n",
        "\n",
        "\n",
        "    if self.z_transform_input:\n",
        "      self.x_input_data = z_transform_properties(self.x_input_data)\n",
        "      \n",
        "    #converting labels of y_input_data to integers (mapping 'label'->int)\n",
        "\n",
        "    # ----> erstmal so vereinfacht, dass incoming y_data encoded wird -> ist wegen group_by_labels eh mit strings\n",
        "\n",
        "    print(f'network y_input before encoding: {self.y_input_data}')\n",
        "\n",
        "    self.label_encoder = LabelEncoder()\n",
        "    self.y_input_data_int = self.label_encoder.fit_transform(self.y_input_data)\n",
        "\n",
        "    # if isinstance(self.y_input_data, pd.Series):\n",
        "    #   #encode categorical labels from pandas Series as integers\n",
        "    #   self.label_encoder = LabelEncoder()\n",
        "    #   self.y_input_data_int = self.label_encoder.fit_transform(self.y_input_data.values)\n",
        "\n",
        "    # elif isinstance(self.y_input_data[0], np.ndarray) and self.y_input_data.dtype == int: #so vereinfachen, dass einfach immer encoded wird. mit neuer 'pipeline' wird eh nur y_input mit strings weitergegeben\n",
        "    #   self.y_input_data_int = self.y_input_data\n",
        "\n",
        "    # elif isinstance(self.y_input_data[0], np.ndarray) and self.y_input_data.dtype == str: #y_input kein dataframe mehr, sondern Liste wegen preprocessing!\n",
        "    #   self.y_input_data_int = self.label_encoder.fit_transform(self.y_input_data)\n",
        "\n",
        "    # else:\n",
        "\n",
        "    #   print('Error: Invalid or unknown Data Type for Y Input data')\n",
        "\n",
        "  \n",
        "\n",
        "    #split data (TO DO: implement scikit.learn cross_val_score for k-fold cross validation)\n",
        "\n",
        "    split_data_index = int(2/3 * len(self.x_input_data))\n",
        "\n",
        "    self.x_training_input = self.x_input_data[ : split_data_index]\n",
        "    self.y_training_input_int = self.y_input_data_int[ : split_data_index]\n",
        "\n",
        "    self.x_test_input = self.x_input_data[split_data_index : ]\n",
        "    self.y_test_input_int = self.y_input_data_int[split_data_index : ]\n",
        "\n",
        "    #use integer y_input data for OneHot Encoding (int -> e_i element R^(int+1)) needed for model training\n",
        "\n",
        "    self.y_training_onehot = keras.utils.to_categorical(self.y_training_input_int)\n",
        "    self.y_test_onehot = keras.utils.to_categorical(self.y_test_input_int)\n",
        "\n",
        "\n",
        "  def train(self):\n",
        "    '''Train the NN using the x_training_data input and onehot encoded y_training_onehot'''\n",
        "\n",
        "    self.optimizer = keras.optimizers.SGD(learning_rate = self.learning_rate, momentum = self.momentum)\n",
        "    \n",
        "    self.model.compile(optimizer = self.optimizer, loss = self.loss_function)\n",
        "\n",
        "    history = self.model.fit(self.x_training_input, self.y_training_onehot,\n",
        "                        batch_size = 64, epochs = self.epochs, \n",
        "                        verbose = 1,\n",
        "                        validation_split = .1)\n",
        "    \n",
        "  def predict(self, input_vec):\n",
        "    '''Calculate and return label prediction of trained model for an input vector\n",
        "        input_vec (dtype=int)'''\n",
        "\n",
        "    #returns only absolute decisions, nothing known about the difference in prediction confidence \n",
        "    pred_vec = np.argmax(self.model.predict(input_vec), axis = -1) #-1?\n",
        "\n",
        "    return pred_vec\n",
        "\n",
        "\n",
        "  def validate(self):\n",
        "\n",
        "    self.y_training_preds = self.predict(self.x_training_input)\n",
        "    self.y_test_preds = self.predict(self.x_test_input) \n",
        "\n",
        "    def calc_acc(pred_vec, known_vec):\n",
        "      \n",
        "      if type(pred_vec) == type(known_vec):\n",
        "        acc = np.sum(pred_vec == known_vec, axis = 0) / len(known_vec)\n",
        "      else:\n",
        "        print('self.validate: Error! Comparison of different label encoding!')\n",
        "      \n",
        "      return acc\n",
        "    \n",
        "    # ---> save in node memory, not in classifier model\n",
        "    # self.train_acc = calc_acc(self.y_training_preds, self.y_training_input_int) \n",
        "    # self.test_acc = calc_acc(self.y_test_preds, self.y_test_input_int)\n",
        "\n",
        "    train_acc = calc_acc(self.y_training_preds, self.y_training_input_int)\n",
        "    test_acc = calc_acc(self.y_test_preds, self.y_test_input_int)\n",
        "\n",
        "    return train_acc, test_acc\n",
        "\n",
        "\n",
        "  def master_method_NN(self, validate):\n",
        "    '''method to run all relevant neural network methods, to be called from hierarchical classifier!\n",
        "    not sure if needed'''\n",
        "    \n",
        "    # self.process_input_data()\n",
        "    # self.train()\n",
        "\n",
        "    #prediction vector soll in node_memory gespeichert werden!\n",
        "\n",
        "    pass"
      ]
    },
    {
      "cell_type": "markdown",
      "source": [
        "#Class Node_Memory\n",
        "Save Data of local Classifier in Nodes of a directed Graph, initialized by Class Hierarchical_Classifier (see below)"
      ],
      "metadata": {
        "id": "Uhf6Mz1I_-xD"
      }
    },
    {
      "cell_type": "code",
      "source": [
        "class Node_Memory():\n",
        "\n",
        "  def __init__(self, x_input_data = None, y_input_data = None, local_classifier = None, local_classifier_params = []):\n",
        "\n",
        "      #local_classifier argument is the Class of classifier (eg Neural_Network (classifier specific params, input and output needed for every possible classifier))\n",
        "      #initialize all needed attributes, but assign via HC objects\n",
        "\n",
        "      self.x_input_data = x_input_data  #processing wird von local classifier übernommen (CAVE bei Verwendung anderer LC (eg SVM), dass preprocessing einheitlich ist)\n",
        "      self.y_input_data = y_input_data \n",
        "\n",
        "      self.y_input_grouped_labels = None  #is generated via Hierarchical classifier, maps all labels to labels of children of THIS node object\n",
        "\n",
        "      self.apriori_y_input_data_indices = None #save indices of data in y_input vector, that will be used for prediction in order to compute accuracy\n",
        "      \n",
        "      #still manual splitting -> adjust to k fold CV in future\n",
        "      self.training_prediction_vec = None\n",
        "      self.test_prediction_vec = None\n",
        "\n",
        "      self.training_acc = None\n",
        "      self.test_acc = None\n",
        "\n",
        "      #SEEEEEEEHR UNSCHÖÖÖÖÖÖN, PROBLEM MIT Y_INPUT_GROUPED_BY_LABELS_BEHEBEN!! DANN INITIALISIEREN WIEDER IN KONSTRUKTOR SCHREIBEN\n",
        "      self.classifier_class = local_classifier #zwischenspeichern der Klasse bis y_input_grouped labels durch HC ausgegeben wurde --> SEHR UNSCHÖN\n",
        "      self.local_classifier_params = local_classifier_params\n",
        "\n",
        "  def initialize_local_classifier(self, local_classifier_output_len):\n",
        "    print(f'zu übergebene y_input daten: {self.y_input_grouped_labels}')\n",
        "    if self.classifier_class != None:\n",
        "      self.local_classifier = self.classifier_class(self.x_input_data, self.y_input_grouped_labels, local_classifier_output_len, *self.local_classifier_params)  #use y_input with labels that refer to the child nodes\n",
        "    else:\n",
        "      #TO DO: bessere Lösung einfallen lassen\n",
        "      print('WARNING! No classifier initialized!')"
      ],
      "metadata": {
        "id": "sZJiCqeZ0gKw"
      },
      "execution_count": 459,
      "outputs": []
    },
    {
      "cell_type": "markdown",
      "source": [
        "#Class Hierarchical_Classifier \n",
        "Initialize Directed Graph with Local Classifiers in Nodes"
      ],
      "metadata": {
        "id": "bBEkqCnDAGfC"
      }
    },
    {
      "cell_type": "code",
      "source": [
        "def make_graph_from_edges(d, g, parent_key=''):\n",
        "    for key in d.keys():\n",
        "        if parent_key != '':\n",
        "            g.add_edge(parent_key, key)\n",
        "        if len(d[key]) == 0:\n",
        "            pass\n",
        "        else:\n",
        "            make_graph_from_edges(d[key], g, parent_key=key)"
      ],
      "metadata": {
        "id": "sUU8Yb1TmIUK"
      },
      "execution_count": 460,
      "outputs": []
    },
    {
      "cell_type": "code",
      "source": [
        "def list_subgraph_nodes(g, parent_node):\n",
        "  list_of_nodes = []\n",
        "  for node in g.adj[parent_node].keys():\n",
        "    if len(g.adj[parent_node].keys()) != 0:\n",
        "      list_of_nodes.append(node)\n",
        "      list_of_nodes = list_of_nodes + list_subgraph_nodes(g, node)\n",
        "    else:\n",
        "      list_of_nodes.append(node)\n",
        "  return list_of_nodes"
      ],
      "metadata": {
        "id": "NkMWTEyXhnQa"
      },
      "execution_count": 461,
      "outputs": []
    },
    {
      "cell_type": "code",
      "source": [
        "class Hierarchical_Classifier():\n",
        "  '''Class connects Nodes of Local Classifiers, passes results to children classifiers and forms the final hierarchical classifier''' \n",
        "\n",
        "  def __init__(self, dict_of_cell_relations):\n",
        "    '''Params\n",
        "        - dict_of_cell_relations: used for initializing network structure of hierarchical classifier'''\n",
        "    self.dict_of_cell_relations = dict_of_cell_relations\n",
        "\n",
        "\n",
        "  def make_classifier_graph(self):\n",
        "    '''Compute Graph from a given dictionary of cell relationships'''\n",
        "    self.graph = nx.DiGraph()\n",
        "    make_graph_from_edges(self.dict_of_cell_relations, self.graph)\n",
        "\n",
        "  def init_node_memory_object(self, node, memory_class_params=[]):\n",
        "    '''Add memory object to each node; memory object organizes all relevant local classifier params'''\n",
        "    self.graph.add_node(node, memory=Node_Memory(*memory_class_params)) #lade die relevanten Daten\n",
        "    if len(memory_class_params) != 0: #auch sehr unschön ---> so ändern, dass konflit mit NN Initialisierung und berechnen von y_input_grouped_labels in node memory nicht auftritt\n",
        "      self.group_labels_of_subgraph_to_parent_label(node) #schreibe die relevanten (komprimierten) y_input daten durch aufrufen der methode\n",
        "      \n",
        "      print(f'Aus init_node_memory_object von Knoten {node}: output größe initialisiert als {len(self.graph.adj[node].keys())}')\n",
        "      \n",
        "      self.graph.nodes[node]['memory'].initialize_local_classifier(len(self.graph.adj[node].keys())) #initialisiere den local_classifier (jetzt ist y_input_grouped_labels wegen vorherigerm Methodenaufruf in node memory gegeben)\n",
        "                                                                                                      #GEÄNDERT: ÜBERGEBE LÄNGE DES LETZTEN LAYERS DES NN, vorher aus cat.categories geschlossen\n",
        "                                                                                                      #aber y_input_grouped_labels ist eine Liste\n",
        "  def run_local_classifier(self, node):\n",
        "    '''DEV METHOD: use for calling single methods at once to begin with'''\n",
        "    \n",
        "    #wo werden dem ersten local classifier die daten übergeben? --> aktuell manuell (s.u. TESTEN)\n",
        "\n",
        "    #ONLY NEEDED FOR GLOBAL ACCURACY\n",
        "    #save indices of known labels of daughter nodes in these corresponding nodes (i.e. eg node 'TNK' knows indices of 'TNK' in y_input_data of node 'all' ) \n",
        "    next_labels = [label for label in self.graph[node].keys()]\n",
        "    for label in next_labels:\n",
        "      self.graph.nodes[label]['memory'].apriori_y_input_data_indices = np.where(np.array(self.graph.nodes[node]['memory'].y_input_data) == label)\n",
        "\n",
        "    #run needed local classifier methods to train model\n",
        "    self.graph.nodes[node]['memory'].local_classifier.process_input_data()\n",
        "    self.graph.nodes[node]['memory'].local_classifier.train()\n",
        "\n",
        "    #predict trainings and test data (still splitted manually -> k fold cross validation) and save in corresponding node memory\n",
        "    self.graph.nodes[node]['memory'].training_prediction_vec = self.graph.nodes[node]['memory'].local_classifier.predict(self.graph.nodes[node]['memory'].local_classifier.x_training_input)\n",
        "    self.graph.nodes[node]['memory'].test_prediction_vec = self.graph.nodes[node]['memory'].local_classifier.predict(self.graph.nodes[node]['memory'].local_classifier.x_test_input)\n",
        "\n",
        "    #validate model \n",
        "    self.graph.nodes[node]['memory'].training_acc, self.graph.nodes[node]['memory'].test_acc =  self.graph.nodes[node]['memory'].local_classifier.validate()\n",
        "\n",
        "\n",
        "  def run_local_classifier_master(self, node, validate = True):\n",
        "    '''run master method of local classifier'''\n",
        "    pass\n",
        "\n",
        "\n",
        "  #automatisches mapping der feineren labels zu den groberen durch iterieren über die Labels der subgraphen, ausführen über \n",
        "  #Hierarchical_Classifier in jedem Knoten --> als y_input_data in node_memory speichern\n",
        "  #Ziel: mapping automatisieren, dafür: nimm 'Nachbarn' als nächste parentlabel, deren kinder müssen \n",
        "  #dann zu Nachbarn gemapped werden\n",
        "\n",
        "  #benutze den graph, weil hier die ecken bereits klar sind, klarer als in gegebenem dictionary (dort müsste über keys von keys iteriert werden)\n",
        "\n",
        "  def group_labels_of_subgraph_to_parent_label(self, super_node):\n",
        "    '''Maps y_input_data labels to parent label (eg map (CD4 T, CD8 T, NK) -> (TNK) for all neighbors of given super_node (eg TNK, B, Others) of Graph g\n",
        "      Params:\n",
        "        - super_node: node at which local classifier has to be run\n",
        "        \n",
        "      Saves result in y_input_grouped_labels attribute of Node_memory of super_node''' \n",
        "\n",
        "    mapping_dict = {node : [child_node for child_node in list_subgraph_nodes(self.graph, node)] for node in self.graph.adj[super_node].keys() }\n",
        "\n",
        "    #check if some neighbor nodes have already achieved highest annotation depth (terminal nodes) and map those to itself\n",
        "    for key in mapping_dict.keys():\n",
        "      if mapping_dict[key] == []:\n",
        "        mapping_dict[key] = key\n",
        "\n",
        "    mapper = {k:v for v,k in pd.Series(mapping_dict).explode().iteritems()} #write dict such that key and value are interchanged, then map; von StackOverFlow: letze antwort https://stackoverflow.com/questions/32262982/pandas-combining-multiple-categories-into-one\n",
        "    \n",
        "\n",
        "    #check if some cells were mislead and throw them out (otherwise they are labelled nan which gives more output units for neural network than needed + might be problematic for training of NN if \n",
        "    #cells are used asa data which were initially wrong, but are mapped to an output category)\n",
        "    #DOES NOT WORK FOR PREDICTION OF UNLABELED CELLS OF COURSE! OPTION TRAINING/PREDICTION MODE NEEDED!\n",
        "\n",
        "    idx_of_incorrectly_labelled_cells = []\n",
        "    for cell_label, cell_idx in zip(self.graph.nodes[super_node]['memory'].y_input_data, range(0, len(self.graph.nodes[super_node]['memory'].y_input_data))):\n",
        "      if cell_label not in mapper.keys():\n",
        "        idx_of_incorrectly_labelled_cells.append(cell_idx)\n",
        "    self.graph.nodes[super_node]['memory'].y_input_data = np.delete(self.graph.nodes[super_node]['memory'].y_input_data,idx_of_incorrectly_labelled_cells, axis = 0)\n",
        "    self.graph.nodes[super_node]['memory'].x_input_data = np.delete(self.graph.nodes[super_node]['memory'].x_input_data,idx_of_incorrectly_labelled_cells, axis = 0)\n",
        "    \n",
        "    self.graph.nodes[super_node]['memory'].y_input_grouped_labels = [mapper.get(k) for k in self.graph.nodes[super_node]['memory'].y_input_data]\n",
        "    \n",
        "\n",
        "    \n",
        "\n",
        "  def subset_pred_vec(self, node):\n",
        "    next_labels = [label for label in self.graph[node].keys()]\n",
        "\n",
        "    #fuse training and test data predictions to one prediction in order to have more data for next node (use local variable)\n",
        "    current_pred_vec = np.concatenate((self.graph.nodes[node]['memory'].training_prediction_vec, self.graph.nodes[node]['memory'].test_prediction_vec), axis = 0)\n",
        "    current_pred_vec = self.graph.nodes[node]['memory'].local_classifier.label_encoder.inverse_transform(current_pred_vec)\n",
        "\n",
        "    for next_label in next_labels:\n",
        "\n",
        "      #following line decodes integer output of neural network to string labels (for test and training data -> prediction vecs now overwritten, might be appropriate to use local variable) in order to compare with names of following nodes (again encoded by following local classifier)\n",
        "      # self.graph.nodes[node]['memory'].training_prediction_vec = self.graph.nodes[node]['memory'].local_classifier.label_encoder.inverse_transform(self.graph.nodes[node]['memory'].training_prediction_vec)\n",
        "      # self.graph.nodes[node]['memory'].test_prediction_vec = self.graph.nodes[node]['memory'].local_classifier.label_encoder.inverse_transform(self.graph.nodes[node]['memory'].test_prediction_vec)\n",
        "      # temp_idx_vec = np.where(np.array(self.graph.nodes[node]['memory'].prediction_vec) == next_label)\n",
        "      \n",
        "      #hier nochmal über auswirkung auf 'global accuracy' nachdenken -> falsch gelabelte zellen werden in group_labels_of_subgraph_to_parent_label\n",
        "      #des entsprechenden classifiers/knoten herausgeworfen\n",
        "      temp_idx_vec = np.where(current_pred_vec == next_label) \n",
        "      \n",
        "      self.graph.nodes[next_label]['memory'].x_input_data = np.array(self.graph.nodes[node]['memory'].x_input_data)[temp_idx_vec]\n",
        "      self.graph.nodes[next_label]['memory'].y_input_data = np.array(self.graph.nodes[node]['memory'].y_input_data)[temp_idx_vec]\n",
        "\n",
        "\n",
        "  def master_method(self):\n",
        "    '''method to run all relevant methods -> \"one-click\" initializing of hierarchical classifier (?)'''\n",
        "    pass\n",
        "\n"
      ],
      "metadata": {
        "id": "IQaUTDTS_X1J"
      },
      "execution_count": 462,
      "outputs": []
    },
    {
      "cell_type": "markdown",
      "source": [
        "#Test of Hierarchical Classifier "
      ],
      "metadata": {
        "id": "F_RdxaiARRj3"
      }
    },
    {
      "cell_type": "code",
      "source": [
        "!pip install scanpy \n"
      ],
      "metadata": {
        "id": "ICWY1MyZRVbk"
      },
      "execution_count": null,
      "outputs": []
    },
    {
      "cell_type": "code",
      "source": [
        "import scanpy as sc"
      ],
      "metadata": {
        "id": "qvbTHN7Tek7N"
      },
      "execution_count": 414,
      "outputs": []
    },
    {
      "cell_type": "code",
      "source": [
        "from google.colab import drive\n",
        "drive.mount('/content/drive/')"
      ],
      "metadata": {
        "colab": {
          "base_uri": "https://localhost:8080/"
        },
        "id": "yExXmrwfQuPx",
        "outputId": "ef30b76b-1a51-4af4-b4e1-cbe53c506cd6"
      },
      "execution_count": 415,
      "outputs": [
        {
          "output_type": "stream",
          "name": "stdout",
          "text": [
            "Drive already mounted at /content/drive/; to attempt to forcibly remount, call drive.mount(\"/content/drive/\", force_remount=True).\n"
          ]
        }
      ]
    },
    {
      "cell_type": "code",
      "source": [
        "adata = sc.read('drive/MyDrive/single_cell/processed/pbmc3k_level_1_scvi.h5ad')"
      ],
      "metadata": {
        "id": "MIoF8UQJRf9g"
      },
      "execution_count": 464,
      "outputs": []
    },
    {
      "cell_type": "code",
      "source": [
        "# adata.obs['leiden']"
      ],
      "metadata": {
        "id": "rU0gryAt9Buo"
      },
      "execution_count": 465,
      "outputs": []
    },
    {
      "cell_type": "code",
      "source": [
        "# adata.obs['training_level_1']"
      ],
      "metadata": {
        "id": "EOteQm1jXdLL"
      },
      "execution_count": 466,
      "outputs": []
    },
    {
      "cell_type": "code",
      "source": [
        "#neues erstellen des digraphs, for loop setzt alle node memories zurück\n",
        "hc = Hierarchical_Classifier({'all': {'TNK':{'CD4 T':{}, 'CD8 T':{}, 'NK':{}}, 'Myeloisch':{'FCGR3A Monocytes': {}, 'Dendritic':{}, 'CD14 Monocytes':{}}, 'B': {}, 'Others':{'Megakaryocytes':{}}}})\n",
        "hc.make_classifier_graph()\n",
        "for node in hc.graph.nodes:\n",
        "  hc.init_node_memory_object(node)\n",
        "nx.draw(hc.graph, with_labels=True)"
      ],
      "metadata": {
        "id": "AopRfZquzw_B",
        "colab": {
          "base_uri": "https://localhost:8080/",
          "height": 319
        },
        "outputId": "3aba4cc3-271a-4b68-fef8-79009576a351"
      },
      "execution_count": 467,
      "outputs": [
        {
          "output_type": "display_data",
          "data": {
            "text/plain": [
              "<Figure size 432x288 with 1 Axes>"
            ],
            "image/png": "[encoded data removed]"
          },
          "metadata": {}
        }
      ]
    },
    {
      "cell_type": "code",
      "source": [
        "# list_subgraph_nodes(hc.graph, 'Myeloisch')"
      ],
      "metadata": {
        "id": "otQ0mLmh82GW"
      },
      "execution_count": 468,
      "outputs": []
    },
    {
      "cell_type": "code",
      "source": [
        "# hc.group_labels_of_subgraph_to_parent_label('all')"
      ],
      "metadata": {
        "id": "5-bVX9M4afKF"
      },
      "execution_count": 469,
      "outputs": []
    },
    {
      "cell_type": "code",
      "source": [
        "#save input data and initialize first network in first node\n",
        "hc.init_node_memory_object('all', [adata.obsm['X_scVI'], adata.obs['leiden'], Neural_Network])"
      ],
      "metadata": {
        "id": "mP-BYisi-cda",
        "colab": {
          "base_uri": "https://localhost:8080/"
        },
        "outputId": "0e1b18e4-e7b5-472b-f66e-c1eae990ce31"
      },
      "execution_count": 470,
      "outputs": [
        {
          "output_type": "stream",
          "name": "stdout",
          "text": [
            "Aus init_node_memory_object von Knoten all: output größe initialisiert als 4\n",
            "zu übergebene y_input daten: ['TNK', 'B', 'TNK', 'TNK', 'Myeloisch', 'TNK', 'TNK', 'TNK', 'TNK', 'TNK', 'B', 'TNK', 'TNK', 'Myeloisch', 'TNK', 'TNK', 'Myeloisch', 'TNK', 'B', 'B', 'B', 'TNK', 'Myeloisch', 'B', 'TNK', 'TNK', 'TNK', 'TNK', 'TNK', 'TNK', 'TNK', 'B', 'Myeloisch', 'TNK', 'Myeloisch', 'TNK', 'Myeloisch', 'TNK', 'TNK', 'Myeloisch', 'TNK', 'TNK', 'TNK', 'TNK', 'TNK', 'TNK', 'TNK', 'Myeloisch', 'TNK', 'TNK', 'TNK', 'TNK', 'TNK', 'TNK', 'TNK', 'B', 'Myeloisch', 'TNK', 'Myeloisch', 'TNK', 'TNK', 'TNK', 'Myeloisch', 'TNK', 'TNK', 'TNK', 'TNK', 'TNK', 'TNK', 'TNK', 'TNK', 'Myeloisch', 'TNK', 'Myeloisch', 'TNK', 'B', 'TNK', 'TNK', 'TNK', 'Myeloisch', 'Myeloisch', 'TNK', 'TNK', 'TNK', 'Myeloisch', 'B', 'TNK', 'TNK', 'B', 'B', 'TNK', 'Myeloisch', 'B', 'B', 'Myeloisch', 'Myeloisch', 'TNK', 'Myeloisch', 'Myeloisch', 'Myeloisch', 'Myeloisch', 'Myeloisch', 'TNK', 'TNK', 'Myeloisch', 'B', 'TNK', 'B', 'TNK', 'Myeloisch', 'Myeloisch', 'TNK', 'TNK', 'TNK', 'Myeloisch', 'TNK', 'TNK', 'B', 'TNK', 'TNK', 'TNK', 'Myeloisch', 'B', 'TNK', 'TNK', 'TNK', 'Myeloisch', 'B', 'Myeloisch', 'TNK', 'TNK', 'TNK', 'TNK', 'TNK', 'B', 'TNK', 'TNK', 'TNK', 'TNK', 'B', 'TNK', 'TNK', 'Myeloisch', 'B', 'TNK', 'TNK', 'B', 'TNK', 'Myeloisch', 'Myeloisch', 'TNK', 'TNK', 'TNK', 'TNK', 'Myeloisch', 'TNK', 'TNK', 'Myeloisch', 'TNK', 'Myeloisch', 'B', 'Myeloisch', 'B', 'Myeloisch', 'TNK', 'B', 'TNK', 'TNK', 'TNK', 'TNK', 'TNK', 'TNK', 'TNK', 'Myeloisch', 'TNK', 'Myeloisch', 'TNK', 'TNK', 'B', 'B', 'TNK', 'B', 'TNK', 'TNK', 'Myeloisch', 'Myeloisch', 'Myeloisch', 'TNK', 'Myeloisch', 'TNK', 'B', 'TNK', 'B', 'TNK', 'Myeloisch', 'TNK', 'TNK', 'Myeloisch', 'TNK', 'TNK', 'Myeloisch', 'TNK', 'TNK', 'TNK', 'TNK', 'TNK', 'TNK', 'TNK', 'TNK', 'Myeloisch', 'TNK', 'TNK', 'TNK', 'TNK', 'TNK', 'Myeloisch', 'Myeloisch', 'TNK', 'B', 'TNK', 'TNK', 'Myeloisch', 'TNK', 'TNK', 'TNK', 'TNK', 'TNK', 'TNK', 'TNK', 'TNK', 'TNK', 'B', 'TNK', 'TNK', 'Myeloisch', 'TNK', 'TNK', 'TNK', 'TNK', 'TNK', 'TNK', 'B', 'Myeloisch', 'TNK', 'Others', 'Myeloisch', 'TNK', 'Myeloisch', 'TNK', 'B', 'TNK', 'Myeloisch', 'TNK', 'B', 'Myeloisch', 'TNK', 'TNK', 'B', 'B', 'TNK', 'TNK', 'TNK', 'TNK', 'TNK', 'TNK', 'Myeloisch', 'Myeloisch', 'Myeloisch', 'TNK', 'Myeloisch', 'Others', 'TNK', 'B', 'TNK', 'TNK', 'B', 'TNK', 'Myeloisch', 'TNK', 'TNK', 'B', 'B', 'Myeloisch', 'Myeloisch', 'TNK', 'TNK', 'TNK', 'Myeloisch', 'B', 'TNK', 'Myeloisch', 'TNK', 'TNK', 'TNK', 'TNK', 'B', 'TNK', 'TNK', 'TNK', 'Myeloisch', 'Myeloisch', 'TNK', 'Myeloisch', 'B', 'TNK', 'TNK', 'TNK', 'TNK', 'TNK', 'TNK', 'TNK', 'Myeloisch', 'B', 'B', 'TNK', 'TNK', 'TNK', 'B', 'TNK', 'Myeloisch', 'TNK', 'Myeloisch', 'TNK', 'Myeloisch', 'Myeloisch', 'B', 'Myeloisch', 'TNK', 'TNK', 'Myeloisch', 'TNK', 'TNK', 'TNK', 'TNK', 'TNK', 'Myeloisch', 'Myeloisch', 'B', 'Myeloisch', 'TNK', 'TNK', 'Myeloisch', 'TNK', 'TNK', 'TNK', 'TNK', 'TNK', 'TNK', 'TNK', 'TNK', 'TNK', 'B', 'Myeloisch', 'TNK', 'Myeloisch', 'Myeloisch', 'TNK', 'TNK', 'TNK', 'TNK', 'TNK', 'B', 'TNK', 'Myeloisch', 'Myeloisch', 'TNK', 'B', 'Myeloisch', 'TNK', 'TNK', 'Myeloisch', 'TNK', 'TNK', 'TNK', 'Myeloisch', 'TNK', 'B', 'B', 'Myeloisch', 'TNK', 'TNK', 'Myeloisch', 'TNK', 'TNK', 'Myeloisch', 'B', 'TNK', 'Myeloisch', 'Myeloisch', 'B', 'TNK', 'TNK', 'TNK', 'TNK', 'TNK', 'TNK', 'TNK', 'Myeloisch', 'Myeloisch', 'TNK', 'TNK', 'TNK', 'B', 'Myeloisch', 'TNK', 'TNK', 'TNK', 'B', 'B', 'TNK', 'TNK', 'B', 'TNK', 'Myeloisch', 'TNK', 'TNK', 'TNK', 'TNK', 'TNK', 'B', 'Myeloisch', 'TNK', 'B', 'TNK', 'Myeloisch', 'Myeloisch', 'B', 'B', 'TNK', 'TNK', 'Myeloisch', 'Myeloisch', 'Myeloisch', 'TNK', 'TNK', 'TNK', 'TNK', 'Myeloisch', 'TNK', 'TNK', 'B', 'Myeloisch', 'TNK', 'Myeloisch', 'TNK', 'TNK', 'TNK', 'TNK', 'TNK', 'TNK', 'TNK', 'TNK', 'TNK', 'TNK', 'B', 'Myeloisch', 'TNK', 'TNK', 'TNK', 'Myeloisch', 'TNK', 'TNK', 'TNK', 'TNK', 'TNK', 'TNK', 'TNK', 'Myeloisch', 'TNK', 'TNK', 'TNK', 'TNK', 'TNK', 'TNK', 'TNK', 'TNK', 'TNK', 'TNK', 'B', 'TNK', 'TNK', 'TNK', 'TNK', 'TNK', 'TNK', 'TNK', 'TNK', 'Myeloisch', 'B', 'Myeloisch', 'TNK', 'TNK', 'TNK', 'TNK', 'TNK', 'TNK', 'Myeloisch', 'TNK', 'TNK', 'TNK', 'TNK', 'TNK', 'Myeloisch', 'TNK', 'B', 'Myeloisch', 'TNK', 'Myeloisch', 'B', 'TNK', 'TNK', 'TNK', 'TNK', 'B', 'Myeloisch', 'Myeloisch', 'TNK', 'TNK', 'TNK', 'Myeloisch', 'B', 'TNK', 'TNK', 'TNK', 'TNK', 'B', 'TNK', 'TNK', 'TNK', 'TNK', 'TNK', 'Myeloisch', 'TNK', 'TNK', 'TNK', 'TNK', 'TNK', 'TNK', 'TNK', 'TNK', 'Myeloisch', 'TNK', 'TNK', 'TNK', 'Others', 'TNK', 'TNK', 'TNK', 'Myeloisch', 'TNK', 'Myeloisch', 'TNK', 'TNK', 'Myeloisch', 'TNK', 'TNK', 'TNK', 'TNK', 'TNK', 'Myeloisch', 'TNK', 'B', 'TNK', 'Myeloisch', 'TNK', 'TNK', 'TNK', 'TNK', 'TNK', 'B', 'TNK', 'TNK', 'B', 'TNK', 'TNK', 'Myeloisch', 'TNK', 'Myeloisch', 'Myeloisch', 'Myeloisch', 'Myeloisch', 'Myeloisch', 'TNK', 'Myeloisch', 'TNK', 'TNK', 'TNK', 'Myeloisch', 'Myeloisch', 'B', 'B', 'Myeloisch', 'Myeloisch', 'TNK', 'Myeloisch', 'TNK', 'TNK', 'B', 'TNK', 'TNK', 'Myeloisch', 'Myeloisch', 'TNK', 'TNK', 'TNK', 'Myeloisch', 'TNK', 'Myeloisch', 'TNK', 'TNK', 'TNK', 'TNK', 'TNK', 'TNK', 'TNK', 'TNK', 'Myeloisch', 'Myeloisch', 'TNK', 'TNK', 'TNK', 'Myeloisch', 'TNK', 'TNK', 'TNK', 'TNK', 'TNK', 'TNK', 'B', 'Others', 'TNK', 'B', 'TNK', 'TNK', 'Myeloisch', 'TNK', 'Myeloisch', 'B', 'B', 'B', 'B', 'TNK', 'Myeloisch', 'TNK', 'TNK', 'TNK', 'B', 'TNK', 'TNK', 'B', 'Myeloisch', 'TNK', 'B', 'TNK', 'TNK', 'TNK', 'Myeloisch', 'Myeloisch', 'Myeloisch', 'Myeloisch', 'TNK', 'B', 'TNK', 'Myeloisch', 'Myeloisch', 'Myeloisch', 'TNK', 'TNK', 'TNK', 'TNK', 'TNK', 'TNK', 'TNK', 'TNK', 'TNK', 'Myeloisch', 'TNK', 'TNK', 'TNK', 'B', 'B', 'B', 'Myeloisch', 'B', 'TNK', 'TNK', 'TNK', 'B', 'TNK', 'TNK', 'Myeloisch', 'TNK', 'TNK', 'TNK', 'TNK', 'Myeloisch', 'Myeloisch', 'B', 'TNK', 'B', 'TNK', 'Myeloisch', 'B', 'TNK', 'TNK', 'Myeloisch', 'Myeloisch', 'Myeloisch', 'TNK', 'B', 'TNK', 'TNK', 'TNK', 'B', 'TNK', 'Myeloisch', 'B', 'Myeloisch', 'TNK', 'TNK', 'TNK', 'TNK', 'Myeloisch', 'TNK', 'Myeloisch', 'TNK', 'TNK', 'Myeloisch', 'TNK', 'Myeloisch', 'TNK', 'TNK', 'Myeloisch', 'TNK', 'TNK', 'Myeloisch', 'TNK', 'TNK', 'Myeloisch', 'TNK', 'TNK', 'TNK', 'TNK', 'TNK', 'Others', 'Myeloisch', 'Myeloisch', 'TNK', 'Myeloisch', 'TNK', 'Myeloisch', 'TNK', 'TNK', 'TNK', 'TNK', 'TNK', 'TNK', 'TNK', 'TNK', 'TNK', 'Myeloisch', 'TNK', 'TNK', 'B', 'B', 'B', 'Myeloisch', 'TNK', 'TNK', 'TNK', 'TNK', 'TNK', 'TNK', 'Myeloisch', 'TNK', 'TNK', 'TNK', 'TNK', 'Myeloisch', 'TNK', 'B', 'TNK', 'TNK', 'Myeloisch', 'TNK', 'TNK', 'Myeloisch', 'TNK', 'TNK', 'Myeloisch', 'Myeloisch', 'TNK', 'TNK', 'TNK', 'Myeloisch', 'TNK', 'Myeloisch', 'TNK', 'Myeloisch', 'TNK', 'B', 'B', 'TNK', 'TNK', 'TNK', 'TNK', 'TNK', 'B', 'Myeloisch', 'B', 'Myeloisch', 'Myeloisch', 'Myeloisch', 'TNK', 'Myeloisch', 'TNK', 'TNK', 'TNK', 'Myeloisch', 'TNK', 'TNK', 'TNK', 'Myeloisch', 'TNK', 'TNK', 'TNK', 'TNK', 'TNK', 'TNK', 'TNK', 'TNK', 'TNK', 'Myeloisch', 'TNK', 'TNK', 'TNK', 'Myeloisch', 'TNK', 'TNK', 'TNK', 'TNK', 'Myeloisch', 'TNK', 'TNK', 'TNK', 'TNK', 'TNK', 'TNK', 'TNK', 'B', 'TNK', 'TNK', 'TNK', 'TNK', 'B', 'TNK', 'B', 'B', 'TNK', 'B', 'TNK', 'TNK', 'TNK', 'TNK', 'TNK', 'TNK', 'B', 'TNK', 'B', 'B', 'TNK', 'Myeloisch', 'TNK', 'TNK', 'TNK', 'TNK', 'B', 'TNK', 'TNK', 'TNK', 'TNK', 'TNK', 'TNK', 'TNK', 'TNK', 'TNK', 'B', 'TNK', 'TNK', 'Myeloisch', 'TNK', 'Myeloisch', 'TNK', 'Myeloisch', 'TNK', 'Myeloisch', 'TNK', 'TNK', 'Myeloisch', 'Myeloisch', 'TNK', 'TNK', 'Myeloisch', 'TNK', 'TNK', 'Myeloisch', 'TNK', 'TNK', 'Myeloisch', 'TNK', 'TNK', 'Myeloisch', 'Myeloisch', 'TNK', 'Myeloisch', 'TNK', 'TNK', 'TNK', 'TNK', 'B', 'B', 'TNK', 'TNK', 'TNK', 'TNK', 'TNK', 'B', 'B', 'TNK', 'TNK', 'B', 'TNK', 'TNK', 'B', 'TNK', 'Myeloisch', 'TNK', 'Myeloisch', 'TNK', 'Myeloisch', 'TNK', 'TNK', 'TNK', 'TNK', 'TNK', 'TNK', 'TNK', 'TNK', 'Myeloisch', 'B', 'TNK', 'TNK', 'Myeloisch', 'Myeloisch', 'TNK', 'Myeloisch', 'Myeloisch', 'Myeloisch', 'B', 'TNK', 'TNK', 'B', 'TNK', 'TNK', 'B', 'TNK', 'B', 'Myeloisch', 'TNK', 'TNK', 'TNK', 'TNK', 'Myeloisch', 'TNK', 'Myeloisch', 'TNK', 'TNK', 'TNK', 'TNK', 'Myeloisch', 'B', 'Myeloisch', 'TNK', 'TNK', 'Myeloisch', 'Myeloisch', 'TNK', 'TNK', 'B', 'TNK', 'TNK', 'TNK', 'TNK', 'Myeloisch', 'TNK', 'TNK', 'B', 'TNK', 'TNK', 'B', 'Myeloisch', 'Myeloisch', 'TNK', 'Myeloisch', 'Myeloisch', 'TNK', 'TNK', 'TNK', 'TNK', 'B', 'TNK', 'TNK', 'TNK', 'TNK', 'Myeloisch', 'TNK', 'TNK', 'TNK', 'TNK', 'TNK', 'Myeloisch', 'Myeloisch', 'TNK', 'Myeloisch', 'B', 'TNK', 'TNK', 'Myeloisch', 'TNK', 'TNK', 'Myeloisch', 'Myeloisch', 'TNK', 'TNK', 'B', 'B', 'Myeloisch', 'TNK', 'Myeloisch', 'B', 'TNK', 'TNK', 'TNK', 'TNK', 'TNK', 'B', 'Myeloisch', 'TNK', 'TNK', 'B', 'TNK', 'Myeloisch', 'Myeloisch', 'Myeloisch', 'B', 'TNK', 'Myeloisch', 'TNK', 'B', 'TNK', 'Myeloisch', 'Myeloisch', 'TNK', 'B', 'TNK', 'TNK', 'B', 'TNK', 'B', 'Myeloisch', 'TNK', 'TNK', 'TNK', 'Myeloisch', 'TNK', 'TNK', 'TNK', 'TNK', 'Myeloisch', 'TNK', 'B', 'Myeloisch', 'Myeloisch', 'TNK', 'TNK', 'B', 'TNK', 'Myeloisch', 'TNK', 'TNK', 'TNK', 'Myeloisch', 'TNK', 'TNK', 'TNK', 'TNK', 'B', 'B', 'TNK', 'TNK', 'TNK', 'TNK', 'Myeloisch', 'TNK', 'TNK', 'TNK', 'Myeloisch', 'TNK', 'TNK', 'TNK', 'B', 'Myeloisch', 'TNK', 'B', 'TNK', 'TNK', 'B', 'Myeloisch', 'Myeloisch', 'TNK', 'TNK', 'TNK', 'TNK', 'TNK', 'B', 'B', 'Myeloisch', 'TNK', 'TNK', 'B', 'Myeloisch', 'Myeloisch', 'TNK', 'TNK', 'TNK', 'TNK', 'TNK', 'TNK', 'TNK', 'TNK', 'TNK', 'Myeloisch', 'TNK', 'TNK', 'Myeloisch', 'TNK', 'TNK', 'TNK', 'TNK', 'TNK', 'TNK', 'Myeloisch', 'B', 'TNK', 'TNK', 'Myeloisch', 'TNK', 'Myeloisch', 'Myeloisch', 'B', 'TNK', 'TNK', 'Myeloisch', 'TNK', 'B', 'TNK', 'TNK', 'Myeloisch', 'TNK', 'TNK', 'TNK', 'TNK', 'Myeloisch', 'TNK', 'B', 'TNK', 'TNK', 'TNK', 'B', 'TNK', 'TNK', 'TNK', 'TNK', 'B', 'TNK', 'Myeloisch', 'TNK', 'TNK', 'TNK', 'TNK', 'TNK', 'TNK', 'Myeloisch', 'TNK', 'TNK', 'TNK', 'TNK', 'B', 'B', 'Myeloisch', 'Myeloisch', 'TNK', 'TNK', 'B', 'TNK', 'Myeloisch', 'Myeloisch', 'B', 'TNK', 'TNK', 'TNK', 'TNK', 'Myeloisch', 'TNK', 'TNK', 'TNK', 'Myeloisch', 'TNK', 'TNK', 'TNK', 'TNK', 'B', 'TNK', 'Myeloisch', 'TNK', 'TNK', 'Myeloisch', 'TNK', 'Myeloisch', 'TNK', 'TNK', 'TNK', 'TNK', 'Myeloisch', 'TNK', 'TNK', 'TNK', 'Myeloisch', 'TNK', 'Myeloisch', 'TNK', 'TNK', 'TNK', 'Myeloisch', 'TNK', 'TNK', 'TNK', 'TNK', 'TNK', 'TNK', 'TNK', 'TNK', 'TNK', 'Myeloisch', 'Myeloisch', 'TNK', 'Myeloisch', 'Myeloisch', 'TNK', 'TNK', 'TNK', 'TNK', 'TNK', 'TNK', 'TNK', 'Myeloisch', 'TNK', 'Myeloisch', 'Myeloisch', 'Myeloisch', 'Myeloisch', 'TNK', 'Myeloisch', 'TNK', 'TNK', 'Myeloisch', 'B', 'TNK', 'TNK', 'Myeloisch', 'TNK', 'TNK', 'TNK', 'TNK', 'Myeloisch', 'B', 'TNK', 'TNK', 'TNK', 'Myeloisch', 'TNK', 'TNK', 'TNK', 'TNK', 'Myeloisch', 'Myeloisch', 'Myeloisch', 'Myeloisch', 'TNK', 'B', 'Myeloisch', 'Myeloisch', 'TNK', 'TNK', 'TNK', 'TNK', 'TNK', 'B', 'B', 'TNK', 'TNK', 'TNK', 'TNK', 'Myeloisch', 'B', 'Myeloisch', 'TNK', 'Myeloisch', 'Myeloisch', 'Myeloisch', 'TNK', 'TNK', 'Myeloisch', 'Myeloisch', 'TNK', 'TNK', 'TNK', 'Myeloisch', 'TNK', 'TNK', 'B', 'TNK', 'TNK', 'TNK', 'Myeloisch', 'TNK', 'TNK', 'TNK', 'TNK', 'Myeloisch', 'TNK', 'TNK', 'Myeloisch', 'TNK', 'Myeloisch', 'TNK', 'TNK', 'TNK', 'TNK', 'TNK', 'Myeloisch', 'TNK', 'TNK', 'TNK', 'Myeloisch', 'TNK', 'Myeloisch', 'TNK', 'TNK', 'Myeloisch', 'TNK', 'TNK', 'TNK', 'TNK', 'TNK', 'Myeloisch', 'TNK', 'TNK', 'TNK', 'B', 'TNK', 'B', 'TNK', 'TNK', 'TNK', 'TNK', 'TNK', 'TNK', 'TNK', 'TNK', 'Myeloisch', 'TNK', 'TNK', 'TNK', 'TNK', 'TNK', 'TNK', 'TNK', 'TNK', 'TNK', 'TNK', 'TNK', 'TNK', 'TNK', 'TNK', 'TNK', 'B', 'Myeloisch', 'TNK', 'TNK', 'TNK', 'Myeloisch', 'TNK', 'TNK', 'TNK', 'Myeloisch', 'Myeloisch', 'TNK', 'TNK', 'B', 'TNK', 'TNK', 'TNK', 'B', 'TNK', 'Myeloisch', 'TNK', 'TNK', 'TNK', 'TNK', 'TNK', 'TNK', 'B', 'TNK', 'TNK', 'TNK', 'TNK', 'TNK', 'TNK', 'TNK', 'B', 'B', 'TNK', 'TNK', 'TNK', 'TNK', 'TNK', 'TNK', 'Myeloisch', 'TNK', 'TNK', 'TNK', 'TNK', 'TNK', 'TNK', 'TNK', 'TNK', 'TNK', 'TNK', 'TNK', 'TNK', 'TNK', 'TNK', 'TNK', 'TNK', 'Myeloisch', 'TNK', 'B', 'Myeloisch', 'Myeloisch', 'TNK', 'Myeloisch', 'B', 'TNK', 'Myeloisch', 'TNK', 'TNK', 'TNK', 'TNK', 'Myeloisch', 'TNK', 'TNK', 'TNK', 'TNK', 'TNK', 'Myeloisch', 'TNK', 'Myeloisch', 'Myeloisch', 'TNK', 'TNK', 'Myeloisch', 'TNK', 'TNK', 'Myeloisch', 'TNK', 'TNK', 'Myeloisch', 'B', 'B', 'TNK', 'Myeloisch', 'Myeloisch', 'TNK', 'TNK', 'Myeloisch', 'TNK', 'TNK', 'TNK', 'Myeloisch', 'B', 'TNK', 'TNK', 'TNK', 'TNK', 'B', 'TNK', 'TNK', 'TNK', 'B', 'Myeloisch', 'Myeloisch', 'Myeloisch', 'B', 'TNK', 'TNK', 'TNK', 'Myeloisch', 'TNK', 'TNK', 'B', 'TNK', 'Others', 'Myeloisch', 'Myeloisch', 'TNK', 'TNK', 'TNK', 'TNK', 'TNK', 'TNK', 'Myeloisch', 'B', 'B', 'TNK', 'TNK', 'TNK', 'Myeloisch', 'Myeloisch', 'TNK', 'TNK', 'B', 'B', 'Myeloisch', 'TNK', 'TNK', 'TNK', 'TNK', 'TNK', 'Myeloisch', 'TNK', 'Myeloisch', 'Myeloisch', 'B', 'TNK', 'B', 'TNK', 'TNK', 'TNK', 'TNK', 'TNK', 'TNK', 'TNK', 'Myeloisch', 'Myeloisch', 'TNK', 'Myeloisch', 'TNK', 'Myeloisch', 'Myeloisch', 'Myeloisch', 'TNK', 'TNK', 'TNK', 'B', 'TNK', 'TNK', 'B', 'B', 'TNK', 'B', 'TNK', 'B', 'TNK', 'TNK', 'Myeloisch', 'TNK', 'Myeloisch', 'Others', 'TNK', 'Myeloisch', 'Myeloisch', 'TNK', 'TNK', 'Myeloisch', 'Myeloisch', 'TNK', 'Myeloisch', 'TNK', 'TNK', 'TNK', 'TNK', 'TNK', 'TNK', 'TNK', 'Myeloisch', 'TNK', 'Myeloisch', 'TNK', 'TNK', 'TNK', 'Myeloisch', 'TNK', 'Myeloisch', 'TNK', 'B', 'B', 'Myeloisch', 'TNK', 'TNK', 'TNK', 'B', 'TNK', 'TNK', 'Myeloisch', 'Myeloisch', 'TNK', 'TNK', 'TNK', 'Myeloisch', 'TNK', 'TNK', 'TNK', 'Myeloisch', 'TNK', 'Myeloisch', 'TNK', 'B', 'B', 'B', 'B', 'TNK', 'TNK', 'B', 'Myeloisch', 'TNK', 'Myeloisch', 'Myeloisch', 'TNK', 'TNK', 'TNK', 'TNK', 'TNK', 'TNK', 'Myeloisch', 'TNK', 'TNK', 'TNK', 'TNK', 'Myeloisch', 'Myeloisch', 'Myeloisch', 'Myeloisch', 'Myeloisch', 'Myeloisch', 'TNK', 'TNK', 'Myeloisch', 'TNK', 'TNK', 'Myeloisch', 'TNK', 'B', 'TNK', 'B', 'Myeloisch', 'TNK', 'TNK', 'TNK', 'TNK', 'TNK', 'TNK', 'TNK', 'TNK', 'TNK', 'TNK', 'TNK', 'Myeloisch', 'TNK', 'TNK', 'TNK', 'TNK', 'TNK', 'TNK', 'TNK', 'TNK', 'TNK', 'TNK', 'Myeloisch', 'TNK', 'TNK', 'TNK', 'TNK', 'TNK', 'Myeloisch', 'TNK', 'TNK', 'Myeloisch', 'TNK', 'TNK', 'TNK', 'Myeloisch', 'Myeloisch', 'TNK', 'TNK', 'B', 'TNK', 'TNK', 'TNK', 'TNK', 'TNK', 'TNK', 'Myeloisch', 'TNK', 'TNK', 'TNK', 'B', 'TNK', 'Myeloisch', 'TNK', 'TNK', 'TNK', 'Myeloisch', 'TNK', 'Others', 'TNK', 'Myeloisch', 'TNK', 'B', 'TNK', 'Myeloisch', 'TNK', 'TNK', 'B', 'Myeloisch', 'Myeloisch', 'TNK', 'TNK', 'Myeloisch', 'TNK', 'B', 'Myeloisch', 'TNK', 'TNK', 'TNK', 'TNK', 'B', 'TNK', 'TNK', 'Myeloisch', 'TNK', 'TNK', 'TNK', 'TNK', 'TNK', 'B', 'TNK', 'TNK', 'TNK', 'TNK', 'Myeloisch', 'Myeloisch', 'Myeloisch', 'TNK', 'TNK', 'Myeloisch', 'TNK', 'Myeloisch', 'Others', 'TNK', 'Myeloisch', 'TNK', 'Myeloisch', 'B', 'Myeloisch', 'TNK', 'TNK', 'TNK', 'Myeloisch', 'TNK', 'TNK', 'B', 'Myeloisch', 'TNK', 'TNK', 'TNK', 'B', 'TNK', 'Myeloisch', 'Myeloisch', 'Myeloisch', 'TNK', 'Myeloisch', 'TNK', 'Myeloisch', 'TNK', 'TNK', 'Myeloisch', 'B', 'B', 'B', 'Myeloisch', 'TNK', 'TNK', 'Myeloisch', 'Myeloisch', 'Myeloisch', 'TNK', 'TNK', 'TNK', 'TNK', 'TNK', 'TNK', 'TNK', 'B', 'TNK', 'Myeloisch', 'TNK', 'TNK', 'TNK', 'Myeloisch', 'TNK', 'Myeloisch', 'TNK', 'B', 'TNK', 'B', 'TNK', 'TNK', 'Myeloisch', 'Others', 'TNK', 'TNK', 'TNK', 'Myeloisch', 'TNK', 'TNK', 'TNK', 'Myeloisch', 'TNK', 'TNK', 'TNK', 'Myeloisch', 'TNK', 'TNK', 'TNK', 'TNK', 'TNK', 'TNK', 'TNK', 'TNK', 'TNK', 'TNK', 'Myeloisch', 'TNK', 'TNK', 'TNK', 'Myeloisch', 'TNK', 'B', 'Myeloisch', 'Myeloisch', 'TNK', 'TNK', 'TNK', 'TNK', 'TNK', 'TNK', 'TNK', 'Myeloisch', 'TNK', 'B', 'B', 'TNK', 'Myeloisch', 'TNK', 'Myeloisch', 'TNK', 'TNK', 'TNK', 'TNK', 'Myeloisch', 'B', 'Myeloisch', 'B', 'TNK', 'TNK', 'TNK', 'B', 'TNK', 'Myeloisch', 'Myeloisch', 'TNK', 'B', 'TNK', 'TNK', 'TNK', 'TNK', 'Myeloisch', 'TNK', 'Myeloisch', 'TNK', 'Myeloisch', 'TNK', 'Myeloisch', 'B', 'TNK', 'Myeloisch', 'Myeloisch', 'B', 'Myeloisch', 'TNK', 'Myeloisch', 'TNK', 'Myeloisch', 'TNK', 'Myeloisch', 'TNK', 'TNK', 'Myeloisch', 'B', 'B', 'B', 'TNK', 'B', 'Myeloisch', 'Myeloisch', 'TNK', 'TNK', 'TNK', 'Myeloisch', 'TNK', 'TNK', 'TNK', 'Myeloisch', 'TNK', 'Myeloisch', 'B', 'Myeloisch', 'B', 'Myeloisch', 'TNK', 'TNK', 'TNK', 'Myeloisch', 'TNK', 'Myeloisch', 'Myeloisch', 'TNK', 'Myeloisch', 'TNK', 'TNK', 'TNK', 'TNK', 'TNK', 'TNK', 'TNK', 'TNK', 'Myeloisch', 'TNK', 'TNK', 'TNK', 'TNK', 'TNK', 'B', 'TNK', 'Others', 'TNK', 'TNK', 'TNK', 'TNK', 'TNK', 'TNK', 'TNK', 'Myeloisch', 'Myeloisch', 'TNK', 'B', 'TNK', 'Myeloisch', 'TNK', 'TNK', 'TNK', 'TNK', 'B', 'TNK', 'TNK', 'Myeloisch', 'Myeloisch', 'TNK', 'B', 'TNK', 'TNK', 'TNK', 'TNK', 'TNK', 'TNK', 'B', 'Myeloisch', 'B', 'Myeloisch', 'Myeloisch', 'TNK', 'B', 'TNK', 'Myeloisch', 'TNK', 'Myeloisch', 'TNK', 'B', 'TNK', 'TNK', 'TNK', 'Myeloisch', 'TNK', 'Myeloisch', 'Myeloisch', 'Myeloisch', 'TNK', 'TNK', 'TNK', 'TNK', 'Myeloisch', 'TNK', 'Myeloisch', 'TNK', 'TNK', 'B', 'TNK', 'TNK', 'B', 'Myeloisch', 'Myeloisch', 'Others', 'B', 'TNK', 'Myeloisch', 'TNK', 'TNK', 'TNK', 'TNK', 'Myeloisch', 'B', 'Myeloisch', 'Myeloisch', 'Myeloisch', 'B', 'Myeloisch', 'Myeloisch', 'TNK', 'TNK', 'Myeloisch', 'Myeloisch', 'TNK', 'TNK', 'TNK', 'TNK', 'Myeloisch', 'TNK', 'TNK', 'B', 'B', 'TNK', 'TNK', 'TNK', 'TNK', 'Myeloisch', 'TNK', 'Myeloisch', 'TNK', 'TNK', 'Myeloisch', 'TNK', 'TNK', 'TNK', 'TNK', 'TNK', 'TNK', 'TNK', 'B', 'TNK', 'TNK', 'Myeloisch', 'Myeloisch', 'Myeloisch', 'TNK', 'TNK', 'TNK', 'TNK', 'TNK', 'TNK', 'TNK', 'TNK', 'Myeloisch', 'TNK', 'TNK', 'B', 'B', 'Myeloisch', 'TNK', 'TNK', 'B', 'TNK', 'Myeloisch', 'B', 'TNK', 'Myeloisch', 'TNK', 'TNK', 'TNK', 'Myeloisch', 'Myeloisch', 'TNK', 'TNK', 'Myeloisch', 'B', 'TNK', 'Myeloisch', 'TNK', 'B', 'TNK', 'TNK', 'Myeloisch', 'B', 'TNK', 'B', 'TNK', 'TNK', 'Myeloisch', 'TNK', 'TNK', 'TNK', 'TNK', 'TNK', 'B', 'B', 'TNK', 'Myeloisch', 'TNK', 'TNK', 'TNK', 'TNK', 'TNK', 'TNK', 'Myeloisch', 'TNK', 'TNK', 'TNK', 'TNK', 'Myeloisch', 'B', 'TNK', 'TNK', 'TNK', 'B', 'TNK', 'B', 'B', 'Myeloisch', 'TNK', 'Myeloisch', 'TNK', 'TNK', 'B', 'TNK', 'B', 'TNK', 'TNK', 'TNK', 'Myeloisch', 'TNK', 'TNK', 'TNK', 'Myeloisch', 'B', 'TNK', 'TNK', 'TNK', 'TNK', 'Myeloisch', 'Myeloisch', 'TNK', 'TNK', 'TNK', 'TNK', 'Myeloisch', 'TNK', 'TNK', 'TNK', 'TNK', 'B', 'TNK', 'TNK', 'TNK', 'Myeloisch', 'TNK', 'Myeloisch', 'TNK', 'TNK', 'Myeloisch', 'TNK', 'TNK', 'TNK', 'TNK', 'Myeloisch', 'TNK', 'TNK', 'Myeloisch', 'B', 'TNK', 'B', 'Myeloisch', 'B', 'Myeloisch', 'TNK', 'TNK', 'TNK', 'TNK', 'TNK', 'Myeloisch', 'Myeloisch', 'TNK', 'Myeloisch', 'TNK', 'TNK', 'Myeloisch', 'TNK', 'TNK', 'TNK', 'Myeloisch', 'TNK', 'TNK', 'Myeloisch', 'TNK', 'TNK', 'TNK', 'B', 'TNK', 'B', 'TNK', 'Myeloisch', 'TNK', 'TNK', 'TNK', 'B', 'TNK', 'TNK', 'TNK', 'TNK', 'Myeloisch', 'TNK', 'TNK', 'TNK', 'TNK', 'TNK', 'TNK', 'TNK', 'TNK', 'Myeloisch', 'B', 'TNK', 'B', 'TNK', 'TNK', 'TNK', 'TNK', 'Myeloisch', 'Myeloisch', 'TNK', 'TNK', 'Myeloisch', 'B', 'Myeloisch', 'TNK', 'TNK', 'TNK', 'TNK', 'TNK', 'Myeloisch', 'TNK', 'TNK', 'TNK', 'TNK', 'TNK', 'Myeloisch', 'TNK', 'TNK', 'TNK', 'B', 'TNK', 'TNK', 'TNK', 'TNK', 'Myeloisch', 'TNK', 'Myeloisch', 'Myeloisch', 'B', 'TNK', 'TNK', 'B', 'TNK', 'B', 'TNK', 'TNK', 'B', 'TNK', 'TNK', 'Myeloisch', 'Myeloisch', 'TNK', 'TNK', 'TNK', 'TNK', 'Myeloisch', 'B', 'Myeloisch', 'Myeloisch', 'TNK', 'TNK', 'TNK', 'B', 'TNK', 'TNK', 'TNK', 'Myeloisch', 'Myeloisch', 'TNK', 'Myeloisch', 'TNK', 'TNK', 'TNK', 'TNK', 'TNK', 'B', 'TNK', 'TNK', 'TNK', 'B', 'TNK', 'TNK', 'TNK', 'TNK', 'Myeloisch', 'TNK', 'TNK', 'Myeloisch', 'TNK', 'TNK', 'B', 'TNK', 'TNK', 'Myeloisch', 'TNK', 'TNK', 'TNK', 'TNK', 'TNK', 'Myeloisch', 'Myeloisch', 'Myeloisch', 'TNK', 'TNK', 'B', 'TNK', 'TNK', 'Myeloisch', 'TNK', 'Myeloisch', 'TNK', 'TNK', 'TNK', 'TNK', 'TNK', 'TNK', 'B', 'TNK', 'B', 'TNK', 'TNK', 'B', 'TNK', 'TNK', 'B', 'TNK', 'TNK', 'TNK', 'Myeloisch', 'Myeloisch', 'Myeloisch', 'TNK', 'TNK', 'TNK', 'Myeloisch', 'TNK', 'TNK', 'TNK', 'B', 'B', 'B', 'TNK', 'TNK', 'B', 'B', 'B', 'Myeloisch', 'Myeloisch', 'Myeloisch', 'B', 'TNK', 'TNK', 'TNK', 'Myeloisch', 'TNK', 'Myeloisch', 'TNK', 'B', 'TNK', 'TNK', 'TNK', 'Myeloisch', 'TNK', 'TNK', 'Myeloisch', 'TNK', 'TNK', 'TNK', 'Myeloisch', 'TNK', 'TNK', 'TNK', 'TNK', 'TNK', 'B', 'B', 'TNK', 'B', 'TNK', 'Myeloisch', 'TNK', 'TNK', 'B', 'TNK', 'TNK', 'Myeloisch', 'TNK', 'TNK', 'TNK', 'TNK', 'TNK', 'Myeloisch', 'TNK', 'TNK', 'Myeloisch', 'Myeloisch', 'Myeloisch', 'TNK', 'B', 'TNK', 'Myeloisch', 'TNK', 'TNK', 'TNK', 'TNK', 'B', 'TNK', 'TNK', 'TNK', 'TNK', 'TNK', 'TNK', 'TNK', 'TNK', 'TNK', 'TNK', 'TNK', 'B', 'TNK', 'B', 'Myeloisch', 'Myeloisch', 'TNK', 'TNK', 'TNK', 'TNK', 'TNK', 'TNK', 'TNK', 'TNK', 'TNK', 'Myeloisch', 'TNK', 'TNK', 'B', 'TNK', 'Myeloisch', 'Others', 'Myeloisch', 'Myeloisch', 'TNK', 'Myeloisch', 'TNK', 'TNK', 'TNK', 'Myeloisch', 'TNK', 'TNK', 'TNK', 'TNK', 'B', 'TNK', 'Myeloisch', 'TNK', 'B', 'Myeloisch', 'TNK', 'B', 'TNK', 'TNK', 'B', 'Myeloisch', 'Myeloisch', 'B', 'B', 'TNK', 'TNK', 'TNK', 'Myeloisch', 'Myeloisch', 'Myeloisch', 'TNK', 'TNK', 'TNK', 'TNK', 'Myeloisch', 'TNK', 'TNK', 'TNK', 'TNK', 'TNK', 'Myeloisch', 'TNK', 'Myeloisch', 'TNK', 'B', 'Myeloisch', 'TNK', 'Myeloisch', 'TNK', 'Myeloisch', 'B', 'Myeloisch', 'TNK', 'Myeloisch', 'TNK', 'Myeloisch', 'Myeloisch', 'TNK', 'TNK', 'TNK', 'TNK', 'TNK', 'TNK', 'Myeloisch', 'TNK', 'TNK', 'TNK', 'TNK', 'Myeloisch', 'TNK', 'TNK', 'TNK', 'Myeloisch', 'Myeloisch', 'TNK', 'TNK', 'B', 'TNK', 'Myeloisch', 'TNK', 'B', 'TNK', 'TNK', 'B', 'TNK', 'B', 'Myeloisch', 'Myeloisch', 'TNK', 'TNK', 'Myeloisch', 'TNK', 'TNK', 'TNK', 'TNK', 'Myeloisch', 'TNK', 'TNK', 'Myeloisch', 'B', 'TNK', 'TNK', 'TNK', 'B', 'B', 'B', 'B', 'TNK', 'B', 'Myeloisch', 'B', 'TNK', 'Myeloisch', 'Myeloisch', 'Myeloisch', 'TNK', 'TNK', 'TNK', 'B', 'Myeloisch', 'B', 'TNK', 'Myeloisch', 'Myeloisch', 'B', 'B', 'B', 'TNK']\n"
          ]
        }
      ]
    },
    {
      "cell_type": "code",
      "source": [
        "#all set up - run local classifier\n",
        "hc.run_local_classifier('all')"
      ],
      "metadata": {
        "colab": {
          "base_uri": "https://localhost:8080/"
        },
        "id": "WZlrPIwMDbeb",
        "outputId": "a8e55228-76c2-490d-f574-333782237544"
      },
      "execution_count": 471,
      "outputs": [
        {
          "output_type": "stream",
          "name": "stdout",
          "text": [
            "network y_input before encoding: ['TNK', 'B', 'TNK', 'TNK', 'Myeloisch', 'TNK', 'TNK', 'TNK', 'TNK', 'TNK', 'B', 'TNK', 'TNK', 'Myeloisch', 'TNK', 'TNK', 'Myeloisch', 'TNK', 'B', 'B', 'B', 'TNK', 'Myeloisch', 'B', 'TNK', 'TNK', 'TNK', 'TNK', 'TNK', 'TNK', 'TNK', 'B', 'Myeloisch', 'TNK', 'Myeloisch', 'TNK', 'Myeloisch', 'TNK', 'TNK', 'Myeloisch', 'TNK', 'TNK', 'TNK', 'TNK', 'TNK', 'TNK', 'TNK', 'Myeloisch', 'TNK', 'TNK', 'TNK', 'TNK', 'TNK', 'TNK', 'TNK', 'B', 'Myeloisch', 'TNK', 'Myeloisch', 'TNK', 'TNK', 'TNK', 'Myeloisch', 'TNK', 'TNK', 'TNK', 'TNK', 'TNK', 'TNK', 'TNK', 'TNK', 'Myeloisch', 'TNK', 'Myeloisch', 'TNK', 'B', 'TNK', 'TNK', 'TNK', 'Myeloisch', 'Myeloisch', 'TNK', 'TNK', 'TNK', 'Myeloisch', 'B', 'TNK', 'TNK', 'B', 'B', 'TNK', 'Myeloisch', 'B', 'B', 'Myeloisch', 'Myeloisch', 'TNK', 'Myeloisch', 'Myeloisch', 'Myeloisch', 'Myeloisch', 'Myeloisch', 'TNK', 'TNK', 'Myeloisch', 'B', 'TNK', 'B', 'TNK', 'Myeloisch', 'Myeloisch', 'TNK', 'TNK', 'TNK', 'Myeloisch', 'TNK', 'TNK', 'B', 'TNK', 'TNK', 'TNK', 'Myeloisch', 'B', 'TNK', 'TNK', 'TNK', 'Myeloisch', 'B', 'Myeloisch', 'TNK', 'TNK', 'TNK', 'TNK', 'TNK', 'B', 'TNK', 'TNK', 'TNK', 'TNK', 'B', 'TNK', 'TNK', 'Myeloisch', 'B', 'TNK', 'TNK', 'B', 'TNK', 'Myeloisch', 'Myeloisch', 'TNK', 'TNK', 'TNK', 'TNK', 'Myeloisch', 'TNK', 'TNK', 'Myeloisch', 'TNK', 'Myeloisch', 'B', 'Myeloisch', 'B', 'Myeloisch', 'TNK', 'B', 'TNK', 'TNK', 'TNK', 'TNK', 'TNK', 'TNK', 'TNK', 'Myeloisch', 'TNK', 'Myeloisch', 'TNK', 'TNK', 'B', 'B', 'TNK', 'B', 'TNK', 'TNK', 'Myeloisch', 'Myeloisch', 'Myeloisch', 'TNK', 'Myeloisch', 'TNK', 'B', 'TNK', 'B', 'TNK', 'Myeloisch', 'TNK', 'TNK', 'Myeloisch', 'TNK', 'TNK', 'Myeloisch', 'TNK', 'TNK', 'TNK', 'TNK', 'TNK', 'TNK', 'TNK', 'TNK', 'Myeloisch', 'TNK', 'TNK', 'TNK', 'TNK', 'TNK', 'Myeloisch', 'Myeloisch', 'TNK', 'B', 'TNK', 'TNK', 'Myeloisch', 'TNK', 'TNK', 'TNK', 'TNK', 'TNK', 'TNK', 'TNK', 'TNK', 'TNK', 'B', 'TNK', 'TNK', 'Myeloisch', 'TNK', 'TNK', 'TNK', 'TNK', 'TNK', 'TNK', 'B', 'Myeloisch', 'TNK', 'Others', 'Myeloisch', 'TNK', 'Myeloisch', 'TNK', 'B', 'TNK', 'Myeloisch', 'TNK', 'B', 'Myeloisch', 'TNK', 'TNK', 'B', 'B', 'TNK', 'TNK', 'TNK', 'TNK', 'TNK', 'TNK', 'Myeloisch', 'Myeloisch', 'Myeloisch', 'TNK', 'Myeloisch', 'Others', 'TNK', 'B', 'TNK', 'TNK', 'B', 'TNK', 'Myeloisch', 'TNK', 'TNK', 'B', 'B', 'Myeloisch', 'Myeloisch', 'TNK', 'TNK', 'TNK', 'Myeloisch', 'B', 'TNK', 'Myeloisch', 'TNK', 'TNK', 'TNK', 'TNK', 'B', 'TNK', 'TNK', 'TNK', 'Myeloisch', 'Myeloisch', 'TNK', 'Myeloisch', 'B', 'TNK', 'TNK', 'TNK', 'TNK', 'TNK', 'TNK', 'TNK', 'Myeloisch', 'B', 'B', 'TNK', 'TNK', 'TNK', 'B', 'TNK', 'Myeloisch', 'TNK', 'Myeloisch', 'TNK', 'Myeloisch', 'Myeloisch', 'B', 'Myeloisch', 'TNK', 'TNK', 'Myeloisch', 'TNK', 'TNK', 'TNK', 'TNK', 'TNK', 'Myeloisch', 'Myeloisch', 'B', 'Myeloisch', 'TNK', 'TNK', 'Myeloisch', 'TNK', 'TNK', 'TNK', 'TNK', 'TNK', 'TNK', 'TNK', 'TNK', 'TNK', 'B', 'Myeloisch', 'TNK', 'Myeloisch', 'Myeloisch', 'TNK', 'TNK', 'TNK', 'TNK', 'TNK', 'B', 'TNK', 'Myeloisch', 'Myeloisch', 'TNK', 'B', 'Myeloisch', 'TNK', 'TNK', 'Myeloisch', 'TNK', 'TNK', 'TNK', 'Myeloisch', 'TNK', 'B', 'B', 'Myeloisch', 'TNK', 'TNK', 'Myeloisch', 'TNK', 'TNK', 'Myeloisch', 'B', 'TNK', 'Myeloisch', 'Myeloisch', 'B', 'TNK', 'TNK', 'TNK', 'TNK', 'TNK', 'TNK', 'TNK', 'Myeloisch', 'Myeloisch', 'TNK', 'TNK', 'TNK', 'B', 'Myeloisch', 'TNK', 'TNK', 'TNK', 'B', 'B', 'TNK', 'TNK', 'B', 'TNK', 'Myeloisch', 'TNK', 'TNK', 'TNK', 'TNK', 'TNK', 'B', 'Myeloisch', 'TNK', 'B', 'TNK', 'Myeloisch', 'Myeloisch', 'B', 'B', 'TNK', 'TNK', 'Myeloisch', 'Myeloisch', 'Myeloisch', 'TNK', 'TNK', 'TNK', 'TNK', 'Myeloisch', 'TNK', 'TNK', 'B', 'Myeloisch', 'TNK', 'Myeloisch', 'TNK', 'TNK', 'TNK', 'TNK', 'TNK', 'TNK', 'TNK', 'TNK', 'TNK', 'TNK', 'B', 'Myeloisch', 'TNK', 'TNK', 'TNK', 'Myeloisch', 'TNK', 'TNK', 'TNK', 'TNK', 'TNK', 'TNK', 'TNK', 'Myeloisch', 'TNK', 'TNK', 'TNK', 'TNK', 'TNK', 'TNK', 'TNK', 'TNK', 'TNK', 'TNK', 'B', 'TNK', 'TNK', 'TNK', 'TNK', 'TNK', 'TNK', 'TNK', 'TNK', 'Myeloisch', 'B', 'Myeloisch', 'TNK', 'TNK', 'TNK', 'TNK', 'TNK', 'TNK', 'Myeloisch', 'TNK', 'TNK', 'TNK', 'TNK', 'TNK', 'Myeloisch', 'TNK', 'B', 'Myeloisch', 'TNK', 'Myeloisch', 'B', 'TNK', 'TNK', 'TNK', 'TNK', 'B', 'Myeloisch', 'Myeloisch', 'TNK', 'TNK', 'TNK', 'Myeloisch', 'B', 'TNK', 'TNK', 'TNK', 'TNK', 'B', 'TNK', 'TNK', 'TNK', 'TNK', 'TNK', 'Myeloisch', 'TNK', 'TNK', 'TNK', 'TNK', 'TNK', 'TNK', 'TNK', 'TNK', 'Myeloisch', 'TNK', 'TNK', 'TNK', 'Others', 'TNK', 'TNK', 'TNK', 'Myeloisch', 'TNK', 'Myeloisch', 'TNK', 'TNK', 'Myeloisch', 'TNK', 'TNK', 'TNK', 'TNK', 'TNK', 'Myeloisch', 'TNK', 'B', 'TNK', 'Myeloisch', 'TNK', 'TNK', 'TNK', 'TNK', 'TNK', 'B', 'TNK', 'TNK', 'B', 'TNK', 'TNK', 'Myeloisch', 'TNK', 'Myeloisch', 'Myeloisch', 'Myeloisch', 'Myeloisch', 'Myeloisch', 'TNK', 'Myeloisch', 'TNK', 'TNK', 'TNK', 'Myeloisch', 'Myeloisch', 'B', 'B', 'Myeloisch', 'Myeloisch', 'TNK', 'Myeloisch', 'TNK', 'TNK', 'B', 'TNK', 'TNK', 'Myeloisch', 'Myeloisch', 'TNK', 'TNK', 'TNK', 'Myeloisch', 'TNK', 'Myeloisch', 'TNK', 'TNK', 'TNK', 'TNK', 'TNK', 'TNK', 'TNK', 'TNK', 'Myeloisch', 'Myeloisch', 'TNK', 'TNK', 'TNK', 'Myeloisch', 'TNK', 'TNK', 'TNK', 'TNK', 'TNK', 'TNK', 'B', 'Others', 'TNK', 'B', 'TNK', 'TNK', 'Myeloisch', 'TNK', 'Myeloisch', 'B', 'B', 'B', 'B', 'TNK', 'Myeloisch', 'TNK', 'TNK', 'TNK', 'B', 'TNK', 'TNK', 'B', 'Myeloisch', 'TNK', 'B', 'TNK', 'TNK', 'TNK', 'Myeloisch', 'Myeloisch', 'Myeloisch', 'Myeloisch', 'TNK', 'B', 'TNK', 'Myeloisch', 'Myeloisch', 'Myeloisch', 'TNK', 'TNK', 'TNK', 'TNK', 'TNK', 'TNK', 'TNK', 'TNK', 'TNK', 'Myeloisch', 'TNK', 'TNK', 'TNK', 'B', 'B', 'B', 'Myeloisch', 'B', 'TNK', 'TNK', 'TNK', 'B', 'TNK', 'TNK', 'Myeloisch', 'TNK', 'TNK', 'TNK', 'TNK', 'Myeloisch', 'Myeloisch', 'B', 'TNK', 'B', 'TNK', 'Myeloisch', 'B', 'TNK', 'TNK', 'Myeloisch', 'Myeloisch', 'Myeloisch', 'TNK', 'B', 'TNK', 'TNK', 'TNK', 'B', 'TNK', 'Myeloisch', 'B', 'Myeloisch', 'TNK', 'TNK', 'TNK', 'TNK', 'Myeloisch', 'TNK', 'Myeloisch', 'TNK', 'TNK', 'Myeloisch', 'TNK', 'Myeloisch', 'TNK', 'TNK', 'Myeloisch', 'TNK', 'TNK', 'Myeloisch', 'TNK', 'TNK', 'Myeloisch', 'TNK', 'TNK', 'TNK', 'TNK', 'TNK', 'Others', 'Myeloisch', 'Myeloisch', 'TNK', 'Myeloisch', 'TNK', 'Myeloisch', 'TNK', 'TNK', 'TNK', 'TNK', 'TNK', 'TNK', 'TNK', 'TNK', 'TNK', 'Myeloisch', 'TNK', 'TNK', 'B', 'B', 'B', 'Myeloisch', 'TNK', 'TNK', 'TNK', 'TNK', 'TNK', 'TNK', 'Myeloisch', 'TNK', 'TNK', 'TNK', 'TNK', 'Myeloisch', 'TNK', 'B', 'TNK', 'TNK', 'Myeloisch', 'TNK', 'TNK', 'Myeloisch', 'TNK', 'TNK', 'Myeloisch', 'Myeloisch', 'TNK', 'TNK', 'TNK', 'Myeloisch', 'TNK', 'Myeloisch', 'TNK', 'Myeloisch', 'TNK', 'B', 'B', 'TNK', 'TNK', 'TNK', 'TNK', 'TNK', 'B', 'Myeloisch', 'B', 'Myeloisch', 'Myeloisch', 'Myeloisch', 'TNK', 'Myeloisch', 'TNK', 'TNK', 'TNK', 'Myeloisch', 'TNK', 'TNK', 'TNK', 'Myeloisch', 'TNK', 'TNK', 'TNK', 'TNK', 'TNK', 'TNK', 'TNK', 'TNK', 'TNK', 'Myeloisch', 'TNK', 'TNK', 'TNK', 'Myeloisch', 'TNK', 'TNK', 'TNK', 'TNK', 'Myeloisch', 'TNK', 'TNK', 'TNK', 'TNK', 'TNK', 'TNK', 'TNK', 'B', 'TNK', 'TNK', 'TNK', 'TNK', 'B', 'TNK', 'B', 'B', 'TNK', 'B', 'TNK', 'TNK', 'TNK', 'TNK', 'TNK', 'TNK', 'B', 'TNK', 'B', 'B', 'TNK', 'Myeloisch', 'TNK', 'TNK', 'TNK', 'TNK', 'B', 'TNK', 'TNK', 'TNK', 'TNK', 'TNK', 'TNK', 'TNK', 'TNK', 'TNK', 'B', 'TNK', 'TNK', 'Myeloisch', 'TNK', 'Myeloisch', 'TNK', 'Myeloisch', 'TNK', 'Myeloisch', 'TNK', 'TNK', 'Myeloisch', 'Myeloisch', 'TNK', 'TNK', 'Myeloisch', 'TNK', 'TNK', 'Myeloisch', 'TNK', 'TNK', 'Myeloisch', 'TNK', 'TNK', 'Myeloisch', 'Myeloisch', 'TNK', 'Myeloisch', 'TNK', 'TNK', 'TNK', 'TNK', 'B', 'B', 'TNK', 'TNK', 'TNK', 'TNK', 'TNK', 'B', 'B', 'TNK', 'TNK', 'B', 'TNK', 'TNK', 'B', 'TNK', 'Myeloisch', 'TNK', 'Myeloisch', 'TNK', 'Myeloisch', 'TNK', 'TNK', 'TNK', 'TNK', 'TNK', 'TNK', 'TNK', 'TNK', 'Myeloisch', 'B', 'TNK', 'TNK', 'Myeloisch', 'Myeloisch', 'TNK', 'Myeloisch', 'Myeloisch', 'Myeloisch', 'B', 'TNK', 'TNK', 'B', 'TNK', 'TNK', 'B', 'TNK', 'B', 'Myeloisch', 'TNK', 'TNK', 'TNK', 'TNK', 'Myeloisch', 'TNK', 'Myeloisch', 'TNK', 'TNK', 'TNK', 'TNK', 'Myeloisch', 'B', 'Myeloisch', 'TNK', 'TNK', 'Myeloisch', 'Myeloisch', 'TNK', 'TNK', 'B', 'TNK', 'TNK', 'TNK', 'TNK', 'Myeloisch', 'TNK', 'TNK', 'B', 'TNK', 'TNK', 'B', 'Myeloisch', 'Myeloisch', 'TNK', 'Myeloisch', 'Myeloisch', 'TNK', 'TNK', 'TNK', 'TNK', 'B', 'TNK', 'TNK', 'TNK', 'TNK', 'Myeloisch', 'TNK', 'TNK', 'TNK', 'TNK', 'TNK', 'Myeloisch', 'Myeloisch', 'TNK', 'Myeloisch', 'B', 'TNK', 'TNK', 'Myeloisch', 'TNK', 'TNK', 'Myeloisch', 'Myeloisch', 'TNK', 'TNK', 'B', 'B', 'Myeloisch', 'TNK', 'Myeloisch', 'B', 'TNK', 'TNK', 'TNK', 'TNK', 'TNK', 'B', 'Myeloisch', 'TNK', 'TNK', 'B', 'TNK', 'Myeloisch', 'Myeloisch', 'Myeloisch', 'B', 'TNK', 'Myeloisch', 'TNK', 'B', 'TNK', 'Myeloisch', 'Myeloisch', 'TNK', 'B', 'TNK', 'TNK', 'B', 'TNK', 'B', 'Myeloisch', 'TNK', 'TNK', 'TNK', 'Myeloisch', 'TNK', 'TNK', 'TNK', 'TNK', 'Myeloisch', 'TNK', 'B', 'Myeloisch', 'Myeloisch', 'TNK', 'TNK', 'B', 'TNK', 'Myeloisch', 'TNK', 'TNK', 'TNK', 'Myeloisch', 'TNK', 'TNK', 'TNK', 'TNK', 'B', 'B', 'TNK', 'TNK', 'TNK', 'TNK', 'Myeloisch', 'TNK', 'TNK', 'TNK', 'Myeloisch', 'TNK', 'TNK', 'TNK', 'B', 'Myeloisch', 'TNK', 'B', 'TNK', 'TNK', 'B', 'Myeloisch', 'Myeloisch', 'TNK', 'TNK', 'TNK', 'TNK', 'TNK', 'B', 'B', 'Myeloisch', 'TNK', 'TNK', 'B', 'Myeloisch', 'Myeloisch', 'TNK', 'TNK', 'TNK', 'TNK', 'TNK', 'TNK', 'TNK', 'TNK', 'TNK', 'Myeloisch', 'TNK', 'TNK', 'Myeloisch', 'TNK', 'TNK', 'TNK', 'TNK', 'TNK', 'TNK', 'Myeloisch', 'B', 'TNK', 'TNK', 'Myeloisch', 'TNK', 'Myeloisch', 'Myeloisch', 'B', 'TNK', 'TNK', 'Myeloisch', 'TNK', 'B', 'TNK', 'TNK', 'Myeloisch', 'TNK', 'TNK', 'TNK', 'TNK', 'Myeloisch', 'TNK', 'B', 'TNK', 'TNK', 'TNK', 'B', 'TNK', 'TNK', 'TNK', 'TNK', 'B', 'TNK', 'Myeloisch', 'TNK', 'TNK', 'TNK', 'TNK', 'TNK', 'TNK', 'Myeloisch', 'TNK', 'TNK', 'TNK', 'TNK', 'B', 'B', 'Myeloisch', 'Myeloisch', 'TNK', 'TNK', 'B', 'TNK', 'Myeloisch', 'Myeloisch', 'B', 'TNK', 'TNK', 'TNK', 'TNK', 'Myeloisch', 'TNK', 'TNK', 'TNK', 'Myeloisch', 'TNK', 'TNK', 'TNK', 'TNK', 'B', 'TNK', 'Myeloisch', 'TNK', 'TNK', 'Myeloisch', 'TNK', 'Myeloisch', 'TNK', 'TNK', 'TNK', 'TNK', 'Myeloisch', 'TNK', 'TNK', 'TNK', 'Myeloisch', 'TNK', 'Myeloisch', 'TNK', 'TNK', 'TNK', 'Myeloisch', 'TNK', 'TNK', 'TNK', 'TNK', 'TNK', 'TNK', 'TNK', 'TNK', 'TNK', 'Myeloisch', 'Myeloisch', 'TNK', 'Myeloisch', 'Myeloisch', 'TNK', 'TNK', 'TNK', 'TNK', 'TNK', 'TNK', 'TNK', 'Myeloisch', 'TNK', 'Myeloisch', 'Myeloisch', 'Myeloisch', 'Myeloisch', 'TNK', 'Myeloisch', 'TNK', 'TNK', 'Myeloisch', 'B', 'TNK', 'TNK', 'Myeloisch', 'TNK', 'TNK', 'TNK', 'TNK', 'Myeloisch', 'B', 'TNK', 'TNK', 'TNK', 'Myeloisch', 'TNK', 'TNK', 'TNK', 'TNK', 'Myeloisch', 'Myeloisch', 'Myeloisch', 'Myeloisch', 'TNK', 'B', 'Myeloisch', 'Myeloisch', 'TNK', 'TNK', 'TNK', 'TNK', 'TNK', 'B', 'B', 'TNK', 'TNK', 'TNK', 'TNK', 'Myeloisch', 'B', 'Myeloisch', 'TNK', 'Myeloisch', 'Myeloisch', 'Myeloisch', 'TNK', 'TNK', 'Myeloisch', 'Myeloisch', 'TNK', 'TNK', 'TNK', 'Myeloisch', 'TNK', 'TNK', 'B', 'TNK', 'TNK', 'TNK', 'Myeloisch', 'TNK', 'TNK', 'TNK', 'TNK', 'Myeloisch', 'TNK', 'TNK', 'Myeloisch', 'TNK', 'Myeloisch', 'TNK', 'TNK', 'TNK', 'TNK', 'TNK', 'Myeloisch', 'TNK', 'TNK', 'TNK', 'Myeloisch', 'TNK', 'Myeloisch', 'TNK', 'TNK', 'Myeloisch', 'TNK', 'TNK', 'TNK', 'TNK', 'TNK', 'Myeloisch', 'TNK', 'TNK', 'TNK', 'B', 'TNK', 'B', 'TNK', 'TNK', 'TNK', 'TNK', 'TNK', 'TNK', 'TNK', 'TNK', 'Myeloisch', 'TNK', 'TNK', 'TNK', 'TNK', 'TNK', 'TNK', 'TNK', 'TNK', 'TNK', 'TNK', 'TNK', 'TNK', 'TNK', 'TNK', 'TNK', 'B', 'Myeloisch', 'TNK', 'TNK', 'TNK', 'Myeloisch', 'TNK', 'TNK', 'TNK', 'Myeloisch', 'Myeloisch', 'TNK', 'TNK', 'B', 'TNK', 'TNK', 'TNK', 'B', 'TNK', 'Myeloisch', 'TNK', 'TNK', 'TNK', 'TNK', 'TNK', 'TNK', 'B', 'TNK', 'TNK', 'TNK', 'TNK', 'TNK', 'TNK', 'TNK', 'B', 'B', 'TNK', 'TNK', 'TNK', 'TNK', 'TNK', 'TNK', 'Myeloisch', 'TNK', 'TNK', 'TNK', 'TNK', 'TNK', 'TNK', 'TNK', 'TNK', 'TNK', 'TNK', 'TNK', 'TNK', 'TNK', 'TNK', 'TNK', 'TNK', 'Myeloisch', 'TNK', 'B', 'Myeloisch', 'Myeloisch', 'TNK', 'Myeloisch', 'B', 'TNK', 'Myeloisch', 'TNK', 'TNK', 'TNK', 'TNK', 'Myeloisch', 'TNK', 'TNK', 'TNK', 'TNK', 'TNK', 'Myeloisch', 'TNK', 'Myeloisch', 'Myeloisch', 'TNK', 'TNK', 'Myeloisch', 'TNK', 'TNK', 'Myeloisch', 'TNK', 'TNK', 'Myeloisch', 'B', 'B', 'TNK', 'Myeloisch', 'Myeloisch', 'TNK', 'TNK', 'Myeloisch', 'TNK', 'TNK', 'TNK', 'Myeloisch', 'B', 'TNK', 'TNK', 'TNK', 'TNK', 'B', 'TNK', 'TNK', 'TNK', 'B', 'Myeloisch', 'Myeloisch', 'Myeloisch', 'B', 'TNK', 'TNK', 'TNK', 'Myeloisch', 'TNK', 'TNK', 'B', 'TNK', 'Others', 'Myeloisch', 'Myeloisch', 'TNK', 'TNK', 'TNK', 'TNK', 'TNK', 'TNK', 'Myeloisch', 'B', 'B', 'TNK', 'TNK', 'TNK', 'Myeloisch', 'Myeloisch', 'TNK', 'TNK', 'B', 'B', 'Myeloisch', 'TNK', 'TNK', 'TNK', 'TNK', 'TNK', 'Myeloisch', 'TNK', 'Myeloisch', 'Myeloisch', 'B', 'TNK', 'B', 'TNK', 'TNK', 'TNK', 'TNK', 'TNK', 'TNK', 'TNK', 'Myeloisch', 'Myeloisch', 'TNK', 'Myeloisch', 'TNK', 'Myeloisch', 'Myeloisch', 'Myeloisch', 'TNK', 'TNK', 'TNK', 'B', 'TNK', 'TNK', 'B', 'B', 'TNK', 'B', 'TNK', 'B', 'TNK', 'TNK', 'Myeloisch', 'TNK', 'Myeloisch', 'Others', 'TNK', 'Myeloisch', 'Myeloisch', 'TNK', 'TNK', 'Myeloisch', 'Myeloisch', 'TNK', 'Myeloisch', 'TNK', 'TNK', 'TNK', 'TNK', 'TNK', 'TNK', 'TNK', 'Myeloisch', 'TNK', 'Myeloisch', 'TNK', 'TNK', 'TNK', 'Myeloisch', 'TNK', 'Myeloisch', 'TNK', 'B', 'B', 'Myeloisch', 'TNK', 'TNK', 'TNK', 'B', 'TNK', 'TNK', 'Myeloisch', 'Myeloisch', 'TNK', 'TNK', 'TNK', 'Myeloisch', 'TNK', 'TNK', 'TNK', 'Myeloisch', 'TNK', 'Myeloisch', 'TNK', 'B', 'B', 'B', 'B', 'TNK', 'TNK', 'B', 'Myeloisch', 'TNK', 'Myeloisch', 'Myeloisch', 'TNK', 'TNK', 'TNK', 'TNK', 'TNK', 'TNK', 'Myeloisch', 'TNK', 'TNK', 'TNK', 'TNK', 'Myeloisch', 'Myeloisch', 'Myeloisch', 'Myeloisch', 'Myeloisch', 'Myeloisch', 'TNK', 'TNK', 'Myeloisch', 'TNK', 'TNK', 'Myeloisch', 'TNK', 'B', 'TNK', 'B', 'Myeloisch', 'TNK', 'TNK', 'TNK', 'TNK', 'TNK', 'TNK', 'TNK', 'TNK', 'TNK', 'TNK', 'TNK', 'Myeloisch', 'TNK', 'TNK', 'TNK', 'TNK', 'TNK', 'TNK', 'TNK', 'TNK', 'TNK', 'TNK', 'Myeloisch', 'TNK', 'TNK', 'TNK', 'TNK', 'TNK', 'Myeloisch', 'TNK', 'TNK', 'Myeloisch', 'TNK', 'TNK', 'TNK', 'Myeloisch', 'Myeloisch', 'TNK', 'TNK', 'B', 'TNK', 'TNK', 'TNK', 'TNK', 'TNK', 'TNK', 'Myeloisch', 'TNK', 'TNK', 'TNK', 'B', 'TNK', 'Myeloisch', 'TNK', 'TNK', 'TNK', 'Myeloisch', 'TNK', 'Others', 'TNK', 'Myeloisch', 'TNK', 'B', 'TNK', 'Myeloisch', 'TNK', 'TNK', 'B', 'Myeloisch', 'Myeloisch', 'TNK', 'TNK', 'Myeloisch', 'TNK', 'B', 'Myeloisch', 'TNK', 'TNK', 'TNK', 'TNK', 'B', 'TNK', 'TNK', 'Myeloisch', 'TNK', 'TNK', 'TNK', 'TNK', 'TNK', 'B', 'TNK', 'TNK', 'TNK', 'TNK', 'Myeloisch', 'Myeloisch', 'Myeloisch', 'TNK', 'TNK', 'Myeloisch', 'TNK', 'Myeloisch', 'Others', 'TNK', 'Myeloisch', 'TNK', 'Myeloisch', 'B', 'Myeloisch', 'TNK', 'TNK', 'TNK', 'Myeloisch', 'TNK', 'TNK', 'B', 'Myeloisch', 'TNK', 'TNK', 'TNK', 'B', 'TNK', 'Myeloisch', 'Myeloisch', 'Myeloisch', 'TNK', 'Myeloisch', 'TNK', 'Myeloisch', 'TNK', 'TNK', 'Myeloisch', 'B', 'B', 'B', 'Myeloisch', 'TNK', 'TNK', 'Myeloisch', 'Myeloisch', 'Myeloisch', 'TNK', 'TNK', 'TNK', 'TNK', 'TNK', 'TNK', 'TNK', 'B', 'TNK', 'Myeloisch', 'TNK', 'TNK', 'TNK', 'Myeloisch', 'TNK', 'Myeloisch', 'TNK', 'B', 'TNK', 'B', 'TNK', 'TNK', 'Myeloisch', 'Others', 'TNK', 'TNK', 'TNK', 'Myeloisch', 'TNK', 'TNK', 'TNK', 'Myeloisch', 'TNK', 'TNK', 'TNK', 'Myeloisch', 'TNK', 'TNK', 'TNK', 'TNK', 'TNK', 'TNK', 'TNK', 'TNK', 'TNK', 'TNK', 'Myeloisch', 'TNK', 'TNK', 'TNK', 'Myeloisch', 'TNK', 'B', 'Myeloisch', 'Myeloisch', 'TNK', 'TNK', 'TNK', 'TNK', 'TNK', 'TNK', 'TNK', 'Myeloisch', 'TNK', 'B', 'B', 'TNK', 'Myeloisch', 'TNK', 'Myeloisch', 'TNK', 'TNK', 'TNK', 'TNK', 'Myeloisch', 'B', 'Myeloisch', 'B', 'TNK', 'TNK', 'TNK', 'B', 'TNK', 'Myeloisch', 'Myeloisch', 'TNK', 'B', 'TNK', 'TNK', 'TNK', 'TNK', 'Myeloisch', 'TNK', 'Myeloisch', 'TNK', 'Myeloisch', 'TNK', 'Myeloisch', 'B', 'TNK', 'Myeloisch', 'Myeloisch', 'B', 'Myeloisch', 'TNK', 'Myeloisch', 'TNK', 'Myeloisch', 'TNK', 'Myeloisch', 'TNK', 'TNK', 'Myeloisch', 'B', 'B', 'B', 'TNK', 'B', 'Myeloisch', 'Myeloisch', 'TNK', 'TNK', 'TNK', 'Myeloisch', 'TNK', 'TNK', 'TNK', 'Myeloisch', 'TNK', 'Myeloisch', 'B', 'Myeloisch', 'B', 'Myeloisch', 'TNK', 'TNK', 'TNK', 'Myeloisch', 'TNK', 'Myeloisch', 'Myeloisch', 'TNK', 'Myeloisch', 'TNK', 'TNK', 'TNK', 'TNK', 'TNK', 'TNK', 'TNK', 'TNK', 'Myeloisch', 'TNK', 'TNK', 'TNK', 'TNK', 'TNK', 'B', 'TNK', 'Others', 'TNK', 'TNK', 'TNK', 'TNK', 'TNK', 'TNK', 'TNK', 'Myeloisch', 'Myeloisch', 'TNK', 'B', 'TNK', 'Myeloisch', 'TNK', 'TNK', 'TNK', 'TNK', 'B', 'TNK', 'TNK', 'Myeloisch', 'Myeloisch', 'TNK', 'B', 'TNK', 'TNK', 'TNK', 'TNK', 'TNK', 'TNK', 'B', 'Myeloisch', 'B', 'Myeloisch', 'Myeloisch', 'TNK', 'B', 'TNK', 'Myeloisch', 'TNK', 'Myeloisch', 'TNK', 'B', 'TNK', 'TNK', 'TNK', 'Myeloisch', 'TNK', 'Myeloisch', 'Myeloisch', 'Myeloisch', 'TNK', 'TNK', 'TNK', 'TNK', 'Myeloisch', 'TNK', 'Myeloisch', 'TNK', 'TNK', 'B', 'TNK', 'TNK', 'B', 'Myeloisch', 'Myeloisch', 'Others', 'B', 'TNK', 'Myeloisch', 'TNK', 'TNK', 'TNK', 'TNK', 'Myeloisch', 'B', 'Myeloisch', 'Myeloisch', 'Myeloisch', 'B', 'Myeloisch', 'Myeloisch', 'TNK', 'TNK', 'Myeloisch', 'Myeloisch', 'TNK', 'TNK', 'TNK', 'TNK', 'Myeloisch', 'TNK', 'TNK', 'B', 'B', 'TNK', 'TNK', 'TNK', 'TNK', 'Myeloisch', 'TNK', 'Myeloisch', 'TNK', 'TNK', 'Myeloisch', 'TNK', 'TNK', 'TNK', 'TNK', 'TNK', 'TNK', 'TNK', 'B', 'TNK', 'TNK', 'Myeloisch', 'Myeloisch', 'Myeloisch', 'TNK', 'TNK', 'TNK', 'TNK', 'TNK', 'TNK', 'TNK', 'TNK', 'Myeloisch', 'TNK', 'TNK', 'B', 'B', 'Myeloisch', 'TNK', 'TNK', 'B', 'TNK', 'Myeloisch', 'B', 'TNK', 'Myeloisch', 'TNK', 'TNK', 'TNK', 'Myeloisch', 'Myeloisch', 'TNK', 'TNK', 'Myeloisch', 'B', 'TNK', 'Myeloisch', 'TNK', 'B', 'TNK', 'TNK', 'Myeloisch', 'B', 'TNK', 'B', 'TNK', 'TNK', 'Myeloisch', 'TNK', 'TNK', 'TNK', 'TNK', 'TNK', 'B', 'B', 'TNK', 'Myeloisch', 'TNK', 'TNK', 'TNK', 'TNK', 'TNK', 'TNK', 'Myeloisch', 'TNK', 'TNK', 'TNK', 'TNK', 'Myeloisch', 'B', 'TNK', 'TNK', 'TNK', 'B', 'TNK', 'B', 'B', 'Myeloisch', 'TNK', 'Myeloisch', 'TNK', 'TNK', 'B', 'TNK', 'B', 'TNK', 'TNK', 'TNK', 'Myeloisch', 'TNK', 'TNK', 'TNK', 'Myeloisch', 'B', 'TNK', 'TNK', 'TNK', 'TNK', 'Myeloisch', 'Myeloisch', 'TNK', 'TNK', 'TNK', 'TNK', 'Myeloisch', 'TNK', 'TNK', 'TNK', 'TNK', 'B', 'TNK', 'TNK', 'TNK', 'Myeloisch', 'TNK', 'Myeloisch', 'TNK', 'TNK', 'Myeloisch', 'TNK', 'TNK', 'TNK', 'TNK', 'Myeloisch', 'TNK', 'TNK', 'Myeloisch', 'B', 'TNK', 'B', 'Myeloisch', 'B', 'Myeloisch', 'TNK', 'TNK', 'TNK', 'TNK', 'TNK', 'Myeloisch', 'Myeloisch', 'TNK', 'Myeloisch', 'TNK', 'TNK', 'Myeloisch', 'TNK', 'TNK', 'TNK', 'Myeloisch', 'TNK', 'TNK', 'Myeloisch', 'TNK', 'TNK', 'TNK', 'B', 'TNK', 'B', 'TNK', 'Myeloisch', 'TNK', 'TNK', 'TNK', 'B', 'TNK', 'TNK', 'TNK', 'TNK', 'Myeloisch', 'TNK', 'TNK', 'TNK', 'TNK', 'TNK', 'TNK', 'TNK', 'TNK', 'Myeloisch', 'B', 'TNK', 'B', 'TNK', 'TNK', 'TNK', 'TNK', 'Myeloisch', 'Myeloisch', 'TNK', 'TNK', 'Myeloisch', 'B', 'Myeloisch', 'TNK', 'TNK', 'TNK', 'TNK', 'TNK', 'Myeloisch', 'TNK', 'TNK', 'TNK', 'TNK', 'TNK', 'Myeloisch', 'TNK', 'TNK', 'TNK', 'B', 'TNK', 'TNK', 'TNK', 'TNK', 'Myeloisch', 'TNK', 'Myeloisch', 'Myeloisch', 'B', 'TNK', 'TNK', 'B', 'TNK', 'B', 'TNK', 'TNK', 'B', 'TNK', 'TNK', 'Myeloisch', 'Myeloisch', 'TNK', 'TNK', 'TNK', 'TNK', 'Myeloisch', 'B', 'Myeloisch', 'Myeloisch', 'TNK', 'TNK', 'TNK', 'B', 'TNK', 'TNK', 'TNK', 'Myeloisch', 'Myeloisch', 'TNK', 'Myeloisch', 'TNK', 'TNK', 'TNK', 'TNK', 'TNK', 'B', 'TNK', 'TNK', 'TNK', 'B', 'TNK', 'TNK', 'TNK', 'TNK', 'Myeloisch', 'TNK', 'TNK', 'Myeloisch', 'TNK', 'TNK', 'B', 'TNK', 'TNK', 'Myeloisch', 'TNK', 'TNK', 'TNK', 'TNK', 'TNK', 'Myeloisch', 'Myeloisch', 'Myeloisch', 'TNK', 'TNK', 'B', 'TNK', 'TNK', 'Myeloisch', 'TNK', 'Myeloisch', 'TNK', 'TNK', 'TNK', 'TNK', 'TNK', 'TNK', 'B', 'TNK', 'B', 'TNK', 'TNK', 'B', 'TNK', 'TNK', 'B', 'TNK', 'TNK', 'TNK', 'Myeloisch', 'Myeloisch', 'Myeloisch', 'TNK', 'TNK', 'TNK', 'Myeloisch', 'TNK', 'TNK', 'TNK', 'B', 'B', 'B', 'TNK', 'TNK', 'B', 'B', 'B', 'Myeloisch', 'Myeloisch', 'Myeloisch', 'B', 'TNK', 'TNK', 'TNK', 'Myeloisch', 'TNK', 'Myeloisch', 'TNK', 'B', 'TNK', 'TNK', 'TNK', 'Myeloisch', 'TNK', 'TNK', 'Myeloisch', 'TNK', 'TNK', 'TNK', 'Myeloisch', 'TNK', 'TNK', 'TNK', 'TNK', 'TNK', 'B', 'B', 'TNK', 'B', 'TNK', 'Myeloisch', 'TNK', 'TNK', 'B', 'TNK', 'TNK', 'Myeloisch', 'TNK', 'TNK', 'TNK', 'TNK', 'TNK', 'Myeloisch', 'TNK', 'TNK', 'Myeloisch', 'Myeloisch', 'Myeloisch', 'TNK', 'B', 'TNK', 'Myeloisch', 'TNK', 'TNK', 'TNK', 'TNK', 'B', 'TNK', 'TNK', 'TNK', 'TNK', 'TNK', 'TNK', 'TNK', 'TNK', 'TNK', 'TNK', 'TNK', 'B', 'TNK', 'B', 'Myeloisch', 'Myeloisch', 'TNK', 'TNK', 'TNK', 'TNK', 'TNK', 'TNK', 'TNK', 'TNK', 'TNK', 'Myeloisch', 'TNK', 'TNK', 'B', 'TNK', 'Myeloisch', 'Others', 'Myeloisch', 'Myeloisch', 'TNK', 'Myeloisch', 'TNK', 'TNK', 'TNK', 'Myeloisch', 'TNK', 'TNK', 'TNK', 'TNK', 'B', 'TNK', 'Myeloisch', 'TNK', 'B', 'Myeloisch', 'TNK', 'B', 'TNK', 'TNK', 'B', 'Myeloisch', 'Myeloisch', 'B', 'B', 'TNK', 'TNK', 'TNK', 'Myeloisch', 'Myeloisch', 'Myeloisch', 'TNK', 'TNK', 'TNK', 'TNK', 'Myeloisch', 'TNK', 'TNK', 'TNK', 'TNK', 'TNK', 'Myeloisch', 'TNK', 'Myeloisch', 'TNK', 'B', 'Myeloisch', 'TNK', 'Myeloisch', 'TNK', 'Myeloisch', 'B', 'Myeloisch', 'TNK', 'Myeloisch', 'TNK', 'Myeloisch', 'Myeloisch', 'TNK', 'TNK', 'TNK', 'TNK', 'TNK', 'TNK', 'Myeloisch', 'TNK', 'TNK', 'TNK', 'TNK', 'Myeloisch', 'TNK', 'TNK', 'TNK', 'Myeloisch', 'Myeloisch', 'TNK', 'TNK', 'B', 'TNK', 'Myeloisch', 'TNK', 'B', 'TNK', 'TNK', 'B', 'TNK', 'B', 'Myeloisch', 'Myeloisch', 'TNK', 'TNK', 'Myeloisch', 'TNK', 'TNK', 'TNK', 'TNK', 'Myeloisch', 'TNK', 'TNK', 'Myeloisch', 'B', 'TNK', 'TNK', 'TNK', 'B', 'B', 'B', 'B', 'TNK', 'B', 'Myeloisch', 'B', 'TNK', 'Myeloisch', 'Myeloisch', 'Myeloisch', 'TNK', 'TNK', 'TNK', 'B', 'Myeloisch', 'B', 'TNK', 'Myeloisch', 'Myeloisch', 'B', 'B', 'B', 'TNK']\n",
            "Epoch 1/50\n",
            "25/25 [==============================] - 1s 8ms/step - loss: 1.6209 - val_loss: 1.4735\n",
            "Epoch 2/50\n",
            "25/25 [==============================] - 0s 3ms/step - loss: 1.2979 - val_loss: 1.1757\n",
            "Epoch 3/50\n",
            "25/25 [==============================] - 0s 3ms/step - loss: 1.0508 - val_loss: 0.9854\n",
            "Epoch 4/50\n",
            "25/25 [==============================] - 0s 2ms/step - loss: 0.8945 - val_loss: 0.8702\n",
            "Epoch 5/50\n",
            "25/25 [==============================] - 0s 2ms/step - loss: 0.7954 - val_loss: 0.7932\n",
            "Epoch 6/50\n",
            "25/25 [==============================] - 0s 2ms/step - loss: 0.7263 - val_loss: 0.7369\n",
            "Epoch 7/50\n",
            "25/25 [==============================] - 0s 3ms/step - loss: 0.6741 - val_loss: 0.6939\n",
            "Epoch 8/50\n",
            "25/25 [==============================] - 0s 3ms/step - loss: 0.6321 - val_loss: 0.6582\n",
            "Epoch 9/50\n",
            "25/25 [==============================] - 0s 2ms/step - loss: 0.5970 - val_loss: 0.6275\n",
            "Epoch 10/50\n",
            "25/25 [==============================] - 0s 3ms/step - loss: 0.5666 - val_loss: 0.5998\n",
            "Epoch 11/50\n",
            "25/25 [==============================] - 0s 3ms/step - loss: 0.5391 - val_loss: 0.5772\n",
            "Epoch 12/50\n",
            "25/25 [==============================] - 0s 2ms/step - loss: 0.5152 - val_loss: 0.5552\n",
            "Epoch 13/50\n",
            "25/25 [==============================] - 0s 2ms/step - loss: 0.4931 - val_loss: 0.5357\n",
            "Epoch 14/50\n",
            "25/25 [==============================] - 0s 3ms/step - loss: 0.4731 - val_loss: 0.5175\n",
            "Epoch 15/50\n",
            "25/25 [==============================] - 0s 3ms/step - loss: 0.4548 - val_loss: 0.5008\n",
            "Epoch 16/50\n",
            "25/25 [==============================] - 0s 2ms/step - loss: 0.4378 - val_loss: 0.4855\n",
            "Epoch 17/50\n",
            "25/25 [==============================] - 0s 3ms/step - loss: 0.4222 - val_loss: 0.4712\n",
            "Epoch 18/50\n",
            "25/25 [==============================] - 0s 3ms/step - loss: 0.4075 - val_loss: 0.4582\n",
            "Epoch 19/50\n",
            "25/25 [==============================] - 0s 2ms/step - loss: 0.3940 - val_loss: 0.4453\n",
            "Epoch 20/50\n",
            "25/25 [==============================] - 0s 3ms/step - loss: 0.3813 - val_loss: 0.4339\n",
            "Epoch 21/50\n",
            "25/25 [==============================] - 0s 3ms/step - loss: 0.3697 - val_loss: 0.4227\n",
            "Epoch 22/50\n",
            "25/25 [==============================] - 0s 3ms/step - loss: 0.3586 - val_loss: 0.4132\n",
            "Epoch 23/50\n",
            "25/25 [==============================] - 0s 3ms/step - loss: 0.3484 - val_loss: 0.4038\n",
            "Epoch 24/50\n",
            "25/25 [==============================] - 0s 2ms/step - loss: 0.3390 - val_loss: 0.3948\n",
            "Epoch 25/50\n",
            "25/25 [==============================] - 0s 14ms/step - loss: 0.3300 - val_loss: 0.3862\n",
            "Epoch 26/50\n",
            "25/25 [==============================] - 0s 2ms/step - loss: 0.3218 - val_loss: 0.3785\n",
            "Epoch 27/50\n",
            "25/25 [==============================] - 0s 2ms/step - loss: 0.3140 - val_loss: 0.3712\n",
            "Epoch 28/50\n",
            "25/25 [==============================] - 0s 2ms/step - loss: 0.3067 - val_loss: 0.3647\n",
            "Epoch 29/50\n",
            "25/25 [==============================] - 0s 2ms/step - loss: 0.3000 - val_loss: 0.3577\n",
            "Epoch 30/50\n",
            "25/25 [==============================] - 0s 2ms/step - loss: 0.2933 - val_loss: 0.3518\n",
            "Epoch 31/50\n",
            "25/25 [==============================] - 0s 3ms/step - loss: 0.2872 - val_loss: 0.3460\n",
            "Epoch 32/50\n",
            "25/25 [==============================] - 0s 2ms/step - loss: 0.2815 - val_loss: 0.3404\n",
            "Epoch 33/50\n",
            "25/25 [==============================] - 0s 2ms/step - loss: 0.2759 - val_loss: 0.3349\n",
            "Epoch 34/50\n",
            "25/25 [==============================] - 0s 2ms/step - loss: 0.2707 - val_loss: 0.3300\n",
            "Epoch 35/50\n",
            "25/25 [==============================] - 0s 2ms/step - loss: 0.2658 - val_loss: 0.3249\n",
            "Epoch 36/50\n",
            "25/25 [==============================] - 0s 3ms/step - loss: 0.2612 - val_loss: 0.3207\n",
            "Epoch 37/50\n",
            "25/25 [==============================] - 0s 2ms/step - loss: 0.2566 - val_loss: 0.3161\n",
            "Epoch 38/50\n",
            "25/25 [==============================] - 0s 3ms/step - loss: 0.2524 - val_loss: 0.3120\n",
            "Epoch 39/50\n",
            "25/25 [==============================] - 0s 3ms/step - loss: 0.2483 - val_loss: 0.3076\n",
            "Epoch 40/50\n",
            "25/25 [==============================] - 0s 2ms/step - loss: 0.2444 - val_loss: 0.3037\n",
            "Epoch 41/50\n",
            "25/25 [==============================] - 0s 3ms/step - loss: 0.2406 - val_loss: 0.3000\n",
            "Epoch 42/50\n",
            "25/25 [==============================] - 0s 2ms/step - loss: 0.2370 - val_loss: 0.2967\n",
            "Epoch 43/50\n",
            "25/25 [==============================] - 0s 3ms/step - loss: 0.2336 - val_loss: 0.2929\n",
            "Epoch 44/50\n",
            "25/25 [==============================] - 0s 2ms/step - loss: 0.2303 - val_loss: 0.2894\n",
            "Epoch 45/50\n",
            "25/25 [==============================] - 0s 2ms/step - loss: 0.2271 - val_loss: 0.2859\n",
            "Epoch 46/50\n",
            "25/25 [==============================] - 0s 2ms/step - loss: 0.2240 - val_loss: 0.2830\n",
            "Epoch 47/50\n",
            "25/25 [==============================] - 0s 3ms/step - loss: 0.2210 - val_loss: 0.2801\n",
            "Epoch 48/50\n",
            "25/25 [==============================] - 0s 2ms/step - loss: 0.2181 - val_loss: 0.2770\n",
            "Epoch 49/50\n",
            "25/25 [==============================] - 0s 2ms/step - loss: 0.2154 - val_loss: 0.2741\n",
            "Epoch 50/50\n",
            "25/25 [==============================] - 0s 2ms/step - loss: 0.2126 - val_loss: 0.2716\n"
          ]
        }
      ]
    },
    {
      "cell_type": "code",
      "source": [
        "#print first level classifier model accuracy\n",
        "print(hc.graph.nodes['all']['memory'].training_acc)\n",
        "\n",
        "print(hc.graph.nodes['all']['memory'].test_acc)"
      ],
      "metadata": {
        "colab": {
          "base_uri": "https://localhost:8080/"
        },
        "id": "6Q5Yy5KrNtTp",
        "outputId": "2add3c1e-f682-42f4-f933-f45092dc41a1"
      },
      "execution_count": 472,
      "outputs": [
        {
          "output_type": "stream",
          "name": "stdout",
          "text": [
            "0.9323094425483504\n",
            "0.9238636363636363\n"
          ]
        }
      ]
    },
    {
      "cell_type": "code",
      "source": [
        "hc.graph.nodes['all']['memory'].local_classifier.label_encoder.inverse_transform(hc.graph.nodes['all']['memory'].training_prediction_vec)"
      ],
      "metadata": {
        "colab": {
          "base_uri": "https://localhost:8080/"
        },
        "id": "zjVQ3DdXHD7q",
        "outputId": "309907b9-c669-43f9-9914-b9ce8fd19665"
      },
      "execution_count": 473,
      "outputs": [
        {
          "output_type": "execute_result",
          "data": {
            "text/plain": [
              "array(['TNK', 'B', 'TNK', ..., 'TNK', 'B', 'TNK'], dtype='<U9')"
            ]
          },
          "metadata": {},
          "execution_count": 473
        }
      ]
    },
    {
      "cell_type": "code",
      "source": [
        "#seperate output of first local classifier to local classifiers of child nodes\n",
        "hc.subset_pred_vec('all')"
      ],
      "metadata": {
        "id": "jtDy-HIaCB-S"
      },
      "execution_count": 475,
      "outputs": []
    },
    {
      "cell_type": "code",
      "source": [
        "hc.graph.nodes['TNK']['memory'].__dict__"
      ],
      "metadata": {
        "colab": {
          "base_uri": "https://localhost:8080/"
        },
        "id": "XsMW-iVFBr5G",
        "outputId": "4637b4a5-4d85-4201-dea4-24b0d7feed4f"
      },
      "execution_count": 476,
      "outputs": [
        {
          "output_type": "execute_result",
          "data": {
            "text/plain": [
              "{'apriori_y_input_data_indices': (array([], dtype=int64),),\n",
              " 'classifier_class': None,\n",
              " 'local_classifier_params': [],\n",
              " 'test_acc': None,\n",
              " 'test_prediction_vec': None,\n",
              " 'training_acc': None,\n",
              " 'training_prediction_vec': None,\n",
              " 'x_input_data': array([[-0.8241001 , -0.44704255, -0.4074863 , ...,  1.5713328 ,\n",
              "         -1.546495  , -1.4017861 ],\n",
              "        [-1.9270294 , -0.00890738,  0.97932434, ..., -0.6752965 ,\n",
              "          0.28452635, -0.03110772],\n",
              "        [-0.67081773, -0.9181075 , -0.8583566 , ...,  2.500195  ,\n",
              "         -0.4206484 ,  1.1639605 ],\n",
              "        ...,\n",
              "        [-1.5681272 ,  1.3090951 ,  0.6303377 , ..., -1.2559723 ,\n",
              "          0.4473528 ,  0.57438225],\n",
              "        [ 0.01072386,  1.6088051 ,  1.7508733 , ..., -0.53124595,\n",
              "          1.1915506 , -1.2604463 ],\n",
              "        [-0.73548514, -0.02796707, -0.24904236, ...,  0.5823264 ,\n",
              "         -0.28247118, -0.26726872]], dtype=float32),\n",
              " 'y_input_data': array(['CD8 T', 'CD4 T', 'CD4 T', ..., 'CD4 T', 'B', 'CD4 T'],\n",
              "       dtype=object),\n",
              " 'y_input_grouped_labels': None}"
            ]
          },
          "metadata": {},
          "execution_count": 476
        }
      ]
    },
    {
      "cell_type": "code",
      "source": [
        "#zeigt input vektor bevor falsche zellen herausgeworfen wurden --> falsch zugeordnete Zellen zu sehen (hier Monozyten)\n",
        "hc.graph.nodes['TNK']['memory'].y_input_data[0:100]"
      ],
      "metadata": {
        "colab": {
          "base_uri": "https://localhost:8080/"
        },
        "id": "OSgxang3TOnx",
        "outputId": "e20825e0-e094-4e89-d951-8fa1c3ec0a43"
      },
      "execution_count": 479,
      "outputs": [
        {
          "output_type": "execute_result",
          "data": {
            "text/plain": [
              "array(['CD8 T', 'CD4 T', 'CD4 T', 'CD4 T', 'CD8 T', 'CD8 T', 'CD4 T',\n",
              "       'CD4 T', 'CD8 T', 'CD4 T', 'CD4 T', 'CD4 T', 'CD4 T', 'CD4 T',\n",
              "       'NK', 'CD4 T', 'CD4 T', 'NK', 'CD8 T', 'CD4 T', 'NK', 'CD4 T',\n",
              "       'CD8 T', 'CD8 T', 'CD4 T', 'CD4 T', 'CD4 T', 'CD4 T', 'CD4 T',\n",
              "       'CD4 T', 'NK', 'NK', 'NK', 'CD4 T', 'CD4 T', 'CD4 T', 'CD4 T',\n",
              "       'CD4 T', 'NK', 'CD4 T', 'NK', 'CD4 T', 'CD4 T', 'CD4 T', 'CD4 T',\n",
              "       'CD4 T', 'CD4 T', 'CD4 T', 'CD4 T', 'CD4 T', 'CD4 T', 'CD8 T',\n",
              "       'CD4 T', 'CD4 T', 'CD4 T', 'CD4 T', 'CD4 T', 'CD4 T', 'CD8 T',\n",
              "       'CD8 T', 'CD4 T', 'CD4 T', 'CD4 T', 'CD4 T', 'CD4 T', 'NK',\n",
              "       'CD4 T', 'CD8 T', 'CD8 T', 'CD4 T', 'CD4 T', 'CD4 T', 'CD4 T',\n",
              "       'CD4 T', 'CD4 T', 'CD8 T', 'CD4 T', 'CD4 T', 'CD4 T', 'CD4 T',\n",
              "       'CD8 T', 'CD8 T', 'CD4 T', 'CD8 T', 'CD4 T', 'CD4 T', 'CD4 T',\n",
              "       'CD4 T', 'CD4 T', 'CD8 T', 'CD4 T', 'CD4 T', 'CD8 T', 'CD4 T',\n",
              "       'CD4 T', 'CD4 T', 'CD4 T', 'CD4 T', 'CD4 T', 'CD4 T'], dtype=object)"
            ]
          },
          "metadata": {},
          "execution_count": 479
        }
      ]
    },
    {
      "cell_type": "code",
      "source": [
        "#nun einmal alles für den tnk node \n",
        "#NN classifier initialisieren, hier noch unnötige Übergabe von input Daten, die er schon hat -> anders lösen, anderen Default, oder anderes initialisieren\n",
        "hc.init_node_memory_object('TNK', [hc.graph.nodes['TNK']['memory'].x_input_data, hc.graph.nodes['TNK']['memory'].y_input_data, Neural_Network])"
      ],
      "metadata": {
        "colab": {
          "base_uri": "https://localhost:8080/"
        },
        "id": "oopqt6s5PnBt",
        "outputId": "6c2da2bb-49a3-4617-b9f3-4ba733e0a40f"
      },
      "execution_count": 480,
      "outputs": [
        {
          "output_type": "stream",
          "name": "stdout",
          "text": [
            "Aus init_node_memory_object von Knoten TNK: output größe initialisiert als 3\n",
            "zu übergebene y_input daten: ['CD8 T', 'CD4 T', 'CD4 T', 'CD4 T', 'CD8 T', 'CD8 T', 'CD4 T', 'CD4 T', 'CD8 T', 'CD4 T', 'CD4 T', 'CD4 T', 'CD4 T', 'CD4 T', 'NK', 'CD4 T', 'CD4 T', 'NK', 'CD8 T', 'CD4 T', 'NK', 'CD4 T', 'CD8 T', 'CD8 T', 'CD4 T', 'CD4 T', 'CD4 T', 'CD4 T', 'CD4 T', 'CD4 T', 'NK', 'NK', 'NK', 'CD4 T', 'CD4 T', 'CD4 T', 'CD4 T', 'CD4 T', 'NK', 'CD4 T', 'NK', 'CD4 T', 'CD4 T', 'CD4 T', 'CD4 T', 'CD4 T', 'CD4 T', 'CD4 T', 'CD4 T', 'CD4 T', 'CD4 T', 'CD8 T', 'CD4 T', 'CD4 T', 'CD4 T', 'CD4 T', 'CD4 T', 'CD4 T', 'CD8 T', 'CD8 T', 'CD4 T', 'CD4 T', 'CD4 T', 'CD4 T', 'CD4 T', 'NK', 'CD4 T', 'CD8 T', 'CD8 T', 'CD4 T', 'CD4 T', 'CD4 T', 'CD4 T', 'CD4 T', 'CD4 T', 'CD8 T', 'CD4 T', 'CD4 T', 'CD4 T', 'CD4 T', 'CD8 T', 'CD8 T', 'CD4 T', 'CD8 T', 'CD4 T', 'CD4 T', 'CD4 T', 'CD4 T', 'CD4 T', 'CD8 T', 'CD4 T', 'CD4 T', 'CD8 T', 'CD4 T', 'CD4 T', 'CD4 T', 'CD4 T', 'CD4 T', 'CD4 T', 'CD4 T', 'NK', 'CD4 T', 'NK', 'CD4 T', 'CD4 T', 'CD4 T', 'CD8 T', 'CD8 T', 'CD8 T', 'CD8 T', 'CD8 T', 'CD8 T', 'CD8 T', 'CD4 T', 'CD4 T', 'NK', 'CD4 T', 'CD8 T', 'CD4 T', 'CD8 T', 'CD8 T', 'CD8 T', 'CD4 T', 'CD4 T', 'CD4 T', 'CD4 T', 'CD4 T', 'CD4 T', 'CD4 T', 'CD4 T', 'CD4 T', 'CD8 T', 'CD4 T', 'CD4 T', 'CD4 T', 'NK', 'CD4 T', 'CD4 T', 'CD4 T', 'CD4 T', 'CD8 T', 'NK', 'CD4 T', 'CD4 T', 'CD4 T', 'CD4 T', 'CD4 T', 'CD4 T', 'NK', 'CD4 T', 'NK', 'CD4 T', 'CD4 T', 'CD4 T', 'CD8 T', 'CD4 T', 'NK', 'CD4 T', 'CD4 T', 'CD4 T', 'CD8 T', 'CD4 T', 'CD4 T', 'CD8 T', 'NK', 'CD4 T', 'CD4 T', 'NK', 'CD4 T', 'CD8 T', 'CD4 T', 'CD4 T', 'NK', 'CD4 T', 'CD4 T', 'CD4 T', 'CD4 T', 'CD8 T', 'CD4 T', 'CD8 T', 'CD4 T', 'CD4 T', 'CD4 T', 'CD4 T', 'CD4 T', 'CD4 T', 'NK', 'CD4 T', 'CD8 T', 'CD4 T', 'CD4 T', 'CD8 T', 'CD4 T', 'CD8 T', 'CD4 T', 'CD4 T', 'CD4 T', 'CD4 T', 'CD8 T', 'CD4 T', 'CD8 T', 'CD4 T', 'CD4 T', 'CD4 T', 'CD4 T', 'CD4 T', 'CD4 T', 'CD8 T', 'NK', 'CD8 T', 'CD8 T', 'CD4 T', 'CD4 T', 'NK', 'CD4 T', 'CD8 T', 'CD4 T', 'CD4 T', 'NK', 'CD4 T', 'CD4 T', 'CD4 T', 'CD4 T', 'CD4 T', 'CD8 T', 'CD8 T', 'CD4 T', 'CD4 T', 'CD4 T', 'CD4 T', 'CD8 T', 'CD4 T', 'NK', 'CD8 T', 'CD4 T', 'CD4 T', 'CD4 T', 'NK', 'CD4 T', 'CD4 T', 'CD4 T', 'CD8 T', 'CD4 T', 'CD8 T', 'NK', 'CD4 T', 'CD4 T', 'CD4 T', 'CD4 T', 'CD4 T', 'CD4 T', 'CD4 T', 'CD4 T', 'CD8 T', 'NK', 'CD4 T', 'CD8 T', 'CD4 T', 'CD4 T', 'CD4 T', 'CD4 T', 'CD4 T', 'NK', 'CD4 T', 'CD4 T', 'CD4 T', 'CD4 T', 'CD4 T', 'CD4 T', 'CD4 T', 'CD4 T', 'CD8 T', 'CD4 T', 'CD4 T', 'CD4 T', 'NK', 'CD4 T', 'CD4 T', 'CD4 T', 'CD4 T', 'CD4 T', 'CD8 T', 'CD4 T', 'CD8 T', 'CD4 T', 'CD4 T', 'CD4 T', 'CD4 T', 'CD4 T', 'CD4 T', 'CD8 T', 'CD4 T', 'CD4 T', 'CD4 T', 'CD4 T', 'CD4 T', 'CD8 T', 'CD8 T', 'CD4 T', 'CD4 T', 'CD4 T', 'CD8 T', 'CD8 T', 'NK', 'CD4 T', 'CD4 T', 'CD4 T', 'CD8 T', 'CD4 T', 'CD4 T', 'CD4 T', 'CD4 T', 'CD4 T', 'CD8 T', 'CD4 T', 'CD4 T', 'CD4 T', 'CD4 T', 'CD8 T', 'CD4 T', 'CD4 T', 'CD4 T', 'CD4 T', 'CD4 T', 'NK', 'CD4 T', 'CD8 T', 'NK', 'CD4 T', 'CD4 T', 'CD4 T', 'CD4 T', 'CD4 T', 'CD8 T', 'CD4 T', 'CD4 T', 'CD8 T', 'CD4 T', 'CD4 T', 'CD4 T', 'CD4 T', 'CD4 T', 'CD4 T', 'CD4 T', 'CD4 T', 'NK', 'CD4 T', 'CD4 T', 'CD4 T', 'CD4 T', 'CD4 T', 'CD4 T', 'CD4 T', 'CD4 T', 'CD8 T', 'CD4 T', 'CD4 T', 'CD4 T', 'CD4 T', 'CD4 T', 'CD4 T', 'CD4 T', 'CD8 T', 'CD4 T', 'CD4 T', 'CD4 T', 'CD4 T', 'CD4 T', 'CD4 T', 'CD4 T', 'CD4 T', 'CD4 T', 'NK', 'CD4 T', 'CD4 T', 'CD8 T', 'CD8 T', 'CD4 T', 'CD8 T', 'NK', 'CD4 T', 'NK', 'CD8 T', 'CD4 T', 'CD8 T', 'NK', 'CD8 T', 'CD4 T', 'CD4 T', 'CD4 T', 'CD4 T', 'CD4 T', 'CD4 T', 'CD4 T', 'CD8 T', 'CD4 T', 'CD4 T', 'CD4 T', 'CD4 T', 'CD4 T', 'CD8 T', 'CD8 T', 'CD4 T', 'CD8 T', 'CD4 T', 'CD4 T', 'CD4 T', 'CD4 T', 'CD4 T', 'CD4 T', 'CD4 T', 'CD4 T', 'CD4 T', 'CD4 T', 'CD4 T', 'CD4 T', 'CD4 T', 'CD4 T', 'CD4 T', 'CD8 T', 'CD4 T', 'CD4 T', 'CD4 T', 'CD4 T', 'CD4 T', 'CD8 T', 'CD4 T', 'CD4 T', 'CD8 T', 'CD4 T', 'CD4 T', 'CD4 T', 'CD8 T', 'CD8 T', 'CD4 T', 'NK', 'CD4 T', 'CD4 T', 'CD4 T', 'CD4 T', 'CD4 T', 'NK', 'CD4 T', 'CD8 T', 'CD4 T', 'CD4 T', 'CD4 T', 'CD4 T', 'CD4 T', 'CD4 T', 'CD4 T', 'NK', 'CD4 T', 'CD4 T', 'NK', 'CD4 T', 'CD4 T', 'CD4 T', 'CD4 T', 'CD4 T', 'CD4 T', 'CD8 T', 'CD8 T', 'CD4 T', 'CD4 T', 'CD4 T', 'CD4 T', 'CD4 T', 'CD4 T', 'CD8 T', 'CD8 T', 'CD4 T', 'NK', 'CD8 T', 'CD4 T', 'CD8 T', 'CD4 T', 'CD4 T', 'CD4 T', 'CD4 T', 'CD4 T', 'CD8 T', 'CD4 T', 'CD4 T', 'NK', 'CD4 T', 'CD4 T', 'CD4 T', 'CD4 T', 'CD4 T', 'CD4 T', 'CD4 T', 'CD4 T', 'CD8 T', 'NK', 'CD4 T', 'CD8 T', 'CD4 T', 'CD4 T', 'CD4 T', 'CD4 T', 'CD8 T', 'CD8 T', 'CD4 T', 'CD8 T', 'CD8 T', 'CD8 T', 'CD4 T', 'CD8 T', 'CD4 T', 'CD8 T', 'CD4 T', 'CD4 T', 'CD4 T', 'CD4 T', 'CD4 T', 'CD8 T', 'CD8 T', 'CD4 T', 'CD4 T', 'CD8 T', 'CD4 T', 'CD4 T', 'CD4 T', 'CD8 T', 'CD8 T', 'CD4 T', 'CD4 T', 'CD4 T', 'CD4 T', 'CD4 T', 'CD4 T', 'CD8 T', 'CD4 T', 'CD4 T', 'CD4 T', 'CD4 T', 'CD4 T', 'CD4 T', 'CD8 T', 'CD4 T', 'CD8 T', 'CD4 T', 'CD4 T', 'CD4 T', 'CD4 T', 'CD8 T', 'CD8 T', 'CD4 T', 'CD8 T', 'CD4 T', 'NK', 'CD4 T', 'CD4 T', 'NK', 'CD4 T', 'CD4 T', 'CD8 T', 'CD4 T', 'CD4 T', 'CD4 T', 'CD4 T', 'CD4 T', 'CD4 T', 'CD4 T', 'CD4 T', 'CD4 T', 'CD4 T', 'NK', 'CD4 T', 'CD4 T', 'CD4 T', 'CD4 T', 'CD4 T', 'NK', 'CD4 T', 'CD4 T', 'CD4 T', 'CD4 T', 'NK', 'CD4 T', 'CD4 T', 'CD4 T', 'NK', 'NK', 'CD4 T', 'CD8 T', 'CD8 T', 'CD4 T', 'CD4 T', 'CD4 T', 'CD4 T', 'CD4 T', 'CD4 T', 'NK', 'CD4 T', 'CD8 T', 'CD8 T', 'CD8 T', 'CD4 T', 'CD4 T', 'CD8 T', 'CD4 T', 'CD4 T', 'CD4 T', 'CD8 T', 'CD4 T', 'CD4 T', 'CD4 T', 'CD4 T', 'CD4 T', 'CD4 T', 'CD4 T', 'CD8 T', 'CD4 T', 'CD4 T', 'CD4 T', 'CD8 T', 'NK', 'CD4 T', 'CD4 T', 'CD4 T', 'CD4 T', 'CD4 T', 'CD4 T', 'CD4 T', 'CD8 T', 'CD4 T', 'NK', 'CD4 T', 'CD4 T', 'CD4 T', 'CD4 T', 'CD4 T', 'CD4 T', 'CD4 T', 'CD8 T', 'CD4 T', 'CD4 T', 'CD8 T', 'CD4 T', 'CD8 T', 'CD4 T', 'CD4 T', 'CD8 T', 'CD4 T', 'CD4 T', 'CD4 T', 'CD8 T', 'CD4 T', 'CD4 T', 'CD4 T', 'CD4 T', 'NK', 'CD4 T', 'NK', 'CD4 T', 'CD4 T', 'CD4 T', 'CD8 T', 'CD4 T', 'CD4 T', 'CD4 T', 'CD4 T', 'CD8 T', 'CD4 T', 'CD8 T', 'CD4 T', 'CD4 T', 'CD4 T', 'CD4 T', 'CD4 T', 'CD4 T', 'CD4 T', 'CD4 T', 'CD4 T', 'CD4 T', 'CD8 T', 'CD8 T', 'CD4 T', 'CD8 T', 'CD8 T', 'CD4 T', 'CD4 T', 'CD4 T', 'CD4 T', 'CD4 T', 'CD8 T', 'CD4 T', 'NK', 'CD8 T', 'NK', 'CD4 T', 'CD4 T', 'CD8 T', 'CD4 T', 'CD4 T', 'CD8 T', 'CD4 T', 'CD4 T', 'CD4 T', 'CD4 T', 'CD4 T', 'CD4 T', 'CD4 T', 'CD4 T', 'CD8 T', 'CD4 T', 'CD4 T', 'NK', 'CD4 T', 'CD4 T', 'CD4 T', 'CD4 T', 'CD4 T', 'CD4 T', 'CD4 T', 'CD4 T', 'CD4 T', 'CD4 T', 'CD4 T', 'CD4 T', 'CD4 T', 'CD4 T', 'CD8 T', 'CD4 T', 'CD8 T', 'CD4 T', 'CD4 T', 'CD4 T', 'CD4 T', 'CD8 T', 'CD8 T', 'CD4 T', 'NK', 'CD4 T', 'CD4 T', 'CD8 T', 'CD4 T', 'CD4 T', 'CD8 T', 'CD4 T', 'CD8 T', 'CD4 T', 'CD4 T', 'CD4 T', 'CD4 T', 'CD4 T', 'CD4 T', 'CD4 T', 'CD4 T', 'CD4 T', 'CD4 T', 'CD8 T', 'CD4 T', 'CD8 T', 'CD4 T', 'CD4 T', 'CD4 T', 'CD4 T', 'CD8 T', 'CD4 T', 'CD4 T', 'NK', 'CD4 T', 'CD8 T', 'CD4 T', 'CD4 T', 'CD4 T', 'CD4 T', 'CD4 T', 'CD8 T', 'CD8 T', 'CD4 T', 'CD4 T', 'CD4 T', 'CD8 T', 'CD4 T', 'CD4 T', 'CD4 T', 'NK', 'CD4 T', 'CD4 T', 'CD4 T', 'CD4 T', 'CD4 T', 'CD4 T', 'CD4 T', 'CD4 T', 'CD4 T', 'CD4 T', 'CD4 T', 'CD4 T', 'CD4 T', 'NK', 'CD4 T', 'CD4 T', 'CD4 T', 'CD4 T', 'CD4 T', 'CD4 T', 'CD4 T', 'CD4 T', 'CD4 T', 'CD4 T', 'NK', 'CD4 T', 'CD4 T', 'CD4 T', 'CD8 T', 'CD4 T', 'CD4 T', 'CD4 T', 'CD4 T', 'CD4 T', 'CD4 T', 'CD8 T', 'NK', 'CD4 T', 'CD4 T', 'CD4 T', 'CD8 T', 'CD4 T', 'CD4 T', 'CD8 T', 'CD4 T', 'CD4 T', 'CD4 T', 'NK', 'CD8 T', 'CD4 T', 'CD4 T', 'CD8 T', 'CD4 T', 'CD8 T', 'CD8 T', 'CD8 T', 'CD4 T', 'CD8 T', 'CD4 T', 'CD4 T', 'CD4 T', 'CD4 T', 'CD4 T', 'NK', 'CD8 T', 'CD4 T', 'CD4 T', 'CD4 T', 'CD4 T', 'CD4 T', 'CD4 T', 'CD4 T', 'CD4 T', 'CD4 T', 'CD4 T', 'CD4 T', 'NK', 'CD4 T', 'CD8 T', 'CD4 T', 'CD8 T', 'CD4 T', 'CD4 T', 'CD4 T', 'CD4 T', 'CD4 T', 'CD4 T', 'CD4 T', 'CD8 T', 'CD4 T', 'CD4 T', 'CD4 T', 'CD8 T', 'CD4 T', 'CD4 T', 'CD4 T', 'CD4 T', 'CD4 T', 'CD4 T', 'CD4 T', 'CD4 T', 'NK', 'CD4 T', 'CD4 T', 'NK', 'CD4 T', 'CD4 T', 'CD4 T', 'CD4 T', 'NK', 'CD4 T', 'CD8 T', 'CD4 T', 'CD8 T', 'CD4 T', 'CD4 T', 'CD4 T', 'CD4 T', 'CD4 T', 'CD4 T', 'CD8 T', 'NK', 'CD4 T', 'CD4 T', 'CD4 T', 'CD4 T', 'CD4 T', 'CD4 T', 'CD4 T', 'CD4 T', 'CD4 T', 'CD4 T', 'CD4 T', 'NK', 'CD4 T', 'CD4 T', 'CD4 T', 'CD4 T', 'CD4 T', 'CD4 T', 'CD4 T', 'CD4 T', 'CD4 T', 'CD4 T', 'CD4 T', 'CD4 T', 'CD4 T', 'CD4 T', 'CD8 T', 'CD4 T', 'CD4 T', 'NK', 'CD8 T', 'CD4 T', 'CD8 T', 'CD4 T', 'CD8 T', 'CD8 T', 'CD8 T', 'CD8 T', 'CD4 T', 'CD4 T', 'CD4 T', 'CD4 T', 'CD4 T', 'CD4 T', 'CD4 T', 'CD4 T', 'CD4 T', 'CD4 T', 'CD4 T', 'CD8 T', 'CD4 T', 'CD4 T', 'CD8 T', 'CD4 T', 'CD8 T', 'NK', 'CD4 T', 'CD4 T', 'CD4 T', 'CD4 T', 'CD4 T', 'CD4 T', 'CD4 T', 'CD4 T', 'CD8 T', 'CD4 T', 'CD8 T', 'NK', 'CD4 T', 'CD8 T', 'CD8 T', 'CD4 T', 'CD4 T', 'CD4 T', 'NK', 'CD4 T', 'CD4 T', 'CD4 T', 'CD4 T', 'CD4 T', 'CD4 T', 'CD4 T', 'CD4 T', 'CD4 T', 'NK', 'CD4 T', 'CD4 T', 'CD8 T', 'CD4 T', 'CD4 T', 'CD8 T', 'CD4 T', 'CD4 T', 'CD4 T', 'CD8 T', 'CD4 T', 'CD4 T', 'CD4 T', 'CD4 T', 'CD4 T', 'CD4 T', 'CD8 T', 'CD8 T', 'CD4 T', 'CD4 T', 'CD4 T', 'CD4 T', 'CD4 T', 'CD4 T', 'CD4 T', 'CD4 T', 'CD8 T', 'CD4 T', 'CD4 T', 'CD8 T', 'CD4 T', 'CD4 T', 'CD8 T', 'CD8 T', 'CD4 T', 'CD4 T', 'CD4 T', 'CD4 T', 'CD4 T', 'CD8 T', 'CD8 T', 'CD8 T', 'CD8 T', 'CD4 T', 'CD4 T', 'CD4 T', 'CD4 T', 'CD4 T', 'NK', 'CD4 T', 'CD8 T', 'CD8 T', 'CD4 T', 'CD4 T', 'CD4 T', 'CD4 T', 'CD4 T', 'CD4 T', 'CD4 T', 'CD4 T', 'CD4 T', 'CD4 T', 'CD4 T', 'CD4 T', 'CD4 T', 'CD4 T', 'CD4 T', 'CD4 T', 'CD4 T', 'CD4 T', 'CD4 T', 'CD4 T', 'CD8 T', 'CD4 T', 'CD8 T', 'CD4 T', 'CD4 T', 'CD4 T', 'CD8 T', 'CD4 T', 'CD8 T', 'CD4 T', 'CD4 T', 'CD4 T', 'CD4 T', 'CD8 T', 'CD4 T', 'CD8 T', 'CD4 T', 'CD4 T', 'CD4 T', 'CD4 T', 'CD8 T', 'CD4 T', 'CD4 T', 'CD8 T', 'CD8 T', 'CD4 T', 'CD4 T', 'CD4 T', 'CD4 T', 'CD4 T', 'CD4 T', 'CD4 T', 'CD4 T', 'CD4 T', 'CD8 T', 'CD4 T', 'CD8 T', 'CD4 T', 'CD4 T', 'CD4 T', 'NK', 'CD4 T', 'CD8 T', 'CD4 T', 'CD8 T', 'CD4 T', 'CD4 T', 'CD4 T', 'CD4 T', 'CD4 T', 'CD8 T', 'CD8 T', 'NK', 'CD4 T', 'CD4 T', 'CD4 T', 'CD8 T', 'CD4 T', 'CD8 T', 'CD4 T', 'CD4 T', 'CD4 T', 'CD8 T', 'CD4 T', 'NK', 'CD8 T', 'CD4 T', 'CD4 T', 'CD4 T', 'CD4 T', 'CD4 T', 'CD4 T', 'CD4 T', 'CD4 T', 'CD4 T', 'CD4 T', 'CD4 T', 'CD8 T', 'CD4 T', 'CD8 T', 'CD4 T', 'CD4 T', 'CD4 T', 'CD4 T', 'CD4 T', 'CD4 T', 'CD8 T', 'CD4 T', 'CD8 T', 'CD4 T', 'CD4 T', 'CD4 T', 'CD4 T', 'CD4 T', 'CD4 T', 'CD8 T', 'CD8 T', 'CD4 T', 'CD4 T', 'NK', 'CD4 T', 'CD4 T', 'CD8 T', 'CD8 T', 'CD4 T', 'NK', 'CD8 T', 'CD4 T', 'CD4 T', 'CD8 T', 'CD8 T', 'CD4 T', 'CD8 T', 'CD4 T', 'CD4 T', 'CD8 T', 'CD4 T', 'CD8 T', 'CD8 T', 'CD4 T', 'CD4 T', 'CD4 T', 'CD8 T', 'CD4 T', 'CD4 T', 'CD4 T', 'NK', 'CD4 T', 'CD4 T', 'CD4 T', 'CD4 T', 'CD8 T', 'CD4 T', 'CD8 T', 'CD4 T', 'CD4 T', 'CD4 T', 'NK', 'CD4 T', 'CD4 T', 'CD4 T', 'CD4 T', 'CD4 T', 'CD8 T', 'CD4 T', 'NK', 'CD8 T', 'CD4 T', 'CD4 T', 'CD4 T', 'CD8 T', 'CD4 T', 'CD8 T', 'NK', 'CD4 T', 'CD8 T', 'CD4 T', 'CD4 T', 'CD4 T', 'CD4 T', 'CD4 T', 'CD4 T', 'CD4 T', 'CD4 T', 'CD4 T', 'CD4 T', 'CD4 T', 'CD4 T', 'CD4 T', 'CD4 T', 'CD4 T', 'CD4 T', 'CD4 T', 'CD4 T', 'CD4 T', 'CD4 T', 'CD4 T', 'CD4 T', 'CD4 T', 'CD8 T', 'CD4 T', 'CD4 T', 'CD8 T', 'CD4 T', 'NK', 'NK', 'CD4 T', 'CD4 T', 'CD4 T', 'CD4 T', 'CD4 T', 'CD4 T', 'CD8 T', 'CD4 T', 'NK', 'CD8 T', 'CD4 T', 'CD4 T', 'CD4 T', 'CD4 T', 'CD4 T', 'CD4 T', 'CD4 T', 'CD4 T', 'CD4 T', 'CD4 T', 'CD4 T', 'CD4 T', 'CD8 T', 'CD8 T', 'CD4 T', 'CD8 T', 'CD4 T', 'CD4 T', 'CD4 T', 'CD4 T', 'CD8 T', 'CD4 T', 'NK', 'CD4 T', 'CD4 T', 'CD4 T', 'CD4 T', 'CD8 T', 'CD4 T', 'CD8 T', 'CD4 T', 'CD8 T', 'CD8 T', 'CD4 T', 'CD8 T', 'CD4 T', 'CD4 T', 'CD4 T', 'CD4 T', 'NK', 'CD4 T', 'CD4 T', 'CD4 T', 'CD4 T', 'CD4 T', 'CD4 T', 'CD8 T', 'CD4 T', 'CD8 T', 'NK', 'NK', 'NK', 'CD8 T', 'CD4 T', 'CD4 T', 'CD4 T', 'CD4 T', 'NK', 'CD8 T', 'NK', 'CD8 T', 'CD4 T', 'CD8 T', 'CD8 T', 'CD4 T', 'NK', 'CD4 T', 'CD4 T', 'CD4 T', 'CD4 T', 'CD8 T', 'CD4 T', 'CD4 T', 'CD8 T', 'CD8 T', 'NK', 'CD4 T', 'CD4 T', 'CD4 T', 'NK', 'CD8 T', 'NK', 'CD8 T', 'CD4 T', 'CD4 T', 'CD4 T', 'CD8 T', 'CD8 T', 'CD4 T', 'NK', 'CD8 T', 'CD4 T', 'CD4 T', 'CD4 T', 'CD4 T', 'NK', 'CD4 T', 'CD8 T', 'CD4 T', 'CD4 T', 'CD4 T', 'CD8 T', 'CD4 T', 'NK', 'CD4 T', 'CD4 T', 'CD4 T', 'CD8 T', 'CD4 T', 'CD4 T', 'CD4 T', 'CD8 T', 'CD8 T', 'NK', 'CD4 T', 'CD4 T', 'CD4 T', 'CD8 T', 'CD4 T', 'CD4 T', 'CD4 T', 'CD4 T', 'CD8 T', 'CD4 T', 'CD4 T', 'CD4 T', 'CD4 T', 'CD4 T', 'CD4 T', 'CD8 T', 'CD4 T', 'CD8 T', 'NK', 'NK', 'CD8 T', 'CD4 T', 'CD4 T', 'CD4 T', 'CD8 T', 'CD4 T', 'NK', 'CD8 T', 'CD4 T', 'CD4 T', 'CD4 T', 'CD8 T', 'CD4 T', 'CD4 T', 'CD8 T', 'CD4 T', 'CD4 T', 'CD4 T', 'CD4 T', 'CD4 T', 'CD4 T', 'CD4 T', 'CD4 T', 'CD4 T', 'CD8 T', 'CD8 T', 'NK', 'CD4 T', 'NK', 'CD4 T', 'CD4 T', 'CD4 T', 'CD4 T', 'CD4 T', 'CD4 T', 'CD4 T', 'CD8 T', 'CD4 T', 'NK', 'NK', 'CD4 T', 'CD4 T', 'CD4 T', 'CD4 T', 'CD4 T', 'CD4 T', 'CD4 T', 'CD4 T', 'CD4 T', 'CD4 T', 'NK', 'CD4 T', 'CD4 T', 'NK', 'CD8 T', 'CD4 T', 'CD8 T', 'CD4 T', 'CD4 T', 'NK', 'CD4 T', 'CD8 T', 'CD4 T', 'CD8 T', 'CD4 T', 'CD4 T', 'CD8 T', 'CD4 T', 'CD8 T', 'CD4 T', 'CD4 T', 'CD4 T', 'CD4 T', 'CD4 T', 'NK', 'CD4 T', 'CD4 T', 'CD4 T', 'CD4 T', 'CD4 T', 'NK', 'CD4 T', 'CD4 T', 'CD4 T', 'CD8 T', 'CD4 T', 'CD8 T', 'CD4 T', 'CD4 T', 'NK', 'CD4 T', 'CD8 T', 'NK', 'CD4 T', 'CD4 T', 'NK', 'CD8 T', 'CD8 T', 'NK', 'NK', 'CD8 T', 'CD8 T', 'CD4 T', 'CD8 T', 'CD8 T', 'CD4 T', 'CD4 T', 'CD4 T', 'CD4 T', 'CD4 T', 'CD4 T', 'CD4 T', 'CD4 T', 'CD4 T', 'CD4 T', 'CD4 T', 'CD8 T', 'CD4 T', 'CD4 T', 'CD4 T', 'CD4 T', 'CD8 T', 'CD4 T', 'CD4 T', 'CD4 T', 'CD4 T', 'CD4 T', 'NK', 'CD4 T', 'CD4 T', 'CD4 T', 'CD4 T', 'CD4 T', 'CD4 T', 'CD4 T', 'CD4 T', 'CD8 T', 'CD4 T', 'CD4 T', 'CD4 T', 'CD4 T', 'NK', 'CD4 T', 'CD4 T', 'CD8 T', 'CD8 T', 'CD4 T', 'CD4 T', 'CD4 T', 'CD4 T', 'CD4 T', 'CD4 T', 'NK', 'NK', 'CD4 T', 'CD4 T', 'CD4 T', 'CD8 T', 'CD4 T', 'CD8 T', 'NK', 'CD4 T', 'NK', 'CD8 T', 'CD4 T', 'NK', 'CD4 T', 'CD4 T', 'CD4 T', 'CD4 T', 'CD8 T', 'CD4 T', 'CD4 T']\n"
          ]
        }
      ]
    },
    {
      "cell_type": "code",
      "source": [
        "hc.run_local_classifier('TNK')"
      ],
      "metadata": {
        "colab": {
          "base_uri": "https://localhost:8080/"
        },
        "id": "Xm4AdFeBQTB2",
        "outputId": "289022b8-7f40-4072-ca2c-a71f15d693dd"
      },
      "execution_count": 481,
      "outputs": [
        {
          "output_type": "stream",
          "name": "stdout",
          "text": [
            "network y_input before encoding: ['CD8 T', 'CD4 T', 'CD4 T', 'CD4 T', 'CD8 T', 'CD8 T', 'CD4 T', 'CD4 T', 'CD8 T', 'CD4 T', 'CD4 T', 'CD4 T', 'CD4 T', 'CD4 T', 'NK', 'CD4 T', 'CD4 T', 'NK', 'CD8 T', 'CD4 T', 'NK', 'CD4 T', 'CD8 T', 'CD8 T', 'CD4 T', 'CD4 T', 'CD4 T', 'CD4 T', 'CD4 T', 'CD4 T', 'NK', 'NK', 'NK', 'CD4 T', 'CD4 T', 'CD4 T', 'CD4 T', 'CD4 T', 'NK', 'CD4 T', 'NK', 'CD4 T', 'CD4 T', 'CD4 T', 'CD4 T', 'CD4 T', 'CD4 T', 'CD4 T', 'CD4 T', 'CD4 T', 'CD4 T', 'CD8 T', 'CD4 T', 'CD4 T', 'CD4 T', 'CD4 T', 'CD4 T', 'CD4 T', 'CD8 T', 'CD8 T', 'CD4 T', 'CD4 T', 'CD4 T', 'CD4 T', 'CD4 T', 'NK', 'CD4 T', 'CD8 T', 'CD8 T', 'CD4 T', 'CD4 T', 'CD4 T', 'CD4 T', 'CD4 T', 'CD4 T', 'CD8 T', 'CD4 T', 'CD4 T', 'CD4 T', 'CD4 T', 'CD8 T', 'CD8 T', 'CD4 T', 'CD8 T', 'CD4 T', 'CD4 T', 'CD4 T', 'CD4 T', 'CD4 T', 'CD8 T', 'CD4 T', 'CD4 T', 'CD8 T', 'CD4 T', 'CD4 T', 'CD4 T', 'CD4 T', 'CD4 T', 'CD4 T', 'CD4 T', 'NK', 'CD4 T', 'NK', 'CD4 T', 'CD4 T', 'CD4 T', 'CD8 T', 'CD8 T', 'CD8 T', 'CD8 T', 'CD8 T', 'CD8 T', 'CD8 T', 'CD4 T', 'CD4 T', 'NK', 'CD4 T', 'CD8 T', 'CD4 T', 'CD8 T', 'CD8 T', 'CD8 T', 'CD4 T', 'CD4 T', 'CD4 T', 'CD4 T', 'CD4 T', 'CD4 T', 'CD4 T', 'CD4 T', 'CD4 T', 'CD8 T', 'CD4 T', 'CD4 T', 'CD4 T', 'NK', 'CD4 T', 'CD4 T', 'CD4 T', 'CD4 T', 'CD8 T', 'NK', 'CD4 T', 'CD4 T', 'CD4 T', 'CD4 T', 'CD4 T', 'CD4 T', 'NK', 'CD4 T', 'NK', 'CD4 T', 'CD4 T', 'CD4 T', 'CD8 T', 'CD4 T', 'NK', 'CD4 T', 'CD4 T', 'CD4 T', 'CD8 T', 'CD4 T', 'CD4 T', 'CD8 T', 'NK', 'CD4 T', 'CD4 T', 'NK', 'CD4 T', 'CD8 T', 'CD4 T', 'CD4 T', 'NK', 'CD4 T', 'CD4 T', 'CD4 T', 'CD4 T', 'CD8 T', 'CD4 T', 'CD8 T', 'CD4 T', 'CD4 T', 'CD4 T', 'CD4 T', 'CD4 T', 'CD4 T', 'NK', 'CD4 T', 'CD8 T', 'CD4 T', 'CD4 T', 'CD8 T', 'CD4 T', 'CD8 T', 'CD4 T', 'CD4 T', 'CD4 T', 'CD4 T', 'CD8 T', 'CD4 T', 'CD8 T', 'CD4 T', 'CD4 T', 'CD4 T', 'CD4 T', 'CD4 T', 'CD4 T', 'CD8 T', 'NK', 'CD8 T', 'CD8 T', 'CD4 T', 'CD4 T', 'NK', 'CD4 T', 'CD8 T', 'CD4 T', 'CD4 T', 'NK', 'CD4 T', 'CD4 T', 'CD4 T', 'CD4 T', 'CD4 T', 'CD8 T', 'CD8 T', 'CD4 T', 'CD4 T', 'CD4 T', 'CD4 T', 'CD8 T', 'CD4 T', 'NK', 'CD8 T', 'CD4 T', 'CD4 T', 'CD4 T', 'NK', 'CD4 T', 'CD4 T', 'CD4 T', 'CD8 T', 'CD4 T', 'CD8 T', 'NK', 'CD4 T', 'CD4 T', 'CD4 T', 'CD4 T', 'CD4 T', 'CD4 T', 'CD4 T', 'CD4 T', 'CD8 T', 'NK', 'CD4 T', 'CD8 T', 'CD4 T', 'CD4 T', 'CD4 T', 'CD4 T', 'CD4 T', 'NK', 'CD4 T', 'CD4 T', 'CD4 T', 'CD4 T', 'CD4 T', 'CD4 T', 'CD4 T', 'CD4 T', 'CD8 T', 'CD4 T', 'CD4 T', 'CD4 T', 'NK', 'CD4 T', 'CD4 T', 'CD4 T', 'CD4 T', 'CD4 T', 'CD8 T', 'CD4 T', 'CD8 T', 'CD4 T', 'CD4 T', 'CD4 T', 'CD4 T', 'CD4 T', 'CD4 T', 'CD8 T', 'CD4 T', 'CD4 T', 'CD4 T', 'CD4 T', 'CD4 T', 'CD8 T', 'CD8 T', 'CD4 T', 'CD4 T', 'CD4 T', 'CD8 T', 'CD8 T', 'NK', 'CD4 T', 'CD4 T', 'CD4 T', 'CD8 T', 'CD4 T', 'CD4 T', 'CD4 T', 'CD4 T', 'CD4 T', 'CD8 T', 'CD4 T', 'CD4 T', 'CD4 T', 'CD4 T', 'CD8 T', 'CD4 T', 'CD4 T', 'CD4 T', 'CD4 T', 'CD4 T', 'NK', 'CD4 T', 'CD8 T', 'NK', 'CD4 T', 'CD4 T', 'CD4 T', 'CD4 T', 'CD4 T', 'CD8 T', 'CD4 T', 'CD4 T', 'CD8 T', 'CD4 T', 'CD4 T', 'CD4 T', 'CD4 T', 'CD4 T', 'CD4 T', 'CD4 T', 'CD4 T', 'NK', 'CD4 T', 'CD4 T', 'CD4 T', 'CD4 T', 'CD4 T', 'CD4 T', 'CD4 T', 'CD4 T', 'CD8 T', 'CD4 T', 'CD4 T', 'CD4 T', 'CD4 T', 'CD4 T', 'CD4 T', 'CD4 T', 'CD8 T', 'CD4 T', 'CD4 T', 'CD4 T', 'CD4 T', 'CD4 T', 'CD4 T', 'CD4 T', 'CD4 T', 'CD4 T', 'NK', 'CD4 T', 'CD4 T', 'CD8 T', 'CD8 T', 'CD4 T', 'CD8 T', 'NK', 'CD4 T', 'NK', 'CD8 T', 'CD4 T', 'CD8 T', 'NK', 'CD8 T', 'CD4 T', 'CD4 T', 'CD4 T', 'CD4 T', 'CD4 T', 'CD4 T', 'CD4 T', 'CD8 T', 'CD4 T', 'CD4 T', 'CD4 T', 'CD4 T', 'CD4 T', 'CD8 T', 'CD8 T', 'CD4 T', 'CD8 T', 'CD4 T', 'CD4 T', 'CD4 T', 'CD4 T', 'CD4 T', 'CD4 T', 'CD4 T', 'CD4 T', 'CD4 T', 'CD4 T', 'CD4 T', 'CD4 T', 'CD4 T', 'CD4 T', 'CD4 T', 'CD8 T', 'CD4 T', 'CD4 T', 'CD4 T', 'CD4 T', 'CD4 T', 'CD8 T', 'CD4 T', 'CD4 T', 'CD8 T', 'CD4 T', 'CD4 T', 'CD4 T', 'CD8 T', 'CD8 T', 'CD4 T', 'NK', 'CD4 T', 'CD4 T', 'CD4 T', 'CD4 T', 'CD4 T', 'NK', 'CD4 T', 'CD8 T', 'CD4 T', 'CD4 T', 'CD4 T', 'CD4 T', 'CD4 T', 'CD4 T', 'CD4 T', 'NK', 'CD4 T', 'CD4 T', 'NK', 'CD4 T', 'CD4 T', 'CD4 T', 'CD4 T', 'CD4 T', 'CD4 T', 'CD8 T', 'CD8 T', 'CD4 T', 'CD4 T', 'CD4 T', 'CD4 T', 'CD4 T', 'CD4 T', 'CD8 T', 'CD8 T', 'CD4 T', 'NK', 'CD8 T', 'CD4 T', 'CD8 T', 'CD4 T', 'CD4 T', 'CD4 T', 'CD4 T', 'CD4 T', 'CD8 T', 'CD4 T', 'CD4 T', 'NK', 'CD4 T', 'CD4 T', 'CD4 T', 'CD4 T', 'CD4 T', 'CD4 T', 'CD4 T', 'CD4 T', 'CD8 T', 'NK', 'CD4 T', 'CD8 T', 'CD4 T', 'CD4 T', 'CD4 T', 'CD4 T', 'CD8 T', 'CD8 T', 'CD4 T', 'CD8 T', 'CD8 T', 'CD8 T', 'CD4 T', 'CD8 T', 'CD4 T', 'CD8 T', 'CD4 T', 'CD4 T', 'CD4 T', 'CD4 T', 'CD4 T', 'CD8 T', 'CD8 T', 'CD4 T', 'CD4 T', 'CD8 T', 'CD4 T', 'CD4 T', 'CD4 T', 'CD8 T', 'CD8 T', 'CD4 T', 'CD4 T', 'CD4 T', 'CD4 T', 'CD4 T', 'CD4 T', 'CD8 T', 'CD4 T', 'CD4 T', 'CD4 T', 'CD4 T', 'CD4 T', 'CD4 T', 'CD8 T', 'CD4 T', 'CD8 T', 'CD4 T', 'CD4 T', 'CD4 T', 'CD4 T', 'CD8 T', 'CD8 T', 'CD4 T', 'CD8 T', 'CD4 T', 'NK', 'CD4 T', 'CD4 T', 'NK', 'CD4 T', 'CD4 T', 'CD8 T', 'CD4 T', 'CD4 T', 'CD4 T', 'CD4 T', 'CD4 T', 'CD4 T', 'CD4 T', 'CD4 T', 'CD4 T', 'CD4 T', 'NK', 'CD4 T', 'CD4 T', 'CD4 T', 'CD4 T', 'CD4 T', 'NK', 'CD4 T', 'CD4 T', 'CD4 T', 'CD4 T', 'NK', 'CD4 T', 'CD4 T', 'CD4 T', 'NK', 'NK', 'CD4 T', 'CD8 T', 'CD8 T', 'CD4 T', 'CD4 T', 'CD4 T', 'CD4 T', 'CD4 T', 'CD4 T', 'NK', 'CD4 T', 'CD8 T', 'CD8 T', 'CD8 T', 'CD4 T', 'CD4 T', 'CD8 T', 'CD4 T', 'CD4 T', 'CD4 T', 'CD8 T', 'CD4 T', 'CD4 T', 'CD4 T', 'CD4 T', 'CD4 T', 'CD4 T', 'CD4 T', 'CD8 T', 'CD4 T', 'CD4 T', 'CD4 T', 'CD8 T', 'NK', 'CD4 T', 'CD4 T', 'CD4 T', 'CD4 T', 'CD4 T', 'CD4 T', 'CD4 T', 'CD8 T', 'CD4 T', 'NK', 'CD4 T', 'CD4 T', 'CD4 T', 'CD4 T', 'CD4 T', 'CD4 T', 'CD4 T', 'CD8 T', 'CD4 T', 'CD4 T', 'CD8 T', 'CD4 T', 'CD8 T', 'CD4 T', 'CD4 T', 'CD8 T', 'CD4 T', 'CD4 T', 'CD4 T', 'CD8 T', 'CD4 T', 'CD4 T', 'CD4 T', 'CD4 T', 'NK', 'CD4 T', 'NK', 'CD4 T', 'CD4 T', 'CD4 T', 'CD8 T', 'CD4 T', 'CD4 T', 'CD4 T', 'CD4 T', 'CD8 T', 'CD4 T', 'CD8 T', 'CD4 T', 'CD4 T', 'CD4 T', 'CD4 T', 'CD4 T', 'CD4 T', 'CD4 T', 'CD4 T', 'CD4 T', 'CD4 T', 'CD8 T', 'CD8 T', 'CD4 T', 'CD8 T', 'CD8 T', 'CD4 T', 'CD4 T', 'CD4 T', 'CD4 T', 'CD4 T', 'CD8 T', 'CD4 T', 'NK', 'CD8 T', 'NK', 'CD4 T', 'CD4 T', 'CD8 T', 'CD4 T', 'CD4 T', 'CD8 T', 'CD4 T', 'CD4 T', 'CD4 T', 'CD4 T', 'CD4 T', 'CD4 T', 'CD4 T', 'CD4 T', 'CD8 T', 'CD4 T', 'CD4 T', 'NK', 'CD4 T', 'CD4 T', 'CD4 T', 'CD4 T', 'CD4 T', 'CD4 T', 'CD4 T', 'CD4 T', 'CD4 T', 'CD4 T', 'CD4 T', 'CD4 T', 'CD4 T', 'CD4 T', 'CD8 T', 'CD4 T', 'CD8 T', 'CD4 T', 'CD4 T', 'CD4 T', 'CD4 T', 'CD8 T', 'CD8 T', 'CD4 T', 'NK', 'CD4 T', 'CD4 T', 'CD8 T', 'CD4 T', 'CD4 T', 'CD8 T', 'CD4 T', 'CD8 T', 'CD4 T', 'CD4 T', 'CD4 T', 'CD4 T', 'CD4 T', 'CD4 T', 'CD4 T', 'CD4 T', 'CD4 T', 'CD4 T', 'CD8 T', 'CD4 T', 'CD8 T', 'CD4 T', 'CD4 T', 'CD4 T', 'CD4 T', 'CD8 T', 'CD4 T', 'CD4 T', 'NK', 'CD4 T', 'CD8 T', 'CD4 T', 'CD4 T', 'CD4 T', 'CD4 T', 'CD4 T', 'CD8 T', 'CD8 T', 'CD4 T', 'CD4 T', 'CD4 T', 'CD8 T', 'CD4 T', 'CD4 T', 'CD4 T', 'NK', 'CD4 T', 'CD4 T', 'CD4 T', 'CD4 T', 'CD4 T', 'CD4 T', 'CD4 T', 'CD4 T', 'CD4 T', 'CD4 T', 'CD4 T', 'CD4 T', 'CD4 T', 'NK', 'CD4 T', 'CD4 T', 'CD4 T', 'CD4 T', 'CD4 T', 'CD4 T', 'CD4 T', 'CD4 T', 'CD4 T', 'CD4 T', 'NK', 'CD4 T', 'CD4 T', 'CD4 T', 'CD8 T', 'CD4 T', 'CD4 T', 'CD4 T', 'CD4 T', 'CD4 T', 'CD4 T', 'CD8 T', 'NK', 'CD4 T', 'CD4 T', 'CD4 T', 'CD8 T', 'CD4 T', 'CD4 T', 'CD8 T', 'CD4 T', 'CD4 T', 'CD4 T', 'NK', 'CD8 T', 'CD4 T', 'CD4 T', 'CD8 T', 'CD4 T', 'CD8 T', 'CD8 T', 'CD8 T', 'CD4 T', 'CD8 T', 'CD4 T', 'CD4 T', 'CD4 T', 'CD4 T', 'CD4 T', 'NK', 'CD8 T', 'CD4 T', 'CD4 T', 'CD4 T', 'CD4 T', 'CD4 T', 'CD4 T', 'CD4 T', 'CD4 T', 'CD4 T', 'CD4 T', 'CD4 T', 'NK', 'CD4 T', 'CD8 T', 'CD4 T', 'CD8 T', 'CD4 T', 'CD4 T', 'CD4 T', 'CD4 T', 'CD4 T', 'CD4 T', 'CD4 T', 'CD8 T', 'CD4 T', 'CD4 T', 'CD4 T', 'CD8 T', 'CD4 T', 'CD4 T', 'CD4 T', 'CD4 T', 'CD4 T', 'CD4 T', 'CD4 T', 'CD4 T', 'NK', 'CD4 T', 'CD4 T', 'NK', 'CD4 T', 'CD4 T', 'CD4 T', 'CD4 T', 'NK', 'CD4 T', 'CD8 T', 'CD4 T', 'CD8 T', 'CD4 T', 'CD4 T', 'CD4 T', 'CD4 T', 'CD4 T', 'CD4 T', 'CD8 T', 'NK', 'CD4 T', 'CD4 T', 'CD4 T', 'CD4 T', 'CD4 T', 'CD4 T', 'CD4 T', 'CD4 T', 'CD4 T', 'CD4 T', 'CD4 T', 'NK', 'CD4 T', 'CD4 T', 'CD4 T', 'CD4 T', 'CD4 T', 'CD4 T', 'CD4 T', 'CD4 T', 'CD4 T', 'CD4 T', 'CD4 T', 'CD4 T', 'CD4 T', 'CD4 T', 'CD8 T', 'CD4 T', 'CD4 T', 'NK', 'CD8 T', 'CD4 T', 'CD8 T', 'CD4 T', 'CD8 T', 'CD8 T', 'CD8 T', 'CD8 T', 'CD4 T', 'CD4 T', 'CD4 T', 'CD4 T', 'CD4 T', 'CD4 T', 'CD4 T', 'CD4 T', 'CD4 T', 'CD4 T', 'CD4 T', 'CD8 T', 'CD4 T', 'CD4 T', 'CD8 T', 'CD4 T', 'CD8 T', 'NK', 'CD4 T', 'CD4 T', 'CD4 T', 'CD4 T', 'CD4 T', 'CD4 T', 'CD4 T', 'CD4 T', 'CD8 T', 'CD4 T', 'CD8 T', 'NK', 'CD4 T', 'CD8 T', 'CD8 T', 'CD4 T', 'CD4 T', 'CD4 T', 'NK', 'CD4 T', 'CD4 T', 'CD4 T', 'CD4 T', 'CD4 T', 'CD4 T', 'CD4 T', 'CD4 T', 'CD4 T', 'NK', 'CD4 T', 'CD4 T', 'CD8 T', 'CD4 T', 'CD4 T', 'CD8 T', 'CD4 T', 'CD4 T', 'CD4 T', 'CD8 T', 'CD4 T', 'CD4 T', 'CD4 T', 'CD4 T', 'CD4 T', 'CD4 T', 'CD8 T', 'CD8 T', 'CD4 T', 'CD4 T', 'CD4 T', 'CD4 T', 'CD4 T', 'CD4 T', 'CD4 T', 'CD4 T', 'CD8 T', 'CD4 T', 'CD4 T', 'CD8 T', 'CD4 T', 'CD4 T', 'CD8 T', 'CD8 T', 'CD4 T', 'CD4 T', 'CD4 T', 'CD4 T', 'CD4 T', 'CD8 T', 'CD8 T', 'CD8 T', 'CD8 T', 'CD4 T', 'CD4 T', 'CD4 T', 'CD4 T', 'CD4 T', 'NK', 'CD4 T', 'CD8 T', 'CD8 T', 'CD4 T', 'CD4 T', 'CD4 T', 'CD4 T', 'CD4 T', 'CD4 T', 'CD4 T', 'CD4 T', 'CD4 T', 'CD4 T', 'CD4 T', 'CD4 T', 'CD4 T', 'CD4 T', 'CD4 T', 'CD4 T', 'CD4 T', 'CD4 T', 'CD4 T', 'CD4 T', 'CD8 T', 'CD4 T', 'CD8 T', 'CD4 T', 'CD4 T', 'CD4 T', 'CD8 T', 'CD4 T', 'CD8 T', 'CD4 T', 'CD4 T', 'CD4 T', 'CD4 T', 'CD8 T', 'CD4 T', 'CD8 T', 'CD4 T', 'CD4 T', 'CD4 T', 'CD4 T', 'CD8 T', 'CD4 T', 'CD4 T', 'CD8 T', 'CD8 T', 'CD4 T', 'CD4 T', 'CD4 T', 'CD4 T', 'CD4 T', 'CD4 T', 'CD4 T', 'CD4 T', 'CD4 T', 'CD8 T', 'CD4 T', 'CD8 T', 'CD4 T', 'CD4 T', 'CD4 T', 'NK', 'CD4 T', 'CD8 T', 'CD4 T', 'CD8 T', 'CD4 T', 'CD4 T', 'CD4 T', 'CD4 T', 'CD4 T', 'CD8 T', 'CD8 T', 'NK', 'CD4 T', 'CD4 T', 'CD4 T', 'CD8 T', 'CD4 T', 'CD8 T', 'CD4 T', 'CD4 T', 'CD4 T', 'CD8 T', 'CD4 T', 'NK', 'CD8 T', 'CD4 T', 'CD4 T', 'CD4 T', 'CD4 T', 'CD4 T', 'CD4 T', 'CD4 T', 'CD4 T', 'CD4 T', 'CD4 T', 'CD4 T', 'CD8 T', 'CD4 T', 'CD8 T', 'CD4 T', 'CD4 T', 'CD4 T', 'CD4 T', 'CD4 T', 'CD4 T', 'CD8 T', 'CD4 T', 'CD8 T', 'CD4 T', 'CD4 T', 'CD4 T', 'CD4 T', 'CD4 T', 'CD4 T', 'CD8 T', 'CD8 T', 'CD4 T', 'CD4 T', 'NK', 'CD4 T', 'CD4 T', 'CD8 T', 'CD8 T', 'CD4 T', 'NK', 'CD8 T', 'CD4 T', 'CD4 T', 'CD8 T', 'CD8 T', 'CD4 T', 'CD8 T', 'CD4 T', 'CD4 T', 'CD8 T', 'CD4 T', 'CD8 T', 'CD8 T', 'CD4 T', 'CD4 T', 'CD4 T', 'CD8 T', 'CD4 T', 'CD4 T', 'CD4 T', 'NK', 'CD4 T', 'CD4 T', 'CD4 T', 'CD4 T', 'CD8 T', 'CD4 T', 'CD8 T', 'CD4 T', 'CD4 T', 'CD4 T', 'NK', 'CD4 T', 'CD4 T', 'CD4 T', 'CD4 T', 'CD4 T', 'CD8 T', 'CD4 T', 'NK', 'CD8 T', 'CD4 T', 'CD4 T', 'CD4 T', 'CD8 T', 'CD4 T', 'CD8 T', 'NK', 'CD4 T', 'CD8 T', 'CD4 T', 'CD4 T', 'CD4 T', 'CD4 T', 'CD4 T', 'CD4 T', 'CD4 T', 'CD4 T', 'CD4 T', 'CD4 T', 'CD4 T', 'CD4 T', 'CD4 T', 'CD4 T', 'CD4 T', 'CD4 T', 'CD4 T', 'CD4 T', 'CD4 T', 'CD4 T', 'CD4 T', 'CD4 T', 'CD4 T', 'CD8 T', 'CD4 T', 'CD4 T', 'CD8 T', 'CD4 T', 'NK', 'NK', 'CD4 T', 'CD4 T', 'CD4 T', 'CD4 T', 'CD4 T', 'CD4 T', 'CD8 T', 'CD4 T', 'NK', 'CD8 T', 'CD4 T', 'CD4 T', 'CD4 T', 'CD4 T', 'CD4 T', 'CD4 T', 'CD4 T', 'CD4 T', 'CD4 T', 'CD4 T', 'CD4 T', 'CD4 T', 'CD8 T', 'CD8 T', 'CD4 T', 'CD8 T', 'CD4 T', 'CD4 T', 'CD4 T', 'CD4 T', 'CD8 T', 'CD4 T', 'NK', 'CD4 T', 'CD4 T', 'CD4 T', 'CD4 T', 'CD8 T', 'CD4 T', 'CD8 T', 'CD4 T', 'CD8 T', 'CD8 T', 'CD4 T', 'CD8 T', 'CD4 T', 'CD4 T', 'CD4 T', 'CD4 T', 'NK', 'CD4 T', 'CD4 T', 'CD4 T', 'CD4 T', 'CD4 T', 'CD4 T', 'CD8 T', 'CD4 T', 'CD8 T', 'NK', 'NK', 'NK', 'CD8 T', 'CD4 T', 'CD4 T', 'CD4 T', 'CD4 T', 'NK', 'CD8 T', 'NK', 'CD8 T', 'CD4 T', 'CD8 T', 'CD8 T', 'CD4 T', 'NK', 'CD4 T', 'CD4 T', 'CD4 T', 'CD4 T', 'CD8 T', 'CD4 T', 'CD4 T', 'CD8 T', 'CD8 T', 'NK', 'CD4 T', 'CD4 T', 'CD4 T', 'NK', 'CD8 T', 'NK', 'CD8 T', 'CD4 T', 'CD4 T', 'CD4 T', 'CD8 T', 'CD8 T', 'CD4 T', 'NK', 'CD8 T', 'CD4 T', 'CD4 T', 'CD4 T', 'CD4 T', 'NK', 'CD4 T', 'CD8 T', 'CD4 T', 'CD4 T', 'CD4 T', 'CD8 T', 'CD4 T', 'NK', 'CD4 T', 'CD4 T', 'CD4 T', 'CD8 T', 'CD4 T', 'CD4 T', 'CD4 T', 'CD8 T', 'CD8 T', 'NK', 'CD4 T', 'CD4 T', 'CD4 T', 'CD8 T', 'CD4 T', 'CD4 T', 'CD4 T', 'CD4 T', 'CD8 T', 'CD4 T', 'CD4 T', 'CD4 T', 'CD4 T', 'CD4 T', 'CD4 T', 'CD8 T', 'CD4 T', 'CD8 T', 'NK', 'NK', 'CD8 T', 'CD4 T', 'CD4 T', 'CD4 T', 'CD8 T', 'CD4 T', 'NK', 'CD8 T', 'CD4 T', 'CD4 T', 'CD4 T', 'CD8 T', 'CD4 T', 'CD4 T', 'CD8 T', 'CD4 T', 'CD4 T', 'CD4 T', 'CD4 T', 'CD4 T', 'CD4 T', 'CD4 T', 'CD4 T', 'CD4 T', 'CD8 T', 'CD8 T', 'NK', 'CD4 T', 'NK', 'CD4 T', 'CD4 T', 'CD4 T', 'CD4 T', 'CD4 T', 'CD4 T', 'CD4 T', 'CD8 T', 'CD4 T', 'NK', 'NK', 'CD4 T', 'CD4 T', 'CD4 T', 'CD4 T', 'CD4 T', 'CD4 T', 'CD4 T', 'CD4 T', 'CD4 T', 'CD4 T', 'NK', 'CD4 T', 'CD4 T', 'NK', 'CD8 T', 'CD4 T', 'CD8 T', 'CD4 T', 'CD4 T', 'NK', 'CD4 T', 'CD8 T', 'CD4 T', 'CD8 T', 'CD4 T', 'CD4 T', 'CD8 T', 'CD4 T', 'CD8 T', 'CD4 T', 'CD4 T', 'CD4 T', 'CD4 T', 'CD4 T', 'NK', 'CD4 T', 'CD4 T', 'CD4 T', 'CD4 T', 'CD4 T', 'NK', 'CD4 T', 'CD4 T', 'CD4 T', 'CD8 T', 'CD4 T', 'CD8 T', 'CD4 T', 'CD4 T', 'NK', 'CD4 T', 'CD8 T', 'NK', 'CD4 T', 'CD4 T', 'NK', 'CD8 T', 'CD8 T', 'NK', 'NK', 'CD8 T', 'CD8 T', 'CD4 T', 'CD8 T', 'CD8 T', 'CD4 T', 'CD4 T', 'CD4 T', 'CD4 T', 'CD4 T', 'CD4 T', 'CD4 T', 'CD4 T', 'CD4 T', 'CD4 T', 'CD4 T', 'CD8 T', 'CD4 T', 'CD4 T', 'CD4 T', 'CD4 T', 'CD8 T', 'CD4 T', 'CD4 T', 'CD4 T', 'CD4 T', 'CD4 T', 'NK', 'CD4 T', 'CD4 T', 'CD4 T', 'CD4 T', 'CD4 T', 'CD4 T', 'CD4 T', 'CD4 T', 'CD8 T', 'CD4 T', 'CD4 T', 'CD4 T', 'CD4 T', 'NK', 'CD4 T', 'CD4 T', 'CD8 T', 'CD8 T', 'CD4 T', 'CD4 T', 'CD4 T', 'CD4 T', 'CD4 T', 'CD4 T', 'NK', 'NK', 'CD4 T', 'CD4 T', 'CD4 T', 'CD8 T', 'CD4 T', 'CD8 T', 'NK', 'CD4 T', 'NK', 'CD8 T', 'CD4 T', 'NK', 'CD4 T', 'CD4 T', 'CD4 T', 'CD4 T', 'CD8 T', 'CD4 T', 'CD4 T']\n",
            "Epoch 1/50\n",
            "15/15 [==============================] - 1s 20ms/step - loss: 1.2049 - val_loss: 1.1186\n",
            "Epoch 2/50\n",
            "15/15 [==============================] - 0s 3ms/step - loss: 1.0944 - val_loss: 1.0117\n",
            "Epoch 3/50\n",
            "15/15 [==============================] - 0s 3ms/step - loss: 0.9860 - val_loss: 0.9280\n",
            "Epoch 4/50\n",
            "15/15 [==============================] - 0s 3ms/step - loss: 0.9025 - val_loss: 0.8662\n",
            "Epoch 5/50\n",
            "15/15 [==============================] - 0s 4ms/step - loss: 0.8398 - val_loss: 0.8196\n",
            "Epoch 6/50\n",
            "15/15 [==============================] - 0s 3ms/step - loss: 0.7905 - val_loss: 0.7815\n",
            "Epoch 7/50\n",
            "15/15 [==============================] - 0s 3ms/step - loss: 0.7497 - val_loss: 0.7509\n",
            "Epoch 8/50\n",
            "15/15 [==============================] - 0s 3ms/step - loss: 0.7149 - val_loss: 0.7241\n",
            "Epoch 9/50\n",
            "15/15 [==============================] - 0s 3ms/step - loss: 0.6846 - val_loss: 0.6997\n",
            "Epoch 10/50\n",
            "15/15 [==============================] - 0s 3ms/step - loss: 0.6571 - val_loss: 0.6778\n",
            "Epoch 11/50\n",
            "15/15 [==============================] - 0s 3ms/step - loss: 0.6324 - val_loss: 0.6576\n",
            "Epoch 12/50\n",
            "15/15 [==============================] - 0s 3ms/step - loss: 0.6093 - val_loss: 0.6390\n",
            "Epoch 13/50\n",
            "15/15 [==============================] - 0s 3ms/step - loss: 0.5882 - val_loss: 0.6217\n",
            "Epoch 14/50\n",
            "15/15 [==============================] - 0s 3ms/step - loss: 0.5682 - val_loss: 0.6059\n",
            "Epoch 15/50\n",
            "15/15 [==============================] - 0s 3ms/step - loss: 0.5498 - val_loss: 0.5912\n",
            "Epoch 16/50\n",
            "15/15 [==============================] - 0s 3ms/step - loss: 0.5320 - val_loss: 0.5764\n",
            "Epoch 17/50\n",
            "15/15 [==============================] - 0s 3ms/step - loss: 0.5154 - val_loss: 0.5636\n",
            "Epoch 18/50\n",
            "15/15 [==============================] - 0s 3ms/step - loss: 0.4995 - val_loss: 0.5507\n",
            "Epoch 19/50\n",
            "15/15 [==============================] - 0s 4ms/step - loss: 0.4846 - val_loss: 0.5388\n",
            "Epoch 20/50\n",
            "15/15 [==============================] - 0s 3ms/step - loss: 0.4705 - val_loss: 0.5277\n",
            "Epoch 21/50\n",
            "15/15 [==============================] - 0s 3ms/step - loss: 0.4568 - val_loss: 0.5167\n",
            "Epoch 22/50\n",
            "15/15 [==============================] - 0s 3ms/step - loss: 0.4442 - val_loss: 0.5065\n",
            "Epoch 23/50\n",
            "15/15 [==============================] - 0s 3ms/step - loss: 0.4319 - val_loss: 0.4963\n",
            "Epoch 24/50\n",
            "15/15 [==============================] - 0s 3ms/step - loss: 0.4203 - val_loss: 0.4876\n",
            "Epoch 25/50\n",
            "15/15 [==============================] - 0s 3ms/step - loss: 0.4091 - val_loss: 0.4786\n",
            "Epoch 26/50\n",
            "15/15 [==============================] - 0s 3ms/step - loss: 0.3986 - val_loss: 0.4709\n",
            "Epoch 27/50\n",
            "15/15 [==============================] - 0s 3ms/step - loss: 0.3885 - val_loss: 0.4631\n",
            "Epoch 28/50\n",
            "15/15 [==============================] - 0s 3ms/step - loss: 0.3790 - val_loss: 0.4557\n",
            "Epoch 29/50\n",
            "15/15 [==============================] - 0s 3ms/step - loss: 0.3698 - val_loss: 0.4481\n",
            "Epoch 30/50\n",
            "15/15 [==============================] - 0s 3ms/step - loss: 0.3611 - val_loss: 0.4416\n",
            "Epoch 31/50\n",
            "15/15 [==============================] - 0s 3ms/step - loss: 0.3529 - val_loss: 0.4351\n",
            "Epoch 32/50\n",
            "15/15 [==============================] - 0s 3ms/step - loss: 0.3450 - val_loss: 0.4297\n",
            "Epoch 33/50\n",
            "15/15 [==============================] - 0s 3ms/step - loss: 0.3377 - val_loss: 0.4238\n",
            "Epoch 34/50\n",
            "15/15 [==============================] - 0s 3ms/step - loss: 0.3303 - val_loss: 0.4184\n",
            "Epoch 35/50\n",
            "15/15 [==============================] - 0s 3ms/step - loss: 0.3237 - val_loss: 0.4130\n",
            "Epoch 36/50\n",
            "15/15 [==============================] - 0s 4ms/step - loss: 0.3172 - val_loss: 0.4079\n",
            "Epoch 37/50\n",
            "15/15 [==============================] - 0s 3ms/step - loss: 0.3112 - val_loss: 0.4030\n",
            "Epoch 38/50\n",
            "15/15 [==============================] - 0s 3ms/step - loss: 0.3054 - val_loss: 0.3986\n",
            "Epoch 39/50\n",
            "15/15 [==============================] - 0s 3ms/step - loss: 0.2998 - val_loss: 0.3949\n",
            "Epoch 40/50\n",
            "15/15 [==============================] - 0s 3ms/step - loss: 0.2946 - val_loss: 0.3908\n",
            "Epoch 41/50\n",
            "15/15 [==============================] - 0s 3ms/step - loss: 0.2896 - val_loss: 0.3868\n",
            "Epoch 42/50\n",
            "15/15 [==============================] - 0s 3ms/step - loss: 0.2848 - val_loss: 0.3831\n",
            "Epoch 43/50\n",
            "15/15 [==============================] - 0s 3ms/step - loss: 0.2802 - val_loss: 0.3799\n",
            "Epoch 44/50\n",
            "15/15 [==============================] - 0s 3ms/step - loss: 0.2759 - val_loss: 0.3757\n",
            "Epoch 45/50\n",
            "15/15 [==============================] - 0s 3ms/step - loss: 0.2716 - val_loss: 0.3732\n",
            "Epoch 46/50\n",
            "15/15 [==============================] - 0s 3ms/step - loss: 0.2677 - val_loss: 0.3700\n",
            "Epoch 47/50\n",
            "15/15 [==============================] - 0s 3ms/step - loss: 0.2639 - val_loss: 0.3675\n",
            "Epoch 48/50\n",
            "15/15 [==============================] - 0s 3ms/step - loss: 0.2602 - val_loss: 0.3649\n",
            "Epoch 49/50\n",
            "15/15 [==============================] - 0s 3ms/step - loss: 0.2567 - val_loss: 0.3622\n",
            "Epoch 50/50\n",
            "15/15 [==============================] - 0s 5ms/step - loss: 0.2533 - val_loss: 0.3598\n"
          ]
        }
      ]
    },
    {
      "cell_type": "code",
      "source": [
        "#accuracy of tnk classifier model \n",
        "print(hc.graph.nodes['TNK']['memory'].training_acc)\n",
        "\n",
        "print(hc.graph.nodes['TNK']['memory'].test_acc)"
      ],
      "metadata": {
        "colab": {
          "base_uri": "https://localhost:8080/"
        },
        "id": "kDK0Axx1iq_X",
        "outputId": "2ffb1b1a-e8a1-4049-9858-faedcea55cb0"
      },
      "execution_count": 482,
      "outputs": [
        {
          "output_type": "stream",
          "name": "stdout",
          "text": [
            "0.9241842610364683\n",
            "0.9136276391554703\n"
          ]
        }
      ]
    },
    {
      "cell_type": "code",
      "source": [
        "#show saved prediction results in next labels, <- hm ne das wird erst später aufgerufen\n",
        "hc.graph.nodes['CD4 T']['memory'].__dict__"
      ],
      "metadata": {
        "colab": {
          "base_uri": "https://localhost:8080/"
        },
        "id": "eqMhrlqMi45G",
        "outputId": "ba97abc6-37f5-42e3-cc50-1728196c847b"
      },
      "execution_count": 483,
      "outputs": [
        {
          "output_type": "execute_result",
          "data": {
            "text/plain": [
              "{'apriori_y_input_data_indices': (array([   1,    2,    3, ..., 1559, 1561, 1562]),),\n",
              " 'classifier_class': None,\n",
              " 'local_classifier_params': [],\n",
              " 'test_acc': None,\n",
              " 'test_prediction_vec': None,\n",
              " 'training_acc': None,\n",
              " 'training_prediction_vec': None,\n",
              " 'x_input_data': None,\n",
              " 'y_input_data': None,\n",
              " 'y_input_grouped_labels': None}"
            ]
          },
          "metadata": {},
          "execution_count": 483
        }
      ]
    },
    {
      "cell_type": "code",
      "source": [
        "#show status of node Myeloische Zellen\n",
        "hc.graph.nodes['Myeloisch']['memory'].__dict__"
      ],
      "metadata": {
        "colab": {
          "base_uri": "https://localhost:8080/"
        },
        "id": "GmjgeNI0wdfE",
        "outputId": "c3994b11-4e8a-4a9f-bc81-d3dc41470363"
      },
      "execution_count": 484,
      "outputs": [
        {
          "output_type": "execute_result",
          "data": {
            "text/plain": [
              "{'apriori_y_input_data_indices': (array([], dtype=int64),),\n",
              " 'classifier_class': None,\n",
              " 'local_classifier_params': [],\n",
              " 'test_acc': None,\n",
              " 'test_prediction_vec': None,\n",
              " 'training_acc': None,\n",
              " 'training_prediction_vec': None,\n",
              " 'x_input_data': array([[-0.65018964,  0.5909275 ,  0.17820597, ...,  0.7609098 ,\n",
              "         -0.9427402 ,  1.1240003 ],\n",
              "        [ 1.3202016 ,  0.6382091 , -1.6076678 , ..., -1.3887111 ,\n",
              "         -0.43054047, -1.2502768 ],\n",
              "        [ 0.03016484, -0.13684195,  0.38049364, ..., -0.8243723 ,\n",
              "         -0.4725106 ,  0.7852393 ],\n",
              "        ...,\n",
              "        [ 0.00502422,  0.18570839,  0.38839135, ..., -0.05192301,\n",
              "         -1.1637948 ,  1.4046977 ],\n",
              "        [ 1.5008779 , -0.13873322, -0.09292659, ...,  0.1126502 ,\n",
              "         -1.7490447 ,  1.5059206 ],\n",
              "        [ 0.57691723, -0.09258436,  0.77182037, ..., -0.11639237,\n",
              "          0.35169557,  1.8422029 ]], dtype=float32),\n",
              " 'y_input_data': array(['NK', 'FCGR3A Monocytes', 'NK', 'CD14 Monocytes', 'CD14 Monocytes',\n",
              "        'CD14 Monocytes', 'CD8 T', 'CD14 Monocytes', 'CD14 Monocytes',\n",
              "        'CD14 Monocytes', 'CD14 Monocytes', 'NK', 'CD14 Monocytes',\n",
              "        'CD14 Monocytes', 'NK', 'FCGR3A Monocytes', 'FCGR3A Monocytes',\n",
              "        'CD14 Monocytes', 'CD14 Monocytes', 'NK', 'CD14 Monocytes',\n",
              "        'CD14 Monocytes', 'CD14 Monocytes', 'CD14 Monocytes',\n",
              "        'CD14 Monocytes', 'CD14 Monocytes', 'Dendritic',\n",
              "        'FCGR3A Monocytes', 'CD14 Monocytes', 'FCGR3A Monocytes',\n",
              "        'Dendritic', 'CD14 Monocytes', 'CD14 Monocytes', 'NK',\n",
              "        'CD14 Monocytes', 'CD14 Monocytes', 'FCGR3A Monocytes', 'NK',\n",
              "        'CD8 T', 'CD14 Monocytes', 'FCGR3A Monocytes', 'CD14 Monocytes',\n",
              "        'FCGR3A Monocytes', 'CD8 T', 'CD14 Monocytes', 'Dendritic',\n",
              "        'CD14 Monocytes', 'CD14 Monocytes', 'Dendritic', 'CD14 Monocytes',\n",
              "        'FCGR3A Monocytes', 'FCGR3A Monocytes', 'CD14 Monocytes',\n",
              "        'FCGR3A Monocytes', 'CD14 Monocytes', 'NK', 'FCGR3A Monocytes',\n",
              "        'CD14 Monocytes', 'CD14 Monocytes', 'CD14 Monocytes',\n",
              "        'CD14 Monocytes', 'CD14 Monocytes', 'CD14 Monocytes', 'NK',\n",
              "        'FCGR3A Monocytes', 'CD14 Monocytes', 'CD14 Monocytes', 'NK',\n",
              "        'Dendritic', 'FCGR3A Monocytes', 'CD14 Monocytes',\n",
              "        'FCGR3A Monocytes', 'CD14 Monocytes', 'FCGR3A Monocytes',\n",
              "        'FCGR3A Monocytes', 'CD14 Monocytes', 'CD14 Monocytes',\n",
              "        'CD14 Monocytes', 'CD14 Monocytes', 'NK', 'FCGR3A Monocytes',\n",
              "        'Dendritic', 'FCGR3A Monocytes', 'CD14 Monocytes',\n",
              "        'FCGR3A Monocytes', 'CD14 Monocytes', 'CD14 Monocytes',\n",
              "        'CD14 Monocytes', 'CD14 Monocytes', 'FCGR3A Monocytes',\n",
              "        'FCGR3A Monocytes', 'CD14 Monocytes', 'Dendritic',\n",
              "        'FCGR3A Monocytes', 'CD14 Monocytes', 'CD14 Monocytes',\n",
              "        'CD14 Monocytes', 'CD14 Monocytes', 'CD14 Monocytes',\n",
              "        'CD14 Monocytes', 'CD14 Monocytes', 'NK', 'CD14 Monocytes',\n",
              "        'CD14 Monocytes', 'CD14 Monocytes', 'CD14 Monocytes',\n",
              "        'CD14 Monocytes', 'FCGR3A Monocytes', 'CD14 Monocytes',\n",
              "        'CD14 Monocytes', 'FCGR3A Monocytes', 'CD14 Monocytes', 'NK', 'NK',\n",
              "        'FCGR3A Monocytes', 'FCGR3A Monocytes', 'CD14 Monocytes',\n",
              "        'CD14 Monocytes', 'CD14 Monocytes', 'CD14 Monocytes',\n",
              "        'CD14 Monocytes', 'FCGR3A Monocytes', 'NK', 'NK',\n",
              "        'FCGR3A Monocytes', 'CD14 Monocytes', 'CD14 Monocytes',\n",
              "        'CD14 Monocytes', 'CD14 Monocytes', 'FCGR3A Monocytes',\n",
              "        'CD14 Monocytes', 'CD14 Monocytes', 'CD14 Monocytes', 'Dendritic',\n",
              "        'CD14 Monocytes', 'CD14 Monocytes', 'CD14 Monocytes',\n",
              "        'CD14 Monocytes', 'CD14 Monocytes', 'CD14 Monocytes', 'NK',\n",
              "        'CD14 Monocytes', 'CD14 Monocytes', 'CD14 Monocytes',\n",
              "        'CD14 Monocytes', 'NK', 'CD14 Monocytes', 'CD14 Monocytes',\n",
              "        'CD14 Monocytes', 'CD14 Monocytes', 'FCGR3A Monocytes',\n",
              "        'CD14 Monocytes', 'CD14 Monocytes', 'CD14 Monocytes',\n",
              "        'CD14 Monocytes', 'CD14 Monocytes', 'CD14 Monocytes',\n",
              "        'CD14 Monocytes', 'CD14 Monocytes', 'CD14 Monocytes', 'NK', 'NK',\n",
              "        'FCGR3A Monocytes', 'FCGR3A Monocytes', 'NK', 'FCGR3A Monocytes',\n",
              "        'FCGR3A Monocytes', 'CD14 Monocytes', 'CD14 Monocytes',\n",
              "        'CD14 Monocytes', 'CD14 Monocytes', 'CD14 Monocytes',\n",
              "        'FCGR3A Monocytes', 'FCGR3A Monocytes', 'Dendritic',\n",
              "        'CD14 Monocytes', 'CD14 Monocytes', 'CD14 Monocytes',\n",
              "        'CD14 Monocytes', 'FCGR3A Monocytes', 'CD14 Monocytes',\n",
              "        'CD14 Monocytes', 'FCGR3A Monocytes', 'CD14 Monocytes',\n",
              "        'CD14 Monocytes', 'NK', 'CD14 Monocytes', 'Dendritic', 'NK', 'NK',\n",
              "        'CD14 Monocytes', 'CD14 Monocytes', 'CD14 Monocytes',\n",
              "        'CD14 Monocytes', 'CD14 Monocytes', 'NK', 'CD14 Monocytes',\n",
              "        'CD14 Monocytes', 'CD14 Monocytes', 'FCGR3A Monocytes',\n",
              "        'CD14 Monocytes', 'CD14 Monocytes', 'CD14 Monocytes',\n",
              "        'CD14 Monocytes', 'CD14 Monocytes', 'CD14 Monocytes', 'NK', 'NK',\n",
              "        'FCGR3A Monocytes', 'FCGR3A Monocytes', 'CD14 Monocytes',\n",
              "        'CD14 Monocytes', 'CD14 Monocytes', 'CD14 Monocytes',\n",
              "        'CD14 Monocytes', 'FCGR3A Monocytes', 'CD14 Monocytes',\n",
              "        'CD14 Monocytes', 'FCGR3A Monocytes', 'CD14 Monocytes',\n",
              "        'CD14 Monocytes', 'CD14 Monocytes', 'Dendritic', 'CD14 Monocytes',\n",
              "        'CD14 Monocytes', 'CD14 Monocytes', 'FCGR3A Monocytes',\n",
              "        'CD14 Monocytes', 'CD14 Monocytes', 'CD14 Monocytes',\n",
              "        'FCGR3A Monocytes', 'CD14 Monocytes', 'CD14 Monocytes',\n",
              "        'FCGR3A Monocytes', 'CD14 Monocytes', 'CD14 Monocytes',\n",
              "        'CD14 Monocytes', 'CD14 Monocytes', 'CD14 Monocytes', 'NK',\n",
              "        'CD14 Monocytes', 'CD14 Monocytes', 'CD14 Monocytes',\n",
              "        'CD14 Monocytes', 'CD14 Monocytes', 'CD14 Monocytes',\n",
              "        'CD14 Monocytes', 'CD14 Monocytes', 'CD14 Monocytes',\n",
              "        'CD14 Monocytes', 'CD14 Monocytes', 'CD14 Monocytes', 'NK',\n",
              "        'CD14 Monocytes', 'CD14 Monocytes', 'CD14 Monocytes',\n",
              "        'CD14 Monocytes', 'NK', 'CD14 Monocytes', 'NK', 'CD14 Monocytes',\n",
              "        'CD14 Monocytes', 'CD14 Monocytes', 'CD14 Monocytes',\n",
              "        'CD14 Monocytes', 'FCGR3A Monocytes', 'NK', 'CD14 Monocytes',\n",
              "        'CD14 Monocytes', 'NK', 'CD14 Monocytes', 'CD14 Monocytes', 'NK',\n",
              "        'FCGR3A Monocytes', 'FCGR3A Monocytes', 'CD14 Monocytes',\n",
              "        'CD14 Monocytes', 'CD14 Monocytes', 'CD8 T', 'CD14 Monocytes',\n",
              "        'FCGR3A Monocytes', 'CD14 Monocytes', 'CD14 Monocytes',\n",
              "        'CD14 Monocytes', 'CD14 Monocytes', 'NK', 'CD14 Monocytes',\n",
              "        'FCGR3A Monocytes', 'Dendritic', 'CD14 Monocytes',\n",
              "        'CD14 Monocytes', 'CD14 Monocytes', 'CD14 Monocytes', 'CD4 T',\n",
              "        'CD14 Monocytes', 'CD14 Monocytes', 'CD14 Monocytes', 'NK',\n",
              "        'FCGR3A Monocytes', 'FCGR3A Monocytes', 'NK', 'CD14 Monocytes',\n",
              "        'CD14 Monocytes', 'CD14 Monocytes', 'CD14 Monocytes',\n",
              "        'FCGR3A Monocytes', 'CD14 Monocytes', 'FCGR3A Monocytes',\n",
              "        'CD14 Monocytes', 'CD14 Monocytes', 'NK', 'CD14 Monocytes',\n",
              "        'CD14 Monocytes', 'CD14 Monocytes', 'FCGR3A Monocytes',\n",
              "        'CD14 Monocytes', 'NK', 'FCGR3A Monocytes', 'CD14 Monocytes',\n",
              "        'CD14 Monocytes', 'FCGR3A Monocytes', 'FCGR3A Monocytes',\n",
              "        'CD14 Monocytes', 'CD14 Monocytes', 'CD14 Monocytes',\n",
              "        'CD14 Monocytes', 'NK', 'CD14 Monocytes', 'CD14 Monocytes',\n",
              "        'CD14 Monocytes', 'NK', 'NK', 'Dendritic', 'CD14 Monocytes',\n",
              "        'CD14 Monocytes', 'FCGR3A Monocytes', 'CD14 Monocytes',\n",
              "        'CD14 Monocytes', 'NK', 'CD14 Monocytes', 'CD14 Monocytes',\n",
              "        'CD14 Monocytes', 'CD14 Monocytes', 'CD14 Monocytes', 'NK',\n",
              "        'FCGR3A Monocytes', 'Dendritic', 'CD14 Monocytes',\n",
              "        'CD14 Monocytes', 'NK', 'FCGR3A Monocytes', 'NK', 'CD14 Monocytes',\n",
              "        'CD14 Monocytes', 'CD14 Monocytes', 'CD14 Monocytes', 'Dendritic',\n",
              "        'CD14 Monocytes', 'FCGR3A Monocytes', 'CD14 Monocytes',\n",
              "        'FCGR3A Monocytes', 'FCGR3A Monocytes', 'NK', 'Dendritic',\n",
              "        'CD14 Monocytes', 'CD14 Monocytes', 'Megakaryocytes',\n",
              "        'FCGR3A Monocytes', 'CD14 Monocytes', 'CD14 Monocytes',\n",
              "        'CD14 Monocytes', 'CD14 Monocytes', 'CD14 Monocytes',\n",
              "        'CD14 Monocytes', 'FCGR3A Monocytes', 'CD14 Monocytes',\n",
              "        'CD14 Monocytes', 'FCGR3A Monocytes', 'CD14 Monocytes',\n",
              "        'FCGR3A Monocytes', 'CD14 Monocytes', 'CD14 Monocytes',\n",
              "        'CD14 Monocytes', 'CD14 Monocytes', 'CD14 Monocytes',\n",
              "        'CD14 Monocytes', 'Dendritic', 'NK', 'CD14 Monocytes',\n",
              "        'FCGR3A Monocytes', 'CD14 Monocytes', 'CD14 Monocytes',\n",
              "        'CD14 Monocytes', 'CD14 Monocytes', 'CD14 Monocytes',\n",
              "        'CD14 Monocytes', 'NK', 'CD14 Monocytes', 'CD14 Monocytes',\n",
              "        'CD14 Monocytes', 'CD14 Monocytes', 'NK', 'CD14 Monocytes',\n",
              "        'Dendritic', 'FCGR3A Monocytes', 'FCGR3A Monocytes',\n",
              "        'CD14 Monocytes', 'CD14 Monocytes', 'CD14 Monocytes', 'NK',\n",
              "        'FCGR3A Monocytes', 'FCGR3A Monocytes', 'CD14 Monocytes',\n",
              "        'CD14 Monocytes', 'FCGR3A Monocytes', 'CD8 T', 'CD14 Monocytes',\n",
              "        'FCGR3A Monocytes', 'NK', 'CD14 Monocytes', 'CD4 T',\n",
              "        'CD14 Monocytes', 'CD14 Monocytes', 'FCGR3A Monocytes',\n",
              "        'CD14 Monocytes', 'Dendritic', 'NK', 'CD14 Monocytes',\n",
              "        'CD14 Monocytes', 'CD14 Monocytes', 'NK', 'CD14 Monocytes',\n",
              "        'CD14 Monocytes', 'CD14 Monocytes', 'CD14 Monocytes',\n",
              "        'CD14 Monocytes', 'CD14 Monocytes', 'CD14 Monocytes',\n",
              "        'CD14 Monocytes', 'FCGR3A Monocytes', 'CD14 Monocytes',\n",
              "        'CD14 Monocytes', 'CD14 Monocytes', 'Dendritic', 'CD14 Monocytes',\n",
              "        'CD14 Monocytes', 'FCGR3A Monocytes', 'CD14 Monocytes',\n",
              "        'CD14 Monocytes', 'CD14 Monocytes', 'NK', 'FCGR3A Monocytes',\n",
              "        'CD14 Monocytes', 'CD8 T', 'CD14 Monocytes', 'FCGR3A Monocytes',\n",
              "        'CD14 Monocytes', 'CD14 Monocytes', 'CD14 Monocytes',\n",
              "        'CD14 Monocytes', 'CD14 Monocytes', 'CD14 Monocytes',\n",
              "        'FCGR3A Monocytes', 'CD14 Monocytes', 'CD14 Monocytes',\n",
              "        'CD14 Monocytes', 'CD14 Monocytes', 'CD14 Monocytes',\n",
              "        'CD14 Monocytes', 'CD14 Monocytes', 'FCGR3A Monocytes',\n",
              "        'CD14 Monocytes', 'CD14 Monocytes', 'CD14 Monocytes',\n",
              "        'CD14 Monocytes', 'CD14 Monocytes', 'CD14 Monocytes',\n",
              "        'CD14 Monocytes', 'CD14 Monocytes', 'CD4 T', 'CD14 Monocytes',\n",
              "        'FCGR3A Monocytes', 'CD14 Monocytes', 'CD14 Monocytes',\n",
              "        'CD14 Monocytes', 'CD8 T', 'Megakaryocytes', 'NK',\n",
              "        'CD14 Monocytes', 'FCGR3A Monocytes', 'NK', 'CD14 Monocytes',\n",
              "        'CD14 Monocytes', 'FCGR3A Monocytes', 'Dendritic',\n",
              "        'CD14 Monocytes', 'FCGR3A Monocytes', 'FCGR3A Monocytes',\n",
              "        'CD14 Monocytes', 'CD14 Monocytes', 'CD14 Monocytes',\n",
              "        'CD14 Monocytes', 'CD14 Monocytes', 'CD14 Monocytes',\n",
              "        'CD14 Monocytes', 'FCGR3A Monocytes', 'CD14 Monocytes',\n",
              "        'FCGR3A Monocytes', 'CD14 Monocytes', 'CD14 Monocytes',\n",
              "        'CD14 Monocytes', 'NK', 'CD14 Monocytes', 'FCGR3A Monocytes',\n",
              "        'CD14 Monocytes', 'CD14 Monocytes', 'CD14 Monocytes',\n",
              "        'CD14 Monocytes', 'CD14 Monocytes', 'NK', 'NK', 'FCGR3A Monocytes',\n",
              "        'CD14 Monocytes', 'CD14 Monocytes', 'CD14 Monocytes',\n",
              "        'CD14 Monocytes', 'FCGR3A Monocytes', 'FCGR3A Monocytes',\n",
              "        'CD14 Monocytes', 'CD8 T', 'FCGR3A Monocytes', 'CD14 Monocytes',\n",
              "        'CD14 Monocytes', 'CD8 T', 'CD14 Monocytes', 'CD14 Monocytes',\n",
              "        'FCGR3A Monocytes', 'FCGR3A Monocytes', 'CD14 Monocytes',\n",
              "        'CD14 Monocytes', 'FCGR3A Monocytes', 'CD14 Monocytes',\n",
              "        'FCGR3A Monocytes', 'CD14 Monocytes', 'CD14 Monocytes', 'NK',\n",
              "        'CD14 Monocytes', 'FCGR3A Monocytes', 'CD14 Monocytes',\n",
              "        'CD14 Monocytes', 'CD14 Monocytes', 'NK', 'CD14 Monocytes',\n",
              "        'CD14 Monocytes', 'FCGR3A Monocytes', 'CD14 Monocytes',\n",
              "        'CD14 Monocytes', 'FCGR3A Monocytes', 'CD8 T', 'CD14 Monocytes',\n",
              "        'CD14 Monocytes', 'FCGR3A Monocytes', 'CD14 Monocytes',\n",
              "        'Dendritic', 'CD14 Monocytes', 'CD14 Monocytes', 'CD14 Monocytes',\n",
              "        'NK', 'CD14 Monocytes', 'CD14 Monocytes', 'CD14 Monocytes', 'NK',\n",
              "        'CD14 Monocytes', 'CD14 Monocytes', 'CD14 Monocytes',\n",
              "        'CD14 Monocytes', 'CD14 Monocytes', 'CD14 Monocytes',\n",
              "        'FCGR3A Monocytes', 'CD14 Monocytes', 'CD14 Monocytes',\n",
              "        'FCGR3A Monocytes', 'NK', 'FCGR3A Monocytes', 'CD14 Monocytes',\n",
              "        'CD14 Monocytes', 'CD14 Monocytes', 'CD14 Monocytes',\n",
              "        'FCGR3A Monocytes', 'CD14 Monocytes', 'NK', 'CD14 Monocytes',\n",
              "        'CD8 T', 'NK', 'CD14 Monocytes', 'NK', 'FCGR3A Monocytes',\n",
              "        'CD14 Monocytes', 'CD14 Monocytes', 'FCGR3A Monocytes',\n",
              "        'FCGR3A Monocytes', 'Dendritic', 'CD14 Monocytes',\n",
              "        'CD14 Monocytes', 'CD14 Monocytes', 'CD14 Monocytes',\n",
              "        'CD14 Monocytes', 'Dendritic', 'FCGR3A Monocytes',\n",
              "        'CD14 Monocytes', 'NK', 'NK', 'CD14 Monocytes', 'FCGR3A Monocytes',\n",
              "        'NK', 'Dendritic', 'CD14 Monocytes', 'CD14 Monocytes',\n",
              "        'CD14 Monocytes', 'CD14 Monocytes', 'CD14 Monocytes', 'Dendritic',\n",
              "        'CD14 Monocytes', 'CD14 Monocytes', 'CD14 Monocytes',\n",
              "        'FCGR3A Monocytes', 'CD14 Monocytes', 'FCGR3A Monocytes',\n",
              "        'CD14 Monocytes', 'NK', 'CD14 Monocytes', 'CD14 Monocytes',\n",
              "        'CD14 Monocytes', 'FCGR3A Monocytes', 'NK', 'FCGR3A Monocytes',\n",
              "        'CD14 Monocytes', 'Dendritic', 'CD14 Monocytes', 'CD14 Monocytes',\n",
              "        'CD14 Monocytes', 'FCGR3A Monocytes', 'CD14 Monocytes',\n",
              "        'CD14 Monocytes', 'NK', 'CD14 Monocytes', 'CD14 Monocytes'],\n",
              "       dtype=object),\n",
              " 'y_input_grouped_labels': None}"
            ]
          },
          "metadata": {},
          "execution_count": 484
        }
      ]
    },
    {
      "cell_type": "code",
      "source": [
        "#initialisieren des local classifiers für den Myeloisch node\n",
        "hc.init_node_memory_object('Myeloisch', memory_class_params=[hc.graph.nodes['Myeloisch']['memory'].x_input_data, hc.graph.nodes['Myeloisch']['memory'].y_input_data, Neural_Network])"
      ],
      "metadata": {
        "colab": {
          "base_uri": "https://localhost:8080/"
        },
        "id": "kMEh54iaww_F",
        "outputId": "8b069345-5c81-480c-d6aa-f99ff83f3b30"
      },
      "execution_count": 485,
      "outputs": [
        {
          "output_type": "stream",
          "name": "stdout",
          "text": [
            "Aus init_node_memory_object von Knoten Myeloisch: output größe initialisiert als 3\n",
            "zu übergebene y_input daten: ['FCGR3A Monocytes', 'CD14 Monocytes', 'CD14 Monocytes', 'CD14 Monocytes', 'CD14 Monocytes', 'CD14 Monocytes', 'CD14 Monocytes', 'CD14 Monocytes', 'CD14 Monocytes', 'CD14 Monocytes', 'FCGR3A Monocytes', 'FCGR3A Monocytes', 'CD14 Monocytes', 'CD14 Monocytes', 'CD14 Monocytes', 'CD14 Monocytes', 'CD14 Monocytes', 'CD14 Monocytes', 'CD14 Monocytes', 'CD14 Monocytes', 'Dendritic', 'FCGR3A Monocytes', 'CD14 Monocytes', 'FCGR3A Monocytes', 'Dendritic', 'CD14 Monocytes', 'CD14 Monocytes', 'CD14 Monocytes', 'CD14 Monocytes', 'FCGR3A Monocytes', 'CD14 Monocytes', 'FCGR3A Monocytes', 'CD14 Monocytes', 'FCGR3A Monocytes', 'CD14 Monocytes', 'Dendritic', 'CD14 Monocytes', 'CD14 Monocytes', 'Dendritic', 'CD14 Monocytes', 'FCGR3A Monocytes', 'FCGR3A Monocytes', 'CD14 Monocytes', 'FCGR3A Monocytes', 'CD14 Monocytes', 'FCGR3A Monocytes', 'CD14 Monocytes', 'CD14 Monocytes', 'CD14 Monocytes', 'CD14 Monocytes', 'CD14 Monocytes', 'CD14 Monocytes', 'FCGR3A Monocytes', 'CD14 Monocytes', 'CD14 Monocytes', 'Dendritic', 'FCGR3A Monocytes', 'CD14 Monocytes', 'FCGR3A Monocytes', 'CD14 Monocytes', 'FCGR3A Monocytes', 'FCGR3A Monocytes', 'CD14 Monocytes', 'CD14 Monocytes', 'CD14 Monocytes', 'CD14 Monocytes', 'FCGR3A Monocytes', 'Dendritic', 'FCGR3A Monocytes', 'CD14 Monocytes', 'FCGR3A Monocytes', 'CD14 Monocytes', 'CD14 Monocytes', 'CD14 Monocytes', 'CD14 Monocytes', 'FCGR3A Monocytes', 'FCGR3A Monocytes', 'CD14 Monocytes', 'Dendritic', 'FCGR3A Monocytes', 'CD14 Monocytes', 'CD14 Monocytes', 'CD14 Monocytes', 'CD14 Monocytes', 'CD14 Monocytes', 'CD14 Monocytes', 'CD14 Monocytes', 'CD14 Monocytes', 'CD14 Monocytes', 'CD14 Monocytes', 'CD14 Monocytes', 'CD14 Monocytes', 'FCGR3A Monocytes', 'CD14 Monocytes', 'CD14 Monocytes', 'FCGR3A Monocytes', 'CD14 Monocytes', 'FCGR3A Monocytes', 'FCGR3A Monocytes', 'CD14 Monocytes', 'CD14 Monocytes', 'CD14 Monocytes', 'CD14 Monocytes', 'CD14 Monocytes', 'FCGR3A Monocytes', 'FCGR3A Monocytes', 'CD14 Monocytes', 'CD14 Monocytes', 'CD14 Monocytes', 'CD14 Monocytes', 'FCGR3A Monocytes', 'CD14 Monocytes', 'CD14 Monocytes', 'CD14 Monocytes', 'Dendritic', 'CD14 Monocytes', 'CD14 Monocytes', 'CD14 Monocytes', 'CD14 Monocytes', 'CD14 Monocytes', 'CD14 Monocytes', 'CD14 Monocytes', 'CD14 Monocytes', 'CD14 Monocytes', 'CD14 Monocytes', 'CD14 Monocytes', 'CD14 Monocytes', 'CD14 Monocytes', 'CD14 Monocytes', 'FCGR3A Monocytes', 'CD14 Monocytes', 'CD14 Monocytes', 'CD14 Monocytes', 'CD14 Monocytes', 'CD14 Monocytes', 'CD14 Monocytes', 'CD14 Monocytes', 'CD14 Monocytes', 'CD14 Monocytes', 'FCGR3A Monocytes', 'FCGR3A Monocytes', 'FCGR3A Monocytes', 'FCGR3A Monocytes', 'CD14 Monocytes', 'CD14 Monocytes', 'CD14 Monocytes', 'CD14 Monocytes', 'CD14 Monocytes', 'FCGR3A Monocytes', 'FCGR3A Monocytes', 'Dendritic', 'CD14 Monocytes', 'CD14 Monocytes', 'CD14 Monocytes', 'CD14 Monocytes', 'FCGR3A Monocytes', 'CD14 Monocytes', 'CD14 Monocytes', 'FCGR3A Monocytes', 'CD14 Monocytes', 'CD14 Monocytes', 'CD14 Monocytes', 'Dendritic', 'CD14 Monocytes', 'CD14 Monocytes', 'CD14 Monocytes', 'CD14 Monocytes', 'CD14 Monocytes', 'CD14 Monocytes', 'CD14 Monocytes', 'CD14 Monocytes', 'FCGR3A Monocytes', 'CD14 Monocytes', 'CD14 Monocytes', 'CD14 Monocytes', 'CD14 Monocytes', 'CD14 Monocytes', 'CD14 Monocytes', 'FCGR3A Monocytes', 'FCGR3A Monocytes', 'CD14 Monocytes', 'CD14 Monocytes', 'CD14 Monocytes', 'CD14 Monocytes', 'CD14 Monocytes', 'FCGR3A Monocytes', 'CD14 Monocytes', 'CD14 Monocytes', 'FCGR3A Monocytes', 'CD14 Monocytes', 'CD14 Monocytes', 'CD14 Monocytes', 'Dendritic', 'CD14 Monocytes', 'CD14 Monocytes', 'CD14 Monocytes', 'FCGR3A Monocytes', 'CD14 Monocytes', 'CD14 Monocytes', 'CD14 Monocytes', 'FCGR3A Monocytes', 'CD14 Monocytes', 'CD14 Monocytes', 'FCGR3A Monocytes', 'CD14 Monocytes', 'CD14 Monocytes', 'CD14 Monocytes', 'CD14 Monocytes', 'CD14 Monocytes', 'CD14 Monocytes', 'CD14 Monocytes', 'CD14 Monocytes', 'CD14 Monocytes', 'CD14 Monocytes', 'CD14 Monocytes', 'CD14 Monocytes', 'CD14 Monocytes', 'CD14 Monocytes', 'CD14 Monocytes', 'CD14 Monocytes', 'CD14 Monocytes', 'CD14 Monocytes', 'CD14 Monocytes', 'CD14 Monocytes', 'CD14 Monocytes', 'CD14 Monocytes', 'CD14 Monocytes', 'CD14 Monocytes', 'CD14 Monocytes', 'CD14 Monocytes', 'CD14 Monocytes', 'FCGR3A Monocytes', 'CD14 Monocytes', 'CD14 Monocytes', 'CD14 Monocytes', 'CD14 Monocytes', 'FCGR3A Monocytes', 'FCGR3A Monocytes', 'CD14 Monocytes', 'CD14 Monocytes', 'CD14 Monocytes', 'CD14 Monocytes', 'FCGR3A Monocytes', 'CD14 Monocytes', 'CD14 Monocytes', 'CD14 Monocytes', 'CD14 Monocytes', 'CD14 Monocytes', 'FCGR3A Monocytes', 'Dendritic', 'CD14 Monocytes', 'CD14 Monocytes', 'CD14 Monocytes', 'CD14 Monocytes', 'CD14 Monocytes', 'CD14 Monocytes', 'CD14 Monocytes', 'FCGR3A Monocytes', 'FCGR3A Monocytes', 'CD14 Monocytes', 'CD14 Monocytes', 'CD14 Monocytes', 'CD14 Monocytes', 'FCGR3A Monocytes', 'CD14 Monocytes', 'FCGR3A Monocytes', 'CD14 Monocytes', 'CD14 Monocytes', 'CD14 Monocytes', 'CD14 Monocytes', 'CD14 Monocytes', 'FCGR3A Monocytes', 'CD14 Monocytes', 'FCGR3A Monocytes', 'CD14 Monocytes', 'CD14 Monocytes', 'FCGR3A Monocytes', 'FCGR3A Monocytes', 'CD14 Monocytes', 'CD14 Monocytes', 'CD14 Monocytes', 'CD14 Monocytes', 'CD14 Monocytes', 'CD14 Monocytes', 'CD14 Monocytes', 'Dendritic', 'CD14 Monocytes', 'CD14 Monocytes', 'FCGR3A Monocytes', 'CD14 Monocytes', 'CD14 Monocytes', 'CD14 Monocytes', 'CD14 Monocytes', 'CD14 Monocytes', 'CD14 Monocytes', 'CD14 Monocytes', 'FCGR3A Monocytes', 'Dendritic', 'CD14 Monocytes', 'CD14 Monocytes', 'FCGR3A Monocytes', 'CD14 Monocytes', 'CD14 Monocytes', 'CD14 Monocytes', 'CD14 Monocytes', 'Dendritic', 'CD14 Monocytes', 'FCGR3A Monocytes', 'CD14 Monocytes', 'FCGR3A Monocytes', 'FCGR3A Monocytes', 'Dendritic', 'CD14 Monocytes', 'CD14 Monocytes', 'FCGR3A Monocytes', 'CD14 Monocytes', 'CD14 Monocytes', 'CD14 Monocytes', 'CD14 Monocytes', 'CD14 Monocytes', 'CD14 Monocytes', 'FCGR3A Monocytes', 'CD14 Monocytes', 'CD14 Monocytes', 'FCGR3A Monocytes', 'CD14 Monocytes', 'FCGR3A Monocytes', 'CD14 Monocytes', 'CD14 Monocytes', 'CD14 Monocytes', 'CD14 Monocytes', 'CD14 Monocytes', 'CD14 Monocytes', 'Dendritic', 'CD14 Monocytes', 'FCGR3A Monocytes', 'CD14 Monocytes', 'CD14 Monocytes', 'CD14 Monocytes', 'CD14 Monocytes', 'CD14 Monocytes', 'CD14 Monocytes', 'CD14 Monocytes', 'CD14 Monocytes', 'CD14 Monocytes', 'CD14 Monocytes', 'CD14 Monocytes', 'Dendritic', 'FCGR3A Monocytes', 'FCGR3A Monocytes', 'CD14 Monocytes', 'CD14 Monocytes', 'CD14 Monocytes', 'FCGR3A Monocytes', 'FCGR3A Monocytes', 'CD14 Monocytes', 'CD14 Monocytes', 'FCGR3A Monocytes', 'CD14 Monocytes', 'FCGR3A Monocytes', 'CD14 Monocytes', 'CD14 Monocytes', 'CD14 Monocytes', 'FCGR3A Monocytes', 'CD14 Monocytes', 'Dendritic', 'CD14 Monocytes', 'CD14 Monocytes', 'CD14 Monocytes', 'CD14 Monocytes', 'CD14 Monocytes', 'CD14 Monocytes', 'CD14 Monocytes', 'CD14 Monocytes', 'CD14 Monocytes', 'CD14 Monocytes', 'CD14 Monocytes', 'FCGR3A Monocytes', 'CD14 Monocytes', 'CD14 Monocytes', 'CD14 Monocytes', 'Dendritic', 'CD14 Monocytes', 'CD14 Monocytes', 'FCGR3A Monocytes', 'CD14 Monocytes', 'CD14 Monocytes', 'CD14 Monocytes', 'FCGR3A Monocytes', 'CD14 Monocytes', 'CD14 Monocytes', 'FCGR3A Monocytes', 'CD14 Monocytes', 'CD14 Monocytes', 'CD14 Monocytes', 'CD14 Monocytes', 'CD14 Monocytes', 'CD14 Monocytes', 'FCGR3A Monocytes', 'CD14 Monocytes', 'CD14 Monocytes', 'CD14 Monocytes', 'CD14 Monocytes', 'CD14 Monocytes', 'CD14 Monocytes', 'CD14 Monocytes', 'FCGR3A Monocytes', 'CD14 Monocytes', 'CD14 Monocytes', 'CD14 Monocytes', 'CD14 Monocytes', 'CD14 Monocytes', 'CD14 Monocytes', 'CD14 Monocytes', 'CD14 Monocytes', 'CD14 Monocytes', 'FCGR3A Monocytes', 'CD14 Monocytes', 'CD14 Monocytes', 'CD14 Monocytes', 'CD14 Monocytes', 'FCGR3A Monocytes', 'CD14 Monocytes', 'CD14 Monocytes', 'FCGR3A Monocytes', 'Dendritic', 'CD14 Monocytes', 'FCGR3A Monocytes', 'FCGR3A Monocytes', 'CD14 Monocytes', 'CD14 Monocytes', 'CD14 Monocytes', 'CD14 Monocytes', 'CD14 Monocytes', 'CD14 Monocytes', 'CD14 Monocytes', 'FCGR3A Monocytes', 'CD14 Monocytes', 'FCGR3A Monocytes', 'CD14 Monocytes', 'CD14 Monocytes', 'CD14 Monocytes', 'CD14 Monocytes', 'FCGR3A Monocytes', 'CD14 Monocytes', 'CD14 Monocytes', 'CD14 Monocytes', 'CD14 Monocytes', 'CD14 Monocytes', 'FCGR3A Monocytes', 'CD14 Monocytes', 'CD14 Monocytes', 'CD14 Monocytes', 'CD14 Monocytes', 'FCGR3A Monocytes', 'FCGR3A Monocytes', 'CD14 Monocytes', 'FCGR3A Monocytes', 'CD14 Monocytes', 'CD14 Monocytes', 'CD14 Monocytes', 'CD14 Monocytes', 'FCGR3A Monocytes', 'FCGR3A Monocytes', 'CD14 Monocytes', 'CD14 Monocytes', 'FCGR3A Monocytes', 'CD14 Monocytes', 'FCGR3A Monocytes', 'CD14 Monocytes', 'CD14 Monocytes', 'CD14 Monocytes', 'FCGR3A Monocytes', 'CD14 Monocytes', 'CD14 Monocytes', 'CD14 Monocytes', 'CD14 Monocytes', 'CD14 Monocytes', 'FCGR3A Monocytes', 'CD14 Monocytes', 'CD14 Monocytes', 'FCGR3A Monocytes', 'CD14 Monocytes', 'CD14 Monocytes', 'FCGR3A Monocytes', 'CD14 Monocytes', 'Dendritic', 'CD14 Monocytes', 'CD14 Monocytes', 'CD14 Monocytes', 'CD14 Monocytes', 'CD14 Monocytes', 'CD14 Monocytes', 'CD14 Monocytes', 'CD14 Monocytes', 'CD14 Monocytes', 'CD14 Monocytes', 'CD14 Monocytes', 'CD14 Monocytes', 'FCGR3A Monocytes', 'CD14 Monocytes', 'CD14 Monocytes', 'FCGR3A Monocytes', 'FCGR3A Monocytes', 'CD14 Monocytes', 'CD14 Monocytes', 'CD14 Monocytes', 'CD14 Monocytes', 'FCGR3A Monocytes', 'CD14 Monocytes', 'CD14 Monocytes', 'CD14 Monocytes', 'FCGR3A Monocytes', 'CD14 Monocytes', 'CD14 Monocytes', 'FCGR3A Monocytes', 'FCGR3A Monocytes', 'Dendritic', 'CD14 Monocytes', 'CD14 Monocytes', 'CD14 Monocytes', 'CD14 Monocytes', 'CD14 Monocytes', 'Dendritic', 'FCGR3A Monocytes', 'CD14 Monocytes', 'CD14 Monocytes', 'FCGR3A Monocytes', 'Dendritic', 'CD14 Monocytes', 'CD14 Monocytes', 'CD14 Monocytes', 'CD14 Monocytes', 'CD14 Monocytes', 'Dendritic', 'CD14 Monocytes', 'CD14 Monocytes', 'CD14 Monocytes', 'FCGR3A Monocytes', 'CD14 Monocytes', 'FCGR3A Monocytes', 'CD14 Monocytes', 'CD14 Monocytes', 'CD14 Monocytes', 'CD14 Monocytes', 'FCGR3A Monocytes', 'FCGR3A Monocytes', 'CD14 Monocytes', 'Dendritic', 'CD14 Monocytes', 'CD14 Monocytes', 'CD14 Monocytes', 'FCGR3A Monocytes', 'CD14 Monocytes', 'CD14 Monocytes', 'CD14 Monocytes', 'CD14 Monocytes']\n"
          ]
        }
      ]
    },
    {
      "cell_type": "code",
      "source": [
        "hc.run_local_classifier('Myeloisch')"
      ],
      "metadata": {
        "colab": {
          "base_uri": "https://localhost:8080/"
        },
        "id": "SfjzJDFLwrZx",
        "outputId": "99306ceb-94fd-4a14-c6ed-ef44a5d8b453"
      },
      "execution_count": 487,
      "outputs": [
        {
          "output_type": "stream",
          "name": "stdout",
          "text": [
            "network y_input before encoding: ['FCGR3A Monocytes', 'CD14 Monocytes', 'CD14 Monocytes', 'CD14 Monocytes', 'CD14 Monocytes', 'CD14 Monocytes', 'CD14 Monocytes', 'CD14 Monocytes', 'CD14 Monocytes', 'CD14 Monocytes', 'FCGR3A Monocytes', 'FCGR3A Monocytes', 'CD14 Monocytes', 'CD14 Monocytes', 'CD14 Monocytes', 'CD14 Monocytes', 'CD14 Monocytes', 'CD14 Monocytes', 'CD14 Monocytes', 'CD14 Monocytes', 'Dendritic', 'FCGR3A Monocytes', 'CD14 Monocytes', 'FCGR3A Monocytes', 'Dendritic', 'CD14 Monocytes', 'CD14 Monocytes', 'CD14 Monocytes', 'CD14 Monocytes', 'FCGR3A Monocytes', 'CD14 Monocytes', 'FCGR3A Monocytes', 'CD14 Monocytes', 'FCGR3A Monocytes', 'CD14 Monocytes', 'Dendritic', 'CD14 Monocytes', 'CD14 Monocytes', 'Dendritic', 'CD14 Monocytes', 'FCGR3A Monocytes', 'FCGR3A Monocytes', 'CD14 Monocytes', 'FCGR3A Monocytes', 'CD14 Monocytes', 'FCGR3A Monocytes', 'CD14 Monocytes', 'CD14 Monocytes', 'CD14 Monocytes', 'CD14 Monocytes', 'CD14 Monocytes', 'CD14 Monocytes', 'FCGR3A Monocytes', 'CD14 Monocytes', 'CD14 Monocytes', 'Dendritic', 'FCGR3A Monocytes', 'CD14 Monocytes', 'FCGR3A Monocytes', 'CD14 Monocytes', 'FCGR3A Monocytes', 'FCGR3A Monocytes', 'CD14 Monocytes', 'CD14 Monocytes', 'CD14 Monocytes', 'CD14 Monocytes', 'FCGR3A Monocytes', 'Dendritic', 'FCGR3A Monocytes', 'CD14 Monocytes', 'FCGR3A Monocytes', 'CD14 Monocytes', 'CD14 Monocytes', 'CD14 Monocytes', 'CD14 Monocytes', 'FCGR3A Monocytes', 'FCGR3A Monocytes', 'CD14 Monocytes', 'Dendritic', 'FCGR3A Monocytes', 'CD14 Monocytes', 'CD14 Monocytes', 'CD14 Monocytes', 'CD14 Monocytes', 'CD14 Monocytes', 'CD14 Monocytes', 'CD14 Monocytes', 'CD14 Monocytes', 'CD14 Monocytes', 'CD14 Monocytes', 'CD14 Monocytes', 'CD14 Monocytes', 'FCGR3A Monocytes', 'CD14 Monocytes', 'CD14 Monocytes', 'FCGR3A Monocytes', 'CD14 Monocytes', 'FCGR3A Monocytes', 'FCGR3A Monocytes', 'CD14 Monocytes', 'CD14 Monocytes', 'CD14 Monocytes', 'CD14 Monocytes', 'CD14 Monocytes', 'FCGR3A Monocytes', 'FCGR3A Monocytes', 'CD14 Monocytes', 'CD14 Monocytes', 'CD14 Monocytes', 'CD14 Monocytes', 'FCGR3A Monocytes', 'CD14 Monocytes', 'CD14 Monocytes', 'CD14 Monocytes', 'Dendritic', 'CD14 Monocytes', 'CD14 Monocytes', 'CD14 Monocytes', 'CD14 Monocytes', 'CD14 Monocytes', 'CD14 Monocytes', 'CD14 Monocytes', 'CD14 Monocytes', 'CD14 Monocytes', 'CD14 Monocytes', 'CD14 Monocytes', 'CD14 Monocytes', 'CD14 Monocytes', 'CD14 Monocytes', 'FCGR3A Monocytes', 'CD14 Monocytes', 'CD14 Monocytes', 'CD14 Monocytes', 'CD14 Monocytes', 'CD14 Monocytes', 'CD14 Monocytes', 'CD14 Monocytes', 'CD14 Monocytes', 'CD14 Monocytes', 'FCGR3A Monocytes', 'FCGR3A Monocytes', 'FCGR3A Monocytes', 'FCGR3A Monocytes', 'CD14 Monocytes', 'CD14 Monocytes', 'CD14 Monocytes', 'CD14 Monocytes', 'CD14 Monocytes', 'FCGR3A Monocytes', 'FCGR3A Monocytes', 'Dendritic', 'CD14 Monocytes', 'CD14 Monocytes', 'CD14 Monocytes', 'CD14 Monocytes', 'FCGR3A Monocytes', 'CD14 Monocytes', 'CD14 Monocytes', 'FCGR3A Monocytes', 'CD14 Monocytes', 'CD14 Monocytes', 'CD14 Monocytes', 'Dendritic', 'CD14 Monocytes', 'CD14 Monocytes', 'CD14 Monocytes', 'CD14 Monocytes', 'CD14 Monocytes', 'CD14 Monocytes', 'CD14 Monocytes', 'CD14 Monocytes', 'FCGR3A Monocytes', 'CD14 Monocytes', 'CD14 Monocytes', 'CD14 Monocytes', 'CD14 Monocytes', 'CD14 Monocytes', 'CD14 Monocytes', 'FCGR3A Monocytes', 'FCGR3A Monocytes', 'CD14 Monocytes', 'CD14 Monocytes', 'CD14 Monocytes', 'CD14 Monocytes', 'CD14 Monocytes', 'FCGR3A Monocytes', 'CD14 Monocytes', 'CD14 Monocytes', 'FCGR3A Monocytes', 'CD14 Monocytes', 'CD14 Monocytes', 'CD14 Monocytes', 'Dendritic', 'CD14 Monocytes', 'CD14 Monocytes', 'CD14 Monocytes', 'FCGR3A Monocytes', 'CD14 Monocytes', 'CD14 Monocytes', 'CD14 Monocytes', 'FCGR3A Monocytes', 'CD14 Monocytes', 'CD14 Monocytes', 'FCGR3A Monocytes', 'CD14 Monocytes', 'CD14 Monocytes', 'CD14 Monocytes', 'CD14 Monocytes', 'CD14 Monocytes', 'CD14 Monocytes', 'CD14 Monocytes', 'CD14 Monocytes', 'CD14 Monocytes', 'CD14 Monocytes', 'CD14 Monocytes', 'CD14 Monocytes', 'CD14 Monocytes', 'CD14 Monocytes', 'CD14 Monocytes', 'CD14 Monocytes', 'CD14 Monocytes', 'CD14 Monocytes', 'CD14 Monocytes', 'CD14 Monocytes', 'CD14 Monocytes', 'CD14 Monocytes', 'CD14 Monocytes', 'CD14 Monocytes', 'CD14 Monocytes', 'CD14 Monocytes', 'CD14 Monocytes', 'FCGR3A Monocytes', 'CD14 Monocytes', 'CD14 Monocytes', 'CD14 Monocytes', 'CD14 Monocytes', 'FCGR3A Monocytes', 'FCGR3A Monocytes', 'CD14 Monocytes', 'CD14 Monocytes', 'CD14 Monocytes', 'CD14 Monocytes', 'FCGR3A Monocytes', 'CD14 Monocytes', 'CD14 Monocytes', 'CD14 Monocytes', 'CD14 Monocytes', 'CD14 Monocytes', 'FCGR3A Monocytes', 'Dendritic', 'CD14 Monocytes', 'CD14 Monocytes', 'CD14 Monocytes', 'CD14 Monocytes', 'CD14 Monocytes', 'CD14 Monocytes', 'CD14 Monocytes', 'FCGR3A Monocytes', 'FCGR3A Monocytes', 'CD14 Monocytes', 'CD14 Monocytes', 'CD14 Monocytes', 'CD14 Monocytes', 'FCGR3A Monocytes', 'CD14 Monocytes', 'FCGR3A Monocytes', 'CD14 Monocytes', 'CD14 Monocytes', 'CD14 Monocytes', 'CD14 Monocytes', 'CD14 Monocytes', 'FCGR3A Monocytes', 'CD14 Monocytes', 'FCGR3A Monocytes', 'CD14 Monocytes', 'CD14 Monocytes', 'FCGR3A Monocytes', 'FCGR3A Monocytes', 'CD14 Monocytes', 'CD14 Monocytes', 'CD14 Monocytes', 'CD14 Monocytes', 'CD14 Monocytes', 'CD14 Monocytes', 'CD14 Monocytes', 'Dendritic', 'CD14 Monocytes', 'CD14 Monocytes', 'FCGR3A Monocytes', 'CD14 Monocytes', 'CD14 Monocytes', 'CD14 Monocytes', 'CD14 Monocytes', 'CD14 Monocytes', 'CD14 Monocytes', 'CD14 Monocytes', 'FCGR3A Monocytes', 'Dendritic', 'CD14 Monocytes', 'CD14 Monocytes', 'FCGR3A Monocytes', 'CD14 Monocytes', 'CD14 Monocytes', 'CD14 Monocytes', 'CD14 Monocytes', 'Dendritic', 'CD14 Monocytes', 'FCGR3A Monocytes', 'CD14 Monocytes', 'FCGR3A Monocytes', 'FCGR3A Monocytes', 'Dendritic', 'CD14 Monocytes', 'CD14 Monocytes', 'FCGR3A Monocytes', 'CD14 Monocytes', 'CD14 Monocytes', 'CD14 Monocytes', 'CD14 Monocytes', 'CD14 Monocytes', 'CD14 Monocytes', 'FCGR3A Monocytes', 'CD14 Monocytes', 'CD14 Monocytes', 'FCGR3A Monocytes', 'CD14 Monocytes', 'FCGR3A Monocytes', 'CD14 Monocytes', 'CD14 Monocytes', 'CD14 Monocytes', 'CD14 Monocytes', 'CD14 Monocytes', 'CD14 Monocytes', 'Dendritic', 'CD14 Monocytes', 'FCGR3A Monocytes', 'CD14 Monocytes', 'CD14 Monocytes', 'CD14 Monocytes', 'CD14 Monocytes', 'CD14 Monocytes', 'CD14 Monocytes', 'CD14 Monocytes', 'CD14 Monocytes', 'CD14 Monocytes', 'CD14 Monocytes', 'CD14 Monocytes', 'Dendritic', 'FCGR3A Monocytes', 'FCGR3A Monocytes', 'CD14 Monocytes', 'CD14 Monocytes', 'CD14 Monocytes', 'FCGR3A Monocytes', 'FCGR3A Monocytes', 'CD14 Monocytes', 'CD14 Monocytes', 'FCGR3A Monocytes', 'CD14 Monocytes', 'FCGR3A Monocytes', 'CD14 Monocytes', 'CD14 Monocytes', 'CD14 Monocytes', 'FCGR3A Monocytes', 'CD14 Monocytes', 'Dendritic', 'CD14 Monocytes', 'CD14 Monocytes', 'CD14 Monocytes', 'CD14 Monocytes', 'CD14 Monocytes', 'CD14 Monocytes', 'CD14 Monocytes', 'CD14 Monocytes', 'CD14 Monocytes', 'CD14 Monocytes', 'CD14 Monocytes', 'FCGR3A Monocytes', 'CD14 Monocytes', 'CD14 Monocytes', 'CD14 Monocytes', 'Dendritic', 'CD14 Monocytes', 'CD14 Monocytes', 'FCGR3A Monocytes', 'CD14 Monocytes', 'CD14 Monocytes', 'CD14 Monocytes', 'FCGR3A Monocytes', 'CD14 Monocytes', 'CD14 Monocytes', 'FCGR3A Monocytes', 'CD14 Monocytes', 'CD14 Monocytes', 'CD14 Monocytes', 'CD14 Monocytes', 'CD14 Monocytes', 'CD14 Monocytes', 'FCGR3A Monocytes', 'CD14 Monocytes', 'CD14 Monocytes', 'CD14 Monocytes', 'CD14 Monocytes', 'CD14 Monocytes', 'CD14 Monocytes', 'CD14 Monocytes', 'FCGR3A Monocytes', 'CD14 Monocytes', 'CD14 Monocytes', 'CD14 Monocytes', 'CD14 Monocytes', 'CD14 Monocytes', 'CD14 Monocytes', 'CD14 Monocytes', 'CD14 Monocytes', 'CD14 Monocytes', 'FCGR3A Monocytes', 'CD14 Monocytes', 'CD14 Monocytes', 'CD14 Monocytes', 'CD14 Monocytes', 'FCGR3A Monocytes', 'CD14 Monocytes', 'CD14 Monocytes', 'FCGR3A Monocytes', 'Dendritic', 'CD14 Monocytes', 'FCGR3A Monocytes', 'FCGR3A Monocytes', 'CD14 Monocytes', 'CD14 Monocytes', 'CD14 Monocytes', 'CD14 Monocytes', 'CD14 Monocytes', 'CD14 Monocytes', 'CD14 Monocytes', 'FCGR3A Monocytes', 'CD14 Monocytes', 'FCGR3A Monocytes', 'CD14 Monocytes', 'CD14 Monocytes', 'CD14 Monocytes', 'CD14 Monocytes', 'FCGR3A Monocytes', 'CD14 Monocytes', 'CD14 Monocytes', 'CD14 Monocytes', 'CD14 Monocytes', 'CD14 Monocytes', 'FCGR3A Monocytes', 'CD14 Monocytes', 'CD14 Monocytes', 'CD14 Monocytes', 'CD14 Monocytes', 'FCGR3A Monocytes', 'FCGR3A Monocytes', 'CD14 Monocytes', 'FCGR3A Monocytes', 'CD14 Monocytes', 'CD14 Monocytes', 'CD14 Monocytes', 'CD14 Monocytes', 'FCGR3A Monocytes', 'FCGR3A Monocytes', 'CD14 Monocytes', 'CD14 Monocytes', 'FCGR3A Monocytes', 'CD14 Monocytes', 'FCGR3A Monocytes', 'CD14 Monocytes', 'CD14 Monocytes', 'CD14 Monocytes', 'FCGR3A Monocytes', 'CD14 Monocytes', 'CD14 Monocytes', 'CD14 Monocytes', 'CD14 Monocytes', 'CD14 Monocytes', 'FCGR3A Monocytes', 'CD14 Monocytes', 'CD14 Monocytes', 'FCGR3A Monocytes', 'CD14 Monocytes', 'CD14 Monocytes', 'FCGR3A Monocytes', 'CD14 Monocytes', 'Dendritic', 'CD14 Monocytes', 'CD14 Monocytes', 'CD14 Monocytes', 'CD14 Monocytes', 'CD14 Monocytes', 'CD14 Monocytes', 'CD14 Monocytes', 'CD14 Monocytes', 'CD14 Monocytes', 'CD14 Monocytes', 'CD14 Monocytes', 'CD14 Monocytes', 'FCGR3A Monocytes', 'CD14 Monocytes', 'CD14 Monocytes', 'FCGR3A Monocytes', 'FCGR3A Monocytes', 'CD14 Monocytes', 'CD14 Monocytes', 'CD14 Monocytes', 'CD14 Monocytes', 'FCGR3A Monocytes', 'CD14 Monocytes', 'CD14 Monocytes', 'CD14 Monocytes', 'FCGR3A Monocytes', 'CD14 Monocytes', 'CD14 Monocytes', 'FCGR3A Monocytes', 'FCGR3A Monocytes', 'Dendritic', 'CD14 Monocytes', 'CD14 Monocytes', 'CD14 Monocytes', 'CD14 Monocytes', 'CD14 Monocytes', 'Dendritic', 'FCGR3A Monocytes', 'CD14 Monocytes', 'CD14 Monocytes', 'FCGR3A Monocytes', 'Dendritic', 'CD14 Monocytes', 'CD14 Monocytes', 'CD14 Monocytes', 'CD14 Monocytes', 'CD14 Monocytes', 'Dendritic', 'CD14 Monocytes', 'CD14 Monocytes', 'CD14 Monocytes', 'FCGR3A Monocytes', 'CD14 Monocytes', 'FCGR3A Monocytes', 'CD14 Monocytes', 'CD14 Monocytes', 'CD14 Monocytes', 'CD14 Monocytes', 'FCGR3A Monocytes', 'FCGR3A Monocytes', 'CD14 Monocytes', 'Dendritic', 'CD14 Monocytes', 'CD14 Monocytes', 'CD14 Monocytes', 'FCGR3A Monocytes', 'CD14 Monocytes', 'CD14 Monocytes', 'CD14 Monocytes', 'CD14 Monocytes']\n",
            "Epoch 1/50\n",
            "6/6 [==============================] - 0s 30ms/step - loss: 1.0434 - val_loss: 1.0274\n",
            "Epoch 2/50\n",
            "6/6 [==============================] - 0s 6ms/step - loss: 1.0138 - val_loss: 0.9856\n",
            "Epoch 3/50\n",
            "6/6 [==============================] - 0s 7ms/step - loss: 0.9698 - val_loss: 0.9347\n",
            "Epoch 4/50\n",
            "6/6 [==============================] - 0s 6ms/step - loss: 0.9184 - val_loss: 0.8823\n",
            "Epoch 5/50\n",
            "6/6 [==============================] - 0s 7ms/step - loss: 0.8666 - val_loss: 0.8319\n",
            "Epoch 6/50\n",
            "6/6 [==============================] - 0s 6ms/step - loss: 0.8167 - val_loss: 0.7849\n",
            "Epoch 7/50\n",
            "6/6 [==============================] - 0s 6ms/step - loss: 0.7715 - val_loss: 0.7416\n",
            "Epoch 8/50\n",
            "6/6 [==============================] - 0s 7ms/step - loss: 0.7284 - val_loss: 0.7025\n",
            "Epoch 9/50\n",
            "6/6 [==============================] - 0s 7ms/step - loss: 0.6895 - val_loss: 0.6673\n",
            "Epoch 10/50\n",
            "6/6 [==============================] - 0s 6ms/step - loss: 0.6539 - val_loss: 0.6357\n",
            "Epoch 11/50\n",
            "6/6 [==============================] - 0s 6ms/step - loss: 0.6220 - val_loss: 0.6073\n",
            "Epoch 12/50\n",
            "6/6 [==============================] - 0s 6ms/step - loss: 0.5930 - val_loss: 0.5818\n",
            "Epoch 13/50\n",
            "6/6 [==============================] - 0s 6ms/step - loss: 0.5666 - val_loss: 0.5585\n",
            "Epoch 14/50\n",
            "6/6 [==============================] - 0s 6ms/step - loss: 0.5421 - val_loss: 0.5373\n",
            "Epoch 15/50\n",
            "6/6 [==============================] - 0s 6ms/step - loss: 0.5194 - val_loss: 0.5175\n",
            "Epoch 16/50\n",
            "6/6 [==============================] - 0s 6ms/step - loss: 0.4987 - val_loss: 0.4996\n",
            "Epoch 17/50\n",
            "6/6 [==============================] - 0s 6ms/step - loss: 0.4796 - val_loss: 0.4832\n",
            "Epoch 18/50\n",
            "6/6 [==============================] - 0s 8ms/step - loss: 0.4619 - val_loss: 0.4681\n",
            "Epoch 19/50\n",
            "6/6 [==============================] - 0s 6ms/step - loss: 0.4457 - val_loss: 0.4542\n",
            "Epoch 20/50\n",
            "6/6 [==============================] - 0s 7ms/step - loss: 0.4302 - val_loss: 0.4416\n",
            "Epoch 21/50\n",
            "6/6 [==============================] - 0s 6ms/step - loss: 0.4165 - val_loss: 0.4300\n",
            "Epoch 22/50\n",
            "6/6 [==============================] - 0s 6ms/step - loss: 0.4035 - val_loss: 0.4195\n",
            "Epoch 23/50\n",
            "6/6 [==============================] - 0s 6ms/step - loss: 0.3916 - val_loss: 0.4097\n",
            "Epoch 24/50\n",
            "6/6 [==============================] - 0s 6ms/step - loss: 0.3804 - val_loss: 0.4007\n",
            "Epoch 25/50\n",
            "6/6 [==============================] - 0s 6ms/step - loss: 0.3699 - val_loss: 0.3924\n",
            "Epoch 26/50\n",
            "6/6 [==============================] - 0s 7ms/step - loss: 0.3600 - val_loss: 0.3847\n",
            "Epoch 27/50\n",
            "6/6 [==============================] - 0s 7ms/step - loss: 0.3510 - val_loss: 0.3776\n",
            "Epoch 28/50\n",
            "6/6 [==============================] - 0s 6ms/step - loss: 0.3423 - val_loss: 0.3708\n",
            "Epoch 29/50\n",
            "6/6 [==============================] - 0s 6ms/step - loss: 0.3343 - val_loss: 0.3644\n",
            "Epoch 30/50\n",
            "6/6 [==============================] - 0s 6ms/step - loss: 0.3267 - val_loss: 0.3583\n",
            "Epoch 31/50\n",
            "6/6 [==============================] - 0s 6ms/step - loss: 0.3194 - val_loss: 0.3527\n",
            "Epoch 32/50\n",
            "6/6 [==============================] - 0s 7ms/step - loss: 0.3126 - val_loss: 0.3473\n",
            "Epoch 33/50\n",
            "6/6 [==============================] - 0s 6ms/step - loss: 0.3062 - val_loss: 0.3421\n",
            "Epoch 34/50\n",
            "6/6 [==============================] - 0s 6ms/step - loss: 0.3000 - val_loss: 0.3372\n",
            "Epoch 35/50\n",
            "6/6 [==============================] - 0s 6ms/step - loss: 0.2941 - val_loss: 0.3324\n",
            "Epoch 36/50\n",
            "6/6 [==============================] - 0s 6ms/step - loss: 0.2887 - val_loss: 0.3280\n",
            "Epoch 37/50\n",
            "6/6 [==============================] - 0s 6ms/step - loss: 0.2833 - val_loss: 0.3239\n",
            "Epoch 38/50\n",
            "6/6 [==============================] - 0s 6ms/step - loss: 0.2782 - val_loss: 0.3200\n",
            "Epoch 39/50\n",
            "6/6 [==============================] - 0s 7ms/step - loss: 0.2734 - val_loss: 0.3163\n",
            "Epoch 40/50\n",
            "6/6 [==============================] - 0s 6ms/step - loss: 0.2688 - val_loss: 0.3127\n",
            "Epoch 41/50\n",
            "6/6 [==============================] - 0s 6ms/step - loss: 0.2644 - val_loss: 0.3091\n",
            "Epoch 42/50\n",
            "6/6 [==============================] - 0s 6ms/step - loss: 0.2603 - val_loss: 0.3055\n",
            "Epoch 43/50\n",
            "6/6 [==============================] - 0s 6ms/step - loss: 0.2561 - val_loss: 0.3021\n",
            "Epoch 44/50\n",
            "6/6 [==============================] - 0s 6ms/step - loss: 0.2523 - val_loss: 0.2988\n",
            "Epoch 45/50\n",
            "6/6 [==============================] - 0s 6ms/step - loss: 0.2486 - val_loss: 0.2956\n",
            "Epoch 46/50\n",
            "6/6 [==============================] - 0s 6ms/step - loss: 0.2450 - val_loss: 0.2926\n",
            "Epoch 47/50\n",
            "6/6 [==============================] - 0s 6ms/step - loss: 0.2415 - val_loss: 0.2898\n",
            "Epoch 48/50\n",
            "6/6 [==============================] - 0s 6ms/step - loss: 0.2383 - val_loss: 0.2870\n",
            "Epoch 49/50\n",
            "6/6 [==============================] - 0s 6ms/step - loss: 0.2350 - val_loss: 0.2842\n",
            "Epoch 50/50\n",
            "6/6 [==============================] - 0s 7ms/step - loss: 0.2319 - val_loss: 0.2815\n"
          ]
        }
      ]
    },
    {
      "cell_type": "code",
      "source": [
        "#accuracy of myeloic classifier model \n",
        "print(hc.graph.nodes['Myeloisch']['memory'].training_acc)\n",
        "\n",
        "print(hc.graph.nodes['Myeloisch']['memory'].test_acc)"
      ],
      "metadata": {
        "colab": {
          "base_uri": "https://localhost:8080/"
        },
        "id": "7_Mzndb1y2pt",
        "outputId": "257fb730-85e0-4f4a-8d1e-8b3d9c28de98"
      },
      "execution_count": 488,
      "outputs": [
        {
          "output_type": "stream",
          "name": "stdout",
          "text": [
            "0.9487870619946092\n",
            "0.956989247311828\n"
          ]
        }
      ]
    },
    {
      "cell_type": "markdown",
      "source": [
        "Aktuell implementierte Objektauswahl macht Durchführung der Klassifizierung für 'Others' Knoten mit nur einem Tochterknoten sinnlos -> bräuchte direkte Ausgabe der softmax Aktivierungsfunktion um Wahrscheinlichkeiten auszugeben und dann eine confidence based entscheidung anstelle von auswahl des höchsten wertes (wäre dann immer eben der eine zur Wahl stehende Tochterknoten)"
      ],
      "metadata": {
        "id": "krNvN2Hszjpy"
      }
    },
    {
      "cell_type": "code",
      "source": [
        "#Neural_Netwok.model.summary() shows summary of hidden and output layers and trainable parameter"
      ],
      "metadata": {
        "id": "qkFJXBlVXbSt"
      },
      "execution_count": 490,
      "outputs": []
    },
    {
      "cell_type": "markdown",
      "source": [
        ""
      ],
      "metadata": {
        "id": "6hQW1Xn-U9hn"
      }
    }
  ]
}